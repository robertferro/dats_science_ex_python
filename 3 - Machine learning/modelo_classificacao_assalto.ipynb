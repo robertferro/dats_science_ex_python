{
 "cells": [
  {
   "cell_type": "markdown",
   "metadata": {
    "id": "Uh7x-tzWVS4M"
   },
   "source": [
    "This dataset includes all valid felony, misdemeanor, and violation crimes reported to the New York City Police Department (NYPD) from 2006 to the end of last year (2019). For additional details, please see the attached data dictionary in the ‘About’ section.\n",
    "\n",
    "link: https://data.cityofnewyork.us/Public-Safety/NYPD-Complaint-Data-Historic/qgea-i56i"
   ]
  },
  {
   "cell_type": "markdown",
   "metadata": {},
   "source": [
    "- Objetivo:\n",
    "\n",
    "- Classificar se determinada é segura ou não com relação a ocorrência dr crimes de  assalto ou roubo."
   ]
  },
  {
   "cell_type": "markdown",
   "metadata": {
    "id": "UNGGYIF-YiiD"
   },
   "source": [
    "## 1 - Carregando os dados."
   ]
  },
  {
   "cell_type": "code",
   "execution_count": 71,
   "metadata": {
    "id": "amWCtd1dabda"
   },
   "outputs": [],
   "source": [
    "import pandas as pd\n",
    "import numpy as np\n",
    "import matplotlib.pyplot as plt\n",
    "import seaborn as sns"
   ]
  },
  {
   "cell_type": "code",
   "execution_count": 72,
   "metadata": {
    "id": "TtLKjCb5a4WK"
   },
   "outputs": [],
   "source": [
    "df = pd.read_csv('delitos_novo_nyc.csv',sep=',')"
   ]
  },
  {
   "cell_type": "code",
   "execution_count": 73,
   "metadata": {},
   "outputs": [
    {
     "data": {
      "text/html": [
       "<div>\n",
       "<style scoped>\n",
       "    .dataframe tbody tr th:only-of-type {\n",
       "        vertical-align: middle;\n",
       "    }\n",
       "\n",
       "    .dataframe tbody tr th {\n",
       "        vertical-align: top;\n",
       "    }\n",
       "\n",
       "    .dataframe thead th {\n",
       "        text-align: right;\n",
       "    }\n",
       "</style>\n",
       "<table border=\"1\" class=\"dataframe\">\n",
       "  <thead>\n",
       "    <tr style=\"text-align: right;\">\n",
       "      <th></th>\n",
       "      <th>desc_instalacoes</th>\n",
       "      <th>delito</th>\n",
       "      <th>data_da_ocorr</th>\n",
       "      <th>hora_da_ocorr</th>\n",
       "      <th>conclusao</th>\n",
       "      <th>desc_delito</th>\n",
       "      <th>nivel_delito</th>\n",
       "      <th>loc_esp_delito</th>\n",
       "      <th>bairro</th>\n",
       "      <th>latitude</th>\n",
       "      <th>...</th>\n",
       "      <th>dia</th>\n",
       "      <th>mes</th>\n",
       "      <th>ano</th>\n",
       "      <th>dia_da_semana</th>\n",
       "      <th>idade_vitima</th>\n",
       "      <th>raca_vitima</th>\n",
       "      <th>sexo_vitima</th>\n",
       "      <th>noite</th>\n",
       "      <th>assalto</th>\n",
       "      <th>fds</th>\n",
       "    </tr>\n",
       "  </thead>\n",
       "  <tbody>\n",
       "    <tr>\n",
       "      <th>0</th>\n",
       "      <td>COMMERCIAL BUILDING</td>\n",
       "      <td>THEFT-FRAUD</td>\n",
       "      <td>2006-01-01</td>\n",
       "      <td>00:01:00</td>\n",
       "      <td>1</td>\n",
       "      <td>FRAUD,UNCLASSIFIED-FELONY</td>\n",
       "      <td>crime</td>\n",
       "      <td>dentro</td>\n",
       "      <td>Brooklyn</td>\n",
       "      <td>40.602071</td>\n",
       "      <td>...</td>\n",
       "      <td>1</td>\n",
       "      <td>1</td>\n",
       "      <td>2006</td>\n",
       "      <td>domingo</td>\n",
       "      <td>25-44</td>\n",
       "      <td>WHITE</td>\n",
       "      <td>M</td>\n",
       "      <td>1</td>\n",
       "      <td>0</td>\n",
       "      <td>0</td>\n",
       "    </tr>\n",
       "    <tr>\n",
       "      <th>1</th>\n",
       "      <td>RESIDENCE - APT. HOUSE</td>\n",
       "      <td>SEX CRIMES</td>\n",
       "      <td>2006-01-01</td>\n",
       "      <td>00:01:00</td>\n",
       "      <td>1</td>\n",
       "      <td>SEXUAL ABUSE 3,2</td>\n",
       "      <td>contravencao</td>\n",
       "      <td>dentro</td>\n",
       "      <td>Brooklyn</td>\n",
       "      <td>40.697964</td>\n",
       "      <td>...</td>\n",
       "      <td>1</td>\n",
       "      <td>1</td>\n",
       "      <td>2006</td>\n",
       "      <td>domingo</td>\n",
       "      <td>NaN</td>\n",
       "      <td>UNKNOWN</td>\n",
       "      <td>F</td>\n",
       "      <td>1</td>\n",
       "      <td>0</td>\n",
       "      <td>0</td>\n",
       "    </tr>\n",
       "    <tr>\n",
       "      <th>2</th>\n",
       "      <td>RESIDENCE-HOUSE</td>\n",
       "      <td>SEX CRIMES</td>\n",
       "      <td>2006-01-01</td>\n",
       "      <td>00:01:00</td>\n",
       "      <td>1</td>\n",
       "      <td>AGGRAVATED SEXUAL ASBUSE</td>\n",
       "      <td>crime</td>\n",
       "      <td>dentro</td>\n",
       "      <td>Brooklyn</td>\n",
       "      <td>40.671107</td>\n",
       "      <td>...</td>\n",
       "      <td>1</td>\n",
       "      <td>1</td>\n",
       "      <td>2006</td>\n",
       "      <td>domingo</td>\n",
       "      <td>&lt;18</td>\n",
       "      <td>BLACK</td>\n",
       "      <td>F</td>\n",
       "      <td>1</td>\n",
       "      <td>0</td>\n",
       "      <td>0</td>\n",
       "    </tr>\n",
       "    <tr>\n",
       "      <th>3</th>\n",
       "      <td>RESIDENCE-HOUSE</td>\n",
       "      <td>SEX CRIMES</td>\n",
       "      <td>2006-01-01</td>\n",
       "      <td>09:00:00</td>\n",
       "      <td>1</td>\n",
       "      <td>SEXUAL ABUSE</td>\n",
       "      <td>crime</td>\n",
       "      <td>dentro</td>\n",
       "      <td>Queens</td>\n",
       "      <td>40.586466</td>\n",
       "      <td>...</td>\n",
       "      <td>1</td>\n",
       "      <td>1</td>\n",
       "      <td>2006</td>\n",
       "      <td>domingo</td>\n",
       "      <td>&lt;18</td>\n",
       "      <td>AMERICAN INDIAN/ALASKAN NATIVE</td>\n",
       "      <td>F</td>\n",
       "      <td>0</td>\n",
       "      <td>0</td>\n",
       "      <td>0</td>\n",
       "    </tr>\n",
       "    <tr>\n",
       "      <th>4</th>\n",
       "      <td>RESIDENCE-HOUSE</td>\n",
       "      <td>SEX CRIMES</td>\n",
       "      <td>2006-01-01</td>\n",
       "      <td>00:01:00</td>\n",
       "      <td>1</td>\n",
       "      <td>SEXUAL ABUSE 3,2</td>\n",
       "      <td>contravencao</td>\n",
       "      <td>dentro</td>\n",
       "      <td>Brooklyn</td>\n",
       "      <td>40.697964</td>\n",
       "      <td>...</td>\n",
       "      <td>1</td>\n",
       "      <td>1</td>\n",
       "      <td>2006</td>\n",
       "      <td>domingo</td>\n",
       "      <td>&lt;18</td>\n",
       "      <td>BLACK</td>\n",
       "      <td>F</td>\n",
       "      <td>1</td>\n",
       "      <td>0</td>\n",
       "      <td>0</td>\n",
       "    </tr>\n",
       "  </tbody>\n",
       "</table>\n",
       "<p>5 rows × 22 columns</p>\n",
       "</div>"
      ],
      "text/plain": [
       "         desc_instalacoes       delito data_da_ocorr hora_da_ocorr  conclusao  \\\n",
       "0     COMMERCIAL BUILDING  THEFT-FRAUD    2006-01-01      00:01:00          1   \n",
       "1  RESIDENCE - APT. HOUSE   SEX CRIMES    2006-01-01      00:01:00          1   \n",
       "2         RESIDENCE-HOUSE   SEX CRIMES    2006-01-01      00:01:00          1   \n",
       "3         RESIDENCE-HOUSE   SEX CRIMES    2006-01-01      09:00:00          1   \n",
       "4         RESIDENCE-HOUSE   SEX CRIMES    2006-01-01      00:01:00          1   \n",
       "\n",
       "                 desc_delito  nivel_delito loc_esp_delito    bairro  \\\n",
       "0  FRAUD,UNCLASSIFIED-FELONY         crime         dentro  Brooklyn   \n",
       "1           SEXUAL ABUSE 3,2  contravencao         dentro  Brooklyn   \n",
       "2   AGGRAVATED SEXUAL ASBUSE         crime         dentro  Brooklyn   \n",
       "3               SEXUAL ABUSE         crime         dentro    Queens   \n",
       "4           SEXUAL ABUSE 3,2  contravencao         dentro  Brooklyn   \n",
       "\n",
       "    latitude ...   dia  mes   ano  dia_da_semana  idade_vitima  \\\n",
       "0  40.602071 ...     1    1  2006        domingo         25-44   \n",
       "1  40.697964 ...     1    1  2006        domingo           NaN   \n",
       "2  40.671107 ...     1    1  2006        domingo           <18   \n",
       "3  40.586466 ...     1    1  2006        domingo           <18   \n",
       "4  40.697964 ...     1    1  2006        domingo           <18   \n",
       "\n",
       "                      raca_vitima sexo_vitima noite assalto  fds  \n",
       "0                           WHITE           M     1       0    0  \n",
       "1                         UNKNOWN           F     1       0    0  \n",
       "2                           BLACK           F     1       0    0  \n",
       "3  AMERICAN INDIAN/ALASKAN NATIVE           F     0       0    0  \n",
       "4                           BLACK           F     1       0    0  \n",
       "\n",
       "[5 rows x 22 columns]"
      ]
     },
     "execution_count": 73,
     "metadata": {},
     "output_type": "execute_result"
    }
   ],
   "source": [
    "df.head()"
   ]
  },
  {
   "cell_type": "code",
   "execution_count": 75,
   "metadata": {},
   "outputs": [
    {
     "data": {
      "text/plain": [
       "0    0.69035\n",
       "1    0.30965\n",
       "Name: assalto, dtype: float64"
      ]
     },
     "execution_count": 75,
     "metadata": {},
     "output_type": "execute_result"
    }
   ],
   "source": [
    "df.assalto.value_counts(normalize=True)"
   ]
  },
  {
   "cell_type": "markdown",
   "metadata": {},
   "source": [
    "- Selecionando as colunas para a modelagem."
   ]
  },
  {
   "cell_type": "code",
   "execution_count": 76,
   "metadata": {},
   "outputs": [],
   "source": [
    "dados_ml = df[['hora','noite','dia','dia_da_semana','mes','fds',\n",
    "                  'bairro','desc_instalacoes','sexo_vitima',\n",
    "                  'latitude', 'longitude','assalto']]"
   ]
  },
  {
   "cell_type": "code",
   "execution_count": 79,
   "metadata": {},
   "outputs": [
    {
     "name": "stdout",
     "output_type": "stream",
     "text": [
      "<class 'pandas.core.frame.DataFrame'>\n",
      "Int64Index: 488539 entries, 0 to 490507\n",
      "Data columns (total 12 columns):\n",
      "hora                488539 non-null int64\n",
      "noite               488539 non-null int64\n",
      "dia                 488539 non-null int64\n",
      "dia_da_semana       488539 non-null object\n",
      "mes                 488539 non-null int64\n",
      "fds                 488539 non-null int64\n",
      "bairro              488539 non-null object\n",
      "desc_instalacoes    488539 non-null object\n",
      "sexo_vitima         488539 non-null object\n",
      "latitude            488539 non-null float64\n",
      "longitude           488539 non-null float64\n",
      "assalto             488539 non-null int64\n",
      "dtypes: float64(2), int64(6), object(4)\n",
      "memory usage: 48.5+ MB\n"
     ]
    }
   ],
   "source": [
    "dados_ml.info()"
   ]
  },
  {
   "cell_type": "code",
   "execution_count": 78,
   "metadata": {},
   "outputs": [],
   "source": [
    "dados_ml = dados_ml.dropna()"
   ]
  },
  {
   "cell_type": "markdown",
   "metadata": {},
   "source": [
    "- Tratando variáveis categóricas."
   ]
  },
  {
   "cell_type": "code",
   "execution_count": 80,
   "metadata": {},
   "outputs": [],
   "source": [
    "\n",
    "from sklearn.preprocessing import LabelEncoder\n",
    "\n",
    "lb = LabelEncoder()\n",
    "\n",
    "dados_ml['dia_da_semana'] = lb.fit_transform(dados_ml['dia_da_semana'])\n",
    "dados_ml['bairro'] = lb.fit_transform(dados_ml['bairro'])\n",
    "dados_ml['desc_instalacoes'] = lb.fit_transform(dados_ml['desc_instalacoes'])\n",
    "dados_ml['sexo_vitima'] = lb.fit_transform(dados_ml['sexo_vitima'])\n",
    "\n",
    "# dados_ml = pd.get_dummies(dados_ml)\n",
    "\n",
    "# from sklearn.preprocessing import StandardScaler\n",
    "\n",
    "# scaler = StandardScaler()\n",
    "\n",
    "# for col in dados_ml.columns:\n",
    "#   if col != \"assalto\":\n",
    "#     dados_ml[col] = scaler.fit_transform(np.array(dados_ml[col]).reshape(-1,1))\n",
    "\n"
   ]
  },
  {
   "cell_type": "code",
   "execution_count": 81,
   "metadata": {},
   "outputs": [
    {
     "data": {
      "text/html": [
       "<div>\n",
       "<style scoped>\n",
       "    .dataframe tbody tr th:only-of-type {\n",
       "        vertical-align: middle;\n",
       "    }\n",
       "\n",
       "    .dataframe tbody tr th {\n",
       "        vertical-align: top;\n",
       "    }\n",
       "\n",
       "    .dataframe thead th {\n",
       "        text-align: right;\n",
       "    }\n",
       "</style>\n",
       "<table border=\"1\" class=\"dataframe\">\n",
       "  <thead>\n",
       "    <tr style=\"text-align: right;\">\n",
       "      <th></th>\n",
       "      <th>hora</th>\n",
       "      <th>noite</th>\n",
       "      <th>dia</th>\n",
       "      <th>dia_da_semana</th>\n",
       "      <th>mes</th>\n",
       "      <th>fds</th>\n",
       "      <th>bairro</th>\n",
       "      <th>desc_instalacoes</th>\n",
       "      <th>sexo_vitima</th>\n",
       "      <th>latitude</th>\n",
       "      <th>longitude</th>\n",
       "      <th>assalto</th>\n",
       "    </tr>\n",
       "  </thead>\n",
       "  <tbody>\n",
       "    <tr>\n",
       "      <th>0</th>\n",
       "      <td>0</td>\n",
       "      <td>1</td>\n",
       "      <td>1</td>\n",
       "      <td>0</td>\n",
       "      <td>1</td>\n",
       "      <td>0</td>\n",
       "      <td>1</td>\n",
       "      <td>18</td>\n",
       "      <td>1</td>\n",
       "      <td>40.602071</td>\n",
       "      <td>-74.002692</td>\n",
       "      <td>0</td>\n",
       "    </tr>\n",
       "    <tr>\n",
       "      <th>1</th>\n",
       "      <td>0</td>\n",
       "      <td>1</td>\n",
       "      <td>1</td>\n",
       "      <td>0</td>\n",
       "      <td>1</td>\n",
       "      <td>0</td>\n",
       "      <td>1</td>\n",
       "      <td>52</td>\n",
       "      <td>0</td>\n",
       "      <td>40.697964</td>\n",
       "      <td>-73.918083</td>\n",
       "      <td>0</td>\n",
       "    </tr>\n",
       "    <tr>\n",
       "      <th>2</th>\n",
       "      <td>0</td>\n",
       "      <td>1</td>\n",
       "      <td>1</td>\n",
       "      <td>0</td>\n",
       "      <td>1</td>\n",
       "      <td>0</td>\n",
       "      <td>1</td>\n",
       "      <td>54</td>\n",
       "      <td>0</td>\n",
       "      <td>40.671107</td>\n",
       "      <td>-73.881433</td>\n",
       "      <td>0</td>\n",
       "    </tr>\n",
       "    <tr>\n",
       "      <th>3</th>\n",
       "      <td>9</td>\n",
       "      <td>0</td>\n",
       "      <td>1</td>\n",
       "      <td>0</td>\n",
       "      <td>1</td>\n",
       "      <td>0</td>\n",
       "      <td>3</td>\n",
       "      <td>54</td>\n",
       "      <td>0</td>\n",
       "      <td>40.586466</td>\n",
       "      <td>-73.816522</td>\n",
       "      <td>0</td>\n",
       "    </tr>\n",
       "    <tr>\n",
       "      <th>4</th>\n",
       "      <td>0</td>\n",
       "      <td>1</td>\n",
       "      <td>1</td>\n",
       "      <td>0</td>\n",
       "      <td>1</td>\n",
       "      <td>0</td>\n",
       "      <td>1</td>\n",
       "      <td>54</td>\n",
       "      <td>0</td>\n",
       "      <td>40.697964</td>\n",
       "      <td>-73.918083</td>\n",
       "      <td>0</td>\n",
       "    </tr>\n",
       "  </tbody>\n",
       "</table>\n",
       "</div>"
      ],
      "text/plain": [
       "   hora  noite  dia  dia_da_semana  mes  fds  bairro  desc_instalacoes  \\\n",
       "0     0      1    1              0    1    0       1                18   \n",
       "1     0      1    1              0    1    0       1                52   \n",
       "2     0      1    1              0    1    0       1                54   \n",
       "3     9      0    1              0    1    0       3                54   \n",
       "4     0      1    1              0    1    0       1                54   \n",
       "\n",
       "   sexo_vitima   latitude  longitude  assalto  \n",
       "0            1  40.602071 -74.002692        0  \n",
       "1            0  40.697964 -73.918083        0  \n",
       "2            0  40.671107 -73.881433        0  \n",
       "3            0  40.586466 -73.816522        0  \n",
       "4            0  40.697964 -73.918083        0  "
      ]
     },
     "execution_count": 81,
     "metadata": {},
     "output_type": "execute_result"
    }
   ],
   "source": [
    "dados_ml.head()"
   ]
  },
  {
   "cell_type": "markdown",
   "metadata": {
    "id": "2fEMKIkd6dNa"
   },
   "source": [
    "### Separando os dados de treino e teste."
   ]
  },
  {
   "cell_type": "code",
   "execution_count": 82,
   "metadata": {},
   "outputs": [],
   "source": [
    "from sklearn.model_selection import train_test_split"
   ]
  },
  {
   "cell_type": "code",
   "execution_count": 83,
   "metadata": {},
   "outputs": [],
   "source": [
    "X = dados_ml.drop('assalto',axis=1)\n",
    "Y = dados_ml['assalto']"
   ]
  },
  {
   "cell_type": "code",
   "execution_count": 84,
   "metadata": {},
   "outputs": [],
   "source": [
    "X_treino, X_teste,Y_treino,Y_teste = train_test_split(X,Y,test_size=0.2,random_state=42,stratify=Y)"
   ]
  },
  {
   "cell_type": "markdown",
   "metadata": {
    "id": "3GWmztzKis0a"
   },
   "source": [
    "## 4.2 **Testando algoritmos**"
   ]
  },
  {
   "cell_type": "code",
   "execution_count": 85,
   "metadata": {
    "colab": {
     "base_uri": "https://8080-cs-565886152761-default.cs-us-east1-wzxb.cloudshell.dev/"
    },
    "id": "8BZifqZwLQFR",
    "outputId": "1ffee256-385f-4f41-fd93-86196ff82ca6"
   },
   "outputs": [
    {
     "name": "stdout",
     "output_type": "stream",
     "text": [
      "A acurácia do dummy mostfrequent foi 69.09%\n"
     ]
    }
   ],
   "source": [
    "from sklearn.dummy import DummyClassifier\n",
    "\n",
    "dummy_clf = DummyClassifier(strategy=\"most_frequent\")\n",
    "dummy_clf.fit(X_treino, Y_treino)\n",
    "y_pred = dummy_clf.predict(X_teste)\n",
    "acuracia = dummy_clf.score(X_teste, Y_teste) * 100\n",
    "\n",
    "print('A acurácia do dummy mostfrequent foi %.2f%%' % acuracia)"
   ]
  },
  {
   "cell_type": "code",
   "execution_count": 86,
   "metadata": {
    "colab": {
     "base_uri": "https://8080-cs-565886152761-default.cs-us-east1-wzxb.cloudshell.dev/",
     "height": 296
    },
    "id": "jRoKkijpLTWl",
    "outputId": "7ebf0107-3e26-4ea1-a1e7-f3e0323f06a4"
   },
   "outputs": [
    {
     "data": {
      "text/plain": [
       "Text(33,0.5,'Real ( 1 ou 0)')"
      ]
     },
     "execution_count": 86,
     "metadata": {},
     "output_type": "execute_result"
    },
    {
     "data": {
      "image/png": "[encoded data removed]",
      "text/plain": [
       "<matplotlib.figure.Figure at 0x7f7bd69da4a8>"
      ]
     },
     "metadata": {},
     "output_type": "display_data"
    }
   ],
   "source": [
    "from sklearn.metrics import confusion_matrix\n",
    "\n",
    "cm=confusion_matrix(Y_teste, y_pred)\n",
    "sns.heatmap(cm, annot=True, fmt='g')\n",
    "\n",
    "plt.xlabel('Predição( 1 ou 0)')\n",
    "plt.ylabel('Real ( 1 ou 0)')"
   ]
  },
  {
   "cell_type": "code",
   "execution_count": 87,
   "metadata": {
    "colab": {
     "base_uri": "https://8080-cs-565886152761-default.cs-us-east1-wzxb.cloudshell.dev/"
    },
    "id": "-S8r-OlrLZQC",
    "outputId": "c172b463-7cd0-4b27-f59b-7e2cb3380334"
   },
   "outputs": [
    {
     "data": {
      "text/plain": [
       "0.5"
      ]
     },
     "execution_count": 87,
     "metadata": {},
     "output_type": "execute_result"
    }
   ],
   "source": [
    "from sklearn.metrics import  roc_auc_score,roc_curve, classification_report\n",
    "from sklearn import metrics\n",
    "\n",
    "y_proba = dummy_clf.predict_proba(X_teste)\n",
    "roc_auc_score(Y_teste, y_proba[:,1])"
   ]
  },
  {
   "cell_type": "code",
   "execution_count": 88,
   "metadata": {
    "colab": {
     "base_uri": "https://8080-cs-565886152761-default.cs-us-east1-wzxb.cloudshell.dev/"
    },
    "id": "7w_KKTtG2FJ7",
    "outputId": "5bcba326-50e9-4344-86ea-fc8a09e4ce6e"
   },
   "outputs": [
    {
     "name": "stdout",
     "output_type": "stream",
     "text": [
      "             precision    recall  f1-score   support\n",
      "\n",
      "          0       0.69      1.00      0.82     67507\n",
      "          1       0.00      0.00      0.00     30201\n",
      "\n",
      "avg / total       0.48      0.69      0.56     97708\n",
      "\n"
     ]
    }
   ],
   "source": [
    "print(classification_report(Y_teste, y_pred))"
   ]
  },
  {
   "cell_type": "markdown",
   "metadata": {
    "id": "XKdU_aKDnANf"
   },
   "source": [
    "### Triagem com outros modelos"
   ]
  },
  {
   "cell_type": "code",
   "execution_count": 89,
   "metadata": {
    "colab": {
     "base_uri": "https://8080-cs-565886152761-default.cs-us-east1-wzxb.cloudshell.dev/"
    },
    "id": "cgBcO3TE0U2-",
    "outputId": "1210e9ff-7479-43e1-ae6d-d2cbcc9436c7"
   },
   "outputs": [
    {
     "name": "stdout",
     "output_type": "stream",
     "text": [
      "LogisticRegression\n",
      "Acuracia\n",
      "Treino: 0.6909073231140825\n",
      "Teste: 0.6909055553281205\n",
      "ROC AUC\n",
      "Treino 0.5817619486398858\n",
      "Test 0.583227460769487\n",
      "================================================================================\n",
      "GaussianNB\n",
      "Acuracia\n",
      "Treino: 0.6770547883867963\n",
      "Teste: 0.6775699021574487\n",
      "ROC AUC\n",
      "Treino 0.6137976893091837\n",
      "Test 0.61482536320943\n",
      "================================================================================\n",
      "RandomForestClassifier\n",
      "Acuracia\n",
      "Treino: 0.9773226791119435\n",
      "Teste: 0.6837925246653294\n",
      "ROC AUC\n",
      "Treino 0.9989263671568714\n",
      "Test 0.6348732047677595\n",
      "================================================================================\n",
      "XGBClassifier\n",
      "Acuracia\n",
      "Treino: 0.6996758189601132\n",
      "Teste: 0.6991443894051664\n",
      "ROC AUC\n",
      "Treino 0.6803128117157802\n",
      "Test 0.679135937323095\n",
      "================================================================================\n"
     ]
    }
   ],
   "source": [
    "from sklearn.linear_model import LogisticRegression\n",
    "from sklearn.naive_bayes import GaussianNB\n",
    "from sklearn.ensemble import RandomForestClassifier\n",
    "from xgboost import XGBClassifier\n",
    "\n",
    "lista_classificacores = [ LogisticRegression(),\n",
    "                         GaussianNB(),\n",
    "                         RandomForestClassifier(),\n",
    "                         XGBClassifier()]\n",
    "\n",
    "for clf in lista_classificacores:\n",
    "  print(clf.__class__.__name__)\n",
    "  clf.fit(X_treino, Y_treino)\n",
    "\n",
    "  print('Acuracia')\n",
    "  train_acc = clf.score(X_treino, Y_treino)\n",
    "  test_acc = clf.score(X_teste, Y_teste)\n",
    "  print('Treino:', train_acc)\n",
    "  print('Teste:', test_acc)\n",
    "\n",
    "  print('ROC AUC')\n",
    "\n",
    "  y_proba_treino = clf.predict_proba(X_treino)\n",
    "  roc_treino = roc_auc_score(Y_treino, y_proba_treino[:, 1])\n",
    "  print('Treino', roc_treino)\n",
    "\n",
    "  y_proba_teste = clf.predict_proba(X_teste)\n",
    "  roc_teste = roc_auc_score(Y_teste, y_proba_teste[:, 1])\n",
    "  print('Test', roc_teste)\n",
    "  print('='*80)"
   ]
  },
  {
   "cell_type": "markdown",
   "metadata": {
    "id": "JUOt7_XA-kkM"
   },
   "source": [
    "- Repetindo com validação cruzada."
   ]
  },
  {
   "cell_type": "code",
   "execution_count": 90,
   "metadata": {
    "colab": {
     "base_uri": "https://8080-cs-565886152761-default.cs-us-east1-wzxb.cloudshell.dev/"
    },
    "id": "xeqhk64bLdpB",
    "outputId": "ac43c5be-d2e9-4f92-cb23-463bba8aa8e3"
   },
   "outputs": [
    {
     "name": "stdout",
     "output_type": "stream",
     "text": [
      "LogisticRegression\n",
      "Treino: 0.6909073231140825\n",
      "Validation score 0.6909073231440782\n",
      "Teste: 0.6909055553281205\n",
      "ROC AUC\n",
      "Treino 0.5817619486398858\n",
      "Test 0.583227460769487\n",
      "================================================================================\n",
      "GaussianNB\n",
      "Treino: 0.6770547883867963\n",
      "Validation score 0.6770727042590633\n",
      "Teste: 0.6775699021574487\n",
      "ROC AUC\n",
      "Treino 0.6137976893091837\n",
      "Test 0.61482536320943\n",
      "================================================================================\n",
      "RandomForestClassifier\n",
      "Treino: 0.9772587128451939\n",
      "Validation score 0.6831443626466125\n",
      "Teste: 0.6818888934375895\n",
      "ROC AUC\n",
      "Treino 0.9989413846494948\n",
      "Test 0.6335575240969473\n",
      "================================================================================\n",
      "XGBClassifier\n",
      "Treino: 0.6996758189601132\n",
      "Validation score 0.6985883923387319\n",
      "Teste: 0.6991443894051664\n",
      "ROC AUC\n",
      "Treino 0.6803128117157802\n",
      "Test 0.679135937323095\n",
      "================================================================================\n"
     ]
    }
   ],
   "source": [
    "import warnings\n",
    "warnings.filterwarnings(\"ignore\")\n",
    "\n",
    "from sklearn.model_selection import cross_val_score\n",
    "lista_classificacores = [ LogisticRegression(),\n",
    "                         GaussianNB(),\n",
    "                         RandomForestClassifier(),\n",
    "                         XGBClassifier()]\n",
    "\n",
    "\n",
    "for clf in lista_classificacores:\n",
    "  print(clf.__class__.__name__)\n",
    "  clf.fit(X_treino, Y_treino)\n",
    "  train_acc = clf.score(X_treino, Y_treino)\n",
    "  val_score = cross_val_score(clf, X_treino, Y_treino, cv=5)\n",
    "  test_acc = clf.score(X_teste, Y_teste)\n",
    "  print('Treino:', train_acc)\n",
    "  print('Validation score', val_score.mean())\n",
    "  print('Teste:', test_acc)\n",
    "\n",
    "  print('ROC AUC')\n",
    "\n",
    "  y_proba_treino = clf.predict_proba(X_treino)\n",
    "  roc_treino = roc_auc_score(Y_treino, y_proba_treino[:, 1])\n",
    "  print('Treino', roc_treino)\n",
    "\n",
    "  y_proba_teste = clf.predict_proba(X_teste)\n",
    "  roc_teste = roc_auc_score(Y_teste, y_proba_teste[:, 1])\n",
    "  print('Test', roc_teste)\n",
    "  print('='*80)"
   ]
  },
  {
   "cell_type": "markdown",
   "metadata": {},
   "source": [
    "# Ajustando o XGBClassifier."
   ]
  },
  {
   "cell_type": "code",
   "execution_count": 91,
   "metadata": {},
   "outputs": [],
   "source": [
    "# clf = XGBClassifier(seed=42)\n",
    "clf = XGBClassifier(max_depth=15,n_estimators=250,subsample=0.5,seed=42)"
   ]
  },
  {
   "cell_type": "code",
   "execution_count": 92,
   "metadata": {},
   "outputs": [
    {
     "data": {
      "text/plain": [
       "XGBClassifier(base_score=0.5, colsample_bylevel=1, colsample_bytree=1,\n",
       "       gamma=0, learning_rate=0.1, max_delta_step=0, max_depth=15,\n",
       "       min_child_weight=1, missing=None, n_estimators=250, nthread=-1,\n",
       "       objective='binary:logistic', reg_alpha=0, reg_lambda=1,\n",
       "       scale_pos_weight=1, seed=42, silent=True, subsample=0.5)"
      ]
     },
     "execution_count": 92,
     "metadata": {},
     "output_type": "execute_result"
    }
   ],
   "source": [
    "clf.fit(X_treino, Y_treino)"
   ]
  },
  {
   "cell_type": "code",
   "execution_count": 93,
   "metadata": {},
   "outputs": [
    {
     "name": "stdout",
     "output_type": "stream",
     "text": [
      "A acurácia do XGBclassifier foi 70.03%\n"
     ]
    }
   ],
   "source": [
    "y_pred = clf.predict(X_teste)\n",
    "acuracia = clf.score(X_teste, Y_teste) * 100\n",
    "\n",
    "print('A acurácia do XGBclassifier foi %.2f%%' % acuracia)"
   ]
  },
  {
   "cell_type": "code",
   "execution_count": 94,
   "metadata": {},
   "outputs": [
    {
     "data": {
      "text/plain": [
       "Text(33,0.5,'Real ( 1 ou 0)')"
      ]
     },
     "execution_count": 94,
     "metadata": {},
     "output_type": "execute_result"
    },
    {
     "data": {
      "image/png": "[encoded data removed]",
      "text/plain": [
       "<matplotlib.figure.Figure at 0x7f7bd6a8b2b0>"
      ]
     },
     "metadata": {},
     "output_type": "display_data"
    }
   ],
   "source": [
    "cm=confusion_matrix(Y_teste, y_pred)\n",
    "sns.heatmap(cm, annot=True, fmt='g')\n",
    "\n",
    "plt.xlabel('Predição( 1 ou 0)')\n",
    "plt.ylabel('Real ( 1 ou 0)')"
   ]
  },
  {
   "cell_type": "code",
   "execution_count": 95,
   "metadata": {},
   "outputs": [
    {
     "data": {
      "text/plain": [
       "0.6795743639700114"
      ]
     },
     "execution_count": 95,
     "metadata": {},
     "output_type": "execute_result"
    }
   ],
   "source": [
    "y_proba = clf.predict_proba(X_teste)[:,1]\n",
    "roc_auc = roc_auc_score(Y_teste, y_proba)\n",
    "roc_auc"
   ]
  },
  {
   "cell_type": "code",
   "execution_count": 96,
   "metadata": {},
   "outputs": [
    {
     "name": "stdout",
     "output_type": "stream",
     "text": [
      "             precision    recall  f1-score   support\n",
      "\n",
      "          0       0.73      0.89      0.80     67507\n",
      "          1       0.53      0.28      0.36     30201\n",
      "\n",
      "avg / total       0.67      0.70      0.67     97708\n",
      "\n"
     ]
    }
   ],
   "source": [
    "print(classification_report(Y_teste, y_proba>0.5))"
   ]
  },
  {
   "cell_type": "markdown",
   "metadata": {},
   "source": [
    "# Austando o RandomForestClassifier."
   ]
  },
  {
   "cell_type": "code",
   "execution_count": 97,
   "metadata": {},
   "outputs": [],
   "source": [
    "from sklearn.ensemble import RandomForestClassifier"
   ]
  },
  {
   "cell_type": "code",
   "execution_count": 105,
   "metadata": {},
   "outputs": [
    {
     "data": {
      "text/plain": [
       "RandomForestClassifier(bootstrap=True, class_weight='balanced',\n",
       "            criterion='entropy', max_depth=15, max_features='log2',\n",
       "            max_leaf_nodes=None, min_impurity_decrease=0.0,\n",
       "            min_impurity_split=None, min_samples_leaf=1,\n",
       "            min_samples_split=2, min_weight_fraction_leaf=0.0,\n",
       "            n_estimators=50, n_jobs=1, oob_score=False, random_state=42,\n",
       "            verbose=0, warm_start=False)"
      ]
     },
     "execution_count": 105,
     "metadata": {},
     "output_type": "execute_result"
    }
   ],
   "source": [
    "clf = RandomForestClassifier(criterion='entropy',\n",
    "                             class_weight='balanced',\n",
    "                             max_features=\"log2\",\n",
    "                             max_depth=15,\n",
    "                             n_estimators=50,\n",
    "                             random_state=42)\n",
    "clf.fit(X_treino, Y_treino)"
   ]
  },
  {
   "cell_type": "code",
   "execution_count": 106,
   "metadata": {},
   "outputs": [
    {
     "name": "stdout",
     "output_type": "stream",
     "text": [
      "A acurácia do RandomForestclassifier foi 64.10%\n"
     ]
    }
   ],
   "source": [
    "y_pred = clf.predict(X_teste)\n",
    "acuracia = clf.score(X_teste, Y_teste) * 100\n",
    "\n",
    "print('A acurácia do RandomForestclassifier foi %.2f%%' % acuracia)"
   ]
  },
  {
   "cell_type": "code",
   "execution_count": 107,
   "metadata": {},
   "outputs": [
    {
     "data": {
      "text/plain": [
       "Text(33,0.5,'Real ( 1 ou 0)')"
      ]
     },
     "execution_count": 107,
     "metadata": {},
     "output_type": "execute_result"
    },
    {
     "data": {
      "image/png": "[encoded data removed]",
      "text/plain": [
       "<matplotlib.figure.Figure at 0x7f7be5826a20>"
      ]
     },
     "metadata": {},
     "output_type": "display_data"
    }
   ],
   "source": [
    "cm=confusion_matrix(Y_teste, y_pred)\n",
    "sns.heatmap(cm, annot=True, fmt='g')\n",
    "\n",
    "plt.xlabel('Predição( 1 ou 0)')\n",
    "plt.ylabel('Real ( 1 ou 0)')"
   ]
  },
  {
   "cell_type": "code",
   "execution_count": 108,
   "metadata": {},
   "outputs": [
    {
     "data": {
      "text/plain": [
       "0.6859910315424899"
      ]
     },
     "execution_count": 108,
     "metadata": {},
     "output_type": "execute_result"
    }
   ],
   "source": [
    "y_proba = clf.predict_proba(X_teste)[:,1]\n",
    "roc_auc = roc_auc_score(Y_teste, y_proba)\n",
    "roc_auc"
   ]
  },
  {
   "cell_type": "code",
   "execution_count": 109,
   "metadata": {},
   "outputs": [
    {
     "name": "stdout",
     "output_type": "stream",
     "text": [
      "             precision    recall  f1-score   support\n",
      "\n",
      "          0       0.79      0.65      0.71     67507\n",
      "          1       0.44      0.62      0.52     30201\n",
      "\n",
      "avg / total       0.68      0.64      0.65     97708\n",
      "\n"
     ]
    }
   ],
   "source": [
    "print(classification_report(Y_teste, y_proba>0.5))"
   ]
  },
  {
   "cell_type": "code",
   "execution_count": 110,
   "metadata": {},
   "outputs": [
    {
     "data": {
      "image/png": "[encoded data removed]",
      "text/plain": [
       "<matplotlib.figure.Figure at 0x7f7be57f7da0>"
      ]
     },
     "metadata": {},
     "output_type": "display_data"
    }
   ],
   "source": [
    "fpr, tpr, thresholds = metrics.roc_curve(Y_teste, y_proba)\n",
    "plt.plot(fpr, tpr)\n",
    "plt.plot([0,1],[0,1], '--')\n",
    "plt.title('ROC curve')\n",
    "plt.xlabel('False Positive Rate')\n",
    "plt.ylabel('True Positive Rate')\n",
    "plt.grid(True)\n",
    "plt.show()"
   ]
  },
  {
   "cell_type": "markdown",
   "metadata": {
    "id": "T4l18GaEFWb5"
   },
   "source": [
    " - Visualizando árvore de decisão de baixa profundidade."
   ]
  },
  {
   "cell_type": "code",
   "execution_count": 104,
   "metadata": {
    "colab": {
     "base_uri": "https://8080-cs-565886152761-default.cs-us-east1-wzxb.cloudshell.dev/",
     "height": 592
    },
    "id": "pH5KkCO9yMRJ",
    "outputId": "37c8f46d-bc79-43bf-a0b1-a28fc89caec2"
   },
   "outputs": [],
   "source": [
    "# from sklearn.tree import plot_tree\n",
    "\n",
    "\n",
    "# plt.figure(figsize=(20,10))\n",
    "# annotations = plot_tree(clf.estimators_[0],\n",
    "#                         feature_names=dados_ml.drop('conclusao',axis=1).columns,\n",
    "#                         filled=True)"
   ]
  },
  {
   "cell_type": "markdown",
   "metadata": {
    "id": "T_I1cpEpGTce"
   },
   "source": [
    " - Salvando o modelo"
   ]
  },
  {
   "cell_type": "code",
   "execution_count": 85,
   "metadata": {
    "id": "kui_vA2z-GpW"
   },
   "outputs": [],
   "source": [
    "# import pickle\n",
    "\n",
    "# output = open('classificacao_assalto', 'wb')\n",
    "# pickle.dump(clf, output)\n",
    "# output.close()"
   ]
  }
 ],
 "metadata": {
  "colab": {
   "collapsed_sections": [],
   "name": "modelo_classificacao_assalto.ipynb",
   "provenance": [],
   "toc_visible": true
  },
  "kernelspec": {
   "display_name": "Python 3",
   "language": "python",
   "name": "python3"
  },
  "language_info": {
   "codemirror_mode": {
    "name": "ipython",
    "version": 3
   },
   "file_extension": ".py",
   "mimetype": "text/x-python",
   "name": "python",
   "nbconvert_exporter": "python",
   "pygments_lexer": "ipython3",
   "version": "3.5.6"
  }
 },
 "nbformat": 4,
 "nbformat_minor": 1
}
