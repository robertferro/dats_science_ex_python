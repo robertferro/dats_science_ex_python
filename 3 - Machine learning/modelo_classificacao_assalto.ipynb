{
 "cells": [
  {
   "cell_type": "markdown",
   "metadata": {
    "id": "Uh7x-tzWVS4M"
   },
   "source": [
    "This dataset includes all valid felony, misdemeanor, and violation crimes reported to the New York City Police Department (NYPD) from 2006 to the end of last year (2019). For additional details, please see the attached data dictionary in the ‘About’ section.\n",
    "\n",
    "link: https://data.cityofnewyork.us/Public-Safety/NYPD-Complaint-Data-Historic/qgea-i56i"
   ]
  },
  {
   "cell_type": "markdown",
   "metadata": {},
   "source": [
    "- Objetivo:\n",
    "\n",
    "- Classificar se determinada é segura ou não com relação a ocorrência dr crimes de  assalto ou roubo."
   ]
  },
  {
   "cell_type": "markdown",
   "metadata": {
    "id": "UNGGYIF-YiiD"
   },
   "source": [
    "## 1 - Carregando os dados."
   ]
  },
  {
   "cell_type": "code",
   "execution_count": 1,
   "metadata": {
    "id": "amWCtd1dabda"
   },
   "outputs": [],
   "source": [
    "import pandas as pd\n",
    "import numpy as np\n",
    "import matplotlib.pyplot as plt\n",
    "import seaborn as sns"
   ]
  },
  {
   "cell_type": "code",
   "execution_count": 2,
   "metadata": {
    "id": "TtLKjCb5a4WK"
   },
   "outputs": [],
   "source": [
    "df = pd.read_csv('delitos_novo_nyc.csv',sep=',')"
   ]
  },
  {
   "cell_type": "code",
   "execution_count": 3,
   "metadata": {},
   "outputs": [
    {
     "data": {
      "text/html": [
       "<div>\n",
       "<style scoped>\n",
       "    .dataframe tbody tr th:only-of-type {\n",
       "        vertical-align: middle;\n",
       "    }\n",
       "\n",
       "    .dataframe tbody tr th {\n",
       "        vertical-align: top;\n",
       "    }\n",
       "\n",
       "    .dataframe thead th {\n",
       "        text-align: right;\n",
       "    }\n",
       "</style>\n",
       "<table border=\"1\" class=\"dataframe\">\n",
       "  <thead>\n",
       "    <tr style=\"text-align: right;\">\n",
       "      <th></th>\n",
       "      <th>desc_instalacoes</th>\n",
       "      <th>delito</th>\n",
       "      <th>data_da_ocorr</th>\n",
       "      <th>hora_da_ocorr</th>\n",
       "      <th>conclusao</th>\n",
       "      <th>desc_delito</th>\n",
       "      <th>nivel_delito</th>\n",
       "      <th>loc_esp_delito</th>\n",
       "      <th>bairro</th>\n",
       "      <th>latitude</th>\n",
       "      <th>...</th>\n",
       "      <th>dia</th>\n",
       "      <th>mes</th>\n",
       "      <th>ano</th>\n",
       "      <th>dia_da_semana</th>\n",
       "      <th>idade_vitima</th>\n",
       "      <th>raca_vitima</th>\n",
       "      <th>sexo_vitima</th>\n",
       "      <th>noite</th>\n",
       "      <th>assalto</th>\n",
       "      <th>fds</th>\n",
       "    </tr>\n",
       "  </thead>\n",
       "  <tbody>\n",
       "    <tr>\n",
       "      <th>0</th>\n",
       "      <td>COMMERCIAL BUILDING</td>\n",
       "      <td>THEFT-FRAUD</td>\n",
       "      <td>2006-01-01</td>\n",
       "      <td>00:01:00</td>\n",
       "      <td>1</td>\n",
       "      <td>FRAUD,UNCLASSIFIED-FELONY</td>\n",
       "      <td>crime</td>\n",
       "      <td>dentro</td>\n",
       "      <td>Brooklyn</td>\n",
       "      <td>40.602071</td>\n",
       "      <td>...</td>\n",
       "      <td>1</td>\n",
       "      <td>1</td>\n",
       "      <td>2006</td>\n",
       "      <td>domingo</td>\n",
       "      <td>25-44</td>\n",
       "      <td>WHITE</td>\n",
       "      <td>M</td>\n",
       "      <td>1</td>\n",
       "      <td>0</td>\n",
       "      <td>0</td>\n",
       "    </tr>\n",
       "    <tr>\n",
       "      <th>1</th>\n",
       "      <td>RESIDENCE - APT. HOUSE</td>\n",
       "      <td>SEX CRIMES</td>\n",
       "      <td>2006-01-01</td>\n",
       "      <td>08:00:00</td>\n",
       "      <td>1</td>\n",
       "      <td>SEXUAL ABUSE 3,2</td>\n",
       "      <td>contravencao</td>\n",
       "      <td>dentro</td>\n",
       "      <td>Brooklyn</td>\n",
       "      <td>40.680580</td>\n",
       "      <td>...</td>\n",
       "      <td>1</td>\n",
       "      <td>1</td>\n",
       "      <td>2006</td>\n",
       "      <td>domingo</td>\n",
       "      <td>&lt;18</td>\n",
       "      <td>UNKNOWN</td>\n",
       "      <td>M</td>\n",
       "      <td>0</td>\n",
       "      <td>0</td>\n",
       "      <td>0</td>\n",
       "    </tr>\n",
       "    <tr>\n",
       "      <th>2</th>\n",
       "      <td>RESIDENCE - APT. HOUSE</td>\n",
       "      <td>FRAUDS</td>\n",
       "      <td>2006-01-01</td>\n",
       "      <td>00:01:00</td>\n",
       "      <td>1</td>\n",
       "      <td>FRAUD,UNCLASSIFIED-MISDEMEANOR</td>\n",
       "      <td>contravencao</td>\n",
       "      <td>dentro</td>\n",
       "      <td>Brooklyn</td>\n",
       "      <td>40.675044</td>\n",
       "      <td>...</td>\n",
       "      <td>1</td>\n",
       "      <td>1</td>\n",
       "      <td>2006</td>\n",
       "      <td>domingo</td>\n",
       "      <td>45-64</td>\n",
       "      <td>WHITE HISPANIC</td>\n",
       "      <td>M</td>\n",
       "      <td>1</td>\n",
       "      <td>0</td>\n",
       "      <td>0</td>\n",
       "    </tr>\n",
       "    <tr>\n",
       "      <th>3</th>\n",
       "      <td>RESIDENCE - APT. HOUSE</td>\n",
       "      <td>THEFT-FRAUD</td>\n",
       "      <td>2006-01-01</td>\n",
       "      <td>10:00:00</td>\n",
       "      <td>1</td>\n",
       "      <td>FRAUD,UNCLASSIFIED-FELONY</td>\n",
       "      <td>crime</td>\n",
       "      <td>dentro</td>\n",
       "      <td>Brooklyn</td>\n",
       "      <td>40.661964</td>\n",
       "      <td>...</td>\n",
       "      <td>1</td>\n",
       "      <td>1</td>\n",
       "      <td>2006</td>\n",
       "      <td>domingo</td>\n",
       "      <td>65+</td>\n",
       "      <td>BLACK</td>\n",
       "      <td>M</td>\n",
       "      <td>0</td>\n",
       "      <td>0</td>\n",
       "      <td>0</td>\n",
       "    </tr>\n",
       "    <tr>\n",
       "      <th>4</th>\n",
       "      <td>RESIDENCE-HOUSE</td>\n",
       "      <td>SEX CRIMES</td>\n",
       "      <td>2006-01-01</td>\n",
       "      <td>00:00:00</td>\n",
       "      <td>1</td>\n",
       "      <td>SEXUAL ABUSE 3,2</td>\n",
       "      <td>contravencao</td>\n",
       "      <td>dentro</td>\n",
       "      <td>Bronx</td>\n",
       "      <td>40.856163</td>\n",
       "      <td>...</td>\n",
       "      <td>1</td>\n",
       "      <td>1</td>\n",
       "      <td>2006</td>\n",
       "      <td>domingo</td>\n",
       "      <td>25-44</td>\n",
       "      <td>BLACK</td>\n",
       "      <td>F</td>\n",
       "      <td>1</td>\n",
       "      <td>0</td>\n",
       "      <td>0</td>\n",
       "    </tr>\n",
       "  </tbody>\n",
       "</table>\n",
       "<p>5 rows × 22 columns</p>\n",
       "</div>"
      ],
      "text/plain": [
       "         desc_instalacoes       delito data_da_ocorr hora_da_ocorr  conclusao  \\\n",
       "0     COMMERCIAL BUILDING  THEFT-FRAUD    2006-01-01      00:01:00          1   \n",
       "1  RESIDENCE - APT. HOUSE   SEX CRIMES    2006-01-01      08:00:00          1   \n",
       "2  RESIDENCE - APT. HOUSE       FRAUDS    2006-01-01      00:01:00          1   \n",
       "3  RESIDENCE - APT. HOUSE  THEFT-FRAUD    2006-01-01      10:00:00          1   \n",
       "4         RESIDENCE-HOUSE   SEX CRIMES    2006-01-01      00:00:00          1   \n",
       "\n",
       "                      desc_delito  nivel_delito loc_esp_delito    bairro  \\\n",
       "0       FRAUD,UNCLASSIFIED-FELONY         crime         dentro  Brooklyn   \n",
       "1                SEXUAL ABUSE 3,2  contravencao         dentro  Brooklyn   \n",
       "2  FRAUD,UNCLASSIFIED-MISDEMEANOR  contravencao         dentro  Brooklyn   \n",
       "3       FRAUD,UNCLASSIFIED-FELONY         crime         dentro  Brooklyn   \n",
       "4                SEXUAL ABUSE 3,2  contravencao         dentro     Bronx   \n",
       "\n",
       "    latitude ...   dia  mes   ano  dia_da_semana  idade_vitima  \\\n",
       "0  40.602071 ...     1    1  2006        domingo         25-44   \n",
       "1  40.680580 ...     1    1  2006        domingo           <18   \n",
       "2  40.675044 ...     1    1  2006        domingo         45-64   \n",
       "3  40.661964 ...     1    1  2006        domingo           65+   \n",
       "4  40.856163 ...     1    1  2006        domingo         25-44   \n",
       "\n",
       "      raca_vitima sexo_vitima noite assalto  fds  \n",
       "0           WHITE           M     1       0    0  \n",
       "1         UNKNOWN           M     0       0    0  \n",
       "2  WHITE HISPANIC           M     1       0    0  \n",
       "3           BLACK           M     0       0    0  \n",
       "4           BLACK           F     1       0    0  \n",
       "\n",
       "[5 rows x 22 columns]"
      ]
     },
     "execution_count": 3,
     "metadata": {},
     "output_type": "execute_result"
    }
   ],
   "source": [
    "df.head()"
   ]
  },
  {
   "cell_type": "code",
   "execution_count": 5,
   "metadata": {},
   "outputs": [
    {
     "data": {
      "text/plain": [
       "0    0.701557\n",
       "1    0.298443\n",
       "Name: assalto, dtype: float64"
      ]
     },
     "execution_count": 5,
     "metadata": {},
     "output_type": "execute_result"
    }
   ],
   "source": [
    "df.assalto.value_counts(normalize=True)"
   ]
  },
  {
   "cell_type": "markdown",
   "metadata": {},
   "source": [
    "- Selecionando as colunas para a modelagem."
   ]
  },
  {
   "cell_type": "code",
   "execution_count": 8,
   "metadata": {},
   "outputs": [],
   "source": [
    "dados_ml = df[['hora','noite','dia','dia_da_semana','mes','fds',\n",
    "                  'bairro','desc_instalacoes','sexo_vitima',\n",
    "                  'latitude', 'longitude','assalto']]"
   ]
  },
  {
   "cell_type": "code",
   "execution_count": 9,
   "metadata": {},
   "outputs": [
    {
     "name": "stdout",
     "output_type": "stream",
     "text": [
      "<class 'pandas.core.frame.DataFrame'>\n",
      "RangeIndex: 400676 entries, 0 to 400675\n",
      "Data columns (total 12 columns):\n",
      "hora                400676 non-null int64\n",
      "noite               400676 non-null int64\n",
      "dia                 400676 non-null int64\n",
      "dia_da_semana       400676 non-null object\n",
      "mes                 400676 non-null int64\n",
      "fds                 400676 non-null int64\n",
      "bairro              400676 non-null object\n",
      "desc_instalacoes    400676 non-null object\n",
      "sexo_vitima         400676 non-null object\n",
      "latitude            400676 non-null float64\n",
      "longitude           400676 non-null float64\n",
      "assalto             400676 non-null int64\n",
      "dtypes: float64(2), int64(6), object(4)\n",
      "memory usage: 36.7+ MB\n"
     ]
    }
   ],
   "source": [
    "dados_ml.info()"
   ]
  },
  {
   "cell_type": "markdown",
   "metadata": {},
   "source": [
    "- Tratando variáveis categóricas."
   ]
  },
  {
   "cell_type": "code",
   "execution_count": 10,
   "metadata": {},
   "outputs": [
    {
     "name": "stderr",
     "output_type": "stream",
     "text": [
      "/usr/local/envs/py3env/lib/python3.5/site-packages/ipykernel/__main__.py:6: SettingWithCopyWarning: \n",
      "A value is trying to be set on a copy of a slice from a DataFrame.\n",
      "Try using .loc[row_indexer,col_indexer] = value instead\n",
      "\n",
      "See the caveats in the documentation: http://pandas.pydata.org/pandas-docs/stable/indexing.html#indexing-view-versus-copy\n",
      "/usr/local/envs/py3env/lib/python3.5/site-packages/ipykernel/__main__.py:7: SettingWithCopyWarning: \n",
      "A value is trying to be set on a copy of a slice from a DataFrame.\n",
      "Try using .loc[row_indexer,col_indexer] = value instead\n",
      "\n",
      "See the caveats in the documentation: http://pandas.pydata.org/pandas-docs/stable/indexing.html#indexing-view-versus-copy\n",
      "/usr/local/envs/py3env/lib/python3.5/site-packages/ipykernel/__main__.py:8: SettingWithCopyWarning: \n",
      "A value is trying to be set on a copy of a slice from a DataFrame.\n",
      "Try using .loc[row_indexer,col_indexer] = value instead\n",
      "\n",
      "See the caveats in the documentation: http://pandas.pydata.org/pandas-docs/stable/indexing.html#indexing-view-versus-copy\n",
      "/usr/local/envs/py3env/lib/python3.5/site-packages/ipykernel/__main__.py:9: SettingWithCopyWarning: \n",
      "A value is trying to be set on a copy of a slice from a DataFrame.\n",
      "Try using .loc[row_indexer,col_indexer] = value instead\n",
      "\n",
      "See the caveats in the documentation: http://pandas.pydata.org/pandas-docs/stable/indexing.html#indexing-view-versus-copy\n"
     ]
    }
   ],
   "source": [
    "\n",
    "from sklearn.preprocessing import LabelEncoder\n",
    "\n",
    "lb = LabelEncoder()\n",
    "\n",
    "dados_ml['dia_da_semana'] = lb.fit_transform(dados_ml['dia_da_semana'])\n",
    "dados_ml['bairro'] = lb.fit_transform(dados_ml['bairro'])\n",
    "dados_ml['desc_instalacoes'] = lb.fit_transform(dados_ml['desc_instalacoes'])\n",
    "dados_ml['sexo_vitima'] = lb.fit_transform(dados_ml['sexo_vitima'])\n",
    "\n",
    "# dados_ml = pd.get_dummies(dados_ml)\n",
    "\n",
    "# from sklearn.preprocessing import StandardScaler\n",
    "\n",
    "# scaler = StandardScaler()\n",
    "\n",
    "# for col in dados_ml.columns:\n",
    "#   if col != \"assalto\":\n",
    "#     dados_ml[col] = scaler.fit_transform(np.array(dados_ml[col]).reshape(-1,1))\n",
    "\n"
   ]
  },
  {
   "cell_type": "code",
   "execution_count": 11,
   "metadata": {},
   "outputs": [
    {
     "data": {
      "text/html": [
       "<div>\n",
       "<style scoped>\n",
       "    .dataframe tbody tr th:only-of-type {\n",
       "        vertical-align: middle;\n",
       "    }\n",
       "\n",
       "    .dataframe tbody tr th {\n",
       "        vertical-align: top;\n",
       "    }\n",
       "\n",
       "    .dataframe thead th {\n",
       "        text-align: right;\n",
       "    }\n",
       "</style>\n",
       "<table border=\"1\" class=\"dataframe\">\n",
       "  <thead>\n",
       "    <tr style=\"text-align: right;\">\n",
       "      <th></th>\n",
       "      <th>hora</th>\n",
       "      <th>noite</th>\n",
       "      <th>dia</th>\n",
       "      <th>dia_da_semana</th>\n",
       "      <th>mes</th>\n",
       "      <th>fds</th>\n",
       "      <th>bairro</th>\n",
       "      <th>desc_instalacoes</th>\n",
       "      <th>sexo_vitima</th>\n",
       "      <th>latitude</th>\n",
       "      <th>longitude</th>\n",
       "      <th>assalto</th>\n",
       "    </tr>\n",
       "  </thead>\n",
       "  <tbody>\n",
       "    <tr>\n",
       "      <th>0</th>\n",
       "      <td>0</td>\n",
       "      <td>1</td>\n",
       "      <td>1</td>\n",
       "      <td>0</td>\n",
       "      <td>1</td>\n",
       "      <td>0</td>\n",
       "      <td>1</td>\n",
       "      <td>18</td>\n",
       "      <td>1</td>\n",
       "      <td>40.602071</td>\n",
       "      <td>-74.002692</td>\n",
       "      <td>0</td>\n",
       "    </tr>\n",
       "    <tr>\n",
       "      <th>1</th>\n",
       "      <td>8</td>\n",
       "      <td>0</td>\n",
       "      <td>1</td>\n",
       "      <td>0</td>\n",
       "      <td>1</td>\n",
       "      <td>0</td>\n",
       "      <td>1</td>\n",
       "      <td>52</td>\n",
       "      <td>1</td>\n",
       "      <td>40.680580</td>\n",
       "      <td>-73.974317</td>\n",
       "      <td>0</td>\n",
       "    </tr>\n",
       "    <tr>\n",
       "      <th>2</th>\n",
       "      <td>0</td>\n",
       "      <td>1</td>\n",
       "      <td>1</td>\n",
       "      <td>0</td>\n",
       "      <td>1</td>\n",
       "      <td>0</td>\n",
       "      <td>1</td>\n",
       "      <td>52</td>\n",
       "      <td>1</td>\n",
       "      <td>40.675044</td>\n",
       "      <td>-73.896676</td>\n",
       "      <td>0</td>\n",
       "    </tr>\n",
       "    <tr>\n",
       "      <th>3</th>\n",
       "      <td>10</td>\n",
       "      <td>0</td>\n",
       "      <td>1</td>\n",
       "      <td>0</td>\n",
       "      <td>1</td>\n",
       "      <td>0</td>\n",
       "      <td>1</td>\n",
       "      <td>52</td>\n",
       "      <td>1</td>\n",
       "      <td>40.661964</td>\n",
       "      <td>-73.889912</td>\n",
       "      <td>0</td>\n",
       "    </tr>\n",
       "    <tr>\n",
       "      <th>4</th>\n",
       "      <td>0</td>\n",
       "      <td>1</td>\n",
       "      <td>1</td>\n",
       "      <td>0</td>\n",
       "      <td>1</td>\n",
       "      <td>0</td>\n",
       "      <td>0</td>\n",
       "      <td>54</td>\n",
       "      <td>0</td>\n",
       "      <td>40.856163</td>\n",
       "      <td>-73.844397</td>\n",
       "      <td>0</td>\n",
       "    </tr>\n",
       "  </tbody>\n",
       "</table>\n",
       "</div>"
      ],
      "text/plain": [
       "   hora  noite  dia  dia_da_semana  mes  fds  bairro  desc_instalacoes  \\\n",
       "0     0      1    1              0    1    0       1                18   \n",
       "1     8      0    1              0    1    0       1                52   \n",
       "2     0      1    1              0    1    0       1                52   \n",
       "3    10      0    1              0    1    0       1                52   \n",
       "4     0      1    1              0    1    0       0                54   \n",
       "\n",
       "   sexo_vitima   latitude  longitude  assalto  \n",
       "0            1  40.602071 -74.002692        0  \n",
       "1            1  40.680580 -73.974317        0  \n",
       "2            1  40.675044 -73.896676        0  \n",
       "3            1  40.661964 -73.889912        0  \n",
       "4            0  40.856163 -73.844397        0  "
      ]
     },
     "execution_count": 11,
     "metadata": {},
     "output_type": "execute_result"
    }
   ],
   "source": [
    "dados_ml.head()"
   ]
  },
  {
   "cell_type": "markdown",
   "metadata": {
    "id": "2fEMKIkd6dNa"
   },
   "source": [
    "### Separando os dados de treino e teste."
   ]
  },
  {
   "cell_type": "code",
   "execution_count": 12,
   "metadata": {},
   "outputs": [],
   "source": [
    "from sklearn.model_selection import train_test_split"
   ]
  },
  {
   "cell_type": "code",
   "execution_count": 13,
   "metadata": {},
   "outputs": [],
   "source": [
    "X = dados_ml.drop('assalto',axis=1)\n",
    "Y = dados_ml['assalto']"
   ]
  },
  {
   "cell_type": "code",
   "execution_count": 14,
   "metadata": {},
   "outputs": [],
   "source": [
    "X_treino, X_teste,Y_treino,Y_teste = train_test_split(X,Y,test_size=0.2,random_state=42,stratify=Y)"
   ]
  },
  {
   "cell_type": "markdown",
   "metadata": {
    "id": "3GWmztzKis0a"
   },
   "source": [
    "## 4.2 **Testando algoritmos**"
   ]
  },
  {
   "cell_type": "code",
   "execution_count": 15,
   "metadata": {
    "colab": {
     "base_uri": "https://8080-cs-565886152761-default.cs-us-east1-wzxb.cloudshell.dev/"
    },
    "id": "8BZifqZwLQFR",
    "outputId": "1ffee256-385f-4f41-fd93-86196ff82ca6"
   },
   "outputs": [
    {
     "name": "stdout",
     "output_type": "stream",
     "text": [
      "A acurácia do dummy mostfrequent foi 70.16%\n"
     ]
    }
   ],
   "source": [
    "from sklearn.dummy import DummyClassifier\n",
    "\n",
    "dummy_clf = DummyClassifier(strategy=\"most_frequent\")\n",
    "dummy_clf.fit(X_treino, Y_treino)\n",
    "y_pred = dummy_clf.predict(X_teste)\n",
    "acuracia = dummy_clf.score(X_teste, Y_teste) * 100\n",
    "\n",
    "print('A acurácia do dummy mostfrequent foi %.2f%%' % acuracia)"
   ]
  },
  {
   "cell_type": "code",
   "execution_count": 16,
   "metadata": {
    "colab": {
     "base_uri": "https://8080-cs-565886152761-default.cs-us-east1-wzxb.cloudshell.dev/",
     "height": 296
    },
    "id": "jRoKkijpLTWl",
    "outputId": "7ebf0107-3e26-4ea1-a1e7-f3e0323f06a4"
   },
   "outputs": [
    {
     "data": {
      "text/plain": [
       "Text(33,0.5,'Real ( 1 ou 0)')"
      ]
     },
     "execution_count": 16,
     "metadata": {},
     "output_type": "execute_result"
    },
    {
     "data": {
      "image/png": "[encoded data removed]",
      "text/plain": [
       "<matplotlib.figure.Figure at 0x7f7bf0053e48>"
      ]
     },
     "metadata": {},
     "output_type": "display_data"
    }
   ],
   "source": [
    "from sklearn.metrics import confusion_matrix\n",
    "\n",
    "cm=confusion_matrix(Y_teste, y_pred)\n",
    "sns.heatmap(cm, annot=True, fmt='g')\n",
    "\n",
    "plt.xlabel('Predição( 1 ou 0)')\n",
    "plt.ylabel('Real ( 1 ou 0)')"
   ]
  },
  {
   "cell_type": "code",
   "execution_count": 17,
   "metadata": {
    "colab": {
     "base_uri": "https://8080-cs-565886152761-default.cs-us-east1-wzxb.cloudshell.dev/"
    },
    "id": "-S8r-OlrLZQC",
    "outputId": "c172b463-7cd0-4b27-f59b-7e2cb3380334"
   },
   "outputs": [
    {
     "data": {
      "text/plain": [
       "0.5"
      ]
     },
     "execution_count": 17,
     "metadata": {},
     "output_type": "execute_result"
    }
   ],
   "source": [
    "from sklearn.metrics import  roc_auc_score,roc_curve, classification_report\n",
    "from sklearn import metrics\n",
    "\n",
    "y_proba = dummy_clf.predict_proba(X_teste)\n",
    "roc_auc_score(Y_teste, y_proba[:,1])"
   ]
  },
  {
   "cell_type": "code",
   "execution_count": 18,
   "metadata": {
    "colab": {
     "base_uri": "https://8080-cs-565886152761-default.cs-us-east1-wzxb.cloudshell.dev/"
    },
    "id": "7w_KKTtG2FJ7",
    "outputId": "5bcba326-50e9-4344-86ea-fc8a09e4ce6e"
   },
   "outputs": [
    {
     "name": "stdout",
     "output_type": "stream",
     "text": [
      "             precision    recall  f1-score   support\n",
      "\n",
      "          0       0.70      1.00      0.82     56220\n",
      "          1       0.00      0.00      0.00     23916\n",
      "\n",
      "avg / total       0.49      0.70      0.58     80136\n",
      "\n"
     ]
    },
    {
     "name": "stderr",
     "output_type": "stream",
     "text": [
      "/usr/local/envs/py3env/lib/python3.5/site-packages/sklearn/metrics/classification.py:1135: UndefinedMetricWarning: Precision and F-score are ill-defined and being set to 0.0 in labels with no predicted samples.\n",
      "  'precision', 'predicted', average, warn_for)\n"
     ]
    }
   ],
   "source": [
    "print(classification_report(Y_teste, y_pred))"
   ]
  },
  {
   "cell_type": "markdown",
   "metadata": {
    "id": "XKdU_aKDnANf"
   },
   "source": [
    "### Triagem com outros modelos"
   ]
  },
  {
   "cell_type": "code",
   "execution_count": 19,
   "metadata": {
    "colab": {
     "base_uri": "https://8080-cs-565886152761-default.cs-us-east1-wzxb.cloudshell.dev/"
    },
    "id": "cgBcO3TE0U2-",
    "outputId": "1210e9ff-7479-43e1-ae6d-d2cbcc9436c7"
   },
   "outputs": [
    {
     "name": "stderr",
     "output_type": "stream",
     "text": [
      "/usr/local/envs/py3env/lib/python3.5/site-packages/sklearn/cross_validation.py:41: DeprecationWarning: This module was deprecated in version 0.18 in favor of the model_selection module into which all the refactored classes and functions are moved. Also note that the interface of the new CV iterators are different from that of this module. This module will be removed in 0.20.\n",
      "  \"This module will be removed in 0.20.\", DeprecationWarning)\n"
     ]
    },
    {
     "name": "stdout",
     "output_type": "stream",
     "text": [
      "LogisticRegression\n",
      "Acuracia\n",
      "Treino: 0.7015629874586635\n",
      "Teste: 0.7015823100728761\n",
      "ROC AUC\n",
      "Treino 0.5858934371392576\n",
      "Test 0.5873601075095694\n",
      "================================================================================\n",
      "GaussianNB\n",
      "Acuracia\n",
      "Treino: 0.6867785611780121\n",
      "Teste: 0.6849855246081661\n",
      "ROC AUC\n",
      "Treino 0.6272132723880476\n",
      "Test 0.6268335091383818\n",
      "================================================================================\n",
      "RandomForestClassifier\n",
      "Acuracia\n",
      "Treino: 0.9774942284894241\n",
      "Teste: 0.6977638015373865\n",
      "ROC AUC\n",
      "Treino 0.9989736572011316\n",
      "Test 0.6491011195266677\n",
      "================================================================================\n",
      "XGBClassifier\n",
      "Acuracia\n"
     ]
    },
    {
     "name": "stderr",
     "output_type": "stream",
     "text": [
      "/usr/local/envs/py3env/lib/python3.5/site-packages/sklearn/preprocessing/label.py:151: DeprecationWarning: The truth value of an empty array is ambiguous. Returning False, but in future this will result in an error. Use `array.size > 0` to check that an array is not empty.\n",
      "  if diff:\n",
      "/usr/local/envs/py3env/lib/python3.5/site-packages/sklearn/preprocessing/label.py:151: DeprecationWarning: The truth value of an empty array is ambiguous. Returning False, but in future this will result in an error. Use `array.size > 0` to check that an array is not empty.\n",
      "  if diff:\n"
     ]
    },
    {
     "name": "stdout",
     "output_type": "stream",
     "text": [
      "Treino: 0.7142915080801148\n",
      "Teste: 0.7122142357991414\n",
      "ROC AUC\n",
      "Treino 0.6953113523792678\n",
      "Test 0.6922125652162505\n",
      "================================================================================\n"
     ]
    }
   ],
   "source": [
    "from sklearn.linear_model import LogisticRegression\n",
    "from sklearn.naive_bayes import GaussianNB\n",
    "from sklearn.ensemble import RandomForestClassifier\n",
    "from xgboost import XGBClassifier\n",
    "\n",
    "lista_classificacores = [ LogisticRegression(),\n",
    "                         GaussianNB(),\n",
    "                         RandomForestClassifier(),\n",
    "                         XGBClassifier()]\n",
    "\n",
    "for clf in lista_classificacores:\n",
    "  print(clf.__class__.__name__)\n",
    "  clf.fit(X_treino, Y_treino)\n",
    "\n",
    "  print('Acuracia')\n",
    "  train_acc = clf.score(X_treino, Y_treino)\n",
    "  test_acc = clf.score(X_teste, Y_teste)\n",
    "  print('Treino:', train_acc)\n",
    "  print('Teste:', test_acc)\n",
    "\n",
    "  print('ROC AUC')\n",
    "\n",
    "  y_proba_treino = clf.predict_proba(X_treino)\n",
    "  roc_treino = roc_auc_score(Y_treino, y_proba_treino[:, 1])\n",
    "  print('Treino', roc_treino)\n",
    "\n",
    "  y_proba_teste = clf.predict_proba(X_teste)\n",
    "  roc_teste = roc_auc_score(Y_teste, y_proba_teste[:, 1])\n",
    "  print('Test', roc_teste)\n",
    "  print('='*80)"
   ]
  },
  {
   "cell_type": "markdown",
   "metadata": {
    "id": "JUOt7_XA-kkM"
   },
   "source": [
    "- Repetindo com validação cruzada."
   ]
  },
  {
   "cell_type": "code",
   "execution_count": 20,
   "metadata": {
    "colab": {
     "base_uri": "https://8080-cs-565886152761-default.cs-us-east1-wzxb.cloudshell.dev/"
    },
    "id": "xeqhk64bLdpB",
    "outputId": "ac43c5be-d2e9-4f92-cb23-463bba8aa8e3"
   },
   "outputs": [
    {
     "name": "stdout",
     "output_type": "stream",
     "text": [
      "LogisticRegression\n",
      "Treino: 0.7015629874586635\n",
      "Validation score 0.7015692268714647\n",
      "Teste: 0.7015823100728761\n",
      "ROC AUC\n",
      "Treino 0.5858934371392576\n",
      "Test 0.5873601075095694\n",
      "================================================================================\n",
      "GaussianNB\n",
      "Treino: 0.6867785611780121\n",
      "Validation score 0.6868191082857844\n",
      "Teste: 0.6849855246081661\n",
      "ROC AUC\n",
      "Treino 0.6272132723880476\n",
      "Test 0.6268335091383818\n",
      "================================================================================\n",
      "RandomForestClassifier\n",
      "Treino: 0.9777001310288888\n",
      "Validation score 0.6988363442161508\n",
      "Teste: 0.6972396925227113\n",
      "ROC AUC\n",
      "Treino 0.9989910187392806\n",
      "Test 0.6475991811789503\n",
      "================================================================================\n",
      "XGBClassifier\n",
      "Treino: 0.7142915080801148\n",
      "Validation score 0.7137705047592785\n",
      "Teste: 0.7122142357991414\n",
      "ROC AUC\n",
      "Treino 0.6953113523792678\n",
      "Test 0.6922125652162505\n",
      "================================================================================\n"
     ]
    }
   ],
   "source": [
    "import warnings\n",
    "warnings.filterwarnings(\"ignore\")\n",
    "\n",
    "from sklearn.model_selection import cross_val_score\n",
    "lista_classificacores = [ LogisticRegression(),\n",
    "                         GaussianNB(),\n",
    "                         RandomForestClassifier(),\n",
    "                         XGBClassifier()]\n",
    "\n",
    "\n",
    "for clf in lista_classificacores:\n",
    "  print(clf.__class__.__name__)\n",
    "  clf.fit(X_treino, Y_treino)\n",
    "  train_acc = clf.score(X_treino, Y_treino)\n",
    "  val_score = cross_val_score(clf, X_treino, Y_treino, cv=5)\n",
    "  test_acc = clf.score(X_teste, Y_teste)\n",
    "  print('Treino:', train_acc)\n",
    "  print('Validation score', val_score.mean())\n",
    "  print('Teste:', test_acc)\n",
    "\n",
    "  print('ROC AUC')\n",
    "\n",
    "  y_proba_treino = clf.predict_proba(X_treino)\n",
    "  roc_treino = roc_auc_score(Y_treino, y_proba_treino[:, 1])\n",
    "  print('Treino', roc_treino)\n",
    "\n",
    "  y_proba_teste = clf.predict_proba(X_teste)\n",
    "  roc_teste = roc_auc_score(Y_teste, y_proba_teste[:, 1])\n",
    "  print('Test', roc_teste)\n",
    "  print('='*80)"
   ]
  },
  {
   "cell_type": "markdown",
   "metadata": {},
   "source": [
    "# Ajustando o XGBClassifier."
   ]
  },
  {
   "cell_type": "code",
   "execution_count": 27,
   "metadata": {},
   "outputs": [],
   "source": [
    "# clf = XGBClassifier(seed=42)\n",
    "clf = XGBClassifier(max_depth=15,n_estimators=250,subsample=0.5,seed=42)"
   ]
  },
  {
   "cell_type": "code",
   "execution_count": 28,
   "metadata": {},
   "outputs": [
    {
     "data": {
      "text/plain": [
       "XGBClassifier(base_score=0.5, colsample_bylevel=1, colsample_bytree=1,\n",
       "       gamma=0, learning_rate=0.1, max_delta_step=0, max_depth=15,\n",
       "       min_child_weight=1, missing=None, n_estimators=250, nthread=-1,\n",
       "       objective='binary:logistic', reg_alpha=0, reg_lambda=1,\n",
       "       scale_pos_weight=1, seed=42, silent=True, subsample=0.5)"
      ]
     },
     "execution_count": 28,
     "metadata": {},
     "output_type": "execute_result"
    }
   ],
   "source": [
    "clf.fit(X_treino, Y_treino)"
   ]
  },
  {
   "cell_type": "code",
   "execution_count": 29,
   "metadata": {},
   "outputs": [
    {
     "name": "stdout",
     "output_type": "stream",
     "text": [
      "A acurácia do XGBclassifier foi 71.05%\n"
     ]
    }
   ],
   "source": [
    "y_pred = clf.predict(X_teste)\n",
    "acuracia = clf.score(X_teste, Y_teste) * 100\n",
    "\n",
    "print('A acurácia do XGBclassifier foi %.2f%%' % acuracia)"
   ]
  },
  {
   "cell_type": "code",
   "execution_count": 30,
   "metadata": {},
   "outputs": [
    {
     "data": {
      "text/plain": [
       "Text(33,0.5,'Real ( 1 ou 0)')"
      ]
     },
     "execution_count": 30,
     "metadata": {},
     "output_type": "execute_result"
    },
    {
     "data": {
      "image/png": "[encoded data removed]",
      "text/plain": [
       "<matplotlib.figure.Figure at 0x7f7bf000f160>"
      ]
     },
     "metadata": {},
     "output_type": "display_data"
    }
   ],
   "source": [
    "cm=confusion_matrix(Y_teste, y_pred)\n",
    "sns.heatmap(cm, annot=True, fmt='g')\n",
    "\n",
    "plt.xlabel('Predição( 1 ou 0)')\n",
    "plt.ylabel('Real ( 1 ou 0)')"
   ]
  },
  {
   "cell_type": "code",
   "execution_count": 31,
   "metadata": {},
   "outputs": [
    {
     "data": {
      "text/plain": [
       "0.6878244070956518"
      ]
     },
     "execution_count": 31,
     "metadata": {},
     "output_type": "execute_result"
    }
   ],
   "source": [
    "y_proba = clf.predict_proba(X_teste)[:,1]\n",
    "roc_auc = roc_auc_score(Y_teste, y_proba)\n",
    "roc_auc"
   ]
  },
  {
   "cell_type": "code",
   "execution_count": 32,
   "metadata": {},
   "outputs": [
    {
     "name": "stdout",
     "output_type": "stream",
     "text": [
      "             precision    recall  f1-score   support\n",
      "\n",
      "          0       0.75      0.89      0.81     56220\n",
      "          1       0.53      0.30      0.38     23916\n",
      "\n",
      "avg / total       0.68      0.71      0.68     80136\n",
      "\n"
     ]
    }
   ],
   "source": [
    "print(classification_report(Y_teste, y_proba>0.5))"
   ]
  },
  {
   "cell_type": "markdown",
   "metadata": {},
   "source": [
    "# Austando o RandomForestClassifier."
   ]
  },
  {
   "cell_type": "code",
   "execution_count": 33,
   "metadata": {},
   "outputs": [],
   "source": [
    "from sklearn.ensemble import RandomForestClassifier"
   ]
  },
  {
   "cell_type": "code",
   "execution_count": 53,
   "metadata": {},
   "outputs": [
    {
     "data": {
      "text/plain": [
       "RandomForestClassifier(bootstrap=True, class_weight='balanced',\n",
       "            criterion='entropy', max_depth=15, max_features='log2',\n",
       "            max_leaf_nodes=None, min_impurity_decrease=0.0,\n",
       "            min_impurity_split=None, min_samples_leaf=1,\n",
       "            min_samples_split=2, min_weight_fraction_leaf=0.0,\n",
       "            n_estimators=250, n_jobs=1, oob_score=False, random_state=42,\n",
       "            verbose=0, warm_start=False)"
      ]
     },
     "execution_count": 53,
     "metadata": {},
     "output_type": "execute_result"
    }
   ],
   "source": [
    "clf = RandomForestClassifier(criterion='entropy',\n",
    "                             class_weight='balanced',\n",
    "                             max_features=\"log2\",\n",
    "                             max_depth=15,\n",
    "                             n_estimators=250,\n",
    "                             random_state=42)\n",
    "clf.fit(X_treino, Y_treino)"
   ]
  },
  {
   "cell_type": "code",
   "execution_count": 54,
   "metadata": {},
   "outputs": [
    {
     "name": "stdout",
     "output_type": "stream",
     "text": [
      "A acurácia do RandomForestclassifier foi 66.24%\n"
     ]
    }
   ],
   "source": [
    "y_pred = clf.predict(X_teste)\n",
    "acuracia = clf.score(X_teste, Y_teste) * 100\n",
    "\n",
    "print('A acurácia do RandomForestclassifier foi %.2f%%' % acuracia)"
   ]
  },
  {
   "cell_type": "code",
   "execution_count": 55,
   "metadata": {},
   "outputs": [
    {
     "data": {
      "text/plain": [
       "Text(33,0.5,'Real ( 1 ou 0)')"
      ]
     },
     "execution_count": 55,
     "metadata": {},
     "output_type": "execute_result"
    },
    {
     "data": {
      "image/png": "[encoded data removed]",
      "text/plain": [
       "<matplotlib.figure.Figure at 0x7f7bd6b039b0>"
      ]
     },
     "metadata": {},
     "output_type": "display_data"
    }
   ],
   "source": [
    "cm=confusion_matrix(Y_teste, y_pred)\n",
    "sns.heatmap(cm, annot=True, fmt='g')\n",
    "\n",
    "plt.xlabel('Predição( 1 ou 0)')\n",
    "plt.ylabel('Real ( 1 ou 0)')"
   ]
  },
  {
   "cell_type": "code",
   "execution_count": 56,
   "metadata": {},
   "outputs": [
    {
     "data": {
      "text/plain": [
       "0.6996866199521163"
      ]
     },
     "execution_count": 56,
     "metadata": {},
     "output_type": "execute_result"
    }
   ],
   "source": [
    "y_proba = clf.predict_proba(X_teste)[:,1]\n",
    "roc_auc = roc_auc_score(Y_teste, y_proba)\n",
    "roc_auc"
   ]
  },
  {
   "cell_type": "code",
   "execution_count": 57,
   "metadata": {},
   "outputs": [
    {
     "name": "stdout",
     "output_type": "stream",
     "text": [
      "             precision    recall  f1-score   support\n",
      "\n",
      "          0       0.80      0.69      0.74     56220\n",
      "          1       0.45      0.60      0.52     23916\n",
      "\n",
      "avg / total       0.70      0.66      0.67     80136\n",
      "\n"
     ]
    }
   ],
   "source": [
    "print(classification_report(Y_teste, y_proba>0.5))"
   ]
  },
  {
   "cell_type": "code",
   "execution_count": 58,
   "metadata": {},
   "outputs": [
    {
     "data": {
      "image/png": "[encoded data removed]",
      "text/plain": [
       "<matplotlib.figure.Figure at 0x7f7bd6a1ff28>"
      ]
     },
     "metadata": {},
     "output_type": "display_data"
    }
   ],
   "source": [
    "fpr, tpr, thresholds = metrics.roc_curve(Y_teste, y_proba)\n",
    "plt.plot(fpr, tpr)\n",
    "plt.plot([0,1],[0,1], '--')\n",
    "plt.title('ROC curve')\n",
    "plt.xlabel('False Positive Rate')\n",
    "plt.ylabel('True Positive Rate')\n",
    "plt.grid(True)\n",
    "plt.show()"
   ]
  },
  {
   "cell_type": "markdown",
   "metadata": {
    "id": "T4l18GaEFWb5"
   },
   "source": [
    " - Visualizando árvore de decisão de baixa profundidade."
   ]
  },
  {
   "cell_type": "code",
   "execution_count": 56,
   "metadata": {
    "colab": {
     "base_uri": "https://8080-cs-565886152761-default.cs-us-east1-wzxb.cloudshell.dev/",
     "height": 592
    },
    "id": "pH5KkCO9yMRJ",
    "outputId": "37c8f46d-bc79-43bf-a0b1-a28fc89caec2"
   },
   "outputs": [],
   "source": [
    "# from sklearn.tree import plot_tree\n",
    "\n",
    "\n",
    "# plt.figure(figsize=(20,10))\n",
    "# annotations = plot_tree(clf.estimators_[0],\n",
    "#                         feature_names=dados_ml.drop('conclusao',axis=1).columns,\n",
    "#                         filled=True)"
   ]
  },
  {
   "cell_type": "markdown",
   "metadata": {
    "id": "T_I1cpEpGTce"
   },
   "source": [
    " - Salvando o modelo"
   ]
  },
  {
   "cell_type": "code",
   "execution_count": 85,
   "metadata": {
    "id": "kui_vA2z-GpW"
   },
   "outputs": [],
   "source": [
    "import pickle\n",
    "\n",
    "output = open('classificacao_assalto', 'wb')\n",
    "pickle.dump(clf, output)\n",
    "output.close()"
   ]
  }
 ],
 "metadata": {
  "colab": {
   "collapsed_sections": [],
   "name": "modelo_classificacao_assalto.ipynb",
   "provenance": [],
   "toc_visible": true
  },
  "kernelspec": {
   "display_name": "Python 3",
   "language": "python",
   "name": "python3"
  },
  "language_info": {
   "codemirror_mode": {
    "name": "ipython",
    "version": 3
   },
   "file_extension": ".py",
   "mimetype": "text/x-python",
   "name": "python",
   "nbconvert_exporter": "python",
   "pygments_lexer": "ipython3",
   "version": "3.5.6"
  }
 },
 "nbformat": 4,
 "nbformat_minor": 1
}
