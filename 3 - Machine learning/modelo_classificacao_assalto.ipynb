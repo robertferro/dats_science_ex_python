{
 "cells": [
  {
   "cell_type": "markdown",
   "metadata": {
    "id": "Uh7x-tzWVS4M"
   },
   "source": [
    "This dataset includes all valid felony, misdemeanor, and violation crimes reported to the New York City Police Department (NYPD) from 2006 to the end of last year (2019). For additional details, please see the attached data dictionary in the ‘About’ section.\n",
    "\n",
    "link: https://data.cityofnewyork.us/Public-Safety/NYPD-Complaint-Data-Historic/qgea-i56i"
   ]
  },
  {
   "cell_type": "markdown",
   "metadata": {},
   "source": [
    "- Objetivo:\n",
    "\n",
    "- Classificar se determinada é segura ou não com relação a ocorrênciad crimes de  assalto ou roubo."
   ]
  },
  {
   "cell_type": "markdown",
   "metadata": {
    "id": "UNGGYIF-YiiD"
   },
   "source": [
    "## 1 - Carregando os dados."
   ]
  },
  {
   "cell_type": "code",
   "execution_count": 1,
   "metadata": {
    "id": "amWCtd1dabda"
   },
   "outputs": [],
   "source": [
    "import pandas as pd\n",
    "import numpy as np\n",
    "import matplotlib.pyplot as plt\n",
    "import seaborn as sns"
   ]
  },
  {
   "cell_type": "code",
   "execution_count": 2,
   "metadata": {
    "id": "TtLKjCb5a4WK"
   },
   "outputs": [],
   "source": [
    "df = pd.read_csv('delitos_novo_nyc.csv',sep=',')"
   ]
  },
  {
   "cell_type": "code",
   "execution_count": 3,
   "metadata": {},
   "outputs": [
    {
     "data": {
      "text/html": [
       "<div>\n",
       "<style scoped>\n",
       "    .dataframe tbody tr th:only-of-type {\n",
       "        vertical-align: middle;\n",
       "    }\n",
       "\n",
       "    .dataframe tbody tr th {\n",
       "        vertical-align: top;\n",
       "    }\n",
       "\n",
       "    .dataframe thead th {\n",
       "        text-align: right;\n",
       "    }\n",
       "</style>\n",
       "<table border=\"1\" class=\"dataframe\">\n",
       "  <thead>\n",
       "    <tr style=\"text-align: right;\">\n",
       "      <th></th>\n",
       "      <th>data_da_ocorr</th>\n",
       "      <th>hora_da_ocorr</th>\n",
       "      <th>conclusao</th>\n",
       "      <th>delito</th>\n",
       "      <th>desc_delito</th>\n",
       "      <th>nivel_delito</th>\n",
       "      <th>loc_esp_delito</th>\n",
       "      <th>desc_instalacoes</th>\n",
       "      <th>bairro</th>\n",
       "      <th>latitude</th>\n",
       "      <th>...</th>\n",
       "      <th>dia</th>\n",
       "      <th>mes</th>\n",
       "      <th>ano</th>\n",
       "      <th>dia_da_semana</th>\n",
       "      <th>idade_vitima</th>\n",
       "      <th>raca_vitima</th>\n",
       "      <th>sexo_vitima</th>\n",
       "      <th>noite</th>\n",
       "      <th>assalto</th>\n",
       "      <th>fds</th>\n",
       "    </tr>\n",
       "  </thead>\n",
       "  <tbody>\n",
       "    <tr>\n",
       "      <th>0</th>\n",
       "      <td>2006-01-01</td>\n",
       "      <td>08:00:00</td>\n",
       "      <td>1</td>\n",
       "      <td>SEX CRIMES</td>\n",
       "      <td>SEXUAL ABUSE 3,2</td>\n",
       "      <td>contravencao</td>\n",
       "      <td>dentro</td>\n",
       "      <td>RESIDENCE-HOUSE</td>\n",
       "      <td>Queens</td>\n",
       "      <td>40.679700</td>\n",
       "      <td>...</td>\n",
       "      <td>1</td>\n",
       "      <td>1</td>\n",
       "      <td>2006</td>\n",
       "      <td>domingo</td>\n",
       "      <td>&lt;18</td>\n",
       "      <td>BLACK</td>\n",
       "      <td>F</td>\n",
       "      <td>0</td>\n",
       "      <td>0</td>\n",
       "      <td>0</td>\n",
       "    </tr>\n",
       "    <tr>\n",
       "      <th>1</th>\n",
       "      <td>2006-01-01</td>\n",
       "      <td>00:01:00</td>\n",
       "      <td>1</td>\n",
       "      <td>FRAUDS</td>\n",
       "      <td>FRAUD,UNCLASSIFIED-MISDEMEANOR</td>\n",
       "      <td>contravencao</td>\n",
       "      <td>dentro</td>\n",
       "      <td>RESIDENCE - APT. HOUSE</td>\n",
       "      <td>Brooklyn</td>\n",
       "      <td>40.675044</td>\n",
       "      <td>...</td>\n",
       "      <td>1</td>\n",
       "      <td>1</td>\n",
       "      <td>2006</td>\n",
       "      <td>domingo</td>\n",
       "      <td>45-64</td>\n",
       "      <td>WHITE HISPANIC</td>\n",
       "      <td>M</td>\n",
       "      <td>1</td>\n",
       "      <td>0</td>\n",
       "      <td>0</td>\n",
       "    </tr>\n",
       "    <tr>\n",
       "      <th>2</th>\n",
       "      <td>2006-01-01</td>\n",
       "      <td>07:00:00</td>\n",
       "      <td>1</td>\n",
       "      <td>THEFT-FRAUD</td>\n",
       "      <td>FRAUD,UNCLASSIFIED-FELONY</td>\n",
       "      <td>crime</td>\n",
       "      <td>dentro</td>\n",
       "      <td>RESIDENCE-HOUSE</td>\n",
       "      <td>Staten_Island</td>\n",
       "      <td>40.632779</td>\n",
       "      <td>...</td>\n",
       "      <td>1</td>\n",
       "      <td>1</td>\n",
       "      <td>2006</td>\n",
       "      <td>domingo</td>\n",
       "      <td>25-44</td>\n",
       "      <td>WHITE HISPANIC</td>\n",
       "      <td>M</td>\n",
       "      <td>0</td>\n",
       "      <td>0</td>\n",
       "      <td>0</td>\n",
       "    </tr>\n",
       "    <tr>\n",
       "      <th>3</th>\n",
       "      <td>2006-01-01</td>\n",
       "      <td>00:01:00</td>\n",
       "      <td>1</td>\n",
       "      <td>THEFT-FRAUD</td>\n",
       "      <td>FRAUD,UNCLASSIFIED-FELONY</td>\n",
       "      <td>crime</td>\n",
       "      <td>dentro</td>\n",
       "      <td>COMMERCIAL BUILDING</td>\n",
       "      <td>Brooklyn</td>\n",
       "      <td>40.602071</td>\n",
       "      <td>...</td>\n",
       "      <td>1</td>\n",
       "      <td>1</td>\n",
       "      <td>2006</td>\n",
       "      <td>domingo</td>\n",
       "      <td>25-44</td>\n",
       "      <td>WHITE</td>\n",
       "      <td>M</td>\n",
       "      <td>1</td>\n",
       "      <td>0</td>\n",
       "      <td>0</td>\n",
       "    </tr>\n",
       "    <tr>\n",
       "      <th>4</th>\n",
       "      <td>2006-01-01</td>\n",
       "      <td>00:00:00</td>\n",
       "      <td>1</td>\n",
       "      <td>SEX CRIMES</td>\n",
       "      <td>SEXUAL ABUSE 3,2</td>\n",
       "      <td>contravencao</td>\n",
       "      <td>dentro</td>\n",
       "      <td>RESIDENCE-HOUSE</td>\n",
       "      <td>Bronx</td>\n",
       "      <td>40.856163</td>\n",
       "      <td>...</td>\n",
       "      <td>1</td>\n",
       "      <td>1</td>\n",
       "      <td>2006</td>\n",
       "      <td>domingo</td>\n",
       "      <td>25-44</td>\n",
       "      <td>BLACK</td>\n",
       "      <td>F</td>\n",
       "      <td>1</td>\n",
       "      <td>0</td>\n",
       "      <td>0</td>\n",
       "    </tr>\n",
       "  </tbody>\n",
       "</table>\n",
       "<p>5 rows × 22 columns</p>\n",
       "</div>"
      ],
      "text/plain": [
       "  data_da_ocorr hora_da_ocorr  conclusao       delito  \\\n",
       "0    2006-01-01      08:00:00          1   SEX CRIMES   \n",
       "1    2006-01-01      00:01:00          1       FRAUDS   \n",
       "2    2006-01-01      07:00:00          1  THEFT-FRAUD   \n",
       "3    2006-01-01      00:01:00          1  THEFT-FRAUD   \n",
       "4    2006-01-01      00:00:00          1   SEX CRIMES   \n",
       "\n",
       "                      desc_delito  nivel_delito loc_esp_delito  \\\n",
       "0                SEXUAL ABUSE 3,2  contravencao         dentro   \n",
       "1  FRAUD,UNCLASSIFIED-MISDEMEANOR  contravencao         dentro   \n",
       "2       FRAUD,UNCLASSIFIED-FELONY         crime         dentro   \n",
       "3       FRAUD,UNCLASSIFIED-FELONY         crime         dentro   \n",
       "4                SEXUAL ABUSE 3,2  contravencao         dentro   \n",
       "\n",
       "         desc_instalacoes         bairro   latitude ...   dia  mes   ano  \\\n",
       "0         RESIDENCE-HOUSE         Queens  40.679700 ...     1    1  2006   \n",
       "1  RESIDENCE - APT. HOUSE       Brooklyn  40.675044 ...     1    1  2006   \n",
       "2         RESIDENCE-HOUSE  Staten_Island  40.632779 ...     1    1  2006   \n",
       "3     COMMERCIAL BUILDING       Brooklyn  40.602071 ...     1    1  2006   \n",
       "4         RESIDENCE-HOUSE          Bronx  40.856163 ...     1    1  2006   \n",
       "\n",
       "   dia_da_semana  idade_vitima     raca_vitima sexo_vitima noite assalto  fds  \n",
       "0        domingo           <18           BLACK           F     0       0    0  \n",
       "1        domingo         45-64  WHITE HISPANIC           M     1       0    0  \n",
       "2        domingo         25-44  WHITE HISPANIC           M     0       0    0  \n",
       "3        domingo         25-44           WHITE           M     1       0    0  \n",
       "4        domingo         25-44           BLACK           F     1       0    0  \n",
       "\n",
       "[5 rows x 22 columns]"
      ]
     },
     "execution_count": 3,
     "metadata": {},
     "output_type": "execute_result"
    }
   ],
   "source": [
    "df.head()"
   ]
  },
  {
   "cell_type": "markdown",
   "metadata": {},
   "source": [
    "- Excluindo os delitos com poucos registros."
   ]
  },
  {
   "cell_type": "code",
   "execution_count": 4,
   "metadata": {},
   "outputs": [],
   "source": [
    "drop = list(dict(df.delito.value_counts().tail(11)).keys())\n",
    "df = df.set_index('delito')\n",
    "df = df.drop(drop)\n",
    "df = df.reset_index()"
   ]
  },
  {
   "cell_type": "code",
   "execution_count": 5,
   "metadata": {},
   "outputs": [],
   "source": [
    "drop = list(dict(df.desc_instalacoes.value_counts().tail(3)).keys())\n",
    "df = df.set_index('desc_instalacoes')\n",
    "df = df.drop(drop)\n",
    "df = df.reset_index()"
   ]
  },
  {
   "cell_type": "code",
   "execution_count": 6,
   "metadata": {},
   "outputs": [
    {
     "data": {
      "text/plain": [
       "0    0.557269\n",
       "1    0.442731\n",
       "Name: assalto, dtype: float64"
      ]
     },
     "execution_count": 6,
     "metadata": {},
     "output_type": "execute_result"
    }
   ],
   "source": [
    "df.assalto.value_counts(normalize=True)"
   ]
  },
  {
   "cell_type": "markdown",
   "metadata": {},
   "source": [
    "- Analisando os registros considerados ou não como assalto."
   ]
  },
  {
   "cell_type": "code",
   "execution_count": 7,
   "metadata": {},
   "outputs": [],
   "source": [
    "df_assalto = df[df['assalto']==1]\n",
    "df_sem_assalto = df[df['assalto']==0]"
   ]
  },
  {
   "cell_type": "code",
   "execution_count": 8,
   "metadata": {},
   "outputs": [
    {
     "name": "stderr",
     "output_type": "stream",
     "text": [
      "/usr/local/envs/py3env/lib/python3.5/site-packages/ipykernel/__main__.py:5: SettingWithCopyWarning: \n",
      "A value is trying to be set on a copy of a slice from a DataFrame.\n",
      "Try using .loc[row_indexer,col_indexer] = value instead\n",
      "\n",
      "See the caveats in the documentation: http://pandas.pydata.org/pandas-docs/stable/indexing.html#indexing-view-versus-copy\n"
     ]
    }
   ],
   "source": [
    "lista_assalto = ['PETIT LARCENY',\n",
    "       'GRAND LARCENY OF MOTOR VEHICLE', 'ROBBERY',\n",
    "       'GRAND LARCENY', 'UNAUTHORIZED USE OF A VEHICLE']\n",
    "\n",
    "df_assalto['assalto'] = df_assalto['delito'].apply(lambda x: 1 if x in lista_assalto else 0)"
   ]
  },
  {
   "cell_type": "code",
   "execution_count": 9,
   "metadata": {},
   "outputs": [
    {
     "name": "stderr",
     "output_type": "stream",
     "text": [
      "/usr/local/envs/py3env/lib/python3.5/site-packages/ipykernel/__main__.py:3: SettingWithCopyWarning: \n",
      "A value is trying to be set on a copy of a slice from a DataFrame.\n",
      "Try using .loc[row_indexer,col_indexer] = value instead\n",
      "\n",
      "See the caveats in the documentation: http://pandas.pydata.org/pandas-docs/stable/indexing.html#indexing-view-versus-copy\n",
      "  app.launch_new_instance()\n"
     ]
    }
   ],
   "source": [
    "lista_assalto = [\"BURGLARY\",\"BURGLAR'S TOOLS\",\"POSSESSION OF STOLEN PROPERTY\",\"PETIT LARCENY OF MOTOR VEHICLE\"]\n",
    "\n",
    "df_sem_assalto['assalto'] = df_sem_assalto['delito'].apply(lambda x: 1 if x in lista_assalto else 0)"
   ]
  },
  {
   "cell_type": "code",
   "execution_count": 10,
   "metadata": {},
   "outputs": [],
   "source": [
    "df_completo = pd.concat([df_assalto,df_sem_assalto])"
   ]
  },
  {
   "cell_type": "code",
   "execution_count": 11,
   "metadata": {},
   "outputs": [
    {
     "data": {
      "text/plain": [
       "0    0.690334\n",
       "1    0.309666\n",
       "Name: assalto, dtype: float64"
      ]
     },
     "execution_count": 11,
     "metadata": {},
     "output_type": "execute_result"
    }
   ],
   "source": [
    "df_completo.assalto.value_counts(normalize=True)"
   ]
  },
  {
   "cell_type": "code",
   "execution_count": 12,
   "metadata": {},
   "outputs": [],
   "source": [
    "df_completo = df_completo.reset_index(drop=True)"
   ]
  },
  {
   "cell_type": "markdown",
   "metadata": {},
   "source": [
    "- Selecionando as colunas para a modelagem."
   ]
  },
  {
   "cell_type": "code",
   "execution_count": 13,
   "metadata": {},
   "outputs": [],
   "source": [
    "dados_ml = df_completo[['hora','noite','dia','dia_da_semana','mes','fds',\n",
    "                  'bairro','desc_instalacoes','sexo_vitima',\n",
    "                  'latitude', 'longitude','assalto']]"
   ]
  },
  {
   "cell_type": "code",
   "execution_count": 14,
   "metadata": {},
   "outputs": [],
   "source": [
    "dados_ml = dados_ml.dropna()"
   ]
  },
  {
   "cell_type": "code",
   "execution_count": 15,
   "metadata": {},
   "outputs": [
    {
     "name": "stdout",
     "output_type": "stream",
     "text": [
      "<class 'pandas.core.frame.DataFrame'>\n",
      "Int64Index: 488514 entries, 0 to 490482\n",
      "Data columns (total 12 columns):\n",
      "hora                488514 non-null int64\n",
      "noite               488514 non-null int64\n",
      "dia                 488514 non-null int64\n",
      "dia_da_semana       488514 non-null object\n",
      "mes                 488514 non-null int64\n",
      "fds                 488514 non-null int64\n",
      "bairro              488514 non-null object\n",
      "desc_instalacoes    488514 non-null object\n",
      "sexo_vitima         488514 non-null object\n",
      "latitude            488514 non-null float64\n",
      "longitude           488514 non-null float64\n",
      "assalto             488514 non-null int64\n",
      "dtypes: float64(2), int64(6), object(4)\n",
      "memory usage: 48.5+ MB\n"
     ]
    }
   ],
   "source": [
    "dados_ml.info()"
   ]
  },
  {
   "cell_type": "markdown",
   "metadata": {},
   "source": [
    "- Tratando variáveis categóricas."
   ]
  },
  {
   "cell_type": "code",
   "execution_count": 16,
   "metadata": {},
   "outputs": [],
   "source": [
    "\n",
    "from sklearn.preprocessing import LabelEncoder\n",
    "\n",
    "lb = LabelEncoder()\n",
    "\n",
    "dados_ml['dia_da_semana'] = lb.fit_transform(dados_ml['dia_da_semana'])\n",
    "dados_ml['bairro'] = lb.fit_transform(dados_ml['bairro'])\n",
    "dados_ml['desc_instalacoes'] = lb.fit_transform(dados_ml['desc_instalacoes'])\n",
    "dados_ml['sexo_vitima'] = lb.fit_transform(dados_ml['sexo_vitima'])\n",
    "\n",
    "# dados_ml = pd.get_dummies(dados_ml)\n",
    "\n",
    "# from sklearn.preprocessing import StandardScaler\n",
    "\n",
    "# scaler = StandardScaler()\n",
    "\n",
    "# for col in dados_ml.columns:\n",
    "#   if col != \"assalto\":\n",
    "#     dados_ml[col] = scaler.fit_transform(np.array(dados_ml[col]).reshape(-1,1))\n",
    "\n"
   ]
  },
  {
   "cell_type": "code",
   "execution_count": 17,
   "metadata": {},
   "outputs": [
    {
     "data": {
      "text/html": [
       "<div>\n",
       "<style scoped>\n",
       "    .dataframe tbody tr th:only-of-type {\n",
       "        vertical-align: middle;\n",
       "    }\n",
       "\n",
       "    .dataframe tbody tr th {\n",
       "        vertical-align: top;\n",
       "    }\n",
       "\n",
       "    .dataframe thead th {\n",
       "        text-align: right;\n",
       "    }\n",
       "</style>\n",
       "<table border=\"1\" class=\"dataframe\">\n",
       "  <thead>\n",
       "    <tr style=\"text-align: right;\">\n",
       "      <th></th>\n",
       "      <th>hora</th>\n",
       "      <th>noite</th>\n",
       "      <th>dia</th>\n",
       "      <th>dia_da_semana</th>\n",
       "      <th>mes</th>\n",
       "      <th>fds</th>\n",
       "      <th>bairro</th>\n",
       "      <th>desc_instalacoes</th>\n",
       "      <th>sexo_vitima</th>\n",
       "      <th>latitude</th>\n",
       "      <th>longitude</th>\n",
       "      <th>assalto</th>\n",
       "    </tr>\n",
       "  </thead>\n",
       "  <tbody>\n",
       "    <tr>\n",
       "      <th>0</th>\n",
       "      <td>10</td>\n",
       "      <td>0</td>\n",
       "      <td>13</td>\n",
       "      <td>5</td>\n",
       "      <td>1</td>\n",
       "      <td>0</td>\n",
       "      <td>1</td>\n",
       "      <td>43</td>\n",
       "      <td>0</td>\n",
       "      <td>40.686996</td>\n",
       "      <td>-73.980815</td>\n",
       "      <td>0</td>\n",
       "    </tr>\n",
       "    <tr>\n",
       "      <th>1</th>\n",
       "      <td>23</td>\n",
       "      <td>1</td>\n",
       "      <td>19</td>\n",
       "      <td>2</td>\n",
       "      <td>1</td>\n",
       "      <td>0</td>\n",
       "      <td>0</td>\n",
       "      <td>61</td>\n",
       "      <td>0</td>\n",
       "      <td>40.857287</td>\n",
       "      <td>-73.888458</td>\n",
       "      <td>1</td>\n",
       "    </tr>\n",
       "    <tr>\n",
       "      <th>3</th>\n",
       "      <td>15</td>\n",
       "      <td>0</td>\n",
       "      <td>9</td>\n",
       "      <td>2</td>\n",
       "      <td>2</td>\n",
       "      <td>0</td>\n",
       "      <td>0</td>\n",
       "      <td>61</td>\n",
       "      <td>0</td>\n",
       "      <td>40.809971</td>\n",
       "      <td>-73.917826</td>\n",
       "      <td>1</td>\n",
       "    </tr>\n",
       "    <tr>\n",
       "      <th>4</th>\n",
       "      <td>23</td>\n",
       "      <td>1</td>\n",
       "      <td>20</td>\n",
       "      <td>4</td>\n",
       "      <td>2</td>\n",
       "      <td>0</td>\n",
       "      <td>2</td>\n",
       "      <td>4</td>\n",
       "      <td>1</td>\n",
       "      <td>40.722136</td>\n",
       "      <td>-73.996697</td>\n",
       "      <td>0</td>\n",
       "    </tr>\n",
       "    <tr>\n",
       "      <th>5</th>\n",
       "      <td>19</td>\n",
       "      <td>1</td>\n",
       "      <td>21</td>\n",
       "      <td>6</td>\n",
       "      <td>2</td>\n",
       "      <td>0</td>\n",
       "      <td>3</td>\n",
       "      <td>61</td>\n",
       "      <td>0</td>\n",
       "      <td>40.754794</td>\n",
       "      <td>-73.919096</td>\n",
       "      <td>1</td>\n",
       "    </tr>\n",
       "  </tbody>\n",
       "</table>\n",
       "</div>"
      ],
      "text/plain": [
       "   hora  noite  dia  dia_da_semana  mes  fds  bairro  desc_instalacoes  \\\n",
       "0    10      0   13              5    1    0       1                43   \n",
       "1    23      1   19              2    1    0       0                61   \n",
       "3    15      0    9              2    2    0       0                61   \n",
       "4    23      1   20              4    2    0       2                 4   \n",
       "5    19      1   21              6    2    0       3                61   \n",
       "\n",
       "   sexo_vitima   latitude  longitude  assalto  \n",
       "0            0  40.686996 -73.980815        0  \n",
       "1            0  40.857287 -73.888458        1  \n",
       "3            0  40.809971 -73.917826        1  \n",
       "4            1  40.722136 -73.996697        0  \n",
       "5            0  40.754794 -73.919096        1  "
      ]
     },
     "execution_count": 17,
     "metadata": {},
     "output_type": "execute_result"
    }
   ],
   "source": [
    "dados_ml.head()"
   ]
  },
  {
   "cell_type": "markdown",
   "metadata": {
    "id": "2fEMKIkd6dNa"
   },
   "source": [
    "### Separando os dados de treino e teste."
   ]
  },
  {
   "cell_type": "code",
   "execution_count": 18,
   "metadata": {},
   "outputs": [],
   "source": [
    "from sklearn.model_selection import train_test_split"
   ]
  },
  {
   "cell_type": "code",
   "execution_count": 19,
   "metadata": {},
   "outputs": [],
   "source": [
    "X = dados_ml.drop('assalto',axis=1)\n",
    "Y = dados_ml['assalto']"
   ]
  },
  {
   "cell_type": "code",
   "execution_count": 20,
   "metadata": {},
   "outputs": [],
   "source": [
    "X_treino, X_teste,Y_treino,Y_teste = train_test_split(X,Y,test_size=0.2,random_state=42,stratify=Y)"
   ]
  },
  {
   "cell_type": "markdown",
   "metadata": {
    "id": "3GWmztzKis0a"
   },
   "source": [
    "## 4.2 **Testando algoritmos**"
   ]
  },
  {
   "cell_type": "code",
   "execution_count": 21,
   "metadata": {
    "colab": {
     "base_uri": "https://8080-cs-565886152761-default.cs-us-east1-wzxb.cloudshell.dev/"
    },
    "id": "8BZifqZwLQFR",
    "outputId": "1ffee256-385f-4f41-fd93-86196ff82ca6"
   },
   "outputs": [
    {
     "name": "stdout",
     "output_type": "stream",
     "text": [
      "A acurácia do dummy mostfrequent foi 69.09%\n"
     ]
    }
   ],
   "source": [
    "from sklearn.dummy import DummyClassifier\n",
    "\n",
    "dummy_clf = DummyClassifier(strategy=\"most_frequent\")\n",
    "dummy_clf.fit(X_treino, Y_treino)\n",
    "y_pred = dummy_clf.predict(X_teste)\n",
    "acuracia = dummy_clf.score(X_teste, Y_teste) * 100\n",
    "\n",
    "print('A acurácia do dummy mostfrequent foi %.2f%%' % acuracia)"
   ]
  },
  {
   "cell_type": "code",
   "execution_count": 22,
   "metadata": {
    "colab": {
     "base_uri": "https://8080-cs-565886152761-default.cs-us-east1-wzxb.cloudshell.dev/",
     "height": 296
    },
    "id": "jRoKkijpLTWl",
    "outputId": "7ebf0107-3e26-4ea1-a1e7-f3e0323f06a4"
   },
   "outputs": [
    {
     "data": {
      "text/plain": [
       "Text(33,0.5,'Real ( 1 ou 0)')"
      ]
     },
     "execution_count": 22,
     "metadata": {},
     "output_type": "execute_result"
    },
    {
     "data": {
      "image/png": "[encoded data removed]",
      "text/plain": [
       "<matplotlib.figure.Figure at 0x7f39b412f208>"
      ]
     },
     "metadata": {},
     "output_type": "display_data"
    }
   ],
   "source": [
    "from sklearn.metrics import confusion_matrix\n",
    "\n",
    "cm=confusion_matrix(Y_teste, y_pred)\n",
    "sns.heatmap(cm, annot=True, fmt='g')\n",
    "\n",
    "plt.xlabel('Predição( 1 ou 0)')\n",
    "plt.ylabel('Real ( 1 ou 0)')"
   ]
  },
  {
   "cell_type": "code",
   "execution_count": 23,
   "metadata": {
    "colab": {
     "base_uri": "https://8080-cs-565886152761-default.cs-us-east1-wzxb.cloudshell.dev/"
    },
    "id": "-S8r-OlrLZQC",
    "outputId": "c172b463-7cd0-4b27-f59b-7e2cb3380334"
   },
   "outputs": [
    {
     "data": {
      "text/plain": [
       "0.5"
      ]
     },
     "execution_count": 23,
     "metadata": {},
     "output_type": "execute_result"
    }
   ],
   "source": [
    "from sklearn.metrics import  roc_auc_score,roc_curve, classification_report\n",
    "from sklearn import metrics\n",
    "\n",
    "y_proba = dummy_clf.predict_proba(X_teste)\n",
    "roc_auc_score(Y_teste, y_proba[:,1])"
   ]
  },
  {
   "cell_type": "code",
   "execution_count": 24,
   "metadata": {
    "colab": {
     "base_uri": "https://8080-cs-565886152761-default.cs-us-east1-wzxb.cloudshell.dev/"
    },
    "id": "7w_KKTtG2FJ7",
    "outputId": "5bcba326-50e9-4344-86ea-fc8a09e4ce6e"
   },
   "outputs": [
    {
     "name": "stdout",
     "output_type": "stream",
     "text": [
      "             precision    recall  f1-score   support\n",
      "\n",
      "          0       0.69      1.00      0.82     67502\n",
      "          1       0.00      0.00      0.00     30201\n",
      "\n",
      "avg / total       0.48      0.69      0.56     97703\n",
      "\n"
     ]
    },
    {
     "name": "stderr",
     "output_type": "stream",
     "text": [
      "/usr/local/envs/py3env/lib/python3.5/site-packages/sklearn/metrics/classification.py:1135: UndefinedMetricWarning: Precision and F-score are ill-defined and being set to 0.0 in labels with no predicted samples.\n",
      "  'precision', 'predicted', average, warn_for)\n"
     ]
    }
   ],
   "source": [
    "print(classification_report(Y_teste, y_pred))"
   ]
  },
  {
   "cell_type": "markdown",
   "metadata": {
    "id": "XKdU_aKDnANf"
   },
   "source": [
    "### Triagem com outros modelos"
   ]
  },
  {
   "cell_type": "code",
   "execution_count": 25,
   "metadata": {
    "colab": {
     "base_uri": "https://8080-cs-565886152761-default.cs-us-east1-wzxb.cloudshell.dev/"
    },
    "id": "cgBcO3TE0U2-",
    "outputId": "1210e9ff-7479-43e1-ae6d-d2cbcc9436c7"
   },
   "outputs": [
    {
     "name": "stderr",
     "output_type": "stream",
     "text": [
      "/usr/local/envs/py3env/lib/python3.5/site-packages/sklearn/cross_validation.py:41: DeprecationWarning: This module was deprecated in version 0.18 in favor of the model_selection module into which all the refactored classes and functions are moved. Also note that the interface of the new CV iterators are different from that of this module. This module will be removed in 0.20.\n",
      "  \"This module will be removed in 0.20.\", DeprecationWarning)\n"
     ]
    },
    {
     "name": "stdout",
     "output_type": "stream",
     "text": [
      "LogisticRegression\n",
      "Acuracia\n",
      "Treino: 0.6908915051009311\n",
      "Teste: 0.6908897372649765\n",
      "ROC AUC\n",
      "Treino 0.5819880903663405\n",
      "Test 0.5820937525361114\n",
      "================================================================================\n",
      "GaussianNB\n",
      "Acuracia\n",
      "Treino: 0.6772122586109398\n",
      "Teste: 0.6770621168234343\n",
      "ROC AUC\n",
      "Treino 0.6144106585467347\n",
      "Test 0.6113555216610589\n",
      "================================================================================\n",
      "RandomForestClassifier\n",
      "Acuracia\n",
      "Treino: 0.9774315461949638\n",
      "Teste: 0.68433927310318\n",
      "ROC AUC\n",
      "Treino 0.9989144782115207\n",
      "Test 0.6362605567830594\n",
      "================================================================================\n",
      "XGBClassifier\n",
      "Acuracia\n"
     ]
    },
    {
     "name": "stderr",
     "output_type": "stream",
     "text": [
      "/usr/local/envs/py3env/lib/python3.5/site-packages/sklearn/preprocessing/label.py:151: DeprecationWarning: The truth value of an empty array is ambiguous. Returning False, but in future this will result in an error. Use `array.size > 0` to check that an array is not empty.\n",
      "  if diff:\n",
      "/usr/local/envs/py3env/lib/python3.5/site-packages/sklearn/preprocessing/label.py:151: DeprecationWarning: The truth value of an empty array is ambiguous. Returning False, but in future this will result in an error. Use `array.size > 0` to check that an array is not empty.\n",
      "  if diff:\n"
     ]
    },
    {
     "name": "stdout",
     "output_type": "stream",
     "text": [
      "Treino: 0.6998779461171768\n",
      "Teste: 0.698607002855593\n",
      "ROC AUC\n",
      "Treino 0.6805925021353013\n",
      "Test 0.6780592290255036\n",
      "================================================================================\n"
     ]
    }
   ],
   "source": [
    "from sklearn.linear_model import LogisticRegression\n",
    "from sklearn.naive_bayes import GaussianNB\n",
    "from sklearn.ensemble import RandomForestClassifier\n",
    "from xgboost import XGBClassifier\n",
    "\n",
    "lista_classificacores = [ LogisticRegression(),\n",
    "                         GaussianNB(),\n",
    "                         RandomForestClassifier(),\n",
    "                         XGBClassifier()]\n",
    "\n",
    "for clf in lista_classificacores:\n",
    "  print(clf.__class__.__name__)\n",
    "  clf.fit(X_treino, Y_treino)\n",
    "\n",
    "  print('Acuracia')\n",
    "  train_acc = clf.score(X_treino, Y_treino)\n",
    "  test_acc = clf.score(X_teste, Y_teste)\n",
    "  print('Treino:', train_acc)\n",
    "  print('Teste:', test_acc)\n",
    "\n",
    "  print('ROC AUC')\n",
    "\n",
    "  y_proba_treino = clf.predict_proba(X_treino)\n",
    "  roc_treino = roc_auc_score(Y_treino, y_proba_treino[:, 1])\n",
    "  print('Treino', roc_treino)\n",
    "\n",
    "  y_proba_teste = clf.predict_proba(X_teste)\n",
    "  roc_teste = roc_auc_score(Y_teste, y_proba_teste[:, 1])\n",
    "  print('Test', roc_teste)\n",
    "  print('='*80)"
   ]
  },
  {
   "cell_type": "markdown",
   "metadata": {
    "id": "JUOt7_XA-kkM"
   },
   "source": [
    "- Validação cruzada."
   ]
  },
  {
   "cell_type": "code",
   "execution_count": 26,
   "metadata": {
    "colab": {
     "base_uri": "https://8080-cs-565886152761-default.cs-us-east1-wzxb.cloudshell.dev/"
    },
    "id": "xeqhk64bLdpB",
    "outputId": "ac43c5be-d2e9-4f92-cb23-463bba8aa8e3"
   },
   "outputs": [
    {
     "name": "stdout",
     "output_type": "stream",
     "text": [
      "LogisticRegression\n",
      "Treino: 0.6908915051009311\n",
      "Validation score 0.6908915051309273\n",
      "Teste: 0.6908897372649765\n",
      "ROC AUC\n",
      "Treino 0.5819880903663405\n",
      "Test 0.5820937525361114\n",
      "================================================================================\n",
      "GaussianNB\n",
      "Treino: 0.6772122586109398\n",
      "Validation score 0.6771994707805264\n",
      "Teste: 0.6770621168234343\n",
      "ROC AUC\n",
      "Treino 0.6144106585467347\n",
      "Test 0.6113555216610589\n",
      "================================================================================\n",
      "RandomForestClassifier\n",
      "Treino: 0.9772524314822254\n",
      "Validation score 0.6818666840783336\n",
      "Teste: 0.6829165941680398\n",
      "ROC AUC\n",
      "Treino 0.9989440338896106\n",
      "Test 0.6354572083650408\n",
      "================================================================================\n",
      "XGBClassifier\n",
      "Treino: 0.6998779461171768\n",
      "Validation score 0.6989312047570306\n",
      "Teste: 0.698607002855593\n",
      "ROC AUC\n",
      "Treino 0.6805925021353013\n",
      "Test 0.6780592290255036\n",
      "================================================================================\n"
     ]
    }
   ],
   "source": [
    "import warnings\n",
    "warnings.filterwarnings(\"ignore\")\n",
    "\n",
    "from sklearn.model_selection import cross_val_score\n",
    "lista_classificacores = [ LogisticRegression(),\n",
    "                         GaussianNB(),\n",
    "                         RandomForestClassifier(),\n",
    "                         XGBClassifier()]\n",
    "\n",
    "\n",
    "for clf in lista_classificacores:\n",
    "  print(clf.__class__.__name__)\n",
    "  clf.fit(X_treino, Y_treino)\n",
    "  train_acc = clf.score(X_treino, Y_treino)\n",
    "  val_score = cross_val_score(clf, X_treino, Y_treino, cv=5)\n",
    "  test_acc = clf.score(X_teste, Y_teste)\n",
    "  print('Treino:', train_acc)\n",
    "  print('Validation score', val_score.mean())\n",
    "  print('Teste:', test_acc)\n",
    "\n",
    "  print('ROC AUC')\n",
    "\n",
    "  y_proba_treino = clf.predict_proba(X_treino)\n",
    "  roc_treino = roc_auc_score(Y_treino, y_proba_treino[:, 1])\n",
    "  print('Treino', roc_treino)\n",
    "\n",
    "  y_proba_teste = clf.predict_proba(X_teste)\n",
    "  roc_teste = roc_auc_score(Y_teste, y_proba_teste[:, 1])\n",
    "  print('Test', roc_teste)\n",
    "  print('='*80)"
   ]
  },
  {
   "cell_type": "markdown",
   "metadata": {},
   "source": [
    "# Ajustando o XGBClassifier."
   ]
  },
  {
   "cell_type": "code",
   "execution_count": 27,
   "metadata": {},
   "outputs": [],
   "source": [
    "# clf = XGBClassifier(seed=42)\n",
    "clf = XGBClassifier(max_depth=15,n_estimators=250,subsample=0.5,seed=42)"
   ]
  },
  {
   "cell_type": "code",
   "execution_count": 28,
   "metadata": {},
   "outputs": [
    {
     "data": {
      "text/plain": [
       "XGBClassifier(base_score=0.5, colsample_bylevel=1, colsample_bytree=1,\n",
       "       gamma=0, learning_rate=0.1, max_delta_step=0, max_depth=15,\n",
       "       min_child_weight=1, missing=None, n_estimators=250, nthread=-1,\n",
       "       objective='binary:logistic', reg_alpha=0, reg_lambda=1,\n",
       "       scale_pos_weight=1, seed=42, silent=True, subsample=0.5)"
      ]
     },
     "execution_count": 28,
     "metadata": {},
     "output_type": "execute_result"
    }
   ],
   "source": [
    "clf.fit(X_treino, Y_treino)"
   ]
  },
  {
   "cell_type": "code",
   "execution_count": 29,
   "metadata": {},
   "outputs": [
    {
     "name": "stdout",
     "output_type": "stream",
     "text": [
      "A acurácia do XGBclassifier foi 69.85%\n"
     ]
    }
   ],
   "source": [
    "y_pred = clf.predict(X_teste)\n",
    "acuracia = clf.score(X_teste, Y_teste) * 100\n",
    "\n",
    "print('A acurácia do XGBclassifier foi %.2f%%' % acuracia)"
   ]
  },
  {
   "cell_type": "code",
   "execution_count": 30,
   "metadata": {},
   "outputs": [
    {
     "data": {
      "text/plain": [
       "Text(33,0.5,'Real ( 1 ou 0)')"
      ]
     },
     "execution_count": 30,
     "metadata": {},
     "output_type": "execute_result"
    },
    {
     "data": {
      "image/png": "[encoded data removed]",
      "text/plain": [
       "<matplotlib.figure.Figure at 0x7f39acf1e160>"
      ]
     },
     "metadata": {},
     "output_type": "display_data"
    }
   ],
   "source": [
    "cm=confusion_matrix(Y_teste, y_pred)\n",
    "sns.heatmap(cm, annot=True, fmt='g')\n",
    "\n",
    "plt.xlabel('Predição( 1 ou 0)')\n",
    "plt.ylabel('Real ( 1 ou 0)')"
   ]
  },
  {
   "cell_type": "code",
   "execution_count": 31,
   "metadata": {},
   "outputs": [
    {
     "data": {
      "text/plain": [
       "0.6790286656245323"
      ]
     },
     "execution_count": 31,
     "metadata": {},
     "output_type": "execute_result"
    }
   ],
   "source": [
    "y_proba = clf.predict_proba(X_teste)[:,1]\n",
    "roc_auc = roc_auc_score(Y_teste, y_proba)\n",
    "roc_auc"
   ]
  },
  {
   "cell_type": "code",
   "execution_count": 32,
   "metadata": {},
   "outputs": [
    {
     "name": "stdout",
     "output_type": "stream",
     "text": [
      "             precision    recall  f1-score   support\n",
      "\n",
      "          0       0.73      0.89      0.80     67502\n",
      "          1       0.52      0.27      0.36     30201\n",
      "\n",
      "avg / total       0.67      0.70      0.67     97703\n",
      "\n"
     ]
    }
   ],
   "source": [
    "print(classification_report(Y_teste, y_proba>0.5))"
   ]
  },
  {
   "cell_type": "markdown",
   "metadata": {},
   "source": [
    "# Austando o RandomForestClassifier."
   ]
  },
  {
   "cell_type": "markdown",
   "metadata": {},
   "source": [
    "RandomForestClassifier(criterion='entropy',class_weight='balanced',max_features=\"sqrt\",\n",
    "                             n_estimators=250,max_depth=12, random_state=42)\n",
    "                             \n",
    "RandomForestClassifier(criterion='entropy',class_weight='balanced',max_features=\"log2\",\n",
    "                             n_estimators=250,max_depth=12, random_state=42)\n",
    "                           \n",
    "RandomForestClassifier(criterion='entropy',class_weight='balanced',max_features=\"log2\",\n",
    "                             n_estimators=250,max_depth=12, random_state=42)"
   ]
  },
  {
   "cell_type": "code",
   "execution_count": 33,
   "metadata": {},
   "outputs": [],
   "source": [
    "from sklearn.ensemble import RandomForestClassifier"
   ]
  },
  {
   "cell_type": "code",
   "execution_count": 34,
   "metadata": {},
   "outputs": [
    {
     "data": {
      "text/plain": [
       "RandomForestClassifier(bootstrap=True, class_weight='balanced',\n",
       "            criterion='entropy', max_depth=15, max_features='log2',\n",
       "            max_leaf_nodes=None, min_impurity_decrease=0.0,\n",
       "            min_impurity_split=None, min_samples_leaf=1,\n",
       "            min_samples_split=2, min_weight_fraction_leaf=0.0,\n",
       "            n_estimators=50, n_jobs=1, oob_score=False, random_state=42,\n",
       "            verbose=0, warm_start=False)"
      ]
     },
     "execution_count": 34,
     "metadata": {},
     "output_type": "execute_result"
    }
   ],
   "source": [
    "clf = RandomForestClassifier(criterion='entropy',\n",
    "                             class_weight='balanced',\n",
    "                             max_features=\"log2\",\n",
    "                             max_depth=15,\n",
    "                             n_estimators=50,\n",
    "                             random_state=42)\n",
    "clf.fit(X_treino, Y_treino)"
   ]
  },
  {
   "cell_type": "code",
   "execution_count": 35,
   "metadata": {},
   "outputs": [
    {
     "name": "stdout",
     "output_type": "stream",
     "text": [
      "A acurácia do RandomForestclassifier foi 63.58%\n"
     ]
    }
   ],
   "source": [
    "y_pred = clf.predict(X_teste)\n",
    "acuracia = clf.score(X_teste, Y_teste) * 100\n",
    "\n",
    "print('A acurácia do RandomForestclassifier foi %.2f%%' % acuracia)"
   ]
  },
  {
   "cell_type": "code",
   "execution_count": 36,
   "metadata": {},
   "outputs": [
    {
     "data": {
      "text/plain": [
       "Text(33,0.5,'Real ( 1 ou 0)')"
      ]
     },
     "execution_count": 36,
     "metadata": {},
     "output_type": "execute_result"
    },
    {
     "data": {
      "image/png": "[encoded data removed]",
      "text/plain": [
       "<matplotlib.figure.Figure at 0x7f3999382be0>"
      ]
     },
     "metadata": {},
     "output_type": "display_data"
    }
   ],
   "source": [
    "cm=confusion_matrix(Y_teste, y_pred)\n",
    "sns.heatmap(cm, annot=True, fmt='g')\n",
    "\n",
    "plt.xlabel('Predição( 1 ou 0)')\n",
    "plt.ylabel('Real ( 1 ou 0)')"
   ]
  },
  {
   "cell_type": "code",
   "execution_count": 37,
   "metadata": {},
   "outputs": [
    {
     "data": {
      "text/plain": [
       "0.6847691023606917"
      ]
     },
     "execution_count": 37,
     "metadata": {},
     "output_type": "execute_result"
    }
   ],
   "source": [
    "y_proba = clf.predict_proba(X_teste)[:,1]\n",
    "roc_auc = roc_auc_score(Y_teste, y_proba)\n",
    "roc_auc"
   ]
  },
  {
   "cell_type": "code",
   "execution_count": 38,
   "metadata": {},
   "outputs": [
    {
     "name": "stdout",
     "output_type": "stream",
     "text": [
      "             precision    recall  f1-score   support\n",
      "\n",
      "          0       0.79      0.64      0.71     67502\n",
      "          1       0.44      0.63      0.52     30201\n",
      "\n",
      "avg / total       0.68      0.64      0.65     97703\n",
      "\n"
     ]
    }
   ],
   "source": [
    "print(classification_report(Y_teste, y_proba>0.5))"
   ]
  },
  {
   "cell_type": "code",
   "execution_count": 39,
   "metadata": {},
   "outputs": [
    {
     "data": {
      "image/png": "[encoded data removed]",
      "text/plain": [
       "<matplotlib.figure.Figure at 0x7f3999330e80>"
      ]
     },
     "metadata": {},
     "output_type": "display_data"
    }
   ],
   "source": [
    "fpr, tpr, thresholds = metrics.roc_curve(Y_teste, y_proba)\n",
    "plt.plot(fpr, tpr)\n",
    "plt.plot([0,1],[0,1], '--')\n",
    "plt.title('ROC curve')\n",
    "plt.xlabel('False Positive Rate')\n",
    "plt.ylabel('True Positive Rate')\n",
    "plt.grid(True)\n",
    "plt.show()"
   ]
  },
  {
   "cell_type": "markdown",
   "metadata": {
    "id": "T4l18GaEFWb5"
   },
   "source": [
    " - Visualizando árvore de decisão de baixa profundidade."
   ]
  },
  {
   "cell_type": "code",
   "execution_count": 56,
   "metadata": {
    "colab": {
     "base_uri": "https://8080-cs-565886152761-default.cs-us-east1-wzxb.cloudshell.dev/",
     "height": 592
    },
    "id": "pH5KkCO9yMRJ",
    "outputId": "37c8f46d-bc79-43bf-a0b1-a28fc89caec2"
   },
   "outputs": [],
   "source": [
    "# from sklearn.tree import plot_tree\n",
    "\n",
    "\n",
    "# plt.figure(figsize=(20,10))\n",
    "# annotations = plot_tree(clf.estimators_[0],\n",
    "#                         feature_names=dados_ml.drop('conclusao',axis=1).columns,\n",
    "#                         filled=True)"
   ]
  },
  {
   "cell_type": "markdown",
   "metadata": {
    "id": "T_I1cpEpGTce"
   },
   "source": [
    " - Salvando o modelo"
   ]
  },
  {
   "cell_type": "code",
   "execution_count": 85,
   "metadata": {
    "id": "kui_vA2z-GpW"
   },
   "outputs": [],
   "source": [
    "import pickle\n",
    "\n",
    "output = open('classificacao_assalto', 'wb')\n",
    "pickle.dump(clf, output)\n",
    "output.close()"
   ]
  }
 ],
 "metadata": {
  "colab": {
   "collapsed_sections": [],
   "name": "modelo_classificacao_assalto.ipynb",
   "provenance": [],
   "toc_visible": true
  },
  "kernelspec": {
   "display_name": "Python 3",
   "language": "python",
   "name": "python3"
  },
  "language_info": {
   "codemirror_mode": {
    "name": "ipython",
    "version": 3
   },
   "file_extension": ".py",
   "mimetype": "text/x-python",
   "name": "python",
   "nbconvert_exporter": "python",
   "pygments_lexer": "ipython3",
   "version": "3.5.6"
  }
 },
 "nbformat": 4,
 "nbformat_minor": 1
}
