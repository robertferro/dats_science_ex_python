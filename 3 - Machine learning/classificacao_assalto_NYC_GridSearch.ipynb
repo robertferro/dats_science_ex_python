{
 "cells": [
  {
   "cell_type": "markdown",
   "metadata": {
    "id": "EpoZtV52tq52"
   },
   "source": [
    "## Objetivo: Classificar a chance de ocorrer um assalto de acordo com a localização, mês, dia do mês e dia da semana."
   ]
  },
  {
   "cell_type": "markdown",
   "metadata": {
    "id": "NBm2Z4daCutf"
   },
   "source": [
    "## 1- Importando a base de dados"
   ]
  },
  {
   "cell_type": "code",
   "execution_count": null,
   "metadata": {
    "id": "NpHeI-PMj_aQ"
   },
   "outputs": [],
   "source": [
    "#  Importando as bibliotecas\n",
    "\n",
    "import pandas as pd\n",
    "import seaborn as sns\n",
    "import matplotlib.pyplot as plt\n",
    "import numpy as np\n",
    "import datetime\n",
    "from datetime import date"
   ]
  },
  {
   "cell_type": "code",
   "execution_count": null,
   "metadata": {
    "id": "_fpQhayPCuti"
   },
   "outputs": [],
   "source": [
    "url = 'https://raw.githubusercontent.com/robertferro/delitos_NY_2020/master/1%20-%20Manipula%C3%A7%C3%A3o%20de%20dados/dados_processados.csv'"
   ]
  },
  {
   "cell_type": "code",
   "execution_count": null,
   "metadata": {
    "id": "x3gtHxJzCuti"
   },
   "outputs": [],
   "source": [
    "df = pd.read_csv(url)"
   ]
  },
  {
   "cell_type": "code",
   "execution_count": null,
   "metadata": {
    "colab": {
     "base_uri": "https://localhost:8080/",
     "height": 204
    },
    "id": "IyBc8YZnCutj",
    "outputId": "fc382a6e-4153-4a6f-fd94-f55e98c6dd27"
   },
   "outputs": [],
   "source": [
    "df.head()"
   ]
  },
  {
   "cell_type": "markdown",
   "metadata": {
    "id": "9MJirB7CCutk"
   },
   "source": [
    "## 2- Preparaçao dos dados"
   ]
  },
  {
   "cell_type": "code",
   "execution_count": null,
   "metadata": {
    "colab": {
     "base_uri": "https://localhost:8080/"
    },
    "id": "NAUcBcxJCutl",
    "outputId": "5fa94862-781d-4ea2-f8c3-5fea37b89d3f"
   },
   "outputs": [],
   "source": [
    "df.info()"
   ]
  },
  {
   "cell_type": "markdown",
   "metadata": {
    "id": "5qsBO-hSCutm"
   },
   "source": [
    " - Conventerndo a coluna data_da_ocorrencia para formato datetime"
   ]
  },
  {
   "cell_type": "code",
   "execution_count": null,
   "metadata": {
    "id": "spTyivLvCutn"
   },
   "outputs": [],
   "source": [
    "df[\"data_da_ocorrencia\"] = pd.to_datetime(df[\"data_da_ocorrencia\"] )"
   ]
  },
  {
   "cell_type": "code",
   "execution_count": null,
   "metadata": {
    "colab": {
     "base_uri": "https://localhost:8080/"
    },
    "id": "bVTbUVOsCuto",
    "outputId": "825fe320-21f2-4758-f961-1b39d1aaf169"
   },
   "outputs": [],
   "source": [
    "df.isna().sum()"
   ]
  },
  {
   "cell_type": "code",
   "execution_count": null,
   "metadata": {
    "colab": {
     "base_uri": "https://localhost:8080/"
    },
    "id": "Y8N0wHAxCuto",
    "outputId": "d934327c-c6b9-4b03-cb76-b1d884734a5d"
   },
   "outputs": [],
   "source": [
    "df.info()"
   ]
  },
  {
   "cell_type": "markdown",
   "metadata": {
    "id": "FzybcMj9Cutr"
   },
   "source": [
    " - Excluindo colunas que não serão utilizadas e renomeando o dataset."
   ]
  },
  {
   "cell_type": "code",
   "execution_count": null,
   "metadata": {
    "id": "MlfgzdpsCuts"
   },
   "outputs": [],
   "source": [
    "# como todos os registros correspondem ao ano de 2020, a coluna ano será exluída.\n",
    "dados = df.drop(columns=['ano'])"
   ]
  },
  {
   "cell_type": "code",
   "execution_count": null,
   "metadata": {
    "colab": {
     "base_uri": "https://localhost:8080/"
    },
    "id": "z1vLilZaCutt",
    "outputId": "16f4b9b5-45b7-4db2-b4e4-46ff8975374a"
   },
   "outputs": [],
   "source": [
    "dados.shape"
   ]
  },
  {
   "cell_type": "markdown",
   "metadata": {},
   "source": [
    " ## Criando um filtro e pegando apenas os 10 delitos mais praticados"
   ]
  },
  {
   "cell_type": "code",
   "execution_count": null,
   "metadata": {},
   "outputs": [],
   "source": [
    "dados.descricao_da_ofensa.value_counts().head(10)"
   ]
  },
  {
   "cell_type": "code",
   "execution_count": null,
   "metadata": {},
   "outputs": [],
   "source": [
    "dados.descricao_da_ofensa.value_counts().head(10).sum()"
   ]
  },
  {
   "cell_type": "code",
   "execution_count": null,
   "metadata": {},
   "outputs": [],
   "source": [
    "lista_delitos_recorrentes = dict(dados.descricao_da_ofensa.value_counts().head(15))\n",
    "lista_delitos_recorrentes = list(lista_delitos_recorrentes.keys())"
   ]
  },
  {
   "cell_type": "code",
   "execution_count": null,
   "metadata": {},
   "outputs": [],
   "source": [
    "dados = dados.set_index('descricao_da_ofensa')"
   ]
  },
  {
   "cell_type": "code",
   "execution_count": null,
   "metadata": {},
   "outputs": [],
   "source": [
    "dados = dados.loc[lista_delitos_recorrentes]"
   ]
  },
  {
   "cell_type": "code",
   "execution_count": null,
   "metadata": {
    "colab": {
     "base_uri": "https://localhost:8080/"
    },
    "id": "OUEPHumICuuR",
    "outputId": "983be7d6-af88-44aa-e0a8-03059811a181"
   },
   "outputs": [],
   "source": [
    "dados.assalto.value_counts()"
   ]
  },
  {
   "cell_type": "code",
   "execution_count": null,
   "metadata": {},
   "outputs": [],
   "source": [
    "dados = dados.reset_index()"
   ]
  },
  {
   "cell_type": "code",
   "execution_count": null,
   "metadata": {
    "colab": {
     "base_uri": "https://localhost:8080/",
     "height": 669
    },
    "id": "kwqz0LLLCuuR",
    "outputId": "fe79f02f-a58b-4e0f-a2f5-de3b3e7f672b"
   },
   "outputs": [],
   "source": [
    "dados.head()"
   ]
  },
  {
   "cell_type": "code",
   "execution_count": null,
   "metadata": {
    "colab": {
     "base_uri": "https://localhost:8080/"
    },
    "id": "KwkxRCajCuuT",
    "outputId": "5c72c7d2-1f7f-4066-ab43-46f9b25a1f15"
   },
   "outputs": [],
   "source": [
    "dados.shape"
   ]
  },
  {
   "cell_type": "markdown",
   "metadata": {
    "id": "E8o8skMLCuuU"
   },
   "source": [
    "## 3- Visualização dos dados"
   ]
  },
  {
   "cell_type": "code",
   "execution_count": null,
   "metadata": {
    "colab": {
     "base_uri": "https://localhost:8080/",
     "height": 297
    },
    "id": "rMDCdjD1CuuU",
    "outputId": "de39e5b7-adde-4105-ab5e-32497e9b2550"
   },
   "outputs": [],
   "source": [
    "dados.describe()"
   ]
  },
  {
   "cell_type": "code",
   "execution_count": null,
   "metadata": {
    "colab": {
     "base_uri": "https://localhost:8080/",
     "height": 235
    },
    "id": "Ij8J4jg8CuuU",
    "outputId": "6be54d29-f061-4f43-fe27-1425b50b72f1"
   },
   "outputs": [],
   "source": [
    "dados.corr().T"
   ]
  },
  {
   "cell_type": "code",
   "execution_count": null,
   "metadata": {
    "colab": {
     "base_uri": "https://localhost:8080/",
     "height": 286
    },
    "id": "ethgccpFCuuV",
    "outputId": "baa7a0f0-fa34-4011-976a-5a262e8dae53"
   },
   "outputs": [],
   "source": [
    "plt.figure(figsize=(10,6))\n",
    "sns.heatmap(dados.corr(), annot=True, center=0, cmap=\"YlGnBu\")\n",
    "plt.show()"
   ]
  },
  {
   "cell_type": "markdown",
   "metadata": {
    "id": "yRt7TVb-CuuV"
   },
   "source": [
    "# 4 - Modelagem"
   ]
  },
  {
   "cell_type": "markdown",
   "metadata": {
    "id": "gYeIVZFgCuuV"
   },
   "source": [
    "## 4.1 Preparação dos Dados\n",
    "- Separação Treino/Teste\n",
    "- Separar Dados de Entrada (Atributos) e de saída (target)\n",
    "- Tratar colunas categóricas\n",
    "- Tratar dados ausentes\n"
   ]
  },
  {
   "cell_type": "markdown",
   "metadata": {
    "id": "6zCySluRCuuW"
   },
   "source": [
    " - Convertendo variáveis categóricas em variáveis numéricas e definindo os dados de entrada e de saída.\n",
    " \n",
    "      - No caso apenas as colunas que serão utilizadas na modelagem serão convertidas."
   ]
  },
  {
   "cell_type": "code",
   "execution_count": null,
   "metadata": {
    "id": "7Jg82jiVCuuW"
   },
   "outputs": [],
   "source": [
    "from sklearn.preprocessing import LabelEncoder"
   ]
  },
  {
   "cell_type": "code",
   "execution_count": null,
   "metadata": {
    "id": "rNZTx9LcCuuX"
   },
   "outputs": [],
   "source": [
    "enconder = LabelEncoder()"
   ]
  },
  {
   "cell_type": "code",
   "execution_count": null,
   "metadata": {
    "colab": {
     "base_uri": "https://localhost:8080/"
    },
    "id": "_fbwO1T-CuuX",
    "outputId": "e2f7fb23-b5ab-4869-ed9f-5c787fb56957"
   },
   "outputs": [],
   "source": [
    "dados.columns"
   ]
  },
  {
   "cell_type": "code",
   "execution_count": null,
   "metadata": {
    "colab": {
     "base_uri": "https://localhost:8080/"
    },
    "id": "zqpWe4VXCuuY",
    "outputId": "916cec48-9dc9-42c1-a83e-52002ab4385f"
   },
   "outputs": [],
   "source": [
    "dados.info()"
   ]
  },
  {
   "cell_type": "code",
   "execution_count": null,
   "metadata": {
    "id": "0mSLmuOECuuY"
   },
   "outputs": [],
   "source": [
    "# dados['nivel_da_ofensa'] = enconder.fit_transform(dados['nivel_da_ofensa'])\n",
    "# dados['idade_do_infrator'] = enconder.fit_transform(dados['idade_do_infrator'])\n",
    "# dados['descricao_da_ofensa'] = enconder.fit_transform(dados['descricao_da_ofensa'])\n",
    "# dados['sexo_do_infrator'] = enconder.fit_transform(dados['sexo_do_infrator'])\n",
    "# dados['raca_do_infrator'] = enconder.fit_transform(dados['raca_do_infrator'])\n",
    "# dados['dia'] = enconder.fit_transform(dados['dia'])\n",
    "# dados['mes'] = enconder.fit_transform(dados['mes'])\n",
    "# dados['latitude'] = enconder.fit_transform(dados['latitude'])\n",
    "# dados['longitude'] = enconder.fit_transform(dados['longitude'])\n",
    "# dados['data_da_ocorrencia'] = enconder.fit_transform(dados['data_da_ocorrencia'])"
   ]
  },
  {
   "cell_type": "code",
   "execution_count": null,
   "metadata": {
    "id": "NMFCYh5ECuuY"
   },
   "outputs": [],
   "source": [
    "dados['bairro'] = enconder.fit_transform(dados['bairro'])\n",
    "dados['dia_da_semana'] = enconder.fit_transform(dados['dia_da_semana'])"
   ]
  },
  {
   "cell_type": "code",
   "execution_count": null,
   "metadata": {
    "colab": {
     "base_uri": "https://localhost:8080/",
     "height": 204
    },
    "id": "hYn1ur-sCuuf",
    "outputId": "dac13810-bff6-4c9d-b64a-a41f96fa3c85"
   },
   "outputs": [],
   "source": [
    "dados.head()"
   ]
  },
  {
   "cell_type": "markdown",
   "metadata": {
    "id": "U_W7GDZECuug"
   },
   "source": [
    "Separando as variaveis em X e Y"
   ]
  },
  {
   "cell_type": "code",
   "execution_count": null,
   "metadata": {
    "id": "vqvj7jRtCuui"
   },
   "outputs": [],
   "source": [
    "X = dados[['latitude', 'longitude','bairro','dia', 'mes', 'dia_da_semana']]\n",
    "Y = dados['assalto']"
   ]
  },
  {
   "cell_type": "markdown",
   "metadata": {
    "id": "UzgQ_xFhCuuj"
   },
   "source": [
    " - Separando as amostras de treino e teste"
   ]
  },
  {
   "cell_type": "code",
   "execution_count": null,
   "metadata": {
    "id": "4FJ3upxECuuj"
   },
   "outputs": [],
   "source": [
    "from sklearn.model_selection import train_test_split"
   ]
  },
  {
   "cell_type": "code",
   "execution_count": null,
   "metadata": {
    "id": "GM98wcFMCuuj"
   },
   "outputs": [],
   "source": [
    "X_treino,X_teste,Y_treino,Y_teste = train_test_split(X,Y,test_size=0.25,random_state=123 , stratify = Y)"
   ]
  },
  {
   "cell_type": "markdown",
   "metadata": {
    "id": "9YbFZxf3Cuuk"
   },
   "source": [
    " - Criando um Benchmark"
   ]
  },
  {
   "cell_type": "code",
   "execution_count": null,
   "metadata": {
    "colab": {
     "base_uri": "https://localhost:8080/"
    },
    "id": "slNV38UQCuuk",
    "outputId": "d5cb3e8b-c933-4a5c-8aa2-def998f17a83"
   },
   "outputs": [],
   "source": [
    "from sklearn.dummy import DummyClassifier\n",
    "\n",
    "dummy_clf = DummyClassifier(strategy=\"most_frequent\")\n",
    "dummy_clf.fit(X_treino, Y_treino)\n",
    "y_pred = dummy_clf.predict(X_teste)\n",
    "acuracia = dummy_clf.score(X_teste, Y_teste) * 100\n",
    "\n",
    "print('A acurácia do dummy mostfrequent foi %.2f%%' % acuracia)"
   ]
  },
  {
   "cell_type": "code",
   "execution_count": null,
   "metadata": {
    "colab": {
     "base_uri": "https://localhost:8080/",
     "height": 297
    },
    "id": "m4dpcGTjCuuk",
    "outputId": "c8f063fb-a817-4f11-a11b-29286d3d9097"
   },
   "outputs": [],
   "source": [
    "from sklearn.metrics import confusion_matrix\n",
    "\n",
    "cm=confusion_matrix(Y_teste, y_pred)\n",
    "sns.heatmap(cm, annot=True, fmt='g')\n",
    "\n",
    "plt.xlabel('Predição( 1 ou 0)')\n",
    "plt.ylabel('Real ( 1 ou 0)')"
   ]
  },
  {
   "cell_type": "code",
   "execution_count": null,
   "metadata": {
    "colab": {
     "base_uri": "https://localhost:8080/"
    },
    "id": "D7KkvQn-Cuul",
    "outputId": "94299886-462e-4fbe-d4d2-bd1ed348d56c"
   },
   "outputs": [],
   "source": [
    "from sklearn.metrics import roc_auc_score\n",
    "\n",
    "y_proba = dummy_clf.predict_proba(X_teste)\n",
    "roc_auc_score(Y_teste, y_proba[:, 1])"
   ]
  },
  {
   "cell_type": "code",
   "execution_count": null,
   "metadata": {
    "colab": {
     "base_uri": "https://localhost:8080/"
    },
    "id": "mM8DAcypCuul",
    "outputId": "243a05b5-d70a-4783-ece9-3eec767c566e"
   },
   "outputs": [],
   "source": [
    "from sklearn.metrics import classification_report\n",
    "print(classification_report(Y_teste, y_pred))"
   ]
  },
  {
   "cell_type": "markdown",
   "metadata": {
    "id": "rXoox4F3Cuum"
   },
   "source": [
    " - Fazendo uma triagem com outros modelos"
   ]
  },
  {
   "cell_type": "code",
   "execution_count": null,
   "metadata": {
    "id": "oIKF7EU-Cuum"
   },
   "outputs": [],
   "source": [
    "from sklearn.linear_model import LogisticRegression\n",
    "from sklearn.tree import DecisionTreeClassifier\n",
    "from sklearn.ensemble import RandomForestClassifier\n",
    "from xgboost import XGBClassifier"
   ]
  },
  {
   "cell_type": "code",
   "execution_count": null,
   "metadata": {
    "colab": {
     "base_uri": "https://localhost:8080/"
    },
    "id": "EoVLnNsOCuum",
    "outputId": "0733740f-cd3c-42e8-d925-bec2616d6900"
   },
   "outputs": [],
   "source": [
    "lista_classificacores = [ LogisticRegression(),\n",
    "                         DecisionTreeClassifier(),\n",
    "                         RandomForestClassifier(),\n",
    "                         XGBClassifier()]\n",
    "\n",
    "for clf in lista_classificacores:\n",
    "  print(clf.__class__.__name__)\n",
    "  clf.fit(X_treino, Y_treino)\n",
    "\n",
    "  print('Acuracia')\n",
    "  train_acc = clf.score(X_treino, Y_treino)\n",
    "  test_acc = clf.score(X_teste, Y_teste)\n",
    "  print('Treino:', train_acc)\n",
    "  print('Teste:', test_acc)\n",
    "\n",
    "  print('ROC AUC')\n",
    "\n",
    "  y_proba_treino = clf.predict_proba(X_treino)\n",
    "  roc_treino = roc_auc_score(Y_treino, y_proba_treino[:, 1])\n",
    "  print('Treino', roc_treino)\n",
    "\n",
    "  y_proba_teste = clf.predict_proba(X_teste)\n",
    "  roc_teste = roc_auc_score(Y_teste, y_proba_teste[:, 1])\n",
    "  print('Test', roc_teste)\n",
    "  print('='*80)"
   ]
  },
  {
   "cell_type": "markdown",
   "metadata": {},
   "source": [
    " - Escolhendo o modelo RandomForest, pois foi o que obteve o melhor score de teste e o melhor ROC AUC"
   ]
  },
  {
   "cell_type": "code",
   "execution_count": null,
   "metadata": {
    "id": "G8WUA3WnCuun"
   },
   "outputs": [],
   "source": [
    "modelo = RandomForestClassifier()"
   ]
  },
  {
   "cell_type": "code",
   "execution_count": null,
   "metadata": {
    "colab": {
     "base_uri": "https://localhost:8080/"
    },
    "id": "JxHYgIg8Cuun",
    "outputId": "78a30f4a-588c-4931-9394-d05ea21f66d3"
   },
   "outputs": [],
   "source": [
    "modelo.fit(X_treino, Y_treino)"
   ]
  },
  {
   "cell_type": "code",
   "execution_count": null,
   "metadata": {
    "id": "XYka9iK7Cuuo"
   },
   "outputs": [],
   "source": [
    "Y_previsto = modelo.predict(X_teste)"
   ]
  },
  {
   "cell_type": "markdown",
   "metadata": {
    "id": "7WStGxSzCuuo"
   },
   "source": [
    " - Gerando a matriz de confusão"
   ]
  },
  {
   "cell_type": "code",
   "execution_count": null,
   "metadata": {
    "colab": {
     "base_uri": "https://localhost:8080/",
     "height": 296
    },
    "id": "-gq5TMTeCuuz",
    "outputId": "aa3ecade-ef9c-4422-d073-755fbe1de6f6"
   },
   "outputs": [],
   "source": [
    "cm=confusion_matrix(Y_teste, Y_previsto)\n",
    "sns.heatmap(cm, annot=True, fmt='g')\n",
    "\n",
    "plt.xlabel('Predição( 1 ou 0)')\n",
    "plt.ylabel('Real ( 1 ou 0)')"
   ]
  },
  {
   "cell_type": "code",
   "execution_count": null,
   "metadata": {
    "colab": {
     "base_uri": "https://localhost:8080/"
    },
    "id": "VCXJ6lfiCuu0",
    "outputId": "995862ca-b6eb-4449-8cd9-c3953d5ae1e5"
   },
   "outputs": [],
   "source": [
    "from sklearn.metrics import roc_auc_score\n",
    "\n",
    "y_proba = clf.predict_proba(X_teste)\n",
    "roc_auc_score(Y_teste, y_proba[:, 1])"
   ]
  },
  {
   "cell_type": "markdown",
   "metadata": {},
   "source": [
    "- Ajustando o treshold do modelo."
   ]
  },
  {
   "cell_type": "code",
   "execution_count": null,
   "metadata": {},
   "outputs": [],
   "source": [
    "cm=confusion_matrix(Y_teste, y_proba[:, 1] > 0.1)\n",
    "sns.heatmap(cm, annot=True, fmt='g')\n",
    "\n",
    "plt.xlabel('Predição( 1 ou 0)')\n",
    "plt.ylabel('Real ( 1 ou 0)')"
   ]
  },
  {
   "cell_type": "code",
   "execution_count": null,
   "metadata": {},
   "outputs": [],
   "source": [
    "y_proba = clf.predict_proba(X_teste)\n",
    "roc_auc_score(Y_teste, y_proba[:, 1] >0.15)"
   ]
  },
  {
   "cell_type": "code",
   "execution_count": null,
   "metadata": {},
   "outputs": [],
   "source": []
  },
  {
   "cell_type": "code",
   "execution_count": null,
   "metadata": {
    "colab": {
     "base_uri": "https://localhost:8080/"
    },
    "id": "-16I1CIwCuu1",
    "outputId": "e9287b96-8ebe-4810-c133-186e3ae861d2"
   },
   "outputs": [],
   "source": [
    "from sklearn.metrics import classification_report\n",
    "print(classification_report(Y_teste, y_proba[:, 1] > 0.15))"
   ]
  },
  {
   "cell_type": "code",
   "execution_count": null,
   "metadata": {
    "id": "4WuglbaCCuu1"
   },
   "outputs": [],
   "source": [
    "from sklearn.metrics import classification_report\n",
    "print(classification_report(Y_teste, Y_previsto))"
   ]
  },
  {
   "cell_type": "markdown",
   "metadata": {
    "id": "xaMH1AbDCuu1"
   },
   "source": [
    "# GridSearch"
   ]
  },
  {
   "cell_type": "code",
   "execution_count": null,
   "metadata": {
    "id": "vgPODNxzCuu2"
   },
   "outputs": [],
   "source": [
    "from sklearn.model_selection import GridSearchCV"
   ]
  },
  {
   "cell_type": "code",
   "execution_count": null,
   "metadata": {
    "id": "04606d-VCuu2"
   },
   "outputs": [],
   "source": [
    "parametros = {'n_estimators' : np.arange(80,210,10),\n",
    "              'criterion' : ['gini','entropy'], \n",
    "              'max_depth' : np.arange(2,6),\n",
    "              'min_samples_split' : np.arange(2,5),}\n",
    "              'max_features' : ['auto','sqrt','log2']}\n"
   ]
  },
  {
   "cell_type": "code",
   "execution_count": null,
   "metadata": {
    "id": "-StIP206GZxL"
   },
   "outputs": [],
   "source": [
    "# parametros = {'max_depth' : np.arange(1,10),\n",
    "#               'criterion' : ['gini','entropy'],\n",
    "#               }"
   ]
  },
  {
   "cell_type": "code",
   "execution_count": null,
   "metadata": {
    "id": "D6PHXr_SCuu2"
   },
   "outputs": [],
   "source": [
    "melhor_modelo = GridSearchCV(modelo, parametros, n_jobs=-1 ,  cv=5 , refit = True)"
   ]
  },
  {
   "cell_type": "code",
   "execution_count": null,
   "metadata": {},
   "outputs": [],
   "source": [
    "melhor_modelo.fit(x_treino, y_treino)"
   ]
  },
  {
   "cell_type": "code",
   "execution_count": null,
   "metadata": {},
   "outputs": [],
   "source": [
    "melhor_modelo.best_estimator_"
   ]
  },
  {
   "cell_type": "code",
   "execution_count": null,
   "metadata": {
    "id": "mIOc8K1hCuvD"
   },
   "outputs": [],
   "source": [
    "modelo_final = melhor_modelo.best_estimator_"
   ]
  },
  {
   "cell_type": "code",
   "execution_count": null,
   "metadata": {
    "colab": {
     "base_uri": "https://localhost:8080/"
    },
    "id": "bYvo45EFCuvD",
    "outputId": "d04d1686-3b91-4a76-e7f6-a41abf8e9a63"
   },
   "outputs": [],
   "source": [
    "modelo_final.fit(X_treino, Y_treino)"
   ]
  },
  {
   "cell_type": "code",
   "execution_count": null,
   "metadata": {
    "id": "Vmmo5ep0CuvD"
   },
   "outputs": [],
   "source": [
    "Y_previsto = modelo_final.predict(X_teste)"
   ]
  },
  {
   "cell_type": "code",
   "execution_count": null,
   "metadata": {
    "colab": {
     "base_uri": "https://localhost:8080/"
    },
    "id": "UVQH9g8SCuvE",
    "outputId": "f7620db7-da59-46f0-99f7-ac6658951e30"
   },
   "outputs": [],
   "source": [
    "score_teste = modelo_final.score(X_teste,Y_teste)\n",
    "score_teste"
   ]
  },
  {
   "cell_type": "code",
   "execution_count": null,
   "metadata": {
    "colab": {
     "base_uri": "https://localhost:8080/",
     "height": 296
    },
    "id": "_hq06mmiCuvE",
    "outputId": "9335ecdb-1276-4043-82ae-f00b542d5d0e"
   },
   "outputs": [],
   "source": [
    "cm=confusion_matrix(Y_teste, Y_previsto)\n",
    "sns.heatmap(cm, annot=True, fmt='g')\n",
    "\n",
    "plt.xlabel('Predição( 1 ou 0)')\n",
    "plt.ylabel('Real ( 1 ou 0)')"
   ]
  },
  {
   "cell_type": "code",
   "execution_count": null,
   "metadata": {
    "colab": {
     "base_uri": "https://localhost:8080/"
    },
    "id": "sG75NaWJCuvE",
    "outputId": "602d3fb9-dff8-4e52-d005-8e919ad14fa9"
   },
   "outputs": [],
   "source": [
    "y_proba = clf.predict_proba(x_teste)\n",
    "roc_auc_score(Y_teste, y_proba[:, 1])"
   ]
  },
  {
   "cell_type": "code",
   "execution_count": null,
   "metadata": {
    "colab": {
     "base_uri": "https://localhost:8080/"
    },
    "id": "8vu74IfKCuvF",
    "outputId": "05ee12a2-e1f1-4d37-c208-20407be005bd"
   },
   "outputs": [],
   "source": [
    "from sklearn.metrics import classification_report\n",
    "print(classification_report(Y_teste, Y_previsto))"
   ]
  },
  {
   "cell_type": "code",
   "execution_count": null,
   "metadata": {
    "id": "0Y2jF9cVCuvG"
   },
   "outputs": [],
   "source": []
  }
 ],
 "metadata": {
  "colab": {
   "collapsed_sections": [],
   "name": "classificacao_assalto_NYC.ipynb",
   "provenance": [],
   "toc_visible": true
  },
  "kernelspec": {
   "display_name": "Python 3",
   "language": "python",
   "name": "python3"
  },
  "language_info": {
   "codemirror_mode": {
    "name": "ipython",
    "version": 3
   },
   "file_extension": ".py",
   "mimetype": "text/x-python",
   "name": "python",
   "nbconvert_exporter": "python",
   "pygments_lexer": "ipython3",
   "version": "3.8.3"
  }
 },
 "nbformat": 4,
 "nbformat_minor": 1
}
