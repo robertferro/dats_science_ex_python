{
  "nbformat": 4,
  "nbformat_minor": 0,
  "metadata": {
    "colab": {
      "name": "classificacao_assalto_NYC_get_dummies.ipynb",
      "provenance": [],
      "collapsed_sections": [],
      "toc_visible": true
    },
    "kernelspec": {
      "display_name": "Python 3",
      "language": "python",
      "name": "python3"
    },
    "language_info": {
      "codemirror_mode": {
        "name": "ipython",
        "version": 3
      },
      "file_extension": ".py",
      "mimetype": "text/x-python",
      "name": "python",
      "nbconvert_exporter": "python",
      "pygments_lexer": "ipython3",
      "version": "3.8.3"
    }
  },
  "cells": [
    {
      "cell_type": "markdown",
      "metadata": {
        "id": "EpoZtV52tq52"
      },
      "source": [
        "## Objetivo: Classificar a chance de ocorrer um assalto de acordo com a localização, mês, dia do mês e dia da semana."
      ]
    },
    {
      "cell_type": "markdown",
      "metadata": {
        "id": "NBm2Z4daCutf"
      },
      "source": [
        "## 1- Importando a base de dados"
      ]
    },
    {
      "cell_type": "code",
      "metadata": {
        "id": "NpHeI-PMj_aQ"
      },
      "source": [
        "import pandas as pd\n",
        "import seaborn as sns\n",
        "import matplotlib.pyplot as plt\n",
        "import numpy as np"
      ],
      "execution_count": 1,
      "outputs": []
    },
    {
      "cell_type": "code",
      "metadata": {
        "id": "_fpQhayPCuti"
      },
      "source": [
        "url = 'https://raw.githubusercontent.com/robertferro/delitos_NY_2020/master/2%20-%20EDA/dados_pre_processados.csv'"
      ],
      "execution_count": 2,
      "outputs": []
    },
    {
      "cell_type": "code",
      "metadata": {
        "id": "x3gtHxJzCuti"
      },
      "source": [
        "df = pd.read_csv(url)"
      ],
      "execution_count": 3,
      "outputs": []
    },
    {
      "cell_type": "code",
      "metadata": {
        "colab": {
          "base_uri": "https://localhost:8080/",
          "height": 204
        },
        "id": "IyBc8YZnCutj",
        "outputId": "f62307e1-f2b4-4ed6-b03e-d240429cc57f"
      },
      "source": [
        "df.head()"
      ],
      "execution_count": 4,
      "outputs": [
        {
          "output_type": "execute_result",
          "data": {
            "text/html": [
              "<div>\n",
              "<style scoped>\n",
              "    .dataframe tbody tr th:only-of-type {\n",
              "        vertical-align: middle;\n",
              "    }\n",
              "\n",
              "    .dataframe tbody tr th {\n",
              "        vertical-align: top;\n",
              "    }\n",
              "\n",
              "    .dataframe thead th {\n",
              "        text-align: right;\n",
              "    }\n",
              "</style>\n",
              "<table border=\"1\" class=\"dataframe\">\n",
              "  <thead>\n",
              "    <tr style=\"text-align: right;\">\n",
              "      <th></th>\n",
              "      <th>descricao_da_ofensa</th>\n",
              "      <th>data_da_ocorrencia</th>\n",
              "      <th>bairro</th>\n",
              "      <th>bairro_id</th>\n",
              "      <th>latitude</th>\n",
              "      <th>longitude</th>\n",
              "      <th>ano</th>\n",
              "      <th>dia</th>\n",
              "      <th>mes</th>\n",
              "      <th>dia_da_semana</th>\n",
              "      <th>dia_da_semana_id</th>\n",
              "      <th>fds</th>\n",
              "      <th>assalto</th>\n",
              "    </tr>\n",
              "  </thead>\n",
              "  <tbody>\n",
              "    <tr>\n",
              "      <th>0</th>\n",
              "      <td>FELONY ASSAULT</td>\n",
              "      <td>2020-12-25</td>\n",
              "      <td>Bronx</td>\n",
              "      <td>0</td>\n",
              "      <td>40.808798</td>\n",
              "      <td>-73.916184</td>\n",
              "      <td>2020</td>\n",
              "      <td>25</td>\n",
              "      <td>12</td>\n",
              "      <td>Friday</td>\n",
              "      <td>0</td>\n",
              "      <td>0</td>\n",
              "      <td>1</td>\n",
              "    </tr>\n",
              "    <tr>\n",
              "      <th>1</th>\n",
              "      <td>ROBBERY</td>\n",
              "      <td>2020-12-22</td>\n",
              "      <td>Manhattan</td>\n",
              "      <td>2</td>\n",
              "      <td>40.845956</td>\n",
              "      <td>-73.937813</td>\n",
              "      <td>2020</td>\n",
              "      <td>22</td>\n",
              "      <td>12</td>\n",
              "      <td>Tuesday</td>\n",
              "      <td>5</td>\n",
              "      <td>0</td>\n",
              "      <td>1</td>\n",
              "    </tr>\n",
              "    <tr>\n",
              "      <th>2</th>\n",
              "      <td>FELONY ASSAULT</td>\n",
              "      <td>2020-12-21</td>\n",
              "      <td>Queens</td>\n",
              "      <td>3</td>\n",
              "      <td>40.682398</td>\n",
              "      <td>-73.840079</td>\n",
              "      <td>2020</td>\n",
              "      <td>21</td>\n",
              "      <td>12</td>\n",
              "      <td>Monday</td>\n",
              "      <td>1</td>\n",
              "      <td>0</td>\n",
              "      <td>1</td>\n",
              "    </tr>\n",
              "    <tr>\n",
              "      <th>3</th>\n",
              "      <td>FELONY ASSAULT</td>\n",
              "      <td>2020-12-10</td>\n",
              "      <td>Queens</td>\n",
              "      <td>3</td>\n",
              "      <td>40.689336</td>\n",
              "      <td>-73.800409</td>\n",
              "      <td>2020</td>\n",
              "      <td>10</td>\n",
              "      <td>12</td>\n",
              "      <td>Thursday</td>\n",
              "      <td>4</td>\n",
              "      <td>0</td>\n",
              "      <td>1</td>\n",
              "    </tr>\n",
              "    <tr>\n",
              "      <th>4</th>\n",
              "      <td>FORGERY</td>\n",
              "      <td>2020-12-09</td>\n",
              "      <td>Staten_Island</td>\n",
              "      <td>4</td>\n",
              "      <td>40.634708</td>\n",
              "      <td>-74.124241</td>\n",
              "      <td>2020</td>\n",
              "      <td>9</td>\n",
              "      <td>12</td>\n",
              "      <td>Wednesday</td>\n",
              "      <td>6</td>\n",
              "      <td>0</td>\n",
              "      <td>0</td>\n",
              "    </tr>\n",
              "  </tbody>\n",
              "</table>\n",
              "</div>"
            ],
            "text/plain": [
              "  descricao_da_ofensa data_da_ocorrencia  ... fds  assalto\n",
              "0      FELONY ASSAULT         2020-12-25  ...   0        1\n",
              "1             ROBBERY         2020-12-22  ...   0        1\n",
              "2      FELONY ASSAULT         2020-12-21  ...   0        1\n",
              "3      FELONY ASSAULT         2020-12-10  ...   0        1\n",
              "4             FORGERY         2020-12-09  ...   0        0\n",
              "\n",
              "[5 rows x 13 columns]"
            ]
          },
          "metadata": {
            "tags": []
          },
          "execution_count": 4
        }
      ]
    },
    {
      "cell_type": "code",
      "metadata": {
        "colab": {
          "base_uri": "https://localhost:8080/"
        },
        "id": "dIUUOrJndRJb",
        "outputId": "0f547536-cf39-4194-e389-5ebb9dd88a39"
      },
      "source": [
        "df.info()"
      ],
      "execution_count": 5,
      "outputs": [
        {
          "output_type": "stream",
          "text": [
            "<class 'pandas.core.frame.DataFrame'>\n",
            "RangeIndex: 140413 entries, 0 to 140412\n",
            "Data columns (total 13 columns):\n",
            " #   Column               Non-Null Count   Dtype  \n",
            "---  ------               --------------   -----  \n",
            " 0   descricao_da_ofensa  140376 non-null  object \n",
            " 1   data_da_ocorrencia   140413 non-null  object \n",
            " 2   bairro               140413 non-null  object \n",
            " 3   bairro_id            140413 non-null  int64  \n",
            " 4   latitude             140413 non-null  float64\n",
            " 5   longitude            140413 non-null  float64\n",
            " 6   ano                  140413 non-null  int64  \n",
            " 7   dia                  140413 non-null  int64  \n",
            " 8   mes                  140413 non-null  int64  \n",
            " 9   dia_da_semana        140413 non-null  object \n",
            " 10  dia_da_semana_id     140413 non-null  int64  \n",
            " 11  fds                  140413 non-null  int64  \n",
            " 12  assalto              140413 non-null  int64  \n",
            "dtypes: float64(2), int64(7), object(4)\n",
            "memory usage: 13.9+ MB\n"
          ],
          "name": "stdout"
        }
      ]
    },
    {
      "cell_type": "markdown",
      "metadata": {
        "id": "9MJirB7CCutk"
      },
      "source": [
        "## 2- Preparaçao dos dados"
      ]
    },
    {
      "cell_type": "markdown",
      "metadata": {
        "id": "5qsBO-hSCutm"
      },
      "source": [
        " - Conventerndo a coluna data_da_ocorrencia para formato datetime"
      ]
    },
    {
      "cell_type": "code",
      "metadata": {
        "id": "spTyivLvCutn"
      },
      "source": [
        "df[\"data_da_ocorrencia\"] = pd.to_datetime(df[\"data_da_ocorrencia\"] )"
      ],
      "execution_count": 6,
      "outputs": []
    },
    {
      "cell_type": "code",
      "metadata": {
        "colab": {
          "base_uri": "https://localhost:8080/"
        },
        "id": "bVTbUVOsCuto",
        "outputId": "3e667e28-276d-4ebd-9b62-6f875ff91259"
      },
      "source": [
        "df.isna().sum()"
      ],
      "execution_count": 7,
      "outputs": [
        {
          "output_type": "execute_result",
          "data": {
            "text/plain": [
              "descricao_da_ofensa    37\n",
              "data_da_ocorrencia      0\n",
              "bairro                  0\n",
              "bairro_id               0\n",
              "latitude                0\n",
              "longitude               0\n",
              "ano                     0\n",
              "dia                     0\n",
              "mes                     0\n",
              "dia_da_semana           0\n",
              "dia_da_semana_id        0\n",
              "fds                     0\n",
              "assalto                 0\n",
              "dtype: int64"
            ]
          },
          "metadata": {
            "tags": []
          },
          "execution_count": 7
        }
      ]
    },
    {
      "cell_type": "code",
      "metadata": {
        "id": "1o48I-cP8LxQ"
      },
      "source": [
        "df=df.dropna()"
      ],
      "execution_count": 8,
      "outputs": []
    },
    {
      "cell_type": "code",
      "metadata": {
        "colab": {
          "base_uri": "https://localhost:8080/"
        },
        "id": "Y8N0wHAxCuto",
        "outputId": "9ba3efa2-3e23-473b-be5b-131aaafa9a14"
      },
      "source": [
        "df.info()"
      ],
      "execution_count": 9,
      "outputs": [
        {
          "output_type": "stream",
          "text": [
            "<class 'pandas.core.frame.DataFrame'>\n",
            "Int64Index: 140376 entries, 0 to 140412\n",
            "Data columns (total 13 columns):\n",
            " #   Column               Non-Null Count   Dtype         \n",
            "---  ------               --------------   -----         \n",
            " 0   descricao_da_ofensa  140376 non-null  object        \n",
            " 1   data_da_ocorrencia   140376 non-null  datetime64[ns]\n",
            " 2   bairro               140376 non-null  object        \n",
            " 3   bairro_id            140376 non-null  int64         \n",
            " 4   latitude             140376 non-null  float64       \n",
            " 5   longitude            140376 non-null  float64       \n",
            " 6   ano                  140376 non-null  int64         \n",
            " 7   dia                  140376 non-null  int64         \n",
            " 8   mes                  140376 non-null  int64         \n",
            " 9   dia_da_semana        140376 non-null  object        \n",
            " 10  dia_da_semana_id     140376 non-null  int64         \n",
            " 11  fds                  140376 non-null  int64         \n",
            " 12  assalto              140376 non-null  int64         \n",
            "dtypes: datetime64[ns](1), float64(2), int64(7), object(3)\n",
            "memory usage: 15.0+ MB\n"
          ],
          "name": "stdout"
        }
      ]
    },
    {
      "cell_type": "markdown",
      "metadata": {
        "id": "oHHKZmPb8-mR"
      },
      "source": [
        "- Selecionando apenas os principais delitos."
      ]
    },
    {
      "cell_type": "code",
      "metadata": {
        "colab": {
          "base_uri": "https://localhost:8080/"
        },
        "id": "sR3msRep897z",
        "outputId": "e2aa6f22-8663-4bac-d51f-a47a71990dac"
      },
      "source": [
        "df.descricao_da_ofensa.value_counts().head(10)"
      ],
      "execution_count": 10,
      "outputs": [
        {
          "output_type": "execute_result",
          "data": {
            "text/plain": [
              "ASSAULT 3 & RELATED OFFENSES      23731\n",
              "FELONY ASSAULT                    13475\n",
              "PETIT LARCENY                     11406\n",
              "DANGEROUS DRUGS                   11289\n",
              "MISCELLANEOUS PENAL LAW            9133\n",
              "ROBBERY                            7948\n",
              "CRIMINAL MISCHIEF & RELATED OF     7831\n",
              "DANGEROUS WEAPONS                  6710\n",
              "GRAND LARCENY                      6542\n",
              "BURGLARY                           6056\n",
              "Name: descricao_da_ofensa, dtype: int64"
            ]
          },
          "metadata": {
            "tags": []
          },
          "execution_count": 10
        }
      ]
    },
    {
      "cell_type": "code",
      "metadata": {
        "id": "386dQV2_89_H"
      },
      "source": [
        "lista_select = list(dict(df.descricao_da_ofensa.value_counts().head(10)).keys())"
      ],
      "execution_count": 11,
      "outputs": []
    },
    {
      "cell_type": "code",
      "metadata": {
        "id": "Q49MGvaK8-Fj"
      },
      "source": [
        "df = df.set_index('descricao_da_ofensa')\n",
        "df = df.loc[lista_select]"
      ],
      "execution_count": 12,
      "outputs": []
    },
    {
      "cell_type": "code",
      "metadata": {
        "colab": {
          "base_uri": "https://localhost:8080/"
        },
        "id": "CazqaM1C9af0",
        "outputId": "c01b260b-1c1a-4a0e-a766-7915f17bcb62"
      },
      "source": [
        "df = df.reset_index()\n",
        "df.descricao_da_ofensa.value_counts()"
      ],
      "execution_count": 13,
      "outputs": [
        {
          "output_type": "execute_result",
          "data": {
            "text/plain": [
              "ASSAULT 3 & RELATED OFFENSES      23731\n",
              "FELONY ASSAULT                    13475\n",
              "PETIT LARCENY                     11406\n",
              "DANGEROUS DRUGS                   11289\n",
              "MISCELLANEOUS PENAL LAW            9133\n",
              "ROBBERY                            7948\n",
              "CRIMINAL MISCHIEF & RELATED OF     7831\n",
              "DANGEROUS WEAPONS                  6710\n",
              "GRAND LARCENY                      6542\n",
              "BURGLARY                           6056\n",
              "Name: descricao_da_ofensa, dtype: int64"
            ]
          },
          "metadata": {
            "tags": []
          },
          "execution_count": 13
        }
      ]
    },
    {
      "cell_type": "markdown",
      "metadata": {
        "id": "FzybcMj9Cutr"
      },
      "source": [
        " - Excluindo colunas que não serão utilizadas e renomeando o dataset."
      ]
    },
    {
      "cell_type": "code",
      "metadata": {
        "id": "MlfgzdpsCuts"
      },
      "source": [
        "dados = df.drop(columns=['ano','descricao_da_ofensa','bairro','dia_da_semana','data_da_ocorrencia'])"
      ],
      "execution_count": 14,
      "outputs": []
    },
    {
      "cell_type": "code",
      "metadata": {
        "colab": {
          "base_uri": "https://localhost:8080/"
        },
        "id": "z1vLilZaCutt",
        "outputId": "b800bb2e-2bce-4d1c-c3ef-57be68aa9a35"
      },
      "source": [
        "dados.shape"
      ],
      "execution_count": 15,
      "outputs": [
        {
          "output_type": "execute_result",
          "data": {
            "text/plain": [
              "(104121, 8)"
            ]
          },
          "metadata": {
            "tags": []
          },
          "execution_count": 15
        }
      ]
    },
    {
      "cell_type": "code",
      "metadata": {
        "colab": {
          "base_uri": "https://localhost:8080/"
        },
        "id": "OUEPHumICuuR",
        "outputId": "24996d8c-5a97-42d6-9e61-6bd4d10e22c4"
      },
      "source": [
        "dados.assalto.value_counts()"
      ],
      "execution_count": 16,
      "outputs": [
        {
          "output_type": "execute_result",
          "data": {
            "text/plain": [
              "0    52911\n",
              "1    51210\n",
              "Name: assalto, dtype: int64"
            ]
          },
          "metadata": {
            "tags": []
          },
          "execution_count": 16
        }
      ]
    },
    {
      "cell_type": "markdown",
      "metadata": {
        "id": "yRt7TVb-CuuV"
      },
      "source": [
        "# 3 - Modelagem"
      ]
    },
    {
      "cell_type": "markdown",
      "metadata": {
        "id": "gYeIVZFgCuuV"
      },
      "source": [
        "## 3.1 Preparação dos Dados\n",
        "- Separação Treino/Teste\n",
        "- Separar Dados de Entrada (Atributos) e de saída (target)\n",
        "- Tratar colunas categóricas\n",
        "- Tratar dados ausentes\n"
      ]
    },
    {
      "cell_type": "code",
      "metadata": {
        "colab": {
          "base_uri": "https://localhost:8080/",
          "height": 204
        },
        "id": "xUeVJxfGvlbr",
        "outputId": "436030e5-c08f-48bd-e047-845a49595804"
      },
      "source": [
        "dados.head()"
      ],
      "execution_count": 17,
      "outputs": [
        {
          "output_type": "execute_result",
          "data": {
            "text/html": [
              "<div>\n",
              "<style scoped>\n",
              "    .dataframe tbody tr th:only-of-type {\n",
              "        vertical-align: middle;\n",
              "    }\n",
              "\n",
              "    .dataframe tbody tr th {\n",
              "        vertical-align: top;\n",
              "    }\n",
              "\n",
              "    .dataframe thead th {\n",
              "        text-align: right;\n",
              "    }\n",
              "</style>\n",
              "<table border=\"1\" class=\"dataframe\">\n",
              "  <thead>\n",
              "    <tr style=\"text-align: right;\">\n",
              "      <th></th>\n",
              "      <th>bairro_id</th>\n",
              "      <th>latitude</th>\n",
              "      <th>longitude</th>\n",
              "      <th>dia</th>\n",
              "      <th>mes</th>\n",
              "      <th>dia_da_semana_id</th>\n",
              "      <th>fds</th>\n",
              "      <th>assalto</th>\n",
              "    </tr>\n",
              "  </thead>\n",
              "  <tbody>\n",
              "    <tr>\n",
              "      <th>0</th>\n",
              "      <td>0</td>\n",
              "      <td>40.822298</td>\n",
              "      <td>-73.911694</td>\n",
              "      <td>20</td>\n",
              "      <td>10</td>\n",
              "      <td>5</td>\n",
              "      <td>0</td>\n",
              "      <td>1</td>\n",
              "    </tr>\n",
              "    <tr>\n",
              "      <th>1</th>\n",
              "      <td>3</td>\n",
              "      <td>40.697730</td>\n",
              "      <td>-73.845596</td>\n",
              "      <td>15</td>\n",
              "      <td>10</td>\n",
              "      <td>4</td>\n",
              "      <td>0</td>\n",
              "      <td>1</td>\n",
              "    </tr>\n",
              "    <tr>\n",
              "      <th>2</th>\n",
              "      <td>2</td>\n",
              "      <td>40.800846</td>\n",
              "      <td>-73.949030</td>\n",
              "      <td>30</td>\n",
              "      <td>9</td>\n",
              "      <td>6</td>\n",
              "      <td>0</td>\n",
              "      <td>1</td>\n",
              "    </tr>\n",
              "    <tr>\n",
              "      <th>3</th>\n",
              "      <td>0</td>\n",
              "      <td>40.838551</td>\n",
              "      <td>-73.909399</td>\n",
              "      <td>29</td>\n",
              "      <td>8</td>\n",
              "      <td>2</td>\n",
              "      <td>1</td>\n",
              "      <td>1</td>\n",
              "    </tr>\n",
              "    <tr>\n",
              "      <th>4</th>\n",
              "      <td>0</td>\n",
              "      <td>40.858584</td>\n",
              "      <td>-73.908696</td>\n",
              "      <td>9</td>\n",
              "      <td>8</td>\n",
              "      <td>3</td>\n",
              "      <td>1</td>\n",
              "      <td>1</td>\n",
              "    </tr>\n",
              "  </tbody>\n",
              "</table>\n",
              "</div>"
            ],
            "text/plain": [
              "   bairro_id   latitude  longitude  dia  mes  dia_da_semana_id  fds  assalto\n",
              "0          0  40.822298 -73.911694   20   10                 5    0        1\n",
              "1          3  40.697730 -73.845596   15   10                 4    0        1\n",
              "2          2  40.800846 -73.949030   30    9                 6    0        1\n",
              "3          0  40.838551 -73.909399   29    8                 2    1        1\n",
              "4          0  40.858584 -73.908696    9    8                 3    1        1"
            ]
          },
          "metadata": {
            "tags": []
          },
          "execution_count": 17
        }
      ]
    },
    {
      "cell_type": "code",
      "metadata": {
        "id": "RyTHpX1-OFhS"
      },
      "source": [
        "dados_ml = dados.copy()"
      ],
      "execution_count": 18,
      "outputs": []
    },
    {
      "cell_type": "code",
      "metadata": {
        "colab": {
          "base_uri": "https://localhost:8080/",
          "height": 609
        },
        "id": "MjOhUe_yxbT4",
        "outputId": "870bb472-be15-4cd9-8edd-28e8296b7f5d"
      },
      "source": [
        "plt.figure(figsize=(14,10))\n",
        "\n",
        "corr = dados_ml.corr().abs()\n",
        "mask = np.triu(np.ones_like(corr, dtype=np.bool))\n",
        "\n",
        "sns.heatmap(corr, mask=mask, annot=True, center=0, cmap=\"YlGnBu\")"
      ],
      "execution_count": 19,
      "outputs": [
        {
          "output_type": "execute_result",
          "data": {
            "text/plain": [
              "<matplotlib.axes._subplots.AxesSubplot at 0x7f142a91ff10>"
            ]
          },
          "metadata": {
            "tags": []
          },
          "execution_count": 19
        },
        {
          "output_type": "display_data",
          "data": {
            "image/png": "[encoded data removed]",
            "text/plain": [
              "<Figure size 1008x720 with 2 Axes>"
            ]
          },
          "metadata": {
            "tags": [],
            "needs_background": "light"
          }
        }
      ]
    },
    {
      "cell_type": "markdown",
      "metadata": {
        "id": "U_W7GDZECuug"
      },
      "source": [
        "Separando as variaveis em X e Y"
      ]
    },
    {
      "cell_type": "code",
      "metadata": {
        "colab": {
          "base_uri": "https://localhost:8080/"
        },
        "id": "7CkVVkWv1P8z",
        "outputId": "7a5b9a05-7405-4a90-9959-6386ea89a06f"
      },
      "source": [
        "dados_ml.assalto.value_counts()"
      ],
      "execution_count": 20,
      "outputs": [
        {
          "output_type": "execute_result",
          "data": {
            "text/plain": [
              "0    52911\n",
              "1    51210\n",
              "Name: assalto, dtype: int64"
            ]
          },
          "metadata": {
            "tags": []
          },
          "execution_count": 20
        }
      ]
    },
    {
      "cell_type": "code",
      "metadata": {
        "id": "vqvj7jRtCuui"
      },
      "source": [
        "X = dados_ml.drop(columns='assalto',axis=1)\n",
        "Y = dados_ml['assalto']"
      ],
      "execution_count": 21,
      "outputs": []
    },
    {
      "cell_type": "markdown",
      "metadata": {
        "id": "UzgQ_xFhCuuj"
      },
      "source": [
        "\n",
        "Separando em amostras de treino e teste"
      ]
    },
    {
      "cell_type": "code",
      "metadata": {
        "id": "4FJ3upxECuuj"
      },
      "source": [
        "from sklearn.model_selection import train_test_split"
      ],
      "execution_count": 22,
      "outputs": []
    },
    {
      "cell_type": "code",
      "metadata": {
        "id": "GM98wcFMCuuj"
      },
      "source": [
        "X_treino,X_teste,Y_treino,Y_teste = train_test_split(X,Y,test_size=0.25,random_state=123,stratify=Y )"
      ],
      "execution_count": 23,
      "outputs": []
    },
    {
      "cell_type": "markdown",
      "metadata": {
        "id": "9YbFZxf3Cuuk"
      },
      "source": [
        " - Criando um Benchmark"
      ]
    },
    {
      "cell_type": "code",
      "metadata": {
        "colab": {
          "base_uri": "https://localhost:8080/"
        },
        "id": "slNV38UQCuuk",
        "outputId": "87d9f90c-48a6-44bf-e9e7-03c1efbabb38"
      },
      "source": [
        "from sklearn.dummy import DummyClassifier\n",
        "\n",
        "dummy_clf = DummyClassifier(strategy=\"most_frequent\")\n",
        "dummy_clf.fit(X_treino, Y_treino)\n",
        "y_pred = dummy_clf.predict(X_teste)\n",
        "acuracia = dummy_clf.score(X_teste, Y_teste) * 100\n",
        "\n",
        "print('A acurácia do dummy mostfrequent foi %.2f%%' % acuracia)"
      ],
      "execution_count": 24,
      "outputs": [
        {
          "output_type": "stream",
          "text": [
            "A acurácia do dummy mostfrequent foi 50.82%\n"
          ],
          "name": "stdout"
        }
      ]
    },
    {
      "cell_type": "code",
      "metadata": {
        "colab": {
          "base_uri": "https://localhost:8080/",
          "height": 296
        },
        "id": "m4dpcGTjCuuk",
        "outputId": "6ca7b633-d80a-4fbc-e0c7-d83c56e612de"
      },
      "source": [
        "from sklearn.metrics import confusion_matrix\n",
        "\n",
        "cm=confusion_matrix(Y_teste, y_pred)\n",
        "sns.heatmap(cm, annot=True, fmt='g')\n",
        "\n",
        "plt.xlabel('Predição( 1 ou 0)')\n",
        "plt.ylabel('Real ( 1 ou 0)')"
      ],
      "execution_count": 25,
      "outputs": [
        {
          "output_type": "execute_result",
          "data": {
            "text/plain": [
              "Text(33.0, 0.5, 'Real ( 1 ou 0)')"
            ]
          },
          "metadata": {
            "tags": []
          },
          "execution_count": 25
        },
        {
          "output_type": "display_data",
          "data": {
            "image/png": "[encoded data removed]",
            "text/plain": [
              "<Figure size 432x288 with 2 Axes>"
            ]
          },
          "metadata": {
            "tags": [],
            "needs_background": "light"
          }
        }
      ]
    },
    {
      "cell_type": "code",
      "metadata": {
        "colab": {
          "base_uri": "https://localhost:8080/"
        },
        "id": "D7KkvQn-Cuul",
        "outputId": "4a761a3d-61bd-4b09-fe61-f2daae388dce"
      },
      "source": [
        "from sklearn.metrics import  roc_auc_score,roc_curve\n",
        "from sklearn import metrics\n",
        "\n",
        "y_proba = dummy_clf.predict_proba(X_teste)\n",
        "roc_auc_score(Y_teste, y_proba[:, 1])"
      ],
      "execution_count": 26,
      "outputs": [
        {
          "output_type": "execute_result",
          "data": {
            "text/plain": [
              "0.5"
            ]
          },
          "metadata": {
            "tags": []
          },
          "execution_count": 26
        }
      ]
    },
    {
      "cell_type": "markdown",
      "metadata": {
        "id": "rXoox4F3Cuum"
      },
      "source": [
        " - Fazendo uma triagem com outros modelos"
      ]
    },
    {
      "cell_type": "code",
      "metadata": {
        "id": "oIKF7EU-Cuum"
      },
      "source": [
        "from sklearn.linear_model import LogisticRegression\n",
        "from sklearn.tree import DecisionTreeClassifier\n",
        "from sklearn.ensemble import RandomForestClassifier\n",
        "from xgboost import XGBClassifier"
      ],
      "execution_count": 27,
      "outputs": []
    },
    {
      "cell_type": "code",
      "metadata": {
        "colab": {
          "base_uri": "https://localhost:8080/"
        },
        "id": "EoVLnNsOCuum",
        "outputId": "c1f48b47-74ce-4543-8107-2fee8be05585"
      },
      "source": [
        "lista_classificacores = [ LogisticRegression(),\n",
        "                         DecisionTreeClassifier(),\n",
        "                         RandomForestClassifier(),\n",
        "                         XGBClassifier()]\n",
        "\n",
        "for clf in lista_classificacores:\n",
        "  print(clf.__class__.__name__)\n",
        "  clf.fit(X_treino, Y_treino)\n",
        "\n",
        "  print('Acuracia')\n",
        "  train_acc = clf.score(X_treino, Y_treino)\n",
        "  test_acc = clf.score(X_teste, Y_teste)\n",
        "  print('Treino:', train_acc)\n",
        "  print('Teste:', test_acc)\n",
        "\n",
        "  print('ROC AUC')\n",
        "\n",
        "  y_proba_treino = clf.predict_proba(X_treino)\n",
        "  roc_treino = roc_auc_score(Y_treino, y_proba_treino[:, 1])\n",
        "  print('Treino', roc_treino)\n",
        "\n",
        "  y_proba_teste = clf.predict_proba(X_teste)\n",
        "  roc_teste = roc_auc_score(Y_teste, y_proba_teste[:, 1])\n",
        "  print('Test', roc_teste)\n",
        "  print('='*80)"
      ],
      "execution_count": 28,
      "outputs": [
        {
          "output_type": "stream",
          "text": [
            "LogisticRegression\n",
            "Acuracia\n",
            "Treino: 0.5372903060571136\n",
            "Teste: 0.5372056394299105\n",
            "ROC AUC\n",
            "Treino 0.5506157390479652\n",
            "Test 0.551237796242428\n",
            "================================================================================\n",
            "DecisionTreeClassifier\n",
            "Acuracia\n",
            "Treino: 0.9463439620950186\n",
            "Teste: 0.6478429564749721\n",
            "ROC AUC\n",
            "Treino 0.9936196839317332\n",
            "Test 0.6598572377566576\n",
            "================================================================================\n",
            "RandomForestClassifier\n",
            "Acuracia\n",
            "Treino: 0.9463311563580484\n",
            "Teste: 0.662978756098498\n",
            "ROC AUC\n",
            "Treino 0.9906002997309278\n",
            "Test 0.733776599645518\n",
            "================================================================================\n",
            "XGBClassifier\n",
            "Acuracia\n",
            "Treino: 0.5939941093609937\n",
            "Teste: 0.5868003534247628\n",
            "ROC AUC\n",
            "Treino 0.6367598230426621\n",
            "Test 0.625018980493426\n",
            "================================================================================\n"
          ],
          "name": "stdout"
        }
      ]
    },
    {
      "cell_type": "code",
      "metadata": {
        "colab": {
          "base_uri": "https://localhost:8080/"
        },
        "id": "YpGkMb6T2Co4",
        "outputId": "eeb7053a-304f-4455-a3ac-575600c2988b"
      },
      "source": [
        "import warnings\n",
        "warnings.filterwarnings(\"ignore\")\n",
        "\n",
        "from sklearn.model_selection import cross_val_score\n",
        "lista_classificacores = [ LogisticRegression(),\n",
        "                         DecisionTreeClassifier(),\n",
        "                         RandomForestClassifier(),\n",
        "                         XGBClassifier()]\n",
        "\n",
        "\n",
        "for clf in lista_classificacores:\n",
        "  print(clf.__class__.__name__)\n",
        "  clf.fit(X_treino, Y_treino)\n",
        "  train_acc = clf.score(X_treino, Y_treino)\n",
        "  val_score = cross_val_score(clf, X_treino, Y_treino, cv=5)\n",
        "  test_acc = clf.score(X_teste, Y_teste)\n",
        "  print('Treino:', train_acc)\n",
        "  print('Validation score', val_score.mean())\n",
        "  print('Teste:', test_acc)\n",
        "\n",
        "  print('ROC AUC')\n",
        "\n",
        "  y_proba_treino = clf.predict_proba(X_treino)\n",
        "  roc_treino = roc_auc_score(Y_treino, y_proba_treino[:, 1])\n",
        "  print('Treino', roc_treino)\n",
        "\n",
        "  y_proba_teste = clf.predict_proba(X_teste)\n",
        "  roc_teste = roc_auc_score(Y_teste, y_proba_teste[:, 1])\n",
        "  print('Test', roc_teste)\n",
        "  print('='*80)\n"
      ],
      "execution_count": 29,
      "outputs": [
        {
          "output_type": "stream",
          "text": [
            "LogisticRegression\n",
            "Treino: 0.5372903060571136\n",
            "Validation score 0.5371750544243821\n",
            "Teste: 0.5372056394299105\n",
            "ROC AUC\n",
            "Treino 0.5506157390479652\n",
            "Test 0.551237796242428\n",
            "================================================================================\n",
            "DecisionTreeClassifier\n",
            "Treino: 0.9463439620950186\n",
            "Validation score 0.6296965040338072\n",
            "Teste: 0.6458069225154623\n",
            "ROC AUC\n",
            "Treino 0.9936196839317332\n",
            "Test 0.6575497482600239\n",
            "================================================================================\n",
            "RandomForestClassifier\n",
            "Treino: 0.9463439620950186\n",
            "Validation score 0.6436803688052247\n",
            "Teste: 0.6619031155161154\n",
            "ROC AUC\n",
            "Treino 0.9906419871479969\n",
            "Test 0.7332089267141213\n",
            "================================================================================\n",
            "XGBClassifier\n",
            "Treino: 0.5939941093609937\n",
            "Validation score 0.5876168523498528\n",
            "Teste: 0.5868003534247628\n",
            "ROC AUC\n",
            "Treino 0.6367598230426621\n",
            "Test 0.625018980493426\n",
            "================================================================================\n"
          ],
          "name": "stdout"
        }
      ]
    },
    {
      "cell_type": "markdown",
      "metadata": {
        "id": "EHE5rMeAJBxN"
      },
      "source": [
        "- Treinando o melhor modelo.\n"
      ]
    },
    {
      "cell_type": "code",
      "metadata": {
        "id": "G8WUA3WnCuun"
      },
      "source": [
        "modelo = RandomForestClassifier()"
      ],
      "execution_count": 30,
      "outputs": []
    },
    {
      "cell_type": "code",
      "metadata": {
        "colab": {
          "base_uri": "https://localhost:8080/"
        },
        "id": "JxHYgIg8Cuun",
        "outputId": "3056d3d0-47e7-44d8-8a96-ef34c1e334ad"
      },
      "source": [
        "modelo.fit(X_treino, Y_treino)"
      ],
      "execution_count": 31,
      "outputs": [
        {
          "output_type": "execute_result",
          "data": {
            "text/plain": [
              "RandomForestClassifier(bootstrap=True, ccp_alpha=0.0, class_weight=None,\n",
              "                       criterion='gini', max_depth=None, max_features='auto',\n",
              "                       max_leaf_nodes=None, max_samples=None,\n",
              "                       min_impurity_decrease=0.0, min_impurity_split=None,\n",
              "                       min_samples_leaf=1, min_samples_split=2,\n",
              "                       min_weight_fraction_leaf=0.0, n_estimators=100,\n",
              "                       n_jobs=None, oob_score=False, random_state=None,\n",
              "                       verbose=0, warm_start=False)"
            ]
          },
          "metadata": {
            "tags": []
          },
          "execution_count": 31
        }
      ]
    },
    {
      "cell_type": "code",
      "metadata": {
        "id": "XYka9iK7Cuuo"
      },
      "source": [
        "Y_previsto = modelo.predict(X_teste)"
      ],
      "execution_count": 32,
      "outputs": []
    },
    {
      "cell_type": "markdown",
      "metadata": {
        "id": "7WStGxSzCuuo"
      },
      "source": [
        " - Gerando a matriz de confusão"
      ]
    },
    {
      "cell_type": "code",
      "metadata": {
        "colab": {
          "base_uri": "https://localhost:8080/",
          "height": 296
        },
        "id": "-gq5TMTeCuuz",
        "outputId": "1d82f15e-8cb9-4348-ddf2-d4455c9dd7ff"
      },
      "source": [
        "cm=confusion_matrix(Y_teste,y_proba[:, 1]>0.5)\n",
        "sns.heatmap(cm, annot=True, fmt='g')\n",
        "\n",
        "plt.xlabel('Predição( 1 ou 0)')\n",
        "plt.ylabel('Real ( 1 ou 0)')"
      ],
      "execution_count": 35,
      "outputs": [
        {
          "output_type": "execute_result",
          "data": {
            "text/plain": [
              "Text(33.0, 0.5, 'Real ( 1 ou 0)')"
            ]
          },
          "metadata": {
            "tags": []
          },
          "execution_count": 35
        },
        {
          "output_type": "display_data",
          "data": {
            "image/png": "[encoded data removed]",
            "text/plain": [
              "<Figure size 432x288 with 2 Axes>"
            ]
          },
          "metadata": {
            "tags": [],
            "needs_background": "light"
          }
        }
      ]
    },
    {
      "cell_type": "code",
      "metadata": {
        "colab": {
          "base_uri": "https://localhost:8080/"
        },
        "id": "VCXJ6lfiCuu0",
        "outputId": "fb623231-e9db-4e4c-d501-4346aec046b1"
      },
      "source": [
        "y_proba = modelo.predict_proba(X_teste)\n",
        "roc_auc_score(Y_teste, y_proba[:, 1])"
      ],
      "execution_count": 34,
      "outputs": [
        {
          "output_type": "execute_result",
          "data": {
            "text/plain": [
              "0.7322871962816961"
            ]
          },
          "metadata": {
            "tags": []
          },
          "execution_count": 34
        }
      ]
    },
    {
      "cell_type": "code",
      "metadata": {
        "colab": {
          "base_uri": "https://localhost:8080/"
        },
        "id": "-16I1CIwCuu1",
        "outputId": "b12165b3-ee0e-46ce-b18f-41d0179b7acd"
      },
      "source": [
        "from sklearn.metrics import classification_report\n",
        "print(classification_report(Y_teste, Y_previsto))"
      ],
      "execution_count": 36,
      "outputs": [
        {
          "output_type": "stream",
          "text": [
            "              precision    recall  f1-score   support\n",
            "\n",
            "           0       0.67      0.67      0.67     13228\n",
            "           1       0.66      0.65      0.66     12803\n",
            "\n",
            "    accuracy                           0.66     26031\n",
            "   macro avg       0.66      0.66      0.66     26031\n",
            "weighted avg       0.66      0.66      0.66     26031\n",
            "\n"
          ],
          "name": "stdout"
        }
      ]
    },
    {
      "cell_type": "code",
      "metadata": {
        "colab": {
          "base_uri": "https://localhost:8080/",
          "height": 295
        },
        "id": "qDPLRHbndRKl",
        "outputId": "3216d531-f81d-49f3-c934-3d1ea58466ce"
      },
      "source": [
        "fpr, tpr, thresholds = metrics.roc_curve(Y_teste, y_proba[:,1])\n",
        "plt.plot(fpr, tpr)\n",
        "plt.title('ROC curve')\n",
        "plt.xlabel('False Positive Rate')\n",
        "plt.ylabel('True Positive Rate')\n",
        "plt.grid(True)\n",
        "plt.show()"
      ],
      "execution_count": 37,
      "outputs": [
        {
          "output_type": "display_data",
          "data": {
            "image/png": "[encoded data removed]",
            "text/plain": [
              "<Figure size 432x288 with 1 Axes>"
            ]
          },
          "metadata": {
            "tags": [],
            "needs_background": "light"
          }
        }
      ]
    },
    {
      "cell_type": "markdown",
      "metadata": {
        "id": "wtCv5Y0oOFhq"
      },
      "source": [
        "## Melhorando o modelo."
      ]
    },
    {
      "cell_type": "code",
      "metadata": {
        "colab": {
          "base_uri": "https://localhost:8080/"
        },
        "id": "Z9U7Nwk-OFhr",
        "outputId": "7f519ad3-94ea-4293-e6bf-c62f53370adb"
      },
      "source": [
        "Y_previsto[0:10]"
      ],
      "execution_count": 38,
      "outputs": [
        {
          "output_type": "execute_result",
          "data": {
            "text/plain": [
              "array([0, 0, 0, 1, 1, 1, 0, 0, 1, 0])"
            ]
          },
          "metadata": {
            "tags": []
          },
          "execution_count": 38
        }
      ]
    },
    {
      "cell_type": "code",
      "metadata": {
        "colab": {
          "base_uri": "https://localhost:8080/"
        },
        "id": "fe9Uc-hCOFhs",
        "outputId": "2912f824-e547-47b2-f7ae-6d2328f076d2"
      },
      "source": [
        "y_proba[0:10,1]"
      ],
      "execution_count": 39,
      "outputs": [
        {
          "output_type": "execute_result",
          "data": {
            "text/plain": [
              "array([0.        , 0.37      , 0.165     , 0.74711111, 0.55      ,\n",
              "       0.79333333, 0.04      , 0.33783333, 0.62      , 0.2165    ])"
            ]
          },
          "metadata": {
            "tags": []
          },
          "execution_count": 39
        }
      ]
    },
    {
      "cell_type": "code",
      "metadata": {
        "id": "FGngdavyOFht"
      },
      "source": [
        "#  Armazenando as probabilidade de predição para a calsse 1\n",
        "y_pred_proba = modelo.predict_proba(X_teste)[:,1]"
      ],
      "execution_count": 40,
      "outputs": []
    },
    {
      "cell_type": "code",
      "metadata": {
        "colab": {
          "base_uri": "https://localhost:8080/",
          "height": 281
        },
        "id": "8E5wqLV0OFhu",
        "outputId": "1f94d5bb-7fb2-4df5-a56e-2706d63d351c"
      },
      "source": [
        "#  histograma das probabilidade de predição\n",
        "\n",
        "plt.hist(y_pred_proba, bins = 8)\n",
        "plt.xlim(0,1)\n",
        "plt.title('Histograma das probabilidade das predições')\n",
        "plt.ylabel(\"Frequência\")\n",
        "plt.show()"
      ],
      "execution_count": 41,
      "outputs": [
        {
          "output_type": "display_data",
          "data": {
            "image/png": "[encoded data removed]",
            "text/plain": [
              "<Figure size 432x288 with 1 Axes>"
            ]
          },
          "metadata": {
            "tags": [],
            "needs_background": "light"
          }
        }
      ]
    },
    {
      "cell_type": "code",
      "metadata": {
        "id": "bDN1ZWXGOFhv"
      },
      "source": [
        "#  predizendo se a probabilidade for maior que 0.37\n",
        "\n",
        "\n",
        "from sklearn.preprocessing import binarize\n",
        "y_pred = binarize([y_pred_proba], 0.37)[0]"
      ],
      "execution_count": 42,
      "outputs": []
    },
    {
      "cell_type": "code",
      "metadata": {
        "colab": {
          "base_uri": "https://localhost:8080/",
          "height": 296
        },
        "id": "WmSdRhpIOFhw",
        "outputId": "82a04d86-871e-40d1-a5e9-6388a82562e3"
      },
      "source": [
        "cm=confusion_matrix(Y_teste, y_pred)\n",
        "sns.heatmap(cm, annot=True, fmt='g')\n",
        "\n",
        "plt.xlabel('Predição( 1 ou 0)')\n",
        "plt.ylabel('Real ( 1 ou 0)')"
      ],
      "execution_count": 43,
      "outputs": [
        {
          "output_type": "execute_result",
          "data": {
            "text/plain": [
              "Text(33.0, 0.5, 'Real ( 1 ou 0)')"
            ]
          },
          "metadata": {
            "tags": []
          },
          "execution_count": 43
        },
        {
          "output_type": "display_data",
          "data": {
            "image/png": "[encoded data removed]",
            "text/plain": [
              "<Figure size 432x288 with 2 Axes>"
            ]
          },
          "metadata": {
            "tags": [],
            "needs_background": "light"
          }
        }
      ]
    },
    {
      "cell_type": "markdown",
      "metadata": {
        "id": "a-3C3PK_-kas"
      },
      "source": [
        "- Após o ajuste conseguimos chegar em um número onsiderávelmente bom, visto que o objetivo do projeto e classificar possíveis áreas de assalto, com intuito de mobilizar mais policiamento pra área a fim de evitar esses delitos, ou mesmo as pessoas evitarem circular em determinados locais dependendo do dia, mês e dia da semana.\n",
        "\n",
        "\n"
      ]
    },
    {
      "cell_type": "code",
      "metadata": {
        "colab": {
          "base_uri": "https://localhost:8080/"
        },
        "id": "DCDcyZv2OFhx",
        "outputId": "c130b086-1066-4f2d-b7eb-4a62e09969b6"
      },
      "source": [
        "roc_auc_score(Y_teste,y_pred)"
      ],
      "execution_count": 44,
      "outputs": [
        {
          "output_type": "execute_result",
          "data": {
            "text/plain": [
              "0.6570251143134095"
            ]
          },
          "metadata": {
            "tags": []
          },
          "execution_count": 44
        }
      ]
    },
    {
      "cell_type": "code",
      "metadata": {
        "colab": {
          "base_uri": "https://localhost:8080/"
        },
        "id": "XPrI2bNcOFhx",
        "outputId": "959316da-a603-4677-cd1d-1c1d165f8bed"
      },
      "source": [
        "print(classification_report(Y_teste, y_pred))"
      ],
      "execution_count": 45,
      "outputs": [
        {
          "output_type": "stream",
          "text": [
            "              precision    recall  f1-score   support\n",
            "\n",
            "           0       0.73      0.52      0.60     13228\n",
            "           1       0.61      0.80      0.69     12803\n",
            "\n",
            "    accuracy                           0.65     26031\n",
            "   macro avg       0.67      0.66      0.65     26031\n",
            "weighted avg       0.67      0.65      0.65     26031\n",
            "\n"
          ],
          "name": "stdout"
        }
      ]
    },
    {
      "cell_type": "code",
      "metadata": {
        "id": "69OUcyiTOFhy"
      },
      "source": [
        "from sklearn.metrics import roc_curve, roc_auc_score\n",
        "from sklearn import metrics"
      ],
      "execution_count": 46,
      "outputs": []
    },
    {
      "cell_type": "code",
      "metadata": {
        "colab": {
          "base_uri": "https://localhost:8080/",
          "height": 295
        },
        "id": "gTubJPQaYNZa",
        "outputId": "5ff20023-0595-4db7-a4b9-7f8a5f500e71"
      },
      "source": [
        "fpr, tpr, thresholds = metrics.roc_curve(Y_teste, y_pred)\n",
        "plt.plot(fpr, tpr)\n",
        "plt.title('ROC curve')\n",
        "plt.xlabel('False Positive Rate')\n",
        "plt.ylabel('True Positive Rate')\n",
        "plt.grid(True)\n",
        "plt.show()"
      ],
      "execution_count": 47,
      "outputs": [
        {
          "output_type": "display_data",
          "data": {
            "image/png": "[encoded data removed]",
            "text/plain": [
              "<Figure size 432x288 with 1 Axes>"
            ]
          },
          "metadata": {
            "tags": [],
            "needs_background": "light"
          }
        }
      ]
    },
    {
      "cell_type": "markdown",
      "metadata": {
        "id": "SiA422znJzun"
      },
      "source": [
        "- Salvando o modelo."
      ]
    },
    {
      "cell_type": "code",
      "metadata": {
        "id": "lFSj9CxHCuv2"
      },
      "source": [
        "import pickle\n",
        "\n",
        "output = open('modelo_previsao_assalto', 'wb')\n",
        "pickle.dump(modelo, output)\n",
        "output.close()"
      ],
      "execution_count": 48,
      "outputs": []
    },
    {
      "cell_type": "code",
      "metadata": {
        "id": "m2gSaD4bKzlt"
      },
      "source": [
        ""
      ],
      "execution_count": null,
      "outputs": []
    }
  ]
}