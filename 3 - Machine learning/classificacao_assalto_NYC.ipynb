{
 "cells": [
  {
   "cell_type": "markdown",
   "metadata": {
    "id": "EpoZtV52tq52"
   },
   "source": [
    "## Objetivo: Classificar a chance de ocorrer um assalto de acordo com a localização, mês, dia do mês e dia da semana."
   ]
  },
  {
   "cell_type": "markdown",
   "metadata": {
    "id": "NBm2Z4daCutf"
   },
   "source": [
    "## 1- Importando a base de dados"
   ]
  },
  {
   "cell_type": "code",
   "execution_count": 1,
   "metadata": {
    "id": "NpHeI-PMj_aQ"
   },
   "outputs": [],
   "source": [
    "#  Importando as bibliotecas\n",
    "\n",
    "import pandas as pd\n",
    "import seaborn as sns\n",
    "import matplotlib.pyplot as plt\n",
    "import numpy as np\n",
    "import datetime\n",
    "from datetime import date"
   ]
  },
  {
   "cell_type": "code",
   "execution_count": 2,
   "metadata": {
    "id": "_fpQhayPCuti"
   },
   "outputs": [],
   "source": [
    "url = 'https://raw.githubusercontent.com/robertferro/delitos_NY_2020/master/1%20-%20Manipula%C3%A7%C3%A3o%20de%20dados/dados_processados.csv'"
   ]
  },
  {
   "cell_type": "code",
   "execution_count": 3,
   "metadata": {
    "id": "x3gtHxJzCuti"
   },
   "outputs": [],
   "source": [
    "df = pd.read_csv(url)"
   ]
  },
  {
   "cell_type": "code",
   "execution_count": 4,
   "metadata": {
    "colab": {
     "base_uri": "https://localhost:8080/",
     "height": 204
    },
    "id": "IyBc8YZnCutj",
    "outputId": "fc382a6e-4153-4a6f-fd94-f55e98c6dd27"
   },
   "outputs": [
    {
     "data": {
      "text/html": [
       "<div>\n",
       "<style scoped>\n",
       "    .dataframe tbody tr th:only-of-type {\n",
       "        vertical-align: middle;\n",
       "    }\n",
       "\n",
       "    .dataframe tbody tr th {\n",
       "        vertical-align: top;\n",
       "    }\n",
       "\n",
       "    .dataframe thead th {\n",
       "        text-align: right;\n",
       "    }\n",
       "</style>\n",
       "<table border=\"1\" class=\"dataframe\">\n",
       "  <thead>\n",
       "    <tr style=\"text-align: right;\">\n",
       "      <th></th>\n",
       "      <th>data_da_ocorrencia</th>\n",
       "      <th>descricao_da_ofensa</th>\n",
       "      <th>nivel_da_ofensa</th>\n",
       "      <th>bairro</th>\n",
       "      <th>idade_do_infrator</th>\n",
       "      <th>sexo_do_infrator</th>\n",
       "      <th>raca_do_infrator</th>\n",
       "      <th>latitude</th>\n",
       "      <th>longitude</th>\n",
       "      <th>ano</th>\n",
       "      <th>dia</th>\n",
       "      <th>mes</th>\n",
       "      <th>dia_da_semana</th>\n",
       "      <th>grave</th>\n",
       "    </tr>\n",
       "  </thead>\n",
       "  <tbody>\n",
       "    <tr>\n",
       "      <th>0</th>\n",
       "      <td>2020-12-25</td>\n",
       "      <td>FELONY ASSAULT</td>\n",
       "      <td>crime</td>\n",
       "      <td>Bronx</td>\n",
       "      <td>25-44</td>\n",
       "      <td>M</td>\n",
       "      <td>BLACK</td>\n",
       "      <td>40.808798</td>\n",
       "      <td>-73.916184</td>\n",
       "      <td>2020</td>\n",
       "      <td>25</td>\n",
       "      <td>12</td>\n",
       "      <td>Friday</td>\n",
       "      <td>1</td>\n",
       "    </tr>\n",
       "    <tr>\n",
       "      <th>1</th>\n",
       "      <td>2020-12-22</td>\n",
       "      <td>ROBBERY</td>\n",
       "      <td>crime</td>\n",
       "      <td>Manhattan</td>\n",
       "      <td>18-24</td>\n",
       "      <td>M</td>\n",
       "      <td>BLACK HISPANIC</td>\n",
       "      <td>40.845956</td>\n",
       "      <td>-73.937813</td>\n",
       "      <td>2020</td>\n",
       "      <td>22</td>\n",
       "      <td>12</td>\n",
       "      <td>Tuesday</td>\n",
       "      <td>1</td>\n",
       "    </tr>\n",
       "    <tr>\n",
       "      <th>2</th>\n",
       "      <td>2020-12-21</td>\n",
       "      <td>FELONY ASSAULT</td>\n",
       "      <td>crime</td>\n",
       "      <td>Queens</td>\n",
       "      <td>25-44</td>\n",
       "      <td>M</td>\n",
       "      <td>BLACK</td>\n",
       "      <td>40.682398</td>\n",
       "      <td>-73.840079</td>\n",
       "      <td>2020</td>\n",
       "      <td>21</td>\n",
       "      <td>12</td>\n",
       "      <td>Monday</td>\n",
       "      <td>1</td>\n",
       "    </tr>\n",
       "    <tr>\n",
       "      <th>3</th>\n",
       "      <td>2020-12-10</td>\n",
       "      <td>FELONY ASSAULT</td>\n",
       "      <td>crime</td>\n",
       "      <td>Queens</td>\n",
       "      <td>18-24</td>\n",
       "      <td>M</td>\n",
       "      <td>BLACK</td>\n",
       "      <td>40.689336</td>\n",
       "      <td>-73.800409</td>\n",
       "      <td>2020</td>\n",
       "      <td>10</td>\n",
       "      <td>12</td>\n",
       "      <td>Thursday</td>\n",
       "      <td>1</td>\n",
       "    </tr>\n",
       "    <tr>\n",
       "      <th>4</th>\n",
       "      <td>2020-12-09</td>\n",
       "      <td>FORGERY</td>\n",
       "      <td>crime</td>\n",
       "      <td>Staten_Island</td>\n",
       "      <td>18-24</td>\n",
       "      <td>M</td>\n",
       "      <td>BLACK</td>\n",
       "      <td>40.634708</td>\n",
       "      <td>-74.124241</td>\n",
       "      <td>2020</td>\n",
       "      <td>9</td>\n",
       "      <td>12</td>\n",
       "      <td>Wednesday</td>\n",
       "      <td>1</td>\n",
       "    </tr>\n",
       "  </tbody>\n",
       "</table>\n",
       "</div>"
      ],
      "text/plain": [
       "  data_da_ocorrencia descricao_da_ofensa nivel_da_ofensa         bairro  \\\n",
       "0         2020-12-25      FELONY ASSAULT           crime          Bronx   \n",
       "1         2020-12-22             ROBBERY           crime      Manhattan   \n",
       "2         2020-12-21      FELONY ASSAULT           crime         Queens   \n",
       "3         2020-12-10      FELONY ASSAULT           crime         Queens   \n",
       "4         2020-12-09             FORGERY           crime  Staten_Island   \n",
       "\n",
       "  idade_do_infrator sexo_do_infrator raca_do_infrator   latitude  longitude  \\\n",
       "0             25-44                M            BLACK  40.808798 -73.916184   \n",
       "1             18-24                M   BLACK HISPANIC  40.845956 -73.937813   \n",
       "2             25-44                M            BLACK  40.682398 -73.840079   \n",
       "3             18-24                M            BLACK  40.689336 -73.800409   \n",
       "4             18-24                M            BLACK  40.634708 -74.124241   \n",
       "\n",
       "    ano  dia  mes dia_da_semana  grave  \n",
       "0  2020   25   12        Friday      1  \n",
       "1  2020   22   12       Tuesday      1  \n",
       "2  2020   21   12        Monday      1  \n",
       "3  2020   10   12      Thursday      1  \n",
       "4  2020    9   12     Wednesday      1  "
      ]
     },
     "execution_count": 4,
     "metadata": {},
     "output_type": "execute_result"
    }
   ],
   "source": [
    "df.head()"
   ]
  },
  {
   "cell_type": "markdown",
   "metadata": {
    "id": "9MJirB7CCutk"
   },
   "source": [
    "## 2- Preparaçao dos dados"
   ]
  },
  {
   "cell_type": "code",
   "execution_count": 5,
   "metadata": {
    "colab": {
     "base_uri": "https://localhost:8080/"
    },
    "id": "NAUcBcxJCutl",
    "outputId": "5fa94862-781d-4ea2-f8c3-5fea37b89d3f"
   },
   "outputs": [
    {
     "name": "stdout",
     "output_type": "stream",
     "text": [
      "<class 'pandas.core.frame.DataFrame'>\n",
      "RangeIndex: 138987 entries, 0 to 138986\n",
      "Data columns (total 14 columns):\n",
      " #   Column               Non-Null Count   Dtype  \n",
      "---  ------               --------------   -----  \n",
      " 0   data_da_ocorrencia   138987 non-null  object \n",
      " 1   descricao_da_ofensa  138987 non-null  object \n",
      " 2   nivel_da_ofensa      138987 non-null  object \n",
      " 3   bairro               138987 non-null  object \n",
      " 4   idade_do_infrator    138987 non-null  object \n",
      " 5   sexo_do_infrator     138987 non-null  object \n",
      " 6   raca_do_infrator     138987 non-null  object \n",
      " 7   latitude             138987 non-null  float64\n",
      " 8   longitude            138987 non-null  float64\n",
      " 9   ano                  138987 non-null  int64  \n",
      " 10  dia                  138987 non-null  int64  \n",
      " 11  mes                  138987 non-null  int64  \n",
      " 12  dia_da_semana        138987 non-null  object \n",
      " 13  grave                138987 non-null  int64  \n",
      "dtypes: float64(2), int64(4), object(8)\n",
      "memory usage: 14.8+ MB\n"
     ]
    }
   ],
   "source": [
    "df.info()"
   ]
  },
  {
   "cell_type": "markdown",
   "metadata": {
    "id": "5qsBO-hSCutm"
   },
   "source": [
    " - Conventerndo a coluna data_da_ocorrencia para formato datetime"
   ]
  },
  {
   "cell_type": "code",
   "execution_count": 6,
   "metadata": {
    "id": "spTyivLvCutn"
   },
   "outputs": [],
   "source": [
    "df[\"data_da_ocorrencia\"] = pd.to_datetime(df[\"data_da_ocorrencia\"] )"
   ]
  },
  {
   "cell_type": "code",
   "execution_count": 7,
   "metadata": {
    "colab": {
     "base_uri": "https://localhost:8080/"
    },
    "id": "bVTbUVOsCuto",
    "outputId": "825fe320-21f2-4758-f961-1b39d1aaf169"
   },
   "outputs": [
    {
     "data": {
      "text/plain": [
       "data_da_ocorrencia     0\n",
       "descricao_da_ofensa    0\n",
       "nivel_da_ofensa        0\n",
       "bairro                 0\n",
       "idade_do_infrator      0\n",
       "sexo_do_infrator       0\n",
       "raca_do_infrator       0\n",
       "latitude               0\n",
       "longitude              0\n",
       "ano                    0\n",
       "dia                    0\n",
       "mes                    0\n",
       "dia_da_semana          0\n",
       "grave                  0\n",
       "dtype: int64"
      ]
     },
     "execution_count": 7,
     "metadata": {},
     "output_type": "execute_result"
    }
   ],
   "source": [
    "df.isna().sum()"
   ]
  },
  {
   "cell_type": "code",
   "execution_count": 8,
   "metadata": {
    "colab": {
     "base_uri": "https://localhost:8080/"
    },
    "id": "Y8N0wHAxCuto",
    "outputId": "d934327c-c6b9-4b03-cb76-b1d884734a5d"
   },
   "outputs": [
    {
     "name": "stdout",
     "output_type": "stream",
     "text": [
      "<class 'pandas.core.frame.DataFrame'>\n",
      "RangeIndex: 138987 entries, 0 to 138986\n",
      "Data columns (total 14 columns):\n",
      " #   Column               Non-Null Count   Dtype         \n",
      "---  ------               --------------   -----         \n",
      " 0   data_da_ocorrencia   138987 non-null  datetime64[ns]\n",
      " 1   descricao_da_ofensa  138987 non-null  object        \n",
      " 2   nivel_da_ofensa      138987 non-null  object        \n",
      " 3   bairro               138987 non-null  object        \n",
      " 4   idade_do_infrator    138987 non-null  object        \n",
      " 5   sexo_do_infrator     138987 non-null  object        \n",
      " 6   raca_do_infrator     138987 non-null  object        \n",
      " 7   latitude             138987 non-null  float64       \n",
      " 8   longitude            138987 non-null  float64       \n",
      " 9   ano                  138987 non-null  int64         \n",
      " 10  dia                  138987 non-null  int64         \n",
      " 11  mes                  138987 non-null  int64         \n",
      " 12  dia_da_semana        138987 non-null  object        \n",
      " 13  grave                138987 non-null  int64         \n",
      "dtypes: datetime64[ns](1), float64(2), int64(4), object(7)\n",
      "memory usage: 14.8+ MB\n"
     ]
    }
   ],
   "source": [
    "df.info()"
   ]
  },
  {
   "cell_type": "markdown",
   "metadata": {
    "id": "FzybcMj9Cutr"
   },
   "source": [
    " - Excluindo colunas que não serão utilizadas e renomeando o dataset."
   ]
  },
  {
   "cell_type": "code",
   "execution_count": 9,
   "metadata": {
    "id": "MlfgzdpsCuts"
   },
   "outputs": [],
   "source": [
    "# como todos os registros correspondem ao ano de 2020, a coluna ano será exluída.\n",
    "dados = df.drop(columns=['ano'])"
   ]
  },
  {
   "cell_type": "code",
   "execution_count": 10,
   "metadata": {
    "colab": {
     "base_uri": "https://localhost:8080/"
    },
    "id": "z1vLilZaCutt",
    "outputId": "16f4b9b5-45b7-4db2-b4e4-46ff8975374a"
   },
   "outputs": [
    {
     "data": {
      "text/plain": [
       "(138987, 13)"
      ]
     },
     "execution_count": 10,
     "metadata": {},
     "output_type": "execute_result"
    }
   ],
   "source": [
    "dados.shape"
   ]
  },
  {
   "cell_type": "markdown",
   "metadata": {
    "id": "XU0vhlfwCutt"
   },
   "source": [
    " - Criando a coluna assalto"
   ]
  },
  {
   "cell_type": "code",
   "execution_count": 11,
   "metadata": {
    "id": "1ygP6HxbCuuQ"
   },
   "outputs": [],
   "source": [
    "dados['assalto'] = dados['descricao_da_ofensa'].apply(lambda x: 1 if x=='ASSAULT 3 & RELATED OFFENSES' or x =='FELONY ASSAULT' else 0)"
   ]
  },
  {
   "cell_type": "markdown",
   "metadata": {},
   "source": [
    " ## Criando um filtro e pegando apenas os 15 delitos mais praticados"
   ]
  },
  {
   "cell_type": "code",
   "execution_count": 12,
   "metadata": {},
   "outputs": [
    {
     "data": {
      "text/plain": [
       "ASSAULT 3 & RELATED OFFENSES      23731\n",
       "FELONY ASSAULT                    13475\n",
       "PETIT LARCENY                     11406\n",
       "DANGEROUS DRUGS                   11289\n",
       "MISCELLANEOUS PENAL LAW            9133\n",
       "ROBBERY                            7948\n",
       "CRIMINAL MISCHIEF & RELATED OF     7831\n",
       "DANGEROUS WEAPONS                  6710\n",
       "GRAND LARCENY                      6542\n",
       "BURGLARY                           6056\n",
       "OFFENSES AGAINST PUBLIC ADMINI     4925\n",
       "VEHICLE AND TRAFFIC LAWS           4589\n",
       "OFF. AGNST PUB ORD SENSBLTY &      3061\n",
       "SEX CRIMES                         2730\n",
       "INTOXICATED & IMPAIRED DRIVING     2299\n",
       "Name: descricao_da_ofensa, dtype: int64"
      ]
     },
     "execution_count": 12,
     "metadata": {},
     "output_type": "execute_result"
    }
   ],
   "source": [
    "dados.descricao_da_ofensa.value_counts().head(15)"
   ]
  },
  {
   "cell_type": "code",
   "execution_count": 13,
   "metadata": {},
   "outputs": [
    {
     "data": {
      "text/plain": [
       "121725"
      ]
     },
     "execution_count": 13,
     "metadata": {},
     "output_type": "execute_result"
    }
   ],
   "source": [
    "dados.descricao_da_ofensa.value_counts().head(15).sum()"
   ]
  },
  {
   "cell_type": "code",
   "execution_count": 14,
   "metadata": {},
   "outputs": [],
   "source": [
    "lista_delitos_recorrentes = dict(dados.descricao_da_ofensa.value_counts().head(15))\n",
    "lista_delitos_recorrentes = list(lista_delitos_recorrentes.keys())"
   ]
  },
  {
   "cell_type": "code",
   "execution_count": 15,
   "metadata": {},
   "outputs": [],
   "source": [
    "dados = dados.set_index('descricao_da_ofensa')"
   ]
  },
  {
   "cell_type": "code",
   "execution_count": 16,
   "metadata": {},
   "outputs": [],
   "source": [
    "dados = dados.loc[lista_delitos_recorrentes]"
   ]
  },
  {
   "cell_type": "code",
   "execution_count": 17,
   "metadata": {
    "colab": {
     "base_uri": "https://localhost:8080/"
    },
    "id": "OUEPHumICuuR",
    "outputId": "983be7d6-af88-44aa-e0a8-03059811a181"
   },
   "outputs": [
    {
     "data": {
      "text/plain": [
       "0    84519\n",
       "1    37206\n",
       "Name: assalto, dtype: int64"
      ]
     },
     "execution_count": 17,
     "metadata": {},
     "output_type": "execute_result"
    }
   ],
   "source": [
    "dados.assalto.value_counts()"
   ]
  },
  {
   "cell_type": "code",
   "execution_count": 18,
   "metadata": {},
   "outputs": [],
   "source": [
    "dados = dados.reset_index()"
   ]
  },
  {
   "cell_type": "code",
   "execution_count": 19,
   "metadata": {
    "colab": {
     "base_uri": "https://localhost:8080/",
     "height": 669
    },
    "id": "kwqz0LLLCuuR",
    "outputId": "fe79f02f-a58b-4e0f-a2f5-de3b3e7f672b"
   },
   "outputs": [
    {
     "data": {
      "text/html": [
       "<div>\n",
       "<style scoped>\n",
       "    .dataframe tbody tr th:only-of-type {\n",
       "        vertical-align: middle;\n",
       "    }\n",
       "\n",
       "    .dataframe tbody tr th {\n",
       "        vertical-align: top;\n",
       "    }\n",
       "\n",
       "    .dataframe thead th {\n",
       "        text-align: right;\n",
       "    }\n",
       "</style>\n",
       "<table border=\"1\" class=\"dataframe\">\n",
       "  <thead>\n",
       "    <tr style=\"text-align: right;\">\n",
       "      <th></th>\n",
       "      <th>descricao_da_ofensa</th>\n",
       "      <th>data_da_ocorrencia</th>\n",
       "      <th>nivel_da_ofensa</th>\n",
       "      <th>bairro</th>\n",
       "      <th>idade_do_infrator</th>\n",
       "      <th>sexo_do_infrator</th>\n",
       "      <th>raca_do_infrator</th>\n",
       "      <th>latitude</th>\n",
       "      <th>longitude</th>\n",
       "      <th>dia</th>\n",
       "      <th>mes</th>\n",
       "      <th>dia_da_semana</th>\n",
       "      <th>grave</th>\n",
       "      <th>assalto</th>\n",
       "    </tr>\n",
       "  </thead>\n",
       "  <tbody>\n",
       "    <tr>\n",
       "      <th>0</th>\n",
       "      <td>ASSAULT 3 &amp; RELATED OFFENSES</td>\n",
       "      <td>2020-10-20</td>\n",
       "      <td>contravencao</td>\n",
       "      <td>Bronx</td>\n",
       "      <td>18-24</td>\n",
       "      <td>M</td>\n",
       "      <td>BLACK</td>\n",
       "      <td>40.822298</td>\n",
       "      <td>-73.911694</td>\n",
       "      <td>20</td>\n",
       "      <td>10</td>\n",
       "      <td>Tuesday</td>\n",
       "      <td>0</td>\n",
       "      <td>1</td>\n",
       "    </tr>\n",
       "    <tr>\n",
       "      <th>1</th>\n",
       "      <td>ASSAULT 3 &amp; RELATED OFFENSES</td>\n",
       "      <td>2020-10-15</td>\n",
       "      <td>contravencao</td>\n",
       "      <td>Queens</td>\n",
       "      <td>18-24</td>\n",
       "      <td>M</td>\n",
       "      <td>WHITE HISPANIC</td>\n",
       "      <td>40.697730</td>\n",
       "      <td>-73.845596</td>\n",
       "      <td>15</td>\n",
       "      <td>10</td>\n",
       "      <td>Thursday</td>\n",
       "      <td>0</td>\n",
       "      <td>1</td>\n",
       "    </tr>\n",
       "    <tr>\n",
       "      <th>2</th>\n",
       "      <td>ASSAULT 3 &amp; RELATED OFFENSES</td>\n",
       "      <td>2020-09-30</td>\n",
       "      <td>contravencao</td>\n",
       "      <td>Manhattan</td>\n",
       "      <td>25-44</td>\n",
       "      <td>M</td>\n",
       "      <td>BLACK</td>\n",
       "      <td>40.800846</td>\n",
       "      <td>-73.949030</td>\n",
       "      <td>30</td>\n",
       "      <td>9</td>\n",
       "      <td>Wednesday</td>\n",
       "      <td>0</td>\n",
       "      <td>1</td>\n",
       "    </tr>\n",
       "    <tr>\n",
       "      <th>3</th>\n",
       "      <td>ASSAULT 3 &amp; RELATED OFFENSES</td>\n",
       "      <td>2020-08-29</td>\n",
       "      <td>contravencao</td>\n",
       "      <td>Bronx</td>\n",
       "      <td>45-64</td>\n",
       "      <td>M</td>\n",
       "      <td>BLACK</td>\n",
       "      <td>40.838551</td>\n",
       "      <td>-73.909399</td>\n",
       "      <td>29</td>\n",
       "      <td>8</td>\n",
       "      <td>Saturday</td>\n",
       "      <td>0</td>\n",
       "      <td>1</td>\n",
       "    </tr>\n",
       "    <tr>\n",
       "      <th>4</th>\n",
       "      <td>ASSAULT 3 &amp; RELATED OFFENSES</td>\n",
       "      <td>2020-08-09</td>\n",
       "      <td>contravencao</td>\n",
       "      <td>Bronx</td>\n",
       "      <td>45-64</td>\n",
       "      <td>F</td>\n",
       "      <td>BLACK</td>\n",
       "      <td>40.858584</td>\n",
       "      <td>-73.908696</td>\n",
       "      <td>9</td>\n",
       "      <td>8</td>\n",
       "      <td>Sunday</td>\n",
       "      <td>0</td>\n",
       "      <td>1</td>\n",
       "    </tr>\n",
       "  </tbody>\n",
       "</table>\n",
       "</div>"
      ],
      "text/plain": [
       "            descricao_da_ofensa data_da_ocorrencia nivel_da_ofensa     bairro  \\\n",
       "0  ASSAULT 3 & RELATED OFFENSES         2020-10-20    contravencao      Bronx   \n",
       "1  ASSAULT 3 & RELATED OFFENSES         2020-10-15    contravencao     Queens   \n",
       "2  ASSAULT 3 & RELATED OFFENSES         2020-09-30    contravencao  Manhattan   \n",
       "3  ASSAULT 3 & RELATED OFFENSES         2020-08-29    contravencao      Bronx   \n",
       "4  ASSAULT 3 & RELATED OFFENSES         2020-08-09    contravencao      Bronx   \n",
       "\n",
       "  idade_do_infrator sexo_do_infrator raca_do_infrator   latitude  longitude  \\\n",
       "0             18-24                M            BLACK  40.822298 -73.911694   \n",
       "1             18-24                M   WHITE HISPANIC  40.697730 -73.845596   \n",
       "2             25-44                M            BLACK  40.800846 -73.949030   \n",
       "3             45-64                M            BLACK  40.838551 -73.909399   \n",
       "4             45-64                F            BLACK  40.858584 -73.908696   \n",
       "\n",
       "   dia  mes dia_da_semana  grave  assalto  \n",
       "0   20   10       Tuesday      0        1  \n",
       "1   15   10      Thursday      0        1  \n",
       "2   30    9     Wednesday      0        1  \n",
       "3   29    8      Saturday      0        1  \n",
       "4    9    8        Sunday      0        1  "
      ]
     },
     "execution_count": 19,
     "metadata": {},
     "output_type": "execute_result"
    }
   ],
   "source": [
    "dados.head()"
   ]
  },
  {
   "cell_type": "code",
   "execution_count": 20,
   "metadata": {
    "colab": {
     "base_uri": "https://localhost:8080/"
    },
    "id": "KwkxRCajCuuT",
    "outputId": "5c72c7d2-1f7f-4066-ab43-46f9b25a1f15"
   },
   "outputs": [
    {
     "data": {
      "text/plain": [
       "(121725, 14)"
      ]
     },
     "execution_count": 20,
     "metadata": {},
     "output_type": "execute_result"
    }
   ],
   "source": [
    "dados.shape"
   ]
  },
  {
   "cell_type": "markdown",
   "metadata": {
    "id": "E8o8skMLCuuU"
   },
   "source": [
    "## 3- Visualização dos dados"
   ]
  },
  {
   "cell_type": "code",
   "execution_count": 21,
   "metadata": {
    "colab": {
     "base_uri": "https://localhost:8080/",
     "height": 297
    },
    "id": "rMDCdjD1CuuU",
    "outputId": "de39e5b7-adde-4105-ab5e-32497e9b2550"
   },
   "outputs": [
    {
     "data": {
      "text/html": [
       "<div>\n",
       "<style scoped>\n",
       "    .dataframe tbody tr th:only-of-type {\n",
       "        vertical-align: middle;\n",
       "    }\n",
       "\n",
       "    .dataframe tbody tr th {\n",
       "        vertical-align: top;\n",
       "    }\n",
       "\n",
       "    .dataframe thead th {\n",
       "        text-align: right;\n",
       "    }\n",
       "</style>\n",
       "<table border=\"1\" class=\"dataframe\">\n",
       "  <thead>\n",
       "    <tr style=\"text-align: right;\">\n",
       "      <th></th>\n",
       "      <th>latitude</th>\n",
       "      <th>longitude</th>\n",
       "      <th>dia</th>\n",
       "      <th>mes</th>\n",
       "      <th>grave</th>\n",
       "      <th>assalto</th>\n",
       "    </tr>\n",
       "  </thead>\n",
       "  <tbody>\n",
       "    <tr>\n",
       "      <th>count</th>\n",
       "      <td>121725.000000</td>\n",
       "      <td>121725.000000</td>\n",
       "      <td>121725.000000</td>\n",
       "      <td>121725.000000</td>\n",
       "      <td>121725.000000</td>\n",
       "      <td>121725.000000</td>\n",
       "    </tr>\n",
       "    <tr>\n",
       "      <th>mean</th>\n",
       "      <td>40.738644</td>\n",
       "      <td>-73.922523</td>\n",
       "      <td>15.414763</td>\n",
       "      <td>6.235334</td>\n",
       "      <td>0.476122</td>\n",
       "      <td>0.305656</td>\n",
       "    </tr>\n",
       "    <tr>\n",
       "      <th>std</th>\n",
       "      <td>0.083337</td>\n",
       "      <td>0.077792</td>\n",
       "      <td>8.802742</td>\n",
       "      <td>3.656989</td>\n",
       "      <td>0.499432</td>\n",
       "      <td>0.460687</td>\n",
       "    </tr>\n",
       "    <tr>\n",
       "      <th>min</th>\n",
       "      <td>40.498905</td>\n",
       "      <td>-74.250149</td>\n",
       "      <td>1.000000</td>\n",
       "      <td>1.000000</td>\n",
       "      <td>0.000000</td>\n",
       "      <td>0.000000</td>\n",
       "    </tr>\n",
       "    <tr>\n",
       "      <th>25%</th>\n",
       "      <td>40.675976</td>\n",
       "      <td>-73.970198</td>\n",
       "      <td>8.000000</td>\n",
       "      <td>3.000000</td>\n",
       "      <td>0.000000</td>\n",
       "      <td>0.000000</td>\n",
       "    </tr>\n",
       "    <tr>\n",
       "      <th>50%</th>\n",
       "      <td>40.734677</td>\n",
       "      <td>-73.924054</td>\n",
       "      <td>15.000000</td>\n",
       "      <td>6.000000</td>\n",
       "      <td>0.000000</td>\n",
       "      <td>0.000000</td>\n",
       "    </tr>\n",
       "    <tr>\n",
       "      <th>75%</th>\n",
       "      <td>40.815606</td>\n",
       "      <td>-73.879998</td>\n",
       "      <td>23.000000</td>\n",
       "      <td>10.000000</td>\n",
       "      <td>1.000000</td>\n",
       "      <td>1.000000</td>\n",
       "    </tr>\n",
       "    <tr>\n",
       "      <th>max</th>\n",
       "      <td>40.912476</td>\n",
       "      <td>-73.700720</td>\n",
       "      <td>31.000000</td>\n",
       "      <td>12.000000</td>\n",
       "      <td>1.000000</td>\n",
       "      <td>1.000000</td>\n",
       "    </tr>\n",
       "  </tbody>\n",
       "</table>\n",
       "</div>"
      ],
      "text/plain": [
       "            latitude      longitude            dia            mes  \\\n",
       "count  121725.000000  121725.000000  121725.000000  121725.000000   \n",
       "mean       40.738644     -73.922523      15.414763       6.235334   \n",
       "std         0.083337       0.077792       8.802742       3.656989   \n",
       "min        40.498905     -74.250149       1.000000       1.000000   \n",
       "25%        40.675976     -73.970198       8.000000       3.000000   \n",
       "50%        40.734677     -73.924054      15.000000       6.000000   \n",
       "75%        40.815606     -73.879998      23.000000      10.000000   \n",
       "max        40.912476     -73.700720      31.000000      12.000000   \n",
       "\n",
       "               grave        assalto  \n",
       "count  121725.000000  121725.000000  \n",
       "mean        0.476122       0.305656  \n",
       "std         0.499432       0.460687  \n",
       "min         0.000000       0.000000  \n",
       "25%         0.000000       0.000000  \n",
       "50%         0.000000       0.000000  \n",
       "75%         1.000000       1.000000  \n",
       "max         1.000000       1.000000  "
      ]
     },
     "execution_count": 21,
     "metadata": {},
     "output_type": "execute_result"
    }
   ],
   "source": [
    "dados.describe()"
   ]
  },
  {
   "cell_type": "code",
   "execution_count": 22,
   "metadata": {
    "colab": {
     "base_uri": "https://localhost:8080/",
     "height": 235
    },
    "id": "Ij8J4jg8CuuU",
    "outputId": "6be54d29-f061-4f43-fe27-1425b50b72f1"
   },
   "outputs": [
    {
     "data": {
      "text/html": [
       "<div>\n",
       "<style scoped>\n",
       "    .dataframe tbody tr th:only-of-type {\n",
       "        vertical-align: middle;\n",
       "    }\n",
       "\n",
       "    .dataframe tbody tr th {\n",
       "        vertical-align: top;\n",
       "    }\n",
       "\n",
       "    .dataframe thead th {\n",
       "        text-align: right;\n",
       "    }\n",
       "</style>\n",
       "<table border=\"1\" class=\"dataframe\">\n",
       "  <thead>\n",
       "    <tr style=\"text-align: right;\">\n",
       "      <th></th>\n",
       "      <th>latitude</th>\n",
       "      <th>longitude</th>\n",
       "      <th>dia</th>\n",
       "      <th>mes</th>\n",
       "      <th>grave</th>\n",
       "      <th>assalto</th>\n",
       "    </tr>\n",
       "  </thead>\n",
       "  <tbody>\n",
       "    <tr>\n",
       "      <th>latitude</th>\n",
       "      <td>1.000000</td>\n",
       "      <td>0.280115</td>\n",
       "      <td>-0.002609</td>\n",
       "      <td>-0.003641</td>\n",
       "      <td>-0.070517</td>\n",
       "      <td>0.044708</td>\n",
       "    </tr>\n",
       "    <tr>\n",
       "      <th>longitude</th>\n",
       "      <td>0.280115</td>\n",
       "      <td>1.000000</td>\n",
       "      <td>0.005911</td>\n",
       "      <td>0.002924</td>\n",
       "      <td>0.001471</td>\n",
       "      <td>0.082315</td>\n",
       "    </tr>\n",
       "    <tr>\n",
       "      <th>dia</th>\n",
       "      <td>-0.002609</td>\n",
       "      <td>0.005911</td>\n",
       "      <td>1.000000</td>\n",
       "      <td>-0.004659</td>\n",
       "      <td>-0.000901</td>\n",
       "      <td>0.010673</td>\n",
       "    </tr>\n",
       "    <tr>\n",
       "      <th>mes</th>\n",
       "      <td>-0.003641</td>\n",
       "      <td>0.002924</td>\n",
       "      <td>-0.004659</td>\n",
       "      <td>1.000000</td>\n",
       "      <td>0.043483</td>\n",
       "      <td>0.033384</td>\n",
       "    </tr>\n",
       "    <tr>\n",
       "      <th>grave</th>\n",
       "      <td>-0.070517</td>\n",
       "      <td>0.001471</td>\n",
       "      <td>-0.000901</td>\n",
       "      <td>0.043483</td>\n",
       "      <td>1.000000</td>\n",
       "      <td>-0.151380</td>\n",
       "    </tr>\n",
       "    <tr>\n",
       "      <th>assalto</th>\n",
       "      <td>0.044708</td>\n",
       "      <td>0.082315</td>\n",
       "      <td>0.010673</td>\n",
       "      <td>0.033384</td>\n",
       "      <td>-0.151380</td>\n",
       "      <td>1.000000</td>\n",
       "    </tr>\n",
       "  </tbody>\n",
       "</table>\n",
       "</div>"
      ],
      "text/plain": [
       "           latitude  longitude       dia       mes     grave   assalto\n",
       "latitude   1.000000   0.280115 -0.002609 -0.003641 -0.070517  0.044708\n",
       "longitude  0.280115   1.000000  0.005911  0.002924  0.001471  0.082315\n",
       "dia       -0.002609   0.005911  1.000000 -0.004659 -0.000901  0.010673\n",
       "mes       -0.003641   0.002924 -0.004659  1.000000  0.043483  0.033384\n",
       "grave     -0.070517   0.001471 -0.000901  0.043483  1.000000 -0.151380\n",
       "assalto    0.044708   0.082315  0.010673  0.033384 -0.151380  1.000000"
      ]
     },
     "execution_count": 22,
     "metadata": {},
     "output_type": "execute_result"
    }
   ],
   "source": [
    "dados.corr().T"
   ]
  },
  {
   "cell_type": "code",
   "execution_count": 23,
   "metadata": {
    "colab": {
     "base_uri": "https://localhost:8080/",
     "height": 286
    },
    "id": "ethgccpFCuuV",
    "outputId": "baa7a0f0-fa34-4011-976a-5a262e8dae53"
   },
   "outputs": [
    {
     "data": {
      "text/plain": [
       "<matplotlib.axes._subplots.AxesSubplot at 0x24ff7458b50>"
      ]
     },
     "execution_count": 23,
     "metadata": {},
     "output_type": "execute_result"
    },
    {
     "data": {
      "image/png": "[encoded data removed]",
      "text/plain": [
       "<Figure size 432x288 with 2 Axes>"
      ]
     },
     "metadata": {
      "needs_background": "light"
     },
     "output_type": "display_data"
    }
   ],
   "source": [
    "sns.heatmap(dados.corr(), annot=True, center=0, cmap=\"YlGnBu\")"
   ]
  },
  {
   "cell_type": "markdown",
   "metadata": {
    "id": "yRt7TVb-CuuV"
   },
   "source": [
    "# 4 - Modelagem"
   ]
  },
  {
   "cell_type": "markdown",
   "metadata": {
    "id": "gYeIVZFgCuuV"
   },
   "source": [
    "## 4.1 Preparação dos Dados\n",
    "- Separação Treino/Teste\n",
    "- Separar Dados de Entrada (Atributos) e de saída (target)\n",
    "- Tratar colunas categóricas\n",
    "- Tratar dados ausentes\n"
   ]
  },
  {
   "cell_type": "markdown",
   "metadata": {
    "id": "6zCySluRCuuW"
   },
   "source": [
    " - Convertendo variáveis categóricas em variáveis numéricas e definindo os dados de entrada e de saída.\n",
    " \n",
    "      - No caso apenas as colunas que serão utilizadas na modelagem serão convertidas."
   ]
  },
  {
   "cell_type": "code",
   "execution_count": 24,
   "metadata": {
    "id": "7Jg82jiVCuuW"
   },
   "outputs": [],
   "source": [
    "from sklearn.preprocessing import LabelEncoder"
   ]
  },
  {
   "cell_type": "code",
   "execution_count": 25,
   "metadata": {
    "id": "rNZTx9LcCuuX"
   },
   "outputs": [],
   "source": [
    "enconder = LabelEncoder()"
   ]
  },
  {
   "cell_type": "code",
   "execution_count": 26,
   "metadata": {
    "colab": {
     "base_uri": "https://localhost:8080/"
    },
    "id": "_fbwO1T-CuuX",
    "outputId": "e2f7fb23-b5ab-4869-ed9f-5c787fb56957"
   },
   "outputs": [
    {
     "data": {
      "text/plain": [
       "Index(['descricao_da_ofensa', 'data_da_ocorrencia', 'nivel_da_ofensa',\n",
       "       'bairro', 'idade_do_infrator', 'sexo_do_infrator', 'raca_do_infrator',\n",
       "       'latitude', 'longitude', 'dia', 'mes', 'dia_da_semana', 'grave',\n",
       "       'assalto'],\n",
       "      dtype='object')"
      ]
     },
     "execution_count": 26,
     "metadata": {},
     "output_type": "execute_result"
    }
   ],
   "source": [
    "dados.columns"
   ]
  },
  {
   "cell_type": "code",
   "execution_count": 27,
   "metadata": {
    "colab": {
     "base_uri": "https://localhost:8080/"
    },
    "id": "zqpWe4VXCuuY",
    "outputId": "916cec48-9dc9-42c1-a83e-52002ab4385f"
   },
   "outputs": [
    {
     "name": "stdout",
     "output_type": "stream",
     "text": [
      "<class 'pandas.core.frame.DataFrame'>\n",
      "RangeIndex: 121725 entries, 0 to 121724\n",
      "Data columns (total 14 columns):\n",
      " #   Column               Non-Null Count   Dtype         \n",
      "---  ------               --------------   -----         \n",
      " 0   descricao_da_ofensa  121725 non-null  object        \n",
      " 1   data_da_ocorrencia   121725 non-null  datetime64[ns]\n",
      " 2   nivel_da_ofensa      121725 non-null  object        \n",
      " 3   bairro               121725 non-null  object        \n",
      " 4   idade_do_infrator    121725 non-null  object        \n",
      " 5   sexo_do_infrator     121725 non-null  object        \n",
      " 6   raca_do_infrator     121725 non-null  object        \n",
      " 7   latitude             121725 non-null  float64       \n",
      " 8   longitude            121725 non-null  float64       \n",
      " 9   dia                  121725 non-null  int64         \n",
      " 10  mes                  121725 non-null  int64         \n",
      " 11  dia_da_semana        121725 non-null  object        \n",
      " 12  grave                121725 non-null  int64         \n",
      " 13  assalto              121725 non-null  int64         \n",
      "dtypes: datetime64[ns](1), float64(2), int64(4), object(7)\n",
      "memory usage: 13.0+ MB\n"
     ]
    }
   ],
   "source": [
    "dados.info()"
   ]
  },
  {
   "cell_type": "code",
   "execution_count": 28,
   "metadata": {
    "id": "0mSLmuOECuuY"
   },
   "outputs": [],
   "source": [
    "# dados['nivel_da_ofensa'] = enconder.fit_transform(dados['nivel_da_ofensa'])\n",
    "# dados['idade_do_infrator'] = enconder.fit_transform(dados['idade_do_infrator'])\n",
    "# dados['descricao_da_ofensa'] = enconder.fit_transform(dados['descricao_da_ofensa'])\n",
    "# dados['sexo_do_infrator'] = enconder.fit_transform(dados['sexo_do_infrator'])\n",
    "# dados['raca_do_infrator'] = enconder.fit_transform(dados['raca_do_infrator'])\n",
    "# dados['dia'] = enconder.fit_transform(dados['dia'])\n",
    "# dados['mes'] = enconder.fit_transform(dados['mes'])\n",
    "# dados['latitude'] = enconder.fit_transform(dados['latitude'])\n",
    "# dados['longitude'] = enconder.fit_transform(dados['longitude'])\n",
    "# dados['data_da_ocorrencia'] = enconder.fit_transform(dados['data_da_ocorrencia'])"
   ]
  },
  {
   "cell_type": "code",
   "execution_count": 29,
   "metadata": {
    "id": "NMFCYh5ECuuY"
   },
   "outputs": [],
   "source": [
    "dados['bairro'] = enconder.fit_transform(dados['bairro'])\n",
    "dados['dia_da_semana'] = enconder.fit_transform(dados['dia_da_semana'])\n",
    "dados['latitude'] = enconder.fit_transform(dados['latitude'])\n",
    "dados['longitude'] = enconder.fit_transform(dados['longitude'])"
   ]
  },
  {
   "cell_type": "code",
   "execution_count": 30,
   "metadata": {
    "colab": {
     "base_uri": "https://localhost:8080/",
     "height": 204
    },
    "id": "hYn1ur-sCuuf",
    "outputId": "dac13810-bff6-4c9d-b64a-a41f96fa3c85"
   },
   "outputs": [
    {
     "data": {
      "text/html": [
       "<div>\n",
       "<style scoped>\n",
       "    .dataframe tbody tr th:only-of-type {\n",
       "        vertical-align: middle;\n",
       "    }\n",
       "\n",
       "    .dataframe tbody tr th {\n",
       "        vertical-align: top;\n",
       "    }\n",
       "\n",
       "    .dataframe thead th {\n",
       "        text-align: right;\n",
       "    }\n",
       "</style>\n",
       "<table border=\"1\" class=\"dataframe\">\n",
       "  <thead>\n",
       "    <tr style=\"text-align: right;\">\n",
       "      <th></th>\n",
       "      <th>descricao_da_ofensa</th>\n",
       "      <th>data_da_ocorrencia</th>\n",
       "      <th>nivel_da_ofensa</th>\n",
       "      <th>bairro</th>\n",
       "      <th>idade_do_infrator</th>\n",
       "      <th>sexo_do_infrator</th>\n",
       "      <th>raca_do_infrator</th>\n",
       "      <th>latitude</th>\n",
       "      <th>longitude</th>\n",
       "      <th>dia</th>\n",
       "      <th>mes</th>\n",
       "      <th>dia_da_semana</th>\n",
       "      <th>grave</th>\n",
       "      <th>assalto</th>\n",
       "    </tr>\n",
       "  </thead>\n",
       "  <tbody>\n",
       "    <tr>\n",
       "      <th>0</th>\n",
       "      <td>ASSAULT 3 &amp; RELATED OFFENSES</td>\n",
       "      <td>2020-10-20</td>\n",
       "      <td>contravencao</td>\n",
       "      <td>0</td>\n",
       "      <td>18-24</td>\n",
       "      <td>M</td>\n",
       "      <td>BLACK</td>\n",
       "      <td>22898</td>\n",
       "      <td>15376</td>\n",
       "      <td>20</td>\n",
       "      <td>10</td>\n",
       "      <td>5</td>\n",
       "      <td>0</td>\n",
       "      <td>1</td>\n",
       "    </tr>\n",
       "    <tr>\n",
       "      <th>1</th>\n",
       "      <td>ASSAULT 3 &amp; RELATED OFFENSES</td>\n",
       "      <td>2020-10-15</td>\n",
       "      <td>contravencao</td>\n",
       "      <td>3</td>\n",
       "      <td>18-24</td>\n",
       "      <td>M</td>\n",
       "      <td>WHITE HISPANIC</td>\n",
       "      <td>12263</td>\n",
       "      <td>23331</td>\n",
       "      <td>15</td>\n",
       "      <td>10</td>\n",
       "      <td>4</td>\n",
       "      <td>0</td>\n",
       "      <td>1</td>\n",
       "    </tr>\n",
       "    <tr>\n",
       "      <th>2</th>\n",
       "      <td>ASSAULT 3 &amp; RELATED OFFENSES</td>\n",
       "      <td>2020-09-30</td>\n",
       "      <td>contravencao</td>\n",
       "      <td>2</td>\n",
       "      <td>25-44</td>\n",
       "      <td>M</td>\n",
       "      <td>BLACK</td>\n",
       "      <td>21204</td>\n",
       "      <td>9345</td>\n",
       "      <td>30</td>\n",
       "      <td>9</td>\n",
       "      <td>6</td>\n",
       "      <td>0</td>\n",
       "      <td>1</td>\n",
       "    </tr>\n",
       "    <tr>\n",
       "      <th>3</th>\n",
       "      <td>ASSAULT 3 &amp; RELATED OFFENSES</td>\n",
       "      <td>2020-08-29</td>\n",
       "      <td>contravencao</td>\n",
       "      <td>0</td>\n",
       "      <td>45-64</td>\n",
       "      <td>M</td>\n",
       "      <td>BLACK</td>\n",
       "      <td>24581</td>\n",
       "      <td>15773</td>\n",
       "      <td>29</td>\n",
       "      <td>8</td>\n",
       "      <td>2</td>\n",
       "      <td>0</td>\n",
       "      <td>1</td>\n",
       "    </tr>\n",
       "    <tr>\n",
       "      <th>4</th>\n",
       "      <td>ASSAULT 3 &amp; RELATED OFFENSES</td>\n",
       "      <td>2020-08-09</td>\n",
       "      <td>contravencao</td>\n",
       "      <td>0</td>\n",
       "      <td>45-64</td>\n",
       "      <td>F</td>\n",
       "      <td>BLACK</td>\n",
       "      <td>26378</td>\n",
       "      <td>15895</td>\n",
       "      <td>9</td>\n",
       "      <td>8</td>\n",
       "      <td>3</td>\n",
       "      <td>0</td>\n",
       "      <td>1</td>\n",
       "    </tr>\n",
       "  </tbody>\n",
       "</table>\n",
       "</div>"
      ],
      "text/plain": [
       "            descricao_da_ofensa data_da_ocorrencia nivel_da_ofensa  bairro  \\\n",
       "0  ASSAULT 3 & RELATED OFFENSES         2020-10-20    contravencao       0   \n",
       "1  ASSAULT 3 & RELATED OFFENSES         2020-10-15    contravencao       3   \n",
       "2  ASSAULT 3 & RELATED OFFENSES         2020-09-30    contravencao       2   \n",
       "3  ASSAULT 3 & RELATED OFFENSES         2020-08-29    contravencao       0   \n",
       "4  ASSAULT 3 & RELATED OFFENSES         2020-08-09    contravencao       0   \n",
       "\n",
       "  idade_do_infrator sexo_do_infrator raca_do_infrator  latitude  longitude  \\\n",
       "0             18-24                M            BLACK     22898      15376   \n",
       "1             18-24                M   WHITE HISPANIC     12263      23331   \n",
       "2             25-44                M            BLACK     21204       9345   \n",
       "3             45-64                M            BLACK     24581      15773   \n",
       "4             45-64                F            BLACK     26378      15895   \n",
       "\n",
       "   dia  mes  dia_da_semana  grave  assalto  \n",
       "0   20   10              5      0        1  \n",
       "1   15   10              4      0        1  \n",
       "2   30    9              6      0        1  \n",
       "3   29    8              2      0        1  \n",
       "4    9    8              3      0        1  "
      ]
     },
     "execution_count": 30,
     "metadata": {},
     "output_type": "execute_result"
    }
   ],
   "source": [
    "dados.head()"
   ]
  },
  {
   "cell_type": "markdown",
   "metadata": {
    "id": "U_W7GDZECuug"
   },
   "source": [
    "Separando as variaveis em X e Y"
   ]
  },
  {
   "cell_type": "code",
   "execution_count": 31,
   "metadata": {
    "id": "vqvj7jRtCuui"
   },
   "outputs": [],
   "source": [
    "X = dados[['latitude', 'longitude','bairro','dia', 'mes', 'dia_da_semana']]\n",
    "Y = dados['assalto']"
   ]
  },
  {
   "cell_type": "code",
   "execution_count": 32,
   "metadata": {},
   "outputs": [
    {
     "data": {
      "text/plain": [
       "<matplotlib.axes._subplots.AxesSubplot at 0x24ff2642250>"
      ]
     },
     "execution_count": 32,
     "metadata": {},
     "output_type": "execute_result"
    },
    {
     "data": {
      "image/png": "[encoded data removed]",
      "text/plain": [
       "<Figure size 432x288 with 2 Axes>"
      ]
     },
     "metadata": {
      "needs_background": "light"
     },
     "output_type": "display_data"
    }
   ],
   "source": [
    "sns.heatmap(X.corr(), annot=True, center=0, cmap=\"YlGnBu\")"
   ]
  },
  {
   "cell_type": "markdown",
   "metadata": {
    "id": "UzgQ_xFhCuuj"
   },
   "source": [
    "\n",
    "Separando em amostras de treino e teste"
   ]
  },
  {
   "cell_type": "code",
   "execution_count": 33,
   "metadata": {
    "id": "4FJ3upxECuuj"
   },
   "outputs": [],
   "source": [
    "from sklearn.model_selection import train_test_split"
   ]
  },
  {
   "cell_type": "code",
   "execution_count": 34,
   "metadata": {
    "id": "GM98wcFMCuuj"
   },
   "outputs": [],
   "source": [
    "X_treino,X_teste,Y_treino,Y_teste = train_test_split(X,Y,test_size=0.25,random_state=123 , stratify = Y)"
   ]
  },
  {
   "cell_type": "markdown",
   "metadata": {
    "id": "9YbFZxf3Cuuk"
   },
   "source": [
    " - Criando um Benchmark"
   ]
  },
  {
   "cell_type": "code",
   "execution_count": 35,
   "metadata": {
    "colab": {
     "base_uri": "https://localhost:8080/"
    },
    "id": "slNV38UQCuuk",
    "outputId": "d5cb3e8b-c933-4a5c-8aa2-def998f17a83"
   },
   "outputs": [
    {
     "name": "stdout",
     "output_type": "stream",
     "text": [
      "A acurácia do dummy mostfrequent foi 69.43%\n"
     ]
    }
   ],
   "source": [
    "from sklearn.dummy import DummyClassifier\n",
    "\n",
    "dummy_clf = DummyClassifier(strategy=\"most_frequent\")\n",
    "dummy_clf.fit(X_treino, Y_treino)\n",
    "y_pred = dummy_clf.predict(X_teste)\n",
    "acuracia = dummy_clf.score(X_teste, Y_teste) * 100\n",
    "\n",
    "print('A acurácia do dummy mostfrequent foi %.2f%%' % acuracia)"
   ]
  },
  {
   "cell_type": "code",
   "execution_count": 36,
   "metadata": {
    "colab": {
     "base_uri": "https://localhost:8080/",
     "height": 297
    },
    "id": "m4dpcGTjCuuk",
    "outputId": "c8f063fb-a817-4f11-a11b-29286d3d9097"
   },
   "outputs": [
    {
     "data": {
      "text/plain": [
       "Text(33.0, 0.5, 'Real ( 1 ou 0)')"
      ]
     },
     "execution_count": 36,
     "metadata": {},
     "output_type": "execute_result"
    },
    {
     "data": {
      "image/png": "[encoded data removed]",
      "text/plain": [
       "<Figure size 432x288 with 2 Axes>"
      ]
     },
     "metadata": {
      "needs_background": "light"
     },
     "output_type": "display_data"
    }
   ],
   "source": [
    "from sklearn.metrics import confusion_matrix\n",
    "\n",
    "cm=confusion_matrix(Y_teste, y_pred)\n",
    "sns.heatmap(cm, annot=True, fmt='g')\n",
    "\n",
    "plt.xlabel('Predição( 1 ou 0)')\n",
    "plt.ylabel('Real ( 1 ou 0)')"
   ]
  },
  {
   "cell_type": "code",
   "execution_count": 37,
   "metadata": {
    "colab": {
     "base_uri": "https://localhost:8080/"
    },
    "id": "D7KkvQn-Cuul",
    "outputId": "94299886-462e-4fbe-d4d2-bd1ed348d56c"
   },
   "outputs": [
    {
     "data": {
      "text/plain": [
       "0.5"
      ]
     },
     "execution_count": 37,
     "metadata": {},
     "output_type": "execute_result"
    }
   ],
   "source": [
    "from sklearn.metrics import roc_auc_score\n",
    "\n",
    "y_proba = dummy_clf.predict_proba(X_teste)\n",
    "roc_auc_score(Y_teste, y_proba[:, 1])"
   ]
  },
  {
   "cell_type": "code",
   "execution_count": 38,
   "metadata": {
    "colab": {
     "base_uri": "https://localhost:8080/"
    },
    "id": "mM8DAcypCuul",
    "outputId": "243a05b5-d70a-4783-ece9-3eec767c566e"
   },
   "outputs": [
    {
     "name": "stdout",
     "output_type": "stream",
     "text": [
      "              precision    recall  f1-score   support\n",
      "\n",
      "           0       0.69      1.00      0.82     21130\n",
      "           1       0.00      0.00      0.00      9302\n",
      "\n",
      "    accuracy                           0.69     30432\n",
      "   macro avg       0.35      0.50      0.41     30432\n",
      "weighted avg       0.48      0.69      0.57     30432\n",
      "\n"
     ]
    },
    {
     "name": "stderr",
     "output_type": "stream",
     "text": [
      "C:\\Users\\Biena\\anaconda3\\lib\\site-packages\\sklearn\\metrics\\_classification.py:1221: UndefinedMetricWarning: Precision and F-score are ill-defined and being set to 0.0 in labels with no predicted samples. Use `zero_division` parameter to control this behavior.\n",
      "  _warn_prf(average, modifier, msg_start, len(result))\n"
     ]
    }
   ],
   "source": [
    "from sklearn.metrics import classification_report\n",
    "print(classification_report(Y_teste, y_pred))"
   ]
  },
  {
   "cell_type": "markdown",
   "metadata": {
    "id": "rXoox4F3Cuum"
   },
   "source": [
    " - Fazendo uma triagem com outros modelos"
   ]
  },
  {
   "cell_type": "code",
   "execution_count": 39,
   "metadata": {
    "id": "oIKF7EU-Cuum"
   },
   "outputs": [],
   "source": [
    "from sklearn.linear_model import LogisticRegression\n",
    "from sklearn.tree import DecisionTreeClassifier\n",
    "from sklearn.ensemble import RandomForestClassifier\n",
    "from xgboost import XGBClassifier"
   ]
  },
  {
   "cell_type": "code",
   "execution_count": 40,
   "metadata": {
    "colab": {
     "base_uri": "https://localhost:8080/"
    },
    "id": "EoVLnNsOCuum",
    "outputId": "0733740f-cd3c-42e8-d925-bec2616d6900"
   },
   "outputs": [
    {
     "name": "stdout",
     "output_type": "stream",
     "text": [
      "LogisticRegression\n",
      "Acuracia\n",
      "Treino: 0.6942920048634617\n",
      "Teste: 0.6942691903259727\n",
      "ROC AUC\n",
      "Treino 0.538993623336976\n",
      "Test 0.5336908778910906\n",
      "================================================================================\n",
      "DecisionTreeClassifier\n",
      "Acuracia\n",
      "Treino: 0.9493937103611448\n",
      "Teste: 0.6841482649842271\n",
      "ROC AUC\n",
      "Treino 0.993198082187678\n",
      "Test 0.6337027195857203\n",
      "================================================================================\n",
      "RandomForestClassifier\n",
      "Acuracia\n",
      "Treino: 0.9493827566187988\n",
      "Teste: 0.7119479495268138\n",
      "ROC AUC\n",
      "Treino 0.9907498635057149\n",
      "Test 0.7061977191089998\n",
      "================================================================================\n",
      "XGBClassifier\n"
     ]
    },
    {
     "name": "stderr",
     "output_type": "stream",
     "text": [
      "C:\\Users\\Biena\\anaconda3\\lib\\site-packages\\xgboost\\sklearn.py:892: UserWarning: The use of label encoder in XGBClassifier is deprecated and will be removed in a future release. To remove this warning, do the following: 1) Pass option use_label_encoder=False when constructing XGBClassifier object; and 2) Encode your labels (y) as integers starting with 0, i.e. 0, 1, 2, ..., [num_class - 1].\n",
      "  warnings.warn(label_encoder_deprecation_msg, UserWarning)\n"
     ]
    },
    {
     "name": "stdout",
     "output_type": "stream",
     "text": [
      "[20:16:25] WARNING: C:/Users/Administrator/workspace/xgboost-win64_release_1.3.0/src/learner.cc:1061: Starting in XGBoost 1.3.0, the default evaluation metric used with the objective 'binary:logistic' was changed from 'error' to 'logloss'. Explicitly set eval_metric if you'd like to restore the old behavior.\n",
      "Acuracia\n",
      "Treino: 0.7296397314142377\n",
      "Teste: 0.7009069400630915\n",
      "ROC AUC\n",
      "Treino 0.7593379465437742\n",
      "Test 0.6705347373504499\n",
      "================================================================================\n"
     ]
    }
   ],
   "source": [
    "lista_classificacores = [ LogisticRegression(),\n",
    "                         DecisionTreeClassifier(),\n",
    "                         RandomForestClassifier(),\n",
    "                         XGBClassifier()]\n",
    "\n",
    "for clf in lista_classificacores:\n",
    "  print(clf.__class__.__name__)\n",
    "  clf.fit(X_treino, Y_treino)\n",
    "\n",
    "  print('Acuracia')\n",
    "  train_acc = clf.score(X_treino, Y_treino)\n",
    "  test_acc = clf.score(X_teste, Y_teste)\n",
    "  print('Treino:', train_acc)\n",
    "  print('Teste:', test_acc)\n",
    "\n",
    "  print('ROC AUC')\n",
    "\n",
    "  y_proba_treino = clf.predict_proba(X_treino)\n",
    "  roc_treino = roc_auc_score(Y_treino, y_proba_treino[:, 1])\n",
    "  print('Treino', roc_treino)\n",
    "\n",
    "  y_proba_teste = clf.predict_proba(X_teste)\n",
    "  roc_teste = roc_auc_score(Y_teste, y_proba_teste[:, 1])\n",
    "  print('Test', roc_teste)\n",
    "  print('='*80)"
   ]
  },
  {
   "cell_type": "code",
   "execution_count": 41,
   "metadata": {
    "id": "G8WUA3WnCuun"
   },
   "outputs": [],
   "source": [
    "modelo = RandomForestClassifier()"
   ]
  },
  {
   "cell_type": "code",
   "execution_count": 42,
   "metadata": {
    "colab": {
     "base_uri": "https://localhost:8080/"
    },
    "id": "JxHYgIg8Cuun",
    "outputId": "78a30f4a-588c-4931-9394-d05ea21f66d3"
   },
   "outputs": [
    {
     "data": {
      "text/plain": [
       "RandomForestClassifier()"
      ]
     },
     "execution_count": 42,
     "metadata": {},
     "output_type": "execute_result"
    }
   ],
   "source": [
    "modelo.fit(X_treino, Y_treino)"
   ]
  },
  {
   "cell_type": "code",
   "execution_count": 43,
   "metadata": {
    "id": "XYka9iK7Cuuo"
   },
   "outputs": [],
   "source": [
    "Y_previsto = modelo.predict(X_teste)"
   ]
  },
  {
   "cell_type": "markdown",
   "metadata": {
    "id": "7WStGxSzCuuo"
   },
   "source": [
    " - Gerando a matriz de confusão"
   ]
  },
  {
   "cell_type": "code",
   "execution_count": 44,
   "metadata": {
    "colab": {
     "base_uri": "https://localhost:8080/",
     "height": 296
    },
    "id": "-gq5TMTeCuuz",
    "outputId": "aa3ecade-ef9c-4422-d073-755fbe1de6f6"
   },
   "outputs": [
    {
     "data": {
      "text/plain": [
       "Text(33.0, 0.5, 'Real ( 1 ou 0)')"
      ]
     },
     "execution_count": 44,
     "metadata": {},
     "output_type": "execute_result"
    },
    {
     "data": {
      "image/png": "[encoded data removed]",
      "text/plain": [
       "<Figure size 432x288 with 2 Axes>"
      ]
     },
     "metadata": {
      "needs_background": "light"
     },
     "output_type": "display_data"
    }
   ],
   "source": [
    "cm=confusion_matrix(Y_teste, Y_previsto)\n",
    "sns.heatmap(cm, annot=True, fmt='g')\n",
    "\n",
    "plt.xlabel('Predição( 1 ou 0)')\n",
    "plt.ylabel('Real ( 1 ou 0)')"
   ]
  },
  {
   "cell_type": "code",
   "execution_count": 45,
   "metadata": {
    "colab": {
     "base_uri": "https://localhost:8080/"
    },
    "id": "VCXJ6lfiCuu0",
    "outputId": "995862ca-b6eb-4449-8cd9-c3953d5ae1e5"
   },
   "outputs": [
    {
     "data": {
      "text/plain": [
       "0.6705347373504499"
      ]
     },
     "execution_count": 45,
     "metadata": {},
     "output_type": "execute_result"
    }
   ],
   "source": [
    "from sklearn.metrics import roc_auc_score\n",
    "\n",
    "y_proba = clf.predict_proba(X_teste)\n",
    "roc_auc_score(Y_teste, y_proba[:, 1])"
   ]
  },
  {
   "cell_type": "code",
   "execution_count": 46,
   "metadata": {
    "colab": {
     "base_uri": "https://localhost:8080/"
    },
    "id": "-16I1CIwCuu1",
    "outputId": "e9287b96-8ebe-4810-c133-186e3ae861d2"
   },
   "outputs": [
    {
     "name": "stdout",
     "output_type": "stream",
     "text": [
      "              precision    recall  f1-score   support\n",
      "\n",
      "           0       0.76      0.86      0.81     21130\n",
      "           1       0.54      0.37      0.44      9302\n",
      "\n",
      "    accuracy                           0.71     30432\n",
      "   macro avg       0.65      0.61      0.62     30432\n",
      "weighted avg       0.69      0.71      0.69     30432\n",
      "\n"
     ]
    }
   ],
   "source": [
    "from sklearn.metrics import classification_report\n",
    "print(classification_report(Y_teste, Y_previsto))"
   ]
  },
  {
   "cell_type": "code",
   "execution_count": null,
   "metadata": {
    "id": "4WuglbaCCuu1"
   },
   "outputs": [],
   "source": []
  },
  {
   "cell_type": "markdown",
   "metadata": {
    "id": "xaMH1AbDCuu1"
   },
   "source": [
    "# GridSearch"
   ]
  },
  {
   "cell_type": "code",
   "execution_count": null,
   "metadata": {
    "id": "vgPODNxzCuu2"
   },
   "outputs": [],
   "source": [
    "from sklearn.model_selection import GridSearchCV"
   ]
  },
  {
   "cell_type": "code",
   "execution_count": null,
   "metadata": {
    "id": "04606d-VCuu2"
   },
   "outputs": [],
   "source": [
    "# parametros = {'n_estimators' : np.arange(80,210,10),\n",
    "#               'criterion' : ['gini','entropy'], \n",
    "#               'max_depth' : np.arange(2,6),\n",
    "#               'min_samples_split' : np.arange(2,5),}\n",
    "#               # 'max_features' : ['auto','sqrt','log2']}\n",
    "# melhor_modelo = GridSearchCV(modelo, parametros, n_jobs=-1, cv=2, refit=True)"
   ]
  },
  {
   "cell_type": "code",
   "execution_count": null,
   "metadata": {
    "id": "-StIP206GZxL"
   },
   "outputs": [],
   "source": [
    "parametros = {'max_depth' : np.arange(1,10),\n",
    "              'criterion' : ['gini','entropy'],\n",
    "              }"
   ]
  },
  {
   "cell_type": "code",
   "execution_count": null,
   "metadata": {
    "id": "D6PHXr_SCuu2"
   },
   "outputs": [],
   "source": [
    "melhor_modelo = GridSearchCV(modelo, parametros, n_jobs=-1 ,  cv=2 , refit = True)"
   ]
  },
  {
   "cell_type": "code",
   "execution_count": null,
   "metadata": {},
   "outputs": [],
   "source": [
    "melhor_modelo.fit(x_treino, y_treino)"
   ]
  },
  {
   "cell_type": "code",
   "execution_count": null,
   "metadata": {},
   "outputs": [],
   "source": [
    "melhor_modelo.best_estimator_"
   ]
  },
  {
   "cell_type": "code",
   "execution_count": null,
   "metadata": {
    "id": "mIOc8K1hCuvD"
   },
   "outputs": [],
   "source": [
    "modelo_final = melhor_modelo.best_estimator_"
   ]
  },
  {
   "cell_type": "code",
   "execution_count": null,
   "metadata": {
    "colab": {
     "base_uri": "https://localhost:8080/"
    },
    "id": "bYvo45EFCuvD",
    "outputId": "d04d1686-3b91-4a76-e7f6-a41abf8e9a63"
   },
   "outputs": [],
   "source": [
    "modelo_final.fit(X_treino, Y_treino)"
   ]
  },
  {
   "cell_type": "code",
   "execution_count": null,
   "metadata": {
    "id": "Vmmo5ep0CuvD"
   },
   "outputs": [],
   "source": [
    "Y_previsto = modelo_final.predict(X_teste)"
   ]
  },
  {
   "cell_type": "code",
   "execution_count": null,
   "metadata": {
    "colab": {
     "base_uri": "https://localhost:8080/"
    },
    "id": "UVQH9g8SCuvE",
    "outputId": "f7620db7-da59-46f0-99f7-ac6658951e30"
   },
   "outputs": [],
   "source": [
    "score_teste = modelo_final.score(X_teste,Y_teste)\n",
    "score_teste"
   ]
  },
  {
   "cell_type": "code",
   "execution_count": null,
   "metadata": {
    "colab": {
     "base_uri": "https://localhost:8080/",
     "height": 296
    },
    "id": "_hq06mmiCuvE",
    "outputId": "9335ecdb-1276-4043-82ae-f00b542d5d0e"
   },
   "outputs": [],
   "source": [
    "cm=confusion_matrix(Y_teste, Y_previsto)\n",
    "sns.heatmap(cm, annot=True, fmt='g')\n",
    "\n",
    "plt.xlabel('Predição( 1 ou 0)')\n",
    "plt.ylabel('Real ( 1 ou 0)')"
   ]
  },
  {
   "cell_type": "code",
   "execution_count": null,
   "metadata": {
    "colab": {
     "base_uri": "https://localhost:8080/"
    },
    "id": "sG75NaWJCuvE",
    "outputId": "602d3fb9-dff8-4e52-d005-8e919ad14fa9"
   },
   "outputs": [],
   "source": [
    "y_proba = clf.predict_proba(x_teste)\n",
    "roc_auc_score(Y_teste, y_proba[:, 1])"
   ]
  },
  {
   "cell_type": "code",
   "execution_count": null,
   "metadata": {
    "colab": {
     "base_uri": "https://localhost:8080/"
    },
    "id": "8vu74IfKCuvF",
    "outputId": "05ee12a2-e1f1-4d37-c208-20407be005bd"
   },
   "outputs": [],
   "source": [
    "from sklearn.metrics import classification_report\n",
    "print(classification_report(Y_teste, Y_previsto))"
   ]
  },
  {
   "cell_type": "code",
   "execution_count": null,
   "metadata": {
    "id": "0Y2jF9cVCuvG"
   },
   "outputs": [],
   "source": []
  },
  {
   "cell_type": "markdown",
   "metadata": {
    "id": "WUtG_fI8Cuvp"
   },
   "source": [
    "## Comparando roc_auc_score"
   ]
  },
  {
   "cell_type": "code",
   "execution_count": null,
   "metadata": {
    "id": "xgIqSjU6Cuvz"
   },
   "outputs": [],
   "source": [
    "from sklearn.metrics import roc_curve, roc_auc_score\n"
   ]
  },
  {
   "cell_type": "code",
   "execution_count": null,
   "metadata": {
    "id": "oVJ0DFWhCuv0"
   },
   "outputs": [],
   "source": [
    "#  antes cross_validate\n",
    "roc_score = roc_auc_score(Y_teste, Y_pred)\n",
    "print(\"ROC score = {:0.2f}%\".format(roc_score*100))"
   ]
  },
  {
   "cell_type": "code",
   "execution_count": null,
   "metadata": {
    "id": "inyuxoJGCuv0"
   },
   "outputs": [],
   "source": [
    "roc_fpr, roc_tpr, _ = roc_curve(Y_teste, Y_pred)"
   ]
  },
  {
   "cell_type": "code",
   "execution_count": null,
   "metadata": {
    "id": "hLO0kF7HCuv0"
   },
   "outputs": [],
   "source": [
    "plt.plot(roc_fpr, roc_tpr, linestyle='--')\n",
    "plt.xlabel('False Positive Rate')\n",
    "plt.ylabel('True Positive Rate')"
   ]
  },
  {
   "cell_type": "code",
   "execution_count": null,
   "metadata": {
    "id": "lFSj9CxHCuv2"
   },
   "outputs": [],
   "source": []
  }
 ],
 "metadata": {
  "colab": {
   "collapsed_sections": [],
   "name": "classificacao_assalto_NYC.ipynb",
   "provenance": [],
   "toc_visible": true
  },
  "kernelspec": {
   "display_name": "Python 3",
   "language": "python",
   "name": "python3"
  },
  "language_info": {
   "codemirror_mode": {
    "name": "ipython",
    "version": 3
   },
   "file_extension": ".py",
   "mimetype": "text/x-python",
   "name": "python",
   "nbconvert_exporter": "python",
   "pygments_lexer": "ipython3",
   "version": "3.8.3"
  }
 },
 "nbformat": 4,
 "nbformat_minor": 1
}
