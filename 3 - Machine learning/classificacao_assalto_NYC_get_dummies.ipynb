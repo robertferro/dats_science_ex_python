{
  "nbformat": 4,
  "nbformat_minor": 0,
  "metadata": {
    "colab": {
      "name": "classificacao_assalto_NYC_get_dummies.ipynb",
      "provenance": [],
      "collapsed_sections": []
    },
    "kernelspec": {
      "display_name": "Python 3",
      "language": "python",
      "name": "python3"
    },
    "language_info": {
      "codemirror_mode": {
        "name": "ipython",
        "version": 3
      },
      "file_extension": ".py",
      "mimetype": "text/x-python",
      "name": "python",
      "nbconvert_exporter": "python",
      "pygments_lexer": "ipython3",
      "version": "3.8.3"
    }
  },
  "cells": [
    {
      "cell_type": "markdown",
      "metadata": {
        "id": "EpoZtV52tq52"
      },
      "source": [
        "## Objetivo: Classificar a chance de ocorrer um assalto de acordo com a localização, mês, dia do mês e dia da semana."
      ]
    },
    {
      "cell_type": "markdown",
      "metadata": {
        "id": "NBm2Z4daCutf"
      },
      "source": [
        "## 1- Importando a base de dados"
      ]
    },
    {
      "cell_type": "code",
      "metadata": {
        "id": "NpHeI-PMj_aQ"
      },
      "source": [
        "#  Importando as bibliotecas\n",
        "\n",
        "import pandas as pd\n",
        "import seaborn as sns\n",
        "import matplotlib.pyplot as plt\n",
        "import numpy as np\n",
        "import datetime\n",
        "from datetime import date"
      ],
      "execution_count": 1,
      "outputs": []
    },
    {
      "cell_type": "code",
      "metadata": {
        "id": "_fpQhayPCuti"
      },
      "source": [
        "url = 'https://raw.githubusercontent.com/robertferro/delitos_NY_2020/master/1%20-%20Manipula%C3%A7%C3%A3o%20de%20dados/dados_processados.csv'"
      ],
      "execution_count": 2,
      "outputs": []
    },
    {
      "cell_type": "code",
      "metadata": {
        "id": "x3gtHxJzCuti"
      },
      "source": [
        "df = pd.read_csv(url)"
      ],
      "execution_count": 3,
      "outputs": []
    },
    {
      "cell_type": "code",
      "metadata": {
        "colab": {
          "base_uri": "https://localhost:8080/",
          "height": 224
        },
        "id": "IyBc8YZnCutj",
        "outputId": "89b7a7ae-9771-4088-8d65-c5224e7a02e3"
      },
      "source": [
        "df.head()"
      ],
      "execution_count": 4,
      "outputs": [
        {
          "output_type": "execute_result",
          "data": {
            "text/html": [
              "<div>\n",
              "<style scoped>\n",
              "    .dataframe tbody tr th:only-of-type {\n",
              "        vertical-align: middle;\n",
              "    }\n",
              "\n",
              "    .dataframe tbody tr th {\n",
              "        vertical-align: top;\n",
              "    }\n",
              "\n",
              "    .dataframe thead th {\n",
              "        text-align: right;\n",
              "    }\n",
              "</style>\n",
              "<table border=\"1\" class=\"dataframe\">\n",
              "  <thead>\n",
              "    <tr style=\"text-align: right;\">\n",
              "      <th></th>\n",
              "      <th>data_da_ocorrencia</th>\n",
              "      <th>descricao_da_ofensa</th>\n",
              "      <th>nivel_da_ofensa</th>\n",
              "      <th>bairro</th>\n",
              "      <th>idade_do_infrator</th>\n",
              "      <th>sexo_do_infrator</th>\n",
              "      <th>raca_do_infrator</th>\n",
              "      <th>latitude</th>\n",
              "      <th>longitude</th>\n",
              "      <th>ano</th>\n",
              "      <th>dia</th>\n",
              "      <th>mes</th>\n",
              "      <th>dia_da_semana</th>\n",
              "      <th>grave</th>\n",
              "      <th>fds</th>\n",
              "      <th>assalto</th>\n",
              "    </tr>\n",
              "  </thead>\n",
              "  <tbody>\n",
              "    <tr>\n",
              "      <th>0</th>\n",
              "      <td>2020-12-25</td>\n",
              "      <td>FELONY ASSAULT</td>\n",
              "      <td>crime</td>\n",
              "      <td>Bronx</td>\n",
              "      <td>25-44</td>\n",
              "      <td>M</td>\n",
              "      <td>BLACK</td>\n",
              "      <td>40.808798</td>\n",
              "      <td>-73.916184</td>\n",
              "      <td>2020</td>\n",
              "      <td>25</td>\n",
              "      <td>12</td>\n",
              "      <td>Friday</td>\n",
              "      <td>1</td>\n",
              "      <td>0</td>\n",
              "      <td>1</td>\n",
              "    </tr>\n",
              "    <tr>\n",
              "      <th>1</th>\n",
              "      <td>2020-12-22</td>\n",
              "      <td>ROBBERY</td>\n",
              "      <td>crime</td>\n",
              "      <td>Manhattan</td>\n",
              "      <td>18-24</td>\n",
              "      <td>M</td>\n",
              "      <td>BLACK HISPANIC</td>\n",
              "      <td>40.845956</td>\n",
              "      <td>-73.937813</td>\n",
              "      <td>2020</td>\n",
              "      <td>22</td>\n",
              "      <td>12</td>\n",
              "      <td>Tuesday</td>\n",
              "      <td>1</td>\n",
              "      <td>0</td>\n",
              "      <td>1</td>\n",
              "    </tr>\n",
              "    <tr>\n",
              "      <th>2</th>\n",
              "      <td>2020-12-21</td>\n",
              "      <td>FELONY ASSAULT</td>\n",
              "      <td>crime</td>\n",
              "      <td>Queens</td>\n",
              "      <td>25-44</td>\n",
              "      <td>M</td>\n",
              "      <td>BLACK</td>\n",
              "      <td>40.682398</td>\n",
              "      <td>-73.840079</td>\n",
              "      <td>2020</td>\n",
              "      <td>21</td>\n",
              "      <td>12</td>\n",
              "      <td>Monday</td>\n",
              "      <td>1</td>\n",
              "      <td>0</td>\n",
              "      <td>1</td>\n",
              "    </tr>\n",
              "    <tr>\n",
              "      <th>3</th>\n",
              "      <td>2020-12-10</td>\n",
              "      <td>FELONY ASSAULT</td>\n",
              "      <td>crime</td>\n",
              "      <td>Queens</td>\n",
              "      <td>18-24</td>\n",
              "      <td>M</td>\n",
              "      <td>BLACK</td>\n",
              "      <td>40.689336</td>\n",
              "      <td>-73.800409</td>\n",
              "      <td>2020</td>\n",
              "      <td>10</td>\n",
              "      <td>12</td>\n",
              "      <td>Thursday</td>\n",
              "      <td>1</td>\n",
              "      <td>0</td>\n",
              "      <td>1</td>\n",
              "    </tr>\n",
              "    <tr>\n",
              "      <th>4</th>\n",
              "      <td>2020-12-09</td>\n",
              "      <td>FORGERY</td>\n",
              "      <td>crime</td>\n",
              "      <td>Staten_Island</td>\n",
              "      <td>18-24</td>\n",
              "      <td>M</td>\n",
              "      <td>BLACK</td>\n",
              "      <td>40.634708</td>\n",
              "      <td>-74.124241</td>\n",
              "      <td>2020</td>\n",
              "      <td>9</td>\n",
              "      <td>12</td>\n",
              "      <td>Wednesday</td>\n",
              "      <td>1</td>\n",
              "      <td>0</td>\n",
              "      <td>0</td>\n",
              "    </tr>\n",
              "  </tbody>\n",
              "</table>\n",
              "</div>"
            ],
            "text/plain": [
              "  data_da_ocorrencia descricao_da_ofensa nivel_da_ofensa  ... grave fds assalto\n",
              "0         2020-12-25      FELONY ASSAULT           crime  ...     1   0       1\n",
              "1         2020-12-22             ROBBERY           crime  ...     1   0       1\n",
              "2         2020-12-21      FELONY ASSAULT           crime  ...     1   0       1\n",
              "3         2020-12-10      FELONY ASSAULT           crime  ...     1   0       1\n",
              "4         2020-12-09             FORGERY           crime  ...     1   0       0\n",
              "\n",
              "[5 rows x 16 columns]"
            ]
          },
          "metadata": {
            "tags": []
          },
          "execution_count": 4
        }
      ]
    },
    {
      "cell_type": "code",
      "metadata": {
        "colab": {
          "base_uri": "https://localhost:8080/"
        },
        "id": "dIUUOrJndRJb",
        "outputId": "1f98abbc-22a0-4baa-a69b-82913a45f9ee"
      },
      "source": [
        "df.info()"
      ],
      "execution_count": 5,
      "outputs": [
        {
          "output_type": "stream",
          "text": [
            "<class 'pandas.core.frame.DataFrame'>\n",
            "RangeIndex: 138987 entries, 0 to 138986\n",
            "Data columns (total 16 columns):\n",
            " #   Column               Non-Null Count   Dtype  \n",
            "---  ------               --------------   -----  \n",
            " 0   data_da_ocorrencia   138987 non-null  object \n",
            " 1   descricao_da_ofensa  138987 non-null  object \n",
            " 2   nivel_da_ofensa      138987 non-null  object \n",
            " 3   bairro               138987 non-null  object \n",
            " 4   idade_do_infrator    138987 non-null  object \n",
            " 5   sexo_do_infrator     138987 non-null  object \n",
            " 6   raca_do_infrator     138987 non-null  object \n",
            " 7   latitude             138987 non-null  float64\n",
            " 8   longitude            138987 non-null  float64\n",
            " 9   ano                  138987 non-null  int64  \n",
            " 10  dia                  138987 non-null  int64  \n",
            " 11  mes                  138987 non-null  int64  \n",
            " 12  dia_da_semana        138987 non-null  object \n",
            " 13  grave                138987 non-null  int64  \n",
            " 14  fds                  138987 non-null  int64  \n",
            " 15  assalto              138987 non-null  int64  \n",
            "dtypes: float64(2), int64(6), object(8)\n",
            "memory usage: 17.0+ MB\n"
          ],
          "name": "stdout"
        }
      ]
    },
    {
      "cell_type": "markdown",
      "metadata": {
        "id": "9MJirB7CCutk"
      },
      "source": [
        "## 2- Preparaçao dos dados"
      ]
    },
    {
      "cell_type": "markdown",
      "metadata": {
        "id": "5qsBO-hSCutm"
      },
      "source": [
        " - Conventerndo a coluna data_da_ocorrencia para formato datetime"
      ]
    },
    {
      "cell_type": "code",
      "metadata": {
        "id": "spTyivLvCutn"
      },
      "source": [
        "df[\"data_da_ocorrencia\"] = pd.to_datetime(df[\"data_da_ocorrencia\"] )"
      ],
      "execution_count": 6,
      "outputs": []
    },
    {
      "cell_type": "code",
      "metadata": {
        "colab": {
          "base_uri": "https://localhost:8080/"
        },
        "id": "bVTbUVOsCuto",
        "outputId": "0c73ad45-a095-4626-8c0a-93ac138d365b"
      },
      "source": [
        "df.isna().sum()"
      ],
      "execution_count": 7,
      "outputs": [
        {
          "output_type": "execute_result",
          "data": {
            "text/plain": [
              "data_da_ocorrencia     0\n",
              "descricao_da_ofensa    0\n",
              "nivel_da_ofensa        0\n",
              "bairro                 0\n",
              "idade_do_infrator      0\n",
              "sexo_do_infrator       0\n",
              "raca_do_infrator       0\n",
              "latitude               0\n",
              "longitude              0\n",
              "ano                    0\n",
              "dia                    0\n",
              "mes                    0\n",
              "dia_da_semana          0\n",
              "grave                  0\n",
              "fds                    0\n",
              "assalto                0\n",
              "dtype: int64"
            ]
          },
          "metadata": {
            "tags": []
          },
          "execution_count": 7
        }
      ]
    },
    {
      "cell_type": "code",
      "metadata": {
        "colab": {
          "base_uri": "https://localhost:8080/"
        },
        "id": "Y8N0wHAxCuto",
        "outputId": "d0fd702d-114a-42b2-fba1-8aa12d76abac"
      },
      "source": [
        "df.info()"
      ],
      "execution_count": 8,
      "outputs": [
        {
          "output_type": "stream",
          "text": [
            "<class 'pandas.core.frame.DataFrame'>\n",
            "RangeIndex: 138987 entries, 0 to 138986\n",
            "Data columns (total 16 columns):\n",
            " #   Column               Non-Null Count   Dtype         \n",
            "---  ------               --------------   -----         \n",
            " 0   data_da_ocorrencia   138987 non-null  datetime64[ns]\n",
            " 1   descricao_da_ofensa  138987 non-null  object        \n",
            " 2   nivel_da_ofensa      138987 non-null  object        \n",
            " 3   bairro               138987 non-null  object        \n",
            " 4   idade_do_infrator    138987 non-null  object        \n",
            " 5   sexo_do_infrator     138987 non-null  object        \n",
            " 6   raca_do_infrator     138987 non-null  object        \n",
            " 7   latitude             138987 non-null  float64       \n",
            " 8   longitude            138987 non-null  float64       \n",
            " 9   ano                  138987 non-null  int64         \n",
            " 10  dia                  138987 non-null  int64         \n",
            " 11  mes                  138987 non-null  int64         \n",
            " 12  dia_da_semana        138987 non-null  object        \n",
            " 13  grave                138987 non-null  int64         \n",
            " 14  fds                  138987 non-null  int64         \n",
            " 15  assalto              138987 non-null  int64         \n",
            "dtypes: datetime64[ns](1), float64(2), int64(6), object(7)\n",
            "memory usage: 17.0+ MB\n"
          ],
          "name": "stdout"
        }
      ]
    },
    {
      "cell_type": "markdown",
      "metadata": {
        "id": "FzybcMj9Cutr"
      },
      "source": [
        " - Excluindo colunas que não serão utilizadas e renomeando o dataset."
      ]
    },
    {
      "cell_type": "code",
      "metadata": {
        "id": "MlfgzdpsCuts"
      },
      "source": [
        "# como todos os registros correspondem ao ano de 2020, a coluna ano será exluída.\n",
        "dados = df.drop(columns=['ano'])"
      ],
      "execution_count": 9,
      "outputs": []
    },
    {
      "cell_type": "code",
      "metadata": {
        "colab": {
          "base_uri": "https://localhost:8080/"
        },
        "id": "z1vLilZaCutt",
        "outputId": "275b5916-d636-4ab3-d33d-51683b8dcc84"
      },
      "source": [
        "dados.shape"
      ],
      "execution_count": 10,
      "outputs": [
        {
          "output_type": "execute_result",
          "data": {
            "text/plain": [
              "(138987, 15)"
            ]
          },
          "metadata": {
            "tags": []
          },
          "execution_count": 10
        }
      ]
    },
    {
      "cell_type": "markdown",
      "metadata": {
        "id": "CmsvFbHvOFg3"
      },
      "source": [
        " ## Criando um filtro e pegando apenas os 10 delitos mais praticados"
      ]
    },
    {
      "cell_type": "code",
      "metadata": {
        "colab": {
          "base_uri": "https://localhost:8080/"
        },
        "id": "bgbCxzaXdRJy",
        "outputId": "33dade5c-ebf5-488e-b187-59058fc0885b"
      },
      "source": [
        "dados.assalto.value_counts()"
      ],
      "execution_count": 11,
      "outputs": [
        {
          "output_type": "execute_result",
          "data": {
            "text/plain": [
              "0    87123\n",
              "1    51864\n",
              "Name: assalto, dtype: int64"
            ]
          },
          "metadata": {
            "tags": []
          },
          "execution_count": 11
        }
      ]
    },
    {
      "cell_type": "code",
      "metadata": {
        "colab": {
          "base_uri": "https://localhost:8080/"
        },
        "id": "Tm_QMDQqOFg4",
        "outputId": "606cebcf-8095-4419-e793-3d8f923a16fb"
      },
      "source": [
        "dados.descricao_da_ofensa.value_counts().head(10)"
      ],
      "execution_count": 12,
      "outputs": [
        {
          "output_type": "execute_result",
          "data": {
            "text/plain": [
              "ASSAULT 3 & RELATED OFFENSES      23731\n",
              "FELONY ASSAULT                    13475\n",
              "PETIT LARCENY                     11406\n",
              "DANGEROUS DRUGS                   11289\n",
              "MISCELLANEOUS PENAL LAW            9133\n",
              "ROBBERY                            7948\n",
              "CRIMINAL MISCHIEF & RELATED OF     7831\n",
              "DANGEROUS WEAPONS                  6710\n",
              "GRAND LARCENY                      6542\n",
              "BURGLARY                           6056\n",
              "Name: descricao_da_ofensa, dtype: int64"
            ]
          },
          "metadata": {
            "tags": []
          },
          "execution_count": 12
        }
      ]
    },
    {
      "cell_type": "code",
      "metadata": {
        "id": "k3RP24qmOFhF"
      },
      "source": [
        "lista_delitos_recorrentes = dict(dados.descricao_da_ofensa.value_counts().head(10))\n",
        "lista_delitos_recorrentes = list(lista_delitos_recorrentes.keys())"
      ],
      "execution_count": 13,
      "outputs": []
    },
    {
      "cell_type": "code",
      "metadata": {
        "id": "UYGtldHzOFhG"
      },
      "source": [
        "dados = dados.set_index('descricao_da_ofensa')"
      ],
      "execution_count": 14,
      "outputs": []
    },
    {
      "cell_type": "code",
      "metadata": {
        "id": "9vZ04_boOFhG"
      },
      "source": [
        "dados = dados.loc[lista_delitos_recorrentes]"
      ],
      "execution_count": 15,
      "outputs": []
    },
    {
      "cell_type": "code",
      "metadata": {
        "colab": {
          "base_uri": "https://localhost:8080/"
        },
        "id": "OUEPHumICuuR",
        "outputId": "867d0049-9b73-4cb3-a6de-43e2c9ce47b5"
      },
      "source": [
        "dados.assalto.value_counts()"
      ],
      "execution_count": 16,
      "outputs": [
        {
          "output_type": "execute_result",
          "data": {
            "text/plain": [
              "0    52257\n",
              "1    51864\n",
              "Name: assalto, dtype: int64"
            ]
          },
          "metadata": {
            "tags": []
          },
          "execution_count": 16
        }
      ]
    },
    {
      "cell_type": "code",
      "metadata": {
        "id": "AOAr0DO3OFhI"
      },
      "source": [
        "dados = dados.reset_index()"
      ],
      "execution_count": 17,
      "outputs": []
    },
    {
      "cell_type": "code",
      "metadata": {
        "colab": {
          "base_uri": "https://localhost:8080/",
          "height": 309
        },
        "id": "kwqz0LLLCuuR",
        "outputId": "e595e540-ca7c-4f27-a8cc-196391c336a6"
      },
      "source": [
        "dados.head()"
      ],
      "execution_count": 18,
      "outputs": [
        {
          "output_type": "execute_result",
          "data": {
            "text/html": [
              "<div>\n",
              "<style scoped>\n",
              "    .dataframe tbody tr th:only-of-type {\n",
              "        vertical-align: middle;\n",
              "    }\n",
              "\n",
              "    .dataframe tbody tr th {\n",
              "        vertical-align: top;\n",
              "    }\n",
              "\n",
              "    .dataframe thead th {\n",
              "        text-align: right;\n",
              "    }\n",
              "</style>\n",
              "<table border=\"1\" class=\"dataframe\">\n",
              "  <thead>\n",
              "    <tr style=\"text-align: right;\">\n",
              "      <th></th>\n",
              "      <th>descricao_da_ofensa</th>\n",
              "      <th>data_da_ocorrencia</th>\n",
              "      <th>nivel_da_ofensa</th>\n",
              "      <th>bairro</th>\n",
              "      <th>idade_do_infrator</th>\n",
              "      <th>sexo_do_infrator</th>\n",
              "      <th>raca_do_infrator</th>\n",
              "      <th>latitude</th>\n",
              "      <th>longitude</th>\n",
              "      <th>dia</th>\n",
              "      <th>mes</th>\n",
              "      <th>dia_da_semana</th>\n",
              "      <th>grave</th>\n",
              "      <th>fds</th>\n",
              "      <th>assalto</th>\n",
              "    </tr>\n",
              "  </thead>\n",
              "  <tbody>\n",
              "    <tr>\n",
              "      <th>0</th>\n",
              "      <td>ASSAULT 3 &amp; RELATED OFFENSES</td>\n",
              "      <td>2020-10-20</td>\n",
              "      <td>contravencao</td>\n",
              "      <td>Bronx</td>\n",
              "      <td>18-24</td>\n",
              "      <td>M</td>\n",
              "      <td>BLACK</td>\n",
              "      <td>40.822298</td>\n",
              "      <td>-73.911694</td>\n",
              "      <td>20</td>\n",
              "      <td>10</td>\n",
              "      <td>Tuesday</td>\n",
              "      <td>0</td>\n",
              "      <td>0</td>\n",
              "      <td>1</td>\n",
              "    </tr>\n",
              "    <tr>\n",
              "      <th>1</th>\n",
              "      <td>ASSAULT 3 &amp; RELATED OFFENSES</td>\n",
              "      <td>2020-10-15</td>\n",
              "      <td>contravencao</td>\n",
              "      <td>Queens</td>\n",
              "      <td>18-24</td>\n",
              "      <td>M</td>\n",
              "      <td>WHITE HISPANIC</td>\n",
              "      <td>40.697730</td>\n",
              "      <td>-73.845596</td>\n",
              "      <td>15</td>\n",
              "      <td>10</td>\n",
              "      <td>Thursday</td>\n",
              "      <td>0</td>\n",
              "      <td>0</td>\n",
              "      <td>1</td>\n",
              "    </tr>\n",
              "    <tr>\n",
              "      <th>2</th>\n",
              "      <td>ASSAULT 3 &amp; RELATED OFFENSES</td>\n",
              "      <td>2020-09-30</td>\n",
              "      <td>contravencao</td>\n",
              "      <td>Manhattan</td>\n",
              "      <td>25-44</td>\n",
              "      <td>M</td>\n",
              "      <td>BLACK</td>\n",
              "      <td>40.800846</td>\n",
              "      <td>-73.949030</td>\n",
              "      <td>30</td>\n",
              "      <td>9</td>\n",
              "      <td>Wednesday</td>\n",
              "      <td>0</td>\n",
              "      <td>0</td>\n",
              "      <td>1</td>\n",
              "    </tr>\n",
              "    <tr>\n",
              "      <th>3</th>\n",
              "      <td>ASSAULT 3 &amp; RELATED OFFENSES</td>\n",
              "      <td>2020-08-29</td>\n",
              "      <td>contravencao</td>\n",
              "      <td>Bronx</td>\n",
              "      <td>45-64</td>\n",
              "      <td>M</td>\n",
              "      <td>BLACK</td>\n",
              "      <td>40.838551</td>\n",
              "      <td>-73.909399</td>\n",
              "      <td>29</td>\n",
              "      <td>8</td>\n",
              "      <td>Saturday</td>\n",
              "      <td>0</td>\n",
              "      <td>1</td>\n",
              "      <td>1</td>\n",
              "    </tr>\n",
              "    <tr>\n",
              "      <th>4</th>\n",
              "      <td>ASSAULT 3 &amp; RELATED OFFENSES</td>\n",
              "      <td>2020-08-09</td>\n",
              "      <td>contravencao</td>\n",
              "      <td>Bronx</td>\n",
              "      <td>45-64</td>\n",
              "      <td>F</td>\n",
              "      <td>BLACK</td>\n",
              "      <td>40.858584</td>\n",
              "      <td>-73.908696</td>\n",
              "      <td>9</td>\n",
              "      <td>8</td>\n",
              "      <td>Sunday</td>\n",
              "      <td>0</td>\n",
              "      <td>1</td>\n",
              "      <td>1</td>\n",
              "    </tr>\n",
              "  </tbody>\n",
              "</table>\n",
              "</div>"
            ],
            "text/plain": [
              "            descricao_da_ofensa data_da_ocorrencia  ... fds assalto\n",
              "0  ASSAULT 3 & RELATED OFFENSES         2020-10-20  ...   0       1\n",
              "1  ASSAULT 3 & RELATED OFFENSES         2020-10-15  ...   0       1\n",
              "2  ASSAULT 3 & RELATED OFFENSES         2020-09-30  ...   0       1\n",
              "3  ASSAULT 3 & RELATED OFFENSES         2020-08-29  ...   1       1\n",
              "4  ASSAULT 3 & RELATED OFFENSES         2020-08-09  ...   1       1\n",
              "\n",
              "[5 rows x 15 columns]"
            ]
          },
          "metadata": {
            "tags": []
          },
          "execution_count": 18
        }
      ]
    },
    {
      "cell_type": "markdown",
      "metadata": {
        "id": "yRt7TVb-CuuV"
      },
      "source": [
        "# 3 - Modelagem"
      ]
    },
    {
      "cell_type": "markdown",
      "metadata": {
        "id": "gYeIVZFgCuuV"
      },
      "source": [
        "## 3.1 Preparação dos Dados\n",
        "- Separação Treino/Teste\n",
        "- Separar Dados de Entrada (Atributos) e de saída (target)\n",
        "- Tratar colunas categóricas\n",
        "- Tratar dados ausentes\n"
      ]
    },
    {
      "cell_type": "markdown",
      "metadata": {
        "id": "6zCySluRCuuW"
      },
      "source": [
        " - Convertendo variáveis categóricas em variáveis numéricas e definindo os dados de entrada e de saída.\n",
        " \n",
        "      - No caso apenas as colunas que serão utilizadas na modelagem serão convertidas."
      ]
    },
    {
      "cell_type": "markdown",
      "metadata": {
        "id": "IuQFypFidRKA"
      },
      "source": [
        " - Selecionando apenas as colunas úteis para a modelagem."
      ]
    },
    {
      "cell_type": "code",
      "metadata": {
        "id": "RyTHpX1-OFhS"
      },
      "source": [
        "dados_ml = dados[['latitude', 'longitude','bairro','dia', 'mes', 'dia_da_semana','fds','assalto']]"
      ],
      "execution_count": 19,
      "outputs": []
    },
    {
      "cell_type": "code",
      "metadata": {
        "colab": {
          "base_uri": "https://localhost:8080/",
          "height": 204
        },
        "id": "hYn1ur-sCuuf",
        "outputId": "95b069e7-fa5c-40e1-fd3e-52a177e5932a"
      },
      "source": [
        "dados_ml.head()"
      ],
      "execution_count": 20,
      "outputs": [
        {
          "output_type": "execute_result",
          "data": {
            "text/html": [
              "<div>\n",
              "<style scoped>\n",
              "    .dataframe tbody tr th:only-of-type {\n",
              "        vertical-align: middle;\n",
              "    }\n",
              "\n",
              "    .dataframe tbody tr th {\n",
              "        vertical-align: top;\n",
              "    }\n",
              "\n",
              "    .dataframe thead th {\n",
              "        text-align: right;\n",
              "    }\n",
              "</style>\n",
              "<table border=\"1\" class=\"dataframe\">\n",
              "  <thead>\n",
              "    <tr style=\"text-align: right;\">\n",
              "      <th></th>\n",
              "      <th>latitude</th>\n",
              "      <th>longitude</th>\n",
              "      <th>bairro</th>\n",
              "      <th>dia</th>\n",
              "      <th>mes</th>\n",
              "      <th>dia_da_semana</th>\n",
              "      <th>fds</th>\n",
              "      <th>assalto</th>\n",
              "    </tr>\n",
              "  </thead>\n",
              "  <tbody>\n",
              "    <tr>\n",
              "      <th>0</th>\n",
              "      <td>40.822298</td>\n",
              "      <td>-73.911694</td>\n",
              "      <td>Bronx</td>\n",
              "      <td>20</td>\n",
              "      <td>10</td>\n",
              "      <td>Tuesday</td>\n",
              "      <td>0</td>\n",
              "      <td>1</td>\n",
              "    </tr>\n",
              "    <tr>\n",
              "      <th>1</th>\n",
              "      <td>40.697730</td>\n",
              "      <td>-73.845596</td>\n",
              "      <td>Queens</td>\n",
              "      <td>15</td>\n",
              "      <td>10</td>\n",
              "      <td>Thursday</td>\n",
              "      <td>0</td>\n",
              "      <td>1</td>\n",
              "    </tr>\n",
              "    <tr>\n",
              "      <th>2</th>\n",
              "      <td>40.800846</td>\n",
              "      <td>-73.949030</td>\n",
              "      <td>Manhattan</td>\n",
              "      <td>30</td>\n",
              "      <td>9</td>\n",
              "      <td>Wednesday</td>\n",
              "      <td>0</td>\n",
              "      <td>1</td>\n",
              "    </tr>\n",
              "    <tr>\n",
              "      <th>3</th>\n",
              "      <td>40.838551</td>\n",
              "      <td>-73.909399</td>\n",
              "      <td>Bronx</td>\n",
              "      <td>29</td>\n",
              "      <td>8</td>\n",
              "      <td>Saturday</td>\n",
              "      <td>1</td>\n",
              "      <td>1</td>\n",
              "    </tr>\n",
              "    <tr>\n",
              "      <th>4</th>\n",
              "      <td>40.858584</td>\n",
              "      <td>-73.908696</td>\n",
              "      <td>Bronx</td>\n",
              "      <td>9</td>\n",
              "      <td>8</td>\n",
              "      <td>Sunday</td>\n",
              "      <td>1</td>\n",
              "      <td>1</td>\n",
              "    </tr>\n",
              "  </tbody>\n",
              "</table>\n",
              "</div>"
            ],
            "text/plain": [
              "    latitude  longitude     bairro  dia  mes dia_da_semana  fds  assalto\n",
              "0  40.822298 -73.911694      Bronx   20   10       Tuesday    0        1\n",
              "1  40.697730 -73.845596     Queens   15   10      Thursday    0        1\n",
              "2  40.800846 -73.949030  Manhattan   30    9     Wednesday    0        1\n",
              "3  40.838551 -73.909399      Bronx   29    8      Saturday    1        1\n",
              "4  40.858584 -73.908696      Bronx    9    8        Sunday    1        1"
            ]
          },
          "metadata": {
            "tags": []
          },
          "execution_count": 20
        }
      ]
    },
    {
      "cell_type": "markdown",
      "metadata": {
        "id": "Y9JGhY7EOFhV"
      },
      "source": [
        " - Tratando a coluna dia_da_semana."
      ]
    },
    {
      "cell_type": "code",
      "metadata": {
        "id": "GCgGP-mpOFhV"
      },
      "source": [
        "dict_dia_da_semana = {'Monday':'segunda','Tuesday':'terca','Wednesday':'quarta','Thursday':'quinta','Friday':'sexta','Saturday':'sabado', 'Sunday':'domingo'}"
      ],
      "execution_count": 21,
      "outputs": []
    },
    {
      "cell_type": "code",
      "metadata": {
        "id": "n1RdzO3XOFhW",
        "colab": {
          "base_uri": "https://localhost:8080/"
        },
        "outputId": "732c21ad-0342-4774-8e65-a5176813d8d5"
      },
      "source": [
        "dados_ml['dia_da_semana'] = dados_ml['dia_da_semana'].map(dict_dia_da_semana)"
      ],
      "execution_count": 22,
      "outputs": [
        {
          "output_type": "stream",
          "text": [
            "/usr/local/lib/python3.7/dist-packages/ipykernel_launcher.py:1: SettingWithCopyWarning: \n",
            "A value is trying to be set on a copy of a slice from a DataFrame.\n",
            "Try using .loc[row_indexer,col_indexer] = value instead\n",
            "\n",
            "See the caveats in the documentation: https://pandas.pydata.org/pandas-docs/stable/user_guide/indexing.html#returning-a-view-versus-a-copy\n",
            "  \"\"\"Entry point for launching an IPython kernel.\n"
          ],
          "name": "stderr"
        }
      ]
    },
    {
      "cell_type": "code",
      "metadata": {
        "colab": {
          "base_uri": "https://localhost:8080/",
          "height": 204
        },
        "id": "yi-C0kzbOFhX",
        "outputId": "f3999e3c-4b8f-4a88-ea31-a8f5144e3653"
      },
      "source": [
        "dados_ml.head()"
      ],
      "execution_count": 23,
      "outputs": [
        {
          "output_type": "execute_result",
          "data": {
            "text/html": [
              "<div>\n",
              "<style scoped>\n",
              "    .dataframe tbody tr th:only-of-type {\n",
              "        vertical-align: middle;\n",
              "    }\n",
              "\n",
              "    .dataframe tbody tr th {\n",
              "        vertical-align: top;\n",
              "    }\n",
              "\n",
              "    .dataframe thead th {\n",
              "        text-align: right;\n",
              "    }\n",
              "</style>\n",
              "<table border=\"1\" class=\"dataframe\">\n",
              "  <thead>\n",
              "    <tr style=\"text-align: right;\">\n",
              "      <th></th>\n",
              "      <th>latitude</th>\n",
              "      <th>longitude</th>\n",
              "      <th>bairro</th>\n",
              "      <th>dia</th>\n",
              "      <th>mes</th>\n",
              "      <th>dia_da_semana</th>\n",
              "      <th>fds</th>\n",
              "      <th>assalto</th>\n",
              "    </tr>\n",
              "  </thead>\n",
              "  <tbody>\n",
              "    <tr>\n",
              "      <th>0</th>\n",
              "      <td>40.822298</td>\n",
              "      <td>-73.911694</td>\n",
              "      <td>Bronx</td>\n",
              "      <td>20</td>\n",
              "      <td>10</td>\n",
              "      <td>terca</td>\n",
              "      <td>0</td>\n",
              "      <td>1</td>\n",
              "    </tr>\n",
              "    <tr>\n",
              "      <th>1</th>\n",
              "      <td>40.697730</td>\n",
              "      <td>-73.845596</td>\n",
              "      <td>Queens</td>\n",
              "      <td>15</td>\n",
              "      <td>10</td>\n",
              "      <td>quinta</td>\n",
              "      <td>0</td>\n",
              "      <td>1</td>\n",
              "    </tr>\n",
              "    <tr>\n",
              "      <th>2</th>\n",
              "      <td>40.800846</td>\n",
              "      <td>-73.949030</td>\n",
              "      <td>Manhattan</td>\n",
              "      <td>30</td>\n",
              "      <td>9</td>\n",
              "      <td>quarta</td>\n",
              "      <td>0</td>\n",
              "      <td>1</td>\n",
              "    </tr>\n",
              "    <tr>\n",
              "      <th>3</th>\n",
              "      <td>40.838551</td>\n",
              "      <td>-73.909399</td>\n",
              "      <td>Bronx</td>\n",
              "      <td>29</td>\n",
              "      <td>8</td>\n",
              "      <td>sabado</td>\n",
              "      <td>1</td>\n",
              "      <td>1</td>\n",
              "    </tr>\n",
              "    <tr>\n",
              "      <th>4</th>\n",
              "      <td>40.858584</td>\n",
              "      <td>-73.908696</td>\n",
              "      <td>Bronx</td>\n",
              "      <td>9</td>\n",
              "      <td>8</td>\n",
              "      <td>domingo</td>\n",
              "      <td>1</td>\n",
              "      <td>1</td>\n",
              "    </tr>\n",
              "  </tbody>\n",
              "</table>\n",
              "</div>"
            ],
            "text/plain": [
              "    latitude  longitude     bairro  dia  mes dia_da_semana  fds  assalto\n",
              "0  40.822298 -73.911694      Bronx   20   10         terca    0        1\n",
              "1  40.697730 -73.845596     Queens   15   10        quinta    0        1\n",
              "2  40.800846 -73.949030  Manhattan   30    9        quarta    0        1\n",
              "3  40.838551 -73.909399      Bronx   29    8        sabado    1        1\n",
              "4  40.858584 -73.908696      Bronx    9    8       domingo    1        1"
            ]
          },
          "metadata": {
            "tags": []
          },
          "execution_count": 23
        }
      ]
    },
    {
      "cell_type": "markdown",
      "metadata": {
        "id": "I2KUrHcldRKL"
      },
      "source": [
        "- Tratando as colunas categóricas"
      ]
    },
    {
      "cell_type": "code",
      "metadata": {
        "id": "KQrY_pl2OFhY"
      },
      "source": [
        "dados_ml = pd.get_dummies(dados_ml)"
      ],
      "execution_count": 24,
      "outputs": []
    },
    {
      "cell_type": "code",
      "metadata": {
        "colab": {
          "base_uri": "https://localhost:8080/",
          "height": 224
        },
        "id": "A_u-j5kSOFhY",
        "outputId": "8cda2296-f99f-41ec-bdc6-09d9f2a7ad98"
      },
      "source": [
        "dados_ml.head()"
      ],
      "execution_count": 25,
      "outputs": [
        {
          "output_type": "execute_result",
          "data": {
            "text/html": [
              "<div>\n",
              "<style scoped>\n",
              "    .dataframe tbody tr th:only-of-type {\n",
              "        vertical-align: middle;\n",
              "    }\n",
              "\n",
              "    .dataframe tbody tr th {\n",
              "        vertical-align: top;\n",
              "    }\n",
              "\n",
              "    .dataframe thead th {\n",
              "        text-align: right;\n",
              "    }\n",
              "</style>\n",
              "<table border=\"1\" class=\"dataframe\">\n",
              "  <thead>\n",
              "    <tr style=\"text-align: right;\">\n",
              "      <th></th>\n",
              "      <th>latitude</th>\n",
              "      <th>longitude</th>\n",
              "      <th>dia</th>\n",
              "      <th>mes</th>\n",
              "      <th>fds</th>\n",
              "      <th>assalto</th>\n",
              "      <th>bairro_Bronx</th>\n",
              "      <th>bairro_Brooklyn</th>\n",
              "      <th>bairro_Manhattan</th>\n",
              "      <th>bairro_Queens</th>\n",
              "      <th>bairro_Staten_Island</th>\n",
              "      <th>dia_da_semana_domingo</th>\n",
              "      <th>dia_da_semana_quarta</th>\n",
              "      <th>dia_da_semana_quinta</th>\n",
              "      <th>dia_da_semana_sabado</th>\n",
              "      <th>dia_da_semana_segunda</th>\n",
              "      <th>dia_da_semana_sexta</th>\n",
              "      <th>dia_da_semana_terca</th>\n",
              "    </tr>\n",
              "  </thead>\n",
              "  <tbody>\n",
              "    <tr>\n",
              "      <th>0</th>\n",
              "      <td>40.822298</td>\n",
              "      <td>-73.911694</td>\n",
              "      <td>20</td>\n",
              "      <td>10</td>\n",
              "      <td>0</td>\n",
              "      <td>1</td>\n",
              "      <td>1</td>\n",
              "      <td>0</td>\n",
              "      <td>0</td>\n",
              "      <td>0</td>\n",
              "      <td>0</td>\n",
              "      <td>0</td>\n",
              "      <td>0</td>\n",
              "      <td>0</td>\n",
              "      <td>0</td>\n",
              "      <td>0</td>\n",
              "      <td>0</td>\n",
              "      <td>1</td>\n",
              "    </tr>\n",
              "    <tr>\n",
              "      <th>1</th>\n",
              "      <td>40.697730</td>\n",
              "      <td>-73.845596</td>\n",
              "      <td>15</td>\n",
              "      <td>10</td>\n",
              "      <td>0</td>\n",
              "      <td>1</td>\n",
              "      <td>0</td>\n",
              "      <td>0</td>\n",
              "      <td>0</td>\n",
              "      <td>1</td>\n",
              "      <td>0</td>\n",
              "      <td>0</td>\n",
              "      <td>0</td>\n",
              "      <td>1</td>\n",
              "      <td>0</td>\n",
              "      <td>0</td>\n",
              "      <td>0</td>\n",
              "      <td>0</td>\n",
              "    </tr>\n",
              "    <tr>\n",
              "      <th>2</th>\n",
              "      <td>40.800846</td>\n",
              "      <td>-73.949030</td>\n",
              "      <td>30</td>\n",
              "      <td>9</td>\n",
              "      <td>0</td>\n",
              "      <td>1</td>\n",
              "      <td>0</td>\n",
              "      <td>0</td>\n",
              "      <td>1</td>\n",
              "      <td>0</td>\n",
              "      <td>0</td>\n",
              "      <td>0</td>\n",
              "      <td>1</td>\n",
              "      <td>0</td>\n",
              "      <td>0</td>\n",
              "      <td>0</td>\n",
              "      <td>0</td>\n",
              "      <td>0</td>\n",
              "    </tr>\n",
              "    <tr>\n",
              "      <th>3</th>\n",
              "      <td>40.838551</td>\n",
              "      <td>-73.909399</td>\n",
              "      <td>29</td>\n",
              "      <td>8</td>\n",
              "      <td>1</td>\n",
              "      <td>1</td>\n",
              "      <td>1</td>\n",
              "      <td>0</td>\n",
              "      <td>0</td>\n",
              "      <td>0</td>\n",
              "      <td>0</td>\n",
              "      <td>0</td>\n",
              "      <td>0</td>\n",
              "      <td>0</td>\n",
              "      <td>1</td>\n",
              "      <td>0</td>\n",
              "      <td>0</td>\n",
              "      <td>0</td>\n",
              "    </tr>\n",
              "    <tr>\n",
              "      <th>4</th>\n",
              "      <td>40.858584</td>\n",
              "      <td>-73.908696</td>\n",
              "      <td>9</td>\n",
              "      <td>8</td>\n",
              "      <td>1</td>\n",
              "      <td>1</td>\n",
              "      <td>1</td>\n",
              "      <td>0</td>\n",
              "      <td>0</td>\n",
              "      <td>0</td>\n",
              "      <td>0</td>\n",
              "      <td>1</td>\n",
              "      <td>0</td>\n",
              "      <td>0</td>\n",
              "      <td>0</td>\n",
              "      <td>0</td>\n",
              "      <td>0</td>\n",
              "      <td>0</td>\n",
              "    </tr>\n",
              "  </tbody>\n",
              "</table>\n",
              "</div>"
            ],
            "text/plain": [
              "    latitude  longitude  ...  dia_da_semana_sexta  dia_da_semana_terca\n",
              "0  40.822298 -73.911694  ...                    0                    1\n",
              "1  40.697730 -73.845596  ...                    0                    0\n",
              "2  40.800846 -73.949030  ...                    0                    0\n",
              "3  40.838551 -73.909399  ...                    0                    0\n",
              "4  40.858584 -73.908696  ...                    0                    0\n",
              "\n",
              "[5 rows x 18 columns]"
            ]
          },
          "metadata": {
            "tags": []
          },
          "execution_count": 25
        }
      ]
    },
    {
      "cell_type": "code",
      "metadata": {
        "colab": {
          "base_uri": "https://localhost:8080/"
        },
        "id": "1OjVAbsvdRKR",
        "outputId": "64b9f440-6a31-42c9-93a6-c91eaefaa3a8"
      },
      "source": [
        "dados_ml.columns"
      ],
      "execution_count": 26,
      "outputs": [
        {
          "output_type": "execute_result",
          "data": {
            "text/plain": [
              "Index(['latitude', 'longitude', 'dia', 'mes', 'fds', 'assalto', 'bairro_Bronx',\n",
              "       'bairro_Brooklyn', 'bairro_Manhattan', 'bairro_Queens',\n",
              "       'bairro_Staten_Island', 'dia_da_semana_domingo', 'dia_da_semana_quarta',\n",
              "       'dia_da_semana_quinta', 'dia_da_semana_sabado', 'dia_da_semana_segunda',\n",
              "       'dia_da_semana_sexta', 'dia_da_semana_terca'],\n",
              "      dtype='object')"
            ]
          },
          "metadata": {
            "tags": []
          },
          "execution_count": 26
        }
      ]
    },
    {
      "cell_type": "code",
      "metadata": {
        "id": "bdugwEVJdRKT"
      },
      "source": [
        "#  Reordenando as colunas\n",
        "dados_ml = dados_ml[['latitude', 'longitude', 'dia', 'mes', 'fds', 'assalto', 'bairro_Bronx',\n",
        "       'bairro_Brooklyn', 'bairro_Manhattan', 'bairro_Queens',\n",
        "       'bairro_Staten_Island', 'dia_da_semana_segunda','dia_da_semana_terca', 'dia_da_semana_quarta','dia_da_semana_quinta',\n",
        "        'dia_da_semana_sexta', 'dia_da_semana_sabado', 'dia_da_semana_domingo' ]]"
      ],
      "execution_count": 27,
      "outputs": []
    },
    {
      "cell_type": "code",
      "metadata": {
        "colab": {
          "base_uri": "https://localhost:8080/",
          "height": 224
        },
        "id": "JsW1xVCYdRKU",
        "outputId": "948df019-078c-400d-c020-2eeb4877adae"
      },
      "source": [
        "dados_ml.head()"
      ],
      "execution_count": 28,
      "outputs": [
        {
          "output_type": "execute_result",
          "data": {
            "text/html": [
              "<div>\n",
              "<style scoped>\n",
              "    .dataframe tbody tr th:only-of-type {\n",
              "        vertical-align: middle;\n",
              "    }\n",
              "\n",
              "    .dataframe tbody tr th {\n",
              "        vertical-align: top;\n",
              "    }\n",
              "\n",
              "    .dataframe thead th {\n",
              "        text-align: right;\n",
              "    }\n",
              "</style>\n",
              "<table border=\"1\" class=\"dataframe\">\n",
              "  <thead>\n",
              "    <tr style=\"text-align: right;\">\n",
              "      <th></th>\n",
              "      <th>latitude</th>\n",
              "      <th>longitude</th>\n",
              "      <th>dia</th>\n",
              "      <th>mes</th>\n",
              "      <th>fds</th>\n",
              "      <th>assalto</th>\n",
              "      <th>bairro_Bronx</th>\n",
              "      <th>bairro_Brooklyn</th>\n",
              "      <th>bairro_Manhattan</th>\n",
              "      <th>bairro_Queens</th>\n",
              "      <th>bairro_Staten_Island</th>\n",
              "      <th>dia_da_semana_segunda</th>\n",
              "      <th>dia_da_semana_terca</th>\n",
              "      <th>dia_da_semana_quarta</th>\n",
              "      <th>dia_da_semana_quinta</th>\n",
              "      <th>dia_da_semana_sexta</th>\n",
              "      <th>dia_da_semana_sabado</th>\n",
              "      <th>dia_da_semana_domingo</th>\n",
              "    </tr>\n",
              "  </thead>\n",
              "  <tbody>\n",
              "    <tr>\n",
              "      <th>0</th>\n",
              "      <td>40.822298</td>\n",
              "      <td>-73.911694</td>\n",
              "      <td>20</td>\n",
              "      <td>10</td>\n",
              "      <td>0</td>\n",
              "      <td>1</td>\n",
              "      <td>1</td>\n",
              "      <td>0</td>\n",
              "      <td>0</td>\n",
              "      <td>0</td>\n",
              "      <td>0</td>\n",
              "      <td>0</td>\n",
              "      <td>1</td>\n",
              "      <td>0</td>\n",
              "      <td>0</td>\n",
              "      <td>0</td>\n",
              "      <td>0</td>\n",
              "      <td>0</td>\n",
              "    </tr>\n",
              "    <tr>\n",
              "      <th>1</th>\n",
              "      <td>40.697730</td>\n",
              "      <td>-73.845596</td>\n",
              "      <td>15</td>\n",
              "      <td>10</td>\n",
              "      <td>0</td>\n",
              "      <td>1</td>\n",
              "      <td>0</td>\n",
              "      <td>0</td>\n",
              "      <td>0</td>\n",
              "      <td>1</td>\n",
              "      <td>0</td>\n",
              "      <td>0</td>\n",
              "      <td>0</td>\n",
              "      <td>0</td>\n",
              "      <td>1</td>\n",
              "      <td>0</td>\n",
              "      <td>0</td>\n",
              "      <td>0</td>\n",
              "    </tr>\n",
              "    <tr>\n",
              "      <th>2</th>\n",
              "      <td>40.800846</td>\n",
              "      <td>-73.949030</td>\n",
              "      <td>30</td>\n",
              "      <td>9</td>\n",
              "      <td>0</td>\n",
              "      <td>1</td>\n",
              "      <td>0</td>\n",
              "      <td>0</td>\n",
              "      <td>1</td>\n",
              "      <td>0</td>\n",
              "      <td>0</td>\n",
              "      <td>0</td>\n",
              "      <td>0</td>\n",
              "      <td>1</td>\n",
              "      <td>0</td>\n",
              "      <td>0</td>\n",
              "      <td>0</td>\n",
              "      <td>0</td>\n",
              "    </tr>\n",
              "    <tr>\n",
              "      <th>3</th>\n",
              "      <td>40.838551</td>\n",
              "      <td>-73.909399</td>\n",
              "      <td>29</td>\n",
              "      <td>8</td>\n",
              "      <td>1</td>\n",
              "      <td>1</td>\n",
              "      <td>1</td>\n",
              "      <td>0</td>\n",
              "      <td>0</td>\n",
              "      <td>0</td>\n",
              "      <td>0</td>\n",
              "      <td>0</td>\n",
              "      <td>0</td>\n",
              "      <td>0</td>\n",
              "      <td>0</td>\n",
              "      <td>0</td>\n",
              "      <td>1</td>\n",
              "      <td>0</td>\n",
              "    </tr>\n",
              "    <tr>\n",
              "      <th>4</th>\n",
              "      <td>40.858584</td>\n",
              "      <td>-73.908696</td>\n",
              "      <td>9</td>\n",
              "      <td>8</td>\n",
              "      <td>1</td>\n",
              "      <td>1</td>\n",
              "      <td>1</td>\n",
              "      <td>0</td>\n",
              "      <td>0</td>\n",
              "      <td>0</td>\n",
              "      <td>0</td>\n",
              "      <td>0</td>\n",
              "      <td>0</td>\n",
              "      <td>0</td>\n",
              "      <td>0</td>\n",
              "      <td>0</td>\n",
              "      <td>0</td>\n",
              "      <td>1</td>\n",
              "    </tr>\n",
              "  </tbody>\n",
              "</table>\n",
              "</div>"
            ],
            "text/plain": [
              "    latitude  longitude  ...  dia_da_semana_sabado  dia_da_semana_domingo\n",
              "0  40.822298 -73.911694  ...                     0                      0\n",
              "1  40.697730 -73.845596  ...                     0                      0\n",
              "2  40.800846 -73.949030  ...                     0                      0\n",
              "3  40.838551 -73.909399  ...                     1                      0\n",
              "4  40.858584 -73.908696  ...                     0                      1\n",
              "\n",
              "[5 rows x 18 columns]"
            ]
          },
          "metadata": {
            "tags": []
          },
          "execution_count": 28
        }
      ]
    },
    {
      "cell_type": "markdown",
      "metadata": {
        "id": "U_W7GDZECuug"
      },
      "source": [
        "Separando as variaveis em X e Y"
      ]
    },
    {
      "cell_type": "code",
      "metadata": {
        "id": "vqvj7jRtCuui"
      },
      "source": [
        "X = dados_ml.drop(columns='assalto',axis=1)\n",
        "Y = dados_ml['assalto']"
      ],
      "execution_count": 29,
      "outputs": []
    },
    {
      "cell_type": "markdown",
      "metadata": {
        "id": "UzgQ_xFhCuuj"
      },
      "source": [
        "\n",
        "Separando em amostras de treino e teste"
      ]
    },
    {
      "cell_type": "code",
      "metadata": {
        "id": "4FJ3upxECuuj"
      },
      "source": [
        "from sklearn.model_selection import train_test_split"
      ],
      "execution_count": 30,
      "outputs": []
    },
    {
      "cell_type": "code",
      "metadata": {
        "id": "GM98wcFMCuuj"
      },
      "source": [
        "X_treino,X_teste,Y_treino,Y_teste = train_test_split(X,Y,test_size=0.20,random_state=123,stratify=Y )"
      ],
      "execution_count": 31,
      "outputs": []
    },
    {
      "cell_type": "markdown",
      "metadata": {
        "id": "9YbFZxf3Cuuk"
      },
      "source": [
        " - Criando um Benchmark"
      ]
    },
    {
      "cell_type": "code",
      "metadata": {
        "colab": {
          "base_uri": "https://localhost:8080/"
        },
        "id": "slNV38UQCuuk",
        "outputId": "176bac6b-1b27-4d58-c8a4-e1c0325c1f89"
      },
      "source": [
        "from sklearn.dummy import DummyClassifier\n",
        "\n",
        "dummy_clf = DummyClassifier(strategy=\"most_frequent\")\n",
        "dummy_clf.fit(X_treino, Y_treino)\n",
        "y_pred = dummy_clf.predict(X_teste)\n",
        "acuracia = dummy_clf.score(X_teste, Y_teste) * 100\n",
        "\n",
        "print('A acurácia do dummy mostfrequent foi %.2f%%' % acuracia)"
      ],
      "execution_count": 32,
      "outputs": [
        {
          "output_type": "stream",
          "text": [
            "A acurácia do dummy mostfrequent foi 50.19%\n"
          ],
          "name": "stdout"
        }
      ]
    },
    {
      "cell_type": "code",
      "metadata": {
        "colab": {
          "base_uri": "https://localhost:8080/",
          "height": 296
        },
        "id": "m4dpcGTjCuuk",
        "outputId": "5639036b-bd97-4f05-b7dc-5a658c0c86ab"
      },
      "source": [
        "from sklearn.metrics import confusion_matrix\n",
        "\n",
        "cm=confusion_matrix(Y_teste, y_pred)\n",
        "sns.heatmap(cm, annot=True, fmt='g')\n",
        "\n",
        "plt.xlabel('Predição( 1 ou 0)')\n",
        "plt.ylabel('Real ( 1 ou 0)')"
      ],
      "execution_count": 33,
      "outputs": [
        {
          "output_type": "execute_result",
          "data": {
            "text/plain": [
              "Text(33.0, 0.5, 'Real ( 1 ou 0)')"
            ]
          },
          "metadata": {
            "tags": []
          },
          "execution_count": 33
        },
        {
          "output_type": "display_data",
          "data": {
            "image/png": "[encoded data removed]",
            "text/plain": [
              "<Figure size 432x288 with 2 Axes>"
            ]
          },
          "metadata": {
            "tags": [],
            "needs_background": "light"
          }
        }
      ]
    },
    {
      "cell_type": "code",
      "metadata": {
        "colab": {
          "base_uri": "https://localhost:8080/"
        },
        "id": "D7KkvQn-Cuul",
        "outputId": "9042e914-50bd-4f8c-d21a-483ef1b5b733"
      },
      "source": [
        "from sklearn.metrics import  roc_auc_score,roc_curve\n",
        "from sklearn import metrics\n",
        "\n",
        "y_proba = dummy_clf.predict_proba(X_teste)\n",
        "roc_auc_score(Y_teste, y_proba[:, 1])"
      ],
      "execution_count": 34,
      "outputs": [
        {
          "output_type": "execute_result",
          "data": {
            "text/plain": [
              "0.5"
            ]
          },
          "metadata": {
            "tags": []
          },
          "execution_count": 34
        }
      ]
    },
    {
      "cell_type": "markdown",
      "metadata": {
        "id": "rXoox4F3Cuum"
      },
      "source": [
        " - Fazendo uma triagem com outros modelos"
      ]
    },
    {
      "cell_type": "code",
      "metadata": {
        "id": "oIKF7EU-Cuum"
      },
      "source": [
        "from sklearn.linear_model import LogisticRegression\n",
        "from sklearn.tree import DecisionTreeClassifier\n",
        "from sklearn.ensemble import RandomForestClassifier\n",
        "from xgboost import XGBClassifier"
      ],
      "execution_count": 35,
      "outputs": []
    },
    {
      "cell_type": "code",
      "metadata": {
        "colab": {
          "base_uri": "https://localhost:8080/"
        },
        "id": "EoVLnNsOCuum",
        "outputId": "e2122f23-b3a4-4977-ef7a-faecd3e32e8d"
      },
      "source": [
        "lista_classificacores = [ LogisticRegression(),\n",
        "                         DecisionTreeClassifier(),\n",
        "                         RandomForestClassifier(),\n",
        "                         XGBClassifier()]\n",
        "\n",
        "for clf in lista_classificacores:\n",
        "  print(clf.__class__.__name__)\n",
        "  clf.fit(X_treino, Y_treino)\n",
        "\n",
        "  print('Acuracia')\n",
        "  train_acc = clf.score(X_treino, Y_treino)\n",
        "  test_acc = clf.score(X_teste, Y_teste)\n",
        "  print('Treino:', train_acc)\n",
        "  print('Teste:', test_acc)\n",
        "\n",
        "  print('ROC AUC')\n",
        "\n",
        "  y_proba_treino = clf.predict_proba(X_treino)\n",
        "  roc_treino = roc_auc_score(Y_treino, y_proba_treino[:, 1])\n",
        "  print('Treino', roc_treino)\n",
        "\n",
        "  y_proba_teste = clf.predict_proba(X_teste)\n",
        "  roc_teste = roc_auc_score(Y_teste, y_proba_teste[:, 1])\n",
        "  print('Test', roc_teste)\n",
        "  print('='*80)"
      ],
      "execution_count": 36,
      "outputs": [
        {
          "output_type": "stream",
          "text": [
            "LogisticRegression\n"
          ],
          "name": "stdout"
        },
        {
          "output_type": "stream",
          "text": [
            "/usr/local/lib/python3.7/dist-packages/sklearn/linear_model/_logistic.py:940: ConvergenceWarning: lbfgs failed to converge (status=1):\n",
            "STOP: TOTAL NO. of ITERATIONS REACHED LIMIT.\n",
            "\n",
            "Increase the number of iterations (max_iter) or scale the data as shown in:\n",
            "    https://scikit-learn.org/stable/modules/preprocessing.html\n",
            "Please also refer to the documentation for alternative solver options:\n",
            "    https://scikit-learn.org/stable/modules/linear_model.html#logistic-regression\n",
            "  extra_warning_msg=_LOGISTIC_SOLVER_CONVERGENCE_MSG)\n"
          ],
          "name": "stderr"
        },
        {
          "output_type": "stream",
          "text": [
            "Acuracia\n",
            "Treino: 0.5673621782558587\n",
            "Teste: 0.5653781512605042\n",
            "ROC AUC\n",
            "Treino 0.5962515734546392\n",
            "Test 0.5947295978634514\n",
            "================================================================================\n",
            "DecisionTreeClassifier\n",
            "Acuracia\n",
            "Treino: 0.9448833077218594\n",
            "Teste: 0.6521968787515006\n",
            "ROC AUC\n",
            "Treino 0.993218698154851\n",
            "Test 0.6638387707953717\n",
            "================================================================================\n",
            "RandomForestClassifier\n",
            "Acuracia\n",
            "Treino: 0.9448833077218594\n",
            "Teste: 0.6630492196878751\n",
            "ROC AUC\n",
            "Treino 0.9899021058574122\n",
            "Test 0.7352608264729787\n",
            "================================================================================\n",
            "XGBClassifier\n",
            "Acuracia\n",
            "Treino: 0.6026099692662312\n",
            "Teste: 0.6008163265306122\n",
            "ROC AUC\n",
            "Treino 0.6447022224456832\n",
            "Test 0.6389662433924159\n",
            "================================================================================\n"
          ],
          "name": "stdout"
        }
      ]
    },
    {
      "cell_type": "code",
      "metadata": {
        "id": "G8WUA3WnCuun"
      },
      "source": [
        "modelo = RandomForestClassifier()"
      ],
      "execution_count": 37,
      "outputs": []
    },
    {
      "cell_type": "code",
      "metadata": {
        "colab": {
          "base_uri": "https://localhost:8080/"
        },
        "id": "JxHYgIg8Cuun",
        "outputId": "71cd3432-ebb6-4b90-d666-cb0122273125"
      },
      "source": [
        "modelo.fit(X_treino, Y_treino)"
      ],
      "execution_count": 38,
      "outputs": [
        {
          "output_type": "execute_result",
          "data": {
            "text/plain": [
              "RandomForestClassifier(bootstrap=True, ccp_alpha=0.0, class_weight=None,\n",
              "                       criterion='gini', max_depth=None, max_features='auto',\n",
              "                       max_leaf_nodes=None, max_samples=None,\n",
              "                       min_impurity_decrease=0.0, min_impurity_split=None,\n",
              "                       min_samples_leaf=1, min_samples_split=2,\n",
              "                       min_weight_fraction_leaf=0.0, n_estimators=100,\n",
              "                       n_jobs=None, oob_score=False, random_state=None,\n",
              "                       verbose=0, warm_start=False)"
            ]
          },
          "metadata": {
            "tags": []
          },
          "execution_count": 38
        }
      ]
    },
    {
      "cell_type": "code",
      "metadata": {
        "id": "XYka9iK7Cuuo"
      },
      "source": [
        "Y_previsto = modelo.predict(X_teste)"
      ],
      "execution_count": 39,
      "outputs": []
    },
    {
      "cell_type": "markdown",
      "metadata": {
        "id": "7WStGxSzCuuo"
      },
      "source": [
        " - Gerando a matriz de confusão"
      ]
    },
    {
      "cell_type": "code",
      "metadata": {
        "colab": {
          "base_uri": "https://localhost:8080/",
          "height": 296
        },
        "id": "-gq5TMTeCuuz",
        "outputId": "fdb633dd-e554-432d-af18-590bb2ee3f3d"
      },
      "source": [
        "cm=confusion_matrix(Y_teste, Y_previsto)\n",
        "sns.heatmap(cm, annot=True, fmt='g')\n",
        "\n",
        "plt.xlabel('Predição( 1 ou 0)')\n",
        "plt.ylabel('Real ( 1 ou 0)')"
      ],
      "execution_count": 40,
      "outputs": [
        {
          "output_type": "execute_result",
          "data": {
            "text/plain": [
              "Text(33.0, 0.5, 'Real ( 1 ou 0)')"
            ]
          },
          "metadata": {
            "tags": []
          },
          "execution_count": 40
        },
        {
          "output_type": "display_data",
          "data": {
            "image/png": "[encoded data removed]",
            "text/plain": [
              "<Figure size 432x288 with 2 Axes>"
            ]
          },
          "metadata": {
            "tags": [],
            "needs_background": "light"
          }
        }
      ]
    },
    {
      "cell_type": "code",
      "metadata": {
        "colab": {
          "base_uri": "https://localhost:8080/"
        },
        "id": "VCXJ6lfiCuu0",
        "outputId": "a2b2c396-af52-4c29-c271-e176958fcf29"
      },
      "source": [
        "y_proba = modelo.predict_proba(X_teste)\n",
        "roc_auc_score(Y_teste, y_proba[:, 1])"
      ],
      "execution_count": 41,
      "outputs": [
        {
          "output_type": "execute_result",
          "data": {
            "text/plain": [
              "0.7346955728886215"
            ]
          },
          "metadata": {
            "tags": []
          },
          "execution_count": 41
        }
      ]
    },
    {
      "cell_type": "code",
      "metadata": {
        "colab": {
          "base_uri": "https://localhost:8080/"
        },
        "id": "-16I1CIwCuu1",
        "outputId": "df4de970-f37b-431b-c2e7-c9d6b3a1a06d"
      },
      "source": [
        "from sklearn.metrics import classification_report\n",
        "print(classification_report(Y_teste, Y_previsto))"
      ],
      "execution_count": 42,
      "outputs": [
        {
          "output_type": "stream",
          "text": [
            "              precision    recall  f1-score   support\n",
            "\n",
            "           0       0.66      0.66      0.66     10452\n",
            "           1       0.66      0.66      0.66     10373\n",
            "\n",
            "    accuracy                           0.66     20825\n",
            "   macro avg       0.66      0.66      0.66     20825\n",
            "weighted avg       0.66      0.66      0.66     20825\n",
            "\n"
          ],
          "name": "stdout"
        }
      ]
    },
    {
      "cell_type": "code",
      "metadata": {
        "colab": {
          "base_uri": "https://localhost:8080/",
          "height": 295
        },
        "id": "qDPLRHbndRKl",
        "outputId": "45b67b4c-c4ae-41a9-cfc1-3b3c3b0c5e58"
      },
      "source": [
        "fpr, tpr, thresholds = metrics.roc_curve(Y_teste, y_proba[:,1])\n",
        "plt.plot(fpr, tpr)\n",
        "plt.title('ROC curve')\n",
        "plt.xlabel('False Positive Rate')\n",
        "plt.ylabel('True Positive Rate')\n",
        "plt.grid(True)\n",
        "plt.show()"
      ],
      "execution_count": 43,
      "outputs": [
        {
          "output_type": "display_data",
          "data": {
            "image/png": "[encoded data removed]",
            "text/plain": [
              "<Figure size 432x288 with 1 Axes>"
            ]
          },
          "metadata": {
            "tags": [],
            "needs_background": "light"
          }
        }
      ]
    },
    {
      "cell_type": "markdown",
      "metadata": {
        "id": "wtCv5Y0oOFhq"
      },
      "source": [
        "## Melhorando o modelo."
      ]
    },
    {
      "cell_type": "code",
      "metadata": {
        "colab": {
          "base_uri": "https://localhost:8080/"
        },
        "id": "Z9U7Nwk-OFhr",
        "outputId": "22bd5fa4-479a-4791-8fab-83bd367fb27e"
      },
      "source": [
        "Y_previsto[0:15]"
      ],
      "execution_count": 44,
      "outputs": [
        {
          "output_type": "execute_result",
          "data": {
            "text/plain": [
              "array([1, 0, 0, 0, 0, 1, 0, 1, 0, 0, 1, 0, 1, 1, 1])"
            ]
          },
          "metadata": {
            "tags": []
          },
          "execution_count": 44
        }
      ]
    },
    {
      "cell_type": "code",
      "metadata": {
        "colab": {
          "base_uri": "https://localhost:8080/"
        },
        "id": "fe9Uc-hCOFhs",
        "outputId": "98bd4a72-aac3-4a8b-8dde-cdbcf28ff5c4"
      },
      "source": [
        "y_proba[0:15]"
      ],
      "execution_count": 45,
      "outputs": [
        {
          "output_type": "execute_result",
          "data": {
            "text/plain": [
              "array([[0.3885    , 0.6115    ],\n",
              "       [0.56666667, 0.43333333],\n",
              "       [0.505     , 0.495     ],\n",
              "       [0.87766667, 0.12233333],\n",
              "       [0.755     , 0.245     ],\n",
              "       [0.03166667, 0.96833333],\n",
              "       [0.96      , 0.04      ],\n",
              "       [0.25361111, 0.74638889],\n",
              "       [0.68466667, 0.31533333],\n",
              "       [0.88      , 0.12      ],\n",
              "       [0.47297619, 0.52702381],\n",
              "       [0.55      , 0.45      ],\n",
              "       [0.05      , 0.95      ],\n",
              "       [0.39666667, 0.60333333],\n",
              "       [0.28982143, 0.71017857]])"
            ]
          },
          "metadata": {
            "tags": []
          },
          "execution_count": 45
        }
      ]
    },
    {
      "cell_type": "code",
      "metadata": {
        "id": "FGngdavyOFht"
      },
      "source": [
        "#  Armazenando as probabilidade de predição para a calsse 1\n",
        "y_pred_proba = modelo.predict_proba(X_teste)[:,1]"
      ],
      "execution_count": 46,
      "outputs": []
    },
    {
      "cell_type": "code",
      "metadata": {
        "colab": {
          "base_uri": "https://localhost:8080/",
          "height": 281
        },
        "id": "8E5wqLV0OFhu",
        "outputId": "8dd2f39f-5a65-4959-c6fb-e6d9749f7599"
      },
      "source": [
        "#  histograma das probabilidade de predição\n",
        "\n",
        "plt.hist(y_pred_proba, bins = 8)\n",
        "plt.xlim(0,1)\n",
        "plt.title('Histograma das probabilidade das predições')\n",
        "plt.ylabel(\"Frequência\")\n",
        "plt.show()"
      ],
      "execution_count": 47,
      "outputs": [
        {
          "output_type": "display_data",
          "data": {
            "image/png": "[encoded data removed]",
            "text/plain": [
              "<Figure size 432x288 with 1 Axes>"
            ]
          },
          "metadata": {
            "tags": [],
            "needs_background": "light"
          }
        }
      ]
    },
    {
      "cell_type": "code",
      "metadata": {
        "id": "bDN1ZWXGOFhv"
      },
      "source": [
        "#  predizendo se a probabilidade for maior que 0.45\n",
        "\n",
        "\n",
        "from sklearn.preprocessing import binarize\n",
        "y_pred = binarize([y_pred_proba], 0.37)[0]"
      ],
      "execution_count": 48,
      "outputs": []
    },
    {
      "cell_type": "code",
      "metadata": {
        "colab": {
          "base_uri": "https://localhost:8080/",
          "height": 296
        },
        "id": "WmSdRhpIOFhw",
        "outputId": "99b076f0-eb48-4a66-8b9b-c5c117f4e6c4"
      },
      "source": [
        "cm=confusion_matrix(Y_teste, y_pred)\n",
        "sns.heatmap(cm, annot=True, fmt='g')\n",
        "\n",
        "plt.xlabel('Predição( 1 ou 0)')\n",
        "plt.ylabel('Real ( 1 ou 0)')"
      ],
      "execution_count": 49,
      "outputs": [
        {
          "output_type": "execute_result",
          "data": {
            "text/plain": [
              "Text(33.0, 0.5, 'Real ( 1 ou 0)')"
            ]
          },
          "metadata": {
            "tags": []
          },
          "execution_count": 49
        },
        {
          "output_type": "display_data",
          "data": {
            "image/png": "[encoded data removed]",
            "text/plain": [
              "<Figure size 432x288 with 2 Axes>"
            ]
          },
          "metadata": {
            "tags": [],
            "needs_background": "light"
          }
        }
      ]
    },
    {
      "cell_type": "code",
      "metadata": {
        "colab": {
          "base_uri": "https://localhost:8080/"
        },
        "id": "DCDcyZv2OFhx",
        "outputId": "4cda6851-11bf-4600-ba2b-0ef25009644e"
      },
      "source": [
        "roc_auc_score(Y_teste,y_pred)"
      ],
      "execution_count": 50,
      "outputs": [
        {
          "output_type": "execute_result",
          "data": {
            "text/plain": [
              "0.6645803363843598"
            ]
          },
          "metadata": {
            "tags": []
          },
          "execution_count": 50
        }
      ]
    },
    {
      "cell_type": "code",
      "metadata": {
        "colab": {
          "base_uri": "https://localhost:8080/"
        },
        "id": "XPrI2bNcOFhx",
        "outputId": "f401e8e1-411f-455b-f939-5f1ef019a23e"
      },
      "source": [
        "print(classification_report(Y_teste, y_pred))"
      ],
      "execution_count": 51,
      "outputs": [
        {
          "output_type": "stream",
          "text": [
            "              precision    recall  f1-score   support\n",
            "\n",
            "           0       0.73      0.53      0.61     10452\n",
            "           1       0.63      0.80      0.70     10373\n",
            "\n",
            "    accuracy                           0.66     20825\n",
            "   macro avg       0.68      0.66      0.66     20825\n",
            "weighted avg       0.68      0.66      0.66     20825\n",
            "\n"
          ],
          "name": "stdout"
        }
      ]
    },
    {
      "cell_type": "code",
      "metadata": {
        "id": "69OUcyiTOFhy"
      },
      "source": [
        "from sklearn.metrics import roc_curve, roc_auc_score\n",
        "from sklearn import metrics"
      ],
      "execution_count": 52,
      "outputs": []
    },
    {
      "cell_type": "code",
      "metadata": {
        "colab": {
          "base_uri": "https://localhost:8080/",
          "height": 295
        },
        "id": "gTubJPQaYNZa",
        "outputId": "69c21966-e803-4ce8-8927-7669f8982939"
      },
      "source": [
        "fpr, tpr, thresholds = metrics.roc_curve(Y_teste, y_pred)\n",
        "plt.plot(fpr, tpr)\n",
        "plt.title('ROC curve')\n",
        "plt.xlabel('False Positive Rate')\n",
        "plt.ylabel('True Positive Rate')\n",
        "plt.grid(True)\n",
        "plt.show()"
      ],
      "execution_count": 53,
      "outputs": [
        {
          "output_type": "display_data",
          "data": {
            "image/png": "[encoded data removed]",
            "text/plain": [
              "<Figure size 432x288 with 1 Axes>"
            ]
          },
          "metadata": {
            "tags": [],
            "needs_background": "light"
          }
        }
      ]
    },
    {
      "cell_type": "code",
      "metadata": {
        "id": "lFSj9CxHCuv2"
      },
      "source": [
        ""
      ],
      "execution_count": 53,
      "outputs": []
    }
  ]
}