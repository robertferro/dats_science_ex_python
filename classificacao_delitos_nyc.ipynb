{
 "cells": [
  {
   "cell_type": "markdown",
   "metadata": {},
   "source": [
    "## Encontrando um modelo de classificacao pra definir a tipificação do delito."
   ]
  },
  {
   "cell_type": "markdown",
   "metadata": {},
   "source": [
    "## 1- Importando a base de dados"
   ]
  },
  {
   "cell_type": "code",
   "execution_count": 1,
   "metadata": {
    "id": "NpHeI-PMj_aQ"
   },
   "outputs": [],
   "source": [
    "#  Importando as bibliotecas\n",
    "\n",
    "import pandas as pd\n",
    "import seaborn as sns\n",
    "import matplotlib.pyplot as plt\n",
    "import numpy as np\n",
    "import datetime\n",
    "from datetime import date"
   ]
  },
  {
   "cell_type": "markdown",
   "metadata": {},
   "source": [
    " - Link do site onde encontra-se o dataset\n",
    " \n",
    " url:https://data.cityofnewyork.us/Public-Safety/NYPD-Arrest-Data-Year-to-Date-/uip8-fykc"
   ]
  },
  {
   "cell_type": "code",
   "execution_count": 2,
   "metadata": {},
   "outputs": [],
   "source": [
    "df=pd.read_csv('dataset.csv')"
   ]
  },
  {
   "cell_type": "code",
   "execution_count": 3,
   "metadata": {},
   "outputs": [
    {
     "data": {
      "text/html": [
       "<div>\n",
       "<style scoped>\n",
       "    .dataframe tbody tr th:only-of-type {\n",
       "        vertical-align: middle;\n",
       "    }\n",
       "\n",
       "    .dataframe tbody tr th {\n",
       "        vertical-align: top;\n",
       "    }\n",
       "\n",
       "    .dataframe thead th {\n",
       "        text-align: right;\n",
       "    }\n",
       "</style>\n",
       "<table border=\"1\" class=\"dataframe\">\n",
       "  <thead>\n",
       "    <tr style=\"text-align: right;\">\n",
       "      <th></th>\n",
       "      <th>ARREST_KEY</th>\n",
       "      <th>ARREST_DATE</th>\n",
       "      <th>PD_CD</th>\n",
       "      <th>PD_DESC</th>\n",
       "      <th>KY_CD</th>\n",
       "      <th>OFNS_DESC</th>\n",
       "      <th>LAW_CODE</th>\n",
       "      <th>LAW_CAT_CD</th>\n",
       "      <th>ARREST_BORO</th>\n",
       "      <th>ARREST_PRECINCT</th>\n",
       "      <th>JURISDICTION_CODE</th>\n",
       "      <th>AGE_GROUP</th>\n",
       "      <th>PERP_SEX</th>\n",
       "      <th>PERP_RACE</th>\n",
       "      <th>X_COORD_CD</th>\n",
       "      <th>Y_COORD_CD</th>\n",
       "      <th>Latitude</th>\n",
       "      <th>Longitude</th>\n",
       "      <th>New Georeferenced Column</th>\n",
       "    </tr>\n",
       "  </thead>\n",
       "  <tbody>\n",
       "    <tr>\n",
       "      <th>0</th>\n",
       "      <td>218375425</td>\n",
       "      <td>09/26/2020</td>\n",
       "      <td>157.0</td>\n",
       "      <td>RAPE 1</td>\n",
       "      <td>104.0</td>\n",
       "      <td>RAPE</td>\n",
       "      <td>PL 1303501</td>\n",
       "      <td>F</td>\n",
       "      <td>M</td>\n",
       "      <td>1</td>\n",
       "      <td>0</td>\n",
       "      <td>25-44</td>\n",
       "      <td>M</td>\n",
       "      <td>WHITE</td>\n",
       "      <td>982285</td>\n",
       "      <td>201682</td>\n",
       "      <td>40.720255</td>\n",
       "      <td>-74.007090</td>\n",
       "      <td>POINT (-74.00709027999993 40.72025522300004)</td>\n",
       "    </tr>\n",
       "    <tr>\n",
       "      <th>1</th>\n",
       "      <td>217319714</td>\n",
       "      <td>09/02/2020</td>\n",
       "      <td>729.0</td>\n",
       "      <td>FORGERY,ETC.,UNCLASSIFIED-FELO</td>\n",
       "      <td>113.0</td>\n",
       "      <td>FORGERY</td>\n",
       "      <td>PL 1702500</td>\n",
       "      <td>F</td>\n",
       "      <td>M</td>\n",
       "      <td>5</td>\n",
       "      <td>0</td>\n",
       "      <td>18-24</td>\n",
       "      <td>F</td>\n",
       "      <td>BLACK</td>\n",
       "      <td>983903</td>\n",
       "      <td>200257</td>\n",
       "      <td>40.716344</td>\n",
       "      <td>-74.001253</td>\n",
       "      <td>POINT (-74.00125319299997 40.71634415200003)</td>\n",
       "    </tr>\n",
       "    <tr>\n",
       "      <th>2</th>\n",
       "      <td>218282529</td>\n",
       "      <td>09/24/2020</td>\n",
       "      <td>244.0</td>\n",
       "      <td>BURGLARY,UNCLASSIFIED,UNKNOWN</td>\n",
       "      <td>107.0</td>\n",
       "      <td>BURGLARY</td>\n",
       "      <td>PL 1402000</td>\n",
       "      <td>F</td>\n",
       "      <td>M</td>\n",
       "      <td>34</td>\n",
       "      <td>0</td>\n",
       "      <td>45-64</td>\n",
       "      <td>M</td>\n",
       "      <td>BLACK</td>\n",
       "      <td>1003633</td>\n",
       "      <td>253391</td>\n",
       "      <td>40.862161</td>\n",
       "      <td>-73.929927</td>\n",
       "      <td>POINT (-73.92992712599995 40.862161439000026)</td>\n",
       "    </tr>\n",
       "    <tr>\n",
       "      <th>3</th>\n",
       "      <td>217526617</td>\n",
       "      <td>09/07/2020</td>\n",
       "      <td>792.0</td>\n",
       "      <td>WEAPONS POSSESSION 1 &amp; 2</td>\n",
       "      <td>118.0</td>\n",
       "      <td>DANGEROUS WEAPONS</td>\n",
       "      <td>PL 2650303</td>\n",
       "      <td>F</td>\n",
       "      <td>K</td>\n",
       "      <td>67</td>\n",
       "      <td>0</td>\n",
       "      <td>18-24</td>\n",
       "      <td>M</td>\n",
       "      <td>BLACK</td>\n",
       "      <td>1003029</td>\n",
       "      <td>176696</td>\n",
       "      <td>40.651655</td>\n",
       "      <td>-73.932325</td>\n",
       "      <td>POINT (-73.93232493699998 40.65165467100008)</td>\n",
       "    </tr>\n",
       "    <tr>\n",
       "      <th>4</th>\n",
       "      <td>218518385</td>\n",
       "      <td>09/29/2020</td>\n",
       "      <td>268.0</td>\n",
       "      <td>CRIMINAL MIS 2 &amp; 3</td>\n",
       "      <td>121.0</td>\n",
       "      <td>CRIMINAL MISCHIEF &amp; RELATED OF</td>\n",
       "      <td>PL 1450502</td>\n",
       "      <td>F</td>\n",
       "      <td>K</td>\n",
       "      <td>66</td>\n",
       "      <td>0</td>\n",
       "      <td>18-24</td>\n",
       "      <td>M</td>\n",
       "      <td>BLACK</td>\n",
       "      <td>988164</td>\n",
       "      <td>170927</td>\n",
       "      <td>40.635839</td>\n",
       "      <td>-73.985899</td>\n",
       "      <td>POINT (-73.98589935799998 40.635839049000026)</td>\n",
       "    </tr>\n",
       "  </tbody>\n",
       "</table>\n",
       "</div>"
      ],
      "text/plain": [
       "   ARREST_KEY ARREST_DATE  PD_CD                         PD_DESC  KY_CD  \\\n",
       "0   218375425  09/26/2020  157.0                          RAPE 1  104.0   \n",
       "1   217319714  09/02/2020  729.0  FORGERY,ETC.,UNCLASSIFIED-FELO  113.0   \n",
       "2   218282529  09/24/2020  244.0   BURGLARY,UNCLASSIFIED,UNKNOWN  107.0   \n",
       "3   217526617  09/07/2020  792.0        WEAPONS POSSESSION 1 & 2  118.0   \n",
       "4   218518385  09/29/2020  268.0              CRIMINAL MIS 2 & 3  121.0   \n",
       "\n",
       "                        OFNS_DESC    LAW_CODE LAW_CAT_CD ARREST_BORO  \\\n",
       "0                            RAPE  PL 1303501          F           M   \n",
       "1                         FORGERY  PL 1702500          F           M   \n",
       "2                        BURGLARY  PL 1402000          F           M   \n",
       "3               DANGEROUS WEAPONS  PL 2650303          F           K   \n",
       "4  CRIMINAL MISCHIEF & RELATED OF  PL 1450502          F           K   \n",
       "\n",
       "   ARREST_PRECINCT  JURISDICTION_CODE AGE_GROUP PERP_SEX PERP_RACE  \\\n",
       "0                1                  0     25-44        M     WHITE   \n",
       "1                5                  0     18-24        F     BLACK   \n",
       "2               34                  0     45-64        M     BLACK   \n",
       "3               67                  0     18-24        M     BLACK   \n",
       "4               66                  0     18-24        M     BLACK   \n",
       "\n",
       "   X_COORD_CD  Y_COORD_CD   Latitude  Longitude  \\\n",
       "0      982285      201682  40.720255 -74.007090   \n",
       "1      983903      200257  40.716344 -74.001253   \n",
       "2     1003633      253391  40.862161 -73.929927   \n",
       "3     1003029      176696  40.651655 -73.932325   \n",
       "4      988164      170927  40.635839 -73.985899   \n",
       "\n",
       "                        New Georeferenced Column  \n",
       "0   POINT (-74.00709027999993 40.72025522300004)  \n",
       "1   POINT (-74.00125319299997 40.71634415200003)  \n",
       "2  POINT (-73.92992712599995 40.862161439000026)  \n",
       "3   POINT (-73.93232493699998 40.65165467100008)  \n",
       "4  POINT (-73.98589935799998 40.635839049000026)  "
      ]
     },
     "execution_count": 3,
     "metadata": {},
     "output_type": "execute_result"
    }
   ],
   "source": [
    "# visualizando as 5 primeiras linhas do dataset\n",
    "df[0:5]"
   ]
  },
  {
   "cell_type": "markdown",
   "metadata": {},
   "source": [
    "## 2- Preparaçao dos dados\n"
   ]
  },
  {
   "cell_type": "markdown",
   "metadata": {},
   "source": [
    " - Removendo as colunas que nao serão utilizadas "
   ]
  },
  {
   "cell_type": "code",
   "execution_count": 4,
   "metadata": {},
   "outputs": [],
   "source": [
    "dados=df.drop(['ARREST_KEY', 'PD_CD', 'PD_DESC', 'KY_CD', 'LAW_CODE','ARREST_PRECINCT', 'JURISDICTION_CODE', 'X_COORD_CD', 'Y_COORD_CD','New Georeferenced Column'], axis=1)"
   ]
  },
  {
   "cell_type": "code",
   "execution_count": 5,
   "metadata": {},
   "outputs": [],
   "source": [
    "#  Renomeando as colunas\n",
    "\n",
    "dados.columns = ['data_da_ocorrencia','descricao_da_ofensa','nivel_da_ofensa','bairro'\n",
    "                     ,'idade_do_infrator','sexo_do_infrator','raca_do_infrator','latitude','longitude']"
   ]
  },
  {
   "cell_type": "code",
   "execution_count": 6,
   "metadata": {},
   "outputs": [],
   "source": [
    "# reorganizando os dados referentes a data \n",
    "\n",
    "def date_to_weekday(date):\n",
    "    weekday_dict = {0:'Monday', 1:'Tuesday', 2: 'Wednesday', 3: 'Thursday', 4: 'Friday', 5: 'Saturday', 6: 'Sunday'}\n",
    "    date_time_obj = datetime.datetime.strptime(date, '%m/%d/%Y')\n",
    "    return weekday_dict[date_time_obj.weekday()]\n",
    "\n",
    "date = dados['data_da_ocorrencia'].str.split(\"/\", n = 3, expand = True)\n",
    "dados['ano'] = date[2].astype('int32')\n",
    "dados['dia'] = date[1].astype('int32')\n",
    "dados['mes'] = date[0].astype('int32')\n",
    "dados['dia_da_semana'] = dados['data_da_ocorrencia'].apply(date_to_weekday)\n",
    "\n",
    "# alterando os dados da coluna nivel_da_ofensa\n",
    "\n",
    "new_nivel_da_ofensa = {'M': \"contravencao\", 'F': \"crime\", 'V': \"violacao\",'I':\"outro\" }\n",
    "dados['nivel_da_ofensa'] = dados['nivel_da_ofensa'].map(new_nivel_da_ofensa)\n",
    "\n",
    "# alterando os dados da coluna bairro\n",
    "\n",
    "new_bairro = {'B': 'Bronx', 'S': 'Staten_Island', 'K': 'Brooklyn', 'M': 'Manhattan' , 'Q': 'Queens' }\n",
    "dados['bairro'] = dados['bairro'].map(new_bairro)"
   ]
  },
  {
   "cell_type": "code",
   "execution_count": 7,
   "metadata": {},
   "outputs": [
    {
     "data": {
      "text/html": [
       "<div>\n",
       "<style scoped>\n",
       "    .dataframe tbody tr th:only-of-type {\n",
       "        vertical-align: middle;\n",
       "    }\n",
       "\n",
       "    .dataframe tbody tr th {\n",
       "        vertical-align: top;\n",
       "    }\n",
       "\n",
       "    .dataframe thead th {\n",
       "        text-align: right;\n",
       "    }\n",
       "</style>\n",
       "<table border=\"1\" class=\"dataframe\">\n",
       "  <thead>\n",
       "    <tr style=\"text-align: right;\">\n",
       "      <th></th>\n",
       "      <th>data_da_ocorrencia</th>\n",
       "      <th>descricao_da_ofensa</th>\n",
       "      <th>nivel_da_ofensa</th>\n",
       "      <th>bairro</th>\n",
       "      <th>idade_do_infrator</th>\n",
       "      <th>sexo_do_infrator</th>\n",
       "      <th>raca_do_infrator</th>\n",
       "      <th>latitude</th>\n",
       "      <th>longitude</th>\n",
       "      <th>ano</th>\n",
       "      <th>dia</th>\n",
       "      <th>mes</th>\n",
       "      <th>dia_da_semana</th>\n",
       "    </tr>\n",
       "  </thead>\n",
       "  <tbody>\n",
       "    <tr>\n",
       "      <th>0</th>\n",
       "      <td>09/26/2020</td>\n",
       "      <td>RAPE</td>\n",
       "      <td>crime</td>\n",
       "      <td>Manhattan</td>\n",
       "      <td>25-44</td>\n",
       "      <td>M</td>\n",
       "      <td>WHITE</td>\n",
       "      <td>40.720255</td>\n",
       "      <td>-74.007090</td>\n",
       "      <td>2020</td>\n",
       "      <td>26</td>\n",
       "      <td>9</td>\n",
       "      <td>Saturday</td>\n",
       "    </tr>\n",
       "    <tr>\n",
       "      <th>1</th>\n",
       "      <td>09/02/2020</td>\n",
       "      <td>FORGERY</td>\n",
       "      <td>crime</td>\n",
       "      <td>Manhattan</td>\n",
       "      <td>18-24</td>\n",
       "      <td>F</td>\n",
       "      <td>BLACK</td>\n",
       "      <td>40.716344</td>\n",
       "      <td>-74.001253</td>\n",
       "      <td>2020</td>\n",
       "      <td>2</td>\n",
       "      <td>9</td>\n",
       "      <td>Wednesday</td>\n",
       "    </tr>\n",
       "    <tr>\n",
       "      <th>2</th>\n",
       "      <td>09/24/2020</td>\n",
       "      <td>BURGLARY</td>\n",
       "      <td>crime</td>\n",
       "      <td>Manhattan</td>\n",
       "      <td>45-64</td>\n",
       "      <td>M</td>\n",
       "      <td>BLACK</td>\n",
       "      <td>40.862161</td>\n",
       "      <td>-73.929927</td>\n",
       "      <td>2020</td>\n",
       "      <td>24</td>\n",
       "      <td>9</td>\n",
       "      <td>Thursday</td>\n",
       "    </tr>\n",
       "    <tr>\n",
       "      <th>3</th>\n",
       "      <td>09/07/2020</td>\n",
       "      <td>DANGEROUS WEAPONS</td>\n",
       "      <td>crime</td>\n",
       "      <td>Brooklyn</td>\n",
       "      <td>18-24</td>\n",
       "      <td>M</td>\n",
       "      <td>BLACK</td>\n",
       "      <td>40.651655</td>\n",
       "      <td>-73.932325</td>\n",
       "      <td>2020</td>\n",
       "      <td>7</td>\n",
       "      <td>9</td>\n",
       "      <td>Monday</td>\n",
       "    </tr>\n",
       "    <tr>\n",
       "      <th>4</th>\n",
       "      <td>09/29/2020</td>\n",
       "      <td>CRIMINAL MISCHIEF &amp; RELATED OF</td>\n",
       "      <td>crime</td>\n",
       "      <td>Brooklyn</td>\n",
       "      <td>18-24</td>\n",
       "      <td>M</td>\n",
       "      <td>BLACK</td>\n",
       "      <td>40.635839</td>\n",
       "      <td>-73.985899</td>\n",
       "      <td>2020</td>\n",
       "      <td>29</td>\n",
       "      <td>9</td>\n",
       "      <td>Tuesday</td>\n",
       "    </tr>\n",
       "  </tbody>\n",
       "</table>\n",
       "</div>"
      ],
      "text/plain": [
       "  data_da_ocorrencia             descricao_da_ofensa nivel_da_ofensa  \\\n",
       "0         09/26/2020                            RAPE           crime   \n",
       "1         09/02/2020                         FORGERY           crime   \n",
       "2         09/24/2020                        BURGLARY           crime   \n",
       "3         09/07/2020               DANGEROUS WEAPONS           crime   \n",
       "4         09/29/2020  CRIMINAL MISCHIEF & RELATED OF           crime   \n",
       "\n",
       "      bairro idade_do_infrator sexo_do_infrator raca_do_infrator   latitude  \\\n",
       "0  Manhattan             25-44                M            WHITE  40.720255   \n",
       "1  Manhattan             18-24                F            BLACK  40.716344   \n",
       "2  Manhattan             45-64                M            BLACK  40.862161   \n",
       "3   Brooklyn             18-24                M            BLACK  40.651655   \n",
       "4   Brooklyn             18-24                M            BLACK  40.635839   \n",
       "\n",
       "   longitude   ano  dia  mes dia_da_semana  \n",
       "0 -74.007090  2020   26    9      Saturday  \n",
       "1 -74.001253  2020    2    9     Wednesday  \n",
       "2 -73.929927  2020   24    9      Thursday  \n",
       "3 -73.932325  2020    7    9        Monday  \n",
       "4 -73.985899  2020   29    9       Tuesday  "
      ]
     },
     "execution_count": 7,
     "metadata": {},
     "output_type": "execute_result"
    }
   ],
   "source": [
    "dados.head()"
   ]
  },
  {
   "cell_type": "markdown",
   "metadata": {
    "id": "2XW4lv9Ppsbl"
   },
   "source": [
    " - Convertendo a coluna \" DATA_DA_OCORRENCIA \"para formato datetime"
   ]
  },
  {
   "cell_type": "code",
   "execution_count": 8,
   "metadata": {
    "id": "pLBhQGqZpsbm"
   },
   "outputs": [],
   "source": [
    "dados[\"data_da_ocorrencia\"] = pd.to_datetime(dados[\"data_da_ocorrencia\"] )"
   ]
  },
  {
   "cell_type": "markdown",
   "metadata": {},
   "source": [
    "## 3.1 Preparação dos Dados para modelagem\n",
    "- Separação Treino/Teste\n",
    "- Separar Dados de Entrada (Atributos) e de saída (target)\n",
    "- Tratar colunas categóricas\n",
    "- Tratar dados ausentes\n"
   ]
  },
  {
   "cell_type": "markdown",
   "metadata": {},
   "source": [
    "## Criando um modelo de classificacao pra definir a faixa etária de quem praticou o delito."
   ]
  },
  {
   "cell_type": "markdown",
   "metadata": {},
   "source": [
    " - Selecionando apenas os delitos mais recorrentes"
   ]
  },
  {
   "cell_type": "code",
   "execution_count": 9,
   "metadata": {},
   "outputs": [],
   "source": [
    "# dados = dados.query('descricao_da_ofensa ==\"ASSAULT 3 & RELATED OFFENSES\" or  descricao_da_ofensa ==\"FELONY ASSAULT\" or descricao_da_ofensa ==\"PETIT LARCENY\" or descricao_da_ofensa ==\"DANGEROUS DRUGS\" or descricao_da_ofensa ==\"MISCELLANEOUS PENAL LAW\" or descricao_da_ofensa ==\"ROBBERY\" or descricao_da_ofensa ==\"CRIMINAL MISCHIEF & RELATED OF\" or descricao_da_ofensa ==\"BURGLARY\" or  descricao_da_ofensa ==\"GRAND LARCENY\" or descricao_da_ofensa ==\"DANGEROUS WEAPONS\" or  descricao_da_ofensa ==\"OFFENSES AGAINST PUBLIC ADMINI\" or descricao_da_ofensa ==\"VEHICLE AND TRAFFIC LAWS\" or  descricao_da_ofensa ==\"OFF. AGNST PUB ORD SENSBLTY &\" or descricao_da_ofensa ==\"SEX CRIMES\" or descricao_da_ofensa ==\"INTOXICATED & IMPAIRED DRIVING\"  ')"
   ]
  },
  {
   "cell_type": "markdown",
   "metadata": {},
   "source": [
    " - Verificando a exitência de dados ausentes>"
   ]
  },
  {
   "cell_type": "code",
   "execution_count": 10,
   "metadata": {},
   "outputs": [
    {
     "data": {
      "text/plain": [
       "data_da_ocorrencia       0\n",
       "descricao_da_ofensa     24\n",
       "nivel_da_ofensa        970\n",
       "bairro                   0\n",
       "idade_do_infrator        0\n",
       "sexo_do_infrator         0\n",
       "raca_do_infrator         0\n",
       "latitude                 0\n",
       "longitude                0\n",
       "ano                      0\n",
       "dia                      0\n",
       "mes                      0\n",
       "dia_da_semana            0\n",
       "dtype: int64"
      ]
     },
     "execution_count": 10,
     "metadata": {},
     "output_type": "execute_result"
    }
   ],
   "source": [
    "dados.isna().sum()"
   ]
  },
  {
   "cell_type": "code",
   "execution_count": 11,
   "metadata": {},
   "outputs": [],
   "source": [
    "dados = dados.dropna()"
   ]
  },
  {
   "cell_type": "code",
   "execution_count": 12,
   "metadata": {},
   "outputs": [
    {
     "name": "stdout",
     "output_type": "stream",
     "text": [
      "<class 'pandas.core.frame.DataFrame'>\n",
      "Int64Index: 102382 entries, 0 to 103375\n",
      "Data columns (total 13 columns):\n",
      " #   Column               Non-Null Count   Dtype         \n",
      "---  ------               --------------   -----         \n",
      " 0   data_da_ocorrencia   102382 non-null  datetime64[ns]\n",
      " 1   descricao_da_ofensa  102382 non-null  object        \n",
      " 2   nivel_da_ofensa      102382 non-null  object        \n",
      " 3   bairro               102382 non-null  object        \n",
      " 4   idade_do_infrator    102382 non-null  object        \n",
      " 5   sexo_do_infrator     102382 non-null  object        \n",
      " 6   raca_do_infrator     102382 non-null  object        \n",
      " 7   latitude             102382 non-null  float64       \n",
      " 8   longitude            102382 non-null  float64       \n",
      " 9   ano                  102382 non-null  int32         \n",
      " 10  dia                  102382 non-null  int32         \n",
      " 11  mes                  102382 non-null  int32         \n",
      " 12  dia_da_semana        102382 non-null  object        \n",
      "dtypes: datetime64[ns](1), float64(2), int32(3), object(7)\n",
      "memory usage: 9.8+ MB\n"
     ]
    }
   ],
   "source": [
    "dados.info()"
   ]
  },
  {
   "cell_type": "markdown",
   "metadata": {},
   "source": [
    " - Excluindo colunas que não serão utilizadas.\n",
    " \n",
    " Como todos os delitos são referentes ao ano de 2020 , iremos excluir apenas essa coluna."
   ]
  },
  {
   "cell_type": "code",
   "execution_count": 13,
   "metadata": {},
   "outputs": [],
   "source": [
    "dados = dados.drop(columns=['ano'])"
   ]
  },
  {
   "cell_type": "markdown",
   "metadata": {},
   "source": [
    " - Convertendo variáveis categóricas em variáveis numéricas"
   ]
  },
  {
   "cell_type": "code",
   "execution_count": 14,
   "metadata": {},
   "outputs": [],
   "source": [
    "from sklearn.preprocessing import LabelEncoder"
   ]
  },
  {
   "cell_type": "code",
   "execution_count": 15,
   "metadata": {},
   "outputs": [],
   "source": [
    "enconder = LabelEncoder()"
   ]
  },
  {
   "cell_type": "code",
   "execution_count": 16,
   "metadata": {},
   "outputs": [],
   "source": [
    "dados['data_da_ocorrencia'] = enconder.fit_transform(dados['data_da_ocorrencia'])\n",
    "dados['nivel_da_ofensa'] = enconder.fit_transform(dados['nivel_da_ofensa'])\n",
    "dados['idade_do_infrator'] = enconder.fit_transform(dados['idade_do_infrator'])\n",
    "dados['descricao_da_ofensa'] = enconder.fit_transform(dados['descricao_da_ofensa'])\n",
    "dados['bairro'] = enconder.fit_transform(dados['bairro'])\n",
    "dados['sexo_do_infrator'] = enconder.fit_transform(dados['sexo_do_infrator'])\n",
    "dados['raca_do_infrator'] = enconder.fit_transform(dados['raca_do_infrator'])\n",
    "dados['mes'] = enconder.fit_transform(dados['mes'])\n",
    "dados['dia'] = enconder.fit_transform(dados['dia'])\n",
    "dados['dia_da_semana'] = enconder.fit_transform(dados['dia_da_semana'])\n",
    "dados['latitude'] = enconder.fit_transform(dados['latitude'])\n",
    "dados['longitude'] = enconder.fit_transform(dados['longitude'])"
   ]
  },
  {
   "cell_type": "code",
   "execution_count": 17,
   "metadata": {},
   "outputs": [
    {
     "data": {
      "text/html": [
       "<div>\n",
       "<style scoped>\n",
       "    .dataframe tbody tr th:only-of-type {\n",
       "        vertical-align: middle;\n",
       "    }\n",
       "\n",
       "    .dataframe tbody tr th {\n",
       "        vertical-align: top;\n",
       "    }\n",
       "\n",
       "    .dataframe thead th {\n",
       "        text-align: right;\n",
       "    }\n",
       "</style>\n",
       "<table border=\"1\" class=\"dataframe\">\n",
       "  <thead>\n",
       "    <tr style=\"text-align: right;\">\n",
       "      <th></th>\n",
       "      <th>data_da_ocorrencia</th>\n",
       "      <th>descricao_da_ofensa</th>\n",
       "      <th>nivel_da_ofensa</th>\n",
       "      <th>bairro</th>\n",
       "      <th>idade_do_infrator</th>\n",
       "      <th>sexo_do_infrator</th>\n",
       "      <th>raca_do_infrator</th>\n",
       "      <th>latitude</th>\n",
       "      <th>longitude</th>\n",
       "      <th>dia</th>\n",
       "      <th>mes</th>\n",
       "      <th>dia_da_semana</th>\n",
       "    </tr>\n",
       "  </thead>\n",
       "  <tbody>\n",
       "    <tr>\n",
       "      <th>0</th>\n",
       "      <td>269</td>\n",
       "      <td>51</td>\n",
       "      <td>1</td>\n",
       "      <td>2</td>\n",
       "      <td>1</td>\n",
       "      <td>1</td>\n",
       "      <td>5</td>\n",
       "      <td>13731</td>\n",
       "      <td>2311</td>\n",
       "      <td>25</td>\n",
       "      <td>8</td>\n",
       "      <td>2</td>\n",
       "    </tr>\n",
       "    <tr>\n",
       "      <th>1</th>\n",
       "      <td>245</td>\n",
       "      <td>17</td>\n",
       "      <td>1</td>\n",
       "      <td>2</td>\n",
       "      <td>0</td>\n",
       "      <td>0</td>\n",
       "      <td>2</td>\n",
       "      <td>13353</td>\n",
       "      <td>2877</td>\n",
       "      <td>1</td>\n",
       "      <td>8</td>\n",
       "      <td>6</td>\n",
       "    </tr>\n",
       "    <tr>\n",
       "      <th>2</th>\n",
       "      <td>267</td>\n",
       "      <td>7</td>\n",
       "      <td>1</td>\n",
       "      <td>2</td>\n",
       "      <td>2</td>\n",
       "      <td>1</td>\n",
       "      <td>2</td>\n",
       "      <td>24491</td>\n",
       "      <td>11496</td>\n",
       "      <td>23</td>\n",
       "      <td>8</td>\n",
       "      <td>4</td>\n",
       "    </tr>\n",
       "    <tr>\n",
       "      <th>3</th>\n",
       "      <td>250</td>\n",
       "      <td>12</td>\n",
       "      <td>1</td>\n",
       "      <td>1</td>\n",
       "      <td>0</td>\n",
       "      <td>1</td>\n",
       "      <td>2</td>\n",
       "      <td>5409</td>\n",
       "      <td>11220</td>\n",
       "      <td>6</td>\n",
       "      <td>8</td>\n",
       "      <td>1</td>\n",
       "    </tr>\n",
       "    <tr>\n",
       "      <th>4</th>\n",
       "      <td>272</td>\n",
       "      <td>9</td>\n",
       "      <td>1</td>\n",
       "      <td>1</td>\n",
       "      <td>0</td>\n",
       "      <td>1</td>\n",
       "      <td>2</td>\n",
       "      <td>3926</td>\n",
       "      <td>4688</td>\n",
       "      <td>28</td>\n",
       "      <td>8</td>\n",
       "      <td>5</td>\n",
       "    </tr>\n",
       "  </tbody>\n",
       "</table>\n",
       "</div>"
      ],
      "text/plain": [
       "   data_da_ocorrencia  descricao_da_ofensa  nivel_da_ofensa  bairro  \\\n",
       "0                 269                   51                1       2   \n",
       "1                 245                   17                1       2   \n",
       "2                 267                    7                1       2   \n",
       "3                 250                   12                1       1   \n",
       "4                 272                    9                1       1   \n",
       "\n",
       "   idade_do_infrator  sexo_do_infrator  raca_do_infrator  latitude  longitude  \\\n",
       "0                  1                 1                 5     13731       2311   \n",
       "1                  0                 0                 2     13353       2877   \n",
       "2                  2                 1                 2     24491      11496   \n",
       "3                  0                 1                 2      5409      11220   \n",
       "4                  0                 1                 2      3926       4688   \n",
       "\n",
       "   dia  mes  dia_da_semana  \n",
       "0   25    8              2  \n",
       "1    1    8              6  \n",
       "2   23    8              4  \n",
       "3    6    8              1  \n",
       "4   28    8              5  "
      ]
     },
     "execution_count": 17,
     "metadata": {},
     "output_type": "execute_result"
    }
   ],
   "source": [
    "dados.head()"
   ]
  },
  {
   "cell_type": "markdown",
   "metadata": {},
   "source": [
    "Separando as variaveis em X e Y"
   ]
  },
  {
   "cell_type": "code",
   "execution_count": 19,
   "metadata": {},
   "outputs": [],
   "source": [
    "X = dados.drop('sexo_do_infrator',axis=1).values\n",
    "Y = dados['sexo_do_infrator'].values"
   ]
  },
  {
   "cell_type": "markdown",
   "metadata": {},
   "source": [
    "\n",
    "Separando em amostras de treino e teste e reescalando os dados"
   ]
  },
  {
   "cell_type": "code",
   "execution_count": 20,
   "metadata": {},
   "outputs": [],
   "source": [
    "from sklearn.model_selection import train_test_split"
   ]
  },
  {
   "cell_type": "code",
   "execution_count": 21,
   "metadata": {},
   "outputs": [],
   "source": [
    "X_treino,X_teste,Y_treino,Y_teste = train_test_split(X,Y,test_size=0.25,random_state=0)"
   ]
  },
  {
   "cell_type": "code",
   "execution_count": 23,
   "metadata": {},
   "outputs": [
    {
     "name": "stdout",
     "output_type": "stream",
     "text": [
      "A acurácia do dummy stratified foi 71.97%\n"
     ]
    }
   ],
   "source": [
    "# pegando DummyClassifier como baseline \n",
    "\n",
    "from sklearn.dummy import DummyClassifier\n",
    "\n",
    "dummy_stratified = DummyClassifier(strategy=\"stratified\")\n",
    "dummy_stratified.fit(X_treino, Y_treino)\n",
    "acuracia = dummy_stratified.score(X_teste, Y_teste) * 100\n",
    "\n",
    "print('A acurácia do dummy stratified foi %.2f%%' % acuracia)"
   ]
  },
  {
   "cell_type": "code",
   "execution_count": 25,
   "metadata": {},
   "outputs": [
    {
     "name": "stdout",
     "output_type": "stream",
     "text": [
      "A acurácia do dummy mostfrequent foi 83.18%\n"
     ]
    }
   ],
   "source": [
    "# pegando DummyClassifier como baseline \n",
    "\n",
    "from sklearn.dummy import DummyClassifier\n",
    "\n",
    "dummy_stratified = DummyClassifier(strategy=\"most_frequent\")\n",
    "dummy_stratified.fit(X_treino, Y_treino)\n",
    "acuracia = dummy_stratified.score(X_teste, Y_teste) * 100\n",
    "\n",
    "print('A acurácia do dummy mostfrequent foi %.2f%%' % acuracia)"
   ]
  },
  {
   "cell_type": "code",
   "execution_count": null,
   "metadata": {},
   "outputs": [],
   "source": []
  },
  {
   "cell_type": "markdown",
   "metadata": {},
   "source": [
    " - Reescalando os dados e aplicando um modelo"
   ]
  },
  {
   "cell_type": "code",
   "execution_count": null,
   "metadata": {},
   "outputs": [
    {
     "name": "stdout",
     "output_type": "stream",
     "text": [
      "Treinaremos com 76786 elementos e testaremos com 25596 elementos\n"
     ]
    }
   ],
   "source": [
    "from sklearn.preprocessing import StandardScaler\n",
    "from sklearn.model_selection import train_test_split\n",
    "from sklearn.svm import SVC\n",
    "\n",
    "\n",
    "SEED = 5\n",
    "np.random.seed(SEED)\n",
    "raw_x_treino, raw_x_teste, y_treino, y_teste = train_test_split(X, Y, test_size = 0.25,\n",
    "                                                         stratify = Y)\n",
    "\n",
    "print(\"Treinaremos com %d elementos e testaremos com %d elementos\" % (len(X_treino), len(X_teste)))\n",
    "\n",
    "scaler = StandardScaler()\n",
    "scaler.fit(raw_x_treino)\n",
    "x_treino = scaler.transform(raw_x_treino)\n",
    "x_teste = scaler.transform(raw_x_teste)\n",
    "\n",
    "modelo = SVC()\n",
    "modelo.fit(x_treino, y_treino)\n",
    "previsoes = modelo.predict(x_teste)\n",
    "acuracia = accuracy_score(y_teste, previsoes) * 100\n",
    "print(\"A acurácia foi %.2f%%\" % acuracia)"
   ]
  },
  {
   "cell_type": "code",
   "execution_count": null,
   "metadata": {},
   "outputs": [],
   "source": []
  }
 ],
 "metadata": {
  "colab": {
   "collapsed_sections": [],
   "name": "Crimes.ipynb",
   "provenance": []
  },
  "kernelspec": {
   "display_name": "Python 3",
   "language": "python",
   "name": "python3"
  },
  "language_info": {
   "codemirror_mode": {
    "name": "ipython",
    "version": 3
   },
   "file_extension": ".py",
   "mimetype": "text/x-python",
   "name": "python",
   "nbconvert_exporter": "python",
   "pygments_lexer": "ipython3",
   "version": "3.8.3"
  }
 },
 "nbformat": 4,
 "nbformat_minor": 1
}
