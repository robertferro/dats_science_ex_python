{
 "cells": [
  {
   "cell_type": "markdown",
   "metadata": {
    "id": "qqneraKH9u_W"
   },
   "source": [
    "## 1- Importando a base de dados"
   ]
  },
  {
   "cell_type": "code",
   "execution_count": 1,
   "metadata": {
    "id": "NpHeI-PMj_aQ"
   },
   "outputs": [],
   "source": [
    "#  Importando as bibliotecas\n",
    "\n",
    "import pandas as pd\n",
    "import seaborn as sns\n",
    "import matplotlib.pyplot as plt\n",
    "import numpy as np\n",
    "import datetime\n",
    "from datetime import date"
   ]
  },
  {
   "cell_type": "markdown",
   "metadata": {
    "id": "fbZXIKzJ9u_b"
   },
   "source": [
    " - Link do site onde encontra-se o dataset\n",
    " \n",
    " url:https://data.cityofnewyork.us/Public-Safety/NYPD-Arrest-Data-Year-to-Date-/uip8-fykc"
   ]
  },
  {
   "cell_type": "code",
   "execution_count": 2,
   "metadata": {
    "id": "G9jiIfm89u_b"
   },
   "outputs": [],
   "source": [
    "df=pd.read_csv('dataset.csv')"
   ]
  },
  {
   "cell_type": "code",
   "execution_count": 3,
   "metadata": {
    "colab": {
     "base_uri": "https://localhost:8080/",
     "height": 411
    },
    "id": "A_Ba8lJw9u_c",
    "outputId": "85a5c59d-c770-4ebf-aaee-3baa71a58afd"
   },
   "outputs": [
    {
     "data": {
      "text/html": [
       "<div>\n",
       "<style scoped>\n",
       "    .dataframe tbody tr th:only-of-type {\n",
       "        vertical-align: middle;\n",
       "    }\n",
       "\n",
       "    .dataframe tbody tr th {\n",
       "        vertical-align: top;\n",
       "    }\n",
       "\n",
       "    .dataframe thead th {\n",
       "        text-align: right;\n",
       "    }\n",
       "</style>\n",
       "<table border=\"1\" class=\"dataframe\">\n",
       "  <thead>\n",
       "    <tr style=\"text-align: right;\">\n",
       "      <th></th>\n",
       "      <th>ARREST_KEY</th>\n",
       "      <th>ARREST_DATE</th>\n",
       "      <th>PD_CD</th>\n",
       "      <th>PD_DESC</th>\n",
       "      <th>KY_CD</th>\n",
       "      <th>OFNS_DESC</th>\n",
       "      <th>LAW_CODE</th>\n",
       "      <th>LAW_CAT_CD</th>\n",
       "      <th>ARREST_BORO</th>\n",
       "      <th>ARREST_PRECINCT</th>\n",
       "      <th>JURISDICTION_CODE</th>\n",
       "      <th>AGE_GROUP</th>\n",
       "      <th>PERP_SEX</th>\n",
       "      <th>PERP_RACE</th>\n",
       "      <th>X_COORD_CD</th>\n",
       "      <th>Y_COORD_CD</th>\n",
       "      <th>Latitude</th>\n",
       "      <th>Longitude</th>\n",
       "      <th>New Georeferenced Column</th>\n",
       "    </tr>\n",
       "  </thead>\n",
       "  <tbody>\n",
       "    <tr>\n",
       "      <th>0</th>\n",
       "      <td>222243929</td>\n",
       "      <td>12/25/2020</td>\n",
       "      <td>105.0</td>\n",
       "      <td>STRANGULATION 1ST</td>\n",
       "      <td>106.0</td>\n",
       "      <td>FELONY ASSAULT</td>\n",
       "      <td>PL 1211200</td>\n",
       "      <td>F</td>\n",
       "      <td>B</td>\n",
       "      <td>40</td>\n",
       "      <td>0</td>\n",
       "      <td>25-44</td>\n",
       "      <td>M</td>\n",
       "      <td>BLACK</td>\n",
       "      <td>1007453</td>\n",
       "      <td>233952</td>\n",
       "      <td>40.808798</td>\n",
       "      <td>-73.916184</td>\n",
       "      <td>POINT (-73.91618413199996 40.80879780500004)</td>\n",
       "    </tr>\n",
       "    <tr>\n",
       "      <th>1</th>\n",
       "      <td>222115778</td>\n",
       "      <td>12/22/2020</td>\n",
       "      <td>397.0</td>\n",
       "      <td>ROBBERY,OPEN AREA UNCLASSIFIED</td>\n",
       "      <td>105.0</td>\n",
       "      <td>ROBBERY</td>\n",
       "      <td>PL 1601001</td>\n",
       "      <td>F</td>\n",
       "      <td>M</td>\n",
       "      <td>33</td>\n",
       "      <td>0</td>\n",
       "      <td>18-24</td>\n",
       "      <td>M</td>\n",
       "      <td>BLACK HISPANIC</td>\n",
       "      <td>1001456</td>\n",
       "      <td>247485</td>\n",
       "      <td>40.845956</td>\n",
       "      <td>-73.937813</td>\n",
       "      <td>POINT (-73.93781267199995 40.84595574000008)</td>\n",
       "    </tr>\n",
       "    <tr>\n",
       "      <th>2</th>\n",
       "      <td>222090516</td>\n",
       "      <td>12/21/2020</td>\n",
       "      <td>105.0</td>\n",
       "      <td>STRANGULATION 1ST</td>\n",
       "      <td>106.0</td>\n",
       "      <td>FELONY ASSAULT</td>\n",
       "      <td>PL 1211200</td>\n",
       "      <td>F</td>\n",
       "      <td>Q</td>\n",
       "      <td>106</td>\n",
       "      <td>0</td>\n",
       "      <td>25-44</td>\n",
       "      <td>M</td>\n",
       "      <td>BLACK</td>\n",
       "      <td>1028605</td>\n",
       "      <td>187930</td>\n",
       "      <td>40.682398</td>\n",
       "      <td>-73.840079</td>\n",
       "      <td>POINT (-73.84007936899997 40.68239828900005)</td>\n",
       "    </tr>\n",
       "    <tr>\n",
       "      <th>3</th>\n",
       "      <td>221653577</td>\n",
       "      <td>12/10/2020</td>\n",
       "      <td>105.0</td>\n",
       "      <td>STRANGULATION 1ST</td>\n",
       "      <td>106.0</td>\n",
       "      <td>FELONY ASSAULT</td>\n",
       "      <td>PL 1211200</td>\n",
       "      <td>F</td>\n",
       "      <td>Q</td>\n",
       "      <td>103</td>\n",
       "      <td>0</td>\n",
       "      <td>18-24</td>\n",
       "      <td>M</td>\n",
       "      <td>BLACK</td>\n",
       "      <td>1039602</td>\n",
       "      <td>190480</td>\n",
       "      <td>40.689336</td>\n",
       "      <td>-73.800409</td>\n",
       "      <td>POINT (-73.80040882999998 40.68933550400004)</td>\n",
       "    </tr>\n",
       "    <tr>\n",
       "      <th>4</th>\n",
       "      <td>221599602</td>\n",
       "      <td>12/09/2020</td>\n",
       "      <td>729.0</td>\n",
       "      <td>FORGERY,ETC.,UNCLASSIFIED-FELO</td>\n",
       "      <td>113.0</td>\n",
       "      <td>FORGERY</td>\n",
       "      <td>PL 1702500</td>\n",
       "      <td>F</td>\n",
       "      <td>S</td>\n",
       "      <td>120</td>\n",
       "      <td>0</td>\n",
       "      <td>18-24</td>\n",
       "      <td>M</td>\n",
       "      <td>BLACK</td>\n",
       "      <td>949767</td>\n",
       "      <td>170539</td>\n",
       "      <td>40.634708</td>\n",
       "      <td>-74.124241</td>\n",
       "      <td>POINT (-74.12424111699994 40.634707811000055)</td>\n",
       "    </tr>\n",
       "  </tbody>\n",
       "</table>\n",
       "</div>"
      ],
      "text/plain": [
       "   ARREST_KEY ARREST_DATE  PD_CD                         PD_DESC  KY_CD  \\\n",
       "0   222243929  12/25/2020  105.0               STRANGULATION 1ST  106.0   \n",
       "1   222115778  12/22/2020  397.0  ROBBERY,OPEN AREA UNCLASSIFIED  105.0   \n",
       "2   222090516  12/21/2020  105.0               STRANGULATION 1ST  106.0   \n",
       "3   221653577  12/10/2020  105.0               STRANGULATION 1ST  106.0   \n",
       "4   221599602  12/09/2020  729.0  FORGERY,ETC.,UNCLASSIFIED-FELO  113.0   \n",
       "\n",
       "        OFNS_DESC    LAW_CODE LAW_CAT_CD ARREST_BORO  ARREST_PRECINCT  \\\n",
       "0  FELONY ASSAULT  PL 1211200          F           B               40   \n",
       "1         ROBBERY  PL 1601001          F           M               33   \n",
       "2  FELONY ASSAULT  PL 1211200          F           Q              106   \n",
       "3  FELONY ASSAULT  PL 1211200          F           Q              103   \n",
       "4         FORGERY  PL 1702500          F           S              120   \n",
       "\n",
       "   JURISDICTION_CODE AGE_GROUP PERP_SEX       PERP_RACE  X_COORD_CD  \\\n",
       "0                  0     25-44        M           BLACK     1007453   \n",
       "1                  0     18-24        M  BLACK HISPANIC     1001456   \n",
       "2                  0     25-44        M           BLACK     1028605   \n",
       "3                  0     18-24        M           BLACK     1039602   \n",
       "4                  0     18-24        M           BLACK      949767   \n",
       "\n",
       "   Y_COORD_CD   Latitude  Longitude  \\\n",
       "0      233952  40.808798 -73.916184   \n",
       "1      247485  40.845956 -73.937813   \n",
       "2      187930  40.682398 -73.840079   \n",
       "3      190480  40.689336 -73.800409   \n",
       "4      170539  40.634708 -74.124241   \n",
       "\n",
       "                        New Georeferenced Column  \n",
       "0   POINT (-73.91618413199996 40.80879780500004)  \n",
       "1   POINT (-73.93781267199995 40.84595574000008)  \n",
       "2   POINT (-73.84007936899997 40.68239828900005)  \n",
       "3   POINT (-73.80040882999998 40.68933550400004)  \n",
       "4  POINT (-74.12424111699994 40.634707811000055)  "
      ]
     },
     "execution_count": 3,
     "metadata": {},
     "output_type": "execute_result"
    }
   ],
   "source": [
    "# visualizando as 5 primeiras linhas do dataset\n",
    "df[0:5]"
   ]
  },
  {
   "cell_type": "markdown",
   "metadata": {
    "id": "csf1VbDi9u_d"
   },
   "source": [
    "## 2- Preparaçao dos dados\n"
   ]
  },
  {
   "cell_type": "markdown",
   "metadata": {
    "id": "yquLyviU9u_e"
   },
   "source": [
    " - Removendo as colunas que nao serão utilizadas "
   ]
  },
  {
   "cell_type": "code",
   "execution_count": 4,
   "metadata": {
    "id": "bfvFQw1E9u_e"
   },
   "outputs": [],
   "source": [
    "dados=df.drop(['ARREST_KEY', 'PD_CD', 'PD_DESC', 'KY_CD', 'LAW_CODE','ARREST_PRECINCT', 'JURISDICTION_CODE', 'X_COORD_CD', 'Y_COORD_CD','New Georeferenced Column'], axis=1)"
   ]
  },
  {
   "cell_type": "code",
   "execution_count": 5,
   "metadata": {
    "id": "IPxBpUfN9u_f"
   },
   "outputs": [],
   "source": [
    "#  Renomeando as colunas\n",
    "\n",
    "dados.columns = ['data_da_ocorrencia','descricao_da_ofensa','nivel_da_ofensa','bairro'\n",
    "                     ,'idade_do_infrator','sexo_do_infrator','raca_do_infrator','latitude','longitude']"
   ]
  },
  {
   "cell_type": "code",
   "execution_count": 6,
   "metadata": {
    "id": "UQZfu6VQ9u_f"
   },
   "outputs": [],
   "source": [
    "# reorganizando os dados referentes a data \n",
    "\n",
    "def date_to_weekday(date):\n",
    "    weekday_dict = {0:'Monday', 1:'Tuesday', 2: 'Wednesday', 3: 'Thursday', 4: 'Friday', 5: 'Saturday', 6: 'Sunday'}\n",
    "    date_time_obj = datetime.datetime.strptime(date, '%m/%d/%Y')\n",
    "    return weekday_dict[date_time_obj.weekday()]\n",
    "\n",
    "date = dados['data_da_ocorrencia'].str.split(\"/\", n = 3, expand = True)\n",
    "dados['ano'] = date[2].astype('int32')\n",
    "dados['dia'] = date[1].astype('int32')\n",
    "dados['mes'] = date[0].astype('int32')\n",
    "dados['dia_da_semana'] = dados['data_da_ocorrencia'].apply(date_to_weekday)\n",
    "\n",
    "# alterando os dados da coluna nivel_da_ofensa\n",
    "\n",
    "new_nivel_da_ofensa = {'M': \"contravencao\", 'F': \"crime\", 'V': \"violacao\",'I':\"outro\" }\n",
    "dados['nivel_da_ofensa'] = dados['nivel_da_ofensa'].map(new_nivel_da_ofensa)\n",
    "\n",
    "# alterando os dados da coluna bairro\n",
    "\n",
    "new_bairro = {'B': 'Bronx', 'S': 'Staten_Island', 'K': 'Brooklyn', 'M': 'Manhattan' , 'Q': 'Queens' }\n",
    "dados['bairro'] = dados['bairro'].map(new_bairro)"
   ]
  },
  {
   "cell_type": "code",
   "execution_count": 7,
   "metadata": {
    "colab": {
     "base_uri": "https://localhost:8080/",
     "height": 204
    },
    "id": "JcUPu4ZH9u_g",
    "outputId": "cb626438-4634-4339-e157-a33e64bdf2c4"
   },
   "outputs": [
    {
     "data": {
      "text/html": [
       "<div>\n",
       "<style scoped>\n",
       "    .dataframe tbody tr th:only-of-type {\n",
       "        vertical-align: middle;\n",
       "    }\n",
       "\n",
       "    .dataframe tbody tr th {\n",
       "        vertical-align: top;\n",
       "    }\n",
       "\n",
       "    .dataframe thead th {\n",
       "        text-align: right;\n",
       "    }\n",
       "</style>\n",
       "<table border=\"1\" class=\"dataframe\">\n",
       "  <thead>\n",
       "    <tr style=\"text-align: right;\">\n",
       "      <th></th>\n",
       "      <th>data_da_ocorrencia</th>\n",
       "      <th>descricao_da_ofensa</th>\n",
       "      <th>nivel_da_ofensa</th>\n",
       "      <th>bairro</th>\n",
       "      <th>idade_do_infrator</th>\n",
       "      <th>sexo_do_infrator</th>\n",
       "      <th>raca_do_infrator</th>\n",
       "      <th>latitude</th>\n",
       "      <th>longitude</th>\n",
       "      <th>ano</th>\n",
       "      <th>dia</th>\n",
       "      <th>mes</th>\n",
       "      <th>dia_da_semana</th>\n",
       "    </tr>\n",
       "  </thead>\n",
       "  <tbody>\n",
       "    <tr>\n",
       "      <th>0</th>\n",
       "      <td>12/25/2020</td>\n",
       "      <td>FELONY ASSAULT</td>\n",
       "      <td>crime</td>\n",
       "      <td>Bronx</td>\n",
       "      <td>25-44</td>\n",
       "      <td>M</td>\n",
       "      <td>BLACK</td>\n",
       "      <td>40.808798</td>\n",
       "      <td>-73.916184</td>\n",
       "      <td>2020</td>\n",
       "      <td>25</td>\n",
       "      <td>12</td>\n",
       "      <td>Friday</td>\n",
       "    </tr>\n",
       "    <tr>\n",
       "      <th>1</th>\n",
       "      <td>12/22/2020</td>\n",
       "      <td>ROBBERY</td>\n",
       "      <td>crime</td>\n",
       "      <td>Manhattan</td>\n",
       "      <td>18-24</td>\n",
       "      <td>M</td>\n",
       "      <td>BLACK HISPANIC</td>\n",
       "      <td>40.845956</td>\n",
       "      <td>-73.937813</td>\n",
       "      <td>2020</td>\n",
       "      <td>22</td>\n",
       "      <td>12</td>\n",
       "      <td>Tuesday</td>\n",
       "    </tr>\n",
       "    <tr>\n",
       "      <th>2</th>\n",
       "      <td>12/21/2020</td>\n",
       "      <td>FELONY ASSAULT</td>\n",
       "      <td>crime</td>\n",
       "      <td>Queens</td>\n",
       "      <td>25-44</td>\n",
       "      <td>M</td>\n",
       "      <td>BLACK</td>\n",
       "      <td>40.682398</td>\n",
       "      <td>-73.840079</td>\n",
       "      <td>2020</td>\n",
       "      <td>21</td>\n",
       "      <td>12</td>\n",
       "      <td>Monday</td>\n",
       "    </tr>\n",
       "    <tr>\n",
       "      <th>3</th>\n",
       "      <td>12/10/2020</td>\n",
       "      <td>FELONY ASSAULT</td>\n",
       "      <td>crime</td>\n",
       "      <td>Queens</td>\n",
       "      <td>18-24</td>\n",
       "      <td>M</td>\n",
       "      <td>BLACK</td>\n",
       "      <td>40.689336</td>\n",
       "      <td>-73.800409</td>\n",
       "      <td>2020</td>\n",
       "      <td>10</td>\n",
       "      <td>12</td>\n",
       "      <td>Thursday</td>\n",
       "    </tr>\n",
       "    <tr>\n",
       "      <th>4</th>\n",
       "      <td>12/09/2020</td>\n",
       "      <td>FORGERY</td>\n",
       "      <td>crime</td>\n",
       "      <td>Staten_Island</td>\n",
       "      <td>18-24</td>\n",
       "      <td>M</td>\n",
       "      <td>BLACK</td>\n",
       "      <td>40.634708</td>\n",
       "      <td>-74.124241</td>\n",
       "      <td>2020</td>\n",
       "      <td>9</td>\n",
       "      <td>12</td>\n",
       "      <td>Wednesday</td>\n",
       "    </tr>\n",
       "  </tbody>\n",
       "</table>\n",
       "</div>"
      ],
      "text/plain": [
       "  data_da_ocorrencia descricao_da_ofensa nivel_da_ofensa         bairro  \\\n",
       "0         12/25/2020      FELONY ASSAULT           crime          Bronx   \n",
       "1         12/22/2020             ROBBERY           crime      Manhattan   \n",
       "2         12/21/2020      FELONY ASSAULT           crime         Queens   \n",
       "3         12/10/2020      FELONY ASSAULT           crime         Queens   \n",
       "4         12/09/2020             FORGERY           crime  Staten_Island   \n",
       "\n",
       "  idade_do_infrator sexo_do_infrator raca_do_infrator   latitude  longitude  \\\n",
       "0             25-44                M            BLACK  40.808798 -73.916184   \n",
       "1             18-24                M   BLACK HISPANIC  40.845956 -73.937813   \n",
       "2             25-44                M            BLACK  40.682398 -73.840079   \n",
       "3             18-24                M            BLACK  40.689336 -73.800409   \n",
       "4             18-24                M            BLACK  40.634708 -74.124241   \n",
       "\n",
       "    ano  dia  mes dia_da_semana  \n",
       "0  2020   25   12        Friday  \n",
       "1  2020   22   12       Tuesday  \n",
       "2  2020   21   12        Monday  \n",
       "3  2020   10   12      Thursday  \n",
       "4  2020    9   12     Wednesday  "
      ]
     },
     "execution_count": 7,
     "metadata": {},
     "output_type": "execute_result"
    }
   ],
   "source": [
    "dados.head()"
   ]
  },
  {
   "cell_type": "markdown",
   "metadata": {
    "id": "2XW4lv9Ppsbl"
   },
   "source": [
    " - Convertendo a coluna \" DATA_DA_OCORRENCIA \"para formato datetime"
   ]
  },
  {
   "cell_type": "code",
   "execution_count": 8,
   "metadata": {
    "id": "pLBhQGqZpsbm"
   },
   "outputs": [],
   "source": [
    "dados[\"data_da_ocorrencia\"] = pd.to_datetime(dados[\"data_da_ocorrencia\"] )"
   ]
  },
  {
   "cell_type": "markdown",
   "metadata": {
    "id": "Q6EA9KgS9u_h"
   },
   "source": [
    "## 3.1 Preparação dos Dados para modelagem\n",
    "- Separação Treino/Teste\n",
    "- Separar Dados de Entrada (Atributos) e de saída (target)\n",
    "- Tratar colunas categóricas\n",
    "- Tratar dados ausentes\n"
   ]
  },
  {
   "cell_type": "markdown",
   "metadata": {
    "id": "RvOpz6fU9u_i"
   },
   "source": [
    "## Criando um modelo de classificacao pra definir o sexo de quem praticou o delito."
   ]
  },
  {
   "cell_type": "markdown",
   "metadata": {
    "id": "Z0L5e7QL9u_i"
   },
   "source": [
    " - Selecionando apenas os delitos mais recorrentes"
   ]
  },
  {
   "cell_type": "code",
   "execution_count": 9,
   "metadata": {
    "id": "PpPhplAj9u_j"
   },
   "outputs": [],
   "source": [
    "# dados = dados.query('descricao_da_ofensa ==\"ASSAULT 3 & RELATED OFFENSES\" or  descricao_da_ofensa ==\"FELONY ASSAULT\" or descricao_da_ofensa ==\"PETIT LARCENY\" or descricao_da_ofensa ==\"DANGEROUS DRUGS\" or descricao_da_ofensa ==\"MISCELLANEOUS PENAL LAW\" or descricao_da_ofensa ==\"ROBBERY\" or descricao_da_ofensa ==\"CRIMINAL MISCHIEF & RELATED OF\" or descricao_da_ofensa ==\"BURGLARY\" or  descricao_da_ofensa ==\"GRAND LARCENY\" or descricao_da_ofensa ==\"DANGEROUS WEAPONS\" or  descricao_da_ofensa ==\"OFFENSES AGAINST PUBLIC ADMINI\" or descricao_da_ofensa ==\"VEHICLE AND TRAFFIC LAWS\" or  descricao_da_ofensa ==\"OFF. AGNST PUB ORD SENSBLTY &\" or descricao_da_ofensa ==\"SEX CRIMES\" or descricao_da_ofensa ==\"INTOXICATED & IMPAIRED DRIVING\"  ')"
   ]
  },
  {
   "cell_type": "markdown",
   "metadata": {
    "id": "tUaPsaDA9u_j"
   },
   "source": [
    " - Verificando a exitência de dados ausentes>"
   ]
  },
  {
   "cell_type": "code",
   "execution_count": 10,
   "metadata": {
    "colab": {
     "base_uri": "https://localhost:8080/"
    },
    "id": "vQkyPTWC9u_k",
    "outputId": "746be648-82fd-4def-835c-7689001e5a9c"
   },
   "outputs": [
    {
     "data": {
      "text/plain": [
       "data_da_ocorrencia        0\n",
       "descricao_da_ofensa      37\n",
       "nivel_da_ofensa        1389\n",
       "bairro                    0\n",
       "idade_do_infrator         0\n",
       "sexo_do_infrator          0\n",
       "raca_do_infrator          0\n",
       "latitude                  0\n",
       "longitude                 0\n",
       "ano                       0\n",
       "dia                       0\n",
       "mes                       0\n",
       "dia_da_semana             0\n",
       "dtype: int64"
      ]
     },
     "execution_count": 10,
     "metadata": {},
     "output_type": "execute_result"
    }
   ],
   "source": [
    "dados.isna().sum()"
   ]
  },
  {
   "cell_type": "code",
   "execution_count": 11,
   "metadata": {
    "id": "pDY9OXtN9u_l"
   },
   "outputs": [],
   "source": [
    "dados = dados.dropna()"
   ]
  },
  {
   "cell_type": "code",
   "execution_count": 12,
   "metadata": {
    "colab": {
     "base_uri": "https://localhost:8080/"
    },
    "id": "Uw07-oWN9u_m",
    "outputId": "915f92e4-174b-4569-f605-7d13f27051b0"
   },
   "outputs": [
    {
     "name": "stdout",
     "output_type": "stream",
     "text": [
      "<class 'pandas.core.frame.DataFrame'>\n",
      "Int64Index: 138987 entries, 0 to 140412\n",
      "Data columns (total 13 columns):\n",
      " #   Column               Non-Null Count   Dtype         \n",
      "---  ------               --------------   -----         \n",
      " 0   data_da_ocorrencia   138987 non-null  datetime64[ns]\n",
      " 1   descricao_da_ofensa  138987 non-null  object        \n",
      " 2   nivel_da_ofensa      138987 non-null  object        \n",
      " 3   bairro               138987 non-null  object        \n",
      " 4   idade_do_infrator    138987 non-null  object        \n",
      " 5   sexo_do_infrator     138987 non-null  object        \n",
      " 6   raca_do_infrator     138987 non-null  object        \n",
      " 7   latitude             138987 non-null  float64       \n",
      " 8   longitude            138987 non-null  float64       \n",
      " 9   ano                  138987 non-null  int32         \n",
      " 10  dia                  138987 non-null  int32         \n",
      " 11  mes                  138987 non-null  int32         \n",
      " 12  dia_da_semana        138987 non-null  object        \n",
      "dtypes: datetime64[ns](1), float64(2), int32(3), object(7)\n",
      "memory usage: 13.3+ MB\n"
     ]
    }
   ],
   "source": [
    "dados.info()"
   ]
  },
  {
   "cell_type": "markdown",
   "metadata": {
    "id": "Oeal8zly9u_m"
   },
   "source": [
    " - Excluindo colunas que não serão utilizadas.\n",
    " \n",
    " Como todos os delitos são referentes ao ano de 2020 , iremos excluir apenas essa coluna."
   ]
  },
  {
   "cell_type": "code",
   "execution_count": 13,
   "metadata": {
    "id": "FfJgyBCc9u_m"
   },
   "outputs": [],
   "source": [
    "dados = dados.drop(columns=['ano'])"
   ]
  },
  {
   "cell_type": "markdown",
   "metadata": {
    "id": "JFenECY99u_n"
   },
   "source": [
    " - Convertendo variáveis categóricas em variáveis numéricas"
   ]
  },
  {
   "cell_type": "code",
   "execution_count": 14,
   "metadata": {
    "id": "NB_MAHwU9u_n"
   },
   "outputs": [],
   "source": [
    "from sklearn.preprocessing import LabelEncoder"
   ]
  },
  {
   "cell_type": "code",
   "execution_count": 15,
   "metadata": {
    "id": "k2UIzyYV9u_n"
   },
   "outputs": [],
   "source": [
    "enconder = LabelEncoder()"
   ]
  },
  {
   "cell_type": "code",
   "execution_count": 16,
   "metadata": {
    "id": "WoPfKr3_9u_o"
   },
   "outputs": [],
   "source": [
    "dados['data_da_ocorrencia'] = enconder.fit_transform(dados['data_da_ocorrencia'])\n",
    "dados['nivel_da_ofensa'] = enconder.fit_transform(dados['nivel_da_ofensa'])\n",
    "dados['idade_do_infrator'] = enconder.fit_transform(dados['idade_do_infrator'])\n",
    "dados['descricao_da_ofensa'] = enconder.fit_transform(dados['descricao_da_ofensa'])\n",
    "dados['bairro'] = enconder.fit_transform(dados['bairro'])\n",
    "dados['sexo_do_infrator'] = enconder.fit_transform(dados['sexo_do_infrator'])\n",
    "dados['raca_do_infrator'] = enconder.fit_transform(dados['raca_do_infrator'])\n",
    "dados['mes'] = enconder.fit_transform(dados['mes'])\n",
    "dados['dia'] = enconder.fit_transform(dados['dia'])\n",
    "dados['dia_da_semana'] = enconder.fit_transform(dados['dia_da_semana'])\n",
    "dados['latitude'] = enconder.fit_transform(dados['latitude'])\n",
    "dados['longitude'] = enconder.fit_transform(dados['longitude'])"
   ]
  },
  {
   "cell_type": "code",
   "execution_count": 17,
   "metadata": {
    "colab": {
     "base_uri": "https://localhost:8080/",
     "height": 204
    },
    "id": "bYz3WFu69u_o",
    "outputId": "618ff5d7-8fa4-4151-b164-616f45859da1"
   },
   "outputs": [
    {
     "data": {
      "text/html": [
       "<div>\n",
       "<style scoped>\n",
       "    .dataframe tbody tr th:only-of-type {\n",
       "        vertical-align: middle;\n",
       "    }\n",
       "\n",
       "    .dataframe tbody tr th {\n",
       "        vertical-align: top;\n",
       "    }\n",
       "\n",
       "    .dataframe thead th {\n",
       "        text-align: right;\n",
       "    }\n",
       "</style>\n",
       "<table border=\"1\" class=\"dataframe\">\n",
       "  <thead>\n",
       "    <tr style=\"text-align: right;\">\n",
       "      <th></th>\n",
       "      <th>data_da_ocorrencia</th>\n",
       "      <th>descricao_da_ofensa</th>\n",
       "      <th>nivel_da_ofensa</th>\n",
       "      <th>bairro</th>\n",
       "      <th>idade_do_infrator</th>\n",
       "      <th>sexo_do_infrator</th>\n",
       "      <th>raca_do_infrator</th>\n",
       "      <th>latitude</th>\n",
       "      <th>longitude</th>\n",
       "      <th>dia</th>\n",
       "      <th>mes</th>\n",
       "      <th>dia_da_semana</th>\n",
       "    </tr>\n",
       "  </thead>\n",
       "  <tbody>\n",
       "    <tr>\n",
       "      <th>0</th>\n",
       "      <td>359</td>\n",
       "      <td>17</td>\n",
       "      <td>1</td>\n",
       "      <td>0</td>\n",
       "      <td>1</td>\n",
       "      <td>1</td>\n",
       "      <td>2</td>\n",
       "      <td>24042</td>\n",
       "      <td>16044</td>\n",
       "      <td>24</td>\n",
       "      <td>11</td>\n",
       "      <td>0</td>\n",
       "    </tr>\n",
       "    <tr>\n",
       "      <th>1</th>\n",
       "      <td>356</td>\n",
       "      <td>54</td>\n",
       "      <td>1</td>\n",
       "      <td>2</td>\n",
       "      <td>0</td>\n",
       "      <td>1</td>\n",
       "      <td>3</td>\n",
       "      <td>27932</td>\n",
       "      <td>12432</td>\n",
       "      <td>21</td>\n",
       "      <td>11</td>\n",
       "      <td>5</td>\n",
       "    </tr>\n",
       "    <tr>\n",
       "      <th>2</th>\n",
       "      <td>355</td>\n",
       "      <td>17</td>\n",
       "      <td>1</td>\n",
       "      <td>3</td>\n",
       "      <td>1</td>\n",
       "      <td>1</td>\n",
       "      <td>2</td>\n",
       "      <td>11085</td>\n",
       "      <td>25990</td>\n",
       "      <td>20</td>\n",
       "      <td>11</td>\n",
       "      <td>1</td>\n",
       "    </tr>\n",
       "    <tr>\n",
       "      <th>3</th>\n",
       "      <td>344</td>\n",
       "      <td>17</td>\n",
       "      <td>1</td>\n",
       "      <td>3</td>\n",
       "      <td>0</td>\n",
       "      <td>1</td>\n",
       "      <td>2</td>\n",
       "      <td>12223</td>\n",
       "      <td>28212</td>\n",
       "      <td>9</td>\n",
       "      <td>11</td>\n",
       "      <td>4</td>\n",
       "    </tr>\n",
       "    <tr>\n",
       "      <th>4</th>\n",
       "      <td>343</td>\n",
       "      <td>18</td>\n",
       "      <td>1</td>\n",
       "      <td>4</td>\n",
       "      <td>0</td>\n",
       "      <td>1</td>\n",
       "      <td>2</td>\n",
       "      <td>4753</td>\n",
       "      <td>980</td>\n",
       "      <td>8</td>\n",
       "      <td>11</td>\n",
       "      <td>6</td>\n",
       "    </tr>\n",
       "  </tbody>\n",
       "</table>\n",
       "</div>"
      ],
      "text/plain": [
       "   data_da_ocorrencia  descricao_da_ofensa  nivel_da_ofensa  bairro  \\\n",
       "0                 359                   17                1       0   \n",
       "1                 356                   54                1       2   \n",
       "2                 355                   17                1       3   \n",
       "3                 344                   17                1       3   \n",
       "4                 343                   18                1       4   \n",
       "\n",
       "   idade_do_infrator  sexo_do_infrator  raca_do_infrator  latitude  longitude  \\\n",
       "0                  1                 1                 2     24042      16044   \n",
       "1                  0                 1                 3     27932      12432   \n",
       "2                  1                 1                 2     11085      25990   \n",
       "3                  0                 1                 2     12223      28212   \n",
       "4                  0                 1                 2      4753        980   \n",
       "\n",
       "   dia  mes  dia_da_semana  \n",
       "0   24   11              0  \n",
       "1   21   11              5  \n",
       "2   20   11              1  \n",
       "3    9   11              4  \n",
       "4    8   11              6  "
      ]
     },
     "execution_count": 17,
     "metadata": {},
     "output_type": "execute_result"
    }
   ],
   "source": [
    "dados.head()"
   ]
  },
  {
   "cell_type": "markdown",
   "metadata": {
    "id": "svARTEkO9u_p"
   },
   "source": [
    "Separando as variaveis em X e Y"
   ]
  },
  {
   "cell_type": "code",
   "execution_count": 19,
   "metadata": {
    "id": "p12OVfcc9u_p"
   },
   "outputs": [],
   "source": [
    "X = dados.drop('sexo_do_infrator',axis=1).values\n",
    "Y = dados['sexo_do_infrator'].values"
   ]
  },
  {
   "cell_type": "markdown",
   "metadata": {
    "id": "Jmhw-9LB9u_p"
   },
   "source": [
    "\n",
    "Separando em amostras de treino e teste"
   ]
  },
  {
   "cell_type": "code",
   "execution_count": 20,
   "metadata": {
    "id": "2Ng7buGV9u_q"
   },
   "outputs": [],
   "source": [
    "from sklearn.model_selection import train_test_split"
   ]
  },
  {
   "cell_type": "code",
   "execution_count": 21,
   "metadata": {
    "id": "SXcSolFZ9u_r"
   },
   "outputs": [],
   "source": [
    "X_treino,X_teste,Y_treino,Y_teste = train_test_split(X,Y,test_size=0.25,random_state=0)"
   ]
  },
  {
   "cell_type": "markdown",
   "metadata": {
    "id": "vGlGC0eo9u_u"
   },
   "source": [
    " - Aplicando o algoritmo"
   ]
  },
  {
   "cell_type": "code",
   "execution_count": 22,
   "metadata": {
    "id": "tINfm51T9u_u"
   },
   "outputs": [],
   "source": [
    "from sklearn.ensemble import RandomForestClassifier"
   ]
  },
  {
   "cell_type": "code",
   "execution_count": 23,
   "metadata": {
    "colab": {
     "base_uri": "https://localhost:8080/"
    },
    "id": "JVWDLbQt9u_u",
    "outputId": "15b8c9b9-db02-4ac2-cba2-400ae1df409f"
   },
   "outputs": [
    {
     "data": {
      "text/plain": [
       "RandomForestClassifier()"
      ]
     },
     "execution_count": 23,
     "metadata": {},
     "output_type": "execute_result"
    }
   ],
   "source": [
    "clf = RandomForestClassifier()\n",
    "clf.fit(X_treino, Y_treino)"
   ]
  },
  {
   "cell_type": "code",
   "execution_count": 24,
   "metadata": {
    "colab": {
     "base_uri": "https://localhost:8080/"
    },
    "id": "SPu3Za9x9u_v",
    "outputId": "28266e8b-17ff-48fb-f25d-dc3779c7190a"
   },
   "outputs": [
    {
     "data": {
      "text/plain": [
       "0.9910303146584805"
      ]
     },
     "execution_count": 24,
     "metadata": {},
     "output_type": "execute_result"
    }
   ],
   "source": [
    "score_treino = clf.score(X_treino,Y_treino)\n",
    "score_treino"
   ]
  },
  {
   "cell_type": "code",
   "execution_count": 25,
   "metadata": {
    "colab": {
     "base_uri": "https://localhost:8080/"
    },
    "id": "jdUvjHYG9u_v",
    "outputId": "80d9ef5e-c995-4868-8f04-dab67c735fb8"
   },
   "outputs": [
    {
     "data": {
      "text/plain": [
       "0.833741042392149"
      ]
     },
     "execution_count": 25,
     "metadata": {},
     "output_type": "execute_result"
    }
   ],
   "source": [
    "score_teste = clf.score(X_teste,Y_teste)\n",
    "score_teste"
   ]
  },
  {
   "cell_type": "code",
   "execution_count": 26,
   "metadata": {
    "id": "d2jZOPtf9u_w"
   },
   "outputs": [],
   "source": [
    "Y_pred = clf.predict(X_teste)"
   ]
  },
  {
   "cell_type": "code",
   "execution_count": 27,
   "metadata": {
    "id": "4-bIEzDE9u_w"
   },
   "outputs": [],
   "source": [
    "from sklearn.metrics import confusion_matrix"
   ]
  },
  {
   "cell_type": "code",
   "execution_count": 28,
   "metadata": {
    "colab": {
     "base_uri": "https://localhost:8080/",
     "height": 296
    },
    "id": "tBYfX-Sm9u_w",
    "outputId": "487e482b-6bb1-4093-e46d-3ddb88f3cc9e"
   },
   "outputs": [
    {
     "data": {
      "text/plain": [
       "Text(33.0, 0.5, 'Real ( 1 ou 0)')"
      ]
     },
     "execution_count": 28,
     "metadata": {},
     "output_type": "execute_result"
    },
    {
     "data": {
      "image/png": "[encoded data removed]",
      "text/plain": [
       "<Figure size 432x288 with 2 Axes>"
      ]
     },
     "metadata": {
      "needs_background": "light"
     },
     "output_type": "display_data"
    }
   ],
   "source": [
    "cm=confusion_matrix(Y_teste, Y_pred)\n",
    "sns.heatmap(cm, annot=True, fmt='g')\n",
    "\n",
    "plt.xlabel('Predição( 1 ou 0)')\n",
    "plt.ylabel('Real ( 1 ou 0)')"
   ]
  },
  {
   "cell_type": "code",
   "execution_count": null,
   "metadata": {
    "id": "FsWBmmle9u_w"
   },
   "outputs": [],
   "source": [
    "from sklearn.metrics import roc_auc_score"
   ]
  },
  {
   "cell_type": "code",
   "execution_count": null,
   "metadata": {
    "colab": {
     "base_uri": "https://localhost:8080/"
    },
    "id": "g8ZSv7XK9u_x",
    "outputId": "4b33a58b-0aa8-4458-c6e0-b6c7633d842b"
   },
   "outputs": [],
   "source": [
    "y_proba = clf.predict_proba(X_teste)\n",
    "roc_auc_score(Y_teste, y_proba[:, 1])"
   ]
  },
  {
   "cell_type": "markdown",
   "metadata": {
    "id": "o-md9zlN9u_x"
   },
   "source": [
    "Aplicando GridSearchCV para determinar os melhores parâmetros do modelo"
   ]
  },
  {
   "cell_type": "code",
   "execution_count": null,
   "metadata": {
    "id": "kVBQtvAf9u_x"
   },
   "outputs": [],
   "source": [
    "from sklearn.model_selection import GridSearchCV"
   ]
  },
  {
   "cell_type": "code",
   "execution_count": null,
   "metadata": {
    "id": "uf5_GiCS9u_y"
   },
   "outputs": [],
   "source": [
    "criterion=['gini','entropy']\n",
    "max_depth = np.arange(2,10)\n",
    "max_features= np.arange(2,10)"
   ]
  },
  {
   "cell_type": "code",
   "execution_count": null,
   "metadata": {},
   "outputs": [],
   "source": [
    "parametros = {'criterion' : criterion, 'max_depth' : max_depth, 'max_features' : max_features}"
   ]
  },
  {
   "cell_type": "code",
   "execution_count": null,
   "metadata": {
    "id": "Qw2KMAmC9u_z"
   },
   "outputs": [],
   "source": [
    "melhor_modelo = GridSearchCV(clf, parametros, n_jobs=-1, refit = True, cv=2)"
   ]
  },
  {
   "cell_type": "code",
   "execution_count": null,
   "metadata": {
    "id": "6BHp20PP9u_0"
   },
   "outputs": [],
   "source": [
    "melhor_modelo.fit(X_treino, Y_treino)"
   ]
  },
  {
   "cell_type": "code",
   "execution_count": null,
   "metadata": {
    "id": "-ya8pqFF9u_1"
   },
   "outputs": [],
   "source": [
    "modelo_final = melhor_modelo.best_estimator_"
   ]
  },
  {
   "cell_type": "code",
   "execution_count": null,
   "metadata": {
    "id": "bvjQ8peF9u_1"
   },
   "outputs": [],
   "source": [
    "modelo_final.fit(X_treino, Y_treino)"
   ]
  },
  {
   "cell_type": "code",
   "execution_count": null,
   "metadata": {
    "id": "ZDEBF52h9u_1"
   },
   "outputs": [],
   "source": [
    "Y_previsto = modelo_final.predict(X_teste)"
   ]
  },
  {
   "cell_type": "code",
   "execution_count": null,
   "metadata": {
    "id": "R1MrzYRf_0pb"
   },
   "outputs": [],
   "source": [
    "score_teste = modelo_final.score(X_teste,Y_teste)"
   ]
  },
  {
   "cell_type": "code",
   "execution_count": null,
   "metadata": {
    "id": "6e0n4s3H_0_8"
   },
   "outputs": [],
   "source": [
    "score_teste"
   ]
  },
  {
   "cell_type": "code",
   "execution_count": null,
   "metadata": {
    "id": "zyBD-A51C4Ne"
   },
   "outputs": [],
   "source": [
    "y_proba = modelo_final.predict_proba(X_teste)\n",
    "roc_auc_score(Y_teste, y_proba[:, 1])"
   ]
  },
  {
   "cell_type": "code",
   "execution_count": null,
   "metadata": {
    "id": "oPtCwsZ_C4Z8"
   },
   "outputs": [],
   "source": []
  },
  {
   "cell_type": "code",
   "execution_count": null,
   "metadata": {
    "id": "INFmqf-uC4iT"
   },
   "outputs": [],
   "source": []
  }
 ],
 "metadata": {
  "colab": {
   "collapsed_sections": [],
   "name": "RandonForestClassifier_NYC.ipynb",
   "provenance": []
  },
  "kernelspec": {
   "display_name": "Python 3",
   "language": "python",
   "name": "python3"
  },
  "language_info": {
   "codemirror_mode": {
    "name": "ipython",
    "version": 3
   },
   "file_extension": ".py",
   "mimetype": "text/x-python",
   "name": "python",
   "nbconvert_exporter": "python",
   "pygments_lexer": "ipython3",
   "version": "3.8.3"
  }
 },
 "nbformat": 4,
 "nbformat_minor": 1
}
