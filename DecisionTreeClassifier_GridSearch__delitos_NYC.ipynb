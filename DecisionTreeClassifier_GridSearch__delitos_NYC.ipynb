{
 "cells": [
  {
   "cell_type": "markdown",
   "metadata": {
    "id": "EpoZtV52tq52"
   },
   "source": [
    "[dataset NY] https://data.cityofnewyork.us/Public-Safety/NYPD-Arrest-Data-Year-to-Date-/uip8-fykc"
   ]
  },
  {
   "cell_type": "markdown",
   "metadata": {},
   "source": [
    "## 1- Importando a base de dados"
   ]
  },
  {
   "cell_type": "code",
   "execution_count": 1,
   "metadata": {
    "id": "NpHeI-PMj_aQ"
   },
   "outputs": [],
   "source": [
    "#  Importando as bibliotecas\n",
    "\n",
    "import pandas as pd\n",
    "import seaborn as sns\n",
    "import matplotlib.pyplot as plt\n",
    "import numpy as np\n",
    "import datetime\n",
    "from datetime import date"
   ]
  },
  {
   "cell_type": "markdown",
   "metadata": {},
   "source": [
    " - Link do site onde encontra-se o dataset\n",
    " \n",
    " url:https://data.cityofnewyork.us/Public-Safety/NYPD-Arrest-Data-Year-to-Date-/uip8-fykc"
   ]
  },
  {
   "cell_type": "code",
   "execution_count": 2,
   "metadata": {},
   "outputs": [],
   "source": [
    "df=pd.read_csv('dataset.csv')"
   ]
  },
  {
   "cell_type": "code",
   "execution_count": 3,
   "metadata": {},
   "outputs": [
    {
     "data": {
      "text/html": [
       "<div>\n",
       "<style scoped>\n",
       "    .dataframe tbody tr th:only-of-type {\n",
       "        vertical-align: middle;\n",
       "    }\n",
       "\n",
       "    .dataframe tbody tr th {\n",
       "        vertical-align: top;\n",
       "    }\n",
       "\n",
       "    .dataframe thead th {\n",
       "        text-align: right;\n",
       "    }\n",
       "</style>\n",
       "<table border=\"1\" class=\"dataframe\">\n",
       "  <thead>\n",
       "    <tr style=\"text-align: right;\">\n",
       "      <th></th>\n",
       "      <th>ARREST_KEY</th>\n",
       "      <th>ARREST_DATE</th>\n",
       "      <th>PD_CD</th>\n",
       "      <th>PD_DESC</th>\n",
       "      <th>KY_CD</th>\n",
       "      <th>OFNS_DESC</th>\n",
       "      <th>LAW_CODE</th>\n",
       "      <th>LAW_CAT_CD</th>\n",
       "      <th>ARREST_BORO</th>\n",
       "      <th>ARREST_PRECINCT</th>\n",
       "      <th>JURISDICTION_CODE</th>\n",
       "      <th>AGE_GROUP</th>\n",
       "      <th>PERP_SEX</th>\n",
       "      <th>PERP_RACE</th>\n",
       "      <th>X_COORD_CD</th>\n",
       "      <th>Y_COORD_CD</th>\n",
       "      <th>Latitude</th>\n",
       "      <th>Longitude</th>\n",
       "      <th>New Georeferenced Column</th>\n",
       "    </tr>\n",
       "  </thead>\n",
       "  <tbody>\n",
       "    <tr>\n",
       "      <th>0</th>\n",
       "      <td>222243929</td>\n",
       "      <td>12/25/2020</td>\n",
       "      <td>105.0</td>\n",
       "      <td>STRANGULATION 1ST</td>\n",
       "      <td>106.0</td>\n",
       "      <td>FELONY ASSAULT</td>\n",
       "      <td>PL 1211200</td>\n",
       "      <td>F</td>\n",
       "      <td>B</td>\n",
       "      <td>40</td>\n",
       "      <td>0</td>\n",
       "      <td>25-44</td>\n",
       "      <td>M</td>\n",
       "      <td>BLACK</td>\n",
       "      <td>1007453</td>\n",
       "      <td>233952</td>\n",
       "      <td>40.808798</td>\n",
       "      <td>-73.916184</td>\n",
       "      <td>POINT (-73.91618413199996 40.80879780500004)</td>\n",
       "    </tr>\n",
       "    <tr>\n",
       "      <th>1</th>\n",
       "      <td>222115778</td>\n",
       "      <td>12/22/2020</td>\n",
       "      <td>397.0</td>\n",
       "      <td>ROBBERY,OPEN AREA UNCLASSIFIED</td>\n",
       "      <td>105.0</td>\n",
       "      <td>ROBBERY</td>\n",
       "      <td>PL 1601001</td>\n",
       "      <td>F</td>\n",
       "      <td>M</td>\n",
       "      <td>33</td>\n",
       "      <td>0</td>\n",
       "      <td>18-24</td>\n",
       "      <td>M</td>\n",
       "      <td>BLACK HISPANIC</td>\n",
       "      <td>1001456</td>\n",
       "      <td>247485</td>\n",
       "      <td>40.845956</td>\n",
       "      <td>-73.937813</td>\n",
       "      <td>POINT (-73.93781267199995 40.84595574000008)</td>\n",
       "    </tr>\n",
       "    <tr>\n",
       "      <th>2</th>\n",
       "      <td>222090516</td>\n",
       "      <td>12/21/2020</td>\n",
       "      <td>105.0</td>\n",
       "      <td>STRANGULATION 1ST</td>\n",
       "      <td>106.0</td>\n",
       "      <td>FELONY ASSAULT</td>\n",
       "      <td>PL 1211200</td>\n",
       "      <td>F</td>\n",
       "      <td>Q</td>\n",
       "      <td>106</td>\n",
       "      <td>0</td>\n",
       "      <td>25-44</td>\n",
       "      <td>M</td>\n",
       "      <td>BLACK</td>\n",
       "      <td>1028605</td>\n",
       "      <td>187930</td>\n",
       "      <td>40.682398</td>\n",
       "      <td>-73.840079</td>\n",
       "      <td>POINT (-73.84007936899997 40.68239828900005)</td>\n",
       "    </tr>\n",
       "    <tr>\n",
       "      <th>3</th>\n",
       "      <td>221653577</td>\n",
       "      <td>12/10/2020</td>\n",
       "      <td>105.0</td>\n",
       "      <td>STRANGULATION 1ST</td>\n",
       "      <td>106.0</td>\n",
       "      <td>FELONY ASSAULT</td>\n",
       "      <td>PL 1211200</td>\n",
       "      <td>F</td>\n",
       "      <td>Q</td>\n",
       "      <td>103</td>\n",
       "      <td>0</td>\n",
       "      <td>18-24</td>\n",
       "      <td>M</td>\n",
       "      <td>BLACK</td>\n",
       "      <td>1039602</td>\n",
       "      <td>190480</td>\n",
       "      <td>40.689336</td>\n",
       "      <td>-73.800409</td>\n",
       "      <td>POINT (-73.80040882999998 40.68933550400004)</td>\n",
       "    </tr>\n",
       "    <tr>\n",
       "      <th>4</th>\n",
       "      <td>221599602</td>\n",
       "      <td>12/09/2020</td>\n",
       "      <td>729.0</td>\n",
       "      <td>FORGERY,ETC.,UNCLASSIFIED-FELO</td>\n",
       "      <td>113.0</td>\n",
       "      <td>FORGERY</td>\n",
       "      <td>PL 1702500</td>\n",
       "      <td>F</td>\n",
       "      <td>S</td>\n",
       "      <td>120</td>\n",
       "      <td>0</td>\n",
       "      <td>18-24</td>\n",
       "      <td>M</td>\n",
       "      <td>BLACK</td>\n",
       "      <td>949767</td>\n",
       "      <td>170539</td>\n",
       "      <td>40.634708</td>\n",
       "      <td>-74.124241</td>\n",
       "      <td>POINT (-74.12424111699994 40.634707811000055)</td>\n",
       "    </tr>\n",
       "  </tbody>\n",
       "</table>\n",
       "</div>"
      ],
      "text/plain": [
       "   ARREST_KEY ARREST_DATE  PD_CD                         PD_DESC  KY_CD  \\\n",
       "0   222243929  12/25/2020  105.0               STRANGULATION 1ST  106.0   \n",
       "1   222115778  12/22/2020  397.0  ROBBERY,OPEN AREA UNCLASSIFIED  105.0   \n",
       "2   222090516  12/21/2020  105.0               STRANGULATION 1ST  106.0   \n",
       "3   221653577  12/10/2020  105.0               STRANGULATION 1ST  106.0   \n",
       "4   221599602  12/09/2020  729.0  FORGERY,ETC.,UNCLASSIFIED-FELO  113.0   \n",
       "\n",
       "        OFNS_DESC    LAW_CODE LAW_CAT_CD ARREST_BORO  ARREST_PRECINCT  \\\n",
       "0  FELONY ASSAULT  PL 1211200          F           B               40   \n",
       "1         ROBBERY  PL 1601001          F           M               33   \n",
       "2  FELONY ASSAULT  PL 1211200          F           Q              106   \n",
       "3  FELONY ASSAULT  PL 1211200          F           Q              103   \n",
       "4         FORGERY  PL 1702500          F           S              120   \n",
       "\n",
       "   JURISDICTION_CODE AGE_GROUP PERP_SEX       PERP_RACE  X_COORD_CD  \\\n",
       "0                  0     25-44        M           BLACK     1007453   \n",
       "1                  0     18-24        M  BLACK HISPANIC     1001456   \n",
       "2                  0     25-44        M           BLACK     1028605   \n",
       "3                  0     18-24        M           BLACK     1039602   \n",
       "4                  0     18-24        M           BLACK      949767   \n",
       "\n",
       "   Y_COORD_CD   Latitude  Longitude  \\\n",
       "0      233952  40.808798 -73.916184   \n",
       "1      247485  40.845956 -73.937813   \n",
       "2      187930  40.682398 -73.840079   \n",
       "3      190480  40.689336 -73.800409   \n",
       "4      170539  40.634708 -74.124241   \n",
       "\n",
       "                        New Georeferenced Column  \n",
       "0   POINT (-73.91618413199996 40.80879780500004)  \n",
       "1   POINT (-73.93781267199995 40.84595574000008)  \n",
       "2   POINT (-73.84007936899997 40.68239828900005)  \n",
       "3   POINT (-73.80040882999998 40.68933550400004)  \n",
       "4  POINT (-74.12424111699994 40.634707811000055)  "
      ]
     },
     "execution_count": 3,
     "metadata": {},
     "output_type": "execute_result"
    }
   ],
   "source": [
    "# visualizando as 5 primeiras linhas do dataset\n",
    "df[0:5]"
   ]
  },
  {
   "cell_type": "markdown",
   "metadata": {},
   "source": [
    "## 2- Preparaçao dos dados\n"
   ]
  },
  {
   "cell_type": "markdown",
   "metadata": {},
   "source": [
    " - Removendo as colunas que nao serão utilizadas "
   ]
  },
  {
   "cell_type": "code",
   "execution_count": 4,
   "metadata": {},
   "outputs": [],
   "source": [
    "select_ny=df.drop(['ARREST_KEY', 'PD_CD', 'PD_DESC', 'KY_CD', 'LAW_CODE','ARREST_PRECINCT', 'JURISDICTION_CODE', 'X_COORD_CD', 'Y_COORD_CD','New Georeferenced Column'], axis=1)"
   ]
  },
  {
   "cell_type": "code",
   "execution_count": 5,
   "metadata": {},
   "outputs": [],
   "source": [
    "#  Renomeando as colunas\n",
    "\n",
    "select_ny.columns = ['data_da_ocorrencia','descricao_da_ofensa','nivel_da_ofensa','bairro'\n",
    "                     ,'idade_do_infrator','sexo_do_infrator','raca_do_infrator','latitude','longitude']"
   ]
  },
  {
   "cell_type": "code",
   "execution_count": 6,
   "metadata": {},
   "outputs": [],
   "source": [
    "# reorganizando os dados referentes a data \n",
    "\n",
    "def date_to_weekday(date):\n",
    "    weekday_dict = {0:'Monday', 1:'Tuesday', 2: 'Wednesday', 3: 'Thursday', 4: 'Friday', 5: 'Saturday', 6: 'Sunday'}\n",
    "    date_time_obj = datetime.datetime.strptime(date, '%m/%d/%Y')\n",
    "    return weekday_dict[date_time_obj.weekday()]\n",
    "\n",
    "date = select_ny['data_da_ocorrencia'].str.split(\"/\", n = 3, expand = True)\n",
    "select_ny['ano'] = date[2].astype('int32')\n",
    "select_ny['dia'] = date[1].astype('int32')\n",
    "select_ny['mes'] = date[0].astype('int32')\n",
    "select_ny['dia_da_semana'] = select_ny['data_da_ocorrencia'].apply(date_to_weekday)\n",
    "\n",
    "# alterando os dados da coluna nivel_da_ofensa\n",
    "\n",
    "new_nivel_da_ofensa = {'M': \"contravencao\", 'F': \"crime\", 'V': \"violacao\",'I':\"outro\" }\n",
    "select_ny['nivel_da_ofensa'] = select_ny['nivel_da_ofensa'].map(new_nivel_da_ofensa)\n",
    "\n",
    "# alterando os dados da coluna bairro\n",
    "\n",
    "new_bairro = {'B': 'Bronx', 'S': 'Staten_Island', 'K': 'Brooklyn', 'M': 'Manhattan' , 'Q': 'Queens' }\n",
    "select_ny['bairro'] = select_ny['bairro'].map(new_bairro)"
   ]
  },
  {
   "cell_type": "code",
   "execution_count": 7,
   "metadata": {},
   "outputs": [
    {
     "data": {
      "text/html": [
       "<div>\n",
       "<style scoped>\n",
       "    .dataframe tbody tr th:only-of-type {\n",
       "        vertical-align: middle;\n",
       "    }\n",
       "\n",
       "    .dataframe tbody tr th {\n",
       "        vertical-align: top;\n",
       "    }\n",
       "\n",
       "    .dataframe thead th {\n",
       "        text-align: right;\n",
       "    }\n",
       "</style>\n",
       "<table border=\"1\" class=\"dataframe\">\n",
       "  <thead>\n",
       "    <tr style=\"text-align: right;\">\n",
       "      <th></th>\n",
       "      <th>data_da_ocorrencia</th>\n",
       "      <th>descricao_da_ofensa</th>\n",
       "      <th>nivel_da_ofensa</th>\n",
       "      <th>bairro</th>\n",
       "      <th>idade_do_infrator</th>\n",
       "      <th>sexo_do_infrator</th>\n",
       "      <th>raca_do_infrator</th>\n",
       "      <th>latitude</th>\n",
       "      <th>longitude</th>\n",
       "      <th>ano</th>\n",
       "      <th>dia</th>\n",
       "      <th>mes</th>\n",
       "      <th>dia_da_semana</th>\n",
       "    </tr>\n",
       "  </thead>\n",
       "  <tbody>\n",
       "    <tr>\n",
       "      <th>0</th>\n",
       "      <td>12/25/2020</td>\n",
       "      <td>FELONY ASSAULT</td>\n",
       "      <td>crime</td>\n",
       "      <td>Bronx</td>\n",
       "      <td>25-44</td>\n",
       "      <td>M</td>\n",
       "      <td>BLACK</td>\n",
       "      <td>40.808798</td>\n",
       "      <td>-73.916184</td>\n",
       "      <td>2020</td>\n",
       "      <td>25</td>\n",
       "      <td>12</td>\n",
       "      <td>Friday</td>\n",
       "    </tr>\n",
       "    <tr>\n",
       "      <th>1</th>\n",
       "      <td>12/22/2020</td>\n",
       "      <td>ROBBERY</td>\n",
       "      <td>crime</td>\n",
       "      <td>Manhattan</td>\n",
       "      <td>18-24</td>\n",
       "      <td>M</td>\n",
       "      <td>BLACK HISPANIC</td>\n",
       "      <td>40.845956</td>\n",
       "      <td>-73.937813</td>\n",
       "      <td>2020</td>\n",
       "      <td>22</td>\n",
       "      <td>12</td>\n",
       "      <td>Tuesday</td>\n",
       "    </tr>\n",
       "    <tr>\n",
       "      <th>2</th>\n",
       "      <td>12/21/2020</td>\n",
       "      <td>FELONY ASSAULT</td>\n",
       "      <td>crime</td>\n",
       "      <td>Queens</td>\n",
       "      <td>25-44</td>\n",
       "      <td>M</td>\n",
       "      <td>BLACK</td>\n",
       "      <td>40.682398</td>\n",
       "      <td>-73.840079</td>\n",
       "      <td>2020</td>\n",
       "      <td>21</td>\n",
       "      <td>12</td>\n",
       "      <td>Monday</td>\n",
       "    </tr>\n",
       "    <tr>\n",
       "      <th>3</th>\n",
       "      <td>12/10/2020</td>\n",
       "      <td>FELONY ASSAULT</td>\n",
       "      <td>crime</td>\n",
       "      <td>Queens</td>\n",
       "      <td>18-24</td>\n",
       "      <td>M</td>\n",
       "      <td>BLACK</td>\n",
       "      <td>40.689336</td>\n",
       "      <td>-73.800409</td>\n",
       "      <td>2020</td>\n",
       "      <td>10</td>\n",
       "      <td>12</td>\n",
       "      <td>Thursday</td>\n",
       "    </tr>\n",
       "    <tr>\n",
       "      <th>4</th>\n",
       "      <td>12/09/2020</td>\n",
       "      <td>FORGERY</td>\n",
       "      <td>crime</td>\n",
       "      <td>Staten_Island</td>\n",
       "      <td>18-24</td>\n",
       "      <td>M</td>\n",
       "      <td>BLACK</td>\n",
       "      <td>40.634708</td>\n",
       "      <td>-74.124241</td>\n",
       "      <td>2020</td>\n",
       "      <td>9</td>\n",
       "      <td>12</td>\n",
       "      <td>Wednesday</td>\n",
       "    </tr>\n",
       "  </tbody>\n",
       "</table>\n",
       "</div>"
      ],
      "text/plain": [
       "  data_da_ocorrencia descricao_da_ofensa nivel_da_ofensa         bairro  \\\n",
       "0         12/25/2020      FELONY ASSAULT           crime          Bronx   \n",
       "1         12/22/2020             ROBBERY           crime      Manhattan   \n",
       "2         12/21/2020      FELONY ASSAULT           crime         Queens   \n",
       "3         12/10/2020      FELONY ASSAULT           crime         Queens   \n",
       "4         12/09/2020             FORGERY           crime  Staten_Island   \n",
       "\n",
       "  idade_do_infrator sexo_do_infrator raca_do_infrator   latitude  longitude  \\\n",
       "0             25-44                M            BLACK  40.808798 -73.916184   \n",
       "1             18-24                M   BLACK HISPANIC  40.845956 -73.937813   \n",
       "2             25-44                M            BLACK  40.682398 -73.840079   \n",
       "3             18-24                M            BLACK  40.689336 -73.800409   \n",
       "4             18-24                M            BLACK  40.634708 -74.124241   \n",
       "\n",
       "    ano  dia  mes dia_da_semana  \n",
       "0  2020   25   12        Friday  \n",
       "1  2020   22   12       Tuesday  \n",
       "2  2020   21   12        Monday  \n",
       "3  2020   10   12      Thursday  \n",
       "4  2020    9   12     Wednesday  "
      ]
     },
     "execution_count": 7,
     "metadata": {},
     "output_type": "execute_result"
    }
   ],
   "source": [
    "select_ny.head()"
   ]
  },
  {
   "cell_type": "code",
   "execution_count": 8,
   "metadata": {},
   "outputs": [
    {
     "name": "stdout",
     "output_type": "stream",
     "text": [
      "<class 'pandas.core.frame.DataFrame'>\n",
      "RangeIndex: 140413 entries, 0 to 140412\n",
      "Data columns (total 13 columns):\n",
      " #   Column               Non-Null Count   Dtype  \n",
      "---  ------               --------------   -----  \n",
      " 0   data_da_ocorrencia   140413 non-null  object \n",
      " 1   descricao_da_ofensa  140376 non-null  object \n",
      " 2   nivel_da_ofensa      139024 non-null  object \n",
      " 3   bairro               140413 non-null  object \n",
      " 4   idade_do_infrator    140413 non-null  object \n",
      " 5   sexo_do_infrator     140413 non-null  object \n",
      " 6   raca_do_infrator     140413 non-null  object \n",
      " 7   latitude             140413 non-null  float64\n",
      " 8   longitude            140413 non-null  float64\n",
      " 9   ano                  140413 non-null  int32  \n",
      " 10  dia                  140413 non-null  int32  \n",
      " 11  mes                  140413 non-null  int32  \n",
      " 12  dia_da_semana        140413 non-null  object \n",
      "dtypes: float64(2), int32(3), object(8)\n",
      "memory usage: 12.3+ MB\n"
     ]
    }
   ],
   "source": [
    "select_ny.info()"
   ]
  },
  {
   "cell_type": "markdown",
   "metadata": {
    "id": "2XW4lv9Ppsbl"
   },
   "source": [
    " - Convertendo a coluna \" DATA_DA_OCORRENCIA \"para formato datetime"
   ]
  },
  {
   "cell_type": "code",
   "execution_count": 9,
   "metadata": {
    "id": "pLBhQGqZpsbm"
   },
   "outputs": [],
   "source": [
    "select_ny[\"data_da_ocorrencia\"] = pd.to_datetime(select_ny[\"data_da_ocorrencia\"] )"
   ]
  },
  {
   "cell_type": "markdown",
   "metadata": {},
   "source": [
    "## 3.0 Selecinando apenas os crimes com maiores incidencias.\n",
    " \n",
    "  - Baseado no DataFrame criado anteriormente \"tipos_de_delitos\" , selecinamos os 15 tipos mais recorrentes."
   ]
  },
  {
   "cell_type": "code",
   "execution_count": 10,
   "metadata": {},
   "outputs": [],
   "source": [
    "select_ny = select_ny.query('descricao_da_ofensa ==\"ASSAULT 3 & RELATED OFFENSES\" or  descricao_da_ofensa ==\"FELONY ASSAULT\" or descricao_da_ofensa ==\"PETIT LARCENY\" or descricao_da_ofensa ==\"DANGEROUS DRUGS\" or descricao_da_ofensa ==\"MISCELLANEOUS PENAL LAW\" or descricao_da_ofensa ==\"ROBBERY\" or descricao_da_ofensa ==\"CRIMINAL MISCHIEF & RELATED OF\" or descricao_da_ofensa ==\"BURGLARY\" or  descricao_da_ofensa ==\"GRAND LARCENY\" or descricao_da_ofensa ==\"DANGEROUS WEAPONS\" or  descricao_da_ofensa ==\"OFFENSES AGAINST PUBLIC ADMINI\" or descricao_da_ofensa ==\"VEHICLE AND TRAFFIC LAWS\" or  descricao_da_ofensa ==\"OFF. AGNST PUB ORD SENSBLTY &\" or descricao_da_ofensa ==\"SEX CRIMES\" or descricao_da_ofensa ==\"INTOXICATED & IMPAIRED DRIVING\"  ')"
   ]
  },
  {
   "cell_type": "code",
   "execution_count": 11,
   "metadata": {},
   "outputs": [],
   "source": [
    "select_ny = select_ny.dropna()"
   ]
  },
  {
   "cell_type": "code",
   "execution_count": 12,
   "metadata": {},
   "outputs": [
    {
     "data": {
      "image/png": "[encoded data removed]",
      "text/plain": [
       "<Figure size 1440x864 with 1 Axes>"
      ]
     },
     "metadata": {
      "needs_background": "light"
     },
     "output_type": "display_data"
    }
   ],
   "source": [
    "plt.figure(figsize=(20,12))\n",
    "sns.countplot(x='nivel_da_ofensa' , hue='sexo_do_infrator' , data = select_ny)\n",
    "plt.legend(fontsize=15,loc=1)\n",
    "plt.tight_layout()\n",
    "plt.show()"
   ]
  },
  {
   "cell_type": "markdown",
   "metadata": {},
   "source": [
    "# 4 - Modelagem"
   ]
  },
  {
   "cell_type": "markdown",
   "metadata": {},
   "source": [
    "## 4.1 Preparação dos Dados\n",
    "- Separação Treino/Teste\n",
    "- Separar Dados de Entrada (Atributos) e de saída (target)\n",
    "- Tratar colunas categóricas\n",
    "- Tratar dados ausentes\n"
   ]
  },
  {
   "cell_type": "markdown",
   "metadata": {},
   "source": [
    "## Criando um modelo de classificacao pra definir se quem praticou o delito era do sexo masculino ou femino ."
   ]
  },
  {
   "cell_type": "markdown",
   "metadata": {},
   "source": [
    " - Exculuindo colunas que não serão utilizadas"
   ]
  },
  {
   "cell_type": "code",
   "execution_count": 13,
   "metadata": {},
   "outputs": [],
   "source": [
    "dados = select_ny.drop(columns=['ano'])"
   ]
  },
  {
   "cell_type": "markdown",
   "metadata": {},
   "source": [
    " - Convertendo variáveis categóricas em variáveis numéricas"
   ]
  },
  {
   "cell_type": "code",
   "execution_count": 14,
   "metadata": {},
   "outputs": [],
   "source": [
    "from sklearn.preprocessing import LabelEncoder"
   ]
  },
  {
   "cell_type": "code",
   "execution_count": 15,
   "metadata": {},
   "outputs": [],
   "source": [
    "enconder = LabelEncoder()"
   ]
  },
  {
   "cell_type": "code",
   "execution_count": 16,
   "metadata": {},
   "outputs": [],
   "source": [
    "dados['data_da_ocorrencia'] = enconder.fit_transform(dados['data_da_ocorrencia'])\n",
    "dados['nivel_da_ofensa'] = enconder.fit_transform(dados['nivel_da_ofensa'])\n",
    "dados['idade_do_infrator'] = enconder.fit_transform(dados['idade_do_infrator'])\n",
    "dados['descricao_da_ofensa'] = enconder.fit_transform(dados['descricao_da_ofensa'])\n",
    "dados['bairro'] = enconder.fit_transform(dados['bairro'])\n",
    "dados['sexo_do_infrator'] = enconder.fit_transform(dados['sexo_do_infrator'])\n",
    "dados['raca_do_infrator'] = enconder.fit_transform(dados['raca_do_infrator'])\n",
    "dados['mes'] = enconder.fit_transform(dados['mes'])\n",
    "dados['dia'] = enconder.fit_transform(dados['dia'])\n",
    "dados['dia_da_semana'] = enconder.fit_transform(dados['dia_da_semana'])\n",
    "dados['latitude'] = enconder.fit_transform(dados['latitude'])\n",
    "dados['longitude'] = enconder.fit_transform(dados['longitude'])"
   ]
  },
  {
   "cell_type": "code",
   "execution_count": 17,
   "metadata": {},
   "outputs": [
    {
     "data": {
      "text/html": [
       "<div>\n",
       "<style scoped>\n",
       "    .dataframe tbody tr th:only-of-type {\n",
       "        vertical-align: middle;\n",
       "    }\n",
       "\n",
       "    .dataframe tbody tr th {\n",
       "        vertical-align: top;\n",
       "    }\n",
       "\n",
       "    .dataframe thead th {\n",
       "        text-align: right;\n",
       "    }\n",
       "</style>\n",
       "<table border=\"1\" class=\"dataframe\">\n",
       "  <thead>\n",
       "    <tr style=\"text-align: right;\">\n",
       "      <th></th>\n",
       "      <th>data_da_ocorrencia</th>\n",
       "      <th>descricao_da_ofensa</th>\n",
       "      <th>nivel_da_ofensa</th>\n",
       "      <th>bairro</th>\n",
       "      <th>idade_do_infrator</th>\n",
       "      <th>sexo_do_infrator</th>\n",
       "      <th>raca_do_infrator</th>\n",
       "      <th>latitude</th>\n",
       "      <th>longitude</th>\n",
       "      <th>dia</th>\n",
       "      <th>mes</th>\n",
       "      <th>dia_da_semana</th>\n",
       "    </tr>\n",
       "  </thead>\n",
       "  <tbody>\n",
       "    <tr>\n",
       "      <th>0</th>\n",
       "      <td>359</td>\n",
       "      <td>5</td>\n",
       "      <td>1</td>\n",
       "      <td>0</td>\n",
       "      <td>1</td>\n",
       "      <td>1</td>\n",
       "      <td>2</td>\n",
       "      <td>21676</td>\n",
       "      <td>14591</td>\n",
       "      <td>24</td>\n",
       "      <td>11</td>\n",
       "      <td>0</td>\n",
       "    </tr>\n",
       "    <tr>\n",
       "      <th>1</th>\n",
       "      <td>356</td>\n",
       "      <td>12</td>\n",
       "      <td>1</td>\n",
       "      <td>2</td>\n",
       "      <td>0</td>\n",
       "      <td>1</td>\n",
       "      <td>3</td>\n",
       "      <td>25320</td>\n",
       "      <td>11290</td>\n",
       "      <td>21</td>\n",
       "      <td>11</td>\n",
       "      <td>5</td>\n",
       "    </tr>\n",
       "    <tr>\n",
       "      <th>2</th>\n",
       "      <td>355</td>\n",
       "      <td>5</td>\n",
       "      <td>1</td>\n",
       "      <td>3</td>\n",
       "      <td>1</td>\n",
       "      <td>1</td>\n",
       "      <td>2</td>\n",
       "      <td>9948</td>\n",
       "      <td>23690</td>\n",
       "      <td>20</td>\n",
       "      <td>11</td>\n",
       "      <td>1</td>\n",
       "    </tr>\n",
       "    <tr>\n",
       "      <th>3</th>\n",
       "      <td>344</td>\n",
       "      <td>5</td>\n",
       "      <td>1</td>\n",
       "      <td>3</td>\n",
       "      <td>0</td>\n",
       "      <td>1</td>\n",
       "      <td>2</td>\n",
       "      <td>10970</td>\n",
       "      <td>25703</td>\n",
       "      <td>9</td>\n",
       "      <td>11</td>\n",
       "      <td>4</td>\n",
       "    </tr>\n",
       "    <tr>\n",
       "      <th>8</th>\n",
       "      <td>326</td>\n",
       "      <td>5</td>\n",
       "      <td>1</td>\n",
       "      <td>0</td>\n",
       "      <td>1</td>\n",
       "      <td>1</td>\n",
       "      <td>2</td>\n",
       "      <td>27383</td>\n",
       "      <td>20640</td>\n",
       "      <td>21</td>\n",
       "      <td>10</td>\n",
       "      <td>3</td>\n",
       "    </tr>\n",
       "  </tbody>\n",
       "</table>\n",
       "</div>"
      ],
      "text/plain": [
       "   data_da_ocorrencia  descricao_da_ofensa  nivel_da_ofensa  bairro  \\\n",
       "0                 359                    5                1       0   \n",
       "1                 356                   12                1       2   \n",
       "2                 355                    5                1       3   \n",
       "3                 344                    5                1       3   \n",
       "8                 326                    5                1       0   \n",
       "\n",
       "   idade_do_infrator  sexo_do_infrator  raca_do_infrator  latitude  longitude  \\\n",
       "0                  1                 1                 2     21676      14591   \n",
       "1                  0                 1                 3     25320      11290   \n",
       "2                  1                 1                 2      9948      23690   \n",
       "3                  0                 1                 2     10970      25703   \n",
       "8                  1                 1                 2     27383      20640   \n",
       "\n",
       "   dia  mes  dia_da_semana  \n",
       "0   24   11              0  \n",
       "1   21   11              5  \n",
       "2   20   11              1  \n",
       "3    9   11              4  \n",
       "8   21   10              3  "
      ]
     },
     "execution_count": 17,
     "metadata": {},
     "output_type": "execute_result"
    }
   ],
   "source": [
    "dados.head()"
   ]
  },
  {
   "cell_type": "markdown",
   "metadata": {},
   "source": [
    "Separando as variaveis em X e Y"
   ]
  },
  {
   "cell_type": "code",
   "execution_count": 18,
   "metadata": {},
   "outputs": [],
   "source": [
    "X = dados.drop('sexo_do_infrator',axis=1).values\n",
    "Y = dados['sexo_do_infrator'].values"
   ]
  },
  {
   "cell_type": "markdown",
   "metadata": {},
   "source": [
    "\n",
    "Separando em amostras de treino e teste"
   ]
  },
  {
   "cell_type": "code",
   "execution_count": 19,
   "metadata": {},
   "outputs": [],
   "source": [
    "from sklearn.model_selection import train_test_split"
   ]
  },
  {
   "cell_type": "code",
   "execution_count": 20,
   "metadata": {},
   "outputs": [],
   "source": [
    "X_treino,X_teste,Y_treino,Y_teste = train_test_split(X,Y,test_size=0.25,random_state=0 , stratify = Y)"
   ]
  },
  {
   "cell_type": "markdown",
   "metadata": {},
   "source": [
    "Aplicando o modelo da arvore de decisão"
   ]
  },
  {
   "cell_type": "code",
   "execution_count": 21,
   "metadata": {},
   "outputs": [],
   "source": [
    "from sklearn.tree import DecisionTreeClassifier,plot_tree"
   ]
  },
  {
   "cell_type": "code",
   "execution_count": 22,
   "metadata": {},
   "outputs": [],
   "source": [
    "dte = DecisionTreeClassifier()"
   ]
  },
  {
   "cell_type": "code",
   "execution_count": 23,
   "metadata": {},
   "outputs": [
    {
     "data": {
      "text/plain": [
       "<bound method BaseEstimator.get_params of DecisionTreeClassifier()>"
      ]
     },
     "execution_count": 23,
     "metadata": {},
     "output_type": "execute_result"
    }
   ],
   "source": [
    "dte.get_params"
   ]
  },
  {
   "cell_type": "markdown",
   "metadata": {},
   "source": [
    "Ajustando o modelo"
   ]
  },
  {
   "cell_type": "code",
   "execution_count": 24,
   "metadata": {},
   "outputs": [
    {
     "data": {
      "text/plain": [
       "DecisionTreeClassifier()"
      ]
     },
     "execution_count": 24,
     "metadata": {},
     "output_type": "execute_result"
    }
   ],
   "source": [
    "dte.fit(X_treino,Y_treino)"
   ]
  },
  {
   "cell_type": "markdown",
   "metadata": {},
   "source": [
    "Determinando acurácia na amostra de treino"
   ]
  },
  {
   "cell_type": "code",
   "execution_count": 25,
   "metadata": {},
   "outputs": [],
   "source": [
    "score_treino = dte.score(X_treino,Y_treino)"
   ]
  },
  {
   "cell_type": "code",
   "execution_count": 26,
   "metadata": {},
   "outputs": [
    {
     "data": {
      "text/plain": [
       "0.9908098101716452"
      ]
     },
     "execution_count": 26,
     "metadata": {},
     "output_type": "execute_result"
    }
   ],
   "source": [
    "score_treino"
   ]
  },
  {
   "cell_type": "markdown",
   "metadata": {},
   "source": [
    "Realizando previsão na amostra de teste"
   ]
  },
  {
   "cell_type": "code",
   "execution_count": 27,
   "metadata": {},
   "outputs": [],
   "source": [
    "Y_pred = dte.predict(X_teste)"
   ]
  },
  {
   "cell_type": "code",
   "execution_count": 28,
   "metadata": {},
   "outputs": [],
   "source": [
    "score_teste = dte.score(X_teste,Y_teste)"
   ]
  },
  {
   "cell_type": "code",
   "execution_count": 29,
   "metadata": {},
   "outputs": [
    {
     "data": {
      "text/plain": [
       "0.7356401156677181"
      ]
     },
     "execution_count": 29,
     "metadata": {},
     "output_type": "execute_result"
    }
   ],
   "source": [
    "score_teste"
   ]
  },
  {
   "cell_type": "code",
   "execution_count": 30,
   "metadata": {},
   "outputs": [
    {
     "name": "stdout",
     "output_type": "stream",
     "text": [
      "              precision    recall  f1-score   support\n",
      "\n",
      "           0       0.27      0.31      0.29      5339\n",
      "           1       0.85      0.83      0.84     25093\n",
      "\n",
      "    accuracy                           0.74     30432\n",
      "   macro avg       0.56      0.57      0.56     30432\n",
      "weighted avg       0.75      0.74      0.74     30432\n",
      "\n"
     ]
    }
   ],
   "source": [
    "from sklearn.metrics import classification_report\n",
    "print(classification_report(Y_teste, Y_pred))"
   ]
  },
  {
   "cell_type": "markdown",
   "metadata": {},
   "source": [
    "Gerando matriz de confusão para comparar os resultados"
   ]
  },
  {
   "cell_type": "code",
   "execution_count": 31,
   "metadata": {},
   "outputs": [],
   "source": [
    "from sklearn.metrics import confusion_matrix"
   ]
  },
  {
   "cell_type": "code",
   "execution_count": 32,
   "metadata": {},
   "outputs": [],
   "source": [
    "cm=confusion_matrix(Y_teste,Y_pred)"
   ]
  },
  {
   "cell_type": "code",
   "execution_count": 33,
   "metadata": {},
   "outputs": [
    {
     "data": {
      "text/plain": [
       "<matplotlib.axes._subplots.AxesSubplot at 0x1f1d3690be0>"
      ]
     },
     "execution_count": 33,
     "metadata": {},
     "output_type": "execute_result"
    },
    {
     "data": {
      "image/png": "[encoded data removed]",
      "text/plain": [
       "<Figure size 432x288 with 2 Axes>"
      ]
     },
     "metadata": {
      "needs_background": "light"
     },
     "output_type": "display_data"
    }
   ],
   "source": [
    "sns.heatmap(cm, annot=True , fmt='g')"
   ]
  },
  {
   "cell_type": "code",
   "execution_count": 34,
   "metadata": {},
   "outputs": [],
   "source": [
    "from sklearn.metrics import roc_auc_score"
   ]
  },
  {
   "cell_type": "code",
   "execution_count": 36,
   "metadata": {},
   "outputs": [
    {
     "data": {
      "text/plain": [
       "0.5683899758789792"
      ]
     },
     "execution_count": 36,
     "metadata": {},
     "output_type": "execute_result"
    }
   ],
   "source": [
    "y_proba = dte.predict_proba(X_teste)\n",
    "roc_auc_score(Y_teste, y_proba[:, 1])"
   ]
  },
  {
   "cell_type": "markdown",
   "metadata": {},
   "source": [
    "Alem do score na amostra de teste não estar adequado, devemos notar que muitos casos negativos foram classificados como positivo. Isto pode ser corrigido."
   ]
  },
  {
   "cell_type": "markdown",
   "metadata": {},
   "source": [
    " -  Repetindo com validação cruzada"
   ]
  },
  {
   "cell_type": "code",
   "execution_count": 37,
   "metadata": {},
   "outputs": [],
   "source": [
    "def imprime_resultados(results):\n",
    "    media = results['test_score'].mean()\n",
    "    desvio_padrao = results['test_score'].std()    \n",
    "    print(\"Accuracy médio: %.2f \" % (media * 100 ))\n",
    "    print(\"Accuracy intervalo: [%.2f, %.2f]\" % ((media - 2*desvio_padrao) * 100, (media + 2 * desvio_padrao) * 100))"
   ]
  },
  {
   "cell_type": "code",
   "execution_count": 38,
   "metadata": {},
   "outputs": [
    {
     "name": "stdout",
     "output_type": "stream",
     "text": [
      "Accuracy médio: 82.46 \n",
      "Accuracy intervalo: [82.45, 82.46]\n"
     ]
    }
   ],
   "source": [
    "from sklearn.model_selection import cross_validate\n",
    "from sklearn.model_selection import StratifiedKFold\n",
    "\n",
    "SEED = 5\n",
    "np.random.seed(SEED)\n",
    "cv = StratifiedKFold(n_splits = 5, shuffle =True)\n",
    "modelo = DecisionTreeClassifier(max_depth = 2)\n",
    "results = cross_validate(modelo, X, Y, cv = cv, return_train_score= False)\n",
    "imprime_resultados(results)"
   ]
  },
  {
   "cell_type": "markdown",
   "metadata": {},
   "source": [
    " - Ajustando o o novo modelo"
   ]
  },
  {
   "cell_type": "code",
   "execution_count": 39,
   "metadata": {},
   "outputs": [
    {
     "data": {
      "text/plain": [
       "DecisionTreeClassifier(max_depth=2)"
      ]
     },
     "execution_count": 39,
     "metadata": {},
     "output_type": "execute_result"
    }
   ],
   "source": [
    "modelo.fit(X_treino, Y_treino)"
   ]
  },
  {
   "cell_type": "markdown",
   "metadata": {},
   "source": [
    " - Fazendo a previsão prra amostra de teste"
   ]
  },
  {
   "cell_type": "code",
   "execution_count": 40,
   "metadata": {},
   "outputs": [],
   "source": [
    "Y_previsto = modelo.predict(X_teste)"
   ]
  },
  {
   "cell_type": "markdown",
   "metadata": {},
   "source": [
    " - Novo score da amostra de teste "
   ]
  },
  {
   "cell_type": "code",
   "execution_count": 41,
   "metadata": {},
   "outputs": [],
   "source": [
    "new_score_teste = modelo.score(X_teste,Y_teste)"
   ]
  },
  {
   "cell_type": "code",
   "execution_count": 42,
   "metadata": {},
   "outputs": [
    {
     "data": {
      "text/plain": [
       "0.8245596740273397"
      ]
     },
     "execution_count": 42,
     "metadata": {},
     "output_type": "execute_result"
    }
   ],
   "source": [
    "new_score_teste"
   ]
  },
  {
   "cell_type": "markdown",
   "metadata": {},
   "source": [
    " - Gerando uma ova matrz de confusão"
   ]
  },
  {
   "cell_type": "code",
   "execution_count": 43,
   "metadata": {},
   "outputs": [],
   "source": [
    "cm_nova=confusion_matrix(Y_teste,Y_previsto)"
   ]
  },
  {
   "cell_type": "code",
   "execution_count": 44,
   "metadata": {},
   "outputs": [
    {
     "data": {
      "text/plain": [
       "<matplotlib.axes._subplots.AxesSubplot at 0x1f1d3651d00>"
      ]
     },
     "execution_count": 44,
     "metadata": {},
     "output_type": "execute_result"
    },
    {
     "data": {
      "image/png": "[encoded data removed]",
      "text/plain": [
       "<Figure size 432x288 with 2 Axes>"
      ]
     },
     "metadata": {
      "needs_background": "light"
     },
     "output_type": "display_data"
    }
   ],
   "source": [
    "sns.heatmap(cm_nova, annot=True , fmt='g')"
   ]
  },
  {
   "cell_type": "code",
   "execution_count": 45,
   "metadata": {},
   "outputs": [
    {
     "data": {
      "text/plain": [
       "<matplotlib.axes._subplots.AxesSubplot at 0x1f1d711d940>"
      ]
     },
     "execution_count": 45,
     "metadata": {},
     "output_type": "execute_result"
    },
    {
     "data": {
      "image/png": "[encoded data removed]",
      "text/plain": [
       "<Figure size 432x288 with 1 Axes>"
      ]
     },
     "metadata": {
      "needs_background": "light"
     },
     "output_type": "display_data"
    }
   ],
   "source": [
    "sns.lineplot(range(len(Y_previsto)), Y_previsto)"
   ]
  },
  {
   "cell_type": "code",
   "execution_count": 46,
   "metadata": {},
   "outputs": [
    {
     "name": "stdout",
     "output_type": "stream",
     "text": [
      "              precision    recall  f1-score   support\n",
      "\n",
      "           0       0.00      0.00      0.00      5339\n",
      "           1       0.82      1.00      0.90     25093\n",
      "\n",
      "    accuracy                           0.82     30432\n",
      "   macro avg       0.41      0.50      0.45     30432\n",
      "weighted avg       0.68      0.82      0.75     30432\n",
      "\n"
     ]
    },
    {
     "name": "stderr",
     "output_type": "stream",
     "text": [
      "C:\\Users\\Biena\\anaconda3\\lib\\site-packages\\sklearn\\metrics\\_classification.py:1221: UndefinedMetricWarning: Precision and F-score are ill-defined and being set to 0.0 in labels with no predicted samples. Use `zero_division` parameter to control this behavior.\n",
      "  _warn_prf(average, modifier, msg_start, len(result))\n"
     ]
    }
   ],
   "source": [
    "from sklearn.metrics import classification_report\n",
    "print(classification_report(Y_teste, Y_previsto))"
   ]
  },
  {
   "cell_type": "markdown",
   "metadata": {},
   "source": [
    "## Comparando roc_auc_score"
   ]
  },
  {
   "cell_type": "code",
   "execution_count": 47,
   "metadata": {},
   "outputs": [],
   "source": [
    "from sklearn.metrics import roc_curve, roc_auc_score\n"
   ]
  },
  {
   "cell_type": "code",
   "execution_count": 48,
   "metadata": {},
   "outputs": [
    {
     "name": "stdout",
     "output_type": "stream",
     "text": [
      "ROC score = 56.70%\n"
     ]
    }
   ],
   "source": [
    "#  antes cross_validate\n",
    "roc_score = roc_auc_score(Y_teste, Y_pred)\n",
    "print(\"ROC score = {:0.2f}%\".format(roc_score*100))"
   ]
  },
  {
   "cell_type": "code",
   "execution_count": 49,
   "metadata": {},
   "outputs": [],
   "source": [
    "roc_fpr, roc_tpr, _ = roc_curve(Y_teste, Y_pred)"
   ]
  },
  {
   "cell_type": "code",
   "execution_count": 50,
   "metadata": {},
   "outputs": [
    {
     "data": {
      "text/plain": [
       "Text(0, 0.5, 'True Positive Rate')"
      ]
     },
     "execution_count": 50,
     "metadata": {},
     "output_type": "execute_result"
    },
    {
     "data": {
      "image/png": "[encoded data removed]",
      "text/plain": [
       "<Figure size 432x288 with 1 Axes>"
      ]
     },
     "metadata": {
      "needs_background": "light"
     },
     "output_type": "display_data"
    }
   ],
   "source": [
    "plt.plot(roc_fpr, roc_tpr, linestyle='--')\n",
    "plt.xlabel('False Positive Rate')\n",
    "plt.ylabel('True Positive Rate')"
   ]
  },
  {
   "cell_type": "code",
   "execution_count": 51,
   "metadata": {},
   "outputs": [
    {
     "name": "stdout",
     "output_type": "stream",
     "text": [
      "ROC score = 50.00%\n"
     ]
    }
   ],
   "source": [
    "# apos cross_validate\n",
    "new_roc_score = roc_auc_score(Y_teste, Y_previsto)\n",
    "print(\"ROC score = {:0.2f}%\".format(new_roc_score*100))"
   ]
  },
  {
   "cell_type": "code",
   "execution_count": 52,
   "metadata": {},
   "outputs": [],
   "source": [
    "roc_fpr, roc_tpr, _ = roc_curve(Y_teste, Y_previsto)"
   ]
  },
  {
   "cell_type": "code",
   "execution_count": 53,
   "metadata": {},
   "outputs": [
    {
     "data": {
      "text/plain": [
       "Text(0, 0.5, 'True Positive Rate')"
      ]
     },
     "execution_count": 53,
     "metadata": {},
     "output_type": "execute_result"
    },
    {
     "data": {
      "image/png": "[encoded data removed]",
      "text/plain": [
       "<Figure size 432x288 with 1 Axes>"
      ]
     },
     "metadata": {
      "needs_background": "light"
     },
     "output_type": "display_data"
    }
   ],
   "source": [
    "plt.plot(roc_fpr, roc_tpr, linestyle='--')\n",
    "plt.xlabel('False Positive Rate')\n",
    "plt.ylabel('True Positive Rate')"
   ]
  },
  {
   "cell_type": "markdown",
   "metadata": {},
   "source": [
    " - Criando um GridSearch"
   ]
  },
  {
   "cell_type": "code",
   "execution_count": 54,
   "metadata": {},
   "outputs": [],
   "source": [
    "# critérios para medir a qualidade da divisão dos dados\n",
    "criterion=['gini','entropy']\n",
    "max_depth = np.arange(2,10)\n",
    "max_features= np.arange(2,10)"
   ]
  },
  {
   "cell_type": "code",
   "execution_count": 55,
   "metadata": {},
   "outputs": [],
   "source": [
    "from sklearn.model_selection import GridSearchCV"
   ]
  },
  {
   "cell_type": "code",
   "execution_count": 56,
   "metadata": {},
   "outputs": [],
   "source": [
    "parametros = {'criterion' : criterion, 'max_depth' : max_depth, 'max_features' : max_features}"
   ]
  },
  {
   "cell_type": "code",
   "execution_count": 57,
   "metadata": {},
   "outputs": [],
   "source": [
    "melhor_modelo = GridSearchCV(modelo, parametros, n_jobs=-1, cv=5, refit=True, scoring='accuracy')"
   ]
  },
  {
   "cell_type": "code",
   "execution_count": 58,
   "metadata": {},
   "outputs": [
    {
     "data": {
      "text/plain": [
       "GridSearchCV(cv=5, estimator=DecisionTreeClassifier(max_depth=2), n_jobs=-1,\n",
       "             param_grid={'criterion': ['gini', 'entropy'],\n",
       "                         'max_depth': array([2, 3, 4, 5, 6, 7, 8, 9]),\n",
       "                         'max_features': array([2, 3, 4, 5, 6, 7, 8, 9])},\n",
       "             scoring='accuracy')"
      ]
     },
     "execution_count": 58,
     "metadata": {},
     "output_type": "execute_result"
    }
   ],
   "source": [
    "melhor_modelo.fit(X_treino, Y_treino)"
   ]
  },
  {
   "cell_type": "code",
   "execution_count": 59,
   "metadata": {},
   "outputs": [],
   "source": [
    "modelo_final = melhor_modelo.best_estimator_"
   ]
  },
  {
   "cell_type": "code",
   "execution_count": 60,
   "metadata": {},
   "outputs": [
    {
     "data": {
      "text/plain": [
       "DecisionTreeClassifier(criterion='entropy', max_depth=3, max_features=3)"
      ]
     },
     "execution_count": 60,
     "metadata": {},
     "output_type": "execute_result"
    }
   ],
   "source": [
    "modelo_final"
   ]
  },
  {
   "cell_type": "code",
   "execution_count": 61,
   "metadata": {},
   "outputs": [],
   "source": [
    "Y_previsto_ajustado = modelo_final.predict(X_teste)"
   ]
  },
  {
   "cell_type": "code",
   "execution_count": 62,
   "metadata": {},
   "outputs": [],
   "source": [
    "cm_nova=confusion_matrix(Y_teste,Y_previsto_ajustado)"
   ]
  },
  {
   "cell_type": "code",
   "execution_count": 63,
   "metadata": {},
   "outputs": [
    {
     "data": {
      "text/plain": [
       "<matplotlib.axes._subplots.AxesSubplot at 0x1f1d29cc760>"
      ]
     },
     "execution_count": 63,
     "metadata": {},
     "output_type": "execute_result"
    },
    {
     "data": {
      "image/png": "[encoded data removed]",
      "text/plain": [
       "<Figure size 432x288 with 2 Axes>"
      ]
     },
     "metadata": {
      "needs_background": "light"
     },
     "output_type": "display_data"
    }
   ],
   "source": [
    "sns.heatmap(cm_nova, annot=True , fmt='g')"
   ]
  },
  {
   "cell_type": "code",
   "execution_count": 64,
   "metadata": {},
   "outputs": [],
   "source": [
    "score_teste = modelo_final.score(X_teste,Y_teste)"
   ]
  },
  {
   "cell_type": "code",
   "execution_count": 65,
   "metadata": {},
   "outputs": [
    {
     "data": {
      "text/plain": [
       "0.8245596740273397"
      ]
     },
     "execution_count": 65,
     "metadata": {},
     "output_type": "execute_result"
    }
   ],
   "source": [
    "score_teste"
   ]
  },
  {
   "cell_type": "code",
   "execution_count": 66,
   "metadata": {},
   "outputs": [
    {
     "name": "stdout",
     "output_type": "stream",
     "text": [
      "              precision    recall  f1-score   support\n",
      "\n",
      "           0       0.00      0.00      0.00      5339\n",
      "           1       0.82      1.00      0.90     25093\n",
      "\n",
      "    accuracy                           0.82     30432\n",
      "   macro avg       0.41      0.50      0.45     30432\n",
      "weighted avg       0.68      0.82      0.75     30432\n",
      "\n"
     ]
    },
    {
     "name": "stderr",
     "output_type": "stream",
     "text": [
      "C:\\Users\\Biena\\anaconda3\\lib\\site-packages\\sklearn\\metrics\\_classification.py:1221: UndefinedMetricWarning: Precision and F-score are ill-defined and being set to 0.0 in labels with no predicted samples. Use `zero_division` parameter to control this behavior.\n",
      "  _warn_prf(average, modifier, msg_start, len(result))\n"
     ]
    }
   ],
   "source": [
    "print(classification_report(Y_teste, Y_previsto))"
   ]
  },
  {
   "cell_type": "code",
   "execution_count": 67,
   "metadata": {},
   "outputs": [],
   "source": [
    "from sklearn.metrics import roc_curve, roc_auc_score"
   ]
  },
  {
   "cell_type": "code",
   "execution_count": 68,
   "metadata": {},
   "outputs": [
    {
     "name": "stdout",
     "output_type": "stream",
     "text": [
      "ROC score = 50.00%\n"
     ]
    }
   ],
   "source": [
    "roc_score = roc_auc_score(Y_teste, Y_previsto)\n",
    "print(\"ROC score = {:0.2f}%\".format(roc_score*100))"
   ]
  },
  {
   "cell_type": "code",
   "execution_count": 69,
   "metadata": {},
   "outputs": [],
   "source": [
    "roc_fpr, roc_tpr, _ = roc_curve(Y_teste, Y_previsto)"
   ]
  },
  {
   "cell_type": "code",
   "execution_count": 70,
   "metadata": {},
   "outputs": [
    {
     "data": {
      "text/plain": [
       "Text(0, 0.5, 'True Positive Rate')"
      ]
     },
     "execution_count": 70,
     "metadata": {},
     "output_type": "execute_result"
    },
    {
     "data": {
      "image/png": "[encoded data removed]",
      "text/plain": [
       "<Figure size 432x288 with 1 Axes>"
      ]
     },
     "metadata": {
      "needs_background": "light"
     },
     "output_type": "display_data"
    }
   ],
   "source": [
    "plt.plot(roc_fpr, roc_tpr, linestyle='--')\n",
    "plt.xlabel('False Positive Rate')\n",
    "plt.ylabel('True Positive Rate')"
   ]
  },
  {
   "cell_type": "code",
   "execution_count": null,
   "metadata": {},
   "outputs": [],
   "source": []
  },
  {
   "cell_type": "code",
   "execution_count": null,
   "metadata": {},
   "outputs": [],
   "source": []
  }
 ],
 "metadata": {
  "colab": {
   "collapsed_sections": [],
   "name": "Crimes.ipynb",
   "provenance": []
  },
  "kernelspec": {
   "display_name": "Python 3",
   "language": "python",
   "name": "python3"
  },
  "language_info": {
   "codemirror_mode": {
    "name": "ipython",
    "version": 3
   },
   "file_extension": ".py",
   "mimetype": "text/x-python",
   "name": "python",
   "nbconvert_exporter": "python",
   "pygments_lexer": "ipython3",
   "version": "3.8.3"
  }
 },
 "nbformat": 4,
 "nbformat_minor": 1
}
