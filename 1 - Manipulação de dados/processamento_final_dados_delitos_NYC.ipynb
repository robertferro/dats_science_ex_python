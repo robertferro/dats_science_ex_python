{
 "cells": [
  {
   "cell_type": "markdown",
   "metadata": {
    "id": "EpoZtV52tq52"
   },
   "source": [
    "Neste notebook, será utilizado o arquivo \"dados_preprocessados.csv\", onde foram observadas informações úteis para a criação de uma nova coluna, que será a base do restante do projeto e a partir dela serão geradas novas visualizações.\n",
    "\n",
    "Foi criando um novo arquivo csv \"dados_processados\" que será utilizado para EDA."
   ]
  },
  {
   "cell_type": "markdown",
   "metadata": {},
   "source": [
    "## 1- Importando a base de dados"
   ]
  },
  {
   "cell_type": "code",
   "execution_count": 1,
   "metadata": {
    "id": "NpHeI-PMj_aQ"
   },
   "outputs": [],
   "source": [
    "#  Importando as bibliotecas\n",
    "\n",
    "import pandas as pd\n",
    "import seaborn as sns\n",
    "import matplotlib.pyplot as plt\n",
    "import numpy as np\n",
    "import datetime\n",
    "from datetime import date"
   ]
  },
  {
   "cell_type": "code",
   "execution_count": 2,
   "metadata": {},
   "outputs": [],
   "source": [
    "url = 'https://raw.githubusercontent.com/robertferro/delitos_NY_2020/master/1%20-%20Manipula%C3%A7%C3%A3o%20de%20dados/dados_pre_processados.csv'"
   ]
  },
  {
   "cell_type": "code",
   "execution_count": 3,
   "metadata": {},
   "outputs": [],
   "source": [
    "df = pd.read_csv(url)"
   ]
  },
  {
   "cell_type": "code",
   "execution_count": 4,
   "metadata": {},
   "outputs": [
    {
     "data": {
      "text/html": [
       "<div>\n",
       "<style scoped>\n",
       "    .dataframe tbody tr th:only-of-type {\n",
       "        vertical-align: middle;\n",
       "    }\n",
       "\n",
       "    .dataframe tbody tr th {\n",
       "        vertical-align: top;\n",
       "    }\n",
       "\n",
       "    .dataframe thead th {\n",
       "        text-align: right;\n",
       "    }\n",
       "</style>\n",
       "<table border=\"1\" class=\"dataframe\">\n",
       "  <thead>\n",
       "    <tr style=\"text-align: right;\">\n",
       "      <th></th>\n",
       "      <th>data_da_ocorrencia</th>\n",
       "      <th>descricao_da_ofensa</th>\n",
       "      <th>nivel_da_ofensa</th>\n",
       "      <th>bairro</th>\n",
       "      <th>idade_do_infrator</th>\n",
       "      <th>sexo_do_infrator</th>\n",
       "      <th>raca_do_infrator</th>\n",
       "      <th>latitude</th>\n",
       "      <th>longitude</th>\n",
       "      <th>ano</th>\n",
       "      <th>dia</th>\n",
       "      <th>mes</th>\n",
       "      <th>dia_da_semana</th>\n",
       "    </tr>\n",
       "  </thead>\n",
       "  <tbody>\n",
       "    <tr>\n",
       "      <th>0</th>\n",
       "      <td>2020-12-25</td>\n",
       "      <td>FELONY ASSAULT</td>\n",
       "      <td>crime</td>\n",
       "      <td>Bronx</td>\n",
       "      <td>25-44</td>\n",
       "      <td>M</td>\n",
       "      <td>BLACK</td>\n",
       "      <td>40.808798</td>\n",
       "      <td>-73.916184</td>\n",
       "      <td>2020</td>\n",
       "      <td>25</td>\n",
       "      <td>12</td>\n",
       "      <td>Friday</td>\n",
       "    </tr>\n",
       "    <tr>\n",
       "      <th>1</th>\n",
       "      <td>2020-12-22</td>\n",
       "      <td>ROBBERY</td>\n",
       "      <td>crime</td>\n",
       "      <td>Manhattan</td>\n",
       "      <td>18-24</td>\n",
       "      <td>M</td>\n",
       "      <td>BLACK HISPANIC</td>\n",
       "      <td>40.845956</td>\n",
       "      <td>-73.937813</td>\n",
       "      <td>2020</td>\n",
       "      <td>22</td>\n",
       "      <td>12</td>\n",
       "      <td>Tuesday</td>\n",
       "    </tr>\n",
       "    <tr>\n",
       "      <th>2</th>\n",
       "      <td>2020-12-21</td>\n",
       "      <td>FELONY ASSAULT</td>\n",
       "      <td>crime</td>\n",
       "      <td>Queens</td>\n",
       "      <td>25-44</td>\n",
       "      <td>M</td>\n",
       "      <td>BLACK</td>\n",
       "      <td>40.682398</td>\n",
       "      <td>-73.840079</td>\n",
       "      <td>2020</td>\n",
       "      <td>21</td>\n",
       "      <td>12</td>\n",
       "      <td>Monday</td>\n",
       "    </tr>\n",
       "    <tr>\n",
       "      <th>3</th>\n",
       "      <td>2020-12-10</td>\n",
       "      <td>FELONY ASSAULT</td>\n",
       "      <td>crime</td>\n",
       "      <td>Queens</td>\n",
       "      <td>18-24</td>\n",
       "      <td>M</td>\n",
       "      <td>BLACK</td>\n",
       "      <td>40.689336</td>\n",
       "      <td>-73.800409</td>\n",
       "      <td>2020</td>\n",
       "      <td>10</td>\n",
       "      <td>12</td>\n",
       "      <td>Thursday</td>\n",
       "    </tr>\n",
       "    <tr>\n",
       "      <th>4</th>\n",
       "      <td>2020-12-09</td>\n",
       "      <td>FORGERY</td>\n",
       "      <td>crime</td>\n",
       "      <td>Staten_Island</td>\n",
       "      <td>18-24</td>\n",
       "      <td>M</td>\n",
       "      <td>BLACK</td>\n",
       "      <td>40.634708</td>\n",
       "      <td>-74.124241</td>\n",
       "      <td>2020</td>\n",
       "      <td>9</td>\n",
       "      <td>12</td>\n",
       "      <td>Wednesday</td>\n",
       "    </tr>\n",
       "  </tbody>\n",
       "</table>\n",
       "</div>"
      ],
      "text/plain": [
       "  data_da_ocorrencia descricao_da_ofensa nivel_da_ofensa         bairro  \\\n",
       "0         2020-12-25      FELONY ASSAULT           crime          Bronx   \n",
       "1         2020-12-22             ROBBERY           crime      Manhattan   \n",
       "2         2020-12-21      FELONY ASSAULT           crime         Queens   \n",
       "3         2020-12-10      FELONY ASSAULT           crime         Queens   \n",
       "4         2020-12-09             FORGERY           crime  Staten_Island   \n",
       "\n",
       "  idade_do_infrator sexo_do_infrator raca_do_infrator   latitude  longitude  \\\n",
       "0             25-44                M            BLACK  40.808798 -73.916184   \n",
       "1             18-24                M   BLACK HISPANIC  40.845956 -73.937813   \n",
       "2             25-44                M            BLACK  40.682398 -73.840079   \n",
       "3             18-24                M            BLACK  40.689336 -73.800409   \n",
       "4             18-24                M            BLACK  40.634708 -74.124241   \n",
       "\n",
       "    ano  dia  mes dia_da_semana  \n",
       "0  2020   25   12        Friday  \n",
       "1  2020   22   12       Tuesday  \n",
       "2  2020   21   12        Monday  \n",
       "3  2020   10   12      Thursday  \n",
       "4  2020    9   12     Wednesday  "
      ]
     },
     "execution_count": 4,
     "metadata": {},
     "output_type": "execute_result"
    }
   ],
   "source": [
    "df.head()"
   ]
  },
  {
   "cell_type": "code",
   "execution_count": 5,
   "metadata": {},
   "outputs": [
    {
     "name": "stdout",
     "output_type": "stream",
     "text": [
      "<class 'pandas.core.frame.DataFrame'>\n",
      "RangeIndex: 140413 entries, 0 to 140412\n",
      "Data columns (total 13 columns):\n",
      " #   Column               Non-Null Count   Dtype  \n",
      "---  ------               --------------   -----  \n",
      " 0   data_da_ocorrencia   140413 non-null  object \n",
      " 1   descricao_da_ofensa  140376 non-null  object \n",
      " 2   nivel_da_ofensa      139024 non-null  object \n",
      " 3   bairro               140413 non-null  object \n",
      " 4   idade_do_infrator    140413 non-null  object \n",
      " 5   sexo_do_infrator     140413 non-null  object \n",
      " 6   raca_do_infrator     140413 non-null  object \n",
      " 7   latitude             140413 non-null  float64\n",
      " 8   longitude            140413 non-null  float64\n",
      " 9   ano                  140413 non-null  int64  \n",
      " 10  dia                  140413 non-null  int64  \n",
      " 11  mes                  140413 non-null  int64  \n",
      " 12  dia_da_semana        140413 non-null  object \n",
      "dtypes: float64(2), int64(3), object(8)\n",
      "memory usage: 13.9+ MB\n"
     ]
    }
   ],
   "source": [
    "df.info()"
   ]
  },
  {
   "cell_type": "markdown",
   "metadata": {},
   "source": [
    " - Conventerndo a coluna data_da_ocorrencia para formato datetime"
   ]
  },
  {
   "cell_type": "code",
   "execution_count": 6,
   "metadata": {},
   "outputs": [],
   "source": [
    "df[\"data_da_ocorrencia\"] = pd.to_datetime(df[\"data_da_ocorrencia\"] )"
   ]
  },
  {
   "cell_type": "code",
   "execution_count": 7,
   "metadata": {},
   "outputs": [],
   "source": [
    "df = df.dropna()"
   ]
  },
  {
   "cell_type": "code",
   "execution_count": 8,
   "metadata": {},
   "outputs": [],
   "source": [
    "df = df.reset_index()\n",
    "df = df.drop('index', axis = 1)"
   ]
  },
  {
   "cell_type": "code",
   "execution_count": 9,
   "metadata": {},
   "outputs": [
    {
     "data": {
      "text/html": [
       "<div>\n",
       "<style scoped>\n",
       "    .dataframe tbody tr th:only-of-type {\n",
       "        vertical-align: middle;\n",
       "    }\n",
       "\n",
       "    .dataframe tbody tr th {\n",
       "        vertical-align: top;\n",
       "    }\n",
       "\n",
       "    .dataframe thead th {\n",
       "        text-align: right;\n",
       "    }\n",
       "</style>\n",
       "<table border=\"1\" class=\"dataframe\">\n",
       "  <thead>\n",
       "    <tr style=\"text-align: right;\">\n",
       "      <th></th>\n",
       "      <th>data_da_ocorrencia</th>\n",
       "      <th>descricao_da_ofensa</th>\n",
       "      <th>nivel_da_ofensa</th>\n",
       "      <th>bairro</th>\n",
       "      <th>idade_do_infrator</th>\n",
       "      <th>sexo_do_infrator</th>\n",
       "      <th>raca_do_infrator</th>\n",
       "      <th>latitude</th>\n",
       "      <th>longitude</th>\n",
       "      <th>ano</th>\n",
       "      <th>dia</th>\n",
       "      <th>mes</th>\n",
       "      <th>dia_da_semana</th>\n",
       "    </tr>\n",
       "  </thead>\n",
       "  <tbody>\n",
       "    <tr>\n",
       "      <th>0</th>\n",
       "      <td>2020-12-25</td>\n",
       "      <td>FELONY ASSAULT</td>\n",
       "      <td>crime</td>\n",
       "      <td>Bronx</td>\n",
       "      <td>25-44</td>\n",
       "      <td>M</td>\n",
       "      <td>BLACK</td>\n",
       "      <td>40.808798</td>\n",
       "      <td>-73.916184</td>\n",
       "      <td>2020</td>\n",
       "      <td>25</td>\n",
       "      <td>12</td>\n",
       "      <td>Friday</td>\n",
       "    </tr>\n",
       "    <tr>\n",
       "      <th>1</th>\n",
       "      <td>2020-12-22</td>\n",
       "      <td>ROBBERY</td>\n",
       "      <td>crime</td>\n",
       "      <td>Manhattan</td>\n",
       "      <td>18-24</td>\n",
       "      <td>M</td>\n",
       "      <td>BLACK HISPANIC</td>\n",
       "      <td>40.845956</td>\n",
       "      <td>-73.937813</td>\n",
       "      <td>2020</td>\n",
       "      <td>22</td>\n",
       "      <td>12</td>\n",
       "      <td>Tuesday</td>\n",
       "    </tr>\n",
       "    <tr>\n",
       "      <th>2</th>\n",
       "      <td>2020-12-21</td>\n",
       "      <td>FELONY ASSAULT</td>\n",
       "      <td>crime</td>\n",
       "      <td>Queens</td>\n",
       "      <td>25-44</td>\n",
       "      <td>M</td>\n",
       "      <td>BLACK</td>\n",
       "      <td>40.682398</td>\n",
       "      <td>-73.840079</td>\n",
       "      <td>2020</td>\n",
       "      <td>21</td>\n",
       "      <td>12</td>\n",
       "      <td>Monday</td>\n",
       "    </tr>\n",
       "    <tr>\n",
       "      <th>3</th>\n",
       "      <td>2020-12-10</td>\n",
       "      <td>FELONY ASSAULT</td>\n",
       "      <td>crime</td>\n",
       "      <td>Queens</td>\n",
       "      <td>18-24</td>\n",
       "      <td>M</td>\n",
       "      <td>BLACK</td>\n",
       "      <td>40.689336</td>\n",
       "      <td>-73.800409</td>\n",
       "      <td>2020</td>\n",
       "      <td>10</td>\n",
       "      <td>12</td>\n",
       "      <td>Thursday</td>\n",
       "    </tr>\n",
       "    <tr>\n",
       "      <th>4</th>\n",
       "      <td>2020-12-09</td>\n",
       "      <td>FORGERY</td>\n",
       "      <td>crime</td>\n",
       "      <td>Staten_Island</td>\n",
       "      <td>18-24</td>\n",
       "      <td>M</td>\n",
       "      <td>BLACK</td>\n",
       "      <td>40.634708</td>\n",
       "      <td>-74.124241</td>\n",
       "      <td>2020</td>\n",
       "      <td>9</td>\n",
       "      <td>12</td>\n",
       "      <td>Wednesday</td>\n",
       "    </tr>\n",
       "  </tbody>\n",
       "</table>\n",
       "</div>"
      ],
      "text/plain": [
       "  data_da_ocorrencia descricao_da_ofensa nivel_da_ofensa         bairro  \\\n",
       "0         2020-12-25      FELONY ASSAULT           crime          Bronx   \n",
       "1         2020-12-22             ROBBERY           crime      Manhattan   \n",
       "2         2020-12-21      FELONY ASSAULT           crime         Queens   \n",
       "3         2020-12-10      FELONY ASSAULT           crime         Queens   \n",
       "4         2020-12-09             FORGERY           crime  Staten_Island   \n",
       "\n",
       "  idade_do_infrator sexo_do_infrator raca_do_infrator   latitude  longitude  \\\n",
       "0             25-44                M            BLACK  40.808798 -73.916184   \n",
       "1             18-24                M   BLACK HISPANIC  40.845956 -73.937813   \n",
       "2             25-44                M            BLACK  40.682398 -73.840079   \n",
       "3             18-24                M            BLACK  40.689336 -73.800409   \n",
       "4             18-24                M            BLACK  40.634708 -74.124241   \n",
       "\n",
       "    ano  dia  mes dia_da_semana  \n",
       "0  2020   25   12        Friday  \n",
       "1  2020   22   12       Tuesday  \n",
       "2  2020   21   12        Monday  \n",
       "3  2020   10   12      Thursday  \n",
       "4  2020    9   12     Wednesday  "
      ]
     },
     "execution_count": 9,
     "metadata": {},
     "output_type": "execute_result"
    }
   ],
   "source": [
    "df.head()"
   ]
  },
  {
   "cell_type": "code",
   "execution_count": 10,
   "metadata": {},
   "outputs": [
    {
     "name": "stdout",
     "output_type": "stream",
     "text": [
      "<class 'pandas.core.frame.DataFrame'>\n",
      "RangeIndex: 138987 entries, 0 to 138986\n",
      "Data columns (total 13 columns):\n",
      " #   Column               Non-Null Count   Dtype         \n",
      "---  ------               --------------   -----         \n",
      " 0   data_da_ocorrencia   138987 non-null  datetime64[ns]\n",
      " 1   descricao_da_ofensa  138987 non-null  object        \n",
      " 2   nivel_da_ofensa      138987 non-null  object        \n",
      " 3   bairro               138987 non-null  object        \n",
      " 4   idade_do_infrator    138987 non-null  object        \n",
      " 5   sexo_do_infrator     138987 non-null  object        \n",
      " 6   raca_do_infrator     138987 non-null  object        \n",
      " 7   latitude             138987 non-null  float64       \n",
      " 8   longitude            138987 non-null  float64       \n",
      " 9   ano                  138987 non-null  int64         \n",
      " 10  dia                  138987 non-null  int64         \n",
      " 11  mes                  138987 non-null  int64         \n",
      " 12  dia_da_semana        138987 non-null  object        \n",
      "dtypes: datetime64[ns](1), float64(2), int64(3), object(7)\n",
      "memory usage: 13.8+ MB\n"
     ]
    }
   ],
   "source": [
    "df.info()"
   ]
  },
  {
   "cell_type": "code",
   "execution_count": 11,
   "metadata": {},
   "outputs": [
    {
     "data": {
      "text/plain": [
       "(138987, 13)"
      ]
     },
     "execution_count": 11,
     "metadata": {},
     "output_type": "execute_result"
    }
   ],
   "source": [
    "df.shape"
   ]
  },
  {
   "cell_type": "markdown",
   "metadata": {},
   "source": [
    "## 2- Preparaçao dos dados\n"
   ]
  },
  {
   "cell_type": "code",
   "execution_count": 12,
   "metadata": {},
   "outputs": [
    {
     "data": {
      "image/png": "[encoded data removed]",
      "text/plain": [
       "<Figure size 864x576 with 1 Axes>"
      ]
     },
     "metadata": {
      "needs_background": "light"
     },
     "output_type": "display_data"
    }
   ],
   "source": [
    "tipos_de_delitos = df.descricao_da_ofensa.value_counts().to_frame().reset_index()\n",
    "tipos_de_delitos.columns = ['descricao_da_ofensa' , 'quantidade']\n",
    "\n",
    "\n",
    "f, ax = plt.subplots(figsize=(12, 8))\n",
    "sns.barplot(y = 'descricao_da_ofensa' , x = 'quantidade' , data = tipos_de_delitos.head(15))\n",
    "titulo='Delitos mais recorrentes'\n",
    "plt.title(titulo, fontsize=15)\n",
    "plt.show()"
   ]
  },
  {
   "cell_type": "markdown",
   "metadata": {},
   "source": [
    " - De acordo com os dados acima visualizados, podemos  criar um classificador que consiga distinguir delitos graves de delitos mais leves e que possa dizer a chance de ocorrer determinada prática em algum local."
   ]
  },
  {
   "cell_type": "code",
   "execution_count": 13,
   "metadata": {},
   "outputs": [
    {
     "data": {
      "text/plain": [
       "ASSAULT 3 & RELATED OFFENSES      23731\n",
       "FELONY ASSAULT                    13475\n",
       "PETIT LARCENY                     11406\n",
       "DANGEROUS DRUGS                   11289\n",
       "MISCELLANEOUS PENAL LAW            9133\n",
       "ROBBERY                            7948\n",
       "CRIMINAL MISCHIEF & RELATED OF     7831\n",
       "DANGEROUS WEAPONS                  6710\n",
       "GRAND LARCENY                      6542\n",
       "BURGLARY                           6056\n",
       "OFFENSES AGAINST PUBLIC ADMINI     4925\n",
       "VEHICLE AND TRAFFIC LAWS           4589\n",
       "OFF. AGNST PUB ORD SENSBLTY &      3061\n",
       "SEX CRIMES                         2730\n",
       "INTOXICATED & IMPAIRED DRIVING     2299\n",
       "Name: descricao_da_ofensa, dtype: int64"
      ]
     },
     "execution_count": 13,
     "metadata": {},
     "output_type": "execute_result"
    }
   ],
   "source": [
    "df.descricao_da_ofensa.value_counts().head(15)"
   ]
  },
  {
   "cell_type": "code",
   "execution_count": 14,
   "metadata": {},
   "outputs": [
    {
     "data": {
      "text/plain": [
       "contravencao    72992\n",
       "crime           65264\n",
       "violacao          549\n",
       "outro             182\n",
       "Name: nivel_da_ofensa, dtype: int64"
      ]
     },
     "execution_count": 14,
     "metadata": {},
     "output_type": "execute_result"
    }
   ],
   "source": [
    "df.nivel_da_ofensa.value_counts().head()"
   ]
  },
  {
   "cell_type": "markdown",
   "metadata": {},
   "source": [
    " ### Observações.\n",
    " \n",
    " - Considerando que delitos praticados com nivel de ofensa igual a crime são graves e os outros tipos são considerados leves:\n",
    "  \n",
    "   - criar uma nova coluna com a informação se o delito e grave ou não de acordo com a sa classificação quanto ao nível da ofensa."
   ]
  },
  {
   "cell_type": "markdown",
   "metadata": {},
   "source": [
    "Explorando os registros da coluna descricao_da_ofensa"
   ]
  },
  {
   "cell_type": "markdown",
   "metadata": {},
   "source": [
    " - Registros totais"
   ]
  },
  {
   "cell_type": "code",
   "execution_count": 15,
   "metadata": {},
   "outputs": [
    {
     "data": {
      "text/plain": [
       "ASSAULT 3 & RELATED OFFENSES    23731\n",
       "FELONY ASSAULT                  13475\n",
       "PETIT LARCENY                   11406\n",
       "DANGEROUS DRUGS                 11289\n",
       "MISCELLANEOUS PENAL LAW          9133\n",
       "Name: descricao_da_ofensa, dtype: int64"
      ]
     },
     "execution_count": 15,
     "metadata": {},
     "output_type": "execute_result"
    }
   ],
   "source": [
    "df.descricao_da_ofensa.value_counts().head()"
   ]
  },
  {
   "cell_type": "markdown",
   "metadata": {},
   "source": [
    "- Registros violação"
   ]
  },
  {
   "cell_type": "code",
   "execution_count": 16,
   "metadata": {},
   "outputs": [
    {
     "data": {
      "text/plain": [
       "OTHER STATE LAWS                  260\n",
       "MISCELLANEOUS PENAL LAW           122\n",
       "ADMINISTRATIVE CODE                75\n",
       "DISORDERLY CONDUCT                 40\n",
       "HARRASSMENT 2                      38\n",
       "LOITERING/GAMBLING (CARDS, DIC     12\n",
       "NEW YORK CITY HEALTH CODE           1\n",
       "ADMINISTRATIVE CODES                1\n",
       "Name: descricao_da_ofensa, dtype: int64"
      ]
     },
     "execution_count": 16,
     "metadata": {},
     "output_type": "execute_result"
    }
   ],
   "source": [
    "violacao = df.query('nivel_da_ofensa == \"violacao\"')\n",
    "violacao.descricao_da_ofensa.value_counts()"
   ]
  },
  {
   "cell_type": "markdown",
   "metadata": {},
   "source": [
    " - Registros contravenção"
   ]
  },
  {
   "cell_type": "code",
   "execution_count": 17,
   "metadata": {},
   "outputs": [
    {
     "data": {
      "text/plain": [
       "ASSAULT 3 & RELATED OFFENSES            23731\n",
       "PETIT LARCENY                           11406\n",
       "DANGEROUS DRUGS                          5908\n",
       "OFFENSES AGAINST PUBLIC ADMINI           4925\n",
       "VEHICLE AND TRAFFIC LAWS                 4331\n",
       "CRIMINAL MISCHIEF & RELATED OF           4293\n",
       "OFF. AGNST PUB ORD SENSBLTY &            3059\n",
       "INTOXICATED & IMPAIRED DRIVING           2260\n",
       "SEX CRIMES                               2231\n",
       "CRIMINAL TRESPASS                        1552\n",
       "DANGEROUS WEAPONS                        1499\n",
       "OFFENSES INVOLVING FRAUD                 1226\n",
       "OTHER TRAFFIC INFRACTION                  958\n",
       "OTHER OFFENSES RELATED TO THEF            813\n",
       "POSSESSION OF STOLEN PROPERTY             771\n",
       "OFFENSES AGAINST THE PERSON               708\n",
       "BURGLAR'S TOOLS                           543\n",
       "UNAUTHORIZED USE OF A VEHICLE             522\n",
       "OTHER STATE LAWS (NON PENAL LA            490\n",
       "PROSTITUTION & RELATED OFFENSES           422\n",
       "FRAUDS                                    387\n",
       "GAMBLING                                  264\n",
       "ALCOHOLIC BEVERAGE CONTROL LAW            255\n",
       "THEFT OF SERVICES                         125\n",
       "OFFENSES AGAINST PUBLIC SAFETY             81\n",
       "ANTICIPATORY OFFENSES                      60\n",
       "ADMINISTRATIVE CODE                        47\n",
       "FRAUDULENT ACCOSTING                       31\n",
       "OFFENSES RELATED TO CHILDREN               30\n",
       "AGRICULTURE & MRKTS LAW-UNCLASSIFIED       28\n",
       "ENDAN WELFARE INCOMP                       16\n",
       "JOSTLING                                   11\n",
       "OTHER STATE LAWS (NON PENAL LAW)            5\n",
       "ESCAPE 3                                    4\n",
       "Name: descricao_da_ofensa, dtype: int64"
      ]
     },
     "execution_count": 17,
     "metadata": {},
     "output_type": "execute_result"
    }
   ],
   "source": [
    "contravencao= df.query('nivel_da_ofensa == \"contravencao\"')\n",
    "contravencao.descricao_da_ofensa.value_counts()"
   ]
  },
  {
   "cell_type": "markdown",
   "metadata": {},
   "source": [
    " - Registros crime"
   ]
  },
  {
   "cell_type": "code",
   "execution_count": 18,
   "metadata": {},
   "outputs": [
    {
     "data": {
      "text/plain": [
       "FELONY ASSAULT                     13475\n",
       "MISCELLANEOUS PENAL LAW             9011\n",
       "ROBBERY                             7948\n",
       "GRAND LARCENY                       6542\n",
       "BURGLARY                            6056\n",
       "DANGEROUS DRUGS                     5381\n",
       "DANGEROUS WEAPONS                   5211\n",
       "CRIMINAL MISCHIEF & RELATED OF      3538\n",
       "FORGERY                             1852\n",
       "GRAND LARCENY OF MOTOR VEHICLE      1227\n",
       "MURDER & NON-NEGL. MANSLAUGHTE      1190\n",
       "POSSESSION OF STOLEN PROPERTY       1065\n",
       "NYS LAWS-UNCLASSIFIED FELONY         596\n",
       "RAPE                                 568\n",
       "SEX CRIMES                           499\n",
       "INTOXICATED/IMPAIRED DRIVING         346\n",
       "VEHICLE AND TRAFFIC LAWS             254\n",
       "THEFT-FRAUD                          138\n",
       "ARSON                                 97\n",
       "PROSTITUTION & RELATED OFFENSES       50\n",
       "OTHER STATE LAWS (NON PENAL LA        46\n",
       "KIDNAPPING & RELATED OFFENSES         44\n",
       "INTOXICATED & IMPAIRED DRIVING        39\n",
       "CHILD ABANDONMENT/NON SUPPORT         24\n",
       "GAMBLING                              23\n",
       "HOMICIDE-NEGLIGENT,UNCLASSIFIE        19\n",
       "ENDAN WELFARE INCOMP                   9\n",
       "HOMICIDE-NEGLIGENT-VEHICLE             7\n",
       "OFFENSES AGAINST PUBLIC SAFETY         3\n",
       "KIDNAPPING                             3\n",
       "OFF. AGNST PUB ORD SENSBLTY &          2\n",
       "KIDNAPPING AND RELATED OFFENSES        1\n",
       "Name: descricao_da_ofensa, dtype: int64"
      ]
     },
     "execution_count": 18,
     "metadata": {},
     "output_type": "execute_result"
    }
   ],
   "source": [
    "crime = df.query('nivel_da_ofensa == \"crime\"')\n",
    "crime.descricao_da_ofensa.value_counts()"
   ]
  },
  {
   "cell_type": "markdown",
   "metadata": {},
   "source": [
    " ### Observando pelos registros acima, os delitos classificados como crimes são sempre mais graves , logo iremos pegá-los como parâmetro para considerar o delito como grave ou não.\n",
    " \n",
    " - Criar a coluna grave, onde os crimes terão valor 1 e o que não for crime terá valor 0."
   ]
  },
  {
   "cell_type": "markdown",
   "metadata": {},
   "source": [
    " - Criando a coluna Grave."
   ]
  },
  {
   "cell_type": "code",
   "execution_count": 19,
   "metadata": {},
   "outputs": [],
   "source": [
    "df['grave'] = df['nivel_da_ofensa']"
   ]
  },
  {
   "cell_type": "code",
   "execution_count": 20,
   "metadata": {},
   "outputs": [
    {
     "data": {
      "text/html": [
       "<div>\n",
       "<style scoped>\n",
       "    .dataframe tbody tr th:only-of-type {\n",
       "        vertical-align: middle;\n",
       "    }\n",
       "\n",
       "    .dataframe tbody tr th {\n",
       "        vertical-align: top;\n",
       "    }\n",
       "\n",
       "    .dataframe thead th {\n",
       "        text-align: right;\n",
       "    }\n",
       "</style>\n",
       "<table border=\"1\" class=\"dataframe\">\n",
       "  <thead>\n",
       "    <tr style=\"text-align: right;\">\n",
       "      <th></th>\n",
       "      <th>data_da_ocorrencia</th>\n",
       "      <th>descricao_da_ofensa</th>\n",
       "      <th>nivel_da_ofensa</th>\n",
       "      <th>bairro</th>\n",
       "      <th>idade_do_infrator</th>\n",
       "      <th>sexo_do_infrator</th>\n",
       "      <th>raca_do_infrator</th>\n",
       "      <th>latitude</th>\n",
       "      <th>longitude</th>\n",
       "      <th>ano</th>\n",
       "      <th>dia</th>\n",
       "      <th>mes</th>\n",
       "      <th>dia_da_semana</th>\n",
       "      <th>grave</th>\n",
       "    </tr>\n",
       "  </thead>\n",
       "  <tbody>\n",
       "    <tr>\n",
       "      <th>0</th>\n",
       "      <td>2020-12-25</td>\n",
       "      <td>FELONY ASSAULT</td>\n",
       "      <td>crime</td>\n",
       "      <td>Bronx</td>\n",
       "      <td>25-44</td>\n",
       "      <td>M</td>\n",
       "      <td>BLACK</td>\n",
       "      <td>40.808798</td>\n",
       "      <td>-73.916184</td>\n",
       "      <td>2020</td>\n",
       "      <td>25</td>\n",
       "      <td>12</td>\n",
       "      <td>Friday</td>\n",
       "      <td>crime</td>\n",
       "    </tr>\n",
       "    <tr>\n",
       "      <th>1</th>\n",
       "      <td>2020-12-22</td>\n",
       "      <td>ROBBERY</td>\n",
       "      <td>crime</td>\n",
       "      <td>Manhattan</td>\n",
       "      <td>18-24</td>\n",
       "      <td>M</td>\n",
       "      <td>BLACK HISPANIC</td>\n",
       "      <td>40.845956</td>\n",
       "      <td>-73.937813</td>\n",
       "      <td>2020</td>\n",
       "      <td>22</td>\n",
       "      <td>12</td>\n",
       "      <td>Tuesday</td>\n",
       "      <td>crime</td>\n",
       "    </tr>\n",
       "    <tr>\n",
       "      <th>2</th>\n",
       "      <td>2020-12-21</td>\n",
       "      <td>FELONY ASSAULT</td>\n",
       "      <td>crime</td>\n",
       "      <td>Queens</td>\n",
       "      <td>25-44</td>\n",
       "      <td>M</td>\n",
       "      <td>BLACK</td>\n",
       "      <td>40.682398</td>\n",
       "      <td>-73.840079</td>\n",
       "      <td>2020</td>\n",
       "      <td>21</td>\n",
       "      <td>12</td>\n",
       "      <td>Monday</td>\n",
       "      <td>crime</td>\n",
       "    </tr>\n",
       "    <tr>\n",
       "      <th>3</th>\n",
       "      <td>2020-12-10</td>\n",
       "      <td>FELONY ASSAULT</td>\n",
       "      <td>crime</td>\n",
       "      <td>Queens</td>\n",
       "      <td>18-24</td>\n",
       "      <td>M</td>\n",
       "      <td>BLACK</td>\n",
       "      <td>40.689336</td>\n",
       "      <td>-73.800409</td>\n",
       "      <td>2020</td>\n",
       "      <td>10</td>\n",
       "      <td>12</td>\n",
       "      <td>Thursday</td>\n",
       "      <td>crime</td>\n",
       "    </tr>\n",
       "    <tr>\n",
       "      <th>4</th>\n",
       "      <td>2020-12-09</td>\n",
       "      <td>FORGERY</td>\n",
       "      <td>crime</td>\n",
       "      <td>Staten_Island</td>\n",
       "      <td>18-24</td>\n",
       "      <td>M</td>\n",
       "      <td>BLACK</td>\n",
       "      <td>40.634708</td>\n",
       "      <td>-74.124241</td>\n",
       "      <td>2020</td>\n",
       "      <td>9</td>\n",
       "      <td>12</td>\n",
       "      <td>Wednesday</td>\n",
       "      <td>crime</td>\n",
       "    </tr>\n",
       "  </tbody>\n",
       "</table>\n",
       "</div>"
      ],
      "text/plain": [
       "  data_da_ocorrencia descricao_da_ofensa nivel_da_ofensa         bairro  \\\n",
       "0         2020-12-25      FELONY ASSAULT           crime          Bronx   \n",
       "1         2020-12-22             ROBBERY           crime      Manhattan   \n",
       "2         2020-12-21      FELONY ASSAULT           crime         Queens   \n",
       "3         2020-12-10      FELONY ASSAULT           crime         Queens   \n",
       "4         2020-12-09             FORGERY           crime  Staten_Island   \n",
       "\n",
       "  idade_do_infrator sexo_do_infrator raca_do_infrator   latitude  longitude  \\\n",
       "0             25-44                M            BLACK  40.808798 -73.916184   \n",
       "1             18-24                M   BLACK HISPANIC  40.845956 -73.937813   \n",
       "2             25-44                M            BLACK  40.682398 -73.840079   \n",
       "3             18-24                M            BLACK  40.689336 -73.800409   \n",
       "4             18-24                M            BLACK  40.634708 -74.124241   \n",
       "\n",
       "    ano  dia  mes dia_da_semana  grave  \n",
       "0  2020   25   12        Friday  crime  \n",
       "1  2020   22   12       Tuesday  crime  \n",
       "2  2020   21   12        Monday  crime  \n",
       "3  2020   10   12      Thursday  crime  \n",
       "4  2020    9   12     Wednesday  crime  "
      ]
     },
     "execution_count": 20,
     "metadata": {},
     "output_type": "execute_result"
    }
   ],
   "source": [
    "df.head()"
   ]
  },
  {
   "cell_type": "code",
   "execution_count": 21,
   "metadata": {},
   "outputs": [],
   "source": [
    "df['grave'] = df['grave'].apply(lambda x: 1 if x=='crime' else 0)"
   ]
  },
  {
   "cell_type": "code",
   "execution_count": 22,
   "metadata": {},
   "outputs": [
    {
     "data": {
      "text/plain": [
       "0    73723\n",
       "1    65264\n",
       "Name: grave, dtype: int64"
      ]
     },
     "execution_count": 22,
     "metadata": {},
     "output_type": "execute_result"
    }
   ],
   "source": [
    "df.grave.value_counts()"
   ]
  },
  {
   "cell_type": "code",
   "execution_count": 23,
   "metadata": {
    "scrolled": true
   },
   "outputs": [
    {
     "name": "stdout",
     "output_type": "stream",
     "text": [
      "<class 'pandas.core.frame.DataFrame'>\n",
      "RangeIndex: 138987 entries, 0 to 138986\n",
      "Data columns (total 14 columns):\n",
      " #   Column               Non-Null Count   Dtype         \n",
      "---  ------               --------------   -----         \n",
      " 0   data_da_ocorrencia   138987 non-null  datetime64[ns]\n",
      " 1   descricao_da_ofensa  138987 non-null  object        \n",
      " 2   nivel_da_ofensa      138987 non-null  object        \n",
      " 3   bairro               138987 non-null  object        \n",
      " 4   idade_do_infrator    138987 non-null  object        \n",
      " 5   sexo_do_infrator     138987 non-null  object        \n",
      " 6   raca_do_infrator     138987 non-null  object        \n",
      " 7   latitude             138987 non-null  float64       \n",
      " 8   longitude            138987 non-null  float64       \n",
      " 9   ano                  138987 non-null  int64         \n",
      " 10  dia                  138987 non-null  int64         \n",
      " 11  mes                  138987 non-null  int64         \n",
      " 12  dia_da_semana        138987 non-null  object        \n",
      " 13  grave                138987 non-null  int64         \n",
      "dtypes: datetime64[ns](1), float64(2), int64(4), object(7)\n",
      "memory usage: 14.8+ MB\n"
     ]
    }
   ],
   "source": [
    "df.info()"
   ]
  },
  {
   "cell_type": "markdown",
   "metadata": {},
   "source": [
    " - Criando a coluna final de semana."
   ]
  },
  {
   "cell_type": "code",
   "execution_count": 24,
   "metadata": {},
   "outputs": [
    {
     "data": {
      "text/plain": [
       "Wednesday    24614\n",
       "Thursday     23274\n",
       "Tuesday      22884\n",
       "Friday       19424\n",
       "Monday       17457\n",
       "Saturday     16585\n",
       "Sunday       14749\n",
       "Name: dia_da_semana, dtype: int64"
      ]
     },
     "execution_count": 24,
     "metadata": {},
     "output_type": "execute_result"
    }
   ],
   "source": [
    "df['dia_da_semana'].value_counts()"
   ]
  },
  {
   "cell_type": "code",
   "execution_count": 25,
   "metadata": {},
   "outputs": [],
   "source": [
    "df['fds'] = df['dia_da_semana'].apply(lambda x: 1 if x=='Sunday' or x =='Saturday' else 0)"
   ]
  },
  {
   "cell_type": "markdown",
   "metadata": {},
   "source": [
    " - Criando a coluna assalto."
   ]
  },
  {
   "cell_type": "markdown",
   "metadata": {},
   "source": [
    "## Criando a coluna de crimes relacionados a assaltos/roubos.\n",
    "\n",
    "\n",
    "\n",
    "    De acordo com a definição dos crimes, classificamos os tipos abaixo como sendo crimes de assalto/roubo que são práticas mais violentas e mais se assemelham a realidade do Brasil.\n",
    "    - \n",
    "\n",
    "### felony assault:\n",
    "    - agressão agravada ou agressão envolve circunstâncias que tornam o crime mais grave, como quando a vítima é ameaçada ou experimenta violência significativa que atinge substancialmente mais do que um tapa leve.\n",
    "\n",
    "### robbery:\n",
    "    - a ação de tomar bens ilegalmente de uma pessoa ou lugar pela força ou ameaça de força.\n",
    "\n",
    "### dangerous weapons:\n",
    "    - um objeto que, quando utilizado como instrumento de infração, é capaz de causar lesões corporais graves."
   ]
  },
  {
   "cell_type": "code",
   "execution_count": 26,
   "metadata": {},
   "outputs": [],
   "source": [
    "df['assalto'] = df['descricao_da_ofensa'].apply(lambda x: 1 if x=='ROBBERY' or x =='FELONY ASSAULT' or x=='DANGEROUS WEAPONS'  else 0)"
   ]
  },
  {
   "cell_type": "markdown",
   "metadata": {},
   "source": [
    " - Gerando um arquivo csv."
   ]
  },
  {
   "cell_type": "code",
   "execution_count": 27,
   "metadata": {},
   "outputs": [],
   "source": [
    "df.to_csv('dados_processados.csv' ,index =False , encoding = 'utf-8')"
   ]
  },
  {
   "cell_type": "code",
   "execution_count": null,
   "metadata": {},
   "outputs": [],
   "source": []
  }
 ],
 "metadata": {
  "colab": {
   "collapsed_sections": [],
   "name": "Crimes.ipynb",
   "provenance": []
  },
  "kernelspec": {
   "display_name": "Python 3",
   "language": "python",
   "name": "python3"
  },
  "language_info": {
   "codemirror_mode": {
    "name": "ipython",
    "version": 3
   },
   "file_extension": ".py",
   "mimetype": "text/x-python",
   "name": "python",
   "nbconvert_exporter": "python",
   "pygments_lexer": "ipython3",
   "version": "3.8.3"
  }
 },
 "nbformat": 4,
 "nbformat_minor": 1
}
