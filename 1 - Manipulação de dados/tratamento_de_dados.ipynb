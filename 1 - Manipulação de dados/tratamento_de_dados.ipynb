{
 "cells": [
  {
   "cell_type": "markdown",
   "metadata": {},
   "source": [
    "[dataset NY] https://data.cityofnewyork.us/Public-Safety/NYPD-Arrest-Data-Year-to-Date-/uip8-fykc\n",
    "\n",
    "Utilizando o link está acima, baixei o dataset que faz referência as prisões em NYC desde 2006 até o ano de 2020.\n",
    "\n",
    "Neste notebook os dados foram carregados e passaram por uma manipulação , inclusive criando algumas features ajudar o modelo de classificação de assaltos."
   ]
  },
  {
   "cell_type": "code",
   "execution_count": 1,
   "metadata": {
    "id": "0DNZozzCmSlw"
   },
   "outputs": [],
   "source": [
    "import pandas as pd\n",
    "import seaborn as sns\n",
    "import matplotlib.pyplot as plt\n",
    "import numpy as np\n",
    "import datetime\n",
    "from datetime import date"
   ]
  },
  {
   "cell_type": "markdown",
   "metadata": {
    "id": "lr8J1v6bNKwO"
   },
   "source": [
    "- Carregando os dados da série histórica e os dados do ano de 2020."
   ]
  },
  {
   "cell_type": "code",
   "execution_count": 2,
   "metadata": {
    "colab": {
     "base_uri": "https://localhost:8080/",
     "height": 411
    },
    "id": "Ouevy_67mSl0",
    "outputId": "1880f31c-f19f-4a12-d47e-966796bd7585"
   },
   "outputs": [
    {
     "data": {
      "text/html": [
       "<div>\n",
       "<style scoped>\n",
       "    .dataframe tbody tr th:only-of-type {\n",
       "        vertical-align: middle;\n",
       "    }\n",
       "\n",
       "    .dataframe tbody tr th {\n",
       "        vertical-align: top;\n",
       "    }\n",
       "\n",
       "    .dataframe thead th {\n",
       "        text-align: right;\n",
       "    }\n",
       "</style>\n",
       "<table border=\"1\" class=\"dataframe\">\n",
       "  <thead>\n",
       "    <tr style=\"text-align: right;\">\n",
       "      <th></th>\n",
       "      <th>ARREST_KEY</th>\n",
       "      <th>ARREST_DATE</th>\n",
       "      <th>PD_CD</th>\n",
       "      <th>PD_DESC</th>\n",
       "      <th>KY_CD</th>\n",
       "      <th>OFNS_DESC</th>\n",
       "      <th>LAW_CODE</th>\n",
       "      <th>LAW_CAT_CD</th>\n",
       "      <th>ARREST_BORO</th>\n",
       "      <th>ARREST_PRECINCT</th>\n",
       "      <th>JURISDICTION_CODE</th>\n",
       "      <th>AGE_GROUP</th>\n",
       "      <th>PERP_SEX</th>\n",
       "      <th>PERP_RACE</th>\n",
       "      <th>X_COORD_CD</th>\n",
       "      <th>Y_COORD_CD</th>\n",
       "      <th>Latitude</th>\n",
       "      <th>Longitude</th>\n",
       "      <th>Lon_Lat</th>\n",
       "    </tr>\n",
       "  </thead>\n",
       "  <tbody>\n",
       "    <tr>\n",
       "      <th>0</th>\n",
       "      <td>32311380</td>\n",
       "      <td>06/18/2007</td>\n",
       "      <td>511.0</td>\n",
       "      <td>CONTROLLED SUBSTANCE, POSSESSION 7</td>\n",
       "      <td>235.0</td>\n",
       "      <td>DANGEROUS DRUGS</td>\n",
       "      <td>PL 2200300</td>\n",
       "      <td>M</td>\n",
       "      <td>Q</td>\n",
       "      <td>27</td>\n",
       "      <td>1.0</td>\n",
       "      <td>18-24</td>\n",
       "      <td>M</td>\n",
       "      <td>BLACK</td>\n",
       "      <td>NaN</td>\n",
       "      <td>NaN</td>\n",
       "      <td>NaN</td>\n",
       "      <td>NaN</td>\n",
       "      <td>NaN</td>\n",
       "    </tr>\n",
       "    <tr>\n",
       "      <th>1</th>\n",
       "      <td>192799737</td>\n",
       "      <td>01/26/2019</td>\n",
       "      <td>177.0</td>\n",
       "      <td>SEXUAL ABUSE</td>\n",
       "      <td>116.0</td>\n",
       "      <td>SEX CRIMES</td>\n",
       "      <td>PL 1306503</td>\n",
       "      <td>F</td>\n",
       "      <td>M</td>\n",
       "      <td>25</td>\n",
       "      <td>0.0</td>\n",
       "      <td>45-64</td>\n",
       "      <td>M</td>\n",
       "      <td>BLACK</td>\n",
       "      <td>1000555.0</td>\n",
       "      <td>230994.0</td>\n",
       "      <td>40.800694</td>\n",
       "      <td>-73.941109</td>\n",
       "      <td>POINT (-73.94110928599997 40.800694331000045)</td>\n",
       "    </tr>\n",
       "    <tr>\n",
       "      <th>2</th>\n",
       "      <td>193260691</td>\n",
       "      <td>02/06/2019</td>\n",
       "      <td>NaN</td>\n",
       "      <td>NaN</td>\n",
       "      <td>NaN</td>\n",
       "      <td>NaN</td>\n",
       "      <td>PL 2203400</td>\n",
       "      <td>F</td>\n",
       "      <td>M</td>\n",
       "      <td>14</td>\n",
       "      <td>0.0</td>\n",
       "      <td>25-44</td>\n",
       "      <td>M</td>\n",
       "      <td>UNKNOWN</td>\n",
       "      <td>986685.0</td>\n",
       "      <td>215375.0</td>\n",
       "      <td>40.757839</td>\n",
       "      <td>-73.991212</td>\n",
       "      <td>POINT (-73.99121211099998 40.75783900300007)</td>\n",
       "    </tr>\n",
       "    <tr>\n",
       "      <th>3</th>\n",
       "      <td>149117452</td>\n",
       "      <td>01/06/2016</td>\n",
       "      <td>153.0</td>\n",
       "      <td>RAPE 3</td>\n",
       "      <td>104.0</td>\n",
       "      <td>RAPE</td>\n",
       "      <td>PL 1302503</td>\n",
       "      <td>F</td>\n",
       "      <td>K</td>\n",
       "      <td>67</td>\n",
       "      <td>0.0</td>\n",
       "      <td>25-44</td>\n",
       "      <td>M</td>\n",
       "      <td>BLACK</td>\n",
       "      <td>998032.0</td>\n",
       "      <td>175598.0</td>\n",
       "      <td>40.648650</td>\n",
       "      <td>-73.950336</td>\n",
       "      <td>POINT (-73.95033556299995 40.648650085000035)</td>\n",
       "    </tr>\n",
       "    <tr>\n",
       "      <th>4</th>\n",
       "      <td>190049060</td>\n",
       "      <td>11/15/2018</td>\n",
       "      <td>157.0</td>\n",
       "      <td>RAPE 1</td>\n",
       "      <td>104.0</td>\n",
       "      <td>RAPE</td>\n",
       "      <td>PL 1303501</td>\n",
       "      <td>F</td>\n",
       "      <td>K</td>\n",
       "      <td>77</td>\n",
       "      <td>0.0</td>\n",
       "      <td>25-44</td>\n",
       "      <td>M</td>\n",
       "      <td>BLACK</td>\n",
       "      <td>1003606.0</td>\n",
       "      <td>185050.0</td>\n",
       "      <td>40.674583</td>\n",
       "      <td>-73.930222</td>\n",
       "      <td>POINT (-73.93022154099998 40.67458330800008)</td>\n",
       "    </tr>\n",
       "  </tbody>\n",
       "</table>\n",
       "</div>"
      ],
      "text/plain": [
       "   ARREST_KEY ARREST_DATE  PD_CD                             PD_DESC  KY_CD  \\\n",
       "0    32311380  06/18/2007  511.0  CONTROLLED SUBSTANCE, POSSESSION 7  235.0   \n",
       "1   192799737  01/26/2019  177.0                        SEXUAL ABUSE  116.0   \n",
       "2   193260691  02/06/2019    NaN                                 NaN    NaN   \n",
       "3   149117452  01/06/2016  153.0                              RAPE 3  104.0   \n",
       "4   190049060  11/15/2018  157.0                              RAPE 1  104.0   \n",
       "\n",
       "         OFNS_DESC    LAW_CODE LAW_CAT_CD ARREST_BORO  ARREST_PRECINCT  \\\n",
       "0  DANGEROUS DRUGS  PL 2200300          M           Q               27   \n",
       "1       SEX CRIMES  PL 1306503          F           M               25   \n",
       "2              NaN  PL 2203400          F           M               14   \n",
       "3             RAPE  PL 1302503          F           K               67   \n",
       "4             RAPE  PL 1303501          F           K               77   \n",
       "\n",
       "   JURISDICTION_CODE AGE_GROUP PERP_SEX PERP_RACE  X_COORD_CD  Y_COORD_CD  \\\n",
       "0                1.0     18-24        M     BLACK         NaN         NaN   \n",
       "1                0.0     45-64        M     BLACK   1000555.0    230994.0   \n",
       "2                0.0     25-44        M   UNKNOWN    986685.0    215375.0   \n",
       "3                0.0     25-44        M     BLACK    998032.0    175598.0   \n",
       "4                0.0     25-44        M     BLACK   1003606.0    185050.0   \n",
       "\n",
       "    Latitude  Longitude                                        Lon_Lat  \n",
       "0        NaN        NaN                                            NaN  \n",
       "1  40.800694 -73.941109  POINT (-73.94110928599997 40.800694331000045)  \n",
       "2  40.757839 -73.991212   POINT (-73.99121211099998 40.75783900300007)  \n",
       "3  40.648650 -73.950336  POINT (-73.95033556299995 40.648650085000035)  \n",
       "4  40.674583 -73.930222   POINT (-73.93022154099998 40.67458330800008)  "
      ]
     },
     "execution_count": 2,
     "metadata": {},
     "output_type": "execute_result"
    }
   ],
   "source": [
    "df1 = pd.read_csv('dados_hist.csv')\n",
    "df1.head()"
   ]
  },
  {
   "cell_type": "code",
   "execution_count": 3,
   "metadata": {
    "colab": {
     "base_uri": "https://localhost:8080/",
     "height": 411
    },
    "id": "DI-pzyk2NROj",
    "outputId": "f607b3d5-cc6e-4622-e519-71211a4333b5"
   },
   "outputs": [
    {
     "data": {
      "text/html": [
       "<div>\n",
       "<style scoped>\n",
       "    .dataframe tbody tr th:only-of-type {\n",
       "        vertical-align: middle;\n",
       "    }\n",
       "\n",
       "    .dataframe tbody tr th {\n",
       "        vertical-align: top;\n",
       "    }\n",
       "\n",
       "    .dataframe thead th {\n",
       "        text-align: right;\n",
       "    }\n",
       "</style>\n",
       "<table border=\"1\" class=\"dataframe\">\n",
       "  <thead>\n",
       "    <tr style=\"text-align: right;\">\n",
       "      <th></th>\n",
       "      <th>ARREST_KEY</th>\n",
       "      <th>ARREST_DATE</th>\n",
       "      <th>PD_CD</th>\n",
       "      <th>PD_DESC</th>\n",
       "      <th>KY_CD</th>\n",
       "      <th>OFNS_DESC</th>\n",
       "      <th>LAW_CODE</th>\n",
       "      <th>LAW_CAT_CD</th>\n",
       "      <th>ARREST_BORO</th>\n",
       "      <th>ARREST_PRECINCT</th>\n",
       "      <th>JURISDICTION_CODE</th>\n",
       "      <th>AGE_GROUP</th>\n",
       "      <th>PERP_SEX</th>\n",
       "      <th>PERP_RACE</th>\n",
       "      <th>X_COORD_CD</th>\n",
       "      <th>Y_COORD_CD</th>\n",
       "      <th>Latitude</th>\n",
       "      <th>Longitude</th>\n",
       "      <th>New Georeferenced Column</th>\n",
       "    </tr>\n",
       "  </thead>\n",
       "  <tbody>\n",
       "    <tr>\n",
       "      <th>0</th>\n",
       "      <td>222243929</td>\n",
       "      <td>12/25/2020</td>\n",
       "      <td>105.0</td>\n",
       "      <td>STRANGULATION 1ST</td>\n",
       "      <td>106.0</td>\n",
       "      <td>FELONY ASSAULT</td>\n",
       "      <td>PL 1211200</td>\n",
       "      <td>F</td>\n",
       "      <td>B</td>\n",
       "      <td>40</td>\n",
       "      <td>0</td>\n",
       "      <td>25-44</td>\n",
       "      <td>M</td>\n",
       "      <td>BLACK</td>\n",
       "      <td>1007453</td>\n",
       "      <td>233952</td>\n",
       "      <td>40.808798</td>\n",
       "      <td>-73.916184</td>\n",
       "      <td>POINT (-73.91618413199996 40.80879780500004)</td>\n",
       "    </tr>\n",
       "    <tr>\n",
       "      <th>1</th>\n",
       "      <td>222115778</td>\n",
       "      <td>12/22/2020</td>\n",
       "      <td>397.0</td>\n",
       "      <td>ROBBERY,OPEN AREA UNCLASSIFIED</td>\n",
       "      <td>105.0</td>\n",
       "      <td>ROBBERY</td>\n",
       "      <td>PL 1601001</td>\n",
       "      <td>F</td>\n",
       "      <td>M</td>\n",
       "      <td>33</td>\n",
       "      <td>0</td>\n",
       "      <td>18-24</td>\n",
       "      <td>M</td>\n",
       "      <td>BLACK HISPANIC</td>\n",
       "      <td>1001456</td>\n",
       "      <td>247485</td>\n",
       "      <td>40.845956</td>\n",
       "      <td>-73.937813</td>\n",
       "      <td>POINT (-73.93781267199995 40.84595574000008)</td>\n",
       "    </tr>\n",
       "    <tr>\n",
       "      <th>2</th>\n",
       "      <td>222090516</td>\n",
       "      <td>12/21/2020</td>\n",
       "      <td>105.0</td>\n",
       "      <td>STRANGULATION 1ST</td>\n",
       "      <td>106.0</td>\n",
       "      <td>FELONY ASSAULT</td>\n",
       "      <td>PL 1211200</td>\n",
       "      <td>F</td>\n",
       "      <td>Q</td>\n",
       "      <td>106</td>\n",
       "      <td>0</td>\n",
       "      <td>25-44</td>\n",
       "      <td>M</td>\n",
       "      <td>BLACK</td>\n",
       "      <td>1028605</td>\n",
       "      <td>187930</td>\n",
       "      <td>40.682398</td>\n",
       "      <td>-73.840079</td>\n",
       "      <td>POINT (-73.84007936899997 40.68239828900005)</td>\n",
       "    </tr>\n",
       "    <tr>\n",
       "      <th>3</th>\n",
       "      <td>221653577</td>\n",
       "      <td>12/10/2020</td>\n",
       "      <td>105.0</td>\n",
       "      <td>STRANGULATION 1ST</td>\n",
       "      <td>106.0</td>\n",
       "      <td>FELONY ASSAULT</td>\n",
       "      <td>PL 1211200</td>\n",
       "      <td>F</td>\n",
       "      <td>Q</td>\n",
       "      <td>103</td>\n",
       "      <td>0</td>\n",
       "      <td>18-24</td>\n",
       "      <td>M</td>\n",
       "      <td>BLACK</td>\n",
       "      <td>1039602</td>\n",
       "      <td>190480</td>\n",
       "      <td>40.689336</td>\n",
       "      <td>-73.800409</td>\n",
       "      <td>POINT (-73.80040882999998 40.68933550400004)</td>\n",
       "    </tr>\n",
       "    <tr>\n",
       "      <th>4</th>\n",
       "      <td>221599602</td>\n",
       "      <td>12/09/2020</td>\n",
       "      <td>729.0</td>\n",
       "      <td>FORGERY,ETC.,UNCLASSIFIED-FELO</td>\n",
       "      <td>113.0</td>\n",
       "      <td>FORGERY</td>\n",
       "      <td>PL 1702500</td>\n",
       "      <td>F</td>\n",
       "      <td>S</td>\n",
       "      <td>120</td>\n",
       "      <td>0</td>\n",
       "      <td>18-24</td>\n",
       "      <td>M</td>\n",
       "      <td>BLACK</td>\n",
       "      <td>949767</td>\n",
       "      <td>170539</td>\n",
       "      <td>40.634708</td>\n",
       "      <td>-74.124241</td>\n",
       "      <td>POINT (-74.12424111699994 40.634707811000055)</td>\n",
       "    </tr>\n",
       "  </tbody>\n",
       "</table>\n",
       "</div>"
      ],
      "text/plain": [
       "   ARREST_KEY ARREST_DATE  PD_CD                         PD_DESC  KY_CD  \\\n",
       "0   222243929  12/25/2020  105.0               STRANGULATION 1ST  106.0   \n",
       "1   222115778  12/22/2020  397.0  ROBBERY,OPEN AREA UNCLASSIFIED  105.0   \n",
       "2   222090516  12/21/2020  105.0               STRANGULATION 1ST  106.0   \n",
       "3   221653577  12/10/2020  105.0               STRANGULATION 1ST  106.0   \n",
       "4   221599602  12/09/2020  729.0  FORGERY,ETC.,UNCLASSIFIED-FELO  113.0   \n",
       "\n",
       "        OFNS_DESC    LAW_CODE LAW_CAT_CD ARREST_BORO  ARREST_PRECINCT  \\\n",
       "0  FELONY ASSAULT  PL 1211200          F           B               40   \n",
       "1         ROBBERY  PL 1601001          F           M               33   \n",
       "2  FELONY ASSAULT  PL 1211200          F           Q              106   \n",
       "3  FELONY ASSAULT  PL 1211200          F           Q              103   \n",
       "4         FORGERY  PL 1702500          F           S              120   \n",
       "\n",
       "   JURISDICTION_CODE AGE_GROUP PERP_SEX       PERP_RACE  X_COORD_CD  \\\n",
       "0                  0     25-44        M           BLACK     1007453   \n",
       "1                  0     18-24        M  BLACK HISPANIC     1001456   \n",
       "2                  0     25-44        M           BLACK     1028605   \n",
       "3                  0     18-24        M           BLACK     1039602   \n",
       "4                  0     18-24        M           BLACK      949767   \n",
       "\n",
       "   Y_COORD_CD   Latitude  Longitude  \\\n",
       "0      233952  40.808798 -73.916184   \n",
       "1      247485  40.845956 -73.937813   \n",
       "2      187930  40.682398 -73.840079   \n",
       "3      190480  40.689336 -73.800409   \n",
       "4      170539  40.634708 -74.124241   \n",
       "\n",
       "                        New Georeferenced Column  \n",
       "0   POINT (-73.91618413199996 40.80879780500004)  \n",
       "1   POINT (-73.93781267199995 40.84595574000008)  \n",
       "2   POINT (-73.84007936899997 40.68239828900005)  \n",
       "3   POINT (-73.80040882999998 40.68933550400004)  \n",
       "4  POINT (-74.12424111699994 40.634707811000055)  "
      ]
     },
     "execution_count": 3,
     "metadata": {},
     "output_type": "execute_result"
    }
   ],
   "source": [
    "df2 = pd.read_csv('dataset.csv')\n",
    "df2.head()"
   ]
  },
  {
   "cell_type": "markdown",
   "metadata": {
    "id": "h5bmkTYPOR-S"
   },
   "source": [
    "- Excluindo algumas colunas."
   ]
  },
  {
   "cell_type": "code",
   "execution_count": 4,
   "metadata": {
    "id": "NGc4yVMmm3us"
   },
   "outputs": [],
   "source": [
    "df1 = df1.drop(['ARREST_KEY', 'PD_CD', 'PD_DESC', 'KY_CD', 'LAW_CODE','ARREST_PRECINCT', 'JURISDICTION_CODE', 'X_COORD_CD', 'Y_COORD_CD','Lon_Lat'], axis=1)\n",
    "df2 = df2.drop(['ARREST_KEY', 'PD_CD', 'PD_DESC', 'KY_CD', 'LAW_CODE','ARREST_PRECINCT', 'JURISDICTION_CODE', 'X_COORD_CD', 'Y_COORD_CD','New Georeferenced Column'], axis=1)"
   ]
  },
  {
   "cell_type": "markdown",
   "metadata": {
    "id": "vXvZ-3DuOX1A"
   },
   "source": [
    "- Unindo os 2 datasets."
   ]
  },
  {
   "cell_type": "code",
   "execution_count": 5,
   "metadata": {
    "id": "WhkQY4KNOcFs"
   },
   "outputs": [],
   "source": [
    "df = pd.concat([df1,df2])"
   ]
  },
  {
   "cell_type": "code",
   "execution_count": 6,
   "metadata": {
    "colab": {
     "base_uri": "https://localhost:8080/"
    },
    "id": "pAa8rrqumSl2",
    "outputId": "be4aa0ac-932d-4075-ed59-a3d2d2d57f86"
   },
   "outputs": [
    {
     "data": {
      "text/plain": [
       "(5153369, 9)"
      ]
     },
     "execution_count": 6,
     "metadata": {},
     "output_type": "execute_result"
    }
   ],
   "source": [
    "df.shape"
   ]
  },
  {
   "cell_type": "code",
   "execution_count": 7,
   "metadata": {
    "colab": {
     "base_uri": "https://localhost:8080/"
    },
    "id": "QZgcGKUPmSl4",
    "outputId": "96e45c3a-a12b-4da0-d693-f22dee555445"
   },
   "outputs": [
    {
     "data": {
      "text/plain": [
       "ARREST_DATE        0\n",
       "OFNS_DESC       9066\n",
       "LAW_CAT_CD     18861\n",
       "ARREST_BORO        8\n",
       "AGE_GROUP         17\n",
       "PERP_SEX           0\n",
       "PERP_RACE          0\n",
       "Latitude           1\n",
       "Longitude          1\n",
       "dtype: int64"
      ]
     },
     "execution_count": 7,
     "metadata": {},
     "output_type": "execute_result"
    }
   ],
   "source": [
    "df.isnull().sum()"
   ]
  },
  {
   "cell_type": "code",
   "execution_count": 8,
   "metadata": {
    "id": "Rfjh3lCKmSl5"
   },
   "outputs": [],
   "source": [
    "df = df.dropna()"
   ]
  },
  {
   "cell_type": "code",
   "execution_count": 9,
   "metadata": {
    "colab": {
     "base_uri": "https://localhost:8080/",
     "height": 204
    },
    "id": "d6lpWxZhmSl7",
    "outputId": "a7e7f3a7-ccfa-4999-afe3-ebca1d7c01e4"
   },
   "outputs": [
    {
     "data": {
      "text/html": [
       "<div>\n",
       "<style scoped>\n",
       "    .dataframe tbody tr th:only-of-type {\n",
       "        vertical-align: middle;\n",
       "    }\n",
       "\n",
       "    .dataframe tbody tr th {\n",
       "        vertical-align: top;\n",
       "    }\n",
       "\n",
       "    .dataframe thead th {\n",
       "        text-align: right;\n",
       "    }\n",
       "</style>\n",
       "<table border=\"1\" class=\"dataframe\">\n",
       "  <thead>\n",
       "    <tr style=\"text-align: right;\">\n",
       "      <th></th>\n",
       "      <th>ARREST_DATE</th>\n",
       "      <th>OFNS_DESC</th>\n",
       "      <th>LAW_CAT_CD</th>\n",
       "      <th>ARREST_BORO</th>\n",
       "      <th>AGE_GROUP</th>\n",
       "      <th>PERP_SEX</th>\n",
       "      <th>PERP_RACE</th>\n",
       "      <th>Latitude</th>\n",
       "      <th>Longitude</th>\n",
       "    </tr>\n",
       "  </thead>\n",
       "  <tbody>\n",
       "    <tr>\n",
       "      <th>1</th>\n",
       "      <td>01/26/2019</td>\n",
       "      <td>SEX CRIMES</td>\n",
       "      <td>F</td>\n",
       "      <td>M</td>\n",
       "      <td>45-64</td>\n",
       "      <td>M</td>\n",
       "      <td>BLACK</td>\n",
       "      <td>40.800694</td>\n",
       "      <td>-73.941109</td>\n",
       "    </tr>\n",
       "    <tr>\n",
       "      <th>3</th>\n",
       "      <td>01/06/2016</td>\n",
       "      <td>RAPE</td>\n",
       "      <td>F</td>\n",
       "      <td>K</td>\n",
       "      <td>25-44</td>\n",
       "      <td>M</td>\n",
       "      <td>BLACK</td>\n",
       "      <td>40.648650</td>\n",
       "      <td>-73.950336</td>\n",
       "    </tr>\n",
       "    <tr>\n",
       "      <th>4</th>\n",
       "      <td>11/15/2018</td>\n",
       "      <td>RAPE</td>\n",
       "      <td>F</td>\n",
       "      <td>K</td>\n",
       "      <td>25-44</td>\n",
       "      <td>M</td>\n",
       "      <td>BLACK</td>\n",
       "      <td>40.674583</td>\n",
       "      <td>-73.930222</td>\n",
       "    </tr>\n",
       "    <tr>\n",
       "      <th>5</th>\n",
       "      <td>09/13/2006</td>\n",
       "      <td>CRIMINAL TRESPASS</td>\n",
       "      <td>M</td>\n",
       "      <td>K</td>\n",
       "      <td>45-64</td>\n",
       "      <td>M</td>\n",
       "      <td>BLACK</td>\n",
       "      <td>40.671254</td>\n",
       "      <td>-73.926714</td>\n",
       "    </tr>\n",
       "    <tr>\n",
       "      <th>6</th>\n",
       "      <td>10/24/2018</td>\n",
       "      <td>RAPE</td>\n",
       "      <td>F</td>\n",
       "      <td>M</td>\n",
       "      <td>45-64</td>\n",
       "      <td>M</td>\n",
       "      <td>WHITE HISPANIC</td>\n",
       "      <td>40.716196</td>\n",
       "      <td>-73.997491</td>\n",
       "    </tr>\n",
       "  </tbody>\n",
       "</table>\n",
       "</div>"
      ],
      "text/plain": [
       "  ARREST_DATE          OFNS_DESC LAW_CAT_CD ARREST_BORO AGE_GROUP PERP_SEX  \\\n",
       "1  01/26/2019         SEX CRIMES          F           M     45-64        M   \n",
       "3  01/06/2016               RAPE          F           K     25-44        M   \n",
       "4  11/15/2018               RAPE          F           K     25-44        M   \n",
       "5  09/13/2006  CRIMINAL TRESPASS          M           K     45-64        M   \n",
       "6  10/24/2018               RAPE          F           M     45-64        M   \n",
       "\n",
       "        PERP_RACE   Latitude  Longitude  \n",
       "1           BLACK  40.800694 -73.941109  \n",
       "3           BLACK  40.648650 -73.950336  \n",
       "4           BLACK  40.674583 -73.930222  \n",
       "5           BLACK  40.671254 -73.926714  \n",
       "6  WHITE HISPANIC  40.716196 -73.997491  "
      ]
     },
     "execution_count": 9,
     "metadata": {},
     "output_type": "execute_result"
    }
   ],
   "source": [
    "df.head()"
   ]
  },
  {
   "cell_type": "code",
   "execution_count": 10,
   "metadata": {
    "colab": {
     "base_uri": "https://localhost:8080/",
     "height": 204
    },
    "id": "PGd3_KH_OkQ0",
    "outputId": "be7ea027-6d5f-4172-d0d6-774f86e8f13c"
   },
   "outputs": [
    {
     "data": {
      "text/html": [
       "<div>\n",
       "<style scoped>\n",
       "    .dataframe tbody tr th:only-of-type {\n",
       "        vertical-align: middle;\n",
       "    }\n",
       "\n",
       "    .dataframe tbody tr th {\n",
       "        vertical-align: top;\n",
       "    }\n",
       "\n",
       "    .dataframe thead th {\n",
       "        text-align: right;\n",
       "    }\n",
       "</style>\n",
       "<table border=\"1\" class=\"dataframe\">\n",
       "  <thead>\n",
       "    <tr style=\"text-align: right;\">\n",
       "      <th></th>\n",
       "      <th>ARREST_DATE</th>\n",
       "      <th>OFNS_DESC</th>\n",
       "      <th>LAW_CAT_CD</th>\n",
       "      <th>ARREST_BORO</th>\n",
       "      <th>AGE_GROUP</th>\n",
       "      <th>PERP_SEX</th>\n",
       "      <th>PERP_RACE</th>\n",
       "      <th>Latitude</th>\n",
       "      <th>Longitude</th>\n",
       "    </tr>\n",
       "  </thead>\n",
       "  <tbody>\n",
       "    <tr>\n",
       "      <th>140408</th>\n",
       "      <td>01/07/2020</td>\n",
       "      <td>DANGEROUS WEAPONS</td>\n",
       "      <td>F</td>\n",
       "      <td>K</td>\n",
       "      <td>18-24</td>\n",
       "      <td>M</td>\n",
       "      <td>BLACK</td>\n",
       "      <td>40.688783</td>\n",
       "      <td>-73.947893</td>\n",
       "    </tr>\n",
       "    <tr>\n",
       "      <th>140409</th>\n",
       "      <td>01/04/2020</td>\n",
       "      <td>DANGEROUS DRUGS</td>\n",
       "      <td>F</td>\n",
       "      <td>Q</td>\n",
       "      <td>25-44</td>\n",
       "      <td>M</td>\n",
       "      <td>WHITE</td>\n",
       "      <td>40.700591</td>\n",
       "      <td>-73.807743</td>\n",
       "    </tr>\n",
       "    <tr>\n",
       "      <th>140410</th>\n",
       "      <td>01/11/2020</td>\n",
       "      <td>FRAUDS</td>\n",
       "      <td>M</td>\n",
       "      <td>S</td>\n",
       "      <td>18-24</td>\n",
       "      <td>M</td>\n",
       "      <td>WHITE HISPANIC</td>\n",
       "      <td>40.638126</td>\n",
       "      <td>-74.087467</td>\n",
       "    </tr>\n",
       "    <tr>\n",
       "      <th>140411</th>\n",
       "      <td>01/08/2020</td>\n",
       "      <td>DANGEROUS WEAPONS</td>\n",
       "      <td>F</td>\n",
       "      <td>K</td>\n",
       "      <td>25-44</td>\n",
       "      <td>M</td>\n",
       "      <td>WHITE HISPANIC</td>\n",
       "      <td>40.682289</td>\n",
       "      <td>-73.985233</td>\n",
       "    </tr>\n",
       "    <tr>\n",
       "      <th>140412</th>\n",
       "      <td>01/01/2020</td>\n",
       "      <td>INTOXICATED &amp; IMPAIRED DRIVING</td>\n",
       "      <td>M</td>\n",
       "      <td>Q</td>\n",
       "      <td>25-44</td>\n",
       "      <td>F</td>\n",
       "      <td>WHITE HISPANIC</td>\n",
       "      <td>40.746043</td>\n",
       "      <td>-73.934402</td>\n",
       "    </tr>\n",
       "  </tbody>\n",
       "</table>\n",
       "</div>"
      ],
      "text/plain": [
       "       ARREST_DATE                       OFNS_DESC LAW_CAT_CD ARREST_BORO  \\\n",
       "140408  01/07/2020               DANGEROUS WEAPONS          F           K   \n",
       "140409  01/04/2020                 DANGEROUS DRUGS          F           Q   \n",
       "140410  01/11/2020                          FRAUDS          M           S   \n",
       "140411  01/08/2020               DANGEROUS WEAPONS          F           K   \n",
       "140412  01/01/2020  INTOXICATED & IMPAIRED DRIVING          M           Q   \n",
       "\n",
       "       AGE_GROUP PERP_SEX       PERP_RACE   Latitude  Longitude  \n",
       "140408     18-24        M           BLACK  40.688783 -73.947893  \n",
       "140409     25-44        M           WHITE  40.700591 -73.807743  \n",
       "140410     18-24        M  WHITE HISPANIC  40.638126 -74.087467  \n",
       "140411     25-44        M  WHITE HISPANIC  40.682289 -73.985233  \n",
       "140412     25-44        F  WHITE HISPANIC  40.746043 -73.934402  "
      ]
     },
     "execution_count": 10,
     "metadata": {},
     "output_type": "execute_result"
    }
   ],
   "source": [
    "df.tail()"
   ]
  },
  {
   "cell_type": "code",
   "execution_count": 11,
   "metadata": {
    "id": "kgn_6MJzmSl7"
   },
   "outputs": [],
   "source": [
    "#  Renomeando as colunas\n",
    "\n",
    "df.columns = ['data_da_ocorrencia','descricao_da_ofensa','nivel_da_ofensa','bairro'\n",
    "                     ,'idade_do_infrator','sexo_do_infrator','raca_do_infrator','latitude','longitude']"
   ]
  },
  {
   "cell_type": "code",
   "execution_count": 12,
   "metadata": {
    "colab": {
     "base_uri": "https://localhost:8080/",
     "height": 204
    },
    "id": "ywv6WwHXmSl8",
    "outputId": "9d3355fa-8c30-42ee-e9e5-d96286cbf756"
   },
   "outputs": [
    {
     "data": {
      "text/html": [
       "<div>\n",
       "<style scoped>\n",
       "    .dataframe tbody tr th:only-of-type {\n",
       "        vertical-align: middle;\n",
       "    }\n",
       "\n",
       "    .dataframe tbody tr th {\n",
       "        vertical-align: top;\n",
       "    }\n",
       "\n",
       "    .dataframe thead th {\n",
       "        text-align: right;\n",
       "    }\n",
       "</style>\n",
       "<table border=\"1\" class=\"dataframe\">\n",
       "  <thead>\n",
       "    <tr style=\"text-align: right;\">\n",
       "      <th></th>\n",
       "      <th>data_da_ocorrencia</th>\n",
       "      <th>descricao_da_ofensa</th>\n",
       "      <th>nivel_da_ofensa</th>\n",
       "      <th>bairro</th>\n",
       "      <th>idade_do_infrator</th>\n",
       "      <th>sexo_do_infrator</th>\n",
       "      <th>raca_do_infrator</th>\n",
       "      <th>latitude</th>\n",
       "      <th>longitude</th>\n",
       "    </tr>\n",
       "  </thead>\n",
       "  <tbody>\n",
       "    <tr>\n",
       "      <th>1</th>\n",
       "      <td>01/26/2019</td>\n",
       "      <td>SEX CRIMES</td>\n",
       "      <td>F</td>\n",
       "      <td>M</td>\n",
       "      <td>45-64</td>\n",
       "      <td>M</td>\n",
       "      <td>BLACK</td>\n",
       "      <td>40.800694</td>\n",
       "      <td>-73.941109</td>\n",
       "    </tr>\n",
       "    <tr>\n",
       "      <th>3</th>\n",
       "      <td>01/06/2016</td>\n",
       "      <td>RAPE</td>\n",
       "      <td>F</td>\n",
       "      <td>K</td>\n",
       "      <td>25-44</td>\n",
       "      <td>M</td>\n",
       "      <td>BLACK</td>\n",
       "      <td>40.648650</td>\n",
       "      <td>-73.950336</td>\n",
       "    </tr>\n",
       "    <tr>\n",
       "      <th>4</th>\n",
       "      <td>11/15/2018</td>\n",
       "      <td>RAPE</td>\n",
       "      <td>F</td>\n",
       "      <td>K</td>\n",
       "      <td>25-44</td>\n",
       "      <td>M</td>\n",
       "      <td>BLACK</td>\n",
       "      <td>40.674583</td>\n",
       "      <td>-73.930222</td>\n",
       "    </tr>\n",
       "    <tr>\n",
       "      <th>5</th>\n",
       "      <td>09/13/2006</td>\n",
       "      <td>CRIMINAL TRESPASS</td>\n",
       "      <td>M</td>\n",
       "      <td>K</td>\n",
       "      <td>45-64</td>\n",
       "      <td>M</td>\n",
       "      <td>BLACK</td>\n",
       "      <td>40.671254</td>\n",
       "      <td>-73.926714</td>\n",
       "    </tr>\n",
       "    <tr>\n",
       "      <th>6</th>\n",
       "      <td>10/24/2018</td>\n",
       "      <td>RAPE</td>\n",
       "      <td>F</td>\n",
       "      <td>M</td>\n",
       "      <td>45-64</td>\n",
       "      <td>M</td>\n",
       "      <td>WHITE HISPANIC</td>\n",
       "      <td>40.716196</td>\n",
       "      <td>-73.997491</td>\n",
       "    </tr>\n",
       "  </tbody>\n",
       "</table>\n",
       "</div>"
      ],
      "text/plain": [
       "  data_da_ocorrencia descricao_da_ofensa nivel_da_ofensa bairro  \\\n",
       "1         01/26/2019          SEX CRIMES               F      M   \n",
       "3         01/06/2016                RAPE               F      K   \n",
       "4         11/15/2018                RAPE               F      K   \n",
       "5         09/13/2006   CRIMINAL TRESPASS               M      K   \n",
       "6         10/24/2018                RAPE               F      M   \n",
       "\n",
       "  idade_do_infrator sexo_do_infrator raca_do_infrator   latitude  longitude  \n",
       "1             45-64                M            BLACK  40.800694 -73.941109  \n",
       "3             25-44                M            BLACK  40.648650 -73.950336  \n",
       "4             25-44                M            BLACK  40.674583 -73.930222  \n",
       "5             45-64                M            BLACK  40.671254 -73.926714  \n",
       "6             45-64                M   WHITE HISPANIC  40.716196 -73.997491  "
      ]
     },
     "execution_count": 12,
     "metadata": {},
     "output_type": "execute_result"
    }
   ],
   "source": [
    "df.head()"
   ]
  },
  {
   "cell_type": "code",
   "execution_count": 13,
   "metadata": {
    "id": "7zL7dOIEmSl9"
   },
   "outputs": [],
   "source": [
    "# reorganizando os dados referentes a data \n",
    "\n",
    "def date_to_weekday(date):\n",
    "    weekday_dict = {0:'Monday', 1:'Tuesday', 2: 'Wednesday', 3: 'Thursday', 4: 'Friday', 5: 'Saturday', 6: 'Sunday'}\n",
    "    date_time_obj = datetime.datetime.strptime(date, '%m/%d/%Y')\n",
    "    return weekday_dict[date_time_obj.weekday()]\n",
    "\n",
    "date = df['data_da_ocorrencia'].str.split(\"/\", n = 3, expand = True)\n",
    "df['ano'] = date[2].astype('int32')\n",
    "df['dia'] = date[1].astype('int32')\n",
    "df['mes'] = date[0].astype('int32')\n",
    "df['dia_da_semana'] = df['data_da_ocorrencia'].apply(date_to_weekday)\n",
    "\n",
    "# alterando os dados da coluna nivel_da_ofensa\n",
    "\n",
    "new_nivel_da_ofensa = {'M': \"contravencao\", 'F': \"crime\", 'V': \"violacao\",'I':\"outro\" }\n",
    "df['nivel_da_ofensa'] = df['nivel_da_ofensa'].map(new_nivel_da_ofensa)\n",
    "\n",
    "# alterando os dados da coluna bairro\n",
    "\n",
    "new_bairro = {'B': 'Bronx', 'S': 'Staten_Island', 'K': 'Brooklyn', 'M': 'Manhattan' , 'Q': 'Queens' }\n",
    "df['bairro'] = df['bairro'].map(new_bairro)"
   ]
  },
  {
   "cell_type": "code",
   "execution_count": 14,
   "metadata": {
    "id": "I_witp0CniRR"
   },
   "outputs": [],
   "source": [
    "df[\"data_da_ocorrencia\"] = pd.to_datetime(df[\"data_da_ocorrencia\"]) "
   ]
  },
  {
   "cell_type": "code",
   "execution_count": 15,
   "metadata": {
    "id": "dWDJw5ktmSmA"
   },
   "outputs": [],
   "source": [
    "df = df.sort_values('data_da_ocorrencia')"
   ]
  },
  {
   "cell_type": "code",
   "execution_count": 16,
   "metadata": {
    "colab": {
     "base_uri": "https://localhost:8080/"
    },
    "id": "NMBnxVZNPLcn",
    "outputId": "24011223-b2b1-4edc-ce66-fe008d3ad92f"
   },
   "outputs": [
    {
     "data": {
      "text/plain": [
       "DANGEROUS DRUGS                                1088730\n",
       "ASSAULT 3 & RELATED OFFENSES                    515606\n",
       "OTHER OFFENSES RELATED TO THEFT                 304190\n",
       "OTHER STATE LAWS                                241509\n",
       "PETIT LARCENY                                   221393\n",
       "FELONY ASSAULT                                  210233\n",
       "VEHICLE AND TRAFFIC LAWS                        204881\n",
       "CRIMINAL TRESPASS                               200980\n",
       "DANGEROUS WEAPONS                               197557\n",
       "MISCELLANEOUS PENAL LAW                         185927\n",
       "OTHER TRAFFIC INFRACTION                        175524\n",
       "ROBBERY                                         161287\n",
       "OFFENSES AGAINST PUBLIC ADMINISTRATION          156542\n",
       "POSSESSION OF STOLEN PROPERTY 5                 149875\n",
       "CRIMINAL MISCHIEF & RELATED OFFENSES            146039\n",
       "GRAND LARCENY                                   125987\n",
       "INTOXICATED & IMPAIRED DRIVING                  101637\n",
       "FORGERY                                          84501\n",
       "OTHER STATE LAWS (NON PENAL LAW)                 79195\n",
       "BURGLARY                                         72172\n",
       "OFF. AGNST PUB ORD SENSBLTY & RGHTS TO PRIV      66242\n",
       "PROSTITUTION & RELATED OFFENSES                  47106\n",
       "SEX CRIMES                                       38021\n",
       "DISORDERLY CONDUCT                               30908\n",
       "OFFENSES INVOLVING FRAUD                         27372\n",
       "OFFENSES AGAINST THE PERSON                      23600\n",
       "POSSESSION OF STOLEN PROPERTY                    20638\n",
       "FRAUDS                                           20012\n",
       "CRIMINAL MISCHIEF & RELATED OF                   19596\n",
       "GRAND LARCENY OF MOTOR VEHICLE                   16534\n",
       "Name: descricao_da_ofensa, dtype: int64"
      ]
     },
     "execution_count": 16,
     "metadata": {},
     "output_type": "execute_result"
    }
   ],
   "source": [
    "df.descricao_da_ofensa.value_counts().head(30)"
   ]
  },
  {
   "cell_type": "markdown",
   "metadata": {
    "id": "opY5CdlUZlll"
   },
   "source": [
    "## Criando novas features."
   ]
  },
  {
   "cell_type": "code",
   "execution_count": 17,
   "metadata": {
    "colab": {
     "base_uri": "https://localhost:8080/"
    },
    "id": "Jd-I5galZqsi",
    "outputId": "b16e28b4-e95a-4f1b-d5ef-b163c84ca645"
   },
   "outputs": [
    {
     "data": {
      "text/plain": [
       "contravencao    3404103\n",
       "crime           1402221\n",
       "violacao         293034\n",
       "outro             26258\n",
       "Name: nivel_da_ofensa, dtype: int64"
      ]
     },
     "execution_count": 17,
     "metadata": {},
     "output_type": "execute_result"
    }
   ],
   "source": [
    "df.nivel_da_ofensa.value_counts()"
   ]
  },
  {
   "cell_type": "code",
   "execution_count": 18,
   "metadata": {
    "colab": {
     "base_uri": "https://localhost:8080/"
    },
    "id": "D1Q8DLDnZqwG",
    "outputId": "ac383334-8838-4381-a807-e4f4bc96b39f"
   },
   "outputs": [
    {
     "data": {
      "text/plain": [
       "DANGEROUS DRUGS                                286281\n",
       "FELONY ASSAULT                                 210157\n",
       "MISCELLANEOUS PENAL LAW                        168508\n",
       "ROBBERY                                        161287\n",
       "GRAND LARCENY                                  125987\n",
       "DANGEROUS WEAPONS                               97119\n",
       "FORGERY                                         84501\n",
       "BURGLARY                                        72172\n",
       "CRIMINAL MISCHIEF & RELATED OFFENSES            54405\n",
       "POSSESSION OF STOLEN PROPERTY                   18816\n",
       "GRAND LARCENY OF MOTOR VEHICLE                  16534\n",
       "OTHER STATE LAWS                                14139\n",
       "RAPE                                            12482\n",
       "MURDER & NON-NEGL. MANSLAUGHTER                 12212\n",
       "INTOXICATED/IMPAIRED DRIVING                    11254\n",
       "SEX CRIMES                                      11063\n",
       "VEHICLE AND TRAFFIC LAWS                         9714\n",
       "THEFT-FRAUD                                      9264\n",
       "CRIMINAL MISCHIEF & RELATED OF                   8229\n",
       "GAMBLING                                         2927\n",
       "OTHER STATE LAWS (NON PENAL LAW)                 2292\n",
       "MURDER & NON-NEGL. MANSLAUGHTE                   2226\n",
       "KIDNAPPING & RELATED OFFENSES                    2070\n",
       "NYS LAWS-UNCLASSIFIED FELONY                     1979\n",
       "ARSON                                            1915\n",
       "PROSTITUTION & RELATED OFFENSES                  1755\n",
       "OTHER STATE LAWS (NON PENAL LA                   1401\n",
       "CHILD ABANDONMENT/NON SUPPORT 1                   474\n",
       "OFF. AGNST PUB ORD SENSBLTY & RGHTS TO PRIV       191\n",
       "HOMICIDE-NEGLIGENT,UNCLASSIFIED                   165\n",
       "ENDAN WELFARE INCOMP                              156\n",
       "HOMICIDE-NEGLIGENT-VEHICLE                        116\n",
       "CHILD ABANDONMENT/NON SUPPORT                      98\n",
       "INTOXICATED & IMPAIRED DRIVING                     93\n",
       "OFFENSES AGAINST PUBLIC SAFETY                     90\n",
       "FRAUDS                                             46\n",
       "HOMICIDE-NEGLIGENT,UNCLASSIFIE                     34\n",
       "OFFENSES AGAINST PUBLIC ADMINISTRATION             20\n",
       "ESCAPE 3                                           16\n",
       "KIDNAPPING                                         11\n",
       "ABORTION                                           10\n",
       "OFF. AGNST PUB ORD SENSBLTY &                       6\n",
       "ANTICIPATORY OFFENSES                               3\n",
       "OFFENSES AGAINST PUBLIC ADMINI                      2\n",
       "KIDNAPPING AND RELATED OFFENSES                     1\n",
       "Name: descricao_da_ofensa, dtype: int64"
      ]
     },
     "execution_count": 18,
     "metadata": {},
     "output_type": "execute_result"
    }
   ],
   "source": [
    "df.query('nivel_da_ofensa==\"crime\"').descricao_da_ofensa.value_counts()"
   ]
  },
  {
   "cell_type": "code",
   "execution_count": 19,
   "metadata": {
    "colab": {
     "base_uri": "https://localhost:8080/"
    },
    "id": "zy4p1QG_Zq0o",
    "outputId": "75809fc1-8cb3-4f12-f46e-f6e74df5a633"
   },
   "outputs": [
    {
     "data": {
      "text/plain": [
       "DANGEROUS DRUGS                                802449\n",
       "ASSAULT 3 & RELATED OFFENSES                   515606\n",
       "OTHER OFFENSES RELATED TO THEFT                304190\n",
       "PETIT LARCENY                                  221393\n",
       "CRIMINAL TRESPASS                              200980\n",
       "VEHICLE AND TRAFFIC LAWS                       194551\n",
       "OTHER TRAFFIC INFRACTION                       159415\n",
       "OFFENSES AGAINST PUBLIC ADMINISTRATION         156522\n",
       "POSSESSION OF STOLEN PROPERTY 5                149875\n",
       "INTOXICATED & IMPAIRED DRIVING                 101544\n",
       "DANGEROUS WEAPONS                              100438\n",
       "CRIMINAL MISCHIEF & RELATED OFFENSES            91634\n",
       "OTHER STATE LAWS (NON PENAL LAW)                76902\n",
       "OFF. AGNST PUB ORD SENSBLTY & RGHTS TO PRIV     66051\n",
       "PROSTITUTION & RELATED OFFENSES                 45037\n",
       "OFFENSES INVOLVING FRAUD                        27372\n",
       "SEX CRIMES                                      26958\n",
       "OFFENSES AGAINST THE PERSON                     23600\n",
       "FRAUDS                                          19966\n",
       "OFF. AGNST PUB ORD SENSBLTY &                   13318\n",
       "OFFENSES AGAINST PUBLIC ADMINI                  12722\n",
       "CRIMINAL MISCHIEF & RELATED OF                  11367\n",
       "UNAUTHORIZED USE OF A VEHICLE 3 (UUV)           11248\n",
       "HARASSMENT                                      10893\n",
       "GAMBLING                                        10770\n",
       "FORCIBLE TOUCHING                               10208\n",
       "BURGLAR'S TOOLS                                  7925\n",
       "OTHER STATE LAWS (NON PENAL LA                   6146\n",
       "ALCOHOLIC BEVERAGE CONTROL LAW                   5943\n",
       "OTHER OFFENSES RELATED TO THEF                   5075\n",
       "OFFENSES RELATED TO CHILDREN                     2714\n",
       "FRAUDULENT ACCOSTING                             2298\n",
       "OFFENSES AGAINST PUBLIC SAFETY                   2041\n",
       "POSSESSION OF STOLEN PROPERTY                    1822\n",
       "UNAUTHORIZED USE OF A VEHICLE                    1172\n",
       "ANTICIPATORY OFFENSES                             759\n",
       "THEFT OF SERVICES                                 604\n",
       "LOITERING FOR DRUG PURPOSES                       580\n",
       "JOSTLING                                          470\n",
       "ADMINISTRATIVE CODE                               461\n",
       "INTOXICATED/IMPAIRED DRIVING                      296\n",
       "ESCAPE 3                                          271\n",
       "ENDAN WELFARE INCOMP                              247\n",
       "AGRICULTURE & MRKTS LAW-UNCLASSIFIED              117\n",
       "FELONY ASSAULT                                     76\n",
       "DISRUPTION OF A RELIGIOUS SERVICE                  56\n",
       "FORTUNE TELLING                                    12\n",
       "DISRUPTION OF A RELIGIOUS SERV                      6\n",
       "THEFT-FRAUD                                         1\n",
       "OFFENSES AGAINST MARRIAGE UNCLASSIFIED              1\n",
       "OTHER STATE LAWS                                    1\n",
       "Name: descricao_da_ofensa, dtype: int64"
      ]
     },
     "execution_count": 19,
     "metadata": {},
     "output_type": "execute_result"
    }
   ],
   "source": [
    "df.query('nivel_da_ofensa==\"contravencao\"').descricao_da_ofensa.value_counts()"
   ]
  },
  {
   "cell_type": "code",
   "execution_count": 20,
   "metadata": {
    "colab": {
     "base_uri": "https://localhost:8080/"
    },
    "id": "rV5RYd_VddJM",
    "outputId": "923f22e2-f1e1-48d9-ffa9-82c75a512b66"
   },
   "outputs": [
    {
     "data": {
      "text/plain": [
       "OTHER STATE LAWS                          226336\n",
       "DISORDERLY CONDUCT                         30908\n",
       "MISCELLANEOUS PENAL LAW                    17419\n",
       "ADMINISTRATIVE CODE                        13754\n",
       "HARRASSMENT 2                               2219\n",
       "LOITERING                                    720\n",
       "LOITERING/GAMBLING (CARDS, DICE, ETC)        566\n",
       "NEW YORK CITY HEALTH CODE                    515\n",
       "PROSTITUTION & RELATED OFFENSES              314\n",
       "ADMINISTRATIVE CODES                         168\n",
       "UNLAWFUL POSS. WEAP. ON SCHOOL GROUNDS        63\n",
       "LOITERING/GAMBLING (CARDS, DIC                26\n",
       "UNDER THE INFLUENCE, DRUGS                    11\n",
       "F.C.A. P.I.N.O.S.                             10\n",
       "NYS LAWS-UNCLASSIFIED VIOLATION                2\n",
       "LOITERING,BEGGING                              1\n",
       "UNLAWFUL POSS. WEAP. ON SCHOOL                 1\n",
       "OTHER STATE LAWS (NON PENAL LAW)               1\n",
       "Name: descricao_da_ofensa, dtype: int64"
      ]
     },
     "execution_count": 20,
     "metadata": {},
     "output_type": "execute_result"
    }
   ],
   "source": [
    "df.query('nivel_da_ofensa==\"violacao\"').descricao_da_ofensa.value_counts()"
   ]
  },
  {
   "cell_type": "code",
   "execution_count": null,
   "metadata": {
    "id": "aUxGG_NJdL4I"
   },
   "outputs": [],
   "source": []
  },
  {
   "cell_type": "markdown",
   "metadata": {
    "id": "j_DkU8bcdMai"
   },
   "source": [
    "## Criando a coluna assalto.\n",
    "\n",
    "ASSAULT 3 & RELATED OFFENSES/ FELONY ASSAULT:\n",
    "\n",
    " - agressão agravada ou agressão envolve circunstâncias que tornam o crime mais grave, como quando a vítima é ameaçada ou experimenta violência significativa que atinge substancialmente mais do que um tapa leve.\n",
    "\n",
    "ROBBERY/BURGLARY:\n",
    "\n",
    " - a ação de tomar bens ilegalmente de uma pessoa ou lugar pela força ou ameaça de força.\n",
    "\n",
    "GRAND LARCENY/ GRAND LARCENY OF MOTOR VEHICLE:\n",
    "\n",
    "  - Grande furto/roubo/assalto. "
   ]
  },
  {
   "cell_type": "code",
   "execution_count": 21,
   "metadata": {
    "id": "FSTYy_RyZq4q"
   },
   "outputs": [],
   "source": [
    "df['assalto'] = df['descricao_da_ofensa'].apply(lambda x: 1 if x=='FELONY ASSAULT' or x=='ASSAULT 3 & RELATED OFFENSES' or x =='ROBBERY' or x=='BURGLARY' or x=='GRAND LARCENY' or x=='GRAND LARCENY OF MOTOR VEHICLE'  else 0)"
   ]
  },
  {
   "cell_type": "code",
   "execution_count": 22,
   "metadata": {
    "colab": {
     "base_uri": "https://localhost:8080/"
    },
    "id": "87GlYK_fZq7J",
    "outputId": "2b49b4c2-6f90-4c82-9cc6-372ec3258b9f"
   },
   "outputs": [
    {
     "data": {
      "text/plain": [
       "0    4023797\n",
       "1    1101819\n",
       "Name: assalto, dtype: int64"
      ]
     },
     "execution_count": 22,
     "metadata": {},
     "output_type": "execute_result"
    }
   ],
   "source": [
    "df.assalto.value_counts()"
   ]
  },
  {
   "cell_type": "markdown",
   "metadata": {
    "id": "_2LdJQYhgOFw"
   },
   "source": [
    "## Criando a coluna referente a final de semana."
   ]
  },
  {
   "cell_type": "code",
   "execution_count": 23,
   "metadata": {
    "id": "KBnuRiZNZrCw"
   },
   "outputs": [],
   "source": [
    "df['fds'] = df['dia_da_semana'].apply(lambda x: 1 if x=='Sunday' or x =='Saturday' else 0)"
   ]
  },
  {
   "cell_type": "markdown",
   "metadata": {
    "id": "I-Vbg-qJgX3k"
   },
   "source": [
    "## Criando a coluna referente a prática de delitos graves."
   ]
  },
  {
   "cell_type": "code",
   "execution_count": 24,
   "metadata": {
    "id": "jBts7s-8ZrJI"
   },
   "outputs": [],
   "source": [
    "df['delito'] = df['nivel_da_ofensa'].apply(lambda x: 0 if x=='outro' or x=='violacao' else 1)"
   ]
  },
  {
   "cell_type": "markdown",
   "metadata": {
    "id": "eIgj9nITUIfN"
   },
   "source": [
    "## Selecionando apenas os últimos 3 anos e criando um novo dataset."
   ]
  },
  {
   "cell_type": "code",
   "execution_count": 25,
   "metadata": {
    "id": "GKfzc9VWUHhj"
   },
   "outputs": [],
   "source": [
    "df[df['data_da_ocorrencia'] >='2018-01-01'].to_csv('dados_arrest_NYC.csv', index=False)"
   ]
  },
  {
   "cell_type": "code",
   "execution_count": null,
   "metadata": {
    "id": "0VOGfafMWQUz"
   },
   "outputs": [],
   "source": []
  },
  {
   "cell_type": "code",
   "execution_count": null,
   "metadata": {},
   "outputs": [],
   "source": []
  }
 ],
 "metadata": {
  "colab": {
   "name": "tratamento_de_dados.ipynb",
   "provenance": [],
   "toc_visible": true
  },
  "kernelspec": {
   "display_name": "Python 3",
   "language": "python",
   "name": "python3"
  },
  "language_info": {
   "codemirror_mode": {
    "name": "ipython",
    "version": 3
   },
   "file_extension": ".py",
   "mimetype": "text/x-python",
   "name": "python",
   "nbconvert_exporter": "python",
   "pygments_lexer": "ipython3",
   "version": "3.8.3"
  }
 },
 "nbformat": 4,
 "nbformat_minor": 1
}
