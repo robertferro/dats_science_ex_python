{
 "cells": [
  {
   "cell_type": "markdown",
   "metadata": {
    "id": "EpoZtV52tq52"
   },
   "source": [
    "[dataset NY] https://data.cityofnewyork.us/Public-Safety/NYPD-Arrest-Data-Year-to-Date-/uip8-fykc\n",
    "\n",
    "Utilizando o dataset do kaggle, cujo link está acima faz referência aso dados do ano de 2014, encontrei um novo link qe contém informacções mais atualizadas, de onde será retirado o conjunto de dados que será utilizado.\n",
    "\n",
    "Após manipular os dados será gerado um novo arquivo csv, com informações mais objetivas e contendo novas features que vão ajudar o modelo de classificação de assaltos.\n",
    "\n",
    "\n",
    "Link do site onde encontra-se o dataset(2020)\n",
    "\n",
    "url:https://data.cityofnewyork.us/Public-Safety/NYPD-Arrest-Data-Year-to-Date-/uip8-fykc"
   ]
  },
  {
   "cell_type": "markdown",
   "metadata": {},
   "source": [
    "## 1- Importando a base de dados"
   ]
  },
  {
   "cell_type": "code",
   "execution_count": 1,
   "metadata": {
    "id": "NpHeI-PMj_aQ"
   },
   "outputs": [],
   "source": [
    "#  Importando as bibliotecas\n",
    "\n",
    "import pandas as pd\n",
    "import seaborn as sns\n",
    "import matplotlib.pyplot as plt\n",
    "import numpy as np\n",
    "import datetime\n",
    "from datetime import date"
   ]
  },
  {
   "cell_type": "markdown",
   "metadata": {},
   "source": [
    " - Link do site onde encontra-se o dataset\n",
    " \n",
    " url:https://data.cityofnewyork.us/Public-Safety/NYPD-Arrest-Data-Year-to-Date-/uip8-fykc"
   ]
  },
  {
   "cell_type": "code",
   "execution_count": 2,
   "metadata": {},
   "outputs": [],
   "source": [
    "df=pd.read_csv('dataset.csv')"
   ]
  },
  {
   "cell_type": "code",
   "execution_count": 3,
   "metadata": {},
   "outputs": [
    {
     "data": {
      "text/html": [
       "<div>\n",
       "<style scoped>\n",
       "    .dataframe tbody tr th:only-of-type {\n",
       "        vertical-align: middle;\n",
       "    }\n",
       "\n",
       "    .dataframe tbody tr th {\n",
       "        vertical-align: top;\n",
       "    }\n",
       "\n",
       "    .dataframe thead th {\n",
       "        text-align: right;\n",
       "    }\n",
       "</style>\n",
       "<table border=\"1\" class=\"dataframe\">\n",
       "  <thead>\n",
       "    <tr style=\"text-align: right;\">\n",
       "      <th></th>\n",
       "      <th>ARREST_KEY</th>\n",
       "      <th>ARREST_DATE</th>\n",
       "      <th>PD_CD</th>\n",
       "      <th>PD_DESC</th>\n",
       "      <th>KY_CD</th>\n",
       "      <th>OFNS_DESC</th>\n",
       "      <th>LAW_CODE</th>\n",
       "      <th>LAW_CAT_CD</th>\n",
       "      <th>ARREST_BORO</th>\n",
       "      <th>ARREST_PRECINCT</th>\n",
       "      <th>JURISDICTION_CODE</th>\n",
       "      <th>AGE_GROUP</th>\n",
       "      <th>PERP_SEX</th>\n",
       "      <th>PERP_RACE</th>\n",
       "      <th>X_COORD_CD</th>\n",
       "      <th>Y_COORD_CD</th>\n",
       "      <th>Latitude</th>\n",
       "      <th>Longitude</th>\n",
       "      <th>New Georeferenced Column</th>\n",
       "    </tr>\n",
       "  </thead>\n",
       "  <tbody>\n",
       "    <tr>\n",
       "      <th>0</th>\n",
       "      <td>222243929</td>\n",
       "      <td>12/25/2020</td>\n",
       "      <td>105.0</td>\n",
       "      <td>STRANGULATION 1ST</td>\n",
       "      <td>106.0</td>\n",
       "      <td>FELONY ASSAULT</td>\n",
       "      <td>PL 1211200</td>\n",
       "      <td>F</td>\n",
       "      <td>B</td>\n",
       "      <td>40</td>\n",
       "      <td>0</td>\n",
       "      <td>25-44</td>\n",
       "      <td>M</td>\n",
       "      <td>BLACK</td>\n",
       "      <td>1007453</td>\n",
       "      <td>233952</td>\n",
       "      <td>40.808798</td>\n",
       "      <td>-73.916184</td>\n",
       "      <td>POINT (-73.91618413199996 40.80879780500004)</td>\n",
       "    </tr>\n",
       "    <tr>\n",
       "      <th>1</th>\n",
       "      <td>222115778</td>\n",
       "      <td>12/22/2020</td>\n",
       "      <td>397.0</td>\n",
       "      <td>ROBBERY,OPEN AREA UNCLASSIFIED</td>\n",
       "      <td>105.0</td>\n",
       "      <td>ROBBERY</td>\n",
       "      <td>PL 1601001</td>\n",
       "      <td>F</td>\n",
       "      <td>M</td>\n",
       "      <td>33</td>\n",
       "      <td>0</td>\n",
       "      <td>18-24</td>\n",
       "      <td>M</td>\n",
       "      <td>BLACK HISPANIC</td>\n",
       "      <td>1001456</td>\n",
       "      <td>247485</td>\n",
       "      <td>40.845956</td>\n",
       "      <td>-73.937813</td>\n",
       "      <td>POINT (-73.93781267199995 40.84595574000008)</td>\n",
       "    </tr>\n",
       "    <tr>\n",
       "      <th>2</th>\n",
       "      <td>222090516</td>\n",
       "      <td>12/21/2020</td>\n",
       "      <td>105.0</td>\n",
       "      <td>STRANGULATION 1ST</td>\n",
       "      <td>106.0</td>\n",
       "      <td>FELONY ASSAULT</td>\n",
       "      <td>PL 1211200</td>\n",
       "      <td>F</td>\n",
       "      <td>Q</td>\n",
       "      <td>106</td>\n",
       "      <td>0</td>\n",
       "      <td>25-44</td>\n",
       "      <td>M</td>\n",
       "      <td>BLACK</td>\n",
       "      <td>1028605</td>\n",
       "      <td>187930</td>\n",
       "      <td>40.682398</td>\n",
       "      <td>-73.840079</td>\n",
       "      <td>POINT (-73.84007936899997 40.68239828900005)</td>\n",
       "    </tr>\n",
       "    <tr>\n",
       "      <th>3</th>\n",
       "      <td>221653577</td>\n",
       "      <td>12/10/2020</td>\n",
       "      <td>105.0</td>\n",
       "      <td>STRANGULATION 1ST</td>\n",
       "      <td>106.0</td>\n",
       "      <td>FELONY ASSAULT</td>\n",
       "      <td>PL 1211200</td>\n",
       "      <td>F</td>\n",
       "      <td>Q</td>\n",
       "      <td>103</td>\n",
       "      <td>0</td>\n",
       "      <td>18-24</td>\n",
       "      <td>M</td>\n",
       "      <td>BLACK</td>\n",
       "      <td>1039602</td>\n",
       "      <td>190480</td>\n",
       "      <td>40.689336</td>\n",
       "      <td>-73.800409</td>\n",
       "      <td>POINT (-73.80040882999998 40.68933550400004)</td>\n",
       "    </tr>\n",
       "    <tr>\n",
       "      <th>4</th>\n",
       "      <td>221599602</td>\n",
       "      <td>12/09/2020</td>\n",
       "      <td>729.0</td>\n",
       "      <td>FORGERY,ETC.,UNCLASSIFIED-FELO</td>\n",
       "      <td>113.0</td>\n",
       "      <td>FORGERY</td>\n",
       "      <td>PL 1702500</td>\n",
       "      <td>F</td>\n",
       "      <td>S</td>\n",
       "      <td>120</td>\n",
       "      <td>0</td>\n",
       "      <td>18-24</td>\n",
       "      <td>M</td>\n",
       "      <td>BLACK</td>\n",
       "      <td>949767</td>\n",
       "      <td>170539</td>\n",
       "      <td>40.634708</td>\n",
       "      <td>-74.124241</td>\n",
       "      <td>POINT (-74.12424111699994 40.634707811000055)</td>\n",
       "    </tr>\n",
       "  </tbody>\n",
       "</table>\n",
       "</div>"
      ],
      "text/plain": [
       "   ARREST_KEY ARREST_DATE  PD_CD                         PD_DESC  KY_CD  \\\n",
       "0   222243929  12/25/2020  105.0               STRANGULATION 1ST  106.0   \n",
       "1   222115778  12/22/2020  397.0  ROBBERY,OPEN AREA UNCLASSIFIED  105.0   \n",
       "2   222090516  12/21/2020  105.0               STRANGULATION 1ST  106.0   \n",
       "3   221653577  12/10/2020  105.0               STRANGULATION 1ST  106.0   \n",
       "4   221599602  12/09/2020  729.0  FORGERY,ETC.,UNCLASSIFIED-FELO  113.0   \n",
       "\n",
       "        OFNS_DESC    LAW_CODE LAW_CAT_CD ARREST_BORO  ARREST_PRECINCT  \\\n",
       "0  FELONY ASSAULT  PL 1211200          F           B               40   \n",
       "1         ROBBERY  PL 1601001          F           M               33   \n",
       "2  FELONY ASSAULT  PL 1211200          F           Q              106   \n",
       "3  FELONY ASSAULT  PL 1211200          F           Q              103   \n",
       "4         FORGERY  PL 1702500          F           S              120   \n",
       "\n",
       "   JURISDICTION_CODE AGE_GROUP PERP_SEX       PERP_RACE  X_COORD_CD  \\\n",
       "0                  0     25-44        M           BLACK     1007453   \n",
       "1                  0     18-24        M  BLACK HISPANIC     1001456   \n",
       "2                  0     25-44        M           BLACK     1028605   \n",
       "3                  0     18-24        M           BLACK     1039602   \n",
       "4                  0     18-24        M           BLACK      949767   \n",
       "\n",
       "   Y_COORD_CD   Latitude  Longitude  \\\n",
       "0      233952  40.808798 -73.916184   \n",
       "1      247485  40.845956 -73.937813   \n",
       "2      187930  40.682398 -73.840079   \n",
       "3      190480  40.689336 -73.800409   \n",
       "4      170539  40.634708 -74.124241   \n",
       "\n",
       "                        New Georeferenced Column  \n",
       "0   POINT (-73.91618413199996 40.80879780500004)  \n",
       "1   POINT (-73.93781267199995 40.84595574000008)  \n",
       "2   POINT (-73.84007936899997 40.68239828900005)  \n",
       "3   POINT (-73.80040882999998 40.68933550400004)  \n",
       "4  POINT (-74.12424111699994 40.634707811000055)  "
      ]
     },
     "execution_count": 3,
     "metadata": {},
     "output_type": "execute_result"
    }
   ],
   "source": [
    "# visualizando as 5 primeiras linhas do dataset\n",
    "df[0:5]"
   ]
  },
  {
   "cell_type": "markdown",
   "metadata": {},
   "source": [
    "## 2- Preparaçao dos dados\n"
   ]
  },
  {
   "cell_type": "markdown",
   "metadata": {},
   "source": [
    " - Removendo as colunas que nao serão utilizadas "
   ]
  },
  {
   "cell_type": "code",
   "execution_count": 4,
   "metadata": {},
   "outputs": [],
   "source": [
    "select_ny=df.drop(['ARREST_KEY', 'PD_CD', 'PD_DESC', 'KY_CD', 'LAW_CODE','ARREST_PRECINCT', 'JURISDICTION_CODE', 'X_COORD_CD', 'Y_COORD_CD','New Georeferenced Column'], axis=1)"
   ]
  },
  {
   "cell_type": "code",
   "execution_count": 5,
   "metadata": {},
   "outputs": [],
   "source": [
    "#  Renomeando as colunas\n",
    "\n",
    "select_ny.columns = ['data_da_ocorrencia','descricao_da_ofensa','nivel_da_ofensa','bairro'\n",
    "                     ,'idade_do_infrator','sexo_do_infrator','raca_do_infrator','latitude','longitude']"
   ]
  },
  {
   "cell_type": "code",
   "execution_count": 6,
   "metadata": {},
   "outputs": [],
   "source": [
    "# reorganizando os dados referentes a data \n",
    "\n",
    "def date_to_weekday(date):\n",
    "    weekday_dict = {0:'Monday', 1:'Tuesday', 2: 'Wednesday', 3: 'Thursday', 4: 'Friday', 5: 'Saturday', 6: 'Sunday'}\n",
    "    date_time_obj = datetime.datetime.strptime(date, '%m/%d/%Y')\n",
    "    return weekday_dict[date_time_obj.weekday()]\n",
    "\n",
    "date = select_ny['data_da_ocorrencia'].str.split(\"/\", n = 3, expand = True)\n",
    "select_ny['ano'] = date[2].astype('int32')\n",
    "select_ny['dia'] = date[1].astype('int32')\n",
    "select_ny['mes'] = date[0].astype('int32')\n",
    "select_ny['dia_da_semana'] = select_ny['data_da_ocorrencia'].apply(date_to_weekday)\n",
    "\n",
    "# alterando os dados da coluna nivel_da_ofensa\n",
    "\n",
    "new_nivel_da_ofensa = {'M': \"contravencao\", 'F': \"crime\", 'V': \"violacao\",'I':\"outro\" }\n",
    "select_ny['nivel_da_ofensa'] = select_ny['nivel_da_ofensa'].map(new_nivel_da_ofensa)\n",
    "\n",
    "# alterando os dados da coluna bairro\n",
    "\n",
    "new_bairro = {'B': 'Bronx', 'S': 'Staten_Island', 'K': 'Brooklyn', 'M': 'Manhattan' , 'Q': 'Queens' }\n",
    "select_ny['bairro'] = select_ny['bairro'].map(new_bairro)"
   ]
  },
  {
   "cell_type": "code",
   "execution_count": 7,
   "metadata": {},
   "outputs": [
    {
     "data": {
      "text/html": [
       "<div>\n",
       "<style scoped>\n",
       "    .dataframe tbody tr th:only-of-type {\n",
       "        vertical-align: middle;\n",
       "    }\n",
       "\n",
       "    .dataframe tbody tr th {\n",
       "        vertical-align: top;\n",
       "    }\n",
       "\n",
       "    .dataframe thead th {\n",
       "        text-align: right;\n",
       "    }\n",
       "</style>\n",
       "<table border=\"1\" class=\"dataframe\">\n",
       "  <thead>\n",
       "    <tr style=\"text-align: right;\">\n",
       "      <th></th>\n",
       "      <th>data_da_ocorrencia</th>\n",
       "      <th>descricao_da_ofensa</th>\n",
       "      <th>nivel_da_ofensa</th>\n",
       "      <th>bairro</th>\n",
       "      <th>idade_do_infrator</th>\n",
       "      <th>sexo_do_infrator</th>\n",
       "      <th>raca_do_infrator</th>\n",
       "      <th>latitude</th>\n",
       "      <th>longitude</th>\n",
       "      <th>ano</th>\n",
       "      <th>dia</th>\n",
       "      <th>mes</th>\n",
       "      <th>dia_da_semana</th>\n",
       "    </tr>\n",
       "  </thead>\n",
       "  <tbody>\n",
       "    <tr>\n",
       "      <th>0</th>\n",
       "      <td>12/25/2020</td>\n",
       "      <td>FELONY ASSAULT</td>\n",
       "      <td>crime</td>\n",
       "      <td>Bronx</td>\n",
       "      <td>25-44</td>\n",
       "      <td>M</td>\n",
       "      <td>BLACK</td>\n",
       "      <td>40.808798</td>\n",
       "      <td>-73.916184</td>\n",
       "      <td>2020</td>\n",
       "      <td>25</td>\n",
       "      <td>12</td>\n",
       "      <td>Friday</td>\n",
       "    </tr>\n",
       "    <tr>\n",
       "      <th>1</th>\n",
       "      <td>12/22/2020</td>\n",
       "      <td>ROBBERY</td>\n",
       "      <td>crime</td>\n",
       "      <td>Manhattan</td>\n",
       "      <td>18-24</td>\n",
       "      <td>M</td>\n",
       "      <td>BLACK HISPANIC</td>\n",
       "      <td>40.845956</td>\n",
       "      <td>-73.937813</td>\n",
       "      <td>2020</td>\n",
       "      <td>22</td>\n",
       "      <td>12</td>\n",
       "      <td>Tuesday</td>\n",
       "    </tr>\n",
       "    <tr>\n",
       "      <th>2</th>\n",
       "      <td>12/21/2020</td>\n",
       "      <td>FELONY ASSAULT</td>\n",
       "      <td>crime</td>\n",
       "      <td>Queens</td>\n",
       "      <td>25-44</td>\n",
       "      <td>M</td>\n",
       "      <td>BLACK</td>\n",
       "      <td>40.682398</td>\n",
       "      <td>-73.840079</td>\n",
       "      <td>2020</td>\n",
       "      <td>21</td>\n",
       "      <td>12</td>\n",
       "      <td>Monday</td>\n",
       "    </tr>\n",
       "    <tr>\n",
       "      <th>3</th>\n",
       "      <td>12/10/2020</td>\n",
       "      <td>FELONY ASSAULT</td>\n",
       "      <td>crime</td>\n",
       "      <td>Queens</td>\n",
       "      <td>18-24</td>\n",
       "      <td>M</td>\n",
       "      <td>BLACK</td>\n",
       "      <td>40.689336</td>\n",
       "      <td>-73.800409</td>\n",
       "      <td>2020</td>\n",
       "      <td>10</td>\n",
       "      <td>12</td>\n",
       "      <td>Thursday</td>\n",
       "    </tr>\n",
       "    <tr>\n",
       "      <th>4</th>\n",
       "      <td>12/09/2020</td>\n",
       "      <td>FORGERY</td>\n",
       "      <td>crime</td>\n",
       "      <td>Staten_Island</td>\n",
       "      <td>18-24</td>\n",
       "      <td>M</td>\n",
       "      <td>BLACK</td>\n",
       "      <td>40.634708</td>\n",
       "      <td>-74.124241</td>\n",
       "      <td>2020</td>\n",
       "      <td>9</td>\n",
       "      <td>12</td>\n",
       "      <td>Wednesday</td>\n",
       "    </tr>\n",
       "  </tbody>\n",
       "</table>\n",
       "</div>"
      ],
      "text/plain": [
       "  data_da_ocorrencia descricao_da_ofensa nivel_da_ofensa         bairro  \\\n",
       "0         12/25/2020      FELONY ASSAULT           crime          Bronx   \n",
       "1         12/22/2020             ROBBERY           crime      Manhattan   \n",
       "2         12/21/2020      FELONY ASSAULT           crime         Queens   \n",
       "3         12/10/2020      FELONY ASSAULT           crime         Queens   \n",
       "4         12/09/2020             FORGERY           crime  Staten_Island   \n",
       "\n",
       "  idade_do_infrator sexo_do_infrator raca_do_infrator   latitude  longitude  \\\n",
       "0             25-44                M            BLACK  40.808798 -73.916184   \n",
       "1             18-24                M   BLACK HISPANIC  40.845956 -73.937813   \n",
       "2             25-44                M            BLACK  40.682398 -73.840079   \n",
       "3             18-24                M            BLACK  40.689336 -73.800409   \n",
       "4             18-24                M            BLACK  40.634708 -74.124241   \n",
       "\n",
       "    ano  dia  mes dia_da_semana  \n",
       "0  2020   25   12        Friday  \n",
       "1  2020   22   12       Tuesday  \n",
       "2  2020   21   12        Monday  \n",
       "3  2020   10   12      Thursday  \n",
       "4  2020    9   12     Wednesday  "
      ]
     },
     "execution_count": 7,
     "metadata": {},
     "output_type": "execute_result"
    }
   ],
   "source": [
    "select_ny.head()"
   ]
  },
  {
   "cell_type": "code",
   "execution_count": 8,
   "metadata": {},
   "outputs": [
    {
     "name": "stdout",
     "output_type": "stream",
     "text": [
      "<class 'pandas.core.frame.DataFrame'>\n",
      "RangeIndex: 140413 entries, 0 to 140412\n",
      "Data columns (total 13 columns):\n",
      " #   Column               Non-Null Count   Dtype  \n",
      "---  ------               --------------   -----  \n",
      " 0   data_da_ocorrencia   140413 non-null  object \n",
      " 1   descricao_da_ofensa  140376 non-null  object \n",
      " 2   nivel_da_ofensa      139024 non-null  object \n",
      " 3   bairro               140413 non-null  object \n",
      " 4   idade_do_infrator    140413 non-null  object \n",
      " 5   sexo_do_infrator     140413 non-null  object \n",
      " 6   raca_do_infrator     140413 non-null  object \n",
      " 7   latitude             140413 non-null  float64\n",
      " 8   longitude            140413 non-null  float64\n",
      " 9   ano                  140413 non-null  int32  \n",
      " 10  dia                  140413 non-null  int32  \n",
      " 11  mes                  140413 non-null  int32  \n",
      " 12  dia_da_semana        140413 non-null  object \n",
      "dtypes: float64(2), int32(3), object(8)\n",
      "memory usage: 12.3+ MB\n"
     ]
    }
   ],
   "source": [
    "select_ny.info()"
   ]
  },
  {
   "cell_type": "code",
   "execution_count": 9,
   "metadata": {},
   "outputs": [
    {
     "data": {
      "text/plain": [
       "(140413, 13)"
      ]
     },
     "execution_count": 9,
     "metadata": {},
     "output_type": "execute_result"
    }
   ],
   "source": [
    "select_ny.shape"
   ]
  },
  {
   "cell_type": "markdown",
   "metadata": {
    "id": "2XW4lv9Ppsbl"
   },
   "source": [
    " - Convertendo a coluna \" DATA_DA_OCORRENCIA \"para formato datetime"
   ]
  },
  {
   "cell_type": "code",
   "execution_count": 10,
   "metadata": {
    "id": "pLBhQGqZpsbm"
   },
   "outputs": [],
   "source": [
    "select_ny[\"data_da_ocorrencia\"] = pd.to_datetime(select_ny[\"data_da_ocorrencia\"] )"
   ]
  },
  {
   "cell_type": "markdown",
   "metadata": {},
   "source": [
    "## 3- Criando novas features."
   ]
  },
  {
   "cell_type": "code",
   "execution_count": 11,
   "metadata": {},
   "outputs": [],
   "source": [
    "df = select_ny.copy()"
   ]
  },
  {
   "cell_type": "code",
   "execution_count": 12,
   "metadata": {},
   "outputs": [
    {
     "data": {
      "image/png": "[encoded data removed]",
      "text/plain": [
       "<Figure size 864x576 with 1 Axes>"
      ]
     },
     "metadata": {
      "needs_background": "light"
     },
     "output_type": "display_data"
    }
   ],
   "source": [
    "tipos_de_delitos = df.descricao_da_ofensa.value_counts().to_frame().reset_index()\n",
    "tipos_de_delitos.columns = ['descricao_da_ofensa' , 'quantidade']\n",
    "\n",
    "\n",
    "f, ax = plt.subplots(figsize=(12, 8))\n",
    "sns.barplot(y = 'descricao_da_ofensa' , x = 'quantidade' , data = tipos_de_delitos.head(15))\n",
    "titulo='Delitos mais recorrentes'\n",
    "plt.title(titulo, fontsize=15)\n",
    "plt.show()"
   ]
  },
  {
   "cell_type": "markdown",
   "metadata": {},
   "source": [
    "De acordo com os dados acima visualizados, podemos criar um classificador que consiga distinguir delitos graves de delitos mais leves e que possa dizer a chance de ocorrer determinado delitoem algum local."
   ]
  },
  {
   "cell_type": "code",
   "execution_count": 13,
   "metadata": {
    "scrolled": true
   },
   "outputs": [
    {
     "data": {
      "text/plain": [
       "ASSAULT 3 & RELATED OFFENSES      23731\n",
       "FELONY ASSAULT                    13475\n",
       "PETIT LARCENY                     11406\n",
       "DANGEROUS DRUGS                   11289\n",
       "MISCELLANEOUS PENAL LAW            9133\n",
       "ROBBERY                            7948\n",
       "CRIMINAL MISCHIEF & RELATED OF     7831\n",
       "DANGEROUS WEAPONS                  6710\n",
       "GRAND LARCENY                      6542\n",
       "BURGLARY                           6056\n",
       "OFFENSES AGAINST PUBLIC ADMINI     4925\n",
       "VEHICLE AND TRAFFIC LAWS           4589\n",
       "OFF. AGNST PUB ORD SENSBLTY &      3061\n",
       "SEX CRIMES                         2730\n",
       "INTOXICATED & IMPAIRED DRIVING     2299\n",
       "Name: descricao_da_ofensa, dtype: int64"
      ]
     },
     "execution_count": 13,
     "metadata": {},
     "output_type": "execute_result"
    }
   ],
   "source": [
    "df.descricao_da_ofensa.value_counts().head(15)"
   ]
  },
  {
   "cell_type": "markdown",
   "metadata": {},
   "source": [
    "- Criando a coluna referente a crimes de roubo."
   ]
  },
  {
   "cell_type": "markdown",
   "metadata": {},
   "source": [
    "ASSAULT 3 & RELATED OFFENSES/ FELONY ASSAULT:\n",
    "- agressão agravada ou agressão envolve circunstâncias que tornam o crime mais grave, como quando a vítima é ameaçada ou experimenta violência significativa que atinge substancialmente mais do que um tapa leve.\n",
    "\n",
    "ROBBERY/BURGLARY:\n",
    "- a ação de tomar bens ilegalmente de uma pessoa ou lugar pela força ou ameaça de força.\n",
    "\n",
    "GRAND LARCENY"
   ]
  },
  {
   "cell_type": "code",
   "execution_count": 14,
   "metadata": {},
   "outputs": [],
   "source": [
    "df['assalto'] = df['descricao_da_ofensa'].apply(lambda x: 1 if x=='FELONY ASSAULT' or x=='ASSAULT 3 & RELATED OFFENSES' or x =='ROBBERY' or x=='BURGLARY'  else 0)"
   ]
  },
  {
   "cell_type": "code",
   "execution_count": 15,
   "metadata": {},
   "outputs": [
    {
     "data": {
      "text/plain": [
       "0    89203\n",
       "1    51210\n",
       "Name: assalto, dtype: int64"
      ]
     },
     "execution_count": 15,
     "metadata": {},
     "output_type": "execute_result"
    }
   ],
   "source": [
    "df.assalto.value_counts()"
   ]
  },
  {
   "cell_type": "code",
   "execution_count": 16,
   "metadata": {},
   "outputs": [
    {
     "data": {
      "text/html": [
       "<div>\n",
       "<style scoped>\n",
       "    .dataframe tbody tr th:only-of-type {\n",
       "        vertical-align: middle;\n",
       "    }\n",
       "\n",
       "    .dataframe tbody tr th {\n",
       "        vertical-align: top;\n",
       "    }\n",
       "\n",
       "    .dataframe thead th {\n",
       "        text-align: right;\n",
       "    }\n",
       "</style>\n",
       "<table border=\"1\" class=\"dataframe\">\n",
       "  <thead>\n",
       "    <tr style=\"text-align: right;\">\n",
       "      <th></th>\n",
       "      <th>data_da_ocorrencia</th>\n",
       "      <th>descricao_da_ofensa</th>\n",
       "      <th>nivel_da_ofensa</th>\n",
       "      <th>bairro</th>\n",
       "      <th>idade_do_infrator</th>\n",
       "      <th>sexo_do_infrator</th>\n",
       "      <th>raca_do_infrator</th>\n",
       "      <th>latitude</th>\n",
       "      <th>longitude</th>\n",
       "      <th>ano</th>\n",
       "      <th>dia</th>\n",
       "      <th>mes</th>\n",
       "      <th>dia_da_semana</th>\n",
       "      <th>assalto</th>\n",
       "    </tr>\n",
       "  </thead>\n",
       "  <tbody>\n",
       "    <tr>\n",
       "      <th>0</th>\n",
       "      <td>2020-12-25</td>\n",
       "      <td>FELONY ASSAULT</td>\n",
       "      <td>crime</td>\n",
       "      <td>Bronx</td>\n",
       "      <td>25-44</td>\n",
       "      <td>M</td>\n",
       "      <td>BLACK</td>\n",
       "      <td>40.808798</td>\n",
       "      <td>-73.916184</td>\n",
       "      <td>2020</td>\n",
       "      <td>25</td>\n",
       "      <td>12</td>\n",
       "      <td>Friday</td>\n",
       "      <td>1</td>\n",
       "    </tr>\n",
       "    <tr>\n",
       "      <th>1</th>\n",
       "      <td>2020-12-22</td>\n",
       "      <td>ROBBERY</td>\n",
       "      <td>crime</td>\n",
       "      <td>Manhattan</td>\n",
       "      <td>18-24</td>\n",
       "      <td>M</td>\n",
       "      <td>BLACK HISPANIC</td>\n",
       "      <td>40.845956</td>\n",
       "      <td>-73.937813</td>\n",
       "      <td>2020</td>\n",
       "      <td>22</td>\n",
       "      <td>12</td>\n",
       "      <td>Tuesday</td>\n",
       "      <td>1</td>\n",
       "    </tr>\n",
       "    <tr>\n",
       "      <th>2</th>\n",
       "      <td>2020-12-21</td>\n",
       "      <td>FELONY ASSAULT</td>\n",
       "      <td>crime</td>\n",
       "      <td>Queens</td>\n",
       "      <td>25-44</td>\n",
       "      <td>M</td>\n",
       "      <td>BLACK</td>\n",
       "      <td>40.682398</td>\n",
       "      <td>-73.840079</td>\n",
       "      <td>2020</td>\n",
       "      <td>21</td>\n",
       "      <td>12</td>\n",
       "      <td>Monday</td>\n",
       "      <td>1</td>\n",
       "    </tr>\n",
       "    <tr>\n",
       "      <th>3</th>\n",
       "      <td>2020-12-10</td>\n",
       "      <td>FELONY ASSAULT</td>\n",
       "      <td>crime</td>\n",
       "      <td>Queens</td>\n",
       "      <td>18-24</td>\n",
       "      <td>M</td>\n",
       "      <td>BLACK</td>\n",
       "      <td>40.689336</td>\n",
       "      <td>-73.800409</td>\n",
       "      <td>2020</td>\n",
       "      <td>10</td>\n",
       "      <td>12</td>\n",
       "      <td>Thursday</td>\n",
       "      <td>1</td>\n",
       "    </tr>\n",
       "    <tr>\n",
       "      <th>4</th>\n",
       "      <td>2020-12-09</td>\n",
       "      <td>FORGERY</td>\n",
       "      <td>crime</td>\n",
       "      <td>Staten_Island</td>\n",
       "      <td>18-24</td>\n",
       "      <td>M</td>\n",
       "      <td>BLACK</td>\n",
       "      <td>40.634708</td>\n",
       "      <td>-74.124241</td>\n",
       "      <td>2020</td>\n",
       "      <td>9</td>\n",
       "      <td>12</td>\n",
       "      <td>Wednesday</td>\n",
       "      <td>0</td>\n",
       "    </tr>\n",
       "  </tbody>\n",
       "</table>\n",
       "</div>"
      ],
      "text/plain": [
       "  data_da_ocorrencia descricao_da_ofensa nivel_da_ofensa         bairro  \\\n",
       "0         2020-12-25      FELONY ASSAULT           crime          Bronx   \n",
       "1         2020-12-22             ROBBERY           crime      Manhattan   \n",
       "2         2020-12-21      FELONY ASSAULT           crime         Queens   \n",
       "3         2020-12-10      FELONY ASSAULT           crime         Queens   \n",
       "4         2020-12-09             FORGERY           crime  Staten_Island   \n",
       "\n",
       "  idade_do_infrator sexo_do_infrator raca_do_infrator   latitude  longitude  \\\n",
       "0             25-44                M            BLACK  40.808798 -73.916184   \n",
       "1             18-24                M   BLACK HISPANIC  40.845956 -73.937813   \n",
       "2             25-44                M            BLACK  40.682398 -73.840079   \n",
       "3             18-24                M            BLACK  40.689336 -73.800409   \n",
       "4             18-24                M            BLACK  40.634708 -74.124241   \n",
       "\n",
       "    ano  dia  mes dia_da_semana  assalto  \n",
       "0  2020   25   12        Friday        1  \n",
       "1  2020   22   12       Tuesday        1  \n",
       "2  2020   21   12        Monday        1  \n",
       "3  2020   10   12      Thursday        1  \n",
       "4  2020    9   12     Wednesday        0  "
      ]
     },
     "execution_count": 16,
     "metadata": {},
     "output_type": "execute_result"
    }
   ],
   "source": [
    "df.head()"
   ]
  },
  {
   "cell_type": "markdown",
   "metadata": {},
   "source": [
    "- Criando a coluna final de semana."
   ]
  },
  {
   "cell_type": "code",
   "execution_count": 17,
   "metadata": {},
   "outputs": [],
   "source": [
    "df['fds'] = df['dia_da_semana'].apply(lambda x: 1 if x=='Sunday' or x =='Saturday' else 0)"
   ]
  },
  {
   "cell_type": "code",
   "execution_count": 18,
   "metadata": {},
   "outputs": [
    {
     "data": {
      "text/plain": [
       "Saturday    16611\n",
       "Sunday      14774\n",
       "Name: dia_da_semana, dtype: int64"
      ]
     },
     "execution_count": 18,
     "metadata": {},
     "output_type": "execute_result"
    }
   ],
   "source": [
    "df[df['fds']==1].dia_da_semana.value_counts()"
   ]
  },
  {
   "cell_type": "markdown",
   "metadata": {},
   "source": [
    "- Criando um novo arquivo csv manipulado."
   ]
  },
  {
   "cell_type": "code",
   "execution_count": 19,
   "metadata": {},
   "outputs": [],
   "source": [
    "df.to_csv('dados_manipulados.csv', index =False , encoding = 'utf-8')"
   ]
  },
  {
   "cell_type": "code",
   "execution_count": 20,
   "metadata": {},
   "outputs": [],
   "source": [
    "df_teste = pd.read_csv('dados_manipulados.csv')"
   ]
  },
  {
   "cell_type": "code",
   "execution_count": 21,
   "metadata": {},
   "outputs": [
    {
     "data": {
      "text/html": [
       "<div>\n",
       "<style scoped>\n",
       "    .dataframe tbody tr th:only-of-type {\n",
       "        vertical-align: middle;\n",
       "    }\n",
       "\n",
       "    .dataframe tbody tr th {\n",
       "        vertical-align: top;\n",
       "    }\n",
       "\n",
       "    .dataframe thead th {\n",
       "        text-align: right;\n",
       "    }\n",
       "</style>\n",
       "<table border=\"1\" class=\"dataframe\">\n",
       "  <thead>\n",
       "    <tr style=\"text-align: right;\">\n",
       "      <th></th>\n",
       "      <th>data_da_ocorrencia</th>\n",
       "      <th>descricao_da_ofensa</th>\n",
       "      <th>nivel_da_ofensa</th>\n",
       "      <th>bairro</th>\n",
       "      <th>idade_do_infrator</th>\n",
       "      <th>sexo_do_infrator</th>\n",
       "      <th>raca_do_infrator</th>\n",
       "      <th>latitude</th>\n",
       "      <th>longitude</th>\n",
       "      <th>ano</th>\n",
       "      <th>dia</th>\n",
       "      <th>mes</th>\n",
       "      <th>dia_da_semana</th>\n",
       "      <th>assalto</th>\n",
       "      <th>fds</th>\n",
       "    </tr>\n",
       "  </thead>\n",
       "  <tbody>\n",
       "    <tr>\n",
       "      <th>0</th>\n",
       "      <td>2020-12-25</td>\n",
       "      <td>FELONY ASSAULT</td>\n",
       "      <td>crime</td>\n",
       "      <td>Bronx</td>\n",
       "      <td>25-44</td>\n",
       "      <td>M</td>\n",
       "      <td>BLACK</td>\n",
       "      <td>40.808798</td>\n",
       "      <td>-73.916184</td>\n",
       "      <td>2020</td>\n",
       "      <td>25</td>\n",
       "      <td>12</td>\n",
       "      <td>Friday</td>\n",
       "      <td>1</td>\n",
       "      <td>0</td>\n",
       "    </tr>\n",
       "    <tr>\n",
       "      <th>1</th>\n",
       "      <td>2020-12-22</td>\n",
       "      <td>ROBBERY</td>\n",
       "      <td>crime</td>\n",
       "      <td>Manhattan</td>\n",
       "      <td>18-24</td>\n",
       "      <td>M</td>\n",
       "      <td>BLACK HISPANIC</td>\n",
       "      <td>40.845956</td>\n",
       "      <td>-73.937813</td>\n",
       "      <td>2020</td>\n",
       "      <td>22</td>\n",
       "      <td>12</td>\n",
       "      <td>Tuesday</td>\n",
       "      <td>1</td>\n",
       "      <td>0</td>\n",
       "    </tr>\n",
       "    <tr>\n",
       "      <th>2</th>\n",
       "      <td>2020-12-21</td>\n",
       "      <td>FELONY ASSAULT</td>\n",
       "      <td>crime</td>\n",
       "      <td>Queens</td>\n",
       "      <td>25-44</td>\n",
       "      <td>M</td>\n",
       "      <td>BLACK</td>\n",
       "      <td>40.682398</td>\n",
       "      <td>-73.840079</td>\n",
       "      <td>2020</td>\n",
       "      <td>21</td>\n",
       "      <td>12</td>\n",
       "      <td>Monday</td>\n",
       "      <td>1</td>\n",
       "      <td>0</td>\n",
       "    </tr>\n",
       "    <tr>\n",
       "      <th>3</th>\n",
       "      <td>2020-12-10</td>\n",
       "      <td>FELONY ASSAULT</td>\n",
       "      <td>crime</td>\n",
       "      <td>Queens</td>\n",
       "      <td>18-24</td>\n",
       "      <td>M</td>\n",
       "      <td>BLACK</td>\n",
       "      <td>40.689336</td>\n",
       "      <td>-73.800409</td>\n",
       "      <td>2020</td>\n",
       "      <td>10</td>\n",
       "      <td>12</td>\n",
       "      <td>Thursday</td>\n",
       "      <td>1</td>\n",
       "      <td>0</td>\n",
       "    </tr>\n",
       "    <tr>\n",
       "      <th>4</th>\n",
       "      <td>2020-12-09</td>\n",
       "      <td>FORGERY</td>\n",
       "      <td>crime</td>\n",
       "      <td>Staten_Island</td>\n",
       "      <td>18-24</td>\n",
       "      <td>M</td>\n",
       "      <td>BLACK</td>\n",
       "      <td>40.634708</td>\n",
       "      <td>-74.124241</td>\n",
       "      <td>2020</td>\n",
       "      <td>9</td>\n",
       "      <td>12</td>\n",
       "      <td>Wednesday</td>\n",
       "      <td>0</td>\n",
       "      <td>0</td>\n",
       "    </tr>\n",
       "  </tbody>\n",
       "</table>\n",
       "</div>"
      ],
      "text/plain": [
       "  data_da_ocorrencia descricao_da_ofensa nivel_da_ofensa         bairro  \\\n",
       "0         2020-12-25      FELONY ASSAULT           crime          Bronx   \n",
       "1         2020-12-22             ROBBERY           crime      Manhattan   \n",
       "2         2020-12-21      FELONY ASSAULT           crime         Queens   \n",
       "3         2020-12-10      FELONY ASSAULT           crime         Queens   \n",
       "4         2020-12-09             FORGERY           crime  Staten_Island   \n",
       "\n",
       "  idade_do_infrator sexo_do_infrator raca_do_infrator   latitude  longitude  \\\n",
       "0             25-44                M            BLACK  40.808798 -73.916184   \n",
       "1             18-24                M   BLACK HISPANIC  40.845956 -73.937813   \n",
       "2             25-44                M            BLACK  40.682398 -73.840079   \n",
       "3             18-24                M            BLACK  40.689336 -73.800409   \n",
       "4             18-24                M            BLACK  40.634708 -74.124241   \n",
       "\n",
       "    ano  dia  mes dia_da_semana  assalto  fds  \n",
       "0  2020   25   12        Friday        1    0  \n",
       "1  2020   22   12       Tuesday        1    0  \n",
       "2  2020   21   12        Monday        1    0  \n",
       "3  2020   10   12      Thursday        1    0  \n",
       "4  2020    9   12     Wednesday        0    0  "
      ]
     },
     "execution_count": 21,
     "metadata": {},
     "output_type": "execute_result"
    }
   ],
   "source": [
    "df_teste.head()"
   ]
  },
  {
   "cell_type": "code",
   "execution_count": 22,
   "metadata": {},
   "outputs": [
    {
     "data": {
      "text/plain": [
       "(140413, 15)"
      ]
     },
     "execution_count": 22,
     "metadata": {},
     "output_type": "execute_result"
    }
   ],
   "source": [
    "df.shape"
   ]
  },
  {
   "cell_type": "code",
   "execution_count": 23,
   "metadata": {},
   "outputs": [
    {
     "data": {
      "text/plain": [
       "(140413, 15)"
      ]
     },
     "execution_count": 23,
     "metadata": {},
     "output_type": "execute_result"
    }
   ],
   "source": [
    "df_teste.shape"
   ]
  },
  {
   "cell_type": "code",
   "execution_count": null,
   "metadata": {},
   "outputs": [],
   "source": []
  }
 ],
 "metadata": {
  "colab": {
   "collapsed_sections": [],
   "name": "Crimes.ipynb",
   "provenance": []
  },
  "kernelspec": {
   "display_name": "Python 3",
   "language": "python",
   "name": "python3"
  },
  "language_info": {
   "codemirror_mode": {
    "name": "ipython",
    "version": 3
   },
   "file_extension": ".py",
   "mimetype": "text/x-python",
   "name": "python",
   "nbconvert_exporter": "python",
   "pygments_lexer": "ipython3",
   "version": "3.8.3"
  }
 },
 "nbformat": 4,
 "nbformat_minor": 1
}
