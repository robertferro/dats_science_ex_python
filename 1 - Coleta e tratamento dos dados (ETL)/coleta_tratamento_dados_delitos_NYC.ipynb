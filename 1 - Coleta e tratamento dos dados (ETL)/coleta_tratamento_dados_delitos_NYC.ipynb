{
 "cells": [
  {
   "cell_type": "markdown",
   "metadata": {
    "id": "Uh7x-tzWVS4M"
   },
   "source": [
    "This dataset includes all valid felony, misdemeanor, and violation crimes reported to the New York City Police Department (NYPD) from 2006 to the end of last year (2019). For additional details, please see the attached data dictionary in the ‘About’ section.\n",
    "\n",
    "link: https://data.cityofnewyork.us/Public-Safety/NYPD-Complaint-Data-Historic/qgea-i56i"
   ]
  },
  {
   "cell_type": "code",
   "execution_count": 1,
   "metadata": {},
   "outputs": [],
   "source": [
    "# !pip install -U scikit-learn\n",
    "# !pip install xgboost==0.81\n",
    "# !pip install sodapy\n",
    "#  Example authenticated client (needed for non-public datasets):\n",
    "# https://data.cityofnewyork.us/resource/qgea-i56i.json\n",
    "# client = Socrata(data.cityofnewyork.us,\n",
    "#                  MyAppToken,\n",
    "#                  userame=\"user@example.com\",\n",
    "#                  password=\"AFakePassword\")\n",
    "# Unauthenticated client only works with public data sets. Note 'None'\n",
    "# in place of application token, and no username or password:\n",
    "\n",
    "# from sodapy import Socrata\n",
    "# client = Socrata(\"data.cityofnewyork.us\", None)\n",
    "\n",
    "# results, returned as JSON from API / converted to Python list of\n",
    "# dictionaries by sodapy.\n",
    "# results = client.get(\"qgea-i56i\", limit=750000)\n",
    "\n",
    "\n",
    "# Convert to pandas DataFrame\n",
    "# results_df = pd.DataFrame.from_records(results)"
   ]
  },
  {
   "cell_type": "markdown",
   "metadata": {
    "id": "UNGGYIF-YiiD"
   },
   "source": [
    "## 1 - Extração e carregamento dos dados."
   ]
  },
  {
   "cell_type": "markdown",
   "metadata": {},
   "source": [
    "- Importando as bibliotecas."
   ]
  },
  {
   "cell_type": "code",
   "execution_count": 1,
   "metadata": {
    "id": "amWCtd1dabda"
   },
   "outputs": [],
   "source": [
    "import pandas as pd\n",
    "import numpy as np\n",
    "import datetime as dt\n",
    "import datetime\n",
    "from datetime import date\n",
    "import matplotlib.pyplot as plt\n",
    "import seaborn as sns"
   ]
  },
  {
   "cell_type": "markdown",
   "metadata": {},
   "source": [
    "- Solicitando os dados por meio da API sodapy"
   ]
  },
  {
   "cell_type": "code",
   "execution_count": 2,
   "metadata": {
    "id": "wCNjUxR1av0g"
   },
   "outputs": [],
   "source": [
    "url='https://data.cityofnewyork.us/resource/qgea-i56i.json?$limit=750000'"
   ]
  },
  {
   "cell_type": "code",
   "execution_count": 3,
   "metadata": {
    "id": "TtLKjCb5a4WK"
   },
   "outputs": [],
   "source": [
    "dados = pd.read_json(url)"
   ]
  },
  {
   "cell_type": "markdown",
   "metadata": {},
   "source": [
    "- Exibindo o daatset"
   ]
  },
  {
   "cell_type": "code",
   "execution_count": 4,
   "metadata": {},
   "outputs": [
    {
     "data": {
      "text/html": [
       "<div>\n",
       "<style scoped>\n",
       "    .dataframe tbody tr th:only-of-type {\n",
       "        vertical-align: middle;\n",
       "    }\n",
       "\n",
       "    .dataframe tbody tr th {\n",
       "        vertical-align: top;\n",
       "    }\n",
       "\n",
       "    .dataframe thead th {\n",
       "        text-align: right;\n",
       "    }\n",
       "</style>\n",
       "<table border=\"1\" class=\"dataframe\">\n",
       "  <thead>\n",
       "    <tr style=\"text-align: right;\">\n",
       "      <th></th>\n",
       "      <th>:@computed_region_92fq_4b7q</th>\n",
       "      <th>:@computed_region_efsh_h5xi</th>\n",
       "      <th>:@computed_region_f5dn_yrer</th>\n",
       "      <th>:@computed_region_sbqj_enih</th>\n",
       "      <th>:@computed_region_yeji_bk3q</th>\n",
       "      <th>addr_pct_cd</th>\n",
       "      <th>boro_nm</th>\n",
       "      <th>cmplnt_fr_dt</th>\n",
       "      <th>cmplnt_fr_tm</th>\n",
       "      <th>cmplnt_num</th>\n",
       "      <th>cmplnt_to_dt</th>\n",
       "      <th>cmplnt_to_tm</th>\n",
       "      <th>crm_atpt_cptd_cd</th>\n",
       "      <th>hadevelopt</th>\n",
       "      <th>housing_psa</th>\n",
       "      <th>juris_desc</th>\n",
       "      <th>jurisdiction_code</th>\n",
       "      <th>ky_cd</th>\n",
       "      <th>lat_lon</th>\n",
       "      <th>latitude</th>\n",
       "      <th>law_cat_cd</th>\n",
       "      <th>loc_of_occur_desc</th>\n",
       "      <th>longitude</th>\n",
       "      <th>ofns_desc</th>\n",
       "      <th>parks_nm</th>\n",
       "      <th>patrol_boro</th>\n",
       "      <th>pd_cd</th>\n",
       "      <th>pd_desc</th>\n",
       "      <th>prem_typ_desc</th>\n",
       "      <th>rpt_dt</th>\n",
       "      <th>station_name</th>\n",
       "      <th>susp_age_group</th>\n",
       "      <th>susp_race</th>\n",
       "      <th>susp_sex</th>\n",
       "      <th>transit_district</th>\n",
       "      <th>vic_age_group</th>\n",
       "      <th>vic_race</th>\n",
       "      <th>vic_sex</th>\n",
       "      <th>x_coord_cd</th>\n",
       "      <th>y_coord_cd</th>\n",
       "    </tr>\n",
       "  </thead>\n",
       "  <tbody>\n",
       "    <tr>\n",
       "      <th>0</th>\n",
       "      <td>29.0</td>\n",
       "      <td>10930.0</td>\n",
       "      <td>6.0</td>\n",
       "      <td>29.0</td>\n",
       "      <td>5.0</td>\n",
       "      <td>46.0</td>\n",
       "      <td>BRONX</td>\n",
       "      <td>2015-05-28T00:00:00.000</td>\n",
       "      <td>15:00:00</td>\n",
       "      <td>700381962</td>\n",
       "      <td>NaN</td>\n",
       "      <td>NaN</td>\n",
       "      <td>COMPLETED</td>\n",
       "      <td>NaN</td>\n",
       "      <td>NA</td>\n",
       "      <td>N.Y. POLICE DEPT</td>\n",
       "      <td>0.0</td>\n",
       "      <td>578</td>\n",
       "      <td>{'latitude': '40.84586773', 'longitude': '-73....</td>\n",
       "      <td>40.845868</td>\n",
       "      <td>VIOLATION</td>\n",
       "      <td>INSIDE</td>\n",
       "      <td>-73.915888</td>\n",
       "      <td>HARRASSMENT 2</td>\n",
       "      <td>NaN</td>\n",
       "      <td>PATROL BORO BRONX</td>\n",
       "      <td>638.0</td>\n",
       "      <td>HARASSMENT,SUBD 3,4,5</td>\n",
       "      <td>RESIDENCE - APT. HOUSE</td>\n",
       "      <td>2015-06-01T00:00:00.000</td>\n",
       "      <td>NaN</td>\n",
       "      <td>25-44</td>\n",
       "      <td>BLACK</td>\n",
       "      <td>M</td>\n",
       "      <td>NaN</td>\n",
       "      <td>25-44</td>\n",
       "      <td>WHITE HISPANIC</td>\n",
       "      <td>F</td>\n",
       "      <td>1007522.0</td>\n",
       "      <td>247458.0</td>\n",
       "    </tr>\n",
       "    <tr>\n",
       "      <th>1</th>\n",
       "      <td>13.0</td>\n",
       "      <td>10691.0</td>\n",
       "      <td>4.0</td>\n",
       "      <td>74.0</td>\n",
       "      <td>1.0</td>\n",
       "      <td>120.0</td>\n",
       "      <td>STATEN ISLAND</td>\n",
       "      <td>2013-10-28T00:00:00.000</td>\n",
       "      <td>13:50:00</td>\n",
       "      <td>642234217</td>\n",
       "      <td>2013-10-28T00:00:00.000</td>\n",
       "      <td>13:50:00</td>\n",
       "      <td>COMPLETED</td>\n",
       "      <td>NaN</td>\n",
       "      <td>NA</td>\n",
       "      <td>N.Y. POLICE DEPT</td>\n",
       "      <td>0.0</td>\n",
       "      <td>351</td>\n",
       "      <td>{'latitude': '40.627060894', 'longitude': '-74...</td>\n",
       "      <td>40.627061</td>\n",
       "      <td>MISDEMEANOR</td>\n",
       "      <td>INSIDE</td>\n",
       "      <td>-74.077149</td>\n",
       "      <td>CRIMINAL MISCHIEF &amp; RELATED OF</td>\n",
       "      <td>NA</td>\n",
       "      <td>PATROL BORO STATEN ISLAND</td>\n",
       "      <td>259.0</td>\n",
       "      <td>CRIMINAL MISCHIEF,UNCLASSIFIED 4</td>\n",
       "      <td>RESIDENCE - APT. HOUSE</td>\n",
       "      <td>2013-10-28T00:00:00.000</td>\n",
       "      <td>NaN</td>\n",
       "      <td>NaN</td>\n",
       "      <td>NaN</td>\n",
       "      <td>NaN</td>\n",
       "      <td>NaN</td>\n",
       "      <td>45-64</td>\n",
       "      <td>WHITE</td>\n",
       "      <td>M</td>\n",
       "      <td>962835.0</td>\n",
       "      <td>167738.0</td>\n",
       "    </tr>\n",
       "    <tr>\n",
       "      <th>2</th>\n",
       "      <td>19.0</td>\n",
       "      <td>12422.0</td>\n",
       "      <td>20.0</td>\n",
       "      <td>15.0</td>\n",
       "      <td>4.0</td>\n",
       "      <td>24.0</td>\n",
       "      <td>MANHATTAN</td>\n",
       "      <td>2012-05-09T00:00:00.000</td>\n",
       "      <td>20:50:00</td>\n",
       "      <td>242465164</td>\n",
       "      <td>2012-05-09T00:00:00.000</td>\n",
       "      <td>21:00:00</td>\n",
       "      <td>COMPLETED</td>\n",
       "      <td>NaN</td>\n",
       "      <td>NA</td>\n",
       "      <td>N.Y. POLICE DEPT</td>\n",
       "      <td>0.0</td>\n",
       "      <td>236</td>\n",
       "      <td>{'latitude': '40.800965968', 'longitude': '-73...</td>\n",
       "      <td>40.800966</td>\n",
       "      <td>MISDEMEANOR</td>\n",
       "      <td>NaN</td>\n",
       "      <td>-73.969047</td>\n",
       "      <td>DANGEROUS WEAPONS</td>\n",
       "      <td>NA</td>\n",
       "      <td>PATROL BORO MAN NORTH</td>\n",
       "      <td>782.0</td>\n",
       "      <td>WEAPONS, POSSESSION, ETC</td>\n",
       "      <td>STREET</td>\n",
       "      <td>2012-05-09T00:00:00.000</td>\n",
       "      <td>NaN</td>\n",
       "      <td>NaN</td>\n",
       "      <td>NaN</td>\n",
       "      <td>NaN</td>\n",
       "      <td>NaN</td>\n",
       "      <td>NaN</td>\n",
       "      <td>UNKNOWN</td>\n",
       "      <td>E</td>\n",
       "      <td>992820.0</td>\n",
       "      <td>231089.0</td>\n",
       "    </tr>\n",
       "    <tr>\n",
       "      <th>3</th>\n",
       "      <td>33.0</td>\n",
       "      <td>14787.0</td>\n",
       "      <td>53.0</td>\n",
       "      <td>66.0</td>\n",
       "      <td>3.0</td>\n",
       "      <td>108.0</td>\n",
       "      <td>QUEENS</td>\n",
       "      <td>2014-01-03T00:00:00.000</td>\n",
       "      <td>13:30:00</td>\n",
       "      <td>927207428</td>\n",
       "      <td>2014-01-03T00:00:00.000</td>\n",
       "      <td>13:35:00</td>\n",
       "      <td>ATTEMPTED</td>\n",
       "      <td>NaN</td>\n",
       "      <td>NA</td>\n",
       "      <td>N.Y. POLICE DEPT</td>\n",
       "      <td>0.0</td>\n",
       "      <td>109</td>\n",
       "      <td>{'latitude': '40.745241809', 'longitude': '-73...</td>\n",
       "      <td>40.745242</td>\n",
       "      <td>FELONY</td>\n",
       "      <td>INSIDE</td>\n",
       "      <td>-73.894253</td>\n",
       "      <td>GRAND LARCENY</td>\n",
       "      <td>NaN</td>\n",
       "      <td>PATROL BORO QUEENS NORTH</td>\n",
       "      <td>409.0</td>\n",
       "      <td>LARCENY,GRAND BY EXTORTION</td>\n",
       "      <td>RESIDENCE - APT. HOUSE</td>\n",
       "      <td>2014-01-03T00:00:00.000</td>\n",
       "      <td>NaN</td>\n",
       "      <td>NaN</td>\n",
       "      <td>UNKNOWN</td>\n",
       "      <td>M</td>\n",
       "      <td>NaN</td>\n",
       "      <td>45-64</td>\n",
       "      <td>ASIAN / PACIFIC ISLANDER</td>\n",
       "      <td>M</td>\n",
       "      <td>1013552.0</td>\n",
       "      <td>210803.0</td>\n",
       "    </tr>\n",
       "    <tr>\n",
       "      <th>4</th>\n",
       "      <td>35.0</td>\n",
       "      <td>10932.0</td>\n",
       "      <td>49.0</td>\n",
       "      <td>23.0</td>\n",
       "      <td>5.0</td>\n",
       "      <td>40.0</td>\n",
       "      <td>BRONX</td>\n",
       "      <td>2016-04-13T00:00:00.000</td>\n",
       "      <td>00:00:00</td>\n",
       "      <td>492142357</td>\n",
       "      <td>NaN</td>\n",
       "      <td>NaN</td>\n",
       "      <td>COMPLETED</td>\n",
       "      <td>NaN</td>\n",
       "      <td>NA</td>\n",
       "      <td>N.Y. POLICE DEPT</td>\n",
       "      <td>0.0</td>\n",
       "      <td>351</td>\n",
       "      <td>{'latitude': '40.810351863', 'longitude': '-73...</td>\n",
       "      <td>40.810352</td>\n",
       "      <td>MISDEMEANOR</td>\n",
       "      <td>NaN</td>\n",
       "      <td>-73.924942</td>\n",
       "      <td>CRIMINAL MISCHIEF &amp; RELATED OF</td>\n",
       "      <td>NaN</td>\n",
       "      <td>PATROL BORO BRONX</td>\n",
       "      <td>258.0</td>\n",
       "      <td>CRIMINAL MISCHIEF 4TH, GRAFFIT</td>\n",
       "      <td>HIGHWAY/PARKWAY</td>\n",
       "      <td>2016-04-13T00:00:00.000</td>\n",
       "      <td>NaN</td>\n",
       "      <td>NaN</td>\n",
       "      <td>NaN</td>\n",
       "      <td>NaN</td>\n",
       "      <td>NaN</td>\n",
       "      <td>UNKNOWN</td>\n",
       "      <td>UNKNOWN</td>\n",
       "      <td>E</td>\n",
       "      <td>1005028.0</td>\n",
       "      <td>234516.0</td>\n",
       "    </tr>\n",
       "  </tbody>\n",
       "</table>\n",
       "</div>"
      ],
      "text/plain": [
       "   :@computed_region_92fq_4b7q  :@computed_region_efsh_h5xi  \\\n",
       "0                         29.0                      10930.0   \n",
       "1                         13.0                      10691.0   \n",
       "2                         19.0                      12422.0   \n",
       "3                         33.0                      14787.0   \n",
       "4                         35.0                      10932.0   \n",
       "\n",
       "   :@computed_region_f5dn_yrer  :@computed_region_sbqj_enih  \\\n",
       "0                          6.0                         29.0   \n",
       "1                          4.0                         74.0   \n",
       "2                         20.0                         15.0   \n",
       "3                         53.0                         66.0   \n",
       "4                         49.0                         23.0   \n",
       "\n",
       "   :@computed_region_yeji_bk3q  addr_pct_cd        boro_nm  \\\n",
       "0                          5.0         46.0          BRONX   \n",
       "1                          1.0        120.0  STATEN ISLAND   \n",
       "2                          4.0         24.0      MANHATTAN   \n",
       "3                          3.0        108.0         QUEENS   \n",
       "4                          5.0         40.0          BRONX   \n",
       "\n",
       "              cmplnt_fr_dt cmplnt_fr_tm  cmplnt_num             cmplnt_to_dt  \\\n",
       "0  2015-05-28T00:00:00.000     15:00:00   700381962                      NaN   \n",
       "1  2013-10-28T00:00:00.000     13:50:00   642234217  2013-10-28T00:00:00.000   \n",
       "2  2012-05-09T00:00:00.000     20:50:00   242465164  2012-05-09T00:00:00.000   \n",
       "3  2014-01-03T00:00:00.000     13:30:00   927207428  2014-01-03T00:00:00.000   \n",
       "4  2016-04-13T00:00:00.000     00:00:00   492142357                      NaN   \n",
       "\n",
       "  cmplnt_to_tm crm_atpt_cptd_cd hadevelopt housing_psa        juris_desc  \\\n",
       "0          NaN        COMPLETED        NaN          NA  N.Y. POLICE DEPT   \n",
       "1     13:50:00        COMPLETED        NaN          NA  N.Y. POLICE DEPT   \n",
       "2     21:00:00        COMPLETED        NaN          NA  N.Y. POLICE DEPT   \n",
       "3     13:35:00        ATTEMPTED        NaN          NA  N.Y. POLICE DEPT   \n",
       "4          NaN        COMPLETED        NaN          NA  N.Y. POLICE DEPT   \n",
       "\n",
       "   jurisdiction_code  ky_cd  \\\n",
       "0                0.0    578   \n",
       "1                0.0    351   \n",
       "2                0.0    236   \n",
       "3                0.0    109   \n",
       "4                0.0    351   \n",
       "\n",
       "                                             lat_lon   latitude   law_cat_cd  \\\n",
       "0  {'latitude': '40.84586773', 'longitude': '-73....  40.845868    VIOLATION   \n",
       "1  {'latitude': '40.627060894', 'longitude': '-74...  40.627061  MISDEMEANOR   \n",
       "2  {'latitude': '40.800965968', 'longitude': '-73...  40.800966  MISDEMEANOR   \n",
       "3  {'latitude': '40.745241809', 'longitude': '-73...  40.745242       FELONY   \n",
       "4  {'latitude': '40.810351863', 'longitude': '-73...  40.810352  MISDEMEANOR   \n",
       "\n",
       "  loc_of_occur_desc  longitude                       ofns_desc parks_nm  \\\n",
       "0            INSIDE -73.915888                   HARRASSMENT 2      NaN   \n",
       "1            INSIDE -74.077149  CRIMINAL MISCHIEF & RELATED OF       NA   \n",
       "2               NaN -73.969047               DANGEROUS WEAPONS       NA   \n",
       "3            INSIDE -73.894253                   GRAND LARCENY      NaN   \n",
       "4               NaN -73.924942  CRIMINAL MISCHIEF & RELATED OF      NaN   \n",
       "\n",
       "                 patrol_boro  pd_cd                           pd_desc  \\\n",
       "0          PATROL BORO BRONX  638.0             HARASSMENT,SUBD 3,4,5   \n",
       "1  PATROL BORO STATEN ISLAND  259.0  CRIMINAL MISCHIEF,UNCLASSIFIED 4   \n",
       "2      PATROL BORO MAN NORTH  782.0          WEAPONS, POSSESSION, ETC   \n",
       "3   PATROL BORO QUEENS NORTH  409.0        LARCENY,GRAND BY EXTORTION   \n",
       "4          PATROL BORO BRONX  258.0    CRIMINAL MISCHIEF 4TH, GRAFFIT   \n",
       "\n",
       "            prem_typ_desc                   rpt_dt station_name  \\\n",
       "0  RESIDENCE - APT. HOUSE  2015-06-01T00:00:00.000          NaN   \n",
       "1  RESIDENCE - APT. HOUSE  2013-10-28T00:00:00.000          NaN   \n",
       "2                  STREET  2012-05-09T00:00:00.000          NaN   \n",
       "3  RESIDENCE - APT. HOUSE  2014-01-03T00:00:00.000          NaN   \n",
       "4         HIGHWAY/PARKWAY  2016-04-13T00:00:00.000          NaN   \n",
       "\n",
       "  susp_age_group susp_race susp_sex  transit_district vic_age_group  \\\n",
       "0          25-44     BLACK        M               NaN         25-44   \n",
       "1            NaN       NaN      NaN               NaN         45-64   \n",
       "2            NaN       NaN      NaN               NaN           NaN   \n",
       "3            NaN   UNKNOWN        M               NaN         45-64   \n",
       "4            NaN       NaN      NaN               NaN       UNKNOWN   \n",
       "\n",
       "                   vic_race vic_sex  x_coord_cd  y_coord_cd  \n",
       "0            WHITE HISPANIC       F   1007522.0    247458.0  \n",
       "1                     WHITE       M    962835.0    167738.0  \n",
       "2                   UNKNOWN       E    992820.0    231089.0  \n",
       "3  ASIAN / PACIFIC ISLANDER       M   1013552.0    210803.0  \n",
       "4                   UNKNOWN       E   1005028.0    234516.0  "
      ]
     },
     "execution_count": 4,
     "metadata": {},
     "output_type": "execute_result"
    }
   ],
   "source": [
    "pd.set_option(\"display.max_columns\", 50)\n",
    "dados.head()"
   ]
  },
  {
   "cell_type": "markdown",
   "metadata": {},
   "source": [
    "- Selecionando apenas os dados correspondentes a jurisdição da polícia."
   ]
  },
  {
   "cell_type": "code",
   "execution_count": 5,
   "metadata": {},
   "outputs": [],
   "source": [
    "dados = dados.query('jurisdiction_code==0')"
   ]
  },
  {
   "cell_type": "code",
   "execution_count": 6,
   "metadata": {},
   "outputs": [
    {
     "data": {
      "text/plain": [
       "(664388, 40)"
      ]
     },
     "execution_count": 6,
     "metadata": {},
     "output_type": "execute_result"
    }
   ],
   "source": [
    "dados.shape"
   ]
  },
  {
   "cell_type": "markdown",
   "metadata": {
    "id": "5uTo_0cNhHEu"
   },
   "source": [
    "## 2 - Tratamento dos dados.\n",
    "\n",
    "- Neste tópico será feito um tratamento de dados, com exclusão, modificação do  tipo e conteúdo de algumas colunas.\n"
   ]
  },
  {
   "cell_type": "markdown",
   "metadata": {},
   "source": [
    "- Criando a lista de colunas a serem excluídas."
   ]
  },
  {
   "cell_type": "code",
   "execution_count": 7,
   "metadata": {
    "id": "_Tg6tQI1fRa_"
   },
   "outputs": [],
   "source": [
    "drop_columns=['cmplnt_num','addr_pct_cd','ky_cd','pd_cd','juris_desc','jurisdiction_code','housing_psa','x_coord_cd','y_coord_cd','lat_lon',':@computed_region_efsh_h5xi',\n",
    "              ':@computed_region_f5dn_yrer',':@computed_region_yeji_bk3q',':@computed_region_92fq_4b7q',':@computed_region_sbqj_enih','susp_age_group','susp_race','susp_sex',\n",
    "              'patrol_boro','hadevelopt']"
   ]
  },
  {
   "cell_type": "markdown",
   "metadata": {},
   "source": [
    "- Excluindo as colunas."
   ]
  },
  {
   "cell_type": "code",
   "execution_count": 8,
   "metadata": {
    "id": "bTrCqBrshUqN"
   },
   "outputs": [],
   "source": [
    "dados.drop(columns=drop_columns,axis=1,inplace=True)"
   ]
  },
  {
   "cell_type": "markdown",
   "metadata": {},
   "source": [
    "- Reordenando as colunas do dataset."
   ]
  },
  {
   "cell_type": "code",
   "execution_count": 9,
   "metadata": {
    "id": "sfWg7hq_eiTn"
   },
   "outputs": [],
   "source": [
    "dados.columns=['bairro','data_da_ocorr','hora_da_ocorr','data_final_ocorr','hora_termino_ocorr',\n",
    "                'conclusao','latitude','nivel_delito','loc_esp_delito','longitude',\n",
    "                'delito','parque','desc_delito','desc_instalacoes','data_com_policia',\n",
    "               'rua_av','transit_district','idade_vitima','raca_vitima','sexo_vitima']"
   ]
  },
  {
   "cell_type": "code",
   "execution_count": 10,
   "metadata": {
    "colab": {
     "base_uri": "https://8080-cs-565886152761-default.cs-us-east1-wzxb.cloudshell.dev/",
     "height": 428
    },
    "id": "savHh_SEcppM",
    "outputId": "d6ddffbc-c70a-424a-a037-42a67dce7275"
   },
   "outputs": [
    {
     "data": {
      "text/html": [
       "<div>\n",
       "<style scoped>\n",
       "    .dataframe tbody tr th:only-of-type {\n",
       "        vertical-align: middle;\n",
       "    }\n",
       "\n",
       "    .dataframe tbody tr th {\n",
       "        vertical-align: top;\n",
       "    }\n",
       "\n",
       "    .dataframe thead th {\n",
       "        text-align: right;\n",
       "    }\n",
       "</style>\n",
       "<table border=\"1\" class=\"dataframe\">\n",
       "  <thead>\n",
       "    <tr style=\"text-align: right;\">\n",
       "      <th></th>\n",
       "      <th>bairro</th>\n",
       "      <th>data_da_ocorr</th>\n",
       "      <th>hora_da_ocorr</th>\n",
       "      <th>data_final_ocorr</th>\n",
       "      <th>hora_termino_ocorr</th>\n",
       "      <th>conclusao</th>\n",
       "      <th>latitude</th>\n",
       "      <th>nivel_delito</th>\n",
       "      <th>loc_esp_delito</th>\n",
       "      <th>longitude</th>\n",
       "      <th>delito</th>\n",
       "      <th>parque</th>\n",
       "      <th>desc_delito</th>\n",
       "      <th>desc_instalacoes</th>\n",
       "      <th>data_com_policia</th>\n",
       "      <th>rua_av</th>\n",
       "      <th>transit_district</th>\n",
       "      <th>idade_vitima</th>\n",
       "      <th>raca_vitima</th>\n",
       "      <th>sexo_vitima</th>\n",
       "    </tr>\n",
       "  </thead>\n",
       "  <tbody>\n",
       "    <tr>\n",
       "      <th>0</th>\n",
       "      <td>BRONX</td>\n",
       "      <td>2015-05-28T00:00:00.000</td>\n",
       "      <td>15:00:00</td>\n",
       "      <td>NaN</td>\n",
       "      <td>NaN</td>\n",
       "      <td>COMPLETED</td>\n",
       "      <td>40.845868</td>\n",
       "      <td>VIOLATION</td>\n",
       "      <td>INSIDE</td>\n",
       "      <td>-73.915888</td>\n",
       "      <td>HARRASSMENT 2</td>\n",
       "      <td>NaN</td>\n",
       "      <td>HARASSMENT,SUBD 3,4,5</td>\n",
       "      <td>RESIDENCE - APT. HOUSE</td>\n",
       "      <td>2015-06-01T00:00:00.000</td>\n",
       "      <td>NaN</td>\n",
       "      <td>NaN</td>\n",
       "      <td>25-44</td>\n",
       "      <td>WHITE HISPANIC</td>\n",
       "      <td>F</td>\n",
       "    </tr>\n",
       "    <tr>\n",
       "      <th>1</th>\n",
       "      <td>STATEN ISLAND</td>\n",
       "      <td>2013-10-28T00:00:00.000</td>\n",
       "      <td>13:50:00</td>\n",
       "      <td>2013-10-28T00:00:00.000</td>\n",
       "      <td>13:50:00</td>\n",
       "      <td>COMPLETED</td>\n",
       "      <td>40.627061</td>\n",
       "      <td>MISDEMEANOR</td>\n",
       "      <td>INSIDE</td>\n",
       "      <td>-74.077149</td>\n",
       "      <td>CRIMINAL MISCHIEF &amp; RELATED OF</td>\n",
       "      <td>NA</td>\n",
       "      <td>CRIMINAL MISCHIEF,UNCLASSIFIED 4</td>\n",
       "      <td>RESIDENCE - APT. HOUSE</td>\n",
       "      <td>2013-10-28T00:00:00.000</td>\n",
       "      <td>NaN</td>\n",
       "      <td>NaN</td>\n",
       "      <td>45-64</td>\n",
       "      <td>WHITE</td>\n",
       "      <td>M</td>\n",
       "    </tr>\n",
       "    <tr>\n",
       "      <th>2</th>\n",
       "      <td>MANHATTAN</td>\n",
       "      <td>2012-05-09T00:00:00.000</td>\n",
       "      <td>20:50:00</td>\n",
       "      <td>2012-05-09T00:00:00.000</td>\n",
       "      <td>21:00:00</td>\n",
       "      <td>COMPLETED</td>\n",
       "      <td>40.800966</td>\n",
       "      <td>MISDEMEANOR</td>\n",
       "      <td>NaN</td>\n",
       "      <td>-73.969047</td>\n",
       "      <td>DANGEROUS WEAPONS</td>\n",
       "      <td>NA</td>\n",
       "      <td>WEAPONS, POSSESSION, ETC</td>\n",
       "      <td>STREET</td>\n",
       "      <td>2012-05-09T00:00:00.000</td>\n",
       "      <td>NaN</td>\n",
       "      <td>NaN</td>\n",
       "      <td>NaN</td>\n",
       "      <td>UNKNOWN</td>\n",
       "      <td>E</td>\n",
       "    </tr>\n",
       "    <tr>\n",
       "      <th>3</th>\n",
       "      <td>QUEENS</td>\n",
       "      <td>2014-01-03T00:00:00.000</td>\n",
       "      <td>13:30:00</td>\n",
       "      <td>2014-01-03T00:00:00.000</td>\n",
       "      <td>13:35:00</td>\n",
       "      <td>ATTEMPTED</td>\n",
       "      <td>40.745242</td>\n",
       "      <td>FELONY</td>\n",
       "      <td>INSIDE</td>\n",
       "      <td>-73.894253</td>\n",
       "      <td>GRAND LARCENY</td>\n",
       "      <td>NaN</td>\n",
       "      <td>LARCENY,GRAND BY EXTORTION</td>\n",
       "      <td>RESIDENCE - APT. HOUSE</td>\n",
       "      <td>2014-01-03T00:00:00.000</td>\n",
       "      <td>NaN</td>\n",
       "      <td>NaN</td>\n",
       "      <td>45-64</td>\n",
       "      <td>ASIAN / PACIFIC ISLANDER</td>\n",
       "      <td>M</td>\n",
       "    </tr>\n",
       "    <tr>\n",
       "      <th>4</th>\n",
       "      <td>BRONX</td>\n",
       "      <td>2016-04-13T00:00:00.000</td>\n",
       "      <td>00:00:00</td>\n",
       "      <td>NaN</td>\n",
       "      <td>NaN</td>\n",
       "      <td>COMPLETED</td>\n",
       "      <td>40.810352</td>\n",
       "      <td>MISDEMEANOR</td>\n",
       "      <td>NaN</td>\n",
       "      <td>-73.924942</td>\n",
       "      <td>CRIMINAL MISCHIEF &amp; RELATED OF</td>\n",
       "      <td>NaN</td>\n",
       "      <td>CRIMINAL MISCHIEF 4TH, GRAFFIT</td>\n",
       "      <td>HIGHWAY/PARKWAY</td>\n",
       "      <td>2016-04-13T00:00:00.000</td>\n",
       "      <td>NaN</td>\n",
       "      <td>NaN</td>\n",
       "      <td>UNKNOWN</td>\n",
       "      <td>UNKNOWN</td>\n",
       "      <td>E</td>\n",
       "    </tr>\n",
       "  </tbody>\n",
       "</table>\n",
       "</div>"
      ],
      "text/plain": [
       "          bairro            data_da_ocorr hora_da_ocorr  \\\n",
       "0          BRONX  2015-05-28T00:00:00.000      15:00:00   \n",
       "1  STATEN ISLAND  2013-10-28T00:00:00.000      13:50:00   \n",
       "2      MANHATTAN  2012-05-09T00:00:00.000      20:50:00   \n",
       "3         QUEENS  2014-01-03T00:00:00.000      13:30:00   \n",
       "4          BRONX  2016-04-13T00:00:00.000      00:00:00   \n",
       "\n",
       "          data_final_ocorr hora_termino_ocorr  conclusao   latitude  \\\n",
       "0                      NaN                NaN  COMPLETED  40.845868   \n",
       "1  2013-10-28T00:00:00.000           13:50:00  COMPLETED  40.627061   \n",
       "2  2012-05-09T00:00:00.000           21:00:00  COMPLETED  40.800966   \n",
       "3  2014-01-03T00:00:00.000           13:35:00  ATTEMPTED  40.745242   \n",
       "4                      NaN                NaN  COMPLETED  40.810352   \n",
       "\n",
       "  nivel_delito loc_esp_delito  longitude                          delito  \\\n",
       "0    VIOLATION         INSIDE -73.915888                   HARRASSMENT 2   \n",
       "1  MISDEMEANOR         INSIDE -74.077149  CRIMINAL MISCHIEF & RELATED OF   \n",
       "2  MISDEMEANOR            NaN -73.969047               DANGEROUS WEAPONS   \n",
       "3       FELONY         INSIDE -73.894253                   GRAND LARCENY   \n",
       "4  MISDEMEANOR            NaN -73.924942  CRIMINAL MISCHIEF & RELATED OF   \n",
       "\n",
       "  parque                       desc_delito        desc_instalacoes  \\\n",
       "0    NaN             HARASSMENT,SUBD 3,4,5  RESIDENCE - APT. HOUSE   \n",
       "1     NA  CRIMINAL MISCHIEF,UNCLASSIFIED 4  RESIDENCE - APT. HOUSE   \n",
       "2     NA          WEAPONS, POSSESSION, ETC                  STREET   \n",
       "3    NaN        LARCENY,GRAND BY EXTORTION  RESIDENCE - APT. HOUSE   \n",
       "4    NaN    CRIMINAL MISCHIEF 4TH, GRAFFIT         HIGHWAY/PARKWAY   \n",
       "\n",
       "          data_com_policia rua_av  transit_district idade_vitima  \\\n",
       "0  2015-06-01T00:00:00.000    NaN               NaN        25-44   \n",
       "1  2013-10-28T00:00:00.000    NaN               NaN        45-64   \n",
       "2  2012-05-09T00:00:00.000    NaN               NaN          NaN   \n",
       "3  2014-01-03T00:00:00.000    NaN               NaN        45-64   \n",
       "4  2016-04-13T00:00:00.000    NaN               NaN      UNKNOWN   \n",
       "\n",
       "                raca_vitima sexo_vitima  \n",
       "0            WHITE HISPANIC           F  \n",
       "1                     WHITE           M  \n",
       "2                   UNKNOWN           E  \n",
       "3  ASIAN / PACIFIC ISLANDER           M  \n",
       "4                   UNKNOWN           E  "
      ]
     },
     "execution_count": 10,
     "metadata": {},
     "output_type": "execute_result"
    }
   ],
   "source": [
    "dados.head()"
   ]
  },
  {
   "cell_type": "markdown",
   "metadata": {},
   "source": [
    "- Observando dados asentes e o tipo das colunas, para a partir daí tratar os dados faltantes e alterar o tipo das colunas que for necesário."
   ]
  },
  {
   "cell_type": "code",
   "execution_count": 11,
   "metadata": {},
   "outputs": [
    {
     "name": "stdout",
     "output_type": "stream",
     "text": [
      "<class 'pandas.core.frame.DataFrame'>\n",
      "Int64Index: 664388 entries, 0 to 749999\n",
      "Data columns (total 20 columns):\n",
      "bairro                664386 non-null object\n",
      "data_da_ocorr         664371 non-null object\n",
      "hora_da_ocorr         664388 non-null object\n",
      "data_final_ocorr      551693 non-null object\n",
      "hora_termino_ocorr    551980 non-null object\n",
      "conclusao             664388 non-null object\n",
      "latitude              664295 non-null float64\n",
      "nivel_delito          664388 non-null object\n",
      "loc_esp_delito        537930 non-null object\n",
      "longitude             664295 non-null float64\n",
      "delito                663734 non-null object\n",
      "parque                147893 non-null object\n",
      "desc_delito           664388 non-null object\n",
      "desc_instalacoes      661845 non-null object\n",
      "data_com_policia      664388 non-null object\n",
      "rua_av                31 non-null object\n",
      "transit_district      31 non-null float64\n",
      "idade_vitima          587700 non-null object\n",
      "raca_vitima           664385 non-null object\n",
      "sexo_vitima           664385 non-null object\n",
      "dtypes: float64(3), object(17)\n",
      "memory usage: 106.4+ MB\n"
     ]
    }
   ],
   "source": [
    "dados.info()"
   ]
  },
  {
   "cell_type": "markdown",
   "metadata": {
    "id": "hB1FR7fnL1Qs"
   },
   "source": [
    "### 2.1 **Criando novas colunas a partir da data da ocorrência.**"
   ]
  },
  {
   "cell_type": "markdown",
   "metadata": {},
   "source": [
    "- Excluindo dados ausentes referentes a coluna data da ocorrência."
   ]
  },
  {
   "cell_type": "code",
   "execution_count": 12,
   "metadata": {
    "id": "oKvMagk3G09i"
   },
   "outputs": [],
   "source": [
    "df = dados.dropna(subset=['data_da_ocorr'])"
   ]
  },
  {
   "cell_type": "markdown",
   "metadata": {},
   "source": [
    "- Criando novas variáveis referentes a data da ocorrencia, como dia da semana, mês, ano e dia do mês."
   ]
  },
  {
   "cell_type": "code",
   "execution_count": 13,
   "metadata": {
    "id": "NlhMfZU8Fyhm"
   },
   "outputs": [],
   "source": [
    "def date_to_weekday(date):\n",
    "    weekday_dict = {0:'segunda', 1:'terca', 2: 'quarta', 3: 'quinta', 4: 'sexta', 5: 'sabado', 6: 'domingo'}\n",
    "    date_time_obj = datetime.datetime.strptime(date, '%Y-%m-%d')\n",
    "    return weekday_dict[date_time_obj.weekday()]"
   ]
  },
  {
   "cell_type": "code",
   "execution_count": 14,
   "metadata": {
    "id": "w2hUaBblKaP0"
   },
   "outputs": [
    {
     "name": "stderr",
     "output_type": "stream",
     "text": [
      "/usr/local/envs/py3env/lib/python3.5/site-packages/ipykernel/__main__.py:3: SettingWithCopyWarning: \n",
      "A value is trying to be set on a copy of a slice from a DataFrame.\n",
      "Try using .loc[row_indexer,col_indexer] = value instead\n",
      "\n",
      "See the caveats in the documentation: http://pandas.pydata.org/pandas-docs/stable/indexing.html#indexing-view-versus-copy\n",
      "  app.launch_new_instance()\n",
      "/usr/local/envs/py3env/lib/python3.5/site-packages/ipykernel/__main__.py:4: SettingWithCopyWarning: \n",
      "A value is trying to be set on a copy of a slice from a DataFrame.\n",
      "Try using .loc[row_indexer,col_indexer] = value instead\n",
      "\n",
      "See the caveats in the documentation: http://pandas.pydata.org/pandas-docs/stable/indexing.html#indexing-view-versus-copy\n",
      "/usr/local/envs/py3env/lib/python3.5/site-packages/ipykernel/__main__.py:5: SettingWithCopyWarning: \n",
      "A value is trying to be set on a copy of a slice from a DataFrame.\n",
      "Try using .loc[row_indexer,col_indexer] = value instead\n",
      "\n",
      "See the caveats in the documentation: http://pandas.pydata.org/pandas-docs/stable/indexing.html#indexing-view-versus-copy\n",
      "/usr/local/envs/py3env/lib/python3.5/site-packages/ipykernel/__main__.py:6: SettingWithCopyWarning: \n",
      "A value is trying to be set on a copy of a slice from a DataFrame.\n",
      "Try using .loc[row_indexer,col_indexer] = value instead\n",
      "\n",
      "See the caveats in the documentation: http://pandas.pydata.org/pandas-docs/stable/indexing.html#indexing-view-versus-copy\n"
     ]
    }
   ],
   "source": [
    "date = df['data_da_ocorr'].str.split('T',expand=True, n=1)[0]\n",
    "date_1 = date.str.split(\"-\", n = 3, expand = True)\n",
    "df['ano'] = date_1[0].astype('int32')\n",
    "df['mes'] = date_1[1].astype('int32')\n",
    "df['dia'] = date_1[2].astype('int32')\n",
    "df['dia_da_semana'] = date.apply(date_to_weekday)"
   ]
  },
  {
   "cell_type": "markdown",
   "metadata": {},
   "source": [
    "- Criando a variável hora da ocorrência."
   ]
  },
  {
   "cell_type": "code",
   "execution_count": 15,
   "metadata": {},
   "outputs": [
    {
     "name": "stderr",
     "output_type": "stream",
     "text": [
      "/usr/local/envs/py3env/lib/python3.5/site-packages/ipykernel/__main__.py:1: SettingWithCopyWarning: \n",
      "A value is trying to be set on a copy of a slice from a DataFrame.\n",
      "Try using .loc[row_indexer,col_indexer] = value instead\n",
      "\n",
      "See the caveats in the documentation: http://pandas.pydata.org/pandas-docs/stable/indexing.html#indexing-view-versus-copy\n",
      "  if __name__ == '__main__':\n"
     ]
    }
   ],
   "source": [
    "df['hora'] = df['hora_da_ocorr'].str.split(':',n=2,expand=True)[0].astype(int)"
   ]
  },
  {
   "cell_type": "markdown",
   "metadata": {
    "id": "N-Vju6Rn_5S2"
   },
   "source": [
    "-  **Alterando a ordem das colunas do dataframe**"
   ]
  },
  {
   "cell_type": "code",
   "execution_count": 16,
   "metadata": {
    "id": "4P0oMdCCzCf5"
   },
   "outputs": [],
   "source": [
    "df = df[['data_da_ocorr', 'hora_da_ocorr',\n",
    "      'conclusao','delito','desc_delito','nivel_delito',\n",
    "       'loc_esp_delito','desc_instalacoes','bairro','latitude','longitude',  \n",
    "       'hora','dia', 'mes', 'ano','dia_da_semana','idade_vitima','raca_vitima','sexo_vitima']]"
   ]
  },
  {
   "cell_type": "markdown",
   "metadata": {
    "id": "p4D2Cc_dyuiJ"
   },
   "source": [
    "- Convertendo a coluna \"**data_da_ocorr**\"  pro formato datetime "
   ]
  },
  {
   "cell_type": "code",
   "execution_count": 17,
   "metadata": {
    "id": "oDY4vFV01lGk"
   },
   "outputs": [],
   "source": [
    "df['data_da_ocorr'] = pd.to_datetime(df['data_da_ocorr'], format=r'%Y-%m-%d', errors='coerce')"
   ]
  },
  {
   "cell_type": "markdown",
   "metadata": {},
   "source": [
    "- Verificando e removendo dados inconsistentes com relação a data."
   ]
  },
  {
   "cell_type": "code",
   "execution_count": 18,
   "metadata": {
    "colab": {
     "base_uri": "https://8080-cs-565886152761-default.cs-us-east1-wzxb.cloudshell.dev/",
     "height": 51
    },
    "id": "od9N1eVQyozD",
    "outputId": "49b5a4e4-d478-4ec3-da03-d80700e6b431"
   },
   "outputs": [
    {
     "data": {
      "text/plain": [
       "1912.0"
      ]
     },
     "metadata": {},
     "output_type": "display_data"
    },
    {
     "data": {
      "text/plain": [
       "2019.0"
      ]
     },
     "metadata": {},
     "output_type": "display_data"
    }
   ],
   "source": [
    "display(df['data_da_ocorr'].dt.year.min())\n",
    "display(df['data_da_ocorr'].dt.year.max())"
   ]
  },
  {
   "cell_type": "code",
   "execution_count": 19,
   "metadata": {
    "id": "NALPZIvw1Pi8"
   },
   "outputs": [],
   "source": [
    "df = df[df['ano'] >= 2006]"
   ]
  },
  {
   "cell_type": "markdown",
   "metadata": {
    "id": "VMCQkQPf53km"
   },
   "source": [
    "- Traduzindo os dados das colunas \"**conclusao**\", \"**nivel_delito**\" e \"**loc_esp_delito**\"."
   ]
  },
  {
   "cell_type": "code",
   "execution_count": 20,
   "metadata": {
    "id": "cmh3o8ymm6xC"
   },
   "outputs": [],
   "source": [
    "#  alterando os dados de  select_ny['conclusao']\n",
    "new_conclusao = {'ATTEMPTED': 0, 'COMPLETED': 1 }\n",
    "df['conclusao'] = df['conclusao'].map(new_conclusao)\n",
    "\n",
    "# alterando os dados de  df['nivel_de_ofensa']\n",
    "new_nivel_delito = {'MISDEMEANOR': \"contravencao\", 'FELONY': \"crime\", 'VIOLATION': \"violacao\" }\n",
    "df['nivel_delito'] = df['nivel_delito'].map(new_nivel_delito)\n",
    "\n",
    "\n",
    "# alterando os dados de  df['local_da_ocorrencia'], dentro ou fora dos estabelecimentos \n",
    "new_local_esp_delito = {'INSIDE': \"dentro\", 'FRONT OF': \"fora\", 'OPPOSITE OF': \"fora\", \n",
    "                           'REAR OF': \"fora\", 'OUTSIDE': \"fora\" }\n",
    "df['loc_esp_delito'] = df['loc_esp_delito'].map(new_local_esp_delito)\n",
    "\n",
    "# alterando os dados da coluna bairro\n",
    "\n",
    "new_bairro = {'BRONX': 'Bronx', 'STATEN ISLAND': 'Staten_Island', 'BROOKLYN': 'Brooklyn', 'MANHATTAN': 'Manhattan' , 'QUEENS': 'Queens' }\n",
    "df['bairro'] = df['bairro'].map(new_bairro)"
   ]
  },
  {
   "cell_type": "markdown",
   "metadata": {
    "id": "OvbVCJsiAwZX"
   },
   "source": [
    "## 3 - Criando novas features."
   ]
  },
  {
   "cell_type": "markdown",
   "metadata": {
    "id": "ckZ5wBGOA5pG"
   },
   "source": [
    " - ### Criando a variável noite.\n",
    " \n",
    " Variável que vai ajudar o algoritmo na hora da modelagem na associação com a hora do delito com período do dia."
   ]
  },
  {
   "cell_type": "code",
   "execution_count": 21,
   "metadata": {
    "id": "3hpcEtjITmvU"
   },
   "outputs": [],
   "source": [
    "df['noite'] = df['hora_da_ocorr'].apply(lambda x: 0 if x <'17:59:59' and x >'05:59:59' else 1)"
   ]
  },
  {
   "cell_type": "markdown",
   "metadata": {
    "id": "G-nhnz7ZWF4m"
   },
   "source": [
    "\n",
    " - ### Criando a variável assalto.\n",
    " \n",
    " \n",
    " O objetivo final é fazer a previsão dessa variável, que quando igual a 1 representa ocorrência do crime de assalto e quando igual a 0 significa que não aconteceu um delito classificado com assalto.\n",
    "    \n",
    "    \n",
    "    \n",
    "Em uma primeira análise classifiquei os delitos abaixo com sendo crimes de assalto :\n",
    " \n",
    "   \"ROBBERY\",\"PETIT LARCENY\",\"GRAND LARCENY\",\"GRAND LARCENY OF MOTOR VEHICLE\",\"ASSAULT 3 & RELATED OFFENSES\",\"FELONY ASSAULT\"\n",
    "   \n",
    "\n",
    "Após identificar os delitos, crei uma função para criar a variável assalto."
   ]
  },
  {
   "cell_type": "code",
   "execution_count": 22,
   "metadata": {},
   "outputs": [],
   "source": [
    "lista_assalto = ['PETIT LARCENY','GRAND LARCENY OF MOTOR VEHICLE', 'ROBBERY',\n",
    "                 'GRAND LARCENY', 'UNAUTHORIZED USE OF A VEHICLE',\n",
    "                 \"BURGLARY\",\"BURGLAR'S TOOLS\",\"POSSESSION OF STOLEN PROPERTY\",\"PETIT LARCENY OF MOTOR VEHICLE\"]\n",
    "\n",
    "df['assalto'] = df['delito'].apply(lambda x: 1 if x in lista_assalto else 0)"
   ]
  },
  {
   "cell_type": "code",
   "execution_count": 23,
   "metadata": {},
   "outputs": [
    {
     "data": {
      "text/plain": [
       "0    0.625961\n",
       "1    0.374039\n",
       "Name: assalto, dtype: float64"
      ]
     },
     "execution_count": 23,
     "metadata": {},
     "output_type": "execute_result"
    }
   ],
   "source": [
    "df.assalto.value_counts(normalize=True)"
   ]
  },
  {
   "cell_type": "markdown",
   "metadata": {},
   "source": [
    "- FILTRANDO OS DELITOS CONSIDERADOS COMO ASSALTO.\n",
    "\n",
    "\n",
    "  - Após fazer um apanhado geral dos delitos que seriam assalto e ter criado a variável na célula acima, fiz um filtro mais minucioso por meio da variável \"desc_delito\"(que retorna a descrição de cada delito cometido) e observei que vários delitos classificados como sendo assalto não tem a caricterística de um crime de assalto(crimes de fraude, agressão física), sendo necessário fazer outro filtro e alterar o valor desses registros que realmente não são assalto."
   ]
  },
  {
   "cell_type": "code",
   "execution_count": 24,
   "metadata": {},
   "outputs": [],
   "source": [
    "\n",
    "lista = [\"MENACING,UNCLASSIFIED\",\"OBSTR BREATH/CIRCUL\",\n",
    "         \"ASSAULT SCHOOL SAFETY AGENT\",\"ASSAULT TRAFFIC AGENT\",\"STRANGULATION 1ST\",\n",
    "         \"ROBBERY, PAYROLL\",\"LARCENY,PETIT BY FALSE PROMISE\",\"LARCENY,PETIT BY CREDIT CARD U\",\n",
    "         \"LARCENY,PETIT FROM BUILDING,UNATTENDED, PACKAGE THEFT OUTSIDE\",\"LARCENY,PETIT OF BOAT\",\"LARCENY,PETIT FROM BOAT\",\n",
    "         \"LARCENY,PETIT FROM PARKING MET\",\"PETIT LARCENY OF ANIMAL\",\"LARCENY,PETIT BY ACQUIRING LOS\",\n",
    "         \"LARCENY,PETIT BY DISHONEST EMP\",\"PETIT LARCENY-CHECK FROM MAILB\",\"LARCENY,GRAND BY CREDIT CARD COMPROMISE-UNAUTHORIZE PURCHASE\",\"LARCENY,GRAND OF BOAT\",\n",
    "         \"LARCENY,GRAND FROM COIN MACHIN\",\"LARCENY,GRAND FROM PIER, UNATTENDED\",\"LARCENY,GRAND FROM BOAT, UNATTENDED\",\"GRAND LARCENY-CHECK FROM MAILB\",\n",
    "         \"LARCENY,GRAND FROM RESIDENCE/BUILDING,UNATTENDED, PACKAGE THEFT OUTSIDE\",\"LARCENY,GRAND BY FALSE PROMISE\",\"LARCENY,GRAND BY BANK ACCT COMPROMISE-UNAUTHORIZED PURCHASE\",\n",
    "         \"LARCENY,GRAND BY ACQUIRING LOS\",\"LARCENY,GRAND BY DISHONEST EMP\",\"LARCENY,GRAND BY BANK ACCT COMPROMISE-ATM TRANSACTION\",\"LARCENY,GRAND BY EXTORTION\",\n",
    "         \"LARCENY,GRAND BY OPEN/COMPROMISE CELL PHONE ACCT\",\"LARCENY,GRAND BY ACQUIRING LOST CREDIT CARD\",\"LARCENY,GRAND BY OPEN CREDIT CARD (NEW ACCT)\",\n",
    "         \"LARCENY,GRAND BY BANK ACCT COMPROMISE-REPRODUCED CHECK\",\"LARCENY,GRAND BY CREDIT CARD ACCT COMPROMISE-EXISTING ACCT\",\"LARCENY,GRAND BY FALSE PROMISE-NOT IN PERSON CONTACT\",\n",
    "         \"LARCENY,GRAND BY THEFT OF CREDIT CARD\",\"\"]\n",
    "\n",
    "\n",
    "df_assalto = df[df['assalto']==1]\n",
    "df_assalto = df_assalto.drop('assalto',axis=1)\n",
    "\n",
    "df_assalto['assalto'] = df['desc_delito'].apply(lambda x: 0 if x in lista else 1)"
   ]
  },
  {
   "cell_type": "markdown",
   "metadata": {},
   "source": [
    "- ANALISANDO OS DELITOS QUE NÃO FORAM CONSIDERADOS COMO ASSALTO.\n",
    "\n",
    "\n",
    "- Fiz uma análise dos delitos que não tiveram uma primeira classificação coo sendo de crime de assalto e encontrei um registro que também deve ser alterado."
   ]
  },
  {
   "cell_type": "code",
   "execution_count": 25,
   "metadata": {},
   "outputs": [],
   "source": [
    "df_sem_assalto = df[df['assalto']==0]"
   ]
  },
  {
   "cell_type": "code",
   "execution_count": 26,
   "metadata": {},
   "outputs": [],
   "source": [
    "lista = \"UNAUTHORIZED USE VEHICLE 3\"\n",
    "\n",
    "\n",
    "df_sem_assalto = df_sem_assalto.drop('assalto',axis=1)\n",
    "df_sem_assalto['assalto'] = df_sem_assalto['desc_delito'].apply(lambda x: 1 if x==lista else 0)"
   ]
  },
  {
   "cell_type": "code",
   "execution_count": 27,
   "metadata": {},
   "outputs": [],
   "source": [
    "df_completo = pd.concat([df_sem_assalto,df_assalto])"
   ]
  },
  {
   "cell_type": "markdown",
   "metadata": {},
   "source": [
    "- Excluindo os delitos com poucos registros."
   ]
  },
  {
   "cell_type": "code",
   "execution_count": 28,
   "metadata": {},
   "outputs": [],
   "source": [
    "drop = list(dict(df_completo.delito.value_counts().tail(11)).keys())\n",
    "df_completo = df_completo.set_index('delito')\n",
    "df_completo = df_completo.drop(drop)\n",
    "df_completo = df_completo.reset_index()"
   ]
  },
  {
   "cell_type": "code",
   "execution_count": 29,
   "metadata": {},
   "outputs": [],
   "source": [
    "drop = list(dict(df_completo.desc_instalacoes.value_counts().tail(3)).keys())\n",
    "df_completo = df_completo.set_index('desc_instalacoes')\n",
    "df_completo = df_completo.drop(drop)\n",
    "df_completo = df_completo.reset_index()"
   ]
  },
  {
   "cell_type": "code",
   "execution_count": 30,
   "metadata": {},
   "outputs": [
    {
     "data": {
      "text/plain": [
       "0    0.664639\n",
       "1    0.335361\n",
       "Name: assalto, dtype: float64"
      ]
     },
     "execution_count": 30,
     "metadata": {},
     "output_type": "execute_result"
    }
   ],
   "source": [
    "df_completo.assalto.value_counts(normalize=True)"
   ]
  },
  {
   "cell_type": "code",
   "execution_count": 31,
   "metadata": {},
   "outputs": [],
   "source": [
    "df_completo = df_completo.reset_index(drop=True)"
   ]
  },
  {
   "cell_type": "markdown",
   "metadata": {},
   "source": [
    " - ### Criando a variável final de semana."
   ]
  },
  {
   "cell_type": "code",
   "execution_count": 32,
   "metadata": {
    "id": "7nzc9CYiXYjM"
   },
   "outputs": [],
   "source": [
    "df_completo['fds'] = df_completo['dia_da_semana'].apply(lambda x: 1 if x=='sabado' or x =='domigo' else 0)"
   ]
  },
  {
   "cell_type": "markdown",
   "metadata": {},
   "source": [
    "- ### Tratando as colunas referente a vítima."
   ]
  },
  {
   "cell_type": "code",
   "execution_count": 33,
   "metadata": {},
   "outputs": [],
   "source": [
    "df_completo = df_completo.query('sexo_vitima == \"F\" or sexo_vitima==\"M\"')"
   ]
  },
  {
   "cell_type": "code",
   "execution_count": 40,
   "metadata": {},
   "outputs": [],
   "source": [
    "df_completo = df_completo.dropna()"
   ]
  },
  {
   "cell_type": "code",
   "execution_count": 41,
   "metadata": {},
   "outputs": [
    {
     "name": "stdout",
     "output_type": "stream",
     "text": [
      "<class 'pandas.core.frame.DataFrame'>\n",
      "Int64Index: 400676 entries, 0 to 490505\n",
      "Data columns (total 22 columns):\n",
      "desc_instalacoes    400676 non-null object\n",
      "delito              400676 non-null object\n",
      "data_da_ocorr       400676 non-null datetime64[ns]\n",
      "hora_da_ocorr       400676 non-null object\n",
      "conclusao           400676 non-null int64\n",
      "desc_delito         400676 non-null object\n",
      "nivel_delito        400676 non-null object\n",
      "loc_esp_delito      400676 non-null object\n",
      "bairro              400676 non-null object\n",
      "latitude            400676 non-null float64\n",
      "longitude           400676 non-null float64\n",
      "hora                400676 non-null int64\n",
      "dia                 400676 non-null int32\n",
      "mes                 400676 non-null int32\n",
      "ano                 400676 non-null int32\n",
      "dia_da_semana       400676 non-null object\n",
      "idade_vitima        400676 non-null object\n",
      "raca_vitima         400676 non-null object\n",
      "sexo_vitima         400676 non-null object\n",
      "noite               400676 non-null int64\n",
      "assalto             400676 non-null int64\n",
      "fds                 400676 non-null int64\n",
      "dtypes: datetime64[ns](1), float64(2), int32(3), int64(5), object(11)\n",
      "memory usage: 65.7+ MB\n"
     ]
    }
   ],
   "source": [
    "df_completo.info()"
   ]
  },
  {
   "cell_type": "code",
   "execution_count": 42,
   "metadata": {},
   "outputs": [],
   "source": [
    "df_completo = df_completo.sort_values('data_da_ocorr', ascending=True)"
   ]
  },
  {
   "cell_type": "code",
   "execution_count": 43,
   "metadata": {},
   "outputs": [],
   "source": [
    "df_completo = df_completo.reset_index(drop=True)"
   ]
  },
  {
   "cell_type": "code",
   "execution_count": 44,
   "metadata": {},
   "outputs": [
    {
     "data": {
      "text/html": [
       "<div>\n",
       "<style scoped>\n",
       "    .dataframe tbody tr th:only-of-type {\n",
       "        vertical-align: middle;\n",
       "    }\n",
       "\n",
       "    .dataframe tbody tr th {\n",
       "        vertical-align: top;\n",
       "    }\n",
       "\n",
       "    .dataframe thead th {\n",
       "        text-align: right;\n",
       "    }\n",
       "</style>\n",
       "<table border=\"1\" class=\"dataframe\">\n",
       "  <thead>\n",
       "    <tr style=\"text-align: right;\">\n",
       "      <th></th>\n",
       "      <th>desc_instalacoes</th>\n",
       "      <th>delito</th>\n",
       "      <th>data_da_ocorr</th>\n",
       "      <th>hora_da_ocorr</th>\n",
       "      <th>conclusao</th>\n",
       "      <th>desc_delito</th>\n",
       "      <th>nivel_delito</th>\n",
       "      <th>loc_esp_delito</th>\n",
       "      <th>bairro</th>\n",
       "      <th>latitude</th>\n",
       "      <th>longitude</th>\n",
       "      <th>hora</th>\n",
       "      <th>dia</th>\n",
       "      <th>mes</th>\n",
       "      <th>ano</th>\n",
       "      <th>dia_da_semana</th>\n",
       "      <th>idade_vitima</th>\n",
       "      <th>raca_vitima</th>\n",
       "      <th>sexo_vitima</th>\n",
       "      <th>noite</th>\n",
       "      <th>assalto</th>\n",
       "      <th>fds</th>\n",
       "    </tr>\n",
       "  </thead>\n",
       "  <tbody>\n",
       "    <tr>\n",
       "      <th>0</th>\n",
       "      <td>COMMERCIAL BUILDING</td>\n",
       "      <td>THEFT-FRAUD</td>\n",
       "      <td>2006-01-01</td>\n",
       "      <td>00:01:00</td>\n",
       "      <td>1</td>\n",
       "      <td>FRAUD,UNCLASSIFIED-FELONY</td>\n",
       "      <td>crime</td>\n",
       "      <td>dentro</td>\n",
       "      <td>Brooklyn</td>\n",
       "      <td>40.602071</td>\n",
       "      <td>-74.002692</td>\n",
       "      <td>0</td>\n",
       "      <td>1</td>\n",
       "      <td>1</td>\n",
       "      <td>2006</td>\n",
       "      <td>domingo</td>\n",
       "      <td>25-44</td>\n",
       "      <td>WHITE</td>\n",
       "      <td>M</td>\n",
       "      <td>1</td>\n",
       "      <td>0</td>\n",
       "      <td>0</td>\n",
       "    </tr>\n",
       "    <tr>\n",
       "      <th>1</th>\n",
       "      <td>RESIDENCE - APT. HOUSE</td>\n",
       "      <td>SEX CRIMES</td>\n",
       "      <td>2006-01-01</td>\n",
       "      <td>08:00:00</td>\n",
       "      <td>1</td>\n",
       "      <td>SEXUAL ABUSE 3,2</td>\n",
       "      <td>contravencao</td>\n",
       "      <td>dentro</td>\n",
       "      <td>Brooklyn</td>\n",
       "      <td>40.680580</td>\n",
       "      <td>-73.974317</td>\n",
       "      <td>8</td>\n",
       "      <td>1</td>\n",
       "      <td>1</td>\n",
       "      <td>2006</td>\n",
       "      <td>domingo</td>\n",
       "      <td>&lt;18</td>\n",
       "      <td>UNKNOWN</td>\n",
       "      <td>M</td>\n",
       "      <td>0</td>\n",
       "      <td>0</td>\n",
       "      <td>0</td>\n",
       "    </tr>\n",
       "    <tr>\n",
       "      <th>2</th>\n",
       "      <td>RESIDENCE - APT. HOUSE</td>\n",
       "      <td>FRAUDS</td>\n",
       "      <td>2006-01-01</td>\n",
       "      <td>00:01:00</td>\n",
       "      <td>1</td>\n",
       "      <td>FRAUD,UNCLASSIFIED-MISDEMEANOR</td>\n",
       "      <td>contravencao</td>\n",
       "      <td>dentro</td>\n",
       "      <td>Brooklyn</td>\n",
       "      <td>40.675044</td>\n",
       "      <td>-73.896676</td>\n",
       "      <td>0</td>\n",
       "      <td>1</td>\n",
       "      <td>1</td>\n",
       "      <td>2006</td>\n",
       "      <td>domingo</td>\n",
       "      <td>45-64</td>\n",
       "      <td>WHITE HISPANIC</td>\n",
       "      <td>M</td>\n",
       "      <td>1</td>\n",
       "      <td>0</td>\n",
       "      <td>0</td>\n",
       "    </tr>\n",
       "    <tr>\n",
       "      <th>3</th>\n",
       "      <td>RESIDENCE - APT. HOUSE</td>\n",
       "      <td>THEFT-FRAUD</td>\n",
       "      <td>2006-01-01</td>\n",
       "      <td>10:00:00</td>\n",
       "      <td>1</td>\n",
       "      <td>FRAUD,UNCLASSIFIED-FELONY</td>\n",
       "      <td>crime</td>\n",
       "      <td>dentro</td>\n",
       "      <td>Brooklyn</td>\n",
       "      <td>40.661964</td>\n",
       "      <td>-73.889912</td>\n",
       "      <td>10</td>\n",
       "      <td>1</td>\n",
       "      <td>1</td>\n",
       "      <td>2006</td>\n",
       "      <td>domingo</td>\n",
       "      <td>65+</td>\n",
       "      <td>BLACK</td>\n",
       "      <td>M</td>\n",
       "      <td>0</td>\n",
       "      <td>0</td>\n",
       "      <td>0</td>\n",
       "    </tr>\n",
       "    <tr>\n",
       "      <th>4</th>\n",
       "      <td>RESIDENCE-HOUSE</td>\n",
       "      <td>SEX CRIMES</td>\n",
       "      <td>2006-01-01</td>\n",
       "      <td>00:00:00</td>\n",
       "      <td>1</td>\n",
       "      <td>SEXUAL ABUSE 3,2</td>\n",
       "      <td>contravencao</td>\n",
       "      <td>dentro</td>\n",
       "      <td>Bronx</td>\n",
       "      <td>40.856163</td>\n",
       "      <td>-73.844397</td>\n",
       "      <td>0</td>\n",
       "      <td>1</td>\n",
       "      <td>1</td>\n",
       "      <td>2006</td>\n",
       "      <td>domingo</td>\n",
       "      <td>25-44</td>\n",
       "      <td>BLACK</td>\n",
       "      <td>F</td>\n",
       "      <td>1</td>\n",
       "      <td>0</td>\n",
       "      <td>0</td>\n",
       "    </tr>\n",
       "  </tbody>\n",
       "</table>\n",
       "</div>"
      ],
      "text/plain": [
       "         desc_instalacoes       delito data_da_ocorr hora_da_ocorr  conclusao  \\\n",
       "0     COMMERCIAL BUILDING  THEFT-FRAUD    2006-01-01      00:01:00          1   \n",
       "1  RESIDENCE - APT. HOUSE   SEX CRIMES    2006-01-01      08:00:00          1   \n",
       "2  RESIDENCE - APT. HOUSE       FRAUDS    2006-01-01      00:01:00          1   \n",
       "3  RESIDENCE - APT. HOUSE  THEFT-FRAUD    2006-01-01      10:00:00          1   \n",
       "4         RESIDENCE-HOUSE   SEX CRIMES    2006-01-01      00:00:00          1   \n",
       "\n",
       "                      desc_delito  nivel_delito loc_esp_delito    bairro  \\\n",
       "0       FRAUD,UNCLASSIFIED-FELONY         crime         dentro  Brooklyn   \n",
       "1                SEXUAL ABUSE 3,2  contravencao         dentro  Brooklyn   \n",
       "2  FRAUD,UNCLASSIFIED-MISDEMEANOR  contravencao         dentro  Brooklyn   \n",
       "3       FRAUD,UNCLASSIFIED-FELONY         crime         dentro  Brooklyn   \n",
       "4                SEXUAL ABUSE 3,2  contravencao         dentro     Bronx   \n",
       "\n",
       "    latitude  longitude  hora  dia  mes   ano dia_da_semana idade_vitima  \\\n",
       "0  40.602071 -74.002692     0    1    1  2006       domingo        25-44   \n",
       "1  40.680580 -73.974317     8    1    1  2006       domingo          <18   \n",
       "2  40.675044 -73.896676     0    1    1  2006       domingo        45-64   \n",
       "3  40.661964 -73.889912    10    1    1  2006       domingo          65+   \n",
       "4  40.856163 -73.844397     0    1    1  2006       domingo        25-44   \n",
       "\n",
       "      raca_vitima sexo_vitima  noite  assalto  fds  \n",
       "0           WHITE           M      1        0    0  \n",
       "1         UNKNOWN           M      0        0    0  \n",
       "2  WHITE HISPANIC           M      1        0    0  \n",
       "3           BLACK           M      0        0    0  \n",
       "4           BLACK           F      1        0    0  "
      ]
     },
     "execution_count": 44,
     "metadata": {},
     "output_type": "execute_result"
    }
   ],
   "source": [
    "df_completo.head()"
   ]
  },
  {
   "cell_type": "markdown",
   "metadata": {
    "id": "fixPLSbWzgjJ"
   },
   "source": [
    "## 4 - Salvando o dataset."
   ]
  },
  {
   "cell_type": "code",
   "execution_count": 45,
   "metadata": {},
   "outputs": [
    {
     "data": {
      "text/plain": [
       "Index(['desc_instalacoes', 'delito', 'data_da_ocorr', 'hora_da_ocorr',\n",
       "       'conclusao', 'desc_delito', 'nivel_delito', 'loc_esp_delito', 'bairro',\n",
       "       'latitude', 'longitude', 'hora', 'dia', 'mes', 'ano', 'dia_da_semana',\n",
       "       'idade_vitima', 'raca_vitima', 'sexo_vitima', 'noite', 'assalto',\n",
       "       'fds'],\n",
       "      dtype='object')"
      ]
     },
     "execution_count": 45,
     "metadata": {},
     "output_type": "execute_result"
    }
   ],
   "source": [
    "df_completo.columns"
   ]
  },
  {
   "cell_type": "code",
   "execution_count": 46,
   "metadata": {},
   "outputs": [],
   "source": [
    "df_completo.to_csv('delitos_novo_nyc.csv',index=False)"
   ]
  },
  {
   "cell_type": "code",
   "execution_count": null,
   "metadata": {},
   "outputs": [],
   "source": []
  }
 ],
 "metadata": {
  "colab": {
   "collapsed_sections": [],
   "name": "modelo_classificacao_assalto.ipynb",
   "provenance": [],
   "toc_visible": true
  },
  "kernelspec": {
   "display_name": "Python 3",
   "language": "python",
   "name": "python3"
  },
  "language_info": {
   "codemirror_mode": {
    "name": "ipython",
    "version": 3
   },
   "file_extension": ".py",
   "mimetype": "text/x-python",
   "name": "python",
   "nbconvert_exporter": "python",
   "pygments_lexer": "ipython3",
   "version": "3.5.6"
  }
 },
 "nbformat": 4,
 "nbformat_minor": 1
}
