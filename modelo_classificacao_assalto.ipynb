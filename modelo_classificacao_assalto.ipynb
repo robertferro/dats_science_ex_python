{
 "cells": [
  {
   "cell_type": "markdown",
   "metadata": {
    "id": "Uh7x-tzWVS4M"
   },
   "source": [
    "This dataset includes all valid felony, misdemeanor, and violation crimes reported to the New York City Police Department (NYPD) from 2006 to the end of last year (2019). For additional details, please see the attached data dictionary in the ‘About’ section.\n",
    "\n",
    "link: https://data.cityofnewyork.us/Public-Safety/NYPD-Complaint-Data-Historic/qgea-i56i"
   ]
  },
  {
   "cell_type": "markdown",
   "metadata": {},
   "source": [
    "- Objetivo:\n",
    "\n",
    "- Classificar se em determinada área pode acontecer um delito classificado como assalto."
   ]
  },
  {
   "cell_type": "markdown",
   "metadata": {
    "id": "UNGGYIF-YiiD"
   },
   "source": [
    "## 1 - Carregamento dos dados."
   ]
  },
  {
   "cell_type": "code",
   "execution_count": 1,
   "metadata": {
    "id": "amWCtd1dabda"
   },
   "outputs": [],
   "source": [
    "import pandas as pd\n",
    "import numpy as np\n",
    "import matplotlib.pyplot as plt\n",
    "import seaborn as sns"
   ]
  },
  {
   "cell_type": "code",
   "execution_count": 2,
   "metadata": {
    "id": "TtLKjCb5a4WK"
   },
   "outputs": [],
   "source": [
    "dados = pd.read_csv('delitos_nyc.csv',sep=',')"
   ]
  },
  {
   "cell_type": "code",
   "execution_count": 3,
   "metadata": {},
   "outputs": [
    {
     "data": {
      "text/html": [
       "<div>\n",
       "<style scoped>\n",
       "    .dataframe tbody tr th:only-of-type {\n",
       "        vertical-align: middle;\n",
       "    }\n",
       "\n",
       "    .dataframe tbody tr th {\n",
       "        vertical-align: top;\n",
       "    }\n",
       "\n",
       "    .dataframe thead th {\n",
       "        text-align: right;\n",
       "    }\n",
       "</style>\n",
       "<table border=\"1\" class=\"dataframe\">\n",
       "  <thead>\n",
       "    <tr style=\"text-align: right;\">\n",
       "      <th></th>\n",
       "      <th>desc_instalacoes</th>\n",
       "      <th>ano</th>\n",
       "      <th>assalto</th>\n",
       "      <th>bairro</th>\n",
       "      <th>conclusao</th>\n",
       "      <th>data_da_ocorr</th>\n",
       "      <th>delito</th>\n",
       "      <th>desc_delito</th>\n",
       "      <th>dia</th>\n",
       "      <th>dia_da_semana</th>\n",
       "      <th>...</th>\n",
       "      <th>idade_vitima</th>\n",
       "      <th>latitude</th>\n",
       "      <th>loc_esp_delito</th>\n",
       "      <th>longitude</th>\n",
       "      <th>mes</th>\n",
       "      <th>nivel_delito</th>\n",
       "      <th>noite</th>\n",
       "      <th>raca_vitima</th>\n",
       "      <th>sexo_vitima</th>\n",
       "      <th>fds</th>\n",
       "    </tr>\n",
       "  </thead>\n",
       "  <tbody>\n",
       "    <tr>\n",
       "      <th>0</th>\n",
       "      <td>OTHER</td>\n",
       "      <td>2006</td>\n",
       "      <td>0</td>\n",
       "      <td>Staten_Island</td>\n",
       "      <td>1</td>\n",
       "      <td>2006-01-01</td>\n",
       "      <td>THEFT-FRAUD</td>\n",
       "      <td>FRAUD,UNCLASSIFIED-FELONY</td>\n",
       "      <td>1</td>\n",
       "      <td>domingo</td>\n",
       "      <td>...</td>\n",
       "      <td>65+</td>\n",
       "      <td>40.640577</td>\n",
       "      <td>dentro</td>\n",
       "      <td>-74.091387</td>\n",
       "      <td>1</td>\n",
       "      <td>crime</td>\n",
       "      <td>1</td>\n",
       "      <td>BLACK</td>\n",
       "      <td>F</td>\n",
       "      <td>0</td>\n",
       "    </tr>\n",
       "    <tr>\n",
       "      <th>1</th>\n",
       "      <td>RESIDENCE-HOUSE</td>\n",
       "      <td>2006</td>\n",
       "      <td>0</td>\n",
       "      <td>Staten_Island</td>\n",
       "      <td>1</td>\n",
       "      <td>2006-01-01</td>\n",
       "      <td>THEFT-FRAUD</td>\n",
       "      <td>FRAUD,UNCLASSIFIED-FELONY</td>\n",
       "      <td>1</td>\n",
       "      <td>domingo</td>\n",
       "      <td>...</td>\n",
       "      <td>25-44</td>\n",
       "      <td>40.632779</td>\n",
       "      <td>dentro</td>\n",
       "      <td>-74.140630</td>\n",
       "      <td>1</td>\n",
       "      <td>crime</td>\n",
       "      <td>0</td>\n",
       "      <td>WHITE HISPANIC</td>\n",
       "      <td>M</td>\n",
       "      <td>0</td>\n",
       "    </tr>\n",
       "    <tr>\n",
       "      <th>2</th>\n",
       "      <td>RESIDENCE - APT. HOUSE</td>\n",
       "      <td>2006</td>\n",
       "      <td>0</td>\n",
       "      <td>Brooklyn</td>\n",
       "      <td>1</td>\n",
       "      <td>2006-01-01</td>\n",
       "      <td>THEFT-FRAUD</td>\n",
       "      <td>FRAUD,UNCLASSIFIED-FELONY</td>\n",
       "      <td>1</td>\n",
       "      <td>domingo</td>\n",
       "      <td>...</td>\n",
       "      <td>65+</td>\n",
       "      <td>40.661964</td>\n",
       "      <td>dentro</td>\n",
       "      <td>-73.889912</td>\n",
       "      <td>1</td>\n",
       "      <td>crime</td>\n",
       "      <td>0</td>\n",
       "      <td>BLACK</td>\n",
       "      <td>M</td>\n",
       "      <td>0</td>\n",
       "    </tr>\n",
       "    <tr>\n",
       "      <th>3</th>\n",
       "      <td>COMMERCIAL BUILDING</td>\n",
       "      <td>2006</td>\n",
       "      <td>0</td>\n",
       "      <td>Brooklyn</td>\n",
       "      <td>1</td>\n",
       "      <td>2006-01-01</td>\n",
       "      <td>THEFT-FRAUD</td>\n",
       "      <td>FRAUD,UNCLASSIFIED-FELONY</td>\n",
       "      <td>1</td>\n",
       "      <td>domingo</td>\n",
       "      <td>...</td>\n",
       "      <td>25-44</td>\n",
       "      <td>40.602071</td>\n",
       "      <td>dentro</td>\n",
       "      <td>-74.002692</td>\n",
       "      <td>1</td>\n",
       "      <td>crime</td>\n",
       "      <td>1</td>\n",
       "      <td>WHITE</td>\n",
       "      <td>M</td>\n",
       "      <td>0</td>\n",
       "    </tr>\n",
       "    <tr>\n",
       "      <th>4</th>\n",
       "      <td>RESIDENCE - APT. HOUSE</td>\n",
       "      <td>2006</td>\n",
       "      <td>0</td>\n",
       "      <td>Queens</td>\n",
       "      <td>1</td>\n",
       "      <td>2006-01-02</td>\n",
       "      <td>THEFT-FRAUD</td>\n",
       "      <td>FRAUD,UNCLASSIFIED-FELONY</td>\n",
       "      <td>2</td>\n",
       "      <td>segunda</td>\n",
       "      <td>...</td>\n",
       "      <td>25-44</td>\n",
       "      <td>40.721998</td>\n",
       "      <td>dentro</td>\n",
       "      <td>-73.842636</td>\n",
       "      <td>1</td>\n",
       "      <td>crime</td>\n",
       "      <td>0</td>\n",
       "      <td>WHITE</td>\n",
       "      <td>M</td>\n",
       "      <td>0</td>\n",
       "    </tr>\n",
       "  </tbody>\n",
       "</table>\n",
       "<p>5 rows × 22 columns</p>\n",
       "</div>"
      ],
      "text/plain": [
       "         desc_instalacoes   ano  assalto         bairro  conclusao  \\\n",
       "0                   OTHER  2006        0  Staten_Island          1   \n",
       "1         RESIDENCE-HOUSE  2006        0  Staten_Island          1   \n",
       "2  RESIDENCE - APT. HOUSE  2006        0       Brooklyn          1   \n",
       "3     COMMERCIAL BUILDING  2006        0       Brooklyn          1   \n",
       "4  RESIDENCE - APT. HOUSE  2006        0         Queens          1   \n",
       "\n",
       "  data_da_ocorr       delito                desc_delito  dia dia_da_semana  \\\n",
       "0    2006-01-01  THEFT-FRAUD  FRAUD,UNCLASSIFIED-FELONY    1       domingo   \n",
       "1    2006-01-01  THEFT-FRAUD  FRAUD,UNCLASSIFIED-FELONY    1       domingo   \n",
       "2    2006-01-01  THEFT-FRAUD  FRAUD,UNCLASSIFIED-FELONY    1       domingo   \n",
       "3    2006-01-01  THEFT-FRAUD  FRAUD,UNCLASSIFIED-FELONY    1       domingo   \n",
       "4    2006-01-02  THEFT-FRAUD  FRAUD,UNCLASSIFIED-FELONY    2       segunda   \n",
       "\n",
       "  ...  idade_vitima   latitude loc_esp_delito  longitude mes  nivel_delito  \\\n",
       "0 ...           65+  40.640577         dentro -74.091387   1         crime   \n",
       "1 ...         25-44  40.632779         dentro -74.140630   1         crime   \n",
       "2 ...           65+  40.661964         dentro -73.889912   1         crime   \n",
       "3 ...         25-44  40.602071         dentro -74.002692   1         crime   \n",
       "4 ...         25-44  40.721998         dentro -73.842636   1         crime   \n",
       "\n",
       "   noite     raca_vitima  sexo_vitima fds  \n",
       "0      1           BLACK            F   0  \n",
       "1      0  WHITE HISPANIC            M   0  \n",
       "2      0           BLACK            M   0  \n",
       "3      1           WHITE            M   0  \n",
       "4      0           WHITE            M   0  \n",
       "\n",
       "[5 rows x 22 columns]"
      ]
     },
     "execution_count": 3,
     "metadata": {},
     "output_type": "execute_result"
    }
   ],
   "source": [
    "dados.head()"
   ]
  },
  {
   "cell_type": "code",
   "execution_count": 4,
   "metadata": {},
   "outputs": [
    {
     "data": {
      "text/plain": [
       "HARRASSMENT 2                     90659\n",
       "CRIMINAL MISCHIEF & RELATED OF    42784\n",
       "OFF. AGNST PUB ORD SENSBLTY &     28864\n",
       "MISCELLANEOUS PENAL LAW           12973\n",
       "OFFENSES AGAINST PUBLIC ADMINI     6420\n",
       "THEFT-FRAUD                        6330\n",
       "CRIMINAL TRESPASS                  2188\n",
       "ADMINISTRATIVE CODE                1333\n",
       "FORGERY                             968\n",
       "OFFENSES AGAINST THE PERSON         714\n",
       "INTOXICATED & IMPAIRED DRIVING      566\n",
       "ARSON                               138\n",
       "FRAUDULENT ACCOSTING                137\n",
       "OFFENSES INVOLVING FRAUD             84\n",
       "Name: delito, dtype: int64"
      ]
     },
     "execution_count": 4,
     "metadata": {},
     "output_type": "execute_result"
    }
   ],
   "source": [
    "dados[dados['assalto']==0].delito.value_counts()"
   ]
  },
  {
   "cell_type": "code",
   "execution_count": 5,
   "metadata": {},
   "outputs": [
    {
     "data": {
      "text/plain": [
       "ASSAULT 3 & RELATED OFFENSES      58817\n",
       "PETIT LARCENY                     24989\n",
       "FELONY ASSAULT                    21289\n",
       "ROBBERY                           17990\n",
       "BURGLARY                          14007\n",
       "GRAND LARCENY OF MOTOR VEHICLE     8523\n",
       "PETIT LARCENY OF MOTOR VEHICLE       79\n",
       "Name: delito, dtype: int64"
      ]
     },
     "execution_count": 5,
     "metadata": {},
     "output_type": "execute_result"
    }
   ],
   "source": [
    "dados[dados['assalto']==1].delito.value_counts()"
   ]
  },
  {
   "cell_type": "code",
   "execution_count": 6,
   "metadata": {},
   "outputs": [
    {
     "data": {
      "text/plain": [
       "0    0.571302\n",
       "1    0.428698\n",
       "Name: assalto, dtype: float64"
      ]
     },
     "execution_count": 6,
     "metadata": {},
     "output_type": "execute_result"
    }
   ],
   "source": [
    "dados.assalto.value_counts(normalize=True)"
   ]
  },
  {
   "cell_type": "markdown",
   "metadata": {},
   "source": [
    "- FILTRANDO E SELECIONANDO DELITOS."
   ]
  },
  {
   "cell_type": "code",
   "execution_count": 7,
   "metadata": {},
   "outputs": [],
   "source": [
    "lista = ['ROBBERY','GRAND LARCENY OF MOTOR VEHICLE',\n",
    "         'OFFENSES AGAINST PUBLIC ADMINI','THEFT-FRAUD','ADMINISTRATIVE CODE',\n",
    "         'FORGERY','OFFENSES AGAINST THE PERSON','FRAUDULENT ACCOSTING','OFFENSES INVOLVING FRAUD']\n",
    "\n",
    "dados = dados.set_index('delito')\n",
    "dados = dados.loc[lista]\n",
    "dados = dados.reset_index()"
   ]
  },
  {
   "cell_type": "code",
   "execution_count": 8,
   "metadata": {},
   "outputs": [
    {
     "data": {
      "text/plain": [
       "1    0.62385\n",
       "0    0.37615\n",
       "Name: assalto, dtype: float64"
      ]
     },
     "execution_count": 8,
     "metadata": {},
     "output_type": "execute_result"
    }
   ],
   "source": [
    "dados.assalto.value_counts(normalize=True)"
   ]
  },
  {
   "cell_type": "markdown",
   "metadata": {},
   "source": [
    "- Selecionando as colunas para a modelagem."
   ]
  },
  {
   "cell_type": "code",
   "execution_count": 15,
   "metadata": {},
   "outputs": [],
   "source": [
    "dados_ml = dados[['hora','noite','dia','dia_da_semana','mes','fds',\n",
    "                  'bairro','desc_instalacoes','sexo_vitima',\n",
    "                  'latitude', 'longitude','conclusao','assalto']]"
   ]
  },
  {
   "cell_type": "code",
   "execution_count": 16,
   "metadata": {},
   "outputs": [],
   "source": [
    "dados_ml = dados_ml.dropna()"
   ]
  },
  {
   "cell_type": "code",
   "execution_count": 17,
   "metadata": {},
   "outputs": [
    {
     "name": "stdout",
     "output_type": "stream",
     "text": [
      "<class 'pandas.core.frame.DataFrame'>\n",
      "Int64Index: 42426 entries, 0 to 42498\n",
      "Data columns (total 13 columns):\n",
      "hora                42426 non-null int64\n",
      "noite               42426 non-null int64\n",
      "dia                 42426 non-null int64\n",
      "dia_da_semana       42426 non-null object\n",
      "mes                 42426 non-null int64\n",
      "fds                 42426 non-null int64\n",
      "bairro              42426 non-null object\n",
      "desc_instalacoes    42426 non-null object\n",
      "sexo_vitima         42426 non-null object\n",
      "latitude            42426 non-null float64\n",
      "longitude           42426 non-null float64\n",
      "conclusao           42426 non-null int64\n",
      "assalto             42426 non-null int64\n",
      "dtypes: float64(2), int64(7), object(4)\n",
      "memory usage: 4.5+ MB\n"
     ]
    }
   ],
   "source": [
    "dados_ml.info()"
   ]
  },
  {
   "cell_type": "code",
   "execution_count": 19,
   "metadata": {},
   "outputs": [
    {
     "data": {
      "text/html": [
       "<div>\n",
       "<style scoped>\n",
       "    .dataframe tbody tr th:only-of-type {\n",
       "        vertical-align: middle;\n",
       "    }\n",
       "\n",
       "    .dataframe tbody tr th {\n",
       "        vertical-align: top;\n",
       "    }\n",
       "\n",
       "    .dataframe thead th {\n",
       "        text-align: right;\n",
       "    }\n",
       "</style>\n",
       "<table border=\"1\" class=\"dataframe\">\n",
       "  <thead>\n",
       "    <tr style=\"text-align: right;\">\n",
       "      <th></th>\n",
       "      <th>hora</th>\n",
       "      <th>noite</th>\n",
       "      <th>dia</th>\n",
       "      <th>dia_da_semana</th>\n",
       "      <th>mes</th>\n",
       "      <th>fds</th>\n",
       "      <th>bairro</th>\n",
       "      <th>desc_instalacoes</th>\n",
       "      <th>sexo_vitima</th>\n",
       "      <th>latitude</th>\n",
       "      <th>longitude</th>\n",
       "      <th>conclusao</th>\n",
       "      <th>assalto</th>\n",
       "    </tr>\n",
       "  </thead>\n",
       "  <tbody>\n",
       "    <tr>\n",
       "      <th>0</th>\n",
       "      <td>15</td>\n",
       "      <td>0</td>\n",
       "      <td>9</td>\n",
       "      <td>quinta</td>\n",
       "      <td>2</td>\n",
       "      <td>0</td>\n",
       "      <td>Bronx</td>\n",
       "      <td>STREET</td>\n",
       "      <td>F</td>\n",
       "      <td>40.809971</td>\n",
       "      <td>-73.917826</td>\n",
       "      <td>1</td>\n",
       "      <td>1</td>\n",
       "    </tr>\n",
       "    <tr>\n",
       "      <th>3</th>\n",
       "      <td>18</td>\n",
       "      <td>1</td>\n",
       "      <td>3</td>\n",
       "      <td>quarta</td>\n",
       "      <td>5</td>\n",
       "      <td>0</td>\n",
       "      <td>Bronx</td>\n",
       "      <td>STREET</td>\n",
       "      <td>F</td>\n",
       "      <td>40.876866</td>\n",
       "      <td>-73.861644</td>\n",
       "      <td>1</td>\n",
       "      <td>1</td>\n",
       "    </tr>\n",
       "    <tr>\n",
       "      <th>4</th>\n",
       "      <td>15</td>\n",
       "      <td>0</td>\n",
       "      <td>8</td>\n",
       "      <td>quarta</td>\n",
       "      <td>11</td>\n",
       "      <td>0</td>\n",
       "      <td>Bronx</td>\n",
       "      <td>STREET</td>\n",
       "      <td>M</td>\n",
       "      <td>40.811658</td>\n",
       "      <td>-73.921036</td>\n",
       "      <td>1</td>\n",
       "      <td>1</td>\n",
       "    </tr>\n",
       "    <tr>\n",
       "      <th>5</th>\n",
       "      <td>1</td>\n",
       "      <td>1</td>\n",
       "      <td>1</td>\n",
       "      <td>terca</td>\n",
       "      <td>5</td>\n",
       "      <td>0</td>\n",
       "      <td>Manhattan</td>\n",
       "      <td>OTHER</td>\n",
       "      <td>F</td>\n",
       "      <td>40.833957</td>\n",
       "      <td>-73.940740</td>\n",
       "      <td>1</td>\n",
       "      <td>1</td>\n",
       "    </tr>\n",
       "    <tr>\n",
       "      <th>6</th>\n",
       "      <td>20</td>\n",
       "      <td>1</td>\n",
       "      <td>9</td>\n",
       "      <td>quinta</td>\n",
       "      <td>8</td>\n",
       "      <td>0</td>\n",
       "      <td>Brooklyn</td>\n",
       "      <td>STREET</td>\n",
       "      <td>M</td>\n",
       "      <td>40.574825</td>\n",
       "      <td>-73.990927</td>\n",
       "      <td>1</td>\n",
       "      <td>1</td>\n",
       "    </tr>\n",
       "  </tbody>\n",
       "</table>\n",
       "</div>"
      ],
      "text/plain": [
       "   hora  noite  dia dia_da_semana  mes  fds     bairro desc_instalacoes  \\\n",
       "0    15      0    9        quinta    2    0      Bronx           STREET   \n",
       "3    18      1    3        quarta    5    0      Bronx           STREET   \n",
       "4    15      0    8        quarta   11    0      Bronx           STREET   \n",
       "5     1      1    1         terca    5    0  Manhattan            OTHER   \n",
       "6    20      1    9        quinta    8    0   Brooklyn           STREET   \n",
       "\n",
       "  sexo_vitima   latitude  longitude  conclusao  assalto  \n",
       "0           F  40.809971 -73.917826          1        1  \n",
       "3           F  40.876866 -73.861644          1        1  \n",
       "4           M  40.811658 -73.921036          1        1  \n",
       "5           F  40.833957 -73.940740          1        1  \n",
       "6           M  40.574825 -73.990927          1        1  "
      ]
     },
     "execution_count": 19,
     "metadata": {},
     "output_type": "execute_result"
    }
   ],
   "source": [
    "dados_ml.head()"
   ]
  },
  {
   "cell_type": "markdown",
   "metadata": {},
   "source": [
    "- Tratando variáveis categóricas."
   ]
  },
  {
   "cell_type": "code",
   "execution_count": 20,
   "metadata": {},
   "outputs": [],
   "source": [
    "# dados_ml = pd.get_dummies(dados_ml)"
   ]
  },
  {
   "cell_type": "code",
   "execution_count": 21,
   "metadata": {},
   "outputs": [
    {
     "name": "stderr",
     "output_type": "stream",
     "text": [
      "/usr/local/envs/py3env/lib/python3.5/site-packages/sklearn/utils/validation.py:475: DataConversionWarning: Data with input dtype int64 was converted to float64 by StandardScaler.\n",
      "  warnings.warn(msg, DataConversionWarning)\n"
     ]
    }
   ],
   "source": [
    "from sklearn.preprocessing import LabelEncoder\n",
    "\n",
    "lb = LabelEncoder()\n",
    "\n",
    "dados_ml['dia_da_semana'] = lb.fit_transform(dados_ml['dia_da_semana'])\n",
    "dados_ml['bairro'] = lb.fit_transform(dados_ml['bairro'])\n",
    "dados_ml['desc_instalacoes'] = lb.fit_transform(dados_ml['desc_instalacoes'])\n",
    "dados_ml['sexo_vitima'] = lb.fit_transform(dados_ml['sexo_vitima'])\n",
    "\n",
    "from sklearn.preprocessing import StandardScaler\n",
    "\n",
    "scaler = StandardScaler()\n",
    "\n",
    "for col in dados_ml.columns:\n",
    "  if col != \"assalto\":\n",
    "    dados_ml[col] = scaler.fit_transform(np.array(dados_ml[col]).reshape(-1,1))"
   ]
  },
  {
   "cell_type": "code",
   "execution_count": 22,
   "metadata": {},
   "outputs": [
    {
     "data": {
      "text/html": [
       "<div>\n",
       "<style scoped>\n",
       "    .dataframe tbody tr th:only-of-type {\n",
       "        vertical-align: middle;\n",
       "    }\n",
       "\n",
       "    .dataframe tbody tr th {\n",
       "        vertical-align: top;\n",
       "    }\n",
       "\n",
       "    .dataframe thead th {\n",
       "        text-align: right;\n",
       "    }\n",
       "</style>\n",
       "<table border=\"1\" class=\"dataframe\">\n",
       "  <thead>\n",
       "    <tr style=\"text-align: right;\">\n",
       "      <th></th>\n",
       "      <th>hora</th>\n",
       "      <th>noite</th>\n",
       "      <th>dia</th>\n",
       "      <th>dia_da_semana</th>\n",
       "      <th>mes</th>\n",
       "      <th>fds</th>\n",
       "      <th>bairro</th>\n",
       "      <th>desc_instalacoes</th>\n",
       "      <th>sexo_vitima</th>\n",
       "      <th>latitude</th>\n",
       "      <th>longitude</th>\n",
       "      <th>conclusao</th>\n",
       "      <th>assalto</th>\n",
       "    </tr>\n",
       "  </thead>\n",
       "  <tbody>\n",
       "    <tr>\n",
       "      <th>0</th>\n",
       "      <td>0.323804</td>\n",
       "      <td>-1.039089</td>\n",
       "      <td>-0.722397</td>\n",
       "      <td>-0.534842</td>\n",
       "      <td>-1.213786</td>\n",
       "      <td>-0.399133</td>\n",
       "      <td>-1.263716</td>\n",
       "      <td>0.641037</td>\n",
       "      <td>-1.180381</td>\n",
       "      <td>0.822448</td>\n",
       "      <td>-0.028381</td>\n",
       "      <td>0.250072</td>\n",
       "      <td>1</td>\n",
       "    </tr>\n",
       "    <tr>\n",
       "      <th>3</th>\n",
       "      <td>0.751338</td>\n",
       "      <td>0.962382</td>\n",
       "      <td>-1.396760</td>\n",
       "      <td>-1.037560</td>\n",
       "      <td>-0.291369</td>\n",
       "      <td>-0.399133</td>\n",
       "      <td>-1.263716</td>\n",
       "      <td>0.641037</td>\n",
       "      <td>-1.180381</td>\n",
       "      <td>1.600079</td>\n",
       "      <td>0.691847</td>\n",
       "      <td>0.250072</td>\n",
       "      <td>1</td>\n",
       "    </tr>\n",
       "    <tr>\n",
       "      <th>4</th>\n",
       "      <td>0.323804</td>\n",
       "      <td>-1.039089</td>\n",
       "      <td>-0.834791</td>\n",
       "      <td>-1.037560</td>\n",
       "      <td>1.553466</td>\n",
       "      <td>-0.399133</td>\n",
       "      <td>-1.263716</td>\n",
       "      <td>0.641037</td>\n",
       "      <td>0.847184</td>\n",
       "      <td>0.842065</td>\n",
       "      <td>-0.069525</td>\n",
       "      <td>0.250072</td>\n",
       "      <td>1</td>\n",
       "    </tr>\n",
       "    <tr>\n",
       "      <th>5</th>\n",
       "      <td>-1.671359</td>\n",
       "      <td>0.962382</td>\n",
       "      <td>-1.621548</td>\n",
       "      <td>1.476031</td>\n",
       "      <td>-0.291369</td>\n",
       "      <td>-0.399133</td>\n",
       "      <td>0.388729</td>\n",
       "      <td>-1.047798</td>\n",
       "      <td>-1.180381</td>\n",
       "      <td>1.101281</td>\n",
       "      <td>-0.322126</td>\n",
       "      <td>0.250072</td>\n",
       "      <td>1</td>\n",
       "    </tr>\n",
       "    <tr>\n",
       "      <th>6</th>\n",
       "      <td>1.036362</td>\n",
       "      <td>0.962382</td>\n",
       "      <td>-0.722397</td>\n",
       "      <td>-0.534842</td>\n",
       "      <td>0.631048</td>\n",
       "      <td>-0.399133</td>\n",
       "      <td>-0.437493</td>\n",
       "      <td>0.641037</td>\n",
       "      <td>0.847184</td>\n",
       "      <td>-1.911027</td>\n",
       "      <td>-0.965494</td>\n",
       "      <td>0.250072</td>\n",
       "      <td>1</td>\n",
       "    </tr>\n",
       "  </tbody>\n",
       "</table>\n",
       "</div>"
      ],
      "text/plain": [
       "       hora     noite       dia  dia_da_semana       mes       fds    bairro  \\\n",
       "0  0.323804 -1.039089 -0.722397      -0.534842 -1.213786 -0.399133 -1.263716   \n",
       "3  0.751338  0.962382 -1.396760      -1.037560 -0.291369 -0.399133 -1.263716   \n",
       "4  0.323804 -1.039089 -0.834791      -1.037560  1.553466 -0.399133 -1.263716   \n",
       "5 -1.671359  0.962382 -1.621548       1.476031 -0.291369 -0.399133  0.388729   \n",
       "6  1.036362  0.962382 -0.722397      -0.534842  0.631048 -0.399133 -0.437493   \n",
       "\n",
       "   desc_instalacoes  sexo_vitima  latitude  longitude  conclusao  assalto  \n",
       "0          0.641037    -1.180381  0.822448  -0.028381   0.250072        1  \n",
       "3          0.641037    -1.180381  1.600079   0.691847   0.250072        1  \n",
       "4          0.641037     0.847184  0.842065  -0.069525   0.250072        1  \n",
       "5         -1.047798    -1.180381  1.101281  -0.322126   0.250072        1  \n",
       "6          0.641037     0.847184 -1.911027  -0.965494   0.250072        1  "
      ]
     },
     "execution_count": 22,
     "metadata": {},
     "output_type": "execute_result"
    }
   ],
   "source": [
    "dados_ml.head()"
   ]
  },
  {
   "cell_type": "markdown",
   "metadata": {
    "id": "2fEMKIkd6dNa"
   },
   "source": [
    "### Separando os dados de treino e teste."
   ]
  },
  {
   "cell_type": "code",
   "execution_count": 23,
   "metadata": {},
   "outputs": [],
   "source": [
    "from sklearn.model_selection import train_test_split"
   ]
  },
  {
   "cell_type": "code",
   "execution_count": 24,
   "metadata": {},
   "outputs": [],
   "source": [
    "X = dados_ml.drop('assalto',axis=1)\n",
    "Y = dados_ml['assalto']"
   ]
  },
  {
   "cell_type": "code",
   "execution_count": 25,
   "metadata": {},
   "outputs": [],
   "source": [
    "X_treino, X_teste,Y_treino,Y_teste = train_test_split(X,Y,test_size=0.2,random_state=42,stratify=Y)"
   ]
  },
  {
   "cell_type": "markdown",
   "metadata": {
    "id": "3GWmztzKis0a"
   },
   "source": [
    "## 4.2 **Testando algoritmos**"
   ]
  },
  {
   "cell_type": "code",
   "execution_count": 26,
   "metadata": {
    "colab": {
     "base_uri": "https://8080-cs-565886152761-default.cs-us-east1-wzxb.cloudshell.dev/"
    },
    "id": "8BZifqZwLQFR",
    "outputId": "1ffee256-385f-4f41-fd93-86196ff82ca6"
   },
   "outputs": [
    {
     "name": "stdout",
     "output_type": "stream",
     "text": [
      "A acurácia do dummy mostfrequent foi 62.41%\n"
     ]
    }
   ],
   "source": [
    "from sklearn.dummy import DummyClassifier\n",
    "\n",
    "dummy_clf = DummyClassifier(strategy=\"most_frequent\")\n",
    "dummy_clf.fit(X_treino, Y_treino)\n",
    "y_pred = dummy_clf.predict(X_teste)\n",
    "acuracia = dummy_clf.score(X_teste, Y_teste) * 100\n",
    "\n",
    "print('A acurácia do dummy mostfrequent foi %.2f%%' % acuracia)"
   ]
  },
  {
   "cell_type": "code",
   "execution_count": 27,
   "metadata": {
    "colab": {
     "base_uri": "https://8080-cs-565886152761-default.cs-us-east1-wzxb.cloudshell.dev/",
     "height": 296
    },
    "id": "jRoKkijpLTWl",
    "outputId": "7ebf0107-3e26-4ea1-a1e7-f3e0323f06a4"
   },
   "outputs": [
    {
     "data": {
      "text/plain": [
       "Text(33,0.5,'Real ( 1 ou 0)')"
      ]
     },
     "execution_count": 27,
     "metadata": {},
     "output_type": "execute_result"
    },
    {
     "data": {
      "image/png": "[encoded data removed]",
      "text/plain": [
       "<matplotlib.figure.Figure at 0x7f206e65c080>"
      ]
     },
     "metadata": {},
     "output_type": "display_data"
    }
   ],
   "source": [
    "from sklearn.metrics import confusion_matrix\n",
    "\n",
    "cm=confusion_matrix(Y_teste, y_pred)\n",
    "sns.heatmap(cm, annot=True, fmt='g')\n",
    "\n",
    "plt.xlabel('Predição( 1 ou 0)')\n",
    "plt.ylabel('Real ( 1 ou 0)')"
   ]
  },
  {
   "cell_type": "code",
   "execution_count": 28,
   "metadata": {
    "colab": {
     "base_uri": "https://8080-cs-565886152761-default.cs-us-east1-wzxb.cloudshell.dev/"
    },
    "id": "-S8r-OlrLZQC",
    "outputId": "c172b463-7cd0-4b27-f59b-7e2cb3380334"
   },
   "outputs": [
    {
     "data": {
      "text/plain": [
       "0.5"
      ]
     },
     "execution_count": 28,
     "metadata": {},
     "output_type": "execute_result"
    }
   ],
   "source": [
    "from sklearn.metrics import  roc_auc_score,roc_curve, classification_report\n",
    "from sklearn import metrics\n",
    "\n",
    "y_proba = dummy_clf.predict_proba(X_teste)\n",
    "roc_auc_score(Y_teste, y_proba[:,1])"
   ]
  },
  {
   "cell_type": "code",
   "execution_count": 29,
   "metadata": {
    "colab": {
     "base_uri": "https://8080-cs-565886152761-default.cs-us-east1-wzxb.cloudshell.dev/"
    },
    "id": "7w_KKTtG2FJ7",
    "outputId": "5bcba326-50e9-4344-86ea-fc8a09e4ce6e"
   },
   "outputs": [
    {
     "name": "stdout",
     "output_type": "stream",
     "text": [
      "             precision    recall  f1-score   support\n",
      "\n",
      "          0       0.00      0.00      0.00      3190\n",
      "          1       0.62      1.00      0.77      5296\n",
      "\n",
      "avg / total       0.39      0.62      0.48      8486\n",
      "\n"
     ]
    },
    {
     "name": "stderr",
     "output_type": "stream",
     "text": [
      "/usr/local/envs/py3env/lib/python3.5/site-packages/sklearn/metrics/classification.py:1135: UndefinedMetricWarning: Precision and F-score are ill-defined and being set to 0.0 in labels with no predicted samples.\n",
      "  'precision', 'predicted', average, warn_for)\n"
     ]
    }
   ],
   "source": [
    "print(classification_report(Y_teste, y_pred))"
   ]
  },
  {
   "cell_type": "markdown",
   "metadata": {
    "id": "XKdU_aKDnANf"
   },
   "source": [
    "### Triagem com outros modelos"
   ]
  },
  {
   "cell_type": "code",
   "execution_count": 30,
   "metadata": {
    "colab": {
     "base_uri": "https://8080-cs-565886152761-default.cs-us-east1-wzxb.cloudshell.dev/"
    },
    "id": "cgBcO3TE0U2-",
    "outputId": "1210e9ff-7479-43e1-ae6d-d2cbcc9436c7"
   },
   "outputs": [
    {
     "name": "stderr",
     "output_type": "stream",
     "text": [
      "/usr/local/envs/py3env/lib/python3.5/site-packages/sklearn/cross_validation.py:41: DeprecationWarning: This module was deprecated in version 0.18 in favor of the model_selection module into which all the refactored classes and functions are moved. Also note that the interface of the new CV iterators are different from that of this module. This module will be removed in 0.20.\n",
      "  \"This module will be removed in 0.20.\", DeprecationWarning)\n"
     ]
    },
    {
     "name": "stdout",
     "output_type": "stream",
     "text": [
      "LogisticRegression\n",
      "Acuracia\n",
      "Treino: 0.7175604007071302\n",
      "Teste: 0.7198915861418808\n",
      "ROC AUC\n",
      "Treino 0.7949811457103022\n",
      "Test 0.8000386522270313\n",
      "================================================================================\n",
      "GaussianNB\n",
      "Acuracia\n",
      "Treino: 0.725309369475545\n",
      "Teste: 0.7290831958519916\n",
      "ROC AUC\n",
      "Treino 0.7773176345609065\n",
      "Test 0.7802014177613199\n",
      "================================================================================\n",
      "RandomForestClassifier\n",
      "Acuracia\n",
      "Treino: 0.9880377136122569\n",
      "Teste: 0.8383219420221542\n",
      "ROC AUC\n",
      "Treino 0.9994291614494067\n",
      "Test 0.8909001233556526\n",
      "================================================================================\n",
      "XGBClassifier\n",
      "Acuracia\n",
      "Treino: 0.8543901001767825\n",
      "Teste: 0.8561159556917276\n",
      "ROC AUC\n",
      "Treino 0.9161923973790853\n",
      "Test 0.9165268754320999\n",
      "================================================================================\n"
     ]
    },
    {
     "name": "stderr",
     "output_type": "stream",
     "text": [
      "/usr/local/envs/py3env/lib/python3.5/site-packages/sklearn/preprocessing/label.py:151: DeprecationWarning: The truth value of an empty array is ambiguous. Returning False, but in future this will result in an error. Use `array.size > 0` to check that an array is not empty.\n",
      "  if diff:\n",
      "/usr/local/envs/py3env/lib/python3.5/site-packages/sklearn/preprocessing/label.py:151: DeprecationWarning: The truth value of an empty array is ambiguous. Returning False, but in future this will result in an error. Use `array.size > 0` to check that an array is not empty.\n",
      "  if diff:\n"
     ]
    }
   ],
   "source": [
    "from sklearn.linear_model import LogisticRegression\n",
    "from sklearn.naive_bayes import GaussianNB\n",
    "from sklearn.ensemble import RandomForestClassifier\n",
    "from xgboost import XGBClassifier\n",
    "\n",
    "lista_classificacores = [ LogisticRegression(),\n",
    "                         GaussianNB(),\n",
    "                         RandomForestClassifier(),\n",
    "                         XGBClassifier()]\n",
    "\n",
    "for clf in lista_classificacores:\n",
    "  print(clf.__class__.__name__)\n",
    "  clf.fit(X_treino, Y_treino)\n",
    "\n",
    "  print('Acuracia')\n",
    "  train_acc = clf.score(X_treino, Y_treino)\n",
    "  test_acc = clf.score(X_teste, Y_teste)\n",
    "  print('Treino:', train_acc)\n",
    "  print('Teste:', test_acc)\n",
    "\n",
    "  print('ROC AUC')\n",
    "\n",
    "  y_proba_treino = clf.predict_proba(X_treino)\n",
    "  roc_treino = roc_auc_score(Y_treino, y_proba_treino[:, 1])\n",
    "  print('Treino', roc_treino)\n",
    "\n",
    "  y_proba_teste = clf.predict_proba(X_teste)\n",
    "  roc_teste = roc_auc_score(Y_teste, y_proba_teste[:, 1])\n",
    "  print('Test', roc_teste)\n",
    "  print('='*80)"
   ]
  },
  {
   "cell_type": "markdown",
   "metadata": {
    "id": "JUOt7_XA-kkM"
   },
   "source": [
    "- Validação cruzada."
   ]
  },
  {
   "cell_type": "code",
   "execution_count": 31,
   "metadata": {
    "colab": {
     "base_uri": "https://8080-cs-565886152761-default.cs-us-east1-wzxb.cloudshell.dev/"
    },
    "id": "xeqhk64bLdpB",
    "outputId": "ac43c5be-d2e9-4f92-cb23-463bba8aa8e3"
   },
   "outputs": [
    {
     "name": "stdout",
     "output_type": "stream",
     "text": [
      "LogisticRegression\n",
      "Treino: 0.7175604007071302\n",
      "Validation score 0.7180612846199176\n",
      "Teste: 0.7198915861418808\n",
      "ROC AUC\n",
      "Treino 0.7949811457103022\n",
      "Test 0.8000386522270313\n",
      "================================================================================\n",
      "GaussianNB\n",
      "Treino: 0.725309369475545\n",
      "Validation score 0.7242486741308191\n",
      "Teste: 0.7290831958519916\n",
      "ROC AUC\n",
      "Treino 0.7773176345609065\n",
      "Test 0.7802014177613199\n",
      "================================================================================\n",
      "RandomForestClassifier\n",
      "Treino: 0.9870359457866824\n",
      "Validation score 0.8321744254566882\n",
      "Teste: 0.8370256893707283\n",
      "ROC AUC\n",
      "Treino 0.9993572631659962\n",
      "Test 0.8945410684351589\n",
      "================================================================================\n",
      "XGBClassifier\n",
      "Treino: 0.8543901001767825\n",
      "Validation score 0.8520624631703004\n",
      "Teste: 0.8561159556917276\n",
      "ROC AUC\n",
      "Treino 0.9161923973790853\n",
      "Test 0.9165268754320999\n",
      "================================================================================\n"
     ]
    }
   ],
   "source": [
    "import warnings\n",
    "warnings.filterwarnings(\"ignore\")\n",
    "\n",
    "from sklearn.model_selection import cross_val_score\n",
    "lista_classificacores = [ LogisticRegression(),\n",
    "                         GaussianNB(),\n",
    "                         RandomForestClassifier(),\n",
    "                         XGBClassifier()]\n",
    "\n",
    "\n",
    "for clf in lista_classificacores:\n",
    "  print(clf.__class__.__name__)\n",
    "  clf.fit(X_treino, Y_treino)\n",
    "  train_acc = clf.score(X_treino, Y_treino)\n",
    "  val_score = cross_val_score(clf, X_treino, Y_treino, cv=5)\n",
    "  test_acc = clf.score(X_teste, Y_teste)\n",
    "  print('Treino:', train_acc)\n",
    "  print('Validation score', val_score.mean())\n",
    "  print('Teste:', test_acc)\n",
    "\n",
    "  print('ROC AUC')\n",
    "\n",
    "  y_proba_treino = clf.predict_proba(X_treino)\n",
    "  roc_treino = roc_auc_score(Y_treino, y_proba_treino[:, 1])\n",
    "  print('Treino', roc_treino)\n",
    "\n",
    "  y_proba_teste = clf.predict_proba(X_teste)\n",
    "  roc_teste = roc_auc_score(Y_teste, y_proba_teste[:, 1])\n",
    "  print('Test', roc_teste)\n",
    "  print('='*80)"
   ]
  },
  {
   "cell_type": "markdown",
   "metadata": {},
   "source": [
    "# Ajustando o XGBClassifier."
   ]
  },
  {
   "cell_type": "code",
   "execution_count": 32,
   "metadata": {},
   "outputs": [],
   "source": [
    "clf = XGBClassifier(max_depth=20,n_estimators=250,seed=42)"
   ]
  },
  {
   "cell_type": "code",
   "execution_count": 33,
   "metadata": {},
   "outputs": [
    {
     "data": {
      "text/plain": [
       "XGBClassifier(base_score=0.5, colsample_bylevel=1, colsample_bytree=1,\n",
       "       gamma=0, learning_rate=0.1, max_delta_step=0, max_depth=20,\n",
       "       min_child_weight=1, missing=None, n_estimators=250, nthread=-1,\n",
       "       objective='binary:logistic', reg_alpha=0, reg_lambda=1,\n",
       "       scale_pos_weight=1, seed=42, silent=True, subsample=1)"
      ]
     },
     "execution_count": 33,
     "metadata": {},
     "output_type": "execute_result"
    }
   ],
   "source": [
    "clf.fit(X_treino, Y_treino)"
   ]
  },
  {
   "cell_type": "code",
   "execution_count": 34,
   "metadata": {},
   "outputs": [
    {
     "name": "stdout",
     "output_type": "stream",
     "text": [
      "A acurácia do logisticregression foi 84.61%\n"
     ]
    }
   ],
   "source": [
    "y_pred = clf.predict(X_teste)\n",
    "acuracia = clf.score(X_teste, Y_teste) * 100\n",
    "\n",
    "print('A acurácia do logisticregression foi %.2f%%' % acuracia)"
   ]
  },
  {
   "cell_type": "code",
   "execution_count": 35,
   "metadata": {},
   "outputs": [
    {
     "data": {
      "text/plain": [
       "Text(33,0.5,'Real ( 1 ou 0)')"
      ]
     },
     "execution_count": 35,
     "metadata": {},
     "output_type": "execute_result"
    },
    {
     "data": {
      "image/png": "[encoded data removed]",
      "text/plain": [
       "<matplotlib.figure.Figure at 0x7f20674859e8>"
      ]
     },
     "metadata": {},
     "output_type": "display_data"
    }
   ],
   "source": [
    "cm=confusion_matrix(Y_teste, y_pred)\n",
    "sns.heatmap(cm, annot=True, fmt='g')\n",
    "\n",
    "plt.xlabel('Predição( 1 ou 0)')\n",
    "plt.ylabel('Real ( 1 ou 0)')"
   ]
  },
  {
   "cell_type": "code",
   "execution_count": 38,
   "metadata": {},
   "outputs": [
    {
     "data": {
      "text/plain": [
       "0.9093129966189659"
      ]
     },
     "execution_count": 38,
     "metadata": {},
     "output_type": "execute_result"
    }
   ],
   "source": [
    "y_proba = clf.predict_proba(X_teste)[:,1]\n",
    "roc_auc = roc_auc_score(Y_teste, y_proba)\n",
    "roc_auc"
   ]
  },
  {
   "cell_type": "code",
   "execution_count": 39,
   "metadata": {},
   "outputs": [
    {
     "name": "stdout",
     "output_type": "stream",
     "text": [
      "             precision    recall  f1-score   support\n",
      "\n",
      "          0       0.79      0.80      0.80      3190\n",
      "          1       0.88      0.87      0.88      5296\n",
      "\n",
      "avg / total       0.85      0.85      0.85      8486\n",
      "\n"
     ]
    }
   ],
   "source": [
    "print(classification_report(Y_teste, y_proba>0.5))"
   ]
  },
  {
   "cell_type": "markdown",
   "metadata": {},
   "source": [
    "# Austando o RandomForestClassifier."
   ]
  },
  {
   "cell_type": "code",
   "execution_count": 46,
   "metadata": {},
   "outputs": [],
   "source": [
    "from sklearn.ensemble import RandomForestClassifier"
   ]
  },
  {
   "cell_type": "code",
   "execution_count": 47,
   "metadata": {},
   "outputs": [
    {
     "data": {
      "text/plain": [
       "RandomForestClassifier(bootstrap=True, class_weight='balanced',\n",
       "            criterion='entropy', max_depth=20, max_features='log2',\n",
       "            max_leaf_nodes=None, min_impurity_decrease=0.0,\n",
       "            min_impurity_split=None, min_samples_leaf=1,\n",
       "            min_samples_split=2, min_weight_fraction_leaf=0.0,\n",
       "            n_estimators=350, n_jobs=1, oob_score=False, random_state=42,\n",
       "            verbose=0, warm_start=False)"
      ]
     },
     "execution_count": 47,
     "metadata": {},
     "output_type": "execute_result"
    }
   ],
   "source": [
    "clf = RandomForestClassifier(criterion='entropy',class_weight='balanced',max_features=\"log2\",\n",
    "                             n_estimators=350,max_depth=20, random_state=42)\n",
    "clf.fit(X_treino, Y_treino)"
   ]
  },
  {
   "cell_type": "code",
   "execution_count": 48,
   "metadata": {},
   "outputs": [],
   "source": [
    "y_pred = clf.predict(X_teste)"
   ]
  },
  {
   "cell_type": "code",
   "execution_count": 49,
   "metadata": {},
   "outputs": [
    {
     "data": {
      "text/plain": [
       "Text(33,0.5,'Real ( 1 ou 0)')"
      ]
     },
     "execution_count": 49,
     "metadata": {},
     "output_type": "execute_result"
    },
    {
     "data": {
      "image/png": "[encoded data removed]",
      "text/plain": [
       "<matplotlib.figure.Figure at 0x7f2054e05be0>"
      ]
     },
     "metadata": {},
     "output_type": "display_data"
    }
   ],
   "source": [
    "cm=confusion_matrix(Y_teste, y_pred)\n",
    "sns.heatmap(cm, annot=True, fmt='g')\n",
    "\n",
    "plt.xlabel('Predição( 1 ou 0)')\n",
    "plt.ylabel('Real ( 1 ou 0)')"
   ]
  },
  {
   "cell_type": "code",
   "execution_count": 50,
   "metadata": {},
   "outputs": [
    {
     "data": {
      "text/plain": [
       "0.9127518609893076"
      ]
     },
     "execution_count": 50,
     "metadata": {},
     "output_type": "execute_result"
    }
   ],
   "source": [
    "y_proba = clf.predict_proba(X_teste)[:,1]\n",
    "roc_auc = roc_auc_score(Y_teste, y_proba)\n",
    "roc_auc"
   ]
  },
  {
   "cell_type": "code",
   "execution_count": 51,
   "metadata": {},
   "outputs": [
    {
     "name": "stdout",
     "output_type": "stream",
     "text": [
      "             precision    recall  f1-score   support\n",
      "\n",
      "          0       0.80      0.82      0.81      3190\n",
      "          1       0.89      0.87      0.88      5296\n",
      "\n",
      "avg / total       0.85      0.85      0.85      8486\n",
      "\n"
     ]
    }
   ],
   "source": [
    "print(classification_report(Y_teste, y_proba>0.5))"
   ]
  },
  {
   "cell_type": "code",
   "execution_count": 52,
   "metadata": {},
   "outputs": [
    {
     "data": {
      "image/png": "[encoded data removed]",
      "text/plain": [
       "<matplotlib.figure.Figure at 0x7f2054dcd588>"
      ]
     },
     "metadata": {},
     "output_type": "display_data"
    }
   ],
   "source": [
    "fpr, tpr, thresholds = metrics.roc_curve(Y_teste, y_pred)\n",
    "plt.plot(fpr, tpr)\n",
    "plt.plot([0,1],[0,1], '--')\n",
    "plt.title('ROC curve')\n",
    "plt.xlabel('False Positive Rate')\n",
    "plt.ylabel('True Positive Rate')\n",
    "plt.grid(True)\n",
    "plt.show()"
   ]
  },
  {
   "cell_type": "markdown",
   "metadata": {
    "id": "T4l18GaEFWb5"
   },
   "source": [
    " - Visualizando árvore de decisão de baixa profundidade."
   ]
  },
  {
   "cell_type": "code",
   "execution_count": 56,
   "metadata": {
    "colab": {
     "base_uri": "https://8080-cs-565886152761-default.cs-us-east1-wzxb.cloudshell.dev/",
     "height": 592
    },
    "id": "pH5KkCO9yMRJ",
    "outputId": "37c8f46d-bc79-43bf-a0b1-a28fc89caec2"
   },
   "outputs": [],
   "source": [
    "# from sklearn.tree import plot_tree\n",
    "\n",
    "\n",
    "# plt.figure(figsize=(20,10))\n",
    "# annotations = plot_tree(clf.estimators_[0],\n",
    "#                         feature_names=dados_ml.drop('conclusao',axis=1).columns,\n",
    "#                         filled=True)"
   ]
  },
  {
   "cell_type": "markdown",
   "metadata": {
    "id": "T_I1cpEpGTce"
   },
   "source": [
    " - Salvando o modelo"
   ]
  },
  {
   "cell_type": "code",
   "execution_count": 85,
   "metadata": {
    "id": "kui_vA2z-GpW"
   },
   "outputs": [],
   "source": [
    "import pickle\n",
    "\n",
    "output = open('classificacao_assalto', 'wb')\n",
    "pickle.dump(clf, output)\n",
    "output.close()"
   ]
  }
 ],
 "metadata": {
  "colab": {
   "collapsed_sections": [],
   "name": "modelo_classificacao_assalto.ipynb",
   "provenance": [],
   "toc_visible": true
  },
  "kernelspec": {
   "display_name": "Python 3",
   "language": "python",
   "name": "python3"
  },
  "language_info": {
   "codemirror_mode": {
    "name": "ipython",
    "version": 3
   },
   "file_extension": ".py",
   "mimetype": "text/x-python",
   "name": "python",
   "nbconvert_exporter": "python",
   "pygments_lexer": "ipython3",
   "version": "3.5.6"
  }
 },
 "nbformat": 4,
 "nbformat_minor": 1
}
