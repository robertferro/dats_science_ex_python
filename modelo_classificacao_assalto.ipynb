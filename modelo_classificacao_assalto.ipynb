{
  "nbformat": 4,
  "nbformat_minor": 0,
  "metadata": {
    "colab": {
      "name": "modelo_classificacao_assalto.ipynb",
      "provenance": [],
      "collapsed_sections": [],
      "toc_visible": true
    },
    "kernelspec": {
      "name": "python3",
      "display_name": "Python 3"
    },
    "language_info": {
      "name": "python"
    }
  },
  "cells": [
    {
      "cell_type": "markdown",
      "metadata": {
        "id": "Uh7x-tzWVS4M"
      },
      "source": [
        "This dataset includes all valid felony, misdemeanor, and violation crimes reported to the New York City Police Department (NYPD) from 2006 to the end of last year (2019). For additional details, please see the attached data dictionary in the ‘About’ section.\n",
        "\n",
        "link: https://data.cityofnewyork.us/Public-Safety/NYPD-Complaint-Data-Historic/qgea-i56i"
      ]
    },
    {
      "cell_type": "code",
      "metadata": {
        "colab": {
          "base_uri": "https://localhost:8080/"
        },
        "id": "oA4Y3OufaZbP",
        "outputId": "cad83707-56b3-4a13-954d-8a0724bf8aa4"
      },
      "source": [
        "pip install sodapy"
      ],
      "execution_count": 1,
      "outputs": [
        {
          "output_type": "stream",
          "text": [
            "Requirement already satisfied: sodapy in /usr/local/lib/python3.7/dist-packages (2.1.0)\n",
            "Requirement already satisfied: requests>=2.20.0 in /usr/local/lib/python3.7/dist-packages (from sodapy) (2.23.0)\n",
            "Requirement already satisfied: certifi>=2017.4.17 in /usr/local/lib/python3.7/dist-packages (from requests>=2.20.0->sodapy) (2020.12.5)\n",
            "Requirement already satisfied: chardet<4,>=3.0.2 in /usr/local/lib/python3.7/dist-packages (from requests>=2.20.0->sodapy) (3.0.4)\n",
            "Requirement already satisfied: idna<3,>=2.5 in /usr/local/lib/python3.7/dist-packages (from requests>=2.20.0->sodapy) (2.10)\n",
            "Requirement already satisfied: urllib3!=1.25.0,!=1.25.1,<1.26,>=1.21.1 in /usr/local/lib/python3.7/dist-packages (from requests>=2.20.0->sodapy) (1.24.3)\n"
          ],
          "name": "stdout"
        }
      ]
    },
    {
      "cell_type": "markdown",
      "metadata": {
        "id": "UNGGYIF-YiiD"
      },
      "source": [
        "## 1 - Extração e carregamento dos dados."
      ]
    },
    {
      "cell_type": "code",
      "metadata": {
        "id": "amWCtd1dabda"
      },
      "source": [
        "from sodapy import Socrata\n",
        "import pandas as pd\n",
        "import numpy as np\n",
        "import datetime as dt\n",
        "import datetime\n",
        "from datetime import date\n",
        "import matplotlib.pyplot as plt\n",
        "import seaborn as sns"
      ],
      "execution_count": 2,
      "outputs": []
    },
    {
      "cell_type": "code",
      "metadata": {
        "colab": {
          "base_uri": "https://localhost:8080/"
        },
        "id": "FyxrSiV1asCR",
        "outputId": "545e3ee1-18c7-4a4a-f4ae-629e6ce1d7d8"
      },
      "source": [
        "#  Example authenticated client (needed for non-public datasets):\n",
        "# https://data.cityofnewyork.us/resource/qgea-i56i.json\n",
        "# client = Socrata(data.cityofnewyork.us,\n",
        "#                  MyAppToken,\n",
        "#                  userame=\"user@example.com\",\n",
        "#                  password=\"AFakePassword\")\n",
        "# Unauthenticated client only works with public data sets. Note 'None'\n",
        "# in place of application token, and no username or password:\n",
        "\n",
        "\n",
        "client = Socrata(\"data.cityofnewyork.us\", None)"
      ],
      "execution_count": 3,
      "outputs": [
        {
          "output_type": "stream",
          "text": [
            "WARNING:root:Requests made without an app_token will be subject to strict throttling limits.\n"
          ],
          "name": "stderr"
        }
      ]
    },
    {
      "cell_type": "code",
      "metadata": {
        "id": "wCNjUxR1av0g"
      },
      "source": [
        "# results, returned as JSON from API / converted to Python list of\n",
        "# dictionaries by sodapy.\n",
        "results = client.get(\"qgea-i56i\", limit=750000)"
      ],
      "execution_count": 4,
      "outputs": []
    },
    {
      "cell_type": "code",
      "metadata": {
        "id": "TtLKjCb5a4WK"
      },
      "source": [
        "# Convert to pandas DataFrame\n",
        "results_df = pd.DataFrame.from_records(results)"
      ],
      "execution_count": 5,
      "outputs": []
    },
    {
      "cell_type": "code",
      "metadata": {
        "colab": {
          "base_uri": "https://localhost:8080/",
          "height": 479
        },
        "id": "1Y0P9Qwwa8Hf",
        "outputId": "8078f791-d48f-43d7-c4fe-203b15b87271"
      },
      "source": [
        "results_df.head()"
      ],
      "execution_count": 6,
      "outputs": [
        {
          "output_type": "execute_result",
          "data": {
            "text/html": [
              "<div>\n",
              "<style scoped>\n",
              "    .dataframe tbody tr th:only-of-type {\n",
              "        vertical-align: middle;\n",
              "    }\n",
              "\n",
              "    .dataframe tbody tr th {\n",
              "        vertical-align: top;\n",
              "    }\n",
              "\n",
              "    .dataframe thead th {\n",
              "        text-align: right;\n",
              "    }\n",
              "</style>\n",
              "<table border=\"1\" class=\"dataframe\">\n",
              "  <thead>\n",
              "    <tr style=\"text-align: right;\">\n",
              "      <th></th>\n",
              "      <th>cmplnt_num</th>\n",
              "      <th>cmplnt_fr_dt</th>\n",
              "      <th>cmplnt_fr_tm</th>\n",
              "      <th>addr_pct_cd</th>\n",
              "      <th>rpt_dt</th>\n",
              "      <th>ky_cd</th>\n",
              "      <th>ofns_desc</th>\n",
              "      <th>pd_cd</th>\n",
              "      <th>pd_desc</th>\n",
              "      <th>crm_atpt_cptd_cd</th>\n",
              "      <th>law_cat_cd</th>\n",
              "      <th>boro_nm</th>\n",
              "      <th>loc_of_occur_desc</th>\n",
              "      <th>prem_typ_desc</th>\n",
              "      <th>juris_desc</th>\n",
              "      <th>jurisdiction_code</th>\n",
              "      <th>housing_psa</th>\n",
              "      <th>x_coord_cd</th>\n",
              "      <th>y_coord_cd</th>\n",
              "      <th>susp_age_group</th>\n",
              "      <th>susp_race</th>\n",
              "      <th>susp_sex</th>\n",
              "      <th>latitude</th>\n",
              "      <th>longitude</th>\n",
              "      <th>lat_lon</th>\n",
              "      <th>patrol_boro</th>\n",
              "      <th>vic_age_group</th>\n",
              "      <th>vic_race</th>\n",
              "      <th>vic_sex</th>\n",
              "      <th>:@computed_region_efsh_h5xi</th>\n",
              "      <th>:@computed_region_f5dn_yrer</th>\n",
              "      <th>:@computed_region_yeji_bk3q</th>\n",
              "      <th>:@computed_region_92fq_4b7q</th>\n",
              "      <th>:@computed_region_sbqj_enih</th>\n",
              "      <th>cmplnt_to_dt</th>\n",
              "      <th>cmplnt_to_tm</th>\n",
              "      <th>parks_nm</th>\n",
              "      <th>hadevelopt</th>\n",
              "      <th>transit_district</th>\n",
              "      <th>station_name</th>\n",
              "    </tr>\n",
              "  </thead>\n",
              "  <tbody>\n",
              "    <tr>\n",
              "      <th>0</th>\n",
              "      <td>700381962</td>\n",
              "      <td>2015-05-28T00:00:00.000</td>\n",
              "      <td>15:00:00</td>\n",
              "      <td>46</td>\n",
              "      <td>2015-06-01T00:00:00.000</td>\n",
              "      <td>578</td>\n",
              "      <td>HARRASSMENT 2</td>\n",
              "      <td>638</td>\n",
              "      <td>HARASSMENT,SUBD 3,4,5</td>\n",
              "      <td>COMPLETED</td>\n",
              "      <td>VIOLATION</td>\n",
              "      <td>BRONX</td>\n",
              "      <td>INSIDE</td>\n",
              "      <td>RESIDENCE - APT. HOUSE</td>\n",
              "      <td>N.Y. POLICE DEPT</td>\n",
              "      <td>0</td>\n",
              "      <td>NA</td>\n",
              "      <td>1007522</td>\n",
              "      <td>247458</td>\n",
              "      <td>25-44</td>\n",
              "      <td>BLACK</td>\n",
              "      <td>M</td>\n",
              "      <td>40.84586773</td>\n",
              "      <td>-73.915888033</td>\n",
              "      <td>{'latitude': '40.84586773', 'longitude': '-73....</td>\n",
              "      <td>PATROL BORO BRONX</td>\n",
              "      <td>25-44</td>\n",
              "      <td>WHITE HISPANIC</td>\n",
              "      <td>F</td>\n",
              "      <td>10930</td>\n",
              "      <td>6</td>\n",
              "      <td>5</td>\n",
              "      <td>29</td>\n",
              "      <td>29</td>\n",
              "      <td>NaN</td>\n",
              "      <td>NaN</td>\n",
              "      <td>NaN</td>\n",
              "      <td>NaN</td>\n",
              "      <td>NaN</td>\n",
              "      <td>NaN</td>\n",
              "    </tr>\n",
              "    <tr>\n",
              "      <th>1</th>\n",
              "      <td>642234217</td>\n",
              "      <td>2013-10-28T00:00:00.000</td>\n",
              "      <td>13:50:00</td>\n",
              "      <td>120</td>\n",
              "      <td>2013-10-28T00:00:00.000</td>\n",
              "      <td>351</td>\n",
              "      <td>CRIMINAL MISCHIEF &amp; RELATED OF</td>\n",
              "      <td>259</td>\n",
              "      <td>CRIMINAL MISCHIEF,UNCLASSIFIED 4</td>\n",
              "      <td>COMPLETED</td>\n",
              "      <td>MISDEMEANOR</td>\n",
              "      <td>STATEN ISLAND</td>\n",
              "      <td>INSIDE</td>\n",
              "      <td>RESIDENCE - APT. HOUSE</td>\n",
              "      <td>N.Y. POLICE DEPT</td>\n",
              "      <td>0</td>\n",
              "      <td>NA</td>\n",
              "      <td>962835</td>\n",
              "      <td>167738</td>\n",
              "      <td>NaN</td>\n",
              "      <td>NaN</td>\n",
              "      <td>NaN</td>\n",
              "      <td>40.627060894</td>\n",
              "      <td>-74.077149232</td>\n",
              "      <td>{'latitude': '40.627060894', 'longitude': '-74...</td>\n",
              "      <td>PATROL BORO STATEN ISLAND</td>\n",
              "      <td>45-64</td>\n",
              "      <td>WHITE</td>\n",
              "      <td>M</td>\n",
              "      <td>10691</td>\n",
              "      <td>4</td>\n",
              "      <td>1</td>\n",
              "      <td>13</td>\n",
              "      <td>74</td>\n",
              "      <td>2013-10-28T00:00:00.000</td>\n",
              "      <td>13:50:00</td>\n",
              "      <td>NA</td>\n",
              "      <td>NaN</td>\n",
              "      <td>NaN</td>\n",
              "      <td>NaN</td>\n",
              "    </tr>\n",
              "    <tr>\n",
              "      <th>2</th>\n",
              "      <td>242465164</td>\n",
              "      <td>2012-05-09T00:00:00.000</td>\n",
              "      <td>20:50:00</td>\n",
              "      <td>24</td>\n",
              "      <td>2012-05-09T00:00:00.000</td>\n",
              "      <td>236</td>\n",
              "      <td>DANGEROUS WEAPONS</td>\n",
              "      <td>782</td>\n",
              "      <td>WEAPONS, POSSESSION, ETC</td>\n",
              "      <td>COMPLETED</td>\n",
              "      <td>MISDEMEANOR</td>\n",
              "      <td>MANHATTAN</td>\n",
              "      <td>NaN</td>\n",
              "      <td>STREET</td>\n",
              "      <td>N.Y. POLICE DEPT</td>\n",
              "      <td>0</td>\n",
              "      <td>NA</td>\n",
              "      <td>992820</td>\n",
              "      <td>231089</td>\n",
              "      <td>NaN</td>\n",
              "      <td>NaN</td>\n",
              "      <td>NaN</td>\n",
              "      <td>40.800965968</td>\n",
              "      <td>-73.969047272</td>\n",
              "      <td>{'latitude': '40.800965968', 'longitude': '-73...</td>\n",
              "      <td>PATROL BORO MAN NORTH</td>\n",
              "      <td>NaN</td>\n",
              "      <td>UNKNOWN</td>\n",
              "      <td>E</td>\n",
              "      <td>12422</td>\n",
              "      <td>20</td>\n",
              "      <td>4</td>\n",
              "      <td>19</td>\n",
              "      <td>15</td>\n",
              "      <td>2012-05-09T00:00:00.000</td>\n",
              "      <td>21:00:00</td>\n",
              "      <td>NA</td>\n",
              "      <td>NaN</td>\n",
              "      <td>NaN</td>\n",
              "      <td>NaN</td>\n",
              "    </tr>\n",
              "    <tr>\n",
              "      <th>3</th>\n",
              "      <td>927207428</td>\n",
              "      <td>2014-01-03T00:00:00.000</td>\n",
              "      <td>13:30:00</td>\n",
              "      <td>108</td>\n",
              "      <td>2014-01-03T00:00:00.000</td>\n",
              "      <td>109</td>\n",
              "      <td>GRAND LARCENY</td>\n",
              "      <td>409</td>\n",
              "      <td>LARCENY,GRAND BY EXTORTION</td>\n",
              "      <td>ATTEMPTED</td>\n",
              "      <td>FELONY</td>\n",
              "      <td>QUEENS</td>\n",
              "      <td>INSIDE</td>\n",
              "      <td>RESIDENCE - APT. HOUSE</td>\n",
              "      <td>N.Y. POLICE DEPT</td>\n",
              "      <td>0</td>\n",
              "      <td>NA</td>\n",
              "      <td>1013552</td>\n",
              "      <td>210803</td>\n",
              "      <td>NaN</td>\n",
              "      <td>UNKNOWN</td>\n",
              "      <td>M</td>\n",
              "      <td>40.745241809</td>\n",
              "      <td>-73.894253382</td>\n",
              "      <td>{'latitude': '40.745241809', 'longitude': '-73...</td>\n",
              "      <td>PATROL BORO QUEENS NORTH</td>\n",
              "      <td>45-64</td>\n",
              "      <td>ASIAN / PACIFIC ISLANDER</td>\n",
              "      <td>M</td>\n",
              "      <td>14787</td>\n",
              "      <td>53</td>\n",
              "      <td>3</td>\n",
              "      <td>33</td>\n",
              "      <td>66</td>\n",
              "      <td>2014-01-03T00:00:00.000</td>\n",
              "      <td>13:35:00</td>\n",
              "      <td>NaN</td>\n",
              "      <td>NaN</td>\n",
              "      <td>NaN</td>\n",
              "      <td>NaN</td>\n",
              "    </tr>\n",
              "    <tr>\n",
              "      <th>4</th>\n",
              "      <td>492142357</td>\n",
              "      <td>2016-04-13T00:00:00.000</td>\n",
              "      <td>00:00:00</td>\n",
              "      <td>40</td>\n",
              "      <td>2016-04-13T00:00:00.000</td>\n",
              "      <td>351</td>\n",
              "      <td>CRIMINAL MISCHIEF &amp; RELATED OF</td>\n",
              "      <td>258</td>\n",
              "      <td>CRIMINAL MISCHIEF 4TH, GRAFFIT</td>\n",
              "      <td>COMPLETED</td>\n",
              "      <td>MISDEMEANOR</td>\n",
              "      <td>BRONX</td>\n",
              "      <td>NaN</td>\n",
              "      <td>HIGHWAY/PARKWAY</td>\n",
              "      <td>N.Y. POLICE DEPT</td>\n",
              "      <td>0</td>\n",
              "      <td>NA</td>\n",
              "      <td>1005028</td>\n",
              "      <td>234516</td>\n",
              "      <td>NaN</td>\n",
              "      <td>NaN</td>\n",
              "      <td>NaN</td>\n",
              "      <td>40.810351863</td>\n",
              "      <td>-73.924942326</td>\n",
              "      <td>{'latitude': '40.810351863', 'longitude': '-73...</td>\n",
              "      <td>PATROL BORO BRONX</td>\n",
              "      <td>UNKNOWN</td>\n",
              "      <td>UNKNOWN</td>\n",
              "      <td>E</td>\n",
              "      <td>10932</td>\n",
              "      <td>49</td>\n",
              "      <td>5</td>\n",
              "      <td>35</td>\n",
              "      <td>23</td>\n",
              "      <td>NaN</td>\n",
              "      <td>NaN</td>\n",
              "      <td>NaN</td>\n",
              "      <td>NaN</td>\n",
              "      <td>NaN</td>\n",
              "      <td>NaN</td>\n",
              "    </tr>\n",
              "  </tbody>\n",
              "</table>\n",
              "</div>"
            ],
            "text/plain": [
              "  cmplnt_num             cmplnt_fr_dt  ... transit_district station_name\n",
              "0  700381962  2015-05-28T00:00:00.000  ...              NaN          NaN\n",
              "1  642234217  2013-10-28T00:00:00.000  ...              NaN          NaN\n",
              "2  242465164  2012-05-09T00:00:00.000  ...              NaN          NaN\n",
              "3  927207428  2014-01-03T00:00:00.000  ...              NaN          NaN\n",
              "4  492142357  2016-04-13T00:00:00.000  ...              NaN          NaN\n",
              "\n",
              "[5 rows x 40 columns]"
            ]
          },
          "metadata": {
            "tags": []
          },
          "execution_count": 6
        }
      ]
    },
    {
      "cell_type": "markdown",
      "metadata": {
        "id": "5uTo_0cNhHEu"
      },
      "source": [
        "## 2 - Tratamento dos dados.\n",
        "\n",
        "- Neste tópico será feito um tratamento de dados, com exclusão, modificação do  tipo e conteúdo de algumas colunas.\n"
      ]
    },
    {
      "cell_type": "code",
      "metadata": {
        "id": "_Tg6tQI1fRa_"
      },
      "source": [
        "drop_columns=['cmplnt_num','addr_pct_cd','ky_cd','pd_cd','juris_desc','jurisdiction_code','housing_psa','x_coord_cd','y_coord_cd','lat_lon',':@computed_region_efsh_h5xi',\n",
        "              ':@computed_region_f5dn_yrer',':@computed_region_yeji_bk3q',':@computed_region_92fq_4b7q',':@computed_region_sbqj_enih']"
      ],
      "execution_count": 7,
      "outputs": []
    },
    {
      "cell_type": "code",
      "metadata": {
        "id": "bTrCqBrshUqN"
      },
      "source": [
        "results_df.drop(columns=drop_columns,axis=1,inplace=True)"
      ],
      "execution_count": 8,
      "outputs": []
    },
    {
      "cell_type": "code",
      "metadata": {
        "id": "sfWg7hq_eiTn"
      },
      "source": [
        "results_df.columns=['data_da_ocorr','hora_da_ocorr','data_com_policia','delito',\n",
        "                    'desc_delito','conclusao','nivel_delito','bairro','loc_esp_delito','desc_instalacoes',\n",
        "                    'idade_susp','raca_susp','sexo_susp','latitude','longitude','patrol_boro','idade_vit','raca_vit','sexo_vit',\n",
        "                    'data_final_ocorr','hora_termino_ocorr','parque','conj_hab','transit_district','rua_av']"
      ],
      "execution_count": 9,
      "outputs": []
    },
    {
      "cell_type": "code",
      "metadata": {
        "colab": {
          "base_uri": "https://localhost:8080/",
          "height": 428
        },
        "id": "savHh_SEcppM",
        "outputId": "d6ddffbc-c70a-424a-a037-42a67dce7275"
      },
      "source": [
        "results_df.head()"
      ],
      "execution_count": 10,
      "outputs": [
        {
          "output_type": "execute_result",
          "data": {
            "text/html": [
              "<div>\n",
              "<style scoped>\n",
              "    .dataframe tbody tr th:only-of-type {\n",
              "        vertical-align: middle;\n",
              "    }\n",
              "\n",
              "    .dataframe tbody tr th {\n",
              "        vertical-align: top;\n",
              "    }\n",
              "\n",
              "    .dataframe thead th {\n",
              "        text-align: right;\n",
              "    }\n",
              "</style>\n",
              "<table border=\"1\" class=\"dataframe\">\n",
              "  <thead>\n",
              "    <tr style=\"text-align: right;\">\n",
              "      <th></th>\n",
              "      <th>data_da_ocorr</th>\n",
              "      <th>hora_da_ocorr</th>\n",
              "      <th>data_com_policia</th>\n",
              "      <th>delito</th>\n",
              "      <th>desc_delito</th>\n",
              "      <th>conclusao</th>\n",
              "      <th>nivel_delito</th>\n",
              "      <th>bairro</th>\n",
              "      <th>loc_esp_delito</th>\n",
              "      <th>desc_instalacoes</th>\n",
              "      <th>idade_susp</th>\n",
              "      <th>raca_susp</th>\n",
              "      <th>sexo_susp</th>\n",
              "      <th>latitude</th>\n",
              "      <th>longitude</th>\n",
              "      <th>patrol_boro</th>\n",
              "      <th>idade_vit</th>\n",
              "      <th>raca_vit</th>\n",
              "      <th>sexo_vit</th>\n",
              "      <th>data_final_ocorr</th>\n",
              "      <th>hora_termino_ocorr</th>\n",
              "      <th>parque</th>\n",
              "      <th>conj_hab</th>\n",
              "      <th>transit_district</th>\n",
              "      <th>rua_av</th>\n",
              "    </tr>\n",
              "  </thead>\n",
              "  <tbody>\n",
              "    <tr>\n",
              "      <th>0</th>\n",
              "      <td>2015-05-28T00:00:00.000</td>\n",
              "      <td>15:00:00</td>\n",
              "      <td>2015-06-01T00:00:00.000</td>\n",
              "      <td>HARRASSMENT 2</td>\n",
              "      <td>HARASSMENT,SUBD 3,4,5</td>\n",
              "      <td>COMPLETED</td>\n",
              "      <td>VIOLATION</td>\n",
              "      <td>BRONX</td>\n",
              "      <td>INSIDE</td>\n",
              "      <td>RESIDENCE - APT. HOUSE</td>\n",
              "      <td>25-44</td>\n",
              "      <td>BLACK</td>\n",
              "      <td>M</td>\n",
              "      <td>40.84586773</td>\n",
              "      <td>-73.915888033</td>\n",
              "      <td>PATROL BORO BRONX</td>\n",
              "      <td>25-44</td>\n",
              "      <td>WHITE HISPANIC</td>\n",
              "      <td>F</td>\n",
              "      <td>NaN</td>\n",
              "      <td>NaN</td>\n",
              "      <td>NaN</td>\n",
              "      <td>NaN</td>\n",
              "      <td>NaN</td>\n",
              "      <td>NaN</td>\n",
              "    </tr>\n",
              "    <tr>\n",
              "      <th>1</th>\n",
              "      <td>2013-10-28T00:00:00.000</td>\n",
              "      <td>13:50:00</td>\n",
              "      <td>2013-10-28T00:00:00.000</td>\n",
              "      <td>CRIMINAL MISCHIEF &amp; RELATED OF</td>\n",
              "      <td>CRIMINAL MISCHIEF,UNCLASSIFIED 4</td>\n",
              "      <td>COMPLETED</td>\n",
              "      <td>MISDEMEANOR</td>\n",
              "      <td>STATEN ISLAND</td>\n",
              "      <td>INSIDE</td>\n",
              "      <td>RESIDENCE - APT. HOUSE</td>\n",
              "      <td>NaN</td>\n",
              "      <td>NaN</td>\n",
              "      <td>NaN</td>\n",
              "      <td>40.627060894</td>\n",
              "      <td>-74.077149232</td>\n",
              "      <td>PATROL BORO STATEN ISLAND</td>\n",
              "      <td>45-64</td>\n",
              "      <td>WHITE</td>\n",
              "      <td>M</td>\n",
              "      <td>2013-10-28T00:00:00.000</td>\n",
              "      <td>13:50:00</td>\n",
              "      <td>NA</td>\n",
              "      <td>NaN</td>\n",
              "      <td>NaN</td>\n",
              "      <td>NaN</td>\n",
              "    </tr>\n",
              "    <tr>\n",
              "      <th>2</th>\n",
              "      <td>2012-05-09T00:00:00.000</td>\n",
              "      <td>20:50:00</td>\n",
              "      <td>2012-05-09T00:00:00.000</td>\n",
              "      <td>DANGEROUS WEAPONS</td>\n",
              "      <td>WEAPONS, POSSESSION, ETC</td>\n",
              "      <td>COMPLETED</td>\n",
              "      <td>MISDEMEANOR</td>\n",
              "      <td>MANHATTAN</td>\n",
              "      <td>NaN</td>\n",
              "      <td>STREET</td>\n",
              "      <td>NaN</td>\n",
              "      <td>NaN</td>\n",
              "      <td>NaN</td>\n",
              "      <td>40.800965968</td>\n",
              "      <td>-73.969047272</td>\n",
              "      <td>PATROL BORO MAN NORTH</td>\n",
              "      <td>NaN</td>\n",
              "      <td>UNKNOWN</td>\n",
              "      <td>E</td>\n",
              "      <td>2012-05-09T00:00:00.000</td>\n",
              "      <td>21:00:00</td>\n",
              "      <td>NA</td>\n",
              "      <td>NaN</td>\n",
              "      <td>NaN</td>\n",
              "      <td>NaN</td>\n",
              "    </tr>\n",
              "    <tr>\n",
              "      <th>3</th>\n",
              "      <td>2014-01-03T00:00:00.000</td>\n",
              "      <td>13:30:00</td>\n",
              "      <td>2014-01-03T00:00:00.000</td>\n",
              "      <td>GRAND LARCENY</td>\n",
              "      <td>LARCENY,GRAND BY EXTORTION</td>\n",
              "      <td>ATTEMPTED</td>\n",
              "      <td>FELONY</td>\n",
              "      <td>QUEENS</td>\n",
              "      <td>INSIDE</td>\n",
              "      <td>RESIDENCE - APT. HOUSE</td>\n",
              "      <td>NaN</td>\n",
              "      <td>UNKNOWN</td>\n",
              "      <td>M</td>\n",
              "      <td>40.745241809</td>\n",
              "      <td>-73.894253382</td>\n",
              "      <td>PATROL BORO QUEENS NORTH</td>\n",
              "      <td>45-64</td>\n",
              "      <td>ASIAN / PACIFIC ISLANDER</td>\n",
              "      <td>M</td>\n",
              "      <td>2014-01-03T00:00:00.000</td>\n",
              "      <td>13:35:00</td>\n",
              "      <td>NaN</td>\n",
              "      <td>NaN</td>\n",
              "      <td>NaN</td>\n",
              "      <td>NaN</td>\n",
              "    </tr>\n",
              "    <tr>\n",
              "      <th>4</th>\n",
              "      <td>2016-04-13T00:00:00.000</td>\n",
              "      <td>00:00:00</td>\n",
              "      <td>2016-04-13T00:00:00.000</td>\n",
              "      <td>CRIMINAL MISCHIEF &amp; RELATED OF</td>\n",
              "      <td>CRIMINAL MISCHIEF 4TH, GRAFFIT</td>\n",
              "      <td>COMPLETED</td>\n",
              "      <td>MISDEMEANOR</td>\n",
              "      <td>BRONX</td>\n",
              "      <td>NaN</td>\n",
              "      <td>HIGHWAY/PARKWAY</td>\n",
              "      <td>NaN</td>\n",
              "      <td>NaN</td>\n",
              "      <td>NaN</td>\n",
              "      <td>40.810351863</td>\n",
              "      <td>-73.924942326</td>\n",
              "      <td>PATROL BORO BRONX</td>\n",
              "      <td>UNKNOWN</td>\n",
              "      <td>UNKNOWN</td>\n",
              "      <td>E</td>\n",
              "      <td>NaN</td>\n",
              "      <td>NaN</td>\n",
              "      <td>NaN</td>\n",
              "      <td>NaN</td>\n",
              "      <td>NaN</td>\n",
              "      <td>NaN</td>\n",
              "    </tr>\n",
              "  </tbody>\n",
              "</table>\n",
              "</div>"
            ],
            "text/plain": [
              "             data_da_ocorr hora_da_ocorr  ... transit_district rua_av\n",
              "0  2015-05-28T00:00:00.000      15:00:00  ...              NaN    NaN\n",
              "1  2013-10-28T00:00:00.000      13:50:00  ...              NaN    NaN\n",
              "2  2012-05-09T00:00:00.000      20:50:00  ...              NaN    NaN\n",
              "3  2014-01-03T00:00:00.000      13:30:00  ...              NaN    NaN\n",
              "4  2016-04-13T00:00:00.000      00:00:00  ...              NaN    NaN\n",
              "\n",
              "[5 rows x 25 columns]"
            ]
          },
          "metadata": {
            "tags": []
          },
          "execution_count": 10
        }
      ]
    },
    {
      "cell_type": "markdown",
      "metadata": {
        "id": "hB1FR7fnL1Qs"
      },
      "source": [
        "### 2.1 **Criando novas colunas a partir da data da ocorrência.**"
      ]
    },
    {
      "cell_type": "code",
      "metadata": {
        "id": "oKvMagk3G09i"
      },
      "source": [
        "results_df = results_df.dropna(subset=['data_da_ocorr'])"
      ],
      "execution_count": 11,
      "outputs": []
    },
    {
      "cell_type": "code",
      "metadata": {
        "id": "NlhMfZU8Fyhm"
      },
      "source": [
        "# crinado novas variáveis referentes a data da ocorrencia.\n",
        "\n",
        "def date_to_weekday(date):\n",
        "    weekday_dict = {0:'segunda', 1:'terca', 2: 'quarta', 3: 'quinta', 4: 'sexta', 5: 'sabado', 6: 'domingo'}\n",
        "    date_time_obj = datetime.datetime.strptime(date, '%Y-%m-%d')\n",
        "    return weekday_dict[date_time_obj.weekday()]"
      ],
      "execution_count": 12,
      "outputs": []
    },
    {
      "cell_type": "code",
      "metadata": {
        "id": "w2hUaBblKaP0"
      },
      "source": [
        "date = results_df['data_da_ocorr'].str.split('T',expand=True, n=1)[0]\n",
        "date_1 = date.str.split(\"-\", n = 3, expand = True)\n",
        "results_df['ano'] = date_1[0].astype('int32')\n",
        "results_df['mes'] = date_1[1].astype('int32')\n",
        "results_df['dia'] = date_1[2].astype('int32')\n",
        "results_df['dia_da_semana'] = date.apply(date_to_weekday)"
      ],
      "execution_count": 13,
      "outputs": []
    },
    {
      "cell_type": "code",
      "metadata": {
        "colab": {
          "base_uri": "https://localhost:8080/",
          "height": 281
        },
        "id": "r7SLkXjCMc_K",
        "outputId": "a751ad91-85cb-4114-bd38-4449f1212615"
      },
      "source": [
        "results_df.head(3)"
      ],
      "execution_count": 14,
      "outputs": [
        {
          "output_type": "execute_result",
          "data": {
            "text/html": [
              "<div>\n",
              "<style scoped>\n",
              "    .dataframe tbody tr th:only-of-type {\n",
              "        vertical-align: middle;\n",
              "    }\n",
              "\n",
              "    .dataframe tbody tr th {\n",
              "        vertical-align: top;\n",
              "    }\n",
              "\n",
              "    .dataframe thead th {\n",
              "        text-align: right;\n",
              "    }\n",
              "</style>\n",
              "<table border=\"1\" class=\"dataframe\">\n",
              "  <thead>\n",
              "    <tr style=\"text-align: right;\">\n",
              "      <th></th>\n",
              "      <th>data_da_ocorr</th>\n",
              "      <th>hora_da_ocorr</th>\n",
              "      <th>data_com_policia</th>\n",
              "      <th>delito</th>\n",
              "      <th>desc_delito</th>\n",
              "      <th>conclusao</th>\n",
              "      <th>nivel_delito</th>\n",
              "      <th>bairro</th>\n",
              "      <th>loc_esp_delito</th>\n",
              "      <th>desc_instalacoes</th>\n",
              "      <th>idade_susp</th>\n",
              "      <th>raca_susp</th>\n",
              "      <th>sexo_susp</th>\n",
              "      <th>latitude</th>\n",
              "      <th>longitude</th>\n",
              "      <th>patrol_boro</th>\n",
              "      <th>idade_vit</th>\n",
              "      <th>raca_vit</th>\n",
              "      <th>sexo_vit</th>\n",
              "      <th>data_final_ocorr</th>\n",
              "      <th>hora_termino_ocorr</th>\n",
              "      <th>parque</th>\n",
              "      <th>conj_hab</th>\n",
              "      <th>transit_district</th>\n",
              "      <th>rua_av</th>\n",
              "      <th>ano</th>\n",
              "      <th>mes</th>\n",
              "      <th>dia</th>\n",
              "      <th>dia_da_semana</th>\n",
              "    </tr>\n",
              "  </thead>\n",
              "  <tbody>\n",
              "    <tr>\n",
              "      <th>0</th>\n",
              "      <td>2015-05-28T00:00:00.000</td>\n",
              "      <td>15:00:00</td>\n",
              "      <td>2015-06-01T00:00:00.000</td>\n",
              "      <td>HARRASSMENT 2</td>\n",
              "      <td>HARASSMENT,SUBD 3,4,5</td>\n",
              "      <td>COMPLETED</td>\n",
              "      <td>VIOLATION</td>\n",
              "      <td>BRONX</td>\n",
              "      <td>INSIDE</td>\n",
              "      <td>RESIDENCE - APT. HOUSE</td>\n",
              "      <td>25-44</td>\n",
              "      <td>BLACK</td>\n",
              "      <td>M</td>\n",
              "      <td>40.84586773</td>\n",
              "      <td>-73.915888033</td>\n",
              "      <td>PATROL BORO BRONX</td>\n",
              "      <td>25-44</td>\n",
              "      <td>WHITE HISPANIC</td>\n",
              "      <td>F</td>\n",
              "      <td>NaN</td>\n",
              "      <td>NaN</td>\n",
              "      <td>NaN</td>\n",
              "      <td>NaN</td>\n",
              "      <td>NaN</td>\n",
              "      <td>NaN</td>\n",
              "      <td>2015</td>\n",
              "      <td>5</td>\n",
              "      <td>28</td>\n",
              "      <td>quinta</td>\n",
              "    </tr>\n",
              "    <tr>\n",
              "      <th>1</th>\n",
              "      <td>2013-10-28T00:00:00.000</td>\n",
              "      <td>13:50:00</td>\n",
              "      <td>2013-10-28T00:00:00.000</td>\n",
              "      <td>CRIMINAL MISCHIEF &amp; RELATED OF</td>\n",
              "      <td>CRIMINAL MISCHIEF,UNCLASSIFIED 4</td>\n",
              "      <td>COMPLETED</td>\n",
              "      <td>MISDEMEANOR</td>\n",
              "      <td>STATEN ISLAND</td>\n",
              "      <td>INSIDE</td>\n",
              "      <td>RESIDENCE - APT. HOUSE</td>\n",
              "      <td>NaN</td>\n",
              "      <td>NaN</td>\n",
              "      <td>NaN</td>\n",
              "      <td>40.627060894</td>\n",
              "      <td>-74.077149232</td>\n",
              "      <td>PATROL BORO STATEN ISLAND</td>\n",
              "      <td>45-64</td>\n",
              "      <td>WHITE</td>\n",
              "      <td>M</td>\n",
              "      <td>2013-10-28T00:00:00.000</td>\n",
              "      <td>13:50:00</td>\n",
              "      <td>NA</td>\n",
              "      <td>NaN</td>\n",
              "      <td>NaN</td>\n",
              "      <td>NaN</td>\n",
              "      <td>2013</td>\n",
              "      <td>10</td>\n",
              "      <td>28</td>\n",
              "      <td>segunda</td>\n",
              "    </tr>\n",
              "    <tr>\n",
              "      <th>2</th>\n",
              "      <td>2012-05-09T00:00:00.000</td>\n",
              "      <td>20:50:00</td>\n",
              "      <td>2012-05-09T00:00:00.000</td>\n",
              "      <td>DANGEROUS WEAPONS</td>\n",
              "      <td>WEAPONS, POSSESSION, ETC</td>\n",
              "      <td>COMPLETED</td>\n",
              "      <td>MISDEMEANOR</td>\n",
              "      <td>MANHATTAN</td>\n",
              "      <td>NaN</td>\n",
              "      <td>STREET</td>\n",
              "      <td>NaN</td>\n",
              "      <td>NaN</td>\n",
              "      <td>NaN</td>\n",
              "      <td>40.800965968</td>\n",
              "      <td>-73.969047272</td>\n",
              "      <td>PATROL BORO MAN NORTH</td>\n",
              "      <td>NaN</td>\n",
              "      <td>UNKNOWN</td>\n",
              "      <td>E</td>\n",
              "      <td>2012-05-09T00:00:00.000</td>\n",
              "      <td>21:00:00</td>\n",
              "      <td>NA</td>\n",
              "      <td>NaN</td>\n",
              "      <td>NaN</td>\n",
              "      <td>NaN</td>\n",
              "      <td>2012</td>\n",
              "      <td>5</td>\n",
              "      <td>9</td>\n",
              "      <td>quarta</td>\n",
              "    </tr>\n",
              "  </tbody>\n",
              "</table>\n",
              "</div>"
            ],
            "text/plain": [
              "             data_da_ocorr hora_da_ocorr  ... dia dia_da_semana\n",
              "0  2015-05-28T00:00:00.000      15:00:00  ...  28        quinta\n",
              "1  2013-10-28T00:00:00.000      13:50:00  ...  28       segunda\n",
              "2  2012-05-09T00:00:00.000      20:50:00  ...   9        quarta\n",
              "\n",
              "[3 rows x 29 columns]"
            ]
          },
          "metadata": {
            "tags": []
          },
          "execution_count": 14
        }
      ]
    },
    {
      "cell_type": "markdown",
      "metadata": {
        "id": "N-Vju6Rn_5S2"
      },
      "source": [
        "### 2.2 **Criando uma cópia do dataframe original.**"
      ]
    },
    {
      "cell_type": "code",
      "metadata": {
        "id": "wwslRLLXnFD7"
      },
      "source": [
        "df = results_df.copy()"
      ],
      "execution_count": 15,
      "outputs": []
    },
    {
      "cell_type": "code",
      "metadata": {
        "id": "4P0oMdCCzCf5"
      },
      "source": [
        "df = df[['data_da_ocorr','hora_da_ocorr','dia','mes','dia_da_semana','ano',\n",
        "         'delito','desc_delito','nivel_delito','conclusao',\n",
        "         'idade_susp','raca_susp','sexo_susp','bairro','patrol_boro','loc_esp_delito','desc_instalacoes',\n",
        "         'parque','conj_hab','transit_district','rua_av',\n",
        "         'latitude','longitude','idade_vit','raca_vit','sexo_vit',\n",
        "          ]]"
      ],
      "execution_count": 16,
      "outputs": []
    },
    {
      "cell_type": "code",
      "metadata": {
        "colab": {
          "base_uri": "https://localhost:8080/"
        },
        "id": "G3IYNpkayyw0",
        "outputId": "870b3ef4-dfb8-4cb4-cad2-83ba6be8c26a"
      },
      "source": [
        "df.info()"
      ],
      "execution_count": 17,
      "outputs": [
        {
          "output_type": "stream",
          "text": [
            "<class 'pandas.core.frame.DataFrame'>\n",
            "Int64Index: 749981 entries, 0 to 749999\n",
            "Data columns (total 26 columns):\n",
            " #   Column            Non-Null Count   Dtype \n",
            "---  ------            --------------   ----- \n",
            " 0   data_da_ocorr     749981 non-null  object\n",
            " 1   hora_da_ocorr     749981 non-null  object\n",
            " 2   dia               749981 non-null  int32 \n",
            " 3   mes               749981 non-null  int32 \n",
            " 4   dia_da_semana     749981 non-null  object\n",
            " 5   ano               749981 non-null  int32 \n",
            " 6   delito            749095 non-null  object\n",
            " 7   desc_delito       749500 non-null  object\n",
            " 8   nivel_delito      749981 non-null  object\n",
            " 9   conclusao         749981 non-null  object\n",
            " 10  idade_susp        405867 non-null  object\n",
            " 11  raca_susp         488738 non-null  object\n",
            " 12  sexo_susp         488724 non-null  object\n",
            " 13  bairro            749489 non-null  object\n",
            " 14  patrol_boro       749483 non-null  object\n",
            " 15  loc_esp_delito    602127 non-null  object\n",
            " 16  desc_instalacoes  746899 non-null  object\n",
            " 17  parque            166399 non-null  object\n",
            " 18  conj_hab          37059 non-null   object\n",
            " 19  transit_district  18299 non-null   object\n",
            " 20  rua_av            18299 non-null   object\n",
            " 21  latitude          749851 non-null  object\n",
            " 22  longitude         749851 non-null  object\n",
            " 23  idade_vit         659462 non-null  object\n",
            " 24  raca_vit          749978 non-null  object\n",
            " 25  sexo_vit          749978 non-null  object\n",
            "dtypes: int32(3), object(23)\n",
            "memory usage: 145.9+ MB\n"
          ],
          "name": "stdout"
        }
      ]
    },
    {
      "cell_type": "code",
      "metadata": {
        "colab": {
          "base_uri": "https://localhost:8080/",
          "height": 428
        },
        "id": "VQBYicmM1fof",
        "outputId": "1c337e0d-6051-47ae-9d05-7f38941684c8"
      },
      "source": [
        "df.head()"
      ],
      "execution_count": 18,
      "outputs": [
        {
          "output_type": "execute_result",
          "data": {
            "text/html": [
              "<div>\n",
              "<style scoped>\n",
              "    .dataframe tbody tr th:only-of-type {\n",
              "        vertical-align: middle;\n",
              "    }\n",
              "\n",
              "    .dataframe tbody tr th {\n",
              "        vertical-align: top;\n",
              "    }\n",
              "\n",
              "    .dataframe thead th {\n",
              "        text-align: right;\n",
              "    }\n",
              "</style>\n",
              "<table border=\"1\" class=\"dataframe\">\n",
              "  <thead>\n",
              "    <tr style=\"text-align: right;\">\n",
              "      <th></th>\n",
              "      <th>data_da_ocorr</th>\n",
              "      <th>hora_da_ocorr</th>\n",
              "      <th>dia</th>\n",
              "      <th>mes</th>\n",
              "      <th>dia_da_semana</th>\n",
              "      <th>ano</th>\n",
              "      <th>delito</th>\n",
              "      <th>desc_delito</th>\n",
              "      <th>nivel_delito</th>\n",
              "      <th>conclusao</th>\n",
              "      <th>idade_susp</th>\n",
              "      <th>raca_susp</th>\n",
              "      <th>sexo_susp</th>\n",
              "      <th>bairro</th>\n",
              "      <th>patrol_boro</th>\n",
              "      <th>loc_esp_delito</th>\n",
              "      <th>desc_instalacoes</th>\n",
              "      <th>parque</th>\n",
              "      <th>conj_hab</th>\n",
              "      <th>transit_district</th>\n",
              "      <th>rua_av</th>\n",
              "      <th>latitude</th>\n",
              "      <th>longitude</th>\n",
              "      <th>idade_vit</th>\n",
              "      <th>raca_vit</th>\n",
              "      <th>sexo_vit</th>\n",
              "    </tr>\n",
              "  </thead>\n",
              "  <tbody>\n",
              "    <tr>\n",
              "      <th>0</th>\n",
              "      <td>2015-05-28T00:00:00.000</td>\n",
              "      <td>15:00:00</td>\n",
              "      <td>28</td>\n",
              "      <td>5</td>\n",
              "      <td>quinta</td>\n",
              "      <td>2015</td>\n",
              "      <td>HARRASSMENT 2</td>\n",
              "      <td>HARASSMENT,SUBD 3,4,5</td>\n",
              "      <td>VIOLATION</td>\n",
              "      <td>COMPLETED</td>\n",
              "      <td>25-44</td>\n",
              "      <td>BLACK</td>\n",
              "      <td>M</td>\n",
              "      <td>BRONX</td>\n",
              "      <td>PATROL BORO BRONX</td>\n",
              "      <td>INSIDE</td>\n",
              "      <td>RESIDENCE - APT. HOUSE</td>\n",
              "      <td>NaN</td>\n",
              "      <td>NaN</td>\n",
              "      <td>NaN</td>\n",
              "      <td>NaN</td>\n",
              "      <td>40.84586773</td>\n",
              "      <td>-73.915888033</td>\n",
              "      <td>25-44</td>\n",
              "      <td>WHITE HISPANIC</td>\n",
              "      <td>F</td>\n",
              "    </tr>\n",
              "    <tr>\n",
              "      <th>1</th>\n",
              "      <td>2013-10-28T00:00:00.000</td>\n",
              "      <td>13:50:00</td>\n",
              "      <td>28</td>\n",
              "      <td>10</td>\n",
              "      <td>segunda</td>\n",
              "      <td>2013</td>\n",
              "      <td>CRIMINAL MISCHIEF &amp; RELATED OF</td>\n",
              "      <td>CRIMINAL MISCHIEF,UNCLASSIFIED 4</td>\n",
              "      <td>MISDEMEANOR</td>\n",
              "      <td>COMPLETED</td>\n",
              "      <td>NaN</td>\n",
              "      <td>NaN</td>\n",
              "      <td>NaN</td>\n",
              "      <td>STATEN ISLAND</td>\n",
              "      <td>PATROL BORO STATEN ISLAND</td>\n",
              "      <td>INSIDE</td>\n",
              "      <td>RESIDENCE - APT. HOUSE</td>\n",
              "      <td>NA</td>\n",
              "      <td>NaN</td>\n",
              "      <td>NaN</td>\n",
              "      <td>NaN</td>\n",
              "      <td>40.627060894</td>\n",
              "      <td>-74.077149232</td>\n",
              "      <td>45-64</td>\n",
              "      <td>WHITE</td>\n",
              "      <td>M</td>\n",
              "    </tr>\n",
              "    <tr>\n",
              "      <th>2</th>\n",
              "      <td>2012-05-09T00:00:00.000</td>\n",
              "      <td>20:50:00</td>\n",
              "      <td>9</td>\n",
              "      <td>5</td>\n",
              "      <td>quarta</td>\n",
              "      <td>2012</td>\n",
              "      <td>DANGEROUS WEAPONS</td>\n",
              "      <td>WEAPONS, POSSESSION, ETC</td>\n",
              "      <td>MISDEMEANOR</td>\n",
              "      <td>COMPLETED</td>\n",
              "      <td>NaN</td>\n",
              "      <td>NaN</td>\n",
              "      <td>NaN</td>\n",
              "      <td>MANHATTAN</td>\n",
              "      <td>PATROL BORO MAN NORTH</td>\n",
              "      <td>NaN</td>\n",
              "      <td>STREET</td>\n",
              "      <td>NA</td>\n",
              "      <td>NaN</td>\n",
              "      <td>NaN</td>\n",
              "      <td>NaN</td>\n",
              "      <td>40.800965968</td>\n",
              "      <td>-73.969047272</td>\n",
              "      <td>NaN</td>\n",
              "      <td>UNKNOWN</td>\n",
              "      <td>E</td>\n",
              "    </tr>\n",
              "    <tr>\n",
              "      <th>3</th>\n",
              "      <td>2014-01-03T00:00:00.000</td>\n",
              "      <td>13:30:00</td>\n",
              "      <td>3</td>\n",
              "      <td>1</td>\n",
              "      <td>sexta</td>\n",
              "      <td>2014</td>\n",
              "      <td>GRAND LARCENY</td>\n",
              "      <td>LARCENY,GRAND BY EXTORTION</td>\n",
              "      <td>FELONY</td>\n",
              "      <td>ATTEMPTED</td>\n",
              "      <td>NaN</td>\n",
              "      <td>UNKNOWN</td>\n",
              "      <td>M</td>\n",
              "      <td>QUEENS</td>\n",
              "      <td>PATROL BORO QUEENS NORTH</td>\n",
              "      <td>INSIDE</td>\n",
              "      <td>RESIDENCE - APT. HOUSE</td>\n",
              "      <td>NaN</td>\n",
              "      <td>NaN</td>\n",
              "      <td>NaN</td>\n",
              "      <td>NaN</td>\n",
              "      <td>40.745241809</td>\n",
              "      <td>-73.894253382</td>\n",
              "      <td>45-64</td>\n",
              "      <td>ASIAN / PACIFIC ISLANDER</td>\n",
              "      <td>M</td>\n",
              "    </tr>\n",
              "    <tr>\n",
              "      <th>4</th>\n",
              "      <td>2016-04-13T00:00:00.000</td>\n",
              "      <td>00:00:00</td>\n",
              "      <td>13</td>\n",
              "      <td>4</td>\n",
              "      <td>quarta</td>\n",
              "      <td>2016</td>\n",
              "      <td>CRIMINAL MISCHIEF &amp; RELATED OF</td>\n",
              "      <td>CRIMINAL MISCHIEF 4TH, GRAFFIT</td>\n",
              "      <td>MISDEMEANOR</td>\n",
              "      <td>COMPLETED</td>\n",
              "      <td>NaN</td>\n",
              "      <td>NaN</td>\n",
              "      <td>NaN</td>\n",
              "      <td>BRONX</td>\n",
              "      <td>PATROL BORO BRONX</td>\n",
              "      <td>NaN</td>\n",
              "      <td>HIGHWAY/PARKWAY</td>\n",
              "      <td>NaN</td>\n",
              "      <td>NaN</td>\n",
              "      <td>NaN</td>\n",
              "      <td>NaN</td>\n",
              "      <td>40.810351863</td>\n",
              "      <td>-73.924942326</td>\n",
              "      <td>UNKNOWN</td>\n",
              "      <td>UNKNOWN</td>\n",
              "      <td>E</td>\n",
              "    </tr>\n",
              "  </tbody>\n",
              "</table>\n",
              "</div>"
            ],
            "text/plain": [
              "             data_da_ocorr hora_da_ocorr  ...                  raca_vit  sexo_vit\n",
              "0  2015-05-28T00:00:00.000      15:00:00  ...            WHITE HISPANIC         F\n",
              "1  2013-10-28T00:00:00.000      13:50:00  ...                     WHITE         M\n",
              "2  2012-05-09T00:00:00.000      20:50:00  ...                   UNKNOWN         E\n",
              "3  2014-01-03T00:00:00.000      13:30:00  ...  ASIAN / PACIFIC ISLANDER         M\n",
              "4  2016-04-13T00:00:00.000      00:00:00  ...                   UNKNOWN         E\n",
              "\n",
              "[5 rows x 26 columns]"
            ]
          },
          "metadata": {
            "tags": []
          },
          "execution_count": 18
        }
      ]
    },
    {
      "cell_type": "markdown",
      "metadata": {
        "id": "p4D2Cc_dyuiJ"
      },
      "source": [
        "- Convertendo a coluna \"**data_da_ocorr**\"  pro formato datetime e selecionando os registros dos últimos 5 anos."
      ]
    },
    {
      "cell_type": "code",
      "metadata": {
        "id": "oDY4vFV01lGk"
      },
      "source": [
        "df['data_da_ocorr'] = pd.to_datetime(df['data_da_ocorr'], format=r'%Y-%m-%d', errors='coerce')"
      ],
      "execution_count": 19,
      "outputs": []
    },
    {
      "cell_type": "code",
      "metadata": {
        "colab": {
          "base_uri": "https://localhost:8080/",
          "height": 51
        },
        "id": "od9N1eVQyozD",
        "outputId": "49b5a4e4-d478-4ec3-da03-d80700e6b431"
      },
      "source": [
        "display(df['data_da_ocorr'].dt.year.min())\n",
        "display(df['data_da_ocorr'].dt.year.max())"
      ],
      "execution_count": 20,
      "outputs": [
        {
          "output_type": "display_data",
          "data": {
            "text/plain": [
              "1912.0"
            ]
          },
          "metadata": {
            "tags": []
          }
        },
        {
          "output_type": "display_data",
          "data": {
            "text/plain": [
              "2019.0"
            ]
          },
          "metadata": {
            "tags": []
          }
        }
      ]
    },
    {
      "cell_type": "code",
      "metadata": {
        "id": "NALPZIvw1Pi8"
      },
      "source": [
        "df = df[df['ano'] >= 2015]"
      ],
      "execution_count": 21,
      "outputs": []
    },
    {
      "cell_type": "code",
      "metadata": {
        "colab": {
          "base_uri": "https://localhost:8080/"
        },
        "id": "_vdPuXvY1g5b",
        "outputId": "0ee863f2-87c5-4498-a52f-b1f95568a443"
      },
      "source": [
        "df.shape"
      ],
      "execution_count": 22,
      "outputs": [
        {
          "output_type": "execute_result",
          "data": {
            "text/plain": [
              "(515489, 26)"
            ]
          },
          "metadata": {
            "tags": []
          },
          "execution_count": 22
        }
      ]
    },
    {
      "cell_type": "code",
      "metadata": {
        "colab": {
          "base_uri": "https://localhost:8080/"
        },
        "id": "RsFzNgXh1kie",
        "outputId": "cfeb4885-8c62-43c1-d536-0db68b6249e8"
      },
      "source": [
        "df.info()"
      ],
      "execution_count": 23,
      "outputs": [
        {
          "output_type": "stream",
          "text": [
            "<class 'pandas.core.frame.DataFrame'>\n",
            "Int64Index: 515489 entries, 0 to 749999\n",
            "Data columns (total 26 columns):\n",
            " #   Column            Non-Null Count   Dtype         \n",
            "---  ------            --------------   -----         \n",
            " 0   data_da_ocorr     515489 non-null  datetime64[ns]\n",
            " 1   hora_da_ocorr     515489 non-null  object        \n",
            " 2   dia               515489 non-null  int32         \n",
            " 3   mes               515489 non-null  int32         \n",
            " 4   dia_da_semana     515489 non-null  object        \n",
            " 5   ano               515489 non-null  int32         \n",
            " 6   delito            515293 non-null  object        \n",
            " 7   desc_delito       515172 non-null  object        \n",
            " 8   nivel_delito      515489 non-null  object        \n",
            " 9   conclusao         515489 non-null  object        \n",
            " 10  idade_susp        368321 non-null  object        \n",
            " 11  raca_susp         383823 non-null  object        \n",
            " 12  sexo_susp         383823 non-null  object        \n",
            " 13  bairro            515165 non-null  object        \n",
            " 14  patrol_boro       515172 non-null  object        \n",
            " 15  loc_esp_delito    417501 non-null  object        \n",
            " 16  desc_instalacoes  513440 non-null  object        \n",
            " 17  parque            4959 non-null    object        \n",
            " 18  conj_hab          25210 non-null   object        \n",
            " 19  transit_district  13267 non-null   object        \n",
            " 20  rua_av            13267 non-null   object        \n",
            " 21  latitude          515482 non-null  object        \n",
            " 22  longitude         515482 non-null  object        \n",
            " 23  idade_vit         499703 non-null  object        \n",
            " 24  raca_vit          515489 non-null  object        \n",
            " 25  sexo_vit          515489 non-null  object        \n",
            "dtypes: datetime64[ns](1), int32(3), object(22)\n",
            "memory usage: 100.3+ MB\n"
          ],
          "name": "stdout"
        }
      ]
    },
    {
      "cell_type": "markdown",
      "metadata": {
        "id": "VMCQkQPf53km"
      },
      "source": [
        "- Tratando os dados das colunas \"**conclusao**\", \"**nivel_delito**\" e \"**loc_esp_delito**\"."
      ]
    },
    {
      "cell_type": "code",
      "metadata": {
        "id": "cmh3o8ymm6xC"
      },
      "source": [
        "#  alterando os dados de  select_ny['conclusao']\n",
        "new_conclusao = {'ATTEMPTED': 0, 'COMPLETED': 1 }\n",
        "df['conclusao'] = df['conclusao'].map(new_conclusao)\n",
        "\n",
        "# alterando os dados de  df['nivel_de_ofensa']\n",
        "new_nivel_delito = {'MISDEMEANOR': \"contravencao\", 'FELONY': \"crime\", 'VIOLATION': \"violacao\" }\n",
        "df['nivel_delito'] = df['nivel_delito'].map(new_nivel_delito)\n",
        "\n",
        "\n",
        "# alterando os dados de  df['local_da_ocorrencia'], dentro ou fora dos estabelecimentos \n",
        "new_local_esp_delito = {'INSIDE': \"dentro\", 'FRONT OF': \"fora\", 'OPPOSITE OF': \"fora\", \n",
        "                           'REAR OF': \"fora\", 'OUTSIDE': \"fora\" }\n",
        "df['loc_esp_delito'] = df['loc_esp_delito'].map(new_local_esp_delito)\n",
        "\n",
        "# alterando os dados da coluna bairro\n",
        "\n",
        "new_bairro = {'BRONX': 'Bronx', 'STATEN ISLAND': 'Staten_Island', 'BROOKLYN': 'Brooklyn', 'MANHATTAN': 'Manhattan' , 'QUEENS': 'Queens' }\n",
        "df['bairro'] = df['bairro'].map(new_bairro)"
      ],
      "execution_count": 24,
      "outputs": []
    },
    {
      "cell_type": "markdown",
      "metadata": {
        "id": "tGPPgzvHwKlf"
      },
      "source": [
        "- Selecionando apenas os delitos mais praticados."
      ]
    },
    {
      "cell_type": "code",
      "metadata": {
        "colab": {
          "base_uri": "https://localhost:8080/"
        },
        "id": "n3wXn5WLwJmX",
        "outputId": "fb61d7fc-d647-4442-e8e0-8bb675fb3631"
      },
      "source": [
        "df.delito.value_counts().head(10)"
      ],
      "execution_count": 25,
      "outputs": [
        {
          "output_type": "execute_result",
          "data": {
            "text/plain": [
              "PETIT LARCENY                     93992\n",
              "HARRASSMENT 2                     76305\n",
              "ASSAULT 3 & RELATED OFFENSES      58800\n",
              "CRIMINAL MISCHIEF & RELATED OF    52996\n",
              "GRAND LARCENY                     47095\n",
              "OFF. AGNST PUB ORD SENSBLTY &     23118\n",
              "FELONY ASSAULT                    22989\n",
              "DANGEROUS DRUGS                   19133\n",
              "MISCELLANEOUS PENAL LAW           15669\n",
              "ROBBERY                           15190\n",
              "Name: delito, dtype: int64"
            ]
          },
          "metadata": {
            "tags": []
          },
          "execution_count": 25
        }
      ]
    },
    {
      "cell_type": "code",
      "metadata": {
        "id": "kgXqw_juxuu2"
      },
      "source": [
        "select = list(dict(df.delito.value_counts().head(10)).keys())"
      ],
      "execution_count": 26,
      "outputs": []
    },
    {
      "cell_type": "code",
      "metadata": {
        "id": "WdAG3u5lxu7B"
      },
      "source": [
        "df = df.set_index('delito')\n",
        "df = df.loc[select]\n",
        "df = df.reset_index()"
      ],
      "execution_count": 27,
      "outputs": []
    },
    {
      "cell_type": "code",
      "metadata": {
        "colab": {
          "base_uri": "https://localhost:8080/"
        },
        "id": "Ey9QC5S8xvDo",
        "outputId": "8630d047-4167-4c8e-a659-d8d311680bae"
      },
      "source": [
        "df.shape"
      ],
      "execution_count": 28,
      "outputs": [
        {
          "output_type": "execute_result",
          "data": {
            "text/plain": [
              "(425287, 26)"
            ]
          },
          "metadata": {
            "tags": []
          },
          "execution_count": 28
        }
      ]
    },
    {
      "cell_type": "markdown",
      "metadata": {
        "id": "OvbVCJsiAwZX"
      },
      "source": [
        "## 3 - Criando novas features."
      ]
    },
    {
      "cell_type": "markdown",
      "metadata": {
        "id": "ckZ5wBGOA5pG"
      },
      "source": [
        "- Criando features referentes a hora da ocorrência."
      ]
    },
    {
      "cell_type": "code",
      "metadata": {
        "id": "3hpcEtjITmvU"
      },
      "source": [
        "df['noite'] = df['hora_da_ocorr'].apply(lambda x: 0 if x <'17:59:59' and x >'05:59:59' else 1)"
      ],
      "execution_count": 29,
      "outputs": []
    },
    {
      "cell_type": "markdown",
      "metadata": {
        "id": "G-nhnz7ZWF4m"
      },
      "source": [
        "\n",
        "- Criando a variável assalto.\n",
        "\n",
        "\n",
        "**ASSAULT 3 & RELATED OFFENSES/ FELONY ASSAULT:**\n",
        "\n",
        "agressão agravada ou agressão envolve circunstâncias que tornam o crime mais grave, como quando a vítima é ameaçada ou experimenta violência significativa que atinge substancialmente mais do que um tapa leve.\n",
        "\n",
        "\n",
        "**ROBBERY/BURGLARY:**\n",
        "\n",
        "a ação de tomar bens ilegalmente de uma pessoa ou lugar pela força ou ameaça de força.\n",
        "\n",
        "\n",
        "**GRAND LARCENY/ GRAND LARCENY OF MOTOR VEHICLE:**\n",
        "\n",
        "Grande furto/roubo/assalto."
      ]
    },
    {
      "cell_type": "code",
      "metadata": {
        "id": "C5OvKHRwR-_t"
      },
      "source": [
        "df['assalto'] = df['delito'].apply(lambda x: 1 if x=='FELONY ASSAULT' or x=='ASSAULT 3 & RELATED OFFENSES' or x =='ROBBERY' or x=='BURGLARY' or x=='GRAND LARCENY' or x=='GRAND LARCENY OF MOTOR VEHICLE'  else 0)"
      ],
      "execution_count": 30,
      "outputs": []
    },
    {
      "cell_type": "markdown",
      "metadata": {
        "id": "VONTlykRXmaB"
      },
      "source": [
        "- Criando a variável final de semana."
      ]
    },
    {
      "cell_type": "code",
      "metadata": {
        "id": "7nzc9CYiXYjM"
      },
      "source": [
        "df['fds'] = df['dia_da_semana'].apply(lambda x: 1 if x=='sabado' or x =='domigo' else 0)"
      ],
      "execution_count": 31,
      "outputs": []
    },
    {
      "cell_type": "markdown",
      "metadata": {
        "id": "x_XWllpZv2os"
      },
      "source": [
        "# 4 - Machine Learning"
      ]
    },
    {
      "cell_type": "markdown",
      "metadata": {
        "id": "fixPLSbWzgjJ"
      },
      "source": [
        "## 4.1 Pre-processamento dos dados."
      ]
    },
    {
      "cell_type": "code",
      "metadata": {
        "colab": {
          "base_uri": "https://localhost:8080/"
        },
        "id": "Idn405m1v9f7",
        "outputId": "a4bfe1ef-4a73-4961-8669-cdfdd99fd27f"
      },
      "source": [
        "df.columns"
      ],
      "execution_count": 32,
      "outputs": [
        {
          "output_type": "execute_result",
          "data": {
            "text/plain": [
              "Index(['delito', 'data_da_ocorr', 'hora_da_ocorr', 'dia', 'mes',\n",
              "       'dia_da_semana', 'ano', 'desc_delito', 'nivel_delito', 'conclusao',\n",
              "       'idade_susp', 'raca_susp', 'sexo_susp', 'bairro', 'patrol_boro',\n",
              "       'loc_esp_delito', 'desc_instalacoes', 'parque', 'conj_hab',\n",
              "       'transit_district', 'rua_av', 'latitude', 'longitude', 'idade_vit',\n",
              "       'raca_vit', 'sexo_vit', 'noite', 'assalto', 'fds'],\n",
              "      dtype='object')"
            ]
          },
          "metadata": {
            "tags": []
          },
          "execution_count": 32
        }
      ]
    },
    {
      "cell_type": "code",
      "metadata": {
        "colab": {
          "base_uri": "https://localhost:8080/",
          "height": 462
        },
        "id": "cxg4m8miG4Pb",
        "outputId": "f33a8c08-3189-4b71-e9ea-9edf614026fd"
      },
      "source": [
        "df.head()"
      ],
      "execution_count": 33,
      "outputs": [
        {
          "output_type": "execute_result",
          "data": {
            "text/html": [
              "<div>\n",
              "<style scoped>\n",
              "    .dataframe tbody tr th:only-of-type {\n",
              "        vertical-align: middle;\n",
              "    }\n",
              "\n",
              "    .dataframe tbody tr th {\n",
              "        vertical-align: top;\n",
              "    }\n",
              "\n",
              "    .dataframe thead th {\n",
              "        text-align: right;\n",
              "    }\n",
              "</style>\n",
              "<table border=\"1\" class=\"dataframe\">\n",
              "  <thead>\n",
              "    <tr style=\"text-align: right;\">\n",
              "      <th></th>\n",
              "      <th>delito</th>\n",
              "      <th>data_da_ocorr</th>\n",
              "      <th>hora_da_ocorr</th>\n",
              "      <th>dia</th>\n",
              "      <th>mes</th>\n",
              "      <th>dia_da_semana</th>\n",
              "      <th>ano</th>\n",
              "      <th>desc_delito</th>\n",
              "      <th>nivel_delito</th>\n",
              "      <th>conclusao</th>\n",
              "      <th>idade_susp</th>\n",
              "      <th>raca_susp</th>\n",
              "      <th>sexo_susp</th>\n",
              "      <th>bairro</th>\n",
              "      <th>patrol_boro</th>\n",
              "      <th>loc_esp_delito</th>\n",
              "      <th>desc_instalacoes</th>\n",
              "      <th>parque</th>\n",
              "      <th>conj_hab</th>\n",
              "      <th>transit_district</th>\n",
              "      <th>rua_av</th>\n",
              "      <th>latitude</th>\n",
              "      <th>longitude</th>\n",
              "      <th>idade_vit</th>\n",
              "      <th>raca_vit</th>\n",
              "      <th>sexo_vit</th>\n",
              "      <th>noite</th>\n",
              "      <th>assalto</th>\n",
              "      <th>fds</th>\n",
              "    </tr>\n",
              "  </thead>\n",
              "  <tbody>\n",
              "    <tr>\n",
              "      <th>0</th>\n",
              "      <td>PETIT LARCENY</td>\n",
              "      <td>2017-03-26</td>\n",
              "      <td>12:00:00</td>\n",
              "      <td>26</td>\n",
              "      <td>3</td>\n",
              "      <td>domingo</td>\n",
              "      <td>2017</td>\n",
              "      <td>LARCENY,PETIT FROM STORE-SHOPL</td>\n",
              "      <td>contravencao</td>\n",
              "      <td>1</td>\n",
              "      <td>25-44</td>\n",
              "      <td>WHITE</td>\n",
              "      <td>F</td>\n",
              "      <td>Brooklyn</td>\n",
              "      <td>PATROL BORO BKLYN SOUTH</td>\n",
              "      <td>dentro</td>\n",
              "      <td>CHAIN STORE</td>\n",
              "      <td>NaN</td>\n",
              "      <td>NaN</td>\n",
              "      <td>NaN</td>\n",
              "      <td>NaN</td>\n",
              "      <td>40.63125716</td>\n",
              "      <td>-73.945996398</td>\n",
              "      <td>UNKNOWN</td>\n",
              "      <td>UNKNOWN</td>\n",
              "      <td>D</td>\n",
              "      <td>0</td>\n",
              "      <td>0</td>\n",
              "      <td>0</td>\n",
              "    </tr>\n",
              "    <tr>\n",
              "      <th>1</th>\n",
              "      <td>PETIT LARCENY</td>\n",
              "      <td>2015-10-28</td>\n",
              "      <td>13:30:00</td>\n",
              "      <td>28</td>\n",
              "      <td>10</td>\n",
              "      <td>quarta</td>\n",
              "      <td>2015</td>\n",
              "      <td>LARCENY,PETIT FROM STORE-SHOPL</td>\n",
              "      <td>contravencao</td>\n",
              "      <td>1</td>\n",
              "      <td>25-44</td>\n",
              "      <td>BLACK</td>\n",
              "      <td>F</td>\n",
              "      <td>Brooklyn</td>\n",
              "      <td>PATROL BORO BKLYN NORTH</td>\n",
              "      <td>dentro</td>\n",
              "      <td>RESTAURANT/DINER</td>\n",
              "      <td>NaN</td>\n",
              "      <td>NaN</td>\n",
              "      <td>NaN</td>\n",
              "      <td>NaN</td>\n",
              "      <td>40.693043457</td>\n",
              "      <td>-73.928276577</td>\n",
              "      <td>UNKNOWN</td>\n",
              "      <td>UNKNOWN</td>\n",
              "      <td>D</td>\n",
              "      <td>0</td>\n",
              "      <td>0</td>\n",
              "      <td>0</td>\n",
              "    </tr>\n",
              "    <tr>\n",
              "      <th>2</th>\n",
              "      <td>PETIT LARCENY</td>\n",
              "      <td>2016-10-11</td>\n",
              "      <td>22:00:00</td>\n",
              "      <td>11</td>\n",
              "      <td>10</td>\n",
              "      <td>terca</td>\n",
              "      <td>2016</td>\n",
              "      <td>LARCENY,PETIT FROM BUILDING,UN</td>\n",
              "      <td>contravencao</td>\n",
              "      <td>1</td>\n",
              "      <td>NaN</td>\n",
              "      <td>NaN</td>\n",
              "      <td>NaN</td>\n",
              "      <td>Manhattan</td>\n",
              "      <td>PATROL BORO MAN SOUTH</td>\n",
              "      <td>dentro</td>\n",
              "      <td>RESTAURANT/DINER</td>\n",
              "      <td>NaN</td>\n",
              "      <td>NaN</td>\n",
              "      <td>NaN</td>\n",
              "      <td>NaN</td>\n",
              "      <td>40.736218594</td>\n",
              "      <td>-73.990984024</td>\n",
              "      <td>45-64</td>\n",
              "      <td>WHITE</td>\n",
              "      <td>F</td>\n",
              "      <td>1</td>\n",
              "      <td>0</td>\n",
              "      <td>0</td>\n",
              "    </tr>\n",
              "    <tr>\n",
              "      <th>3</th>\n",
              "      <td>PETIT LARCENY</td>\n",
              "      <td>2016-05-20</td>\n",
              "      <td>18:30:00</td>\n",
              "      <td>20</td>\n",
              "      <td>5</td>\n",
              "      <td>sexta</td>\n",
              "      <td>2016</td>\n",
              "      <td>LARCENY,PETIT FROM STORE-SHOPL</td>\n",
              "      <td>contravencao</td>\n",
              "      <td>1</td>\n",
              "      <td>45-64</td>\n",
              "      <td>WHITE HISPANIC</td>\n",
              "      <td>M</td>\n",
              "      <td>Queens</td>\n",
              "      <td>PATROL BORO QUEENS NORTH</td>\n",
              "      <td>dentro</td>\n",
              "      <td>DEPARTMENT STORE</td>\n",
              "      <td>NaN</td>\n",
              "      <td>NaN</td>\n",
              "      <td>NaN</td>\n",
              "      <td>NaN</td>\n",
              "      <td>40.757379417</td>\n",
              "      <td>-73.834019371</td>\n",
              "      <td>UNKNOWN</td>\n",
              "      <td>UNKNOWN</td>\n",
              "      <td>D</td>\n",
              "      <td>1</td>\n",
              "      <td>0</td>\n",
              "      <td>0</td>\n",
              "    </tr>\n",
              "    <tr>\n",
              "      <th>4</th>\n",
              "      <td>PETIT LARCENY</td>\n",
              "      <td>2015-12-18</td>\n",
              "      <td>12:00:00</td>\n",
              "      <td>18</td>\n",
              "      <td>12</td>\n",
              "      <td>sexta</td>\n",
              "      <td>2015</td>\n",
              "      <td>LARCENY,PETIT FROM OPEN AREAS,</td>\n",
              "      <td>contravencao</td>\n",
              "      <td>1</td>\n",
              "      <td>NaN</td>\n",
              "      <td>NaN</td>\n",
              "      <td>NaN</td>\n",
              "      <td>Queens</td>\n",
              "      <td>PATROL BORO QUEENS SOUTH</td>\n",
              "      <td>fora</td>\n",
              "      <td>RESIDENCE-HOUSE</td>\n",
              "      <td>NaN</td>\n",
              "      <td>NaN</td>\n",
              "      <td>NaN</td>\n",
              "      <td>NaN</td>\n",
              "      <td>40.720096196</td>\n",
              "      <td>-73.8052338</td>\n",
              "      <td>45-64</td>\n",
              "      <td>ASIAN / PACIFIC ISLANDER</td>\n",
              "      <td>M</td>\n",
              "      <td>0</td>\n",
              "      <td>0</td>\n",
              "      <td>0</td>\n",
              "    </tr>\n",
              "  </tbody>\n",
              "</table>\n",
              "</div>"
            ],
            "text/plain": [
              "          delito data_da_ocorr hora_da_ocorr  dia  ...  sexo_vit noite  assalto fds\n",
              "0  PETIT LARCENY    2017-03-26      12:00:00   26  ...         D     0        0   0\n",
              "1  PETIT LARCENY    2015-10-28      13:30:00   28  ...         D     0        0   0\n",
              "2  PETIT LARCENY    2016-10-11      22:00:00   11  ...         F     1        0   0\n",
              "3  PETIT LARCENY    2016-05-20      18:30:00   20  ...         D     1        0   0\n",
              "4  PETIT LARCENY    2015-12-18      12:00:00   18  ...         M     0        0   0\n",
              "\n",
              "[5 rows x 29 columns]"
            ]
          },
          "metadata": {
            "tags": []
          },
          "execution_count": 33
        }
      ]
    },
    {
      "cell_type": "markdown",
      "metadata": {
        "id": "RsbCj5Sigswd"
      },
      "source": [
        "- Renomeando o df."
      ]
    },
    {
      "cell_type": "code",
      "metadata": {
        "id": "BqXArL-QGkMN"
      },
      "source": [
        "dados = df[['data_da_ocorr','dia', 'mes', 'dia_da_semana','fds',\n",
        "        'conclusao', \n",
        "       'bairro','desc_instalacoes',\n",
        "       'latitude', 'longitude', 'noite',\n",
        "       'assalto'\n",
        "          \n",
        "          ]]"
      ],
      "execution_count": 34,
      "outputs": []
    },
    {
      "cell_type": "code",
      "metadata": {
        "id": "YYyBc_TQBQ7u"
      },
      "source": [
        "dados = dados.sort_values('data_da_ocorr', ascending=True)"
      ],
      "execution_count": 35,
      "outputs": []
    },
    {
      "cell_type": "code",
      "metadata": {
        "colab": {
          "base_uri": "https://localhost:8080/",
          "height": 204
        },
        "id": "8jE5v_awJ7JT",
        "outputId": "d4d46a0d-d21a-43da-bd9a-dad2dc3f830e"
      },
      "source": [
        "dados.head()"
      ],
      "execution_count": 36,
      "outputs": [
        {
          "output_type": "execute_result",
          "data": {
            "text/html": [
              "<div>\n",
              "<style scoped>\n",
              "    .dataframe tbody tr th:only-of-type {\n",
              "        vertical-align: middle;\n",
              "    }\n",
              "\n",
              "    .dataframe tbody tr th {\n",
              "        vertical-align: top;\n",
              "    }\n",
              "\n",
              "    .dataframe thead th {\n",
              "        text-align: right;\n",
              "    }\n",
              "</style>\n",
              "<table border=\"1\" class=\"dataframe\">\n",
              "  <thead>\n",
              "    <tr style=\"text-align: right;\">\n",
              "      <th></th>\n",
              "      <th>data_da_ocorr</th>\n",
              "      <th>dia</th>\n",
              "      <th>mes</th>\n",
              "      <th>dia_da_semana</th>\n",
              "      <th>fds</th>\n",
              "      <th>conclusao</th>\n",
              "      <th>bairro</th>\n",
              "      <th>desc_instalacoes</th>\n",
              "      <th>latitude</th>\n",
              "      <th>longitude</th>\n",
              "      <th>noite</th>\n",
              "      <th>assalto</th>\n",
              "    </tr>\n",
              "  </thead>\n",
              "  <tbody>\n",
              "    <tr>\n",
              "      <th>241102</th>\n",
              "      <td>2015-01-01</td>\n",
              "      <td>1</td>\n",
              "      <td>1</td>\n",
              "      <td>quinta</td>\n",
              "      <td>0</td>\n",
              "      <td>1</td>\n",
              "      <td>Queens</td>\n",
              "      <td>STREET</td>\n",
              "      <td>40.74360542</td>\n",
              "      <td>-73.920986473</td>\n",
              "      <td>1</td>\n",
              "      <td>0</td>\n",
              "    </tr>\n",
              "    <tr>\n",
              "      <th>372731</th>\n",
              "      <td>2015-01-01</td>\n",
              "      <td>1</td>\n",
              "      <td>1</td>\n",
              "      <td>quinta</td>\n",
              "      <td>0</td>\n",
              "      <td>1</td>\n",
              "      <td>Queens</td>\n",
              "      <td>RESIDENCE-HOUSE</td>\n",
              "      <td>40.699868955</td>\n",
              "      <td>-73.825103142</td>\n",
              "      <td>1</td>\n",
              "      <td>1</td>\n",
              "    </tr>\n",
              "    <tr>\n",
              "      <th>322759</th>\n",
              "      <td>2015-01-01</td>\n",
              "      <td>1</td>\n",
              "      <td>1</td>\n",
              "      <td>quinta</td>\n",
              "      <td>0</td>\n",
              "      <td>1</td>\n",
              "      <td>Bronx</td>\n",
              "      <td>RESIDENCE - APT. HOUSE</td>\n",
              "      <td>40.831733432</td>\n",
              "      <td>-73.913481179</td>\n",
              "      <td>1</td>\n",
              "      <td>1</td>\n",
              "    </tr>\n",
              "    <tr>\n",
              "      <th>273394</th>\n",
              "      <td>2015-01-01</td>\n",
              "      <td>1</td>\n",
              "      <td>1</td>\n",
              "      <td>quinta</td>\n",
              "      <td>0</td>\n",
              "      <td>1</td>\n",
              "      <td>Manhattan</td>\n",
              "      <td>STREET</td>\n",
              "      <td>40.791915591</td>\n",
              "      <td>-73.944432345</td>\n",
              "      <td>0</td>\n",
              "      <td>0</td>\n",
              "    </tr>\n",
              "    <tr>\n",
              "      <th>232042</th>\n",
              "      <td>2015-01-01</td>\n",
              "      <td>1</td>\n",
              "      <td>1</td>\n",
              "      <td>quinta</td>\n",
              "      <td>0</td>\n",
              "      <td>1</td>\n",
              "      <td>Manhattan</td>\n",
              "      <td>STREET</td>\n",
              "      <td>40.791915591</td>\n",
              "      <td>-73.944432345</td>\n",
              "      <td>0</td>\n",
              "      <td>0</td>\n",
              "    </tr>\n",
              "  </tbody>\n",
              "</table>\n",
              "</div>"
            ],
            "text/plain": [
              "       data_da_ocorr  dia  mes  ...      longitude  noite  assalto\n",
              "241102    2015-01-01    1    1  ...  -73.920986473      1        0\n",
              "372731    2015-01-01    1    1  ...  -73.825103142      1        1\n",
              "322759    2015-01-01    1    1  ...  -73.913481179      1        1\n",
              "273394    2015-01-01    1    1  ...  -73.944432345      0        0\n",
              "232042    2015-01-01    1    1  ...  -73.944432345      0        0\n",
              "\n",
              "[5 rows x 12 columns]"
            ]
          },
          "metadata": {
            "tags": []
          },
          "execution_count": 36
        }
      ]
    },
    {
      "cell_type": "code",
      "metadata": {
        "id": "b4zH3QkloIgA"
      },
      "source": [
        "dados = dados.reset_index(drop=True)"
      ],
      "execution_count": 37,
      "outputs": []
    },
    {
      "cell_type": "code",
      "metadata": {
        "colab": {
          "base_uri": "https://localhost:8080/"
        },
        "id": "J_Iw4YjKoN4u",
        "outputId": "f48df880-ee6f-4065-a883-cd9166237cfe"
      },
      "source": [
        "dados.assalto.value_counts()"
      ],
      "execution_count": 38,
      "outputs": [
        {
          "output_type": "execute_result",
          "data": {
            "text/plain": [
              "0    281213\n",
              "1    144074\n",
              "Name: assalto, dtype: int64"
            ]
          },
          "metadata": {
            "tags": []
          },
          "execution_count": 38
        }
      ]
    },
    {
      "cell_type": "markdown",
      "metadata": {
        "id": "oBasCUYphKRk"
      },
      "source": [
        "- Tratando variáveis categóricas."
      ]
    },
    {
      "cell_type": "code",
      "metadata": {
        "id": "SGUJY2s9ELb0"
      },
      "source": [
        "from sklearn.preprocessing import LabelEncoder"
      ],
      "execution_count": 39,
      "outputs": []
    },
    {
      "cell_type": "code",
      "metadata": {
        "id": "hNcMRunpELo3"
      },
      "source": [
        "enconder = LabelEncoder()"
      ],
      "execution_count": 40,
      "outputs": []
    },
    {
      "cell_type": "code",
      "metadata": {
        "colab": {
          "base_uri": "https://localhost:8080/"
        },
        "id": "7JbEuudWpgsr",
        "outputId": "0e92088e-6e9a-4bcd-e2b4-0c211e429240"
      },
      "source": [
        "dados.info()"
      ],
      "execution_count": 41,
      "outputs": [
        {
          "output_type": "stream",
          "text": [
            "<class 'pandas.core.frame.DataFrame'>\n",
            "RangeIndex: 425287 entries, 0 to 425286\n",
            "Data columns (total 12 columns):\n",
            " #   Column            Non-Null Count   Dtype         \n",
            "---  ------            --------------   -----         \n",
            " 0   data_da_ocorr     425287 non-null  datetime64[ns]\n",
            " 1   dia               425287 non-null  int32         \n",
            " 2   mes               425287 non-null  int32         \n",
            " 3   dia_da_semana     425287 non-null  object        \n",
            " 4   fds               425287 non-null  int64         \n",
            " 5   conclusao         425287 non-null  int64         \n",
            " 6   bairro            425281 non-null  object        \n",
            " 7   desc_instalacoes  423786 non-null  object        \n",
            " 8   latitude          425287 non-null  object        \n",
            " 9   longitude         425287 non-null  object        \n",
            " 10  noite             425287 non-null  int64         \n",
            " 11  assalto           425287 non-null  int64         \n",
            "dtypes: datetime64[ns](1), int32(2), int64(4), object(5)\n",
            "memory usage: 35.7+ MB\n"
          ],
          "name": "stdout"
        }
      ]
    },
    {
      "cell_type": "code",
      "metadata": {
        "id": "_vi_vYt7xT6R"
      },
      "source": [
        "dados['bairro'] = dados['bairro'].astype(str)\n",
        "dados['desc_instalacoes'] = dados['desc_instalacoes'].astype(str)"
      ],
      "execution_count": 42,
      "outputs": []
    },
    {
      "cell_type": "code",
      "metadata": {
        "id": "ZS2FHjbuxRVX"
      },
      "source": [
        "dados['bairro_id'] = enconder.fit_transform(dados['bairro'])\t\n",
        "dados['desc_instalacoes_id'] = enconder.fit_transform(dados['desc_instalacoes'])\n",
        "dados['dia_da_semana_id'] = enconder.fit_transform(dados['dia_da_semana'])"
      ],
      "execution_count": 43,
      "outputs": []
    },
    {
      "cell_type": "code",
      "metadata": {
        "colab": {
          "base_uri": "https://localhost:8080/",
          "height": 204
        },
        "id": "R4uJPlROhcBn",
        "outputId": "3ff01df0-2f9d-4341-f4fe-fd141b5324d6"
      },
      "source": [
        "dados.head()"
      ],
      "execution_count": 44,
      "outputs": [
        {
          "output_type": "execute_result",
          "data": {
            "text/html": [
              "<div>\n",
              "<style scoped>\n",
              "    .dataframe tbody tr th:only-of-type {\n",
              "        vertical-align: middle;\n",
              "    }\n",
              "\n",
              "    .dataframe tbody tr th {\n",
              "        vertical-align: top;\n",
              "    }\n",
              "\n",
              "    .dataframe thead th {\n",
              "        text-align: right;\n",
              "    }\n",
              "</style>\n",
              "<table border=\"1\" class=\"dataframe\">\n",
              "  <thead>\n",
              "    <tr style=\"text-align: right;\">\n",
              "      <th></th>\n",
              "      <th>data_da_ocorr</th>\n",
              "      <th>dia</th>\n",
              "      <th>mes</th>\n",
              "      <th>dia_da_semana</th>\n",
              "      <th>fds</th>\n",
              "      <th>conclusao</th>\n",
              "      <th>bairro</th>\n",
              "      <th>desc_instalacoes</th>\n",
              "      <th>latitude</th>\n",
              "      <th>longitude</th>\n",
              "      <th>noite</th>\n",
              "      <th>assalto</th>\n",
              "      <th>bairro_id</th>\n",
              "      <th>desc_instalacoes_id</th>\n",
              "      <th>dia_da_semana_id</th>\n",
              "    </tr>\n",
              "  </thead>\n",
              "  <tbody>\n",
              "    <tr>\n",
              "      <th>0</th>\n",
              "      <td>2015-01-01</td>\n",
              "      <td>1</td>\n",
              "      <td>1</td>\n",
              "      <td>quinta</td>\n",
              "      <td>0</td>\n",
              "      <td>1</td>\n",
              "      <td>Queens</td>\n",
              "      <td>STREET</td>\n",
              "      <td>40.74360542</td>\n",
              "      <td>-73.920986473</td>\n",
              "      <td>1</td>\n",
              "      <td>0</td>\n",
              "      <td>3</td>\n",
              "      <td>62</td>\n",
              "      <td>2</td>\n",
              "    </tr>\n",
              "    <tr>\n",
              "      <th>1</th>\n",
              "      <td>2015-01-01</td>\n",
              "      <td>1</td>\n",
              "      <td>1</td>\n",
              "      <td>quinta</td>\n",
              "      <td>0</td>\n",
              "      <td>1</td>\n",
              "      <td>Queens</td>\n",
              "      <td>RESIDENCE-HOUSE</td>\n",
              "      <td>40.699868955</td>\n",
              "      <td>-73.825103142</td>\n",
              "      <td>1</td>\n",
              "      <td>1</td>\n",
              "      <td>3</td>\n",
              "      <td>55</td>\n",
              "      <td>2</td>\n",
              "    </tr>\n",
              "    <tr>\n",
              "      <th>2</th>\n",
              "      <td>2015-01-01</td>\n",
              "      <td>1</td>\n",
              "      <td>1</td>\n",
              "      <td>quinta</td>\n",
              "      <td>0</td>\n",
              "      <td>1</td>\n",
              "      <td>Bronx</td>\n",
              "      <td>RESIDENCE - APT. HOUSE</td>\n",
              "      <td>40.831733432</td>\n",
              "      <td>-73.913481179</td>\n",
              "      <td>1</td>\n",
              "      <td>1</td>\n",
              "      <td>0</td>\n",
              "      <td>53</td>\n",
              "      <td>2</td>\n",
              "    </tr>\n",
              "    <tr>\n",
              "      <th>3</th>\n",
              "      <td>2015-01-01</td>\n",
              "      <td>1</td>\n",
              "      <td>1</td>\n",
              "      <td>quinta</td>\n",
              "      <td>0</td>\n",
              "      <td>1</td>\n",
              "      <td>Manhattan</td>\n",
              "      <td>STREET</td>\n",
              "      <td>40.791915591</td>\n",
              "      <td>-73.944432345</td>\n",
              "      <td>0</td>\n",
              "      <td>0</td>\n",
              "      <td>2</td>\n",
              "      <td>62</td>\n",
              "      <td>2</td>\n",
              "    </tr>\n",
              "    <tr>\n",
              "      <th>4</th>\n",
              "      <td>2015-01-01</td>\n",
              "      <td>1</td>\n",
              "      <td>1</td>\n",
              "      <td>quinta</td>\n",
              "      <td>0</td>\n",
              "      <td>1</td>\n",
              "      <td>Manhattan</td>\n",
              "      <td>STREET</td>\n",
              "      <td>40.791915591</td>\n",
              "      <td>-73.944432345</td>\n",
              "      <td>0</td>\n",
              "      <td>0</td>\n",
              "      <td>2</td>\n",
              "      <td>62</td>\n",
              "      <td>2</td>\n",
              "    </tr>\n",
              "  </tbody>\n",
              "</table>\n",
              "</div>"
            ],
            "text/plain": [
              "  data_da_ocorr  dia  mes  ... bairro_id  desc_instalacoes_id  dia_da_semana_id\n",
              "0    2015-01-01    1    1  ...         3                   62                 2\n",
              "1    2015-01-01    1    1  ...         3                   55                 2\n",
              "2    2015-01-01    1    1  ...         0                   53                 2\n",
              "3    2015-01-01    1    1  ...         2                   62                 2\n",
              "4    2015-01-01    1    1  ...         2                   62                 2\n",
              "\n",
              "[5 rows x 15 columns]"
            ]
          },
          "metadata": {
            "tags": []
          },
          "execution_count": 44
        }
      ]
    },
    {
      "cell_type": "markdown",
      "metadata": {
        "id": "3XBS0Fcqhei3"
      },
      "source": [
        "### Selecionando apenas os delitos classificados como assalto."
      ]
    },
    {
      "cell_type": "code",
      "metadata": {
        "id": "oSyHg5w9vOZi"
      },
      "source": [
        "assaltos = dados.query('assalto==1')"
      ],
      "execution_count": 45,
      "outputs": []
    },
    {
      "cell_type": "code",
      "metadata": {
        "id": "eIfk0UaTvvuB"
      },
      "source": [
        "assaltos = assaltos.sort_values('data_da_ocorr', ascending=True)"
      ],
      "execution_count": 46,
      "outputs": []
    },
    {
      "cell_type": "code",
      "metadata": {
        "id": "lgkNytUmvv0j"
      },
      "source": [
        "assaltos = assaltos.reset_index(drop=True)"
      ],
      "execution_count": 47,
      "outputs": []
    },
    {
      "cell_type": "code",
      "metadata": {
        "colab": {
          "base_uri": "https://localhost:8080/"
        },
        "id": "7y8vBy4ovv_c",
        "outputId": "6f4f22ca-ad2f-4034-af9b-63f23c0b5519"
      },
      "source": [
        "assaltos['data_da_ocorr'].dt.year.value_counts()"
      ],
      "execution_count": 48,
      "outputs": [
        {
          "output_type": "execute_result",
          "data": {
            "text/plain": [
              "2019    84288\n",
              "2015    19541\n",
              "2016    19466\n",
              "2017    18653\n",
              "2018     2126\n",
              "Name: data_da_ocorr, dtype: int64"
            ]
          },
          "metadata": {
            "tags": []
          },
          "execution_count": 48
        }
      ]
    },
    {
      "cell_type": "markdown",
      "metadata": {
        "id": "2fEMKIkd6dNa"
      },
      "source": [
        "### Selecionando as features para modelagem."
      ]
    },
    {
      "cell_type": "code",
      "metadata": {
        "id": "ShCi6CQqyr6E"
      },
      "source": [
        "dados_ml = assaltos.drop(columns=['data_da_ocorr','assalto','dia_da_semana','bairro','desc_instalacoes','fds'])"
      ],
      "execution_count": 49,
      "outputs": []
    },
    {
      "cell_type": "code",
      "metadata": {
        "colab": {
          "base_uri": "https://localhost:8080/",
          "height": 697
        },
        "id": "vo5N_yMT-WDr",
        "outputId": "85615b7a-491f-42a9-9124-80050d7ddc2f"
      },
      "source": [
        "plt.figure(figsize=(14,10))\n",
        "\n",
        "corr = dados_ml.corr().abs()\n",
        "mask = np.triu(np.ones_like(corr, dtype=np.bool))\n",
        "\n",
        "sns.heatmap(corr, mask=mask, annot=True, center=0, cmap=\"YlGnBu\")"
      ],
      "execution_count": 50,
      "outputs": [
        {
          "output_type": "execute_result",
          "data": {
            "text/plain": [
              "<matplotlib.axes._subplots.AxesSubplot at 0x7fc7b96a5d90>"
            ]
          },
          "metadata": {
            "tags": []
          },
          "execution_count": 50
        },
        {
          "output_type": "display_data",
          "data": {
            "image/png": "[encoded data removed]",
            "text/plain": [
              "<Figure size 1008x720 with 2 Axes>"
            ]
          },
          "metadata": {
            "tags": [],
            "needs_background": "light"
          }
        }
      ]
    },
    {
      "cell_type": "code",
      "metadata": {
        "colab": {
          "base_uri": "https://localhost:8080/"
        },
        "id": "K4GyUL3vzElw",
        "outputId": "7105e5fa-d5ec-4aba-8377-dc43583b80a8"
      },
      "source": [
        "dados_ml.info()"
      ],
      "execution_count": 51,
      "outputs": [
        {
          "output_type": "stream",
          "text": [
            "<class 'pandas.core.frame.DataFrame'>\n",
            "RangeIndex: 144074 entries, 0 to 144073\n",
            "Data columns (total 9 columns):\n",
            " #   Column               Non-Null Count   Dtype \n",
            "---  ------               --------------   ----- \n",
            " 0   dia                  144074 non-null  int32 \n",
            " 1   mes                  144074 non-null  int32 \n",
            " 2   conclusao            144074 non-null  int64 \n",
            " 3   latitude             144074 non-null  object\n",
            " 4   longitude            144074 non-null  object\n",
            " 5   noite                144074 non-null  int64 \n",
            " 6   bairro_id            144074 non-null  int64 \n",
            " 7   desc_instalacoes_id  144074 non-null  int64 \n",
            " 8   dia_da_semana_id     144074 non-null  int64 \n",
            "dtypes: int32(2), int64(5), object(2)\n",
            "memory usage: 8.8+ MB\n"
          ],
          "name": "stdout"
        }
      ]
    },
    {
      "cell_type": "code",
      "metadata": {
        "id": "2laX7Y4xMIrb"
      },
      "source": [
        "dados_ml['latitude'] = dados_ml['latitude'].astype(float)\n",
        "dados_ml['longitude'] = dados_ml['longitude'].astype(float)"
      ],
      "execution_count": 52,
      "outputs": []
    },
    {
      "cell_type": "code",
      "metadata": {
        "colab": {
          "base_uri": "https://localhost:8080/"
        },
        "id": "zIcIRDbB6Qsh",
        "outputId": "59518126-86dd-4513-91fd-296364532c27"
      },
      "source": [
        "dados_ml['conclusao'].value_counts(normalize=True)"
      ],
      "execution_count": 53,
      "outputs": [
        {
          "output_type": "execute_result",
          "data": {
            "text/plain": [
              "1    0.970189\n",
              "0    0.029811\n",
              "Name: conclusao, dtype: float64"
            ]
          },
          "metadata": {
            "tags": []
          },
          "execution_count": 53
        }
      ]
    },
    {
      "cell_type": "code",
      "metadata": {
        "id": "pmfn0TtNAPKW"
      },
      "source": [
        "X = dados_ml.drop(columns=['conclusao'],axis=1)\n",
        "Y = dados_ml['conclusao']"
      ],
      "execution_count": 54,
      "outputs": []
    },
    {
      "cell_type": "markdown",
      "metadata": {
        "id": "oxX9tZKWu5gt"
      },
      "source": [
        " ### Balanceando os dados."
      ]
    },
    {
      "cell_type": "code",
      "metadata": {
        "colab": {
          "base_uri": "https://localhost:8080/"
        },
        "id": "mNsxLkj5u3_n",
        "outputId": "4e6aa3ad-de26-404b-cfb6-90c4e1b6e263"
      },
      "source": [
        "# from imblearn.under_sampling import NearMiss\n",
        "from imblearn.over_sampling import SMOTE"
      ],
      "execution_count": 55,
      "outputs": [
        {
          "output_type": "stream",
          "text": [
            "/usr/local/lib/python3.7/dist-packages/sklearn/externals/six.py:31: FutureWarning: The module is deprecated in version 0.21 and will be removed in version 0.23 since we've dropped support for Python 2.7. Please rely on the official version of six (https://pypi.org/project/six/).\n",
            "  \"(https://pypi.org/project/six/).\", FutureWarning)\n",
            "/usr/local/lib/python3.7/dist-packages/sklearn/utils/deprecation.py:144: FutureWarning: The sklearn.neighbors.base module is  deprecated in version 0.22 and will be removed in version 0.24. The corresponding classes / functions should instead be imported from sklearn.neighbors. Anything that cannot be imported from sklearn.neighbors is now part of the private API.\n",
            "  warnings.warn(message, FutureWarning)\n"
          ],
          "name": "stderr"
        }
      ]
    },
    {
      "cell_type": "code",
      "metadata": {
        "id": "Elurhsmzu4Mi"
      },
      "source": [
        "s= SMOTE(sampling_strategy=0.5)"
      ],
      "execution_count": 56,
      "outputs": []
    },
    {
      "cell_type": "code",
      "metadata": {
        "colab": {
          "base_uri": "https://localhost:8080/"
        },
        "id": "wCm0G7BPu4Se",
        "outputId": "f5ac769e-087c-4bc9-e493-3151482e1256"
      },
      "source": [
        "X,Y = s.fit_sample(X,Y)"
      ],
      "execution_count": 57,
      "outputs": [
        {
          "output_type": "stream",
          "text": [
            "/usr/local/lib/python3.7/dist-packages/sklearn/utils/deprecation.py:87: FutureWarning: Function safe_indexing is deprecated; safe_indexing is deprecated in version 0.22 and will be removed in version 0.24.\n",
            "  warnings.warn(msg, category=FutureWarning)\n"
          ],
          "name": "stderr"
        }
      ]
    },
    {
      "cell_type": "code",
      "metadata": {
        "colab": {
          "base_uri": "https://localhost:8080/"
        },
        "id": "uli7v5qU0tIx",
        "outputId": "59e397aa-024d-4d22-df3a-a51c62a5c393"
      },
      "source": [
        "np.bincount(Y)"
      ],
      "execution_count": 58,
      "outputs": [
        {
          "output_type": "execute_result",
          "data": {
            "text/plain": [
              "array([ 69889, 139779])"
            ]
          },
          "metadata": {
            "tags": []
          },
          "execution_count": 58
        }
      ]
    },
    {
      "cell_type": "code",
      "metadata": {
        "id": "OArnBYa4AlBi"
      },
      "source": [
        "from sklearn.model_selection import train_test_split"
      ],
      "execution_count": 59,
      "outputs": []
    },
    {
      "cell_type": "code",
      "metadata": {
        "id": "bE-_wkA2Aa8c"
      },
      "source": [
        "X_treino,X_teste,Y_treino,Y_teste = train_test_split(X,Y,test_size=0.2,random_state=42,stratify=Y)"
      ],
      "execution_count": 60,
      "outputs": []
    },
    {
      "cell_type": "markdown",
      "metadata": {
        "id": "3GWmztzKis0a"
      },
      "source": [
        "## 4.2 **Testando algoritmos**"
      ]
    },
    {
      "cell_type": "code",
      "metadata": {
        "colab": {
          "base_uri": "https://localhost:8080/"
        },
        "id": "8BZifqZwLQFR",
        "outputId": "1ffee256-385f-4f41-fd93-86196ff82ca6"
      },
      "source": [
        "from sklearn.dummy import DummyClassifier\n",
        "\n",
        "dummy_clf = DummyClassifier(strategy=\"most_frequent\")\n",
        "dummy_clf.fit(X_treino, Y_treino)\n",
        "y_pred = dummy_clf.predict(X_teste)\n",
        "acuracia = dummy_clf.score(X_teste, Y_teste) * 100\n",
        "\n",
        "print('A acurácia do dummy mostfrequent foi %.2f%%' % acuracia)"
      ],
      "execution_count": 61,
      "outputs": [
        {
          "output_type": "stream",
          "text": [
            "A acurácia do dummy mostfrequent foi 66.67%\n"
          ],
          "name": "stdout"
        }
      ]
    },
    {
      "cell_type": "code",
      "metadata": {
        "colab": {
          "base_uri": "https://localhost:8080/",
          "height": 296
        },
        "id": "jRoKkijpLTWl",
        "outputId": "7ebf0107-3e26-4ea1-a1e7-f3e0323f06a4"
      },
      "source": [
        "from sklearn.metrics import confusion_matrix\n",
        "\n",
        "cm=confusion_matrix(Y_teste, y_pred)\n",
        "sns.heatmap(cm, annot=True, fmt='g')\n",
        "\n",
        "plt.xlabel('Predição( 1 ou 0)')\n",
        "plt.ylabel('Real ( 1 ou 0)')"
      ],
      "execution_count": 62,
      "outputs": [
        {
          "output_type": "execute_result",
          "data": {
            "text/plain": [
              "Text(33.0, 0.5, 'Real ( 1 ou 0)')"
            ]
          },
          "metadata": {
            "tags": []
          },
          "execution_count": 62
        },
        {
          "output_type": "display_data",
          "data": {
            "image/png": "[encoded data removed]",
            "text/plain": [
              "<Figure size 432x288 with 2 Axes>"
            ]
          },
          "metadata": {
            "tags": [],
            "needs_background": "light"
          }
        }
      ]
    },
    {
      "cell_type": "code",
      "metadata": {
        "id": "3KLI-w8j3D6A"
      },
      "source": [
        "y_proba= dummy_clf.predict_proba(X_teste)[:,1]"
      ],
      "execution_count": 63,
      "outputs": []
    },
    {
      "cell_type": "code",
      "metadata": {
        "colab": {
          "base_uri": "https://localhost:8080/"
        },
        "id": "-S8r-OlrLZQC",
        "outputId": "c172b463-7cd0-4b27-f59b-7e2cb3380334"
      },
      "source": [
        "from sklearn.metrics import  roc_auc_score,roc_curve, classification_report\n",
        "from sklearn import metrics\n",
        "\n",
        "y_proba = dummy_clf.predict_proba(X_teste)\n",
        "roc_auc_score(Y_teste, y_proba[:,1])"
      ],
      "execution_count": 64,
      "outputs": [
        {
          "output_type": "execute_result",
          "data": {
            "text/plain": [
              "0.5"
            ]
          },
          "metadata": {
            "tags": []
          },
          "execution_count": 64
        }
      ]
    },
    {
      "cell_type": "code",
      "metadata": {
        "id": "7w_KKTtG2FJ7",
        "colab": {
          "base_uri": "https://localhost:8080/"
        },
        "outputId": "5bcba326-50e9-4344-86ea-fc8a09e4ce6e"
      },
      "source": [
        "print(classification_report(Y_teste, y_pred))"
      ],
      "execution_count": 65,
      "outputs": [
        {
          "output_type": "stream",
          "text": [
            "              precision    recall  f1-score   support\n",
            "\n",
            "           0       0.00      0.00      0.00     13978\n",
            "           1       0.67      1.00      0.80     27956\n",
            "\n",
            "    accuracy                           0.67     41934\n",
            "   macro avg       0.33      0.50      0.40     41934\n",
            "weighted avg       0.44      0.67      0.53     41934\n",
            "\n"
          ],
          "name": "stdout"
        },
        {
          "output_type": "stream",
          "text": [
            "/usr/local/lib/python3.7/dist-packages/sklearn/metrics/_classification.py:1272: UndefinedMetricWarning: Precision and F-score are ill-defined and being set to 0.0 in labels with no predicted samples. Use `zero_division` parameter to control this behavior.\n",
            "  _warn_prf(average, modifier, msg_start, len(result))\n"
          ],
          "name": "stderr"
        }
      ]
    },
    {
      "cell_type": "markdown",
      "metadata": {
        "id": "8NB2swPRjS0X"
      },
      "source": [
        "### **KNNCLassifier**"
      ]
    },
    {
      "cell_type": "code",
      "metadata": {
        "id": "Fc-qA2y_2iYp"
      },
      "source": [
        "from sklearn.neighbors import KNeighborsClassifier\n"
      ],
      "execution_count": 66,
      "outputs": []
    },
    {
      "cell_type": "code",
      "metadata": {
        "id": "-YDfcuyO2if2"
      },
      "source": [
        "knn = KNeighborsClassifier(n_neighbors=1)\n"
      ],
      "execution_count": 67,
      "outputs": []
    },
    {
      "cell_type": "code",
      "metadata": {
        "colab": {
          "base_uri": "https://localhost:8080/"
        },
        "id": "MxO3QHDS2ikt",
        "outputId": "b23039ff-aa92-4f66-f627-c2ce324c7f98"
      },
      "source": [
        "knn.fit(X_treino,Y_treino)"
      ],
      "execution_count": 68,
      "outputs": [
        {
          "output_type": "execute_result",
          "data": {
            "text/plain": [
              "KNeighborsClassifier(algorithm='auto', leaf_size=30, metric='minkowski',\n",
              "                     metric_params=None, n_jobs=None, n_neighbors=1, p=2,\n",
              "                     weights='uniform')"
            ]
          },
          "metadata": {
            "tags": []
          },
          "execution_count": 68
        }
      ]
    },
    {
      "cell_type": "code",
      "metadata": {
        "colab": {
          "base_uri": "https://localhost:8080/"
        },
        "id": "KH4MUJUL2ivg",
        "outputId": "13440de1-8f33-4460-9ae9-120eaa39b0cf"
      },
      "source": [
        "knn.score(X_teste,Y_teste)"
      ],
      "execution_count": 69,
      "outputs": [
        {
          "output_type": "execute_result",
          "data": {
            "text/plain": [
              "0.9374254781323031"
            ]
          },
          "metadata": {
            "tags": []
          },
          "execution_count": 69
        }
      ]
    },
    {
      "cell_type": "code",
      "metadata": {
        "id": "SxwMMWAe2jJ-"
      },
      "source": [
        "y_pred = knn.predict(X_teste)"
      ],
      "execution_count": 70,
      "outputs": []
    },
    {
      "cell_type": "code",
      "metadata": {
        "id": "Rc03E9I04u5t"
      },
      "source": [
        "y_proba = knn.predict_proba(X_teste)[:,1]"
      ],
      "execution_count": 71,
      "outputs": []
    },
    {
      "cell_type": "code",
      "metadata": {
        "colab": {
          "base_uri": "https://localhost:8080/"
        },
        "id": "fnRQtPVp10CC",
        "outputId": "39cc4e42-4250-42b8-a62b-616338ebe555"
      },
      "source": [
        "roc_auc = roc_auc_score(Y_teste, y_proba)\n",
        "roc_auc"
      ],
      "execution_count": 72,
      "outputs": [
        {
          "output_type": "execute_result",
          "data": {
            "text/plain": [
              "0.9411396480183143"
            ]
          },
          "metadata": {
            "tags": []
          },
          "execution_count": 72
        }
      ]
    },
    {
      "cell_type": "code",
      "metadata": {
        "colab": {
          "base_uri": "https://localhost:8080/",
          "height": 296
        },
        "id": "p92cJbry3rgS",
        "outputId": "a46ec5b3-fbeb-4bcb-9980-4f349b74ef74"
      },
      "source": [
        "cm=confusion_matrix(Y_teste, y_proba>0.5)\n",
        "sns.heatmap(cm, annot=True, fmt='g')\n",
        "\n",
        "plt.xlabel('Predição( 1 ou 0)')\n",
        "plt.ylabel('Real ( 1 ou 0)')"
      ],
      "execution_count": 73,
      "outputs": [
        {
          "output_type": "execute_result",
          "data": {
            "text/plain": [
              "Text(33.0, 0.5, 'Real ( 1 ou 0)')"
            ]
          },
          "metadata": {
            "tags": []
          },
          "execution_count": 73
        },
        {
          "output_type": "display_data",
          "data": {
            "image/png": "[encoded data removed]",
            "text/plain": [
              "<Figure size 432x288 with 2 Axes>"
            ]
          },
          "metadata": {
            "tags": [],
            "needs_background": "light"
          }
        }
      ]
    },
    {
      "cell_type": "code",
      "metadata": {
        "id": "CKN_2vqb3rna",
        "colab": {
          "base_uri": "https://localhost:8080/"
        },
        "outputId": "d4b7652e-17db-4c01-d542-4dd8c3e425e4"
      },
      "source": [
        "print(classification_report(Y_teste, y_pred))"
      ],
      "execution_count": 74,
      "outputs": [
        {
          "output_type": "stream",
          "text": [
            "              precision    recall  f1-score   support\n",
            "\n",
            "           0       0.87      0.95      0.91     13978\n",
            "           1       0.97      0.93      0.95     27956\n",
            "\n",
            "    accuracy                           0.94     41934\n",
            "   macro avg       0.92      0.94      0.93     41934\n",
            "weighted avg       0.94      0.94      0.94     41934\n",
            "\n"
          ],
          "name": "stdout"
        }
      ]
    },
    {
      "cell_type": "markdown",
      "metadata": {
        "id": "XKdU_aKDnANf"
      },
      "source": [
        "### Triagem com outros modelos"
      ]
    },
    {
      "cell_type": "code",
      "metadata": {
        "colab": {
          "base_uri": "https://localhost:8080/"
        },
        "id": "cgBcO3TE0U2-",
        "outputId": "1210e9ff-7479-43e1-ae6d-d2cbcc9436c7"
      },
      "source": [
        "from sklearn.linear_model import LogisticRegression\n",
        "from sklearn.tree import DecisionTreeClassifier\n",
        "from sklearn.ensemble import RandomForestClassifier\n",
        "from xgboost import XGBClassifier\n",
        "\n",
        "lista_classificacores = [ LogisticRegression(),\n",
        "                         DecisionTreeClassifier(),\n",
        "                         RandomForestClassifier(),\n",
        "                         XGBClassifier()]\n",
        "\n",
        "for clf in lista_classificacores:\n",
        "  print(clf.__class__.__name__)\n",
        "  clf.fit(X_treino, Y_treino)\n",
        "\n",
        "  print('Acuracia')\n",
        "  train_acc = clf.score(X_treino, Y_treino)\n",
        "  test_acc = clf.score(X_teste, Y_teste)\n",
        "  print('Treino:', train_acc)\n",
        "  print('Teste:', test_acc)\n",
        "\n",
        "  print('ROC AUC')\n",
        "\n",
        "  y_proba_treino = clf.predict_proba(X_treino)\n",
        "  roc_treino = roc_auc_score(Y_treino, y_proba_treino[:, 1])\n",
        "  print('Treino', roc_treino)\n",
        "\n",
        "  y_proba_teste = clf.predict_proba(X_teste)\n",
        "  roc_teste = roc_auc_score(Y_teste, y_proba_teste[:, 1])\n",
        "  print('Test', roc_teste)\n",
        "  print('='*80)"
      ],
      "execution_count": 75,
      "outputs": [
        {
          "output_type": "stream",
          "text": [
            "LogisticRegression\n",
            "Acuracia\n",
            "Treino: 0.6666686539401672\n",
            "Teste: 0.6666666666666666\n",
            "ROC AUC\n",
            "Treino 0.5205267457505893\n",
            "Test 0.5194313510585621\n",
            "================================================================================\n",
            "DecisionTreeClassifier\n",
            "Acuracia\n",
            "Treino: 0.9993978561293476\n",
            "Teste: 0.9410025277817523\n",
            "ROC AUC\n",
            "Treino 0.9999991750818914\n",
            "Test 0.93640821294694\n",
            "================================================================================\n",
            "RandomForestClassifier\n",
            "Acuracia\n",
            "Treino: 0.9993918943088461\n",
            "Teste: 0.9694519959937044\n",
            "ROC AUC\n",
            "Treino 0.9999968955408571\n",
            "Test 0.9855741743546023\n",
            "================================================================================\n",
            "XGBClassifier\n",
            "Acuracia\n",
            "Treino: 0.9238794758367415\n",
            "Teste: 0.9222349406209758\n",
            "ROC AUC\n",
            "Treino 0.9559817973613345\n",
            "Test 0.9527261924237546\n",
            "================================================================================\n"
          ],
          "name": "stdout"
        }
      ]
    },
    {
      "cell_type": "markdown",
      "metadata": {
        "id": "JUOt7_XA-kkM"
      },
      "source": [
        "- Validação cruzada."
      ]
    },
    {
      "cell_type": "code",
      "metadata": {
        "colab": {
          "base_uri": "https://localhost:8080/"
        },
        "id": "xeqhk64bLdpB",
        "outputId": "ac43c5be-d2e9-4f92-cb23-463bba8aa8e3"
      },
      "source": [
        "import warnings\n",
        "warnings.filterwarnings(\"ignore\")\n",
        "\n",
        "from sklearn.model_selection import cross_val_score\n",
        "lista_classificacores = [ LogisticRegression(),\n",
        "                         DecisionTreeClassifier(),\n",
        "                         RandomForestClassifier(),\n",
        "                         XGBClassifier()]\n",
        "\n",
        "\n",
        "for clf in lista_classificacores:\n",
        "  print(clf.__class__.__name__)\n",
        "  clf.fit(X_treino, Y_treino)\n",
        "  train_acc = clf.score(X_treino, Y_treino)\n",
        "  val_score = cross_val_score(clf, X_treino, Y_treino, cv=5)\n",
        "  test_acc = clf.score(X_teste, Y_teste)\n",
        "  print('Treino:', train_acc)\n",
        "  print('Validation score', val_score.mean())\n",
        "  print('Teste:', test_acc)\n",
        "\n",
        "  print('ROC AUC')\n",
        "\n",
        "  y_proba_treino = clf.predict_proba(X_treino)\n",
        "  roc_treino = roc_auc_score(Y_treino, y_proba_treino[:, 1])\n",
        "  print('Treino', roc_treino)\n",
        "\n",
        "  y_proba_teste = clf.predict_proba(X_teste)\n",
        "  roc_teste = roc_auc_score(Y_teste, y_proba_teste[:, 1])\n",
        "  print('Test', roc_teste)\n",
        "  print('='*80)"
      ],
      "execution_count": 76,
      "outputs": [
        {
          "output_type": "stream",
          "text": [
            "LogisticRegression\n",
            "Treino: 0.6666686539401672\n",
            "Validation score 0.6666686539283194\n",
            "Teste: 0.6666666666666666\n",
            "ROC AUC\n",
            "Treino 0.5205267457505893\n",
            "Test 0.5194313510585621\n",
            "================================================================================\n",
            "DecisionTreeClassifier\n",
            "Treino: 0.9993978561293476\n",
            "Validation score 0.937299544510992\n",
            "Teste: 0.9407640578051223\n",
            "ROC AUC\n",
            "Treino 0.9999991750818914\n",
            "Test 0.9360315837566713\n",
            "================================================================================\n",
            "RandomForestClassifier\n",
            "Treino: 0.9993978561293476\n",
            "Validation score 0.9671026811502603\n",
            "Teste: 0.9694043019983785\n",
            "ROC AUC\n",
            "Treino 0.9999963275749428\n",
            "Test 0.985229222449414\n",
            "================================================================================\n",
            "XGBClassifier\n",
            "Treino: 0.9238794758367415\n",
            "Validation score 0.9276175737489781\n",
            "Teste: 0.9222349406209758\n",
            "ROC AUC\n",
            "Treino 0.9559817973613345\n",
            "Test 0.9527261924237546\n",
            "================================================================================\n"
          ],
          "name": "stdout"
        }
      ]
    },
    {
      "cell_type": "markdown",
      "metadata": {
        "id": "AUPt13zgMRW7"
      },
      "source": [
        "### **Ajustando o melhor modelo e avaliando as métricas.**"
      ]
    },
    {
      "cell_type": "code",
      "metadata": {
        "id": "s22_tobhNnnW"
      },
      "source": [
        "clf = RandomForestClassifier(n_estimators=350, max_depth=15)"
      ],
      "execution_count": 77,
      "outputs": []
    },
    {
      "cell_type": "code",
      "metadata": {
        "id": "oMMDsFAhU-ue",
        "colab": {
          "base_uri": "https://localhost:8080/"
        },
        "outputId": "4314b171-af81-4e23-e580-63aae215fb14"
      },
      "source": [
        "clf.fit(X_treino, Y_treino)"
      ],
      "execution_count": 78,
      "outputs": [
        {
          "output_type": "execute_result",
          "data": {
            "text/plain": [
              "RandomForestClassifier(bootstrap=True, ccp_alpha=0.0, class_weight=None,\n",
              "                       criterion='gini', max_depth=15, max_features='auto',\n",
              "                       max_leaf_nodes=None, max_samples=None,\n",
              "                       min_impurity_decrease=0.0, min_impurity_split=None,\n",
              "                       min_samples_leaf=1, min_samples_split=2,\n",
              "                       min_weight_fraction_leaf=0.0, n_estimators=350,\n",
              "                       n_jobs=None, oob_score=False, random_state=None,\n",
              "                       verbose=0, warm_start=False)"
            ]
          },
          "metadata": {
            "tags": []
          },
          "execution_count": 78
        }
      ]
    },
    {
      "cell_type": "code",
      "metadata": {
        "id": "ZS3b81_m9TL7"
      },
      "source": [
        "y_pred = clf.predict(X_teste)"
      ],
      "execution_count": 79,
      "outputs": []
    },
    {
      "cell_type": "markdown",
      "metadata": {
        "id": "tMedK1UI-qK-"
      },
      "source": [
        "- Avaliando as métricas"
      ]
    },
    {
      "cell_type": "code",
      "metadata": {
        "colab": {
          "base_uri": "https://localhost:8080/",
          "height": 296
        },
        "id": "49Ui7Ft7xJrM",
        "outputId": "8ef9233d-30e3-4f0a-81eb-5547709b0dfe"
      },
      "source": [
        "cm=confusion_matrix(Y_teste, y_pred)\n",
        "sns.heatmap(cm, annot=True, fmt='g')\n",
        "\n",
        "plt.xlabel('Predição( 1 ou 0)')\n",
        "plt.ylabel('Real ( 1 ou 0)')"
      ],
      "execution_count": 80,
      "outputs": [
        {
          "output_type": "execute_result",
          "data": {
            "text/plain": [
              "Text(33.0, 0.5, 'Real ( 1 ou 0)')"
            ]
          },
          "metadata": {
            "tags": []
          },
          "execution_count": 80
        },
        {
          "output_type": "display_data",
          "data": {
            "image/png": "[encoded data removed]",
            "text/plain": [
              "<Figure size 432x288 with 2 Axes>"
            ]
          },
          "metadata": {
            "tags": [],
            "needs_background": "light"
          }
        }
      ]
    },
    {
      "cell_type": "code",
      "metadata": {
        "colab": {
          "base_uri": "https://localhost:8080/"
        },
        "id": "iKYmxuju9fD2",
        "outputId": "a419cf43-74e9-4a4b-e171-61f5cc1a6043"
      },
      "source": [
        "print(classification_report(Y_teste, y_pred))"
      ],
      "execution_count": 81,
      "outputs": [
        {
          "output_type": "stream",
          "text": [
            "              precision    recall  f1-score   support\n",
            "\n",
            "           0       0.99      0.72      0.84     13978\n",
            "           1       0.88      1.00      0.93     27956\n",
            "\n",
            "    accuracy                           0.91     41934\n",
            "   macro avg       0.94      0.86      0.89     41934\n",
            "weighted avg       0.92      0.91      0.90     41934\n",
            "\n"
          ],
          "name": "stdout"
        }
      ]
    },
    {
      "cell_type": "code",
      "metadata": {
        "colab": {
          "base_uri": "https://localhost:8080/"
        },
        "id": "3pAIYGNu7pgK",
        "outputId": "bf6c5383-1f84-4d36-b372-835a75a5721a"
      },
      "source": [
        "y_proba = clf.predict_proba(X_teste)[:,1]\n",
        "roc_auc = roc_auc_score(Y_teste, y_proba)\n",
        "roc_auc"
      ],
      "execution_count": 82,
      "outputs": [
        {
          "output_type": "execute_result",
          "data": {
            "text/plain": [
              "0.9675592766107262"
            ]
          },
          "metadata": {
            "tags": []
          },
          "execution_count": 82
        }
      ]
    },
    {
      "cell_type": "code",
      "metadata": {
        "colab": {
          "base_uri": "https://localhost:8080/",
          "height": 295
        },
        "id": "YTgsAUsSKOsa",
        "outputId": "86d122fb-7af2-4aef-bf66-7d6d0942988a"
      },
      "source": [
        "fpr, tpr, thresholds = metrics.roc_curve(Y_teste, y_proba)\n",
        "plt.plot(fpr, tpr)\n",
        "plt.plot([0,1],[0,1], '--')\n",
        "plt.title('ROC curve')\n",
        "plt.xlabel('False Positive Rate')\n",
        "plt.ylabel('True Positive Rate')\n",
        "plt.grid(True)\n",
        "plt.show()"
      ],
      "execution_count": 83,
      "outputs": [
        {
          "output_type": "display_data",
          "data": {
            "image/png": "[encoded data removed]",
            "text/plain": [
              "<Figure size 432x288 with 1 Axes>"
            ]
          },
          "metadata": {
            "tags": [],
            "needs_background": "light"
          }
        }
      ]
    },
    {
      "cell_type": "markdown",
      "metadata": {
        "id": "T4l18GaEFWb5"
      },
      "source": [
        " - Visualizando árvore de decisão de baixa profundidade."
      ]
    },
    {
      "cell_type": "code",
      "metadata": {
        "colab": {
          "base_uri": "https://localhost:8080/",
          "height": 592
        },
        "id": "pH5KkCO9yMRJ",
        "outputId": "37c8f46d-bc79-43bf-a0b1-a28fc89caec2"
      },
      "source": [
        "from sklearn.tree import plot_tree\n",
        "\n",
        "\n",
        "print(f'ROC AUC de Teste é {clf.__class__.__name__} é {roc_auc*100:.2f}%')\n",
        "\n",
        "plt.figure(figsize=(20,10))\n",
        "annotations = plot_tree(clf.estimators_[0],\n",
        "                        feature_names=dados_ml.drop('conclusao',axis=1).columns,\n",
        "                        filled=True)"
      ],
      "execution_count": 84,
      "outputs": [
        {
          "output_type": "stream",
          "text": [
            "ROC AUC de Teste é RandomForestClassifier é 96.76%\n"
          ],
          "name": "stdout"
        },
        {
          "output_type": "display_data",
          "data": {
            "image/png": "[encoded data removed]",
            "text/plain": [
              "<Figure size 1440x720 with 1 Axes>"
            ]
          },
          "metadata": {
            "tags": [],
            "needs_background": "light"
          }
        }
      ]
    },
    {
      "cell_type": "markdown",
      "metadata": {
        "id": "T_I1cpEpGTce"
      },
      "source": [
        " - Salvando o modelo"
      ]
    },
    {
      "cell_type": "code",
      "metadata": {
        "id": "kui_vA2z-GpW"
      },
      "source": [
        "import pickle\n",
        "\n",
        "output = open('classificacao_assalto', 'wb')\n",
        "pickle.dump(clf, output)\n",
        "output.close()"
      ],
      "execution_count": 85,
      "outputs": []
    }
  ]
}